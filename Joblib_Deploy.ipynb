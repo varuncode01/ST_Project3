{
 "cells": [
  {
   "cell_type": "code",
   "execution_count": 7,
   "id": "e1319d29-3471-42ee-876e-d30d66d967f5",
   "metadata": {},
   "outputs": [],
   "source": [
    "import joblib\n",
    "import numpy as np\n",
    "from sklearn.metrics import accuracy_score, classification_report"
   ]
  },
  {
   "cell_type": "code",
   "execution_count": 10,
   "id": "392c1a99-a58c-46c3-becd-860b0c569f77",
   "metadata": {},
   "outputs": [
    {
     "data": {
      "text/plain": [
       "\"\\n[['battery_power_category', 'clock_speed_category', 'fc_category', 'int_memory_category', 'm_dep_category', 'n_cores_category', 'pc_category', \\n  'pixel_area_category', 'screen_area_category', 'ram_category', 'talk_time_category', 'blue', 'dual_sim', 'four_g', 'three_g', 'touch_screen', \\n  'wifi']]\\n\""
      ]
     },
     "execution_count": 10,
     "metadata": {},
     "output_type": "execute_result"
    }
   ],
   "source": [
    "# Inputs\n",
    "\"\"\"\n",
    "[['battery_power_category', 'clock_speed_category', 'fc_category', 'int_memory_category', 'm_dep_category', 'n_cores_category', 'pc_category', \n",
    "  'pixel_area_category', 'screen_area_category', 'ram_category', 'talk_time_category', 'blue', 'dual_sim', 'four_g', 'three_g', 'touch_screen', \n",
    "  'wifi']]\n",
    "\"\"\""
   ]
  },
  {
   "cell_type": "code",
   "execution_count": 8,
   "id": "2a43ef1f-713d-4ef4-a11b-d7a689892444",
   "metadata": {},
   "outputs": [],
   "source": [
    "# Load the saved model\n",
    "model = joblib.load('model.pkl')\n",
    "\n",
    "# Sample inputs (must be in the same order and format as during training)\n",
    "sample_inputs = [\n",
    "    [2, 1, 0, 1, 0, 3, 2, 1, 1, 2, 2, 1, 1, 1, 1, 1, 1],\n",
    "    [1, 0, 0, 2, 1, 4, 2, 2, 2, 3, 3, 1, 0, 1, 0, 1, 0],\n",
    "    [3, 2, 1, 1, 2, 6, 3, 3, 3, 4, 1, 0, 1, 0, 1, 0, 1],\n",
    "    [0, 1, 0, 0, 1, 2, 1, 0, 0, 0, 2, 1, 1, 1, 0, 1, 1],\n",
    "    [1, 2, 2, 3, 2, 8, 4, 3, 3, 5, 4, 0, 1, 1, 1, 0, 1],\n",
    "    [2, 1, 1, 2, 1, 4, 3, 2, 2, 3, 3, 1, 1, 1, 1, 1, 0],\n",
    "    [3, 2, 0, 3, 0, 5, 2, 1, 2, 4, 3, 0, 1, 0, 1, 0, 0],\n",
    "    [2, 0, 1, 1, 1, 3, 1, 0, 1, 2, 2, 1, 0, 1, 0, 1, 1],\n",
    "    [0, 1, 0, 2, 2, 7, 4, 2, 3, 4, 4, 1, 1, 1, 1, 1, 0],\n",
    "    [1, 0, 2, 0, 1, 1, 1, 0, 0, 1, 1, 0, 0, 0, 0, 0, 1],\n",
    "]"
   ]
  },
  {
   "cell_type": "code",
   "execution_count": 9,
   "id": "c1fa7f2e-0a2e-4909-941f-ff408856aefc",
   "metadata": {},
   "outputs": [
    {
     "name": "stdout",
     "output_type": "stream",
     "text": [
      "Sample 1 → Predicted price range: 3\n",
      "Sample 2 → Predicted price range: 3\n",
      "Sample 3 → Predicted price range: 3\n",
      "Sample 4 → Predicted price range: 1\n",
      "Sample 5 → Predicted price range: 3\n",
      "Sample 6 → Predicted price range: 3\n",
      "Sample 7 → Predicted price range: 3\n",
      "Sample 8 → Predicted price range: 3\n",
      "Sample 9 → Predicted price range: 3\n",
      "Sample 10 → Predicted price range: 3\n"
     ]
    }
   ],
   "source": [
    "# Predict and show outputs\n",
    "for i, sample in enumerate(sample_inputs):\n",
    "    pred = model.predict([sample])[0]\n",
    "    print(f\"Sample {i+1} → Predicted price range: {pred}\")\n"
   ]
  },
  {
   "cell_type": "code",
   "execution_count": null,
   "id": "e2a7fab5-ffe0-459a-a6f1-e05e2adcf9f4",
   "metadata": {},
   "outputs": [],
   "source": []
  }
 ],
 "metadata": {
  "kernelspec": {
   "display_name": "Python (torch-gpu)",
   "language": "python",
   "name": "torch-gpu"
  },
  "language_info": {
   "codemirror_mode": {
    "name": "ipython",
    "version": 3
   },
   "file_extension": ".py",
   "mimetype": "text/x-python",
   "name": "python",
   "nbconvert_exporter": "python",
   "pygments_lexer": "ipython3",
   "version": "3.10.18"
  }
 },
 "nbformat": 4,
 "nbformat_minor": 5
}
