{
  "nbformat": 4,
  "nbformat_minor": 0,
  "metadata": {
    "colab": {
      "provenance": [],
      "collapsed_sections": [
        "vncDsAP0Gaoa",
        "FJNUwmbgGyua",
        "w6K7xa23Elo4",
        "yQaldy8SH6Dl",
        "mDgbUHAGgjLW",
        "HhfV-JJviCcP",
        "Y3lxredqlCYt",
        "3RnN4peoiCZX",
        "x71ZqKXriCWQ",
        "7hBIi_osiCS2",
        "JlHwYmJAmNHm",
        "35m5QtbWiB9F",
        "PoPl-ycgm1ru",
        "H0kj-8xxnORC",
        "nA9Y7ga8ng1Z",
        "PBTbrJXOngz2",
        "u3PMJOP6ngxN",
        "dauF4eBmngu3",
        "bKJF3rekwFvQ",
        "MSa1f5Uengrz",
        "GF8Ens_Soomf",
        "0wOQAZs5pc--",
        "K5QZ13OEpz2H",
        "lQ7QKXXCp7Bj",
        "448CDAPjqfQr",
        "KSlN3yHqYklG",
        "t6dVpIINYklI",
        "ijmpgYnKYklI",
        "-JiQyfWJYklI",
        "EM7whBJCYoAo",
        "fge-S5ZAYoAp",
        "85gYPyotYoAp",
        "RoGjAbkUYoAp",
        "4Of9eVA-YrdM",
        "iky9q4vBYrdO",
        "F6T5p64dYrdO",
        "y-Ehk30pYrdP",
        "bamQiAODYuh1",
        "QHF8YVU7Yuh3",
        "GwzvFGzlYuh3",
        "qYpmQ266Yuh3",
        "OH-pJp9IphqM",
        "bbFf2-_FphqN",
        "_ouA3fa0phqN",
        "Seke61FWphqN",
        "PIIx-8_IphqN",
        "t27r6nlMphqO",
        "r2jJGEOYphqO",
        "b0JNsNcRphqO",
        "BZR9WyysphqO",
        "jj7wYXLtphqO",
        "eZrbJ2SmphqO",
        "rFu4xreNphqO",
        "YJ55k-q6phqO",
        "gCFgpxoyphqP",
        "OVtJsKN_phqQ",
        "lssrdh5qphqQ",
        "U2RJ9gkRphqQ",
        "1M8mcRywphqQ",
        "tgIPom80phqQ",
        "JMzcOPDDphqR",
        "x-EpHcCOp1ci",
        "X_VqEhTip1ck",
        "8zGJKyg5p1ck",
        "PVzmfK_Ep1ck",
        "n3dbpmDWp1ck",
        "ylSl6qgtp1ck",
        "ZWILFDl5p1ck",
        "M7G43BXep1ck",
        "Ag9LCva-p1cl",
        "E6MkPsBcp1cl",
        "2cELzS2fp1cl",
        "3MPXvC8up1cl",
        "NC_X3p0fY2L0",
        "UV0SzAkaZNRQ",
        "YPEH6qLeZNRQ",
        "q29F0dvdveiT",
        "EXh0U9oCveiU",
        "22aHeOlLveiV",
        "g-ATYxFrGrvw",
        "Yfr_Vlr8HBkt",
        "8yEUt7NnHlrM",
        "tEA2Xm5dHt1r",
        "I79__PHVH19G",
        "Ou-I18pAyIpj",
        "fF3858GYyt-u",
        "4_0_7-oCpUZd",
        "hwyV_J3ipUZe",
        "3yB-zSqbpUZe",
        "dEUvejAfpUZe",
        "Fd15vwWVpUZf",
        "bn_IUdTipZyH",
        "49K5P_iCpZyH",
        "Nff-vKELpZyI",
        "kLW572S8pZyI",
        "dWbDXHzopZyI",
        "yLjJCtPM0KBk",
        "xiyOF9F70UgQ",
        "7wuGOrhz0itI",
        "id1riN9m0vUs",
        "578E2V7j08f6",
        "89xtkJwZ18nB",
        "67NQN5KX2AMe",
        "Iwf50b-R2tYG",
        "GMQiZwjn3iu7",
        "WVIkgGqN3qsr",
        "XkPnILGE3zoT",
        "Hlsf0x5436Go",
        "mT9DMSJo4nBL",
        "c49ITxTc407N",
        "OeJFEK0N496M",
        "9ExmJH0g5HBk",
        "cJNqERVU536h",
        "k5UmGsbsOxih",
        "T0VqWOYE6DLQ",
        "qBMux9mC6MCf",
        "-oLEiFgy-5Pf",
        "C74aWNz2AliB",
        "2DejudWSA-a0",
        "pEMng2IbBLp7",
        "rAdphbQ9Bhjc",
        "TNVZ9zx19K6k",
        "nqoHp30x9hH9",
        "rMDnDkt2B6du",
        "yiiVWRdJDDil",
        "1UUpS68QDMuG",
        "kexQrXU-DjzY",
        "T5CmagL3EC8N",
        "BhH2vgX9EjGr",
        "qjKvONjwE8ra",
        "P1XJ9OREExlT",
        "VFOzZv6IFROw",
        "TIqpNgepFxVj",
        "OB4l2ZhMeS1U",
        "ArJBuiUVfxKd",
        "4qY1EAkEfxKe",
        "PiV4Ypx8fxKe",
        "TfvqoZmBfxKf",
        "dJ2tPlVmpsJ0",
        "JWYfwnehpsJ1",
        "-jK_YjpMpsJ2",
        "HAih1iBOpsJ2",
        "zVGeBEFhpsJ2",
        "bmKjuQ-FpsJ3",
        "Fze-IPXLpx6K",
        "7AN1z2sKpx6M",
        "9PIHJqyupx6M",
        "_-qAgymDpx6N",
        "Z-hykwinpx6N",
        "h_CCil-SKHpo",
        "cBFFvTBNJzUa",
        "gCX9965dhzqZ",
        "gIfDvo9L0UH2"
      ],
      "include_colab_link": true
    },
    "kernelspec": {
      "name": "python3",
      "display_name": "Python 3"
    },
    "language_info": {
      "name": "python"
    }
  },
  "cells": [
    {
      "cell_type": "markdown",
      "metadata": {
        "id": "view-in-github",
        "colab_type": "text"
      },
      "source": [
        "<a href=\"https://colab.research.google.com/github/varuncode01/ST_Project3/blob/main/ML_Project3.ipynb\" target=\"_parent\"><img src=\"https://colab.research.google.com/assets/colab-badge.svg\" alt=\"Open In Colab\"/></a>"
      ]
    },
    {
      "cell_type": "markdown",
      "source": [
        "# **Project Name**    -\n",
        "\n"
      ],
      "metadata": {
        "id": "vncDsAP0Gaoa"
      }
    },
    {
      "cell_type": "markdown",
      "source": [
        "##### **Project Type**    - Classification\n",
        "##### **Contribution**    - Individual/Team\n",
        "##### **Name**  - Varun Pal"
      ],
      "metadata": {
        "id": "beRrZCGUAJYm"
      }
    },
    {
      "cell_type": "markdown",
      "source": [
        "# **Project Summary -**"
      ],
      "metadata": {
        "id": "FJNUwmbgGyua"
      }
    },
    {
      "cell_type": "markdown",
      "source": [
        "Write the summary here within 500-600 words."
      ],
      "metadata": {
        "id": "F6v_1wHtG2nS"
      }
    },
    {
      "cell_type": "markdown",
      "source": [
        "# **GitHub Link -**"
      ],
      "metadata": {
        "id": "w6K7xa23Elo4"
      }
    },
    {
      "cell_type": "markdown",
      "source": [
        "Provide your GitHub Link here."
      ],
      "metadata": {
        "id": "h1o69JH3Eqqn"
      }
    },
    {
      "cell_type": "markdown",
      "source": [
        "# **Problem Statement**\n"
      ],
      "metadata": {
        "id": "yQaldy8SH6Dl"
      }
    },
    {
      "cell_type": "markdown",
      "source": [
        "**Write Problem Statement Here.**"
      ],
      "metadata": {
        "id": "DpeJGUA3kjGy"
      }
    },
    {
      "cell_type": "markdown",
      "source": [
        "# **General Guidelines** : -  "
      ],
      "metadata": {
        "id": "mDgbUHAGgjLW"
      }
    },
    {
      "cell_type": "markdown",
      "source": [
        "1.   Well-structured, formatted, and commented code is required.\n",
        "2.   Exception Handling, Production Grade Code & Deployment Ready Code will be a plus. Those students will be awarded some additional credits.\n",
        "     \n",
        "     The additional credits will have advantages over other students during Star Student selection.\n",
        "       \n",
        "             [ Note: - Deployment Ready Code is defined as, the whole .ipynb notebook should be executable in one go\n",
        "                       without a single error logged. ]\n",
        "\n",
        "3.   Each and every logic should have proper comments.\n",
        "4. You may add as many number of charts you want. Make Sure for each and every chart the following format should be answered.\n",
        "        \n",
        "\n",
        "```\n",
        "# Chart visualization code\n",
        "```\n",
        "            \n",
        "\n",
        "*   Why did you pick the specific chart?\n",
        "*   What is/are the insight(s) found from the chart?\n",
        "* Will the gained insights help creating a positive business impact?\n",
        "Are there any insights that lead to negative growth? Justify with specific reason.\n",
        "\n",
        "5. You have to create at least 15 logical & meaningful charts having important insights.\n",
        "\n",
        "\n",
        "[ Hints : - Do the Vizualization in  a structured way while following \"UBM\" Rule.\n",
        "\n",
        "U - Univariate Analysis,\n",
        "\n",
        "B - Bivariate Analysis (Numerical - Categorical, Numerical - Numerical, Categorical - Categorical)\n",
        "\n",
        "M - Multivariate Analysis\n",
        " ]\n",
        "\n",
        "\n",
        "\n",
        "\n",
        "\n",
        "6. You may add more ml algorithms for model creation. Make sure for each and every algorithm, the following format should be answered.\n",
        "\n",
        "\n",
        "*   Explain the ML Model used and it's performance using Evaluation metric Score Chart.\n",
        "\n",
        "\n",
        "*   Cross- Validation & Hyperparameter Tuning\n",
        "\n",
        "*   Have you seen any improvement? Note down the improvement with updates Evaluation metric Score Chart.\n",
        "\n",
        "*   Explain each evaluation metric's indication towards business and the business impact pf the ML model used.\n",
        "\n",
        "\n",
        "\n",
        "\n",
        "\n",
        "\n",
        "\n",
        "\n",
        "\n",
        "\n",
        "\n",
        "\n",
        "\n",
        "\n",
        "\n",
        "\n",
        "\n",
        "\n"
      ],
      "metadata": {
        "id": "ZrxVaUj-hHfC"
      }
    },
    {
      "cell_type": "markdown",
      "source": [
        "# ***Let's Begin !***"
      ],
      "metadata": {
        "id": "O_i_v8NEhb9l"
      }
    },
    {
      "cell_type": "markdown",
      "source": [
        "## ***1. Know Your Data***"
      ],
      "metadata": {
        "id": "HhfV-JJviCcP"
      }
    },
    {
      "cell_type": "markdown",
      "source": [
        "### Import Libraries"
      ],
      "metadata": {
        "id": "Y3lxredqlCYt"
      }
    },
    {
      "cell_type": "code",
      "source": [
        "# Import Libraries\n",
        "import pandas as pd\n",
        "import numpy as np\n",
        "import matplotlib.pyplot as plt\n",
        "import seaborn as sns"
      ],
      "metadata": {
        "id": "M8Vqi-pPk-HR"
      },
      "execution_count": null,
      "outputs": []
    },
    {
      "cell_type": "markdown",
      "source": [
        "### Dataset Loading"
      ],
      "metadata": {
        "id": "3RnN4peoiCZX"
      }
    },
    {
      "cell_type": "code",
      "source": [
        "# connect to google drive\n",
        "from google.colab import drive\n",
        "drive.mount('/content/drive')"
      ],
      "metadata": {
        "id": "4CkvbW_SlZ_R",
        "colab": {
          "base_uri": "https://localhost:8080/"
        },
        "outputId": "ef6bac23-4fa8-4546-8754-feeedf949df9"
      },
      "execution_count": null,
      "outputs": [
        {
          "output_type": "stream",
          "name": "stdout",
          "text": [
            "Mounted at /content/drive\n"
          ]
        }
      ]
    },
    {
      "cell_type": "code",
      "source": [
        "# Load Dataset\n",
        "df = pd.read_csv('/content/drive/MyDrive/Colab Notebooks/Mobile_Price_Prediction_Project2/data_mobile_price_range.csv')"
      ],
      "metadata": {
        "id": "wVd1rCLqcf7U"
      },
      "execution_count": null,
      "outputs": []
    },
    {
      "cell_type": "markdown",
      "source": [
        "### Dataset First View"
      ],
      "metadata": {
        "id": "x71ZqKXriCWQ"
      }
    },
    {
      "cell_type": "code",
      "source": [
        "# Dataset First Look\n",
        "df.head()"
      ],
      "metadata": {
        "id": "LWNFOSvLl09H",
        "colab": {
          "base_uri": "https://localhost:8080/",
          "height": 236
        },
        "outputId": "e394744f-400e-448c-9ae9-4e561efe8881"
      },
      "execution_count": null,
      "outputs": [
        {
          "output_type": "execute_result",
          "data": {
            "text/plain": [
              "   battery_power  blue  clock_speed  dual_sim  fc  four_g  int_memory  m_dep  \\\n",
              "0            842     0          2.2         0   1       0           7    0.6   \n",
              "1           1021     1          0.5         1   0       1          53    0.7   \n",
              "2            563     1          0.5         1   2       1          41    0.9   \n",
              "3            615     1          2.5         0   0       0          10    0.8   \n",
              "4           1821     1          1.2         0  13       1          44    0.6   \n",
              "\n",
              "   mobile_wt  n_cores  ...  px_height  px_width   ram  sc_h  sc_w  talk_time  \\\n",
              "0        188        2  ...         20       756  2549     9     7         19   \n",
              "1        136        3  ...        905      1988  2631    17     3          7   \n",
              "2        145        5  ...       1263      1716  2603    11     2          9   \n",
              "3        131        6  ...       1216      1786  2769    16     8         11   \n",
              "4        141        2  ...       1208      1212  1411     8     2         15   \n",
              "\n",
              "   three_g  touch_screen  wifi  price_range  \n",
              "0        0             0     1            1  \n",
              "1        1             1     0            2  \n",
              "2        1             1     0            2  \n",
              "3        1             0     0            2  \n",
              "4        1             1     0            1  \n",
              "\n",
              "[5 rows x 21 columns]"
            ],
            "text/html": [
              "\n",
              "  <div id=\"df-079edf90-3b56-49bd-b228-c4ff02c3f311\" class=\"colab-df-container\">\n",
              "    <div>\n",
              "<style scoped>\n",
              "    .dataframe tbody tr th:only-of-type {\n",
              "        vertical-align: middle;\n",
              "    }\n",
              "\n",
              "    .dataframe tbody tr th {\n",
              "        vertical-align: top;\n",
              "    }\n",
              "\n",
              "    .dataframe thead th {\n",
              "        text-align: right;\n",
              "    }\n",
              "</style>\n",
              "<table border=\"1\" class=\"dataframe\">\n",
              "  <thead>\n",
              "    <tr style=\"text-align: right;\">\n",
              "      <th></th>\n",
              "      <th>battery_power</th>\n",
              "      <th>blue</th>\n",
              "      <th>clock_speed</th>\n",
              "      <th>dual_sim</th>\n",
              "      <th>fc</th>\n",
              "      <th>four_g</th>\n",
              "      <th>int_memory</th>\n",
              "      <th>m_dep</th>\n",
              "      <th>mobile_wt</th>\n",
              "      <th>n_cores</th>\n",
              "      <th>...</th>\n",
              "      <th>px_height</th>\n",
              "      <th>px_width</th>\n",
              "      <th>ram</th>\n",
              "      <th>sc_h</th>\n",
              "      <th>sc_w</th>\n",
              "      <th>talk_time</th>\n",
              "      <th>three_g</th>\n",
              "      <th>touch_screen</th>\n",
              "      <th>wifi</th>\n",
              "      <th>price_range</th>\n",
              "    </tr>\n",
              "  </thead>\n",
              "  <tbody>\n",
              "    <tr>\n",
              "      <th>0</th>\n",
              "      <td>842</td>\n",
              "      <td>0</td>\n",
              "      <td>2.2</td>\n",
              "      <td>0</td>\n",
              "      <td>1</td>\n",
              "      <td>0</td>\n",
              "      <td>7</td>\n",
              "      <td>0.6</td>\n",
              "      <td>188</td>\n",
              "      <td>2</td>\n",
              "      <td>...</td>\n",
              "      <td>20</td>\n",
              "      <td>756</td>\n",
              "      <td>2549</td>\n",
              "      <td>9</td>\n",
              "      <td>7</td>\n",
              "      <td>19</td>\n",
              "      <td>0</td>\n",
              "      <td>0</td>\n",
              "      <td>1</td>\n",
              "      <td>1</td>\n",
              "    </tr>\n",
              "    <tr>\n",
              "      <th>1</th>\n",
              "      <td>1021</td>\n",
              "      <td>1</td>\n",
              "      <td>0.5</td>\n",
              "      <td>1</td>\n",
              "      <td>0</td>\n",
              "      <td>1</td>\n",
              "      <td>53</td>\n",
              "      <td>0.7</td>\n",
              "      <td>136</td>\n",
              "      <td>3</td>\n",
              "      <td>...</td>\n",
              "      <td>905</td>\n",
              "      <td>1988</td>\n",
              "      <td>2631</td>\n",
              "      <td>17</td>\n",
              "      <td>3</td>\n",
              "      <td>7</td>\n",
              "      <td>1</td>\n",
              "      <td>1</td>\n",
              "      <td>0</td>\n",
              "      <td>2</td>\n",
              "    </tr>\n",
              "    <tr>\n",
              "      <th>2</th>\n",
              "      <td>563</td>\n",
              "      <td>1</td>\n",
              "      <td>0.5</td>\n",
              "      <td>1</td>\n",
              "      <td>2</td>\n",
              "      <td>1</td>\n",
              "      <td>41</td>\n",
              "      <td>0.9</td>\n",
              "      <td>145</td>\n",
              "      <td>5</td>\n",
              "      <td>...</td>\n",
              "      <td>1263</td>\n",
              "      <td>1716</td>\n",
              "      <td>2603</td>\n",
              "      <td>11</td>\n",
              "      <td>2</td>\n",
              "      <td>9</td>\n",
              "      <td>1</td>\n",
              "      <td>1</td>\n",
              "      <td>0</td>\n",
              "      <td>2</td>\n",
              "    </tr>\n",
              "    <tr>\n",
              "      <th>3</th>\n",
              "      <td>615</td>\n",
              "      <td>1</td>\n",
              "      <td>2.5</td>\n",
              "      <td>0</td>\n",
              "      <td>0</td>\n",
              "      <td>0</td>\n",
              "      <td>10</td>\n",
              "      <td>0.8</td>\n",
              "      <td>131</td>\n",
              "      <td>6</td>\n",
              "      <td>...</td>\n",
              "      <td>1216</td>\n",
              "      <td>1786</td>\n",
              "      <td>2769</td>\n",
              "      <td>16</td>\n",
              "      <td>8</td>\n",
              "      <td>11</td>\n",
              "      <td>1</td>\n",
              "      <td>0</td>\n",
              "      <td>0</td>\n",
              "      <td>2</td>\n",
              "    </tr>\n",
              "    <tr>\n",
              "      <th>4</th>\n",
              "      <td>1821</td>\n",
              "      <td>1</td>\n",
              "      <td>1.2</td>\n",
              "      <td>0</td>\n",
              "      <td>13</td>\n",
              "      <td>1</td>\n",
              "      <td>44</td>\n",
              "      <td>0.6</td>\n",
              "      <td>141</td>\n",
              "      <td>2</td>\n",
              "      <td>...</td>\n",
              "      <td>1208</td>\n",
              "      <td>1212</td>\n",
              "      <td>1411</td>\n",
              "      <td>8</td>\n",
              "      <td>2</td>\n",
              "      <td>15</td>\n",
              "      <td>1</td>\n",
              "      <td>1</td>\n",
              "      <td>0</td>\n",
              "      <td>1</td>\n",
              "    </tr>\n",
              "  </tbody>\n",
              "</table>\n",
              "<p>5 rows × 21 columns</p>\n",
              "</div>\n",
              "    <div class=\"colab-df-buttons\">\n",
              "\n",
              "  <div class=\"colab-df-container\">\n",
              "    <button class=\"colab-df-convert\" onclick=\"convertToInteractive('df-079edf90-3b56-49bd-b228-c4ff02c3f311')\"\n",
              "            title=\"Convert this dataframe to an interactive table.\"\n",
              "            style=\"display:none;\">\n",
              "\n",
              "  <svg xmlns=\"http://www.w3.org/2000/svg\" height=\"24px\" viewBox=\"0 -960 960 960\">\n",
              "    <path d=\"M120-120v-720h720v720H120Zm60-500h600v-160H180v160Zm220 220h160v-160H400v160Zm0 220h160v-160H400v160ZM180-400h160v-160H180v160Zm440 0h160v-160H620v160ZM180-180h160v-160H180v160Zm440 0h160v-160H620v160Z\"/>\n",
              "  </svg>\n",
              "    </button>\n",
              "\n",
              "  <style>\n",
              "    .colab-df-container {\n",
              "      display:flex;\n",
              "      gap: 12px;\n",
              "    }\n",
              "\n",
              "    .colab-df-convert {\n",
              "      background-color: #E8F0FE;\n",
              "      border: none;\n",
              "      border-radius: 50%;\n",
              "      cursor: pointer;\n",
              "      display: none;\n",
              "      fill: #1967D2;\n",
              "      height: 32px;\n",
              "      padding: 0 0 0 0;\n",
              "      width: 32px;\n",
              "    }\n",
              "\n",
              "    .colab-df-convert:hover {\n",
              "      background-color: #E2EBFA;\n",
              "      box-shadow: 0px 1px 2px rgba(60, 64, 67, 0.3), 0px 1px 3px 1px rgba(60, 64, 67, 0.15);\n",
              "      fill: #174EA6;\n",
              "    }\n",
              "\n",
              "    .colab-df-buttons div {\n",
              "      margin-bottom: 4px;\n",
              "    }\n",
              "\n",
              "    [theme=dark] .colab-df-convert {\n",
              "      background-color: #3B4455;\n",
              "      fill: #D2E3FC;\n",
              "    }\n",
              "\n",
              "    [theme=dark] .colab-df-convert:hover {\n",
              "      background-color: #434B5C;\n",
              "      box-shadow: 0px 1px 3px 1px rgba(0, 0, 0, 0.15);\n",
              "      filter: drop-shadow(0px 1px 2px rgba(0, 0, 0, 0.3));\n",
              "      fill: #FFFFFF;\n",
              "    }\n",
              "  </style>\n",
              "\n",
              "    <script>\n",
              "      const buttonEl =\n",
              "        document.querySelector('#df-079edf90-3b56-49bd-b228-c4ff02c3f311 button.colab-df-convert');\n",
              "      buttonEl.style.display =\n",
              "        google.colab.kernel.accessAllowed ? 'block' : 'none';\n",
              "\n",
              "      async function convertToInteractive(key) {\n",
              "        const element = document.querySelector('#df-079edf90-3b56-49bd-b228-c4ff02c3f311');\n",
              "        const dataTable =\n",
              "          await google.colab.kernel.invokeFunction('convertToInteractive',\n",
              "                                                    [key], {});\n",
              "        if (!dataTable) return;\n",
              "\n",
              "        const docLinkHtml = 'Like what you see? Visit the ' +\n",
              "          '<a target=\"_blank\" href=https://colab.research.google.com/notebooks/data_table.ipynb>data table notebook</a>'\n",
              "          + ' to learn more about interactive tables.';\n",
              "        element.innerHTML = '';\n",
              "        dataTable['output_type'] = 'display_data';\n",
              "        await google.colab.output.renderOutput(dataTable, element);\n",
              "        const docLink = document.createElement('div');\n",
              "        docLink.innerHTML = docLinkHtml;\n",
              "        element.appendChild(docLink);\n",
              "      }\n",
              "    </script>\n",
              "  </div>\n",
              "\n",
              "\n",
              "    <div id=\"df-271837f0-79a6-4387-be4a-36eecb25973d\">\n",
              "      <button class=\"colab-df-quickchart\" onclick=\"quickchart('df-271837f0-79a6-4387-be4a-36eecb25973d')\"\n",
              "                title=\"Suggest charts\"\n",
              "                style=\"display:none;\">\n",
              "\n",
              "<svg xmlns=\"http://www.w3.org/2000/svg\" height=\"24px\"viewBox=\"0 0 24 24\"\n",
              "     width=\"24px\">\n",
              "    <g>\n",
              "        <path d=\"M19 3H5c-1.1 0-2 .9-2 2v14c0 1.1.9 2 2 2h14c1.1 0 2-.9 2-2V5c0-1.1-.9-2-2-2zM9 17H7v-7h2v7zm4 0h-2V7h2v10zm4 0h-2v-4h2v4z\"/>\n",
              "    </g>\n",
              "</svg>\n",
              "      </button>\n",
              "\n",
              "<style>\n",
              "  .colab-df-quickchart {\n",
              "      --bg-color: #E8F0FE;\n",
              "      --fill-color: #1967D2;\n",
              "      --hover-bg-color: #E2EBFA;\n",
              "      --hover-fill-color: #174EA6;\n",
              "      --disabled-fill-color: #AAA;\n",
              "      --disabled-bg-color: #DDD;\n",
              "  }\n",
              "\n",
              "  [theme=dark] .colab-df-quickchart {\n",
              "      --bg-color: #3B4455;\n",
              "      --fill-color: #D2E3FC;\n",
              "      --hover-bg-color: #434B5C;\n",
              "      --hover-fill-color: #FFFFFF;\n",
              "      --disabled-bg-color: #3B4455;\n",
              "      --disabled-fill-color: #666;\n",
              "  }\n",
              "\n",
              "  .colab-df-quickchart {\n",
              "    background-color: var(--bg-color);\n",
              "    border: none;\n",
              "    border-radius: 50%;\n",
              "    cursor: pointer;\n",
              "    display: none;\n",
              "    fill: var(--fill-color);\n",
              "    height: 32px;\n",
              "    padding: 0;\n",
              "    width: 32px;\n",
              "  }\n",
              "\n",
              "  .colab-df-quickchart:hover {\n",
              "    background-color: var(--hover-bg-color);\n",
              "    box-shadow: 0 1px 2px rgba(60, 64, 67, 0.3), 0 1px 3px 1px rgba(60, 64, 67, 0.15);\n",
              "    fill: var(--button-hover-fill-color);\n",
              "  }\n",
              "\n",
              "  .colab-df-quickchart-complete:disabled,\n",
              "  .colab-df-quickchart-complete:disabled:hover {\n",
              "    background-color: var(--disabled-bg-color);\n",
              "    fill: var(--disabled-fill-color);\n",
              "    box-shadow: none;\n",
              "  }\n",
              "\n",
              "  .colab-df-spinner {\n",
              "    border: 2px solid var(--fill-color);\n",
              "    border-color: transparent;\n",
              "    border-bottom-color: var(--fill-color);\n",
              "    animation:\n",
              "      spin 1s steps(1) infinite;\n",
              "  }\n",
              "\n",
              "  @keyframes spin {\n",
              "    0% {\n",
              "      border-color: transparent;\n",
              "      border-bottom-color: var(--fill-color);\n",
              "      border-left-color: var(--fill-color);\n",
              "    }\n",
              "    20% {\n",
              "      border-color: transparent;\n",
              "      border-left-color: var(--fill-color);\n",
              "      border-top-color: var(--fill-color);\n",
              "    }\n",
              "    30% {\n",
              "      border-color: transparent;\n",
              "      border-left-color: var(--fill-color);\n",
              "      border-top-color: var(--fill-color);\n",
              "      border-right-color: var(--fill-color);\n",
              "    }\n",
              "    40% {\n",
              "      border-color: transparent;\n",
              "      border-right-color: var(--fill-color);\n",
              "      border-top-color: var(--fill-color);\n",
              "    }\n",
              "    60% {\n",
              "      border-color: transparent;\n",
              "      border-right-color: var(--fill-color);\n",
              "    }\n",
              "    80% {\n",
              "      border-color: transparent;\n",
              "      border-right-color: var(--fill-color);\n",
              "      border-bottom-color: var(--fill-color);\n",
              "    }\n",
              "    90% {\n",
              "      border-color: transparent;\n",
              "      border-bottom-color: var(--fill-color);\n",
              "    }\n",
              "  }\n",
              "</style>\n",
              "\n",
              "      <script>\n",
              "        async function quickchart(key) {\n",
              "          const quickchartButtonEl =\n",
              "            document.querySelector('#' + key + ' button');\n",
              "          quickchartButtonEl.disabled = true;  // To prevent multiple clicks.\n",
              "          quickchartButtonEl.classList.add('colab-df-spinner');\n",
              "          try {\n",
              "            const charts = await google.colab.kernel.invokeFunction(\n",
              "                'suggestCharts', [key], {});\n",
              "          } catch (error) {\n",
              "            console.error('Error during call to suggestCharts:', error);\n",
              "          }\n",
              "          quickchartButtonEl.classList.remove('colab-df-spinner');\n",
              "          quickchartButtonEl.classList.add('colab-df-quickchart-complete');\n",
              "        }\n",
              "        (() => {\n",
              "          let quickchartButtonEl =\n",
              "            document.querySelector('#df-271837f0-79a6-4387-be4a-36eecb25973d button');\n",
              "          quickchartButtonEl.style.display =\n",
              "            google.colab.kernel.accessAllowed ? 'block' : 'none';\n",
              "        })();\n",
              "      </script>\n",
              "    </div>\n",
              "\n",
              "    </div>\n",
              "  </div>\n"
            ],
            "application/vnd.google.colaboratory.intrinsic+json": {
              "type": "dataframe",
              "variable_name": "df"
            }
          },
          "metadata": {},
          "execution_count": 4
        }
      ]
    },
    {
      "cell_type": "markdown",
      "source": [
        "### Dataset Rows & Columns count"
      ],
      "metadata": {
        "id": "7hBIi_osiCS2"
      }
    },
    {
      "cell_type": "code",
      "source": [
        "# Dataset Rows & Columns count\n",
        "df.shape"
      ],
      "metadata": {
        "id": "Kllu7SJgmLij",
        "colab": {
          "base_uri": "https://localhost:8080/"
        },
        "outputId": "03e0df0c-86cb-4217-f4c7-d15a9e0f5d72"
      },
      "execution_count": null,
      "outputs": [
        {
          "output_type": "execute_result",
          "data": {
            "text/plain": [
              "(2000, 21)"
            ]
          },
          "metadata": {},
          "execution_count": 5
        }
      ]
    },
    {
      "cell_type": "markdown",
      "source": [
        "### Dataset Information"
      ],
      "metadata": {
        "id": "JlHwYmJAmNHm"
      }
    },
    {
      "cell_type": "code",
      "source": [
        "# Dataset Info\n",
        "df.info()"
      ],
      "metadata": {
        "id": "e9hRXRi6meOf",
        "colab": {
          "base_uri": "https://localhost:8080/"
        },
        "outputId": "f792c7d0-8e94-4787-8ffe-84c5160dfab0"
      },
      "execution_count": null,
      "outputs": [
        {
          "output_type": "stream",
          "name": "stdout",
          "text": [
            "<class 'pandas.core.frame.DataFrame'>\n",
            "RangeIndex: 2000 entries, 0 to 1999\n",
            "Data columns (total 21 columns):\n",
            " #   Column         Non-Null Count  Dtype  \n",
            "---  ------         --------------  -----  \n",
            " 0   battery_power  2000 non-null   int64  \n",
            " 1   blue           2000 non-null   int64  \n",
            " 2   clock_speed    2000 non-null   float64\n",
            " 3   dual_sim       2000 non-null   int64  \n",
            " 4   fc             2000 non-null   int64  \n",
            " 5   four_g         2000 non-null   int64  \n",
            " 6   int_memory     2000 non-null   int64  \n",
            " 7   m_dep          2000 non-null   float64\n",
            " 8   mobile_wt      2000 non-null   int64  \n",
            " 9   n_cores        2000 non-null   int64  \n",
            " 10  pc             2000 non-null   int64  \n",
            " 11  px_height      2000 non-null   int64  \n",
            " 12  px_width       2000 non-null   int64  \n",
            " 13  ram            2000 non-null   int64  \n",
            " 14  sc_h           2000 non-null   int64  \n",
            " 15  sc_w           2000 non-null   int64  \n",
            " 16  talk_time      2000 non-null   int64  \n",
            " 17  three_g        2000 non-null   int64  \n",
            " 18  touch_screen   2000 non-null   int64  \n",
            " 19  wifi           2000 non-null   int64  \n",
            " 20  price_range    2000 non-null   int64  \n",
            "dtypes: float64(2), int64(19)\n",
            "memory usage: 328.3 KB\n"
          ]
        }
      ]
    },
    {
      "cell_type": "markdown",
      "source": [
        "#### Duplicate Values"
      ],
      "metadata": {
        "id": "35m5QtbWiB9F"
      }
    },
    {
      "cell_type": "code",
      "source": [
        "# Dataset Duplicate Value Count\n",
        "df.value_counts()"
      ],
      "metadata": {
        "id": "1sLdpKYkmox0",
        "colab": {
          "base_uri": "https://localhost:8080/"
        },
        "outputId": "8cc63523-7a76-4e8f-d78b-955dfd48ec93"
      },
      "execution_count": null,
      "outputs": [
        {
          "output_type": "execute_result",
          "data": {
            "text/plain": [
              "battery_power  blue  clock_speed  dual_sim  fc  four_g  int_memory  m_dep  mobile_wt  n_cores  pc  px_height  px_width  ram   sc_h  sc_w  talk_time  three_g  touch_screen  wifi  price_range\n",
              "1989           1     2.9          1         8   0       17          0.1    193        8        15  629        682       2369  7     0     18         1        1             0     2              1\n",
              "               0     2.5          1         0   1       41          0.8    94         3        13  1100       1497      1665  17    9     12         1        1             1     2              1\n",
              "1988           1     0.5          0         0   1       16          0.1    94         8        1   153        696       3144  16    2     14         1        0             0     3              1\n",
              "1987           1     1.9          0         0   0       50          0.7    119        8        18  960        1925      857   12    4     6          1        1             0     1              1\n",
              "                     0.5          0         3   1       53          1.0    181        3        7   1052       1516      3117  18    5     8          1        1             1     3              1\n",
              "                                                                                                                                                                                                ..\n",
              "503            0     1.2          1         5   1       8           0.4    111        3        13  201        1245      2583  11    0     12         1        0             0     1              1\n",
              "502            0     1.5          1         7   0       37          0.2    199        2        12  705        1810      1649  6     1     14         0        1             0     1              1\n",
              "                     0.8          0         7   0       52          1.0    82         6        8   281        1159      2666  5     4     20         1        1             0     2              1\n",
              "501            1     0.5          1         14  0       22          0.5    174        6        20  239        1636      3077  17    3     17         0        0             0     2              1\n",
              "               0     2.3          0         12  1       54          0.3    131        4        19  504        1089      2346  13    12    2          1        0             1     1              1\n",
              "Name: count, Length: 2000, dtype: int64"
            ],
            "text/html": [
              "<div>\n",
              "<style scoped>\n",
              "    .dataframe tbody tr th:only-of-type {\n",
              "        vertical-align: middle;\n",
              "    }\n",
              "\n",
              "    .dataframe tbody tr th {\n",
              "        vertical-align: top;\n",
              "    }\n",
              "\n",
              "    .dataframe thead th {\n",
              "        text-align: right;\n",
              "    }\n",
              "</style>\n",
              "<table border=\"1\" class=\"dataframe\">\n",
              "  <thead>\n",
              "    <tr style=\"text-align: right;\">\n",
              "      <th></th>\n",
              "      <th></th>\n",
              "      <th></th>\n",
              "      <th></th>\n",
              "      <th></th>\n",
              "      <th></th>\n",
              "      <th></th>\n",
              "      <th></th>\n",
              "      <th></th>\n",
              "      <th></th>\n",
              "      <th></th>\n",
              "      <th></th>\n",
              "      <th></th>\n",
              "      <th></th>\n",
              "      <th></th>\n",
              "      <th></th>\n",
              "      <th></th>\n",
              "      <th></th>\n",
              "      <th></th>\n",
              "      <th></th>\n",
              "      <th></th>\n",
              "      <th>count</th>\n",
              "    </tr>\n",
              "    <tr>\n",
              "      <th>battery_power</th>\n",
              "      <th>blue</th>\n",
              "      <th>clock_speed</th>\n",
              "      <th>dual_sim</th>\n",
              "      <th>fc</th>\n",
              "      <th>four_g</th>\n",
              "      <th>int_memory</th>\n",
              "      <th>m_dep</th>\n",
              "      <th>mobile_wt</th>\n",
              "      <th>n_cores</th>\n",
              "      <th>pc</th>\n",
              "      <th>px_height</th>\n",
              "      <th>px_width</th>\n",
              "      <th>ram</th>\n",
              "      <th>sc_h</th>\n",
              "      <th>sc_w</th>\n",
              "      <th>talk_time</th>\n",
              "      <th>three_g</th>\n",
              "      <th>touch_screen</th>\n",
              "      <th>wifi</th>\n",
              "      <th>price_range</th>\n",
              "      <th></th>\n",
              "    </tr>\n",
              "  </thead>\n",
              "  <tbody>\n",
              "    <tr>\n",
              "      <th rowspan=\"2\" valign=\"top\">1989</th>\n",
              "      <th>1</th>\n",
              "      <th>2.9</th>\n",
              "      <th>1</th>\n",
              "      <th>8</th>\n",
              "      <th>0</th>\n",
              "      <th>17</th>\n",
              "      <th>0.1</th>\n",
              "      <th>193</th>\n",
              "      <th>8</th>\n",
              "      <th>15</th>\n",
              "      <th>629</th>\n",
              "      <th>682</th>\n",
              "      <th>2369</th>\n",
              "      <th>7</th>\n",
              "      <th>0</th>\n",
              "      <th>18</th>\n",
              "      <th>1</th>\n",
              "      <th>1</th>\n",
              "      <th>0</th>\n",
              "      <th>2</th>\n",
              "      <td>1</td>\n",
              "    </tr>\n",
              "    <tr>\n",
              "      <th>0</th>\n",
              "      <th>2.5</th>\n",
              "      <th>1</th>\n",
              "      <th>0</th>\n",
              "      <th>1</th>\n",
              "      <th>41</th>\n",
              "      <th>0.8</th>\n",
              "      <th>94</th>\n",
              "      <th>3</th>\n",
              "      <th>13</th>\n",
              "      <th>1100</th>\n",
              "      <th>1497</th>\n",
              "      <th>1665</th>\n",
              "      <th>17</th>\n",
              "      <th>9</th>\n",
              "      <th>12</th>\n",
              "      <th>1</th>\n",
              "      <th>1</th>\n",
              "      <th>1</th>\n",
              "      <th>2</th>\n",
              "      <td>1</td>\n",
              "    </tr>\n",
              "    <tr>\n",
              "      <th>1988</th>\n",
              "      <th>1</th>\n",
              "      <th>0.5</th>\n",
              "      <th>0</th>\n",
              "      <th>0</th>\n",
              "      <th>1</th>\n",
              "      <th>16</th>\n",
              "      <th>0.1</th>\n",
              "      <th>94</th>\n",
              "      <th>8</th>\n",
              "      <th>1</th>\n",
              "      <th>153</th>\n",
              "      <th>696</th>\n",
              "      <th>3144</th>\n",
              "      <th>16</th>\n",
              "      <th>2</th>\n",
              "      <th>14</th>\n",
              "      <th>1</th>\n",
              "      <th>0</th>\n",
              "      <th>0</th>\n",
              "      <th>3</th>\n",
              "      <td>1</td>\n",
              "    </tr>\n",
              "    <tr>\n",
              "      <th rowspan=\"2\" valign=\"top\">1987</th>\n",
              "      <th rowspan=\"2\" valign=\"top\">1</th>\n",
              "      <th>1.9</th>\n",
              "      <th>0</th>\n",
              "      <th>0</th>\n",
              "      <th>0</th>\n",
              "      <th>50</th>\n",
              "      <th>0.7</th>\n",
              "      <th>119</th>\n",
              "      <th>8</th>\n",
              "      <th>18</th>\n",
              "      <th>960</th>\n",
              "      <th>1925</th>\n",
              "      <th>857</th>\n",
              "      <th>12</th>\n",
              "      <th>4</th>\n",
              "      <th>6</th>\n",
              "      <th>1</th>\n",
              "      <th>1</th>\n",
              "      <th>0</th>\n",
              "      <th>1</th>\n",
              "      <td>1</td>\n",
              "    </tr>\n",
              "    <tr>\n",
              "      <th>0.5</th>\n",
              "      <th>0</th>\n",
              "      <th>3</th>\n",
              "      <th>1</th>\n",
              "      <th>53</th>\n",
              "      <th>1.0</th>\n",
              "      <th>181</th>\n",
              "      <th>3</th>\n",
              "      <th>7</th>\n",
              "      <th>1052</th>\n",
              "      <th>1516</th>\n",
              "      <th>3117</th>\n",
              "      <th>18</th>\n",
              "      <th>5</th>\n",
              "      <th>8</th>\n",
              "      <th>1</th>\n",
              "      <th>1</th>\n",
              "      <th>1</th>\n",
              "      <th>3</th>\n",
              "      <td>1</td>\n",
              "    </tr>\n",
              "    <tr>\n",
              "      <th>...</th>\n",
              "      <th>...</th>\n",
              "      <th>...</th>\n",
              "      <th>...</th>\n",
              "      <th>...</th>\n",
              "      <th>...</th>\n",
              "      <th>...</th>\n",
              "      <th>...</th>\n",
              "      <th>...</th>\n",
              "      <th>...</th>\n",
              "      <th>...</th>\n",
              "      <th>...</th>\n",
              "      <th>...</th>\n",
              "      <th>...</th>\n",
              "      <th>...</th>\n",
              "      <th>...</th>\n",
              "      <th>...</th>\n",
              "      <th>...</th>\n",
              "      <th>...</th>\n",
              "      <th>...</th>\n",
              "      <th>...</th>\n",
              "      <td>...</td>\n",
              "    </tr>\n",
              "    <tr>\n",
              "      <th>503</th>\n",
              "      <th>0</th>\n",
              "      <th>1.2</th>\n",
              "      <th>1</th>\n",
              "      <th>5</th>\n",
              "      <th>1</th>\n",
              "      <th>8</th>\n",
              "      <th>0.4</th>\n",
              "      <th>111</th>\n",
              "      <th>3</th>\n",
              "      <th>13</th>\n",
              "      <th>201</th>\n",
              "      <th>1245</th>\n",
              "      <th>2583</th>\n",
              "      <th>11</th>\n",
              "      <th>0</th>\n",
              "      <th>12</th>\n",
              "      <th>1</th>\n",
              "      <th>0</th>\n",
              "      <th>0</th>\n",
              "      <th>1</th>\n",
              "      <td>1</td>\n",
              "    </tr>\n",
              "    <tr>\n",
              "      <th rowspan=\"2\" valign=\"top\">502</th>\n",
              "      <th rowspan=\"2\" valign=\"top\">0</th>\n",
              "      <th>1.5</th>\n",
              "      <th>1</th>\n",
              "      <th>7</th>\n",
              "      <th>0</th>\n",
              "      <th>37</th>\n",
              "      <th>0.2</th>\n",
              "      <th>199</th>\n",
              "      <th>2</th>\n",
              "      <th>12</th>\n",
              "      <th>705</th>\n",
              "      <th>1810</th>\n",
              "      <th>1649</th>\n",
              "      <th>6</th>\n",
              "      <th>1</th>\n",
              "      <th>14</th>\n",
              "      <th>0</th>\n",
              "      <th>1</th>\n",
              "      <th>0</th>\n",
              "      <th>1</th>\n",
              "      <td>1</td>\n",
              "    </tr>\n",
              "    <tr>\n",
              "      <th>0.8</th>\n",
              "      <th>0</th>\n",
              "      <th>7</th>\n",
              "      <th>0</th>\n",
              "      <th>52</th>\n",
              "      <th>1.0</th>\n",
              "      <th>82</th>\n",
              "      <th>6</th>\n",
              "      <th>8</th>\n",
              "      <th>281</th>\n",
              "      <th>1159</th>\n",
              "      <th>2666</th>\n",
              "      <th>5</th>\n",
              "      <th>4</th>\n",
              "      <th>20</th>\n",
              "      <th>1</th>\n",
              "      <th>1</th>\n",
              "      <th>0</th>\n",
              "      <th>2</th>\n",
              "      <td>1</td>\n",
              "    </tr>\n",
              "    <tr>\n",
              "      <th rowspan=\"2\" valign=\"top\">501</th>\n",
              "      <th>1</th>\n",
              "      <th>0.5</th>\n",
              "      <th>1</th>\n",
              "      <th>14</th>\n",
              "      <th>0</th>\n",
              "      <th>22</th>\n",
              "      <th>0.5</th>\n",
              "      <th>174</th>\n",
              "      <th>6</th>\n",
              "      <th>20</th>\n",
              "      <th>239</th>\n",
              "      <th>1636</th>\n",
              "      <th>3077</th>\n",
              "      <th>17</th>\n",
              "      <th>3</th>\n",
              "      <th>17</th>\n",
              "      <th>0</th>\n",
              "      <th>0</th>\n",
              "      <th>0</th>\n",
              "      <th>2</th>\n",
              "      <td>1</td>\n",
              "    </tr>\n",
              "    <tr>\n",
              "      <th>0</th>\n",
              "      <th>2.3</th>\n",
              "      <th>0</th>\n",
              "      <th>12</th>\n",
              "      <th>1</th>\n",
              "      <th>54</th>\n",
              "      <th>0.3</th>\n",
              "      <th>131</th>\n",
              "      <th>4</th>\n",
              "      <th>19</th>\n",
              "      <th>504</th>\n",
              "      <th>1089</th>\n",
              "      <th>2346</th>\n",
              "      <th>13</th>\n",
              "      <th>12</th>\n",
              "      <th>2</th>\n",
              "      <th>1</th>\n",
              "      <th>0</th>\n",
              "      <th>1</th>\n",
              "      <th>1</th>\n",
              "      <td>1</td>\n",
              "    </tr>\n",
              "  </tbody>\n",
              "</table>\n",
              "<p>2000 rows × 1 columns</p>\n",
              "</div><br><label><b>dtype:</b> int64</label>"
            ]
          },
          "metadata": {},
          "execution_count": 7
        }
      ]
    },
    {
      "cell_type": "markdown",
      "source": [
        "#### Missing Values/Null Values"
      ],
      "metadata": {
        "id": "PoPl-ycgm1ru"
      }
    },
    {
      "cell_type": "code",
      "source": [
        "# Missing Values/Null Values Count\n",
        "df.isnull().sum()"
      ],
      "metadata": {
        "id": "GgHWkxvamxVg",
        "colab": {
          "base_uri": "https://localhost:8080/"
        },
        "outputId": "7e8d9318-d835-448d-b22a-d28840f690a2"
      },
      "execution_count": null,
      "outputs": [
        {
          "output_type": "execute_result",
          "data": {
            "text/plain": [
              "battery_power    0\n",
              "blue             0\n",
              "clock_speed      0\n",
              "dual_sim         0\n",
              "fc               0\n",
              "four_g           0\n",
              "int_memory       0\n",
              "m_dep            0\n",
              "mobile_wt        0\n",
              "n_cores          0\n",
              "pc               0\n",
              "px_height        0\n",
              "px_width         0\n",
              "ram              0\n",
              "sc_h             0\n",
              "sc_w             0\n",
              "talk_time        0\n",
              "three_g          0\n",
              "touch_screen     0\n",
              "wifi             0\n",
              "price_range      0\n",
              "dtype: int64"
            ],
            "text/html": [
              "<div>\n",
              "<style scoped>\n",
              "    .dataframe tbody tr th:only-of-type {\n",
              "        vertical-align: middle;\n",
              "    }\n",
              "\n",
              "    .dataframe tbody tr th {\n",
              "        vertical-align: top;\n",
              "    }\n",
              "\n",
              "    .dataframe thead th {\n",
              "        text-align: right;\n",
              "    }\n",
              "</style>\n",
              "<table border=\"1\" class=\"dataframe\">\n",
              "  <thead>\n",
              "    <tr style=\"text-align: right;\">\n",
              "      <th></th>\n",
              "      <th>0</th>\n",
              "    </tr>\n",
              "  </thead>\n",
              "  <tbody>\n",
              "    <tr>\n",
              "      <th>battery_power</th>\n",
              "      <td>0</td>\n",
              "    </tr>\n",
              "    <tr>\n",
              "      <th>blue</th>\n",
              "      <td>0</td>\n",
              "    </tr>\n",
              "    <tr>\n",
              "      <th>clock_speed</th>\n",
              "      <td>0</td>\n",
              "    </tr>\n",
              "    <tr>\n",
              "      <th>dual_sim</th>\n",
              "      <td>0</td>\n",
              "    </tr>\n",
              "    <tr>\n",
              "      <th>fc</th>\n",
              "      <td>0</td>\n",
              "    </tr>\n",
              "    <tr>\n",
              "      <th>four_g</th>\n",
              "      <td>0</td>\n",
              "    </tr>\n",
              "    <tr>\n",
              "      <th>int_memory</th>\n",
              "      <td>0</td>\n",
              "    </tr>\n",
              "    <tr>\n",
              "      <th>m_dep</th>\n",
              "      <td>0</td>\n",
              "    </tr>\n",
              "    <tr>\n",
              "      <th>mobile_wt</th>\n",
              "      <td>0</td>\n",
              "    </tr>\n",
              "    <tr>\n",
              "      <th>n_cores</th>\n",
              "      <td>0</td>\n",
              "    </tr>\n",
              "    <tr>\n",
              "      <th>pc</th>\n",
              "      <td>0</td>\n",
              "    </tr>\n",
              "    <tr>\n",
              "      <th>px_height</th>\n",
              "      <td>0</td>\n",
              "    </tr>\n",
              "    <tr>\n",
              "      <th>px_width</th>\n",
              "      <td>0</td>\n",
              "    </tr>\n",
              "    <tr>\n",
              "      <th>ram</th>\n",
              "      <td>0</td>\n",
              "    </tr>\n",
              "    <tr>\n",
              "      <th>sc_h</th>\n",
              "      <td>0</td>\n",
              "    </tr>\n",
              "    <tr>\n",
              "      <th>sc_w</th>\n",
              "      <td>0</td>\n",
              "    </tr>\n",
              "    <tr>\n",
              "      <th>talk_time</th>\n",
              "      <td>0</td>\n",
              "    </tr>\n",
              "    <tr>\n",
              "      <th>three_g</th>\n",
              "      <td>0</td>\n",
              "    </tr>\n",
              "    <tr>\n",
              "      <th>touch_screen</th>\n",
              "      <td>0</td>\n",
              "    </tr>\n",
              "    <tr>\n",
              "      <th>wifi</th>\n",
              "      <td>0</td>\n",
              "    </tr>\n",
              "    <tr>\n",
              "      <th>price_range</th>\n",
              "      <td>0</td>\n",
              "    </tr>\n",
              "  </tbody>\n",
              "</table>\n",
              "</div><br><label><b>dtype:</b> int64</label>"
            ]
          },
          "metadata": {},
          "execution_count": 8
        }
      ]
    },
    {
      "cell_type": "code",
      "source": [
        "# Visualizing the missing values\n",
        "sns.heatmap(df.isnull(),cbar=False)"
      ],
      "metadata": {
        "id": "3q5wnI3om9sJ",
        "colab": {
          "base_uri": "https://localhost:8080/"
        },
        "outputId": "81dae291-15e9-486d-d167-6548446fca48"
      },
      "execution_count": null,
      "outputs": [
        {
          "output_type": "execute_result",
          "data": {
            "text/plain": [
              "<Axes: >"
            ]
          },
          "metadata": {},
          "execution_count": 9
        },
        {
          "output_type": "display_data",
          "data": {
            "text/plain": [
              "<Figure size 640x480 with 1 Axes>"
            ],
            "image/png": "[encoded data removed]"
          },
          "metadata": {}
        }
      ]
    },
    {
      "cell_type": "markdown",
      "source": [
        "### What did you know about your dataset?"
      ],
      "metadata": {
        "id": "H0kj-8xxnORC"
      }
    },
    {
      "cell_type": "markdown",
      "source": [
        "Currently there are no null values in dataset"
      ],
      "metadata": {
        "id": "gfoNAAC-nUe_"
      }
    },
    {
      "cell_type": "markdown",
      "source": [
        "## ***2. Understanding Your Variables***"
      ],
      "metadata": {
        "id": "nA9Y7ga8ng1Z"
      }
    },
    {
      "cell_type": "code",
      "source": [
        "# Dataset Columns\n",
        "df.columns"
      ],
      "metadata": {
        "id": "j7xfkqrt5Ag5",
        "colab": {
          "base_uri": "https://localhost:8080/"
        },
        "outputId": "135969e3-ccaa-4b72-88e1-bb60dd23f9e5"
      },
      "execution_count": null,
      "outputs": [
        {
          "output_type": "execute_result",
          "data": {
            "text/plain": [
              "Index(['battery_power', 'blue', 'clock_speed', 'dual_sim', 'fc', 'four_g',\n",
              "       'int_memory', 'm_dep', 'mobile_wt', 'n_cores', 'pc', 'px_height',\n",
              "       'px_width', 'ram', 'sc_h', 'sc_w', 'talk_time', 'three_g',\n",
              "       'touch_screen', 'wifi', 'price_range'],\n",
              "      dtype='object')"
            ]
          },
          "metadata": {},
          "execution_count": 10
        }
      ]
    },
    {
      "cell_type": "code",
      "source": [
        "# Dataset Describe\n",
        "df.describe().T"
      ],
      "metadata": {
        "id": "DnOaZdaE5Q5t",
        "colab": {
          "base_uri": "https://localhost:8080/",
          "height": 708
        },
        "outputId": "79141fb7-a664-45fc-a81f-54e131307deb"
      },
      "execution_count": null,
      "outputs": [
        {
          "output_type": "execute_result",
          "data": {
            "text/plain": [
              "                count        mean          std    min      25%     50%  \\\n",
              "battery_power  2000.0  1238.51850   439.418206  501.0   851.75  1226.0   \n",
              "blue           2000.0     0.49500     0.500100    0.0     0.00     0.0   \n",
              "clock_speed    2000.0     1.52225     0.816004    0.5     0.70     1.5   \n",
              "dual_sim       2000.0     0.50950     0.500035    0.0     0.00     1.0   \n",
              "fc             2000.0     4.30950     4.341444    0.0     1.00     3.0   \n",
              "four_g         2000.0     0.52150     0.499662    0.0     0.00     1.0   \n",
              "int_memory     2000.0    32.04650    18.145715    2.0    16.00    32.0   \n",
              "m_dep          2000.0     0.50175     0.288416    0.1     0.20     0.5   \n",
              "mobile_wt      2000.0   140.24900    35.399655   80.0   109.00   141.0   \n",
              "n_cores        2000.0     4.52050     2.287837    1.0     3.00     4.0   \n",
              "pc             2000.0     9.91650     6.064315    0.0     5.00    10.0   \n",
              "px_height      2000.0   645.10800   443.780811    0.0   282.75   564.0   \n",
              "px_width       2000.0  1251.51550   432.199447  500.0   874.75  1247.0   \n",
              "ram            2000.0  2124.21300  1084.732044  256.0  1207.50  2146.5   \n",
              "sc_h           2000.0    12.30650     4.213245    5.0     9.00    12.0   \n",
              "sc_w           2000.0     5.76700     4.356398    0.0     2.00     5.0   \n",
              "talk_time      2000.0    11.01100     5.463955    2.0     6.00    11.0   \n",
              "three_g        2000.0     0.76150     0.426273    0.0     1.00     1.0   \n",
              "touch_screen   2000.0     0.50300     0.500116    0.0     0.00     1.0   \n",
              "wifi           2000.0     0.50700     0.500076    0.0     0.00     1.0   \n",
              "price_range    2000.0     1.50000     1.118314    0.0     0.75     1.5   \n",
              "\n",
              "                   75%     max  \n",
              "battery_power  1615.25  1998.0  \n",
              "blue              1.00     1.0  \n",
              "clock_speed       2.20     3.0  \n",
              "dual_sim          1.00     1.0  \n",
              "fc                7.00    19.0  \n",
              "four_g            1.00     1.0  \n",
              "int_memory       48.00    64.0  \n",
              "m_dep             0.80     1.0  \n",
              "mobile_wt       170.00   200.0  \n",
              "n_cores           7.00     8.0  \n",
              "pc               15.00    20.0  \n",
              "px_height       947.25  1960.0  \n",
              "px_width       1633.00  1998.0  \n",
              "ram            3064.50  3998.0  \n",
              "sc_h             16.00    19.0  \n",
              "sc_w              9.00    18.0  \n",
              "talk_time        16.00    20.0  \n",
              "three_g           1.00     1.0  \n",
              "touch_screen      1.00     1.0  \n",
              "wifi              1.00     1.0  \n",
              "price_range       2.25     3.0  "
            ],
            "text/html": [
              "\n",
              "  <div id=\"df-dfd2d2d6-2452-423c-b8f9-218dfe642ce9\" class=\"colab-df-container\">\n",
              "    <div>\n",
              "<style scoped>\n",
              "    .dataframe tbody tr th:only-of-type {\n",
              "        vertical-align: middle;\n",
              "    }\n",
              "\n",
              "    .dataframe tbody tr th {\n",
              "        vertical-align: top;\n",
              "    }\n",
              "\n",
              "    .dataframe thead th {\n",
              "        text-align: right;\n",
              "    }\n",
              "</style>\n",
              "<table border=\"1\" class=\"dataframe\">\n",
              "  <thead>\n",
              "    <tr style=\"text-align: right;\">\n",
              "      <th></th>\n",
              "      <th>count</th>\n",
              "      <th>mean</th>\n",
              "      <th>std</th>\n",
              "      <th>min</th>\n",
              "      <th>25%</th>\n",
              "      <th>50%</th>\n",
              "      <th>75%</th>\n",
              "      <th>max</th>\n",
              "    </tr>\n",
              "  </thead>\n",
              "  <tbody>\n",
              "    <tr>\n",
              "      <th>battery_power</th>\n",
              "      <td>2000.0</td>\n",
              "      <td>1238.51850</td>\n",
              "      <td>439.418206</td>\n",
              "      <td>501.0</td>\n",
              "      <td>851.75</td>\n",
              "      <td>1226.0</td>\n",
              "      <td>1615.25</td>\n",
              "      <td>1998.0</td>\n",
              "    </tr>\n",
              "    <tr>\n",
              "      <th>blue</th>\n",
              "      <td>2000.0</td>\n",
              "      <td>0.49500</td>\n",
              "      <td>0.500100</td>\n",
              "      <td>0.0</td>\n",
              "      <td>0.00</td>\n",
              "      <td>0.0</td>\n",
              "      <td>1.00</td>\n",
              "      <td>1.0</td>\n",
              "    </tr>\n",
              "    <tr>\n",
              "      <th>clock_speed</th>\n",
              "      <td>2000.0</td>\n",
              "      <td>1.52225</td>\n",
              "      <td>0.816004</td>\n",
              "      <td>0.5</td>\n",
              "      <td>0.70</td>\n",
              "      <td>1.5</td>\n",
              "      <td>2.20</td>\n",
              "      <td>3.0</td>\n",
              "    </tr>\n",
              "    <tr>\n",
              "      <th>dual_sim</th>\n",
              "      <td>2000.0</td>\n",
              "      <td>0.50950</td>\n",
              "      <td>0.500035</td>\n",
              "      <td>0.0</td>\n",
              "      <td>0.00</td>\n",
              "      <td>1.0</td>\n",
              "      <td>1.00</td>\n",
              "      <td>1.0</td>\n",
              "    </tr>\n",
              "    <tr>\n",
              "      <th>fc</th>\n",
              "      <td>2000.0</td>\n",
              "      <td>4.30950</td>\n",
              "      <td>4.341444</td>\n",
              "      <td>0.0</td>\n",
              "      <td>1.00</td>\n",
              "      <td>3.0</td>\n",
              "      <td>7.00</td>\n",
              "      <td>19.0</td>\n",
              "    </tr>\n",
              "    <tr>\n",
              "      <th>four_g</th>\n",
              "      <td>2000.0</td>\n",
              "      <td>0.52150</td>\n",
              "      <td>0.499662</td>\n",
              "      <td>0.0</td>\n",
              "      <td>0.00</td>\n",
              "      <td>1.0</td>\n",
              "      <td>1.00</td>\n",
              "      <td>1.0</td>\n",
              "    </tr>\n",
              "    <tr>\n",
              "      <th>int_memory</th>\n",
              "      <td>2000.0</td>\n",
              "      <td>32.04650</td>\n",
              "      <td>18.145715</td>\n",
              "      <td>2.0</td>\n",
              "      <td>16.00</td>\n",
              "      <td>32.0</td>\n",
              "      <td>48.00</td>\n",
              "      <td>64.0</td>\n",
              "    </tr>\n",
              "    <tr>\n",
              "      <th>m_dep</th>\n",
              "      <td>2000.0</td>\n",
              "      <td>0.50175</td>\n",
              "      <td>0.288416</td>\n",
              "      <td>0.1</td>\n",
              "      <td>0.20</td>\n",
              "      <td>0.5</td>\n",
              "      <td>0.80</td>\n",
              "      <td>1.0</td>\n",
              "    </tr>\n",
              "    <tr>\n",
              "      <th>mobile_wt</th>\n",
              "      <td>2000.0</td>\n",
              "      <td>140.24900</td>\n",
              "      <td>35.399655</td>\n",
              "      <td>80.0</td>\n",
              "      <td>109.00</td>\n",
              "      <td>141.0</td>\n",
              "      <td>170.00</td>\n",
              "      <td>200.0</td>\n",
              "    </tr>\n",
              "    <tr>\n",
              "      <th>n_cores</th>\n",
              "      <td>2000.0</td>\n",
              "      <td>4.52050</td>\n",
              "      <td>2.287837</td>\n",
              "      <td>1.0</td>\n",
              "      <td>3.00</td>\n",
              "      <td>4.0</td>\n",
              "      <td>7.00</td>\n",
              "      <td>8.0</td>\n",
              "    </tr>\n",
              "    <tr>\n",
              "      <th>pc</th>\n",
              "      <td>2000.0</td>\n",
              "      <td>9.91650</td>\n",
              "      <td>6.064315</td>\n",
              "      <td>0.0</td>\n",
              "      <td>5.00</td>\n",
              "      <td>10.0</td>\n",
              "      <td>15.00</td>\n",
              "      <td>20.0</td>\n",
              "    </tr>\n",
              "    <tr>\n",
              "      <th>px_height</th>\n",
              "      <td>2000.0</td>\n",
              "      <td>645.10800</td>\n",
              "      <td>443.780811</td>\n",
              "      <td>0.0</td>\n",
              "      <td>282.75</td>\n",
              "      <td>564.0</td>\n",
              "      <td>947.25</td>\n",
              "      <td>1960.0</td>\n",
              "    </tr>\n",
              "    <tr>\n",
              "      <th>px_width</th>\n",
              "      <td>2000.0</td>\n",
              "      <td>1251.51550</td>\n",
              "      <td>432.199447</td>\n",
              "      <td>500.0</td>\n",
              "      <td>874.75</td>\n",
              "      <td>1247.0</td>\n",
              "      <td>1633.00</td>\n",
              "      <td>1998.0</td>\n",
              "    </tr>\n",
              "    <tr>\n",
              "      <th>ram</th>\n",
              "      <td>2000.0</td>\n",
              "      <td>2124.21300</td>\n",
              "      <td>1084.732044</td>\n",
              "      <td>256.0</td>\n",
              "      <td>1207.50</td>\n",
              "      <td>2146.5</td>\n",
              "      <td>3064.50</td>\n",
              "      <td>3998.0</td>\n",
              "    </tr>\n",
              "    <tr>\n",
              "      <th>sc_h</th>\n",
              "      <td>2000.0</td>\n",
              "      <td>12.30650</td>\n",
              "      <td>4.213245</td>\n",
              "      <td>5.0</td>\n",
              "      <td>9.00</td>\n",
              "      <td>12.0</td>\n",
              "      <td>16.00</td>\n",
              "      <td>19.0</td>\n",
              "    </tr>\n",
              "    <tr>\n",
              "      <th>sc_w</th>\n",
              "      <td>2000.0</td>\n",
              "      <td>5.76700</td>\n",
              "      <td>4.356398</td>\n",
              "      <td>0.0</td>\n",
              "      <td>2.00</td>\n",
              "      <td>5.0</td>\n",
              "      <td>9.00</td>\n",
              "      <td>18.0</td>\n",
              "    </tr>\n",
              "    <tr>\n",
              "      <th>talk_time</th>\n",
              "      <td>2000.0</td>\n",
              "      <td>11.01100</td>\n",
              "      <td>5.463955</td>\n",
              "      <td>2.0</td>\n",
              "      <td>6.00</td>\n",
              "      <td>11.0</td>\n",
              "      <td>16.00</td>\n",
              "      <td>20.0</td>\n",
              "    </tr>\n",
              "    <tr>\n",
              "      <th>three_g</th>\n",
              "      <td>2000.0</td>\n",
              "      <td>0.76150</td>\n",
              "      <td>0.426273</td>\n",
              "      <td>0.0</td>\n",
              "      <td>1.00</td>\n",
              "      <td>1.0</td>\n",
              "      <td>1.00</td>\n",
              "      <td>1.0</td>\n",
              "    </tr>\n",
              "    <tr>\n",
              "      <th>touch_screen</th>\n",
              "      <td>2000.0</td>\n",
              "      <td>0.50300</td>\n",
              "      <td>0.500116</td>\n",
              "      <td>0.0</td>\n",
              "      <td>0.00</td>\n",
              "      <td>1.0</td>\n",
              "      <td>1.00</td>\n",
              "      <td>1.0</td>\n",
              "    </tr>\n",
              "    <tr>\n",
              "      <th>wifi</th>\n",
              "      <td>2000.0</td>\n",
              "      <td>0.50700</td>\n",
              "      <td>0.500076</td>\n",
              "      <td>0.0</td>\n",
              "      <td>0.00</td>\n",
              "      <td>1.0</td>\n",
              "      <td>1.00</td>\n",
              "      <td>1.0</td>\n",
              "    </tr>\n",
              "    <tr>\n",
              "      <th>price_range</th>\n",
              "      <td>2000.0</td>\n",
              "      <td>1.50000</td>\n",
              "      <td>1.118314</td>\n",
              "      <td>0.0</td>\n",
              "      <td>0.75</td>\n",
              "      <td>1.5</td>\n",
              "      <td>2.25</td>\n",
              "      <td>3.0</td>\n",
              "    </tr>\n",
              "  </tbody>\n",
              "</table>\n",
              "</div>\n",
              "    <div class=\"colab-df-buttons\">\n",
              "\n",
              "  <div class=\"colab-df-container\">\n",
              "    <button class=\"colab-df-convert\" onclick=\"convertToInteractive('df-dfd2d2d6-2452-423c-b8f9-218dfe642ce9')\"\n",
              "            title=\"Convert this dataframe to an interactive table.\"\n",
              "            style=\"display:none;\">\n",
              "\n",
              "  <svg xmlns=\"http://www.w3.org/2000/svg\" height=\"24px\" viewBox=\"0 -960 960 960\">\n",
              "    <path d=\"M120-120v-720h720v720H120Zm60-500h600v-160H180v160Zm220 220h160v-160H400v160Zm0 220h160v-160H400v160ZM180-400h160v-160H180v160Zm440 0h160v-160H620v160ZM180-180h160v-160H180v160Zm440 0h160v-160H620v160Z\"/>\n",
              "  </svg>\n",
              "    </button>\n",
              "\n",
              "  <style>\n",
              "    .colab-df-container {\n",
              "      display:flex;\n",
              "      gap: 12px;\n",
              "    }\n",
              "\n",
              "    .colab-df-convert {\n",
              "      background-color: #E8F0FE;\n",
              "      border: none;\n",
              "      border-radius: 50%;\n",
              "      cursor: pointer;\n",
              "      display: none;\n",
              "      fill: #1967D2;\n",
              "      height: 32px;\n",
              "      padding: 0 0 0 0;\n",
              "      width: 32px;\n",
              "    }\n",
              "\n",
              "    .colab-df-convert:hover {\n",
              "      background-color: #E2EBFA;\n",
              "      box-shadow: 0px 1px 2px rgba(60, 64, 67, 0.3), 0px 1px 3px 1px rgba(60, 64, 67, 0.15);\n",
              "      fill: #174EA6;\n",
              "    }\n",
              "\n",
              "    .colab-df-buttons div {\n",
              "      margin-bottom: 4px;\n",
              "    }\n",
              "\n",
              "    [theme=dark] .colab-df-convert {\n",
              "      background-color: #3B4455;\n",
              "      fill: #D2E3FC;\n",
              "    }\n",
              "\n",
              "    [theme=dark] .colab-df-convert:hover {\n",
              "      background-color: #434B5C;\n",
              "      box-shadow: 0px 1px 3px 1px rgba(0, 0, 0, 0.15);\n",
              "      filter: drop-shadow(0px 1px 2px rgba(0, 0, 0, 0.3));\n",
              "      fill: #FFFFFF;\n",
              "    }\n",
              "  </style>\n",
              "\n",
              "    <script>\n",
              "      const buttonEl =\n",
              "        document.querySelector('#df-dfd2d2d6-2452-423c-b8f9-218dfe642ce9 button.colab-df-convert');\n",
              "      buttonEl.style.display =\n",
              "        google.colab.kernel.accessAllowed ? 'block' : 'none';\n",
              "\n",
              "      async function convertToInteractive(key) {\n",
              "        const element = document.querySelector('#df-dfd2d2d6-2452-423c-b8f9-218dfe642ce9');\n",
              "        const dataTable =\n",
              "          await google.colab.kernel.invokeFunction('convertToInteractive',\n",
              "                                                    [key], {});\n",
              "        if (!dataTable) return;\n",
              "\n",
              "        const docLinkHtml = 'Like what you see? Visit the ' +\n",
              "          '<a target=\"_blank\" href=https://colab.research.google.com/notebooks/data_table.ipynb>data table notebook</a>'\n",
              "          + ' to learn more about interactive tables.';\n",
              "        element.innerHTML = '';\n",
              "        dataTable['output_type'] = 'display_data';\n",
              "        await google.colab.output.renderOutput(dataTable, element);\n",
              "        const docLink = document.createElement('div');\n",
              "        docLink.innerHTML = docLinkHtml;\n",
              "        element.appendChild(docLink);\n",
              "      }\n",
              "    </script>\n",
              "  </div>\n",
              "\n",
              "\n",
              "    <div id=\"df-d81dc5dc-713f-4819-a9f7-be2bc717d8aa\">\n",
              "      <button class=\"colab-df-quickchart\" onclick=\"quickchart('df-d81dc5dc-713f-4819-a9f7-be2bc717d8aa')\"\n",
              "                title=\"Suggest charts\"\n",
              "                style=\"display:none;\">\n",
              "\n",
              "<svg xmlns=\"http://www.w3.org/2000/svg\" height=\"24px\"viewBox=\"0 0 24 24\"\n",
              "     width=\"24px\">\n",
              "    <g>\n",
              "        <path d=\"M19 3H5c-1.1 0-2 .9-2 2v14c0 1.1.9 2 2 2h14c1.1 0 2-.9 2-2V5c0-1.1-.9-2-2-2zM9 17H7v-7h2v7zm4 0h-2V7h2v10zm4 0h-2v-4h2v4z\"/>\n",
              "    </g>\n",
              "</svg>\n",
              "      </button>\n",
              "\n",
              "<style>\n",
              "  .colab-df-quickchart {\n",
              "      --bg-color: #E8F0FE;\n",
              "      --fill-color: #1967D2;\n",
              "      --hover-bg-color: #E2EBFA;\n",
              "      --hover-fill-color: #174EA6;\n",
              "      --disabled-fill-color: #AAA;\n",
              "      --disabled-bg-color: #DDD;\n",
              "  }\n",
              "\n",
              "  [theme=dark] .colab-df-quickchart {\n",
              "      --bg-color: #3B4455;\n",
              "      --fill-color: #D2E3FC;\n",
              "      --hover-bg-color: #434B5C;\n",
              "      --hover-fill-color: #FFFFFF;\n",
              "      --disabled-bg-color: #3B4455;\n",
              "      --disabled-fill-color: #666;\n",
              "  }\n",
              "\n",
              "  .colab-df-quickchart {\n",
              "    background-color: var(--bg-color);\n",
              "    border: none;\n",
              "    border-radius: 50%;\n",
              "    cursor: pointer;\n",
              "    display: none;\n",
              "    fill: var(--fill-color);\n",
              "    height: 32px;\n",
              "    padding: 0;\n",
              "    width: 32px;\n",
              "  }\n",
              "\n",
              "  .colab-df-quickchart:hover {\n",
              "    background-color: var(--hover-bg-color);\n",
              "    box-shadow: 0 1px 2px rgba(60, 64, 67, 0.3), 0 1px 3px 1px rgba(60, 64, 67, 0.15);\n",
              "    fill: var(--button-hover-fill-color);\n",
              "  }\n",
              "\n",
              "  .colab-df-quickchart-complete:disabled,\n",
              "  .colab-df-quickchart-complete:disabled:hover {\n",
              "    background-color: var(--disabled-bg-color);\n",
              "    fill: var(--disabled-fill-color);\n",
              "    box-shadow: none;\n",
              "  }\n",
              "\n",
              "  .colab-df-spinner {\n",
              "    border: 2px solid var(--fill-color);\n",
              "    border-color: transparent;\n",
              "    border-bottom-color: var(--fill-color);\n",
              "    animation:\n",
              "      spin 1s steps(1) infinite;\n",
              "  }\n",
              "\n",
              "  @keyframes spin {\n",
              "    0% {\n",
              "      border-color: transparent;\n",
              "      border-bottom-color: var(--fill-color);\n",
              "      border-left-color: var(--fill-color);\n",
              "    }\n",
              "    20% {\n",
              "      border-color: transparent;\n",
              "      border-left-color: var(--fill-color);\n",
              "      border-top-color: var(--fill-color);\n",
              "    }\n",
              "    30% {\n",
              "      border-color: transparent;\n",
              "      border-left-color: var(--fill-color);\n",
              "      border-top-color: var(--fill-color);\n",
              "      border-right-color: var(--fill-color);\n",
              "    }\n",
              "    40% {\n",
              "      border-color: transparent;\n",
              "      border-right-color: var(--fill-color);\n",
              "      border-top-color: var(--fill-color);\n",
              "    }\n",
              "    60% {\n",
              "      border-color: transparent;\n",
              "      border-right-color: var(--fill-color);\n",
              "    }\n",
              "    80% {\n",
              "      border-color: transparent;\n",
              "      border-right-color: var(--fill-color);\n",
              "      border-bottom-color: var(--fill-color);\n",
              "    }\n",
              "    90% {\n",
              "      border-color: transparent;\n",
              "      border-bottom-color: var(--fill-color);\n",
              "    }\n",
              "  }\n",
              "</style>\n",
              "\n",
              "      <script>\n",
              "        async function quickchart(key) {\n",
              "          const quickchartButtonEl =\n",
              "            document.querySelector('#' + key + ' button');\n",
              "          quickchartButtonEl.disabled = true;  // To prevent multiple clicks.\n",
              "          quickchartButtonEl.classList.add('colab-df-spinner');\n",
              "          try {\n",
              "            const charts = await google.colab.kernel.invokeFunction(\n",
              "                'suggestCharts', [key], {});\n",
              "          } catch (error) {\n",
              "            console.error('Error during call to suggestCharts:', error);\n",
              "          }\n",
              "          quickchartButtonEl.classList.remove('colab-df-spinner');\n",
              "          quickchartButtonEl.classList.add('colab-df-quickchart-complete');\n",
              "        }\n",
              "        (() => {\n",
              "          let quickchartButtonEl =\n",
              "            document.querySelector('#df-d81dc5dc-713f-4819-a9f7-be2bc717d8aa button');\n",
              "          quickchartButtonEl.style.display =\n",
              "            google.colab.kernel.accessAllowed ? 'block' : 'none';\n",
              "        })();\n",
              "      </script>\n",
              "    </div>\n",
              "\n",
              "    </div>\n",
              "  </div>\n"
            ],
            "application/vnd.google.colaboratory.intrinsic+json": {
              "type": "dataframe",
              "summary": "{\n  \"name\": \"df\",\n  \"rows\": 21,\n  \"fields\": [\n    {\n      \"column\": \"count\",\n      \"properties\": {\n        \"dtype\": \"number\",\n        \"std\": 0.0,\n        \"min\": 2000.0,\n        \"max\": 2000.0,\n        \"num_unique_values\": 1,\n        \"samples\": [\n          2000.0\n        ],\n        \"semantic_type\": \"\",\n        \"description\": \"\"\n      }\n    },\n    {\n      \"column\": \"mean\",\n      \"properties\": {\n        \"dtype\": \"number\",\n        \"std\": 575.1739109693634,\n        \"min\": 0.495,\n        \"max\": 2124.213,\n        \"num_unique_values\": 21,\n        \"samples\": [\n          1238.5185\n        ],\n        \"semantic_type\": \"\",\n        \"description\": \"\"\n      }\n    },\n    {\n      \"column\": \"std\",\n      \"properties\": {\n        \"dtype\": \"number\",\n        \"std\": 270.2770809137918,\n        \"min\": 0.2884155496235109,\n        \"max\": 1084.7320436099492,\n        \"num_unique_values\": 21,\n        \"samples\": [\n          439.4182060835312\n        ],\n        \"semantic_type\": \"\",\n        \"description\": \"\"\n      }\n    },\n    {\n      \"column\": \"min\",\n      \"properties\": {\n        \"dtype\": \"number\",\n        \"std\": 155.96375265701047,\n        \"min\": 0.0,\n        \"max\": 501.0,\n        \"num_unique_values\": 10,\n        \"samples\": [\n          256.0\n        ],\n        \"semantic_type\": \"\",\n        \"description\": \"\"\n      }\n    },\n    {\n      \"column\": \"25%\",\n      \"properties\": {\n        \"dtype\": \"number\",\n        \"std\": 353.55560945371866,\n        \"min\": 0.0,\n        \"max\": 1207.5,\n        \"num_unique_values\": 16,\n        \"samples\": [\n          851.75\n        ],\n        \"semantic_type\": \"\",\n        \"description\": \"\"\n      }\n    },\n    {\n      \"column\": \"50%\",\n      \"properties\": {\n        \"dtype\": \"number\",\n        \"std\": 574.9458214641164,\n        \"min\": 0.0,\n        \"max\": 2146.5,\n        \"num_unique_values\": 16,\n        \"samples\": [\n          1226.0\n        ],\n        \"semantic_type\": \"\",\n        \"description\": \"\"\n      }\n    },\n    {\n      \"column\": \"75%\",\n      \"properties\": {\n        \"dtype\": \"number\",\n        \"std\": 802.3478326360173,\n        \"min\": 0.8,\n        \"max\": 3064.5,\n        \"num_unique_values\": 14,\n        \"samples\": [\n          1633.0\n        ],\n        \"semantic_type\": \"\",\n        \"description\": \"\"\n      }\n    },\n    {\n      \"column\": \"max\",\n      \"properties\": {\n        \"dtype\": \"number\",\n        \"std\": 1066.9898446430632,\n        \"min\": 1.0,\n        \"max\": 3998.0,\n        \"num_unique_values\": 11,\n        \"samples\": [\n          200.0\n        ],\n        \"semantic_type\": \"\",\n        \"description\": \"\"\n      }\n    }\n  ]\n}"
            }
          },
          "metadata": {},
          "execution_count": 11
        }
      ]
    },
    {
      "cell_type": "markdown",
      "source": [
        "### Variables Description"
      ],
      "metadata": {
        "id": "PBTbrJXOngz2"
      }
    },
    {
      "cell_type": "markdown",
      "source": [
        "Input Columns (Features):\n",
        "\n",
        "* battery_power:\n",
        "Battery capacity of the mobile (in mAh).\n",
        "\n",
        "* blue:\n",
        "Indicates whether the phone has Bluetooth support.\n",
        "0: No\n",
        "1: Yes\n",
        "\n",
        "* clock_speed:\n",
        "Clock speed of the CPU (in GHz).\n",
        "\n",
        "* dual_sim:\n",
        "Indicates if the phone supports dual SIMs.\n",
        "0: No\n",
        "1: Yes\n",
        "\n",
        "* fc (front camera):\n",
        "Front camera megapixels.\n",
        "\n",
        "* four_g:\n",
        "Indicates whether the phone supports 4G.\n",
        "0: No\n",
        "1: Yes\n",
        "\n",
        "* int_memory:\n",
        "Internal memory of the phone (in GB).\n",
        "\n",
        "* m_dep (mobile depth):\n",
        "Thickness of the phone (in cm).\n",
        "\n",
        "* mobile_wt:\n",
        "Weight of the mobile phone (in grams).\n",
        "\n",
        "* n_cores:\n",
        "Number of cores in the processor.\n",
        "\n",
        "* pc (primary camera):\n",
        "Rear camera megapixels.\n",
        "\n",
        "* px_height:\n",
        "Height resolution of the screen (in pixels).\n",
        "\n",
        "* px_width:\n",
        "Width resolution of the screen (in pixels).\n",
        "\n",
        "* ram:\n",
        "Random Access Memory (in MB).\n",
        "\n",
        "* sc_h (screen height):\n",
        "Height of the screen (in cm).\n",
        "\n",
        "* sc_w (screen width):\n",
        "Width of the screen (in cm).\n",
        "\n",
        "* talk_time:\n",
        "Battery backup time (in hours) while talking.\n",
        "\n",
        "* three_g:\n",
        "Indicates whether the phone supports 3G.\n",
        "0: No\n",
        "1: Yes\n",
        "\n",
        "* touch_screen:\n",
        "Indicates if the phone has a touchscreen.\n",
        "0: No\n",
        "1: Yes\n",
        "\n",
        "* wifi:\n",
        "Indicates whether the phone supports Wi-Fi.\n",
        "0: No\n",
        "1: Yes\n",
        "\n",
        "\n",
        "\n",
        "Output Column:\n",
        "\n",
        "price_range:\n",
        "The target variable indicating the price category of the mobile.\n",
        "Usually encoded as:\n",
        "0: Low cost\n",
        "1: Medium cost\n",
        "2: High cost\n",
        "3: Very high cost"
      ],
      "metadata": {
        "id": "aJV4KIxSnxay"
      }
    },
    {
      "cell_type": "markdown",
      "source": [
        "### Check Unique Values for each variable."
      ],
      "metadata": {
        "id": "u3PMJOP6ngxN"
      }
    },
    {
      "cell_type": "code",
      "source": [
        "# Check Unique Values for each variable.\n",
        "df.nunique()"
      ],
      "metadata": {
        "id": "zms12Yq5n-jE",
        "colab": {
          "base_uri": "https://localhost:8080/",
          "height": 743
        },
        "outputId": "89db911c-4d13-4241-87ff-c6b74394b3bc"
      },
      "execution_count": null,
      "outputs": [
        {
          "output_type": "execute_result",
          "data": {
            "text/plain": [
              "battery_power    1094\n",
              "blue                2\n",
              "clock_speed        26\n",
              "dual_sim            2\n",
              "fc                 20\n",
              "four_g              2\n",
              "int_memory         63\n",
              "m_dep              10\n",
              "mobile_wt         121\n",
              "n_cores             8\n",
              "pc                 21\n",
              "px_height        1137\n",
              "px_width         1109\n",
              "ram              1562\n",
              "sc_h               15\n",
              "sc_w               19\n",
              "talk_time          19\n",
              "three_g             2\n",
              "touch_screen        2\n",
              "wifi                2\n",
              "price_range         4\n",
              "dtype: int64"
            ],
            "text/html": [
              "<div>\n",
              "<style scoped>\n",
              "    .dataframe tbody tr th:only-of-type {\n",
              "        vertical-align: middle;\n",
              "    }\n",
              "\n",
              "    .dataframe tbody tr th {\n",
              "        vertical-align: top;\n",
              "    }\n",
              "\n",
              "    .dataframe thead th {\n",
              "        text-align: right;\n",
              "    }\n",
              "</style>\n",
              "<table border=\"1\" class=\"dataframe\">\n",
              "  <thead>\n",
              "    <tr style=\"text-align: right;\">\n",
              "      <th></th>\n",
              "      <th>0</th>\n",
              "    </tr>\n",
              "  </thead>\n",
              "  <tbody>\n",
              "    <tr>\n",
              "      <th>battery_power</th>\n",
              "      <td>1094</td>\n",
              "    </tr>\n",
              "    <tr>\n",
              "      <th>blue</th>\n",
              "      <td>2</td>\n",
              "    </tr>\n",
              "    <tr>\n",
              "      <th>clock_speed</th>\n",
              "      <td>26</td>\n",
              "    </tr>\n",
              "    <tr>\n",
              "      <th>dual_sim</th>\n",
              "      <td>2</td>\n",
              "    </tr>\n",
              "    <tr>\n",
              "      <th>fc</th>\n",
              "      <td>20</td>\n",
              "    </tr>\n",
              "    <tr>\n",
              "      <th>four_g</th>\n",
              "      <td>2</td>\n",
              "    </tr>\n",
              "    <tr>\n",
              "      <th>int_memory</th>\n",
              "      <td>63</td>\n",
              "    </tr>\n",
              "    <tr>\n",
              "      <th>m_dep</th>\n",
              "      <td>10</td>\n",
              "    </tr>\n",
              "    <tr>\n",
              "      <th>mobile_wt</th>\n",
              "      <td>121</td>\n",
              "    </tr>\n",
              "    <tr>\n",
              "      <th>n_cores</th>\n",
              "      <td>8</td>\n",
              "    </tr>\n",
              "    <tr>\n",
              "      <th>pc</th>\n",
              "      <td>21</td>\n",
              "    </tr>\n",
              "    <tr>\n",
              "      <th>px_height</th>\n",
              "      <td>1137</td>\n",
              "    </tr>\n",
              "    <tr>\n",
              "      <th>px_width</th>\n",
              "      <td>1109</td>\n",
              "    </tr>\n",
              "    <tr>\n",
              "      <th>ram</th>\n",
              "      <td>1562</td>\n",
              "    </tr>\n",
              "    <tr>\n",
              "      <th>sc_h</th>\n",
              "      <td>15</td>\n",
              "    </tr>\n",
              "    <tr>\n",
              "      <th>sc_w</th>\n",
              "      <td>19</td>\n",
              "    </tr>\n",
              "    <tr>\n",
              "      <th>talk_time</th>\n",
              "      <td>19</td>\n",
              "    </tr>\n",
              "    <tr>\n",
              "      <th>three_g</th>\n",
              "      <td>2</td>\n",
              "    </tr>\n",
              "    <tr>\n",
              "      <th>touch_screen</th>\n",
              "      <td>2</td>\n",
              "    </tr>\n",
              "    <tr>\n",
              "      <th>wifi</th>\n",
              "      <td>2</td>\n",
              "    </tr>\n",
              "    <tr>\n",
              "      <th>price_range</th>\n",
              "      <td>4</td>\n",
              "    </tr>\n",
              "  </tbody>\n",
              "</table>\n",
              "</div><br><label><b>dtype:</b> int64</label>"
            ]
          },
          "metadata": {},
          "execution_count": 12
        }
      ]
    },
    {
      "cell_type": "markdown",
      "source": [
        "## 3. ***Data Wrangling***"
      ],
      "metadata": {
        "id": "dauF4eBmngu3"
      }
    },
    {
      "cell_type": "markdown",
      "source": [
        "### Data Wrangling Code"
      ],
      "metadata": {
        "id": "bKJF3rekwFvQ"
      }
    },
    {
      "cell_type": "code",
      "source": [
        "# Write your code to make your dataset analysis ready."
      ],
      "metadata": {
        "id": "wk-9a2fpoLcV"
      },
      "execution_count": null,
      "outputs": []
    },
    {
      "cell_type": "markdown",
      "source": [
        "### What all manipulations have you done and insights you found?"
      ],
      "metadata": {
        "id": "MSa1f5Uengrz"
      }
    },
    {
      "cell_type": "markdown",
      "source": [
        "Answer Here."
      ],
      "metadata": {
        "id": "LbyXE7I1olp8"
      }
    },
    {
      "cell_type": "markdown",
      "source": [
        "## ***4. Data Vizualization, Storytelling & Experimenting with charts : Understand the relationships between variables***"
      ],
      "metadata": {
        "id": "GF8Ens_Soomf"
      }
    },
    {
      "cell_type": "markdown",
      "source": [
        "#### Chart - 1"
      ],
      "metadata": {
        "id": "0wOQAZs5pc--"
      }
    },
    {
      "cell_type": "code",
      "source": [
        "# Chart - 1 visualization code"
      ],
      "metadata": {
        "id": "7v_ESjsspbW7"
      },
      "execution_count": null,
      "outputs": []
    },
    {
      "cell_type": "markdown",
      "source": [
        "##### 1. Why did you pick the specific chart?"
      ],
      "metadata": {
        "id": "K5QZ13OEpz2H"
      }
    },
    {
      "cell_type": "markdown",
      "source": [
        "Answer Here."
      ],
      "metadata": {
        "id": "XESiWehPqBRc"
      }
    },
    {
      "cell_type": "markdown",
      "source": [
        "##### 2. What is/are the insight(s) found from the chart?"
      ],
      "metadata": {
        "id": "lQ7QKXXCp7Bj"
      }
    },
    {
      "cell_type": "markdown",
      "source": [
        "Answer Here"
      ],
      "metadata": {
        "id": "C_j1G7yiqdRP"
      }
    },
    {
      "cell_type": "markdown",
      "source": [
        "##### 3. Will the gained insights help creating a positive business impact?\n",
        "Are there any insights that lead to negative growth? Justify with specific reason."
      ],
      "metadata": {
        "id": "448CDAPjqfQr"
      }
    },
    {
      "cell_type": "markdown",
      "source": [
        "Answer Here"
      ],
      "metadata": {
        "id": "3cspy4FjqxJW"
      }
    },
    {
      "cell_type": "markdown",
      "source": [
        "#### Chart - 2"
      ],
      "metadata": {
        "id": "KSlN3yHqYklG"
      }
    },
    {
      "cell_type": "code",
      "source": [
        "# Chart - 2 visualization code"
      ],
      "metadata": {
        "id": "R4YgtaqtYklH"
      },
      "execution_count": null,
      "outputs": []
    },
    {
      "cell_type": "markdown",
      "source": [
        "##### 1. Why did you pick the specific chart?"
      ],
      "metadata": {
        "id": "t6dVpIINYklI"
      }
    },
    {
      "cell_type": "markdown",
      "source": [
        "Answer Here."
      ],
      "metadata": {
        "id": "5aaW0BYyYklI"
      }
    },
    {
      "cell_type": "markdown",
      "source": [
        "##### 2. What is/are the insight(s) found from the chart?"
      ],
      "metadata": {
        "id": "ijmpgYnKYklI"
      }
    },
    {
      "cell_type": "markdown",
      "source": [
        "Answer Here"
      ],
      "metadata": {
        "id": "PSx9atu2YklI"
      }
    },
    {
      "cell_type": "markdown",
      "source": [
        "##### 3. Will the gained insights help creating a positive business impact?\n",
        "Are there any insights that lead to negative growth? Justify with specific reason."
      ],
      "metadata": {
        "id": "-JiQyfWJYklI"
      }
    },
    {
      "cell_type": "markdown",
      "source": [
        "Answer Here"
      ],
      "metadata": {
        "id": "BcBbebzrYklV"
      }
    },
    {
      "cell_type": "markdown",
      "source": [
        "#### Chart - 3"
      ],
      "metadata": {
        "id": "EM7whBJCYoAo"
      }
    },
    {
      "cell_type": "code",
      "source": [
        "# Chart - 3 visualization code"
      ],
      "metadata": {
        "id": "t6GMdE67YoAp"
      },
      "execution_count": null,
      "outputs": []
    },
    {
      "cell_type": "markdown",
      "source": [
        "##### 1. Why did you pick the specific chart?"
      ],
      "metadata": {
        "id": "fge-S5ZAYoAp"
      }
    },
    {
      "cell_type": "markdown",
      "source": [
        "Answer Here."
      ],
      "metadata": {
        "id": "5dBItgRVYoAp"
      }
    },
    {
      "cell_type": "markdown",
      "source": [
        "##### 2. What is/are the insight(s) found from the chart?"
      ],
      "metadata": {
        "id": "85gYPyotYoAp"
      }
    },
    {
      "cell_type": "markdown",
      "source": [
        "Answer Here"
      ],
      "metadata": {
        "id": "4jstXR6OYoAp"
      }
    },
    {
      "cell_type": "markdown",
      "source": [
        "##### 3. Will the gained insights help creating a positive business impact?\n",
        "Are there any insights that lead to negative growth? Justify with specific reason."
      ],
      "metadata": {
        "id": "RoGjAbkUYoAp"
      }
    },
    {
      "cell_type": "markdown",
      "source": [
        "Answer Here"
      ],
      "metadata": {
        "id": "zfJ8IqMcYoAp"
      }
    },
    {
      "cell_type": "markdown",
      "source": [
        "#### Chart - 4"
      ],
      "metadata": {
        "id": "4Of9eVA-YrdM"
      }
    },
    {
      "cell_type": "code",
      "source": [
        "# Chart - 4 visualization code"
      ],
      "metadata": {
        "id": "irlUoxc8YrdO"
      },
      "execution_count": null,
      "outputs": []
    },
    {
      "cell_type": "markdown",
      "source": [
        "##### 1. Why did you pick the specific chart?"
      ],
      "metadata": {
        "id": "iky9q4vBYrdO"
      }
    },
    {
      "cell_type": "markdown",
      "source": [
        "Answer Here."
      ],
      "metadata": {
        "id": "aJRCwT6DYrdO"
      }
    },
    {
      "cell_type": "markdown",
      "source": [
        "##### 2. What is/are the insight(s) found from the chart?"
      ],
      "metadata": {
        "id": "F6T5p64dYrdO"
      }
    },
    {
      "cell_type": "markdown",
      "source": [
        "Answer Here"
      ],
      "metadata": {
        "id": "Xx8WAJvtYrdO"
      }
    },
    {
      "cell_type": "markdown",
      "source": [
        "##### 3. Will the gained insights help creating a positive business impact?\n",
        "Are there any insights that lead to negative growth? Justify with specific reason."
      ],
      "metadata": {
        "id": "y-Ehk30pYrdP"
      }
    },
    {
      "cell_type": "markdown",
      "source": [
        "Answer Here"
      ],
      "metadata": {
        "id": "jLNxxz7MYrdP"
      }
    },
    {
      "cell_type": "markdown",
      "source": [
        "#### Chart - 5"
      ],
      "metadata": {
        "id": "bamQiAODYuh1"
      }
    },
    {
      "cell_type": "code",
      "source": [
        "# Chart - 5 visualization code"
      ],
      "metadata": {
        "id": "TIJwrbroYuh3"
      },
      "execution_count": null,
      "outputs": []
    },
    {
      "cell_type": "markdown",
      "source": [
        "##### 1. Why did you pick the specific chart?"
      ],
      "metadata": {
        "id": "QHF8YVU7Yuh3"
      }
    },
    {
      "cell_type": "markdown",
      "source": [
        "Answer Here."
      ],
      "metadata": {
        "id": "dcxuIMRPYuh3"
      }
    },
    {
      "cell_type": "markdown",
      "source": [
        "##### 2. What is/are the insight(s) found from the chart?"
      ],
      "metadata": {
        "id": "GwzvFGzlYuh3"
      }
    },
    {
      "cell_type": "markdown",
      "source": [
        "Answer Here"
      ],
      "metadata": {
        "id": "uyqkiB8YYuh3"
      }
    },
    {
      "cell_type": "markdown",
      "source": [
        "##### 3. Will the gained insights help creating a positive business impact?\n",
        "Are there any insights that lead to negative growth? Justify with specific reason."
      ],
      "metadata": {
        "id": "qYpmQ266Yuh3"
      }
    },
    {
      "cell_type": "markdown",
      "source": [
        "Answer Here"
      ],
      "metadata": {
        "id": "_WtzZ_hCYuh4"
      }
    },
    {
      "cell_type": "markdown",
      "source": [
        "#### Chart - 6"
      ],
      "metadata": {
        "id": "OH-pJp9IphqM"
      }
    },
    {
      "cell_type": "code",
      "source": [
        "# Chart - 6 visualization code"
      ],
      "metadata": {
        "id": "kuRf4wtuphqN"
      },
      "execution_count": null,
      "outputs": []
    },
    {
      "cell_type": "markdown",
      "source": [
        "##### 1. Why did you pick the specific chart?"
      ],
      "metadata": {
        "id": "bbFf2-_FphqN"
      }
    },
    {
      "cell_type": "markdown",
      "source": [
        "Answer Here."
      ],
      "metadata": {
        "id": "loh7H2nzphqN"
      }
    },
    {
      "cell_type": "markdown",
      "source": [
        "##### 2. What is/are the insight(s) found from the chart?"
      ],
      "metadata": {
        "id": "_ouA3fa0phqN"
      }
    },
    {
      "cell_type": "markdown",
      "source": [
        "Answer Here"
      ],
      "metadata": {
        "id": "VECbqPI7phqN"
      }
    },
    {
      "cell_type": "markdown",
      "source": [
        "##### 3. Will the gained insights help creating a positive business impact?\n",
        "Are there any insights that lead to negative growth? Justify with specific reason."
      ],
      "metadata": {
        "id": "Seke61FWphqN"
      }
    },
    {
      "cell_type": "markdown",
      "source": [
        "Answer Here"
      ],
      "metadata": {
        "id": "DW4_bGpfphqN"
      }
    },
    {
      "cell_type": "markdown",
      "source": [
        "#### Chart - 7"
      ],
      "metadata": {
        "id": "PIIx-8_IphqN"
      }
    },
    {
      "cell_type": "code",
      "source": [
        "# Chart - 7 visualization code"
      ],
      "metadata": {
        "id": "lqAIGUfyphqO"
      },
      "execution_count": null,
      "outputs": []
    },
    {
      "cell_type": "markdown",
      "source": [
        "##### 1. Why did you pick the specific chart?"
      ],
      "metadata": {
        "id": "t27r6nlMphqO"
      }
    },
    {
      "cell_type": "markdown",
      "source": [
        "Answer Here."
      ],
      "metadata": {
        "id": "iv6ro40sphqO"
      }
    },
    {
      "cell_type": "markdown",
      "source": [
        "##### 2. What is/are the insight(s) found from the chart?"
      ],
      "metadata": {
        "id": "r2jJGEOYphqO"
      }
    },
    {
      "cell_type": "markdown",
      "source": [
        "Answer Here"
      ],
      "metadata": {
        "id": "Po6ZPi4hphqO"
      }
    },
    {
      "cell_type": "markdown",
      "source": [
        "##### 3. Will the gained insights help creating a positive business impact?\n",
        "Are there any insights that lead to negative growth? Justify with specific reason."
      ],
      "metadata": {
        "id": "b0JNsNcRphqO"
      }
    },
    {
      "cell_type": "markdown",
      "source": [
        "Answer Here"
      ],
      "metadata": {
        "id": "xvSq8iUTphqO"
      }
    },
    {
      "cell_type": "markdown",
      "source": [
        "#### Chart - 8"
      ],
      "metadata": {
        "id": "BZR9WyysphqO"
      }
    },
    {
      "cell_type": "code",
      "source": [
        "# Chart - 8 visualization code"
      ],
      "metadata": {
        "id": "TdPTWpAVphqO"
      },
      "execution_count": null,
      "outputs": []
    },
    {
      "cell_type": "markdown",
      "source": [
        "##### 1. Why did you pick the specific chart?"
      ],
      "metadata": {
        "id": "jj7wYXLtphqO"
      }
    },
    {
      "cell_type": "markdown",
      "source": [
        "Answer Here."
      ],
      "metadata": {
        "id": "Ob8u6rCTphqO"
      }
    },
    {
      "cell_type": "markdown",
      "source": [
        "##### 2. What is/are the insight(s) found from the chart?"
      ],
      "metadata": {
        "id": "eZrbJ2SmphqO"
      }
    },
    {
      "cell_type": "markdown",
      "source": [
        "Answer Here"
      ],
      "metadata": {
        "id": "mZtgC_hjphqO"
      }
    },
    {
      "cell_type": "markdown",
      "source": [
        "##### 3. Will the gained insights help creating a positive business impact?\n",
        "Are there any insights that lead to negative growth? Justify with specific reason."
      ],
      "metadata": {
        "id": "rFu4xreNphqO"
      }
    },
    {
      "cell_type": "markdown",
      "source": [
        "Answer Here"
      ],
      "metadata": {
        "id": "ey_0qi68phqO"
      }
    },
    {
      "cell_type": "markdown",
      "source": [
        "#### Chart - 9"
      ],
      "metadata": {
        "id": "YJ55k-q6phqO"
      }
    },
    {
      "cell_type": "code",
      "source": [
        "# Chart - 9 visualization code"
      ],
      "metadata": {
        "id": "B2aS4O1ophqO"
      },
      "execution_count": null,
      "outputs": []
    },
    {
      "cell_type": "markdown",
      "source": [
        "##### 1. Why did you pick the specific chart?"
      ],
      "metadata": {
        "id": "gCFgpxoyphqP"
      }
    },
    {
      "cell_type": "markdown",
      "source": [
        "Answer Here."
      ],
      "metadata": {
        "id": "TVxDimi2phqP"
      }
    },
    {
      "cell_type": "markdown",
      "source": [
        "##### 2. What is/are the insight(s) found from the chart?"
      ],
      "metadata": {
        "id": "OVtJsKN_phqQ"
      }
    },
    {
      "cell_type": "markdown",
      "source": [
        "Answer Here"
      ],
      "metadata": {
        "id": "ngGi97qjphqQ"
      }
    },
    {
      "cell_type": "markdown",
      "source": [
        "##### 3. Will the gained insights help creating a positive business impact?\n",
        "Are there any insights that lead to negative growth? Justify with specific reason."
      ],
      "metadata": {
        "id": "lssrdh5qphqQ"
      }
    },
    {
      "cell_type": "markdown",
      "source": [
        "Answer Here"
      ],
      "metadata": {
        "id": "tBpY5ekJphqQ"
      }
    },
    {
      "cell_type": "markdown",
      "source": [
        "#### Chart - 10"
      ],
      "metadata": {
        "id": "U2RJ9gkRphqQ"
      }
    },
    {
      "cell_type": "code",
      "source": [
        "# Chart - 10 visualization code"
      ],
      "metadata": {
        "id": "GM7a4YP4phqQ"
      },
      "execution_count": null,
      "outputs": []
    },
    {
      "cell_type": "markdown",
      "source": [
        "##### 1. Why did you pick the specific chart?"
      ],
      "metadata": {
        "id": "1M8mcRywphqQ"
      }
    },
    {
      "cell_type": "markdown",
      "source": [
        "Answer Here."
      ],
      "metadata": {
        "id": "8agQvks0phqQ"
      }
    },
    {
      "cell_type": "markdown",
      "source": [
        "##### 2. What is/are the insight(s) found from the chart?"
      ],
      "metadata": {
        "id": "tgIPom80phqQ"
      }
    },
    {
      "cell_type": "markdown",
      "source": [
        "Answer Here"
      ],
      "metadata": {
        "id": "Qp13pnNzphqQ"
      }
    },
    {
      "cell_type": "markdown",
      "source": [
        "##### 3. Will the gained insights help creating a positive business impact?\n",
        "Are there any insights that lead to negative growth? Justify with specific reason."
      ],
      "metadata": {
        "id": "JMzcOPDDphqR"
      }
    },
    {
      "cell_type": "markdown",
      "source": [
        "Answer Here"
      ],
      "metadata": {
        "id": "R4Ka1PC2phqR"
      }
    },
    {
      "cell_type": "markdown",
      "source": [
        "#### Chart - 11"
      ],
      "metadata": {
        "id": "x-EpHcCOp1ci"
      }
    },
    {
      "cell_type": "code",
      "source": [
        "# Chart - 11 visualization code"
      ],
      "metadata": {
        "id": "mAQTIvtqp1cj"
      },
      "execution_count": null,
      "outputs": []
    },
    {
      "cell_type": "markdown",
      "source": [
        "##### 1. Why did you pick the specific chart?"
      ],
      "metadata": {
        "id": "X_VqEhTip1ck"
      }
    },
    {
      "cell_type": "markdown",
      "source": [
        "Answer Here."
      ],
      "metadata": {
        "id": "-vsMzt_np1ck"
      }
    },
    {
      "cell_type": "markdown",
      "source": [
        "##### 2. What is/are the insight(s) found from the chart?"
      ],
      "metadata": {
        "id": "8zGJKyg5p1ck"
      }
    },
    {
      "cell_type": "markdown",
      "source": [
        "Answer Here"
      ],
      "metadata": {
        "id": "ZYdMsrqVp1ck"
      }
    },
    {
      "cell_type": "markdown",
      "source": [
        "##### 3. Will the gained insights help creating a positive business impact?\n",
        "Are there any insights that lead to negative growth? Justify with specific reason."
      ],
      "metadata": {
        "id": "PVzmfK_Ep1ck"
      }
    },
    {
      "cell_type": "markdown",
      "source": [
        "Answer Here"
      ],
      "metadata": {
        "id": "druuKYZpp1ck"
      }
    },
    {
      "cell_type": "markdown",
      "source": [
        "#### Chart - 12"
      ],
      "metadata": {
        "id": "n3dbpmDWp1ck"
      }
    },
    {
      "cell_type": "code",
      "source": [
        "# Chart - 12 visualization code"
      ],
      "metadata": {
        "id": "bwevp1tKp1ck"
      },
      "execution_count": null,
      "outputs": []
    },
    {
      "cell_type": "markdown",
      "source": [
        "##### 1. Why did you pick the specific chart?"
      ],
      "metadata": {
        "id": "ylSl6qgtp1ck"
      }
    },
    {
      "cell_type": "markdown",
      "source": [
        "Answer Here."
      ],
      "metadata": {
        "id": "m2xqNkiQp1ck"
      }
    },
    {
      "cell_type": "markdown",
      "source": [
        "##### 2. What is/are the insight(s) found from the chart?"
      ],
      "metadata": {
        "id": "ZWILFDl5p1ck"
      }
    },
    {
      "cell_type": "markdown",
      "source": [
        "Answer Here"
      ],
      "metadata": {
        "id": "x-lUsV2mp1ck"
      }
    },
    {
      "cell_type": "markdown",
      "source": [
        "##### 3. Will the gained insights help creating a positive business impact?\n",
        "Are there any insights that lead to negative growth? Justify with specific reason."
      ],
      "metadata": {
        "id": "M7G43BXep1ck"
      }
    },
    {
      "cell_type": "markdown",
      "source": [
        "Answer Here"
      ],
      "metadata": {
        "id": "5wwDJXsLp1cl"
      }
    },
    {
      "cell_type": "markdown",
      "source": [
        "#### Chart - 13"
      ],
      "metadata": {
        "id": "Ag9LCva-p1cl"
      }
    },
    {
      "cell_type": "code",
      "source": [
        "# Chart - 13 visualization code"
      ],
      "metadata": {
        "id": "EUfxeq9-p1cl"
      },
      "execution_count": null,
      "outputs": []
    },
    {
      "cell_type": "markdown",
      "source": [
        "##### 1. Why did you pick the specific chart?"
      ],
      "metadata": {
        "id": "E6MkPsBcp1cl"
      }
    },
    {
      "cell_type": "markdown",
      "source": [
        "Answer Here."
      ],
      "metadata": {
        "id": "V22bRsFWp1cl"
      }
    },
    {
      "cell_type": "markdown",
      "source": [
        "##### 2. What is/are the insight(s) found from the chart?"
      ],
      "metadata": {
        "id": "2cELzS2fp1cl"
      }
    },
    {
      "cell_type": "markdown",
      "source": [
        "Answer Here"
      ],
      "metadata": {
        "id": "ozQPc2_Ip1cl"
      }
    },
    {
      "cell_type": "markdown",
      "source": [
        "##### 3. Will the gained insights help creating a positive business impact?\n",
        "Are there any insights that lead to negative growth? Justify with specific reason."
      ],
      "metadata": {
        "id": "3MPXvC8up1cl"
      }
    },
    {
      "cell_type": "markdown",
      "source": [
        "Answer Here"
      ],
      "metadata": {
        "id": "GL8l1tdLp1cl"
      }
    },
    {
      "cell_type": "markdown",
      "source": [
        "#### Chart - 14 - Correlation Heatmap"
      ],
      "metadata": {
        "id": "NC_X3p0fY2L0"
      }
    },
    {
      "cell_type": "code",
      "source": [
        "# Correlation Heatmap visualization code"
      ],
      "metadata": {
        "id": "xyC9zolEZNRQ"
      },
      "execution_count": null,
      "outputs": []
    },
    {
      "cell_type": "markdown",
      "source": [
        "##### 1. Why did you pick the specific chart?"
      ],
      "metadata": {
        "id": "UV0SzAkaZNRQ"
      }
    },
    {
      "cell_type": "markdown",
      "source": [
        "Answer Here."
      ],
      "metadata": {
        "id": "DVPuT8LYZNRQ"
      }
    },
    {
      "cell_type": "markdown",
      "source": [
        "##### 2. What is/are the insight(s) found from the chart?"
      ],
      "metadata": {
        "id": "YPEH6qLeZNRQ"
      }
    },
    {
      "cell_type": "markdown",
      "source": [
        "Answer Here"
      ],
      "metadata": {
        "id": "bfSqtnDqZNRR"
      }
    },
    {
      "cell_type": "markdown",
      "source": [
        "#### Chart - 15 - Pair Plot"
      ],
      "metadata": {
        "id": "q29F0dvdveiT"
      }
    },
    {
      "cell_type": "code",
      "source": [
        "# Pair Plot visualization code"
      ],
      "metadata": {
        "id": "o58-TEIhveiU"
      },
      "execution_count": null,
      "outputs": []
    },
    {
      "cell_type": "markdown",
      "source": [
        "##### 1. Why did you pick the specific chart?"
      ],
      "metadata": {
        "id": "EXh0U9oCveiU"
      }
    },
    {
      "cell_type": "markdown",
      "source": [
        "Answer Here."
      ],
      "metadata": {
        "id": "eMmPjTByveiU"
      }
    },
    {
      "cell_type": "markdown",
      "source": [
        "##### 2. What is/are the insight(s) found from the chart?"
      ],
      "metadata": {
        "id": "22aHeOlLveiV"
      }
    },
    {
      "cell_type": "markdown",
      "source": [
        "Answer Here"
      ],
      "metadata": {
        "id": "uPQ8RGwHveiV"
      }
    },
    {
      "cell_type": "markdown",
      "source": [
        "## ***5. Hypothesis Testing***"
      ],
      "metadata": {
        "id": "g-ATYxFrGrvw"
      }
    },
    {
      "cell_type": "markdown",
      "source": [
        "### Based on your chart experiments, define three hypothetical statements from the dataset. In the next three questions, perform hypothesis testing to obtain final conclusion about the statements through your code and statistical testing."
      ],
      "metadata": {
        "id": "Yfr_Vlr8HBkt"
      }
    },
    {
      "cell_type": "markdown",
      "source": [
        "Answer Here."
      ],
      "metadata": {
        "id": "-7MS06SUHkB-"
      }
    },
    {
      "cell_type": "markdown",
      "source": [
        "### Hypothetical Statement - 1"
      ],
      "metadata": {
        "id": "8yEUt7NnHlrM"
      }
    },
    {
      "cell_type": "markdown",
      "source": [
        "#### 1. State Your research hypothesis as a null hypothesis and alternate hypothesis."
      ],
      "metadata": {
        "id": "tEA2Xm5dHt1r"
      }
    },
    {
      "cell_type": "markdown",
      "source": [
        "Answer Here."
      ],
      "metadata": {
        "id": "HI9ZP0laH0D-"
      }
    },
    {
      "cell_type": "markdown",
      "source": [
        "#### 2. Perform an appropriate statistical test."
      ],
      "metadata": {
        "id": "I79__PHVH19G"
      }
    },
    {
      "cell_type": "code",
      "source": [
        "# Perform Statistical Test to obtain P-Value"
      ],
      "metadata": {
        "id": "oZrfquKtyian"
      },
      "execution_count": null,
      "outputs": []
    },
    {
      "cell_type": "markdown",
      "source": [
        "##### Which statistical test have you done to obtain P-Value?"
      ],
      "metadata": {
        "id": "Ou-I18pAyIpj"
      }
    },
    {
      "cell_type": "markdown",
      "source": [
        "Answer Here."
      ],
      "metadata": {
        "id": "s2U0kk00ygSB"
      }
    },
    {
      "cell_type": "markdown",
      "source": [
        "##### Why did you choose the specific statistical test?"
      ],
      "metadata": {
        "id": "fF3858GYyt-u"
      }
    },
    {
      "cell_type": "markdown",
      "source": [
        "Answer Here."
      ],
      "metadata": {
        "id": "HO4K0gP5y3B4"
      }
    },
    {
      "cell_type": "markdown",
      "source": [
        "### Hypothetical Statement - 2"
      ],
      "metadata": {
        "id": "4_0_7-oCpUZd"
      }
    },
    {
      "cell_type": "markdown",
      "source": [
        "#### 1. State Your research hypothesis as a null hypothesis and alternate hypothesis."
      ],
      "metadata": {
        "id": "hwyV_J3ipUZe"
      }
    },
    {
      "cell_type": "markdown",
      "source": [
        "Answer Here."
      ],
      "metadata": {
        "id": "FnpLGJ-4pUZe"
      }
    },
    {
      "cell_type": "markdown",
      "source": [
        "#### 2. Perform an appropriate statistical test."
      ],
      "metadata": {
        "id": "3yB-zSqbpUZe"
      }
    },
    {
      "cell_type": "code",
      "source": [
        "# Perform Statistical Test to obtain P-Value"
      ],
      "metadata": {
        "id": "sWxdNTXNpUZe"
      },
      "execution_count": null,
      "outputs": []
    },
    {
      "cell_type": "markdown",
      "source": [
        "##### Which statistical test have you done to obtain P-Value?"
      ],
      "metadata": {
        "id": "dEUvejAfpUZe"
      }
    },
    {
      "cell_type": "markdown",
      "source": [
        "Answer Here."
      ],
      "metadata": {
        "id": "oLDrPz7HpUZf"
      }
    },
    {
      "cell_type": "markdown",
      "source": [
        "##### Why did you choose the specific statistical test?"
      ],
      "metadata": {
        "id": "Fd15vwWVpUZf"
      }
    },
    {
      "cell_type": "markdown",
      "source": [
        "Answer Here."
      ],
      "metadata": {
        "id": "4xOGYyiBpUZf"
      }
    },
    {
      "cell_type": "markdown",
      "source": [
        "### Hypothetical Statement - 3"
      ],
      "metadata": {
        "id": "bn_IUdTipZyH"
      }
    },
    {
      "cell_type": "markdown",
      "source": [
        "#### 1. State Your research hypothesis as a null hypothesis and alternate hypothesis."
      ],
      "metadata": {
        "id": "49K5P_iCpZyH"
      }
    },
    {
      "cell_type": "markdown",
      "source": [
        "Answer Here."
      ],
      "metadata": {
        "id": "7gWI5rT9pZyH"
      }
    },
    {
      "cell_type": "markdown",
      "source": [
        "#### 2. Perform an appropriate statistical test."
      ],
      "metadata": {
        "id": "Nff-vKELpZyI"
      }
    },
    {
      "cell_type": "code",
      "source": [
        "# Perform Statistical Test to obtain P-Value"
      ],
      "metadata": {
        "id": "s6AnJQjtpZyI"
      },
      "execution_count": null,
      "outputs": []
    },
    {
      "cell_type": "markdown",
      "source": [
        "##### Which statistical test have you done to obtain P-Value?"
      ],
      "metadata": {
        "id": "kLW572S8pZyI"
      }
    },
    {
      "cell_type": "markdown",
      "source": [
        "Answer Here."
      ],
      "metadata": {
        "id": "ytWJ8v15pZyI"
      }
    },
    {
      "cell_type": "markdown",
      "source": [
        "##### Why did you choose the specific statistical test?"
      ],
      "metadata": {
        "id": "dWbDXHzopZyI"
      }
    },
    {
      "cell_type": "markdown",
      "source": [
        "Answer Here."
      ],
      "metadata": {
        "id": "M99G98V6pZyI"
      }
    },
    {
      "cell_type": "markdown",
      "source": [
        "## ***6. Feature Engineering & Data Pre-processing***"
      ],
      "metadata": {
        "id": "yLjJCtPM0KBk"
      }
    },
    {
      "cell_type": "markdown",
      "source": [
        "### 1. Handling Missing Values"
      ],
      "metadata": {
        "id": "xiyOF9F70UgQ"
      }
    },
    {
      "cell_type": "code",
      "source": [
        "# Handling Missing Values & Missing Value Imputation\n",
        "df.isnull().sum()"
      ],
      "metadata": {
        "id": "iRsAHk1K0fpS",
        "colab": {
          "base_uri": "https://localhost:8080/",
          "height": 1000
        },
        "outputId": "e43e8ae7-d534-4c0a-e4c9-3cc658f529fa"
      },
      "execution_count": null,
      "outputs": [
        {
          "output_type": "execute_result",
          "data": {
            "text/plain": [
              "battery_power             0\n",
              "blue                      0\n",
              "clock_speed               0\n",
              "dual_sim                  0\n",
              "fc                        0\n",
              "four_g                    0\n",
              "int_memory                0\n",
              "m_dep                     0\n",
              "mobile_wt                 0\n",
              "n_cores                   0\n",
              "pc                        0\n",
              "px_height                 0\n",
              "px_width                  0\n",
              "ram                       0\n",
              "sc_h                      0\n",
              "sc_w                      0\n",
              "talk_time                 0\n",
              "three_g                   0\n",
              "touch_screen              0\n",
              "wifi                      0\n",
              "price_range               0\n",
              "pixel_area                0\n",
              "screen_area               0\n",
              "ram_category              0\n",
              "battery_power_category    0\n",
              "clock_speed_category      0\n",
              "fc_category               0\n",
              "int_memory_category       0\n",
              "m_dep_category            0\n",
              "n_cores_category          0\n",
              "pc_category               0\n",
              "px_height_category        0\n",
              "px_width_category         0\n",
              "sc_h_category             0\n",
              "sc_w_category             0\n",
              "talk_time_category        0\n",
              "pixel_area_category       0\n",
              "screen_area_category      0\n",
              "dtype: int64"
            ],
            "text/html": [
              "<div>\n",
              "<style scoped>\n",
              "    .dataframe tbody tr th:only-of-type {\n",
              "        vertical-align: middle;\n",
              "    }\n",
              "\n",
              "    .dataframe tbody tr th {\n",
              "        vertical-align: top;\n",
              "    }\n",
              "\n",
              "    .dataframe thead th {\n",
              "        text-align: right;\n",
              "    }\n",
              "</style>\n",
              "<table border=\"1\" class=\"dataframe\">\n",
              "  <thead>\n",
              "    <tr style=\"text-align: right;\">\n",
              "      <th></th>\n",
              "      <th>0</th>\n",
              "    </tr>\n",
              "  </thead>\n",
              "  <tbody>\n",
              "    <tr>\n",
              "      <th>battery_power</th>\n",
              "      <td>0</td>\n",
              "    </tr>\n",
              "    <tr>\n",
              "      <th>blue</th>\n",
              "      <td>0</td>\n",
              "    </tr>\n",
              "    <tr>\n",
              "      <th>clock_speed</th>\n",
              "      <td>0</td>\n",
              "    </tr>\n",
              "    <tr>\n",
              "      <th>dual_sim</th>\n",
              "      <td>0</td>\n",
              "    </tr>\n",
              "    <tr>\n",
              "      <th>fc</th>\n",
              "      <td>0</td>\n",
              "    </tr>\n",
              "    <tr>\n",
              "      <th>four_g</th>\n",
              "      <td>0</td>\n",
              "    </tr>\n",
              "    <tr>\n",
              "      <th>int_memory</th>\n",
              "      <td>0</td>\n",
              "    </tr>\n",
              "    <tr>\n",
              "      <th>m_dep</th>\n",
              "      <td>0</td>\n",
              "    </tr>\n",
              "    <tr>\n",
              "      <th>mobile_wt</th>\n",
              "      <td>0</td>\n",
              "    </tr>\n",
              "    <tr>\n",
              "      <th>n_cores</th>\n",
              "      <td>0</td>\n",
              "    </tr>\n",
              "    <tr>\n",
              "      <th>pc</th>\n",
              "      <td>0</td>\n",
              "    </tr>\n",
              "    <tr>\n",
              "      <th>px_height</th>\n",
              "      <td>0</td>\n",
              "    </tr>\n",
              "    <tr>\n",
              "      <th>px_width</th>\n",
              "      <td>0</td>\n",
              "    </tr>\n",
              "    <tr>\n",
              "      <th>ram</th>\n",
              "      <td>0</td>\n",
              "    </tr>\n",
              "    <tr>\n",
              "      <th>sc_h</th>\n",
              "      <td>0</td>\n",
              "    </tr>\n",
              "    <tr>\n",
              "      <th>sc_w</th>\n",
              "      <td>0</td>\n",
              "    </tr>\n",
              "    <tr>\n",
              "      <th>talk_time</th>\n",
              "      <td>0</td>\n",
              "    </tr>\n",
              "    <tr>\n",
              "      <th>three_g</th>\n",
              "      <td>0</td>\n",
              "    </tr>\n",
              "    <tr>\n",
              "      <th>touch_screen</th>\n",
              "      <td>0</td>\n",
              "    </tr>\n",
              "    <tr>\n",
              "      <th>wifi</th>\n",
              "      <td>0</td>\n",
              "    </tr>\n",
              "    <tr>\n",
              "      <th>price_range</th>\n",
              "      <td>0</td>\n",
              "    </tr>\n",
              "    <tr>\n",
              "      <th>pixel_area</th>\n",
              "      <td>0</td>\n",
              "    </tr>\n",
              "    <tr>\n",
              "      <th>screen_area</th>\n",
              "      <td>0</td>\n",
              "    </tr>\n",
              "    <tr>\n",
              "      <th>ram_category</th>\n",
              "      <td>0</td>\n",
              "    </tr>\n",
              "    <tr>\n",
              "      <th>battery_power_category</th>\n",
              "      <td>0</td>\n",
              "    </tr>\n",
              "    <tr>\n",
              "      <th>clock_speed_category</th>\n",
              "      <td>0</td>\n",
              "    </tr>\n",
              "    <tr>\n",
              "      <th>fc_category</th>\n",
              "      <td>0</td>\n",
              "    </tr>\n",
              "    <tr>\n",
              "      <th>int_memory_category</th>\n",
              "      <td>0</td>\n",
              "    </tr>\n",
              "    <tr>\n",
              "      <th>m_dep_category</th>\n",
              "      <td>0</td>\n",
              "    </tr>\n",
              "    <tr>\n",
              "      <th>n_cores_category</th>\n",
              "      <td>0</td>\n",
              "    </tr>\n",
              "    <tr>\n",
              "      <th>pc_category</th>\n",
              "      <td>0</td>\n",
              "    </tr>\n",
              "    <tr>\n",
              "      <th>px_height_category</th>\n",
              "      <td>0</td>\n",
              "    </tr>\n",
              "    <tr>\n",
              "      <th>px_width_category</th>\n",
              "      <td>0</td>\n",
              "    </tr>\n",
              "    <tr>\n",
              "      <th>sc_h_category</th>\n",
              "      <td>0</td>\n",
              "    </tr>\n",
              "    <tr>\n",
              "      <th>sc_w_category</th>\n",
              "      <td>0</td>\n",
              "    </tr>\n",
              "    <tr>\n",
              "      <th>talk_time_category</th>\n",
              "      <td>0</td>\n",
              "    </tr>\n",
              "    <tr>\n",
              "      <th>pixel_area_category</th>\n",
              "      <td>0</td>\n",
              "    </tr>\n",
              "    <tr>\n",
              "      <th>screen_area_category</th>\n",
              "      <td>0</td>\n",
              "    </tr>\n",
              "  </tbody>\n",
              "</table>\n",
              "</div><br><label><b>dtype:</b> int64</label>"
            ]
          },
          "metadata": {},
          "execution_count": 137
        }
      ]
    },
    {
      "cell_type": "markdown",
      "source": [
        "#### What all missing value imputation techniques have you used and why did you use those techniques?"
      ],
      "metadata": {
        "id": "7wuGOrhz0itI"
      }
    },
    {
      "cell_type": "markdown",
      "source": [
        "Answer Here."
      ],
      "metadata": {
        "id": "1ixusLtI0pqI"
      }
    },
    {
      "cell_type": "markdown",
      "source": [
        "### 2. Handling Outliers"
      ],
      "metadata": {
        "id": "id1riN9m0vUs"
      }
    },
    {
      "cell_type": "code",
      "source": [
        "import plotly.express as px\n",
        "\n",
        "\n",
        "def check_outliers(columns,data):\n",
        "\n",
        "  # use plotly for better plot\n",
        "  for i in columns:\n",
        "    fig = px.box(data,y=i)\n",
        "    #fig.update_layout(height=500, width=600)\n",
        "    fig.show()\n",
        "\n"
      ],
      "metadata": {
        "id": "70wedAh3RT35"
      },
      "execution_count": null,
      "outputs": []
    },
    {
      "cell_type": "code",
      "source": [
        "\n",
        "columns1 = [['battery_power', 'clock_speed', 'fc', 'int_memory', 'm_dep', 'n_cores', 'pc', 'pixel_area',\t'screen_area', 'ram', 'talk_time']]\n",
        "check_outliers(columns1, df)"
      ],
      "metadata": {
        "id": "M6w2CzZf04JK",
        "colab": {
          "base_uri": "https://localhost:8080/",
          "height": 542
        },
        "outputId": "ec3725ee-5727-4fad-a809-4e195a09b74d"
      },
      "execution_count": null,
      "outputs": [
        {
          "output_type": "display_data",
          "data": {
            "text/html": [
              "<html>\n",
              "<head><meta charset=\"utf-8\" /></head>\n",
              "<body>\n",
              "    <div>            <script src=\"https://cdnjs.cloudflare.com/ajax/libs/mathjax/2.7.5/MathJax.js?config=TeX-AMS-MML_SVG\"></script><script type=\"text/javascript\">if (window.MathJax && window.MathJax.Hub && window.MathJax.Hub.Config) {window.MathJax.Hub.Config({SVG: {font: \"STIX-Web\"}});}</script>                <script type=\"text/javascript\">window.PlotlyConfig = {MathJaxConfig: 'local'};</script>\n",
              "        <script charset=\"utf-8\" src=\"https://cdn.plot.ly/plotly-2.35.2.min.js\"></script>                <div id=\"bec50b07-f770-4048-9e27-866661ab61a7\" class=\"plotly-graph-div\" style=\"height:525px; width:100%;\"></div>            <script type=\"text/javascript\">                                    window.PLOTLYENV=window.PLOTLYENV || {};                                    if (document.getElementById(\"bec50b07-f770-4048-9e27-866661ab61a7\")) {                    Plotly.newPlot(                        \"bec50b07-f770-4048-9e27-866661ab61a7\",                        [{\"alignmentgroup\":\"True\",\"hovertemplate\":\"variable=%{x}\\u003cbr\\u003evalue=%{y}\\u003cextra\\u003e\\u003c\\u002fextra\\u003e\",\"legendgroup\":\"\",\"marker\":{\"color\":\"#636efa\"},\"name\":\"\",\"notched\":false,\"offsetgroup\":\"\",\"orientation\":\"v\",\"showlegend\":false,\"x\":[\"battery_power\",\"battery_power\",\"battery_power\",\"battery_power\",\"battery_power\",\"battery_power\",\"battery_power\",\"battery_power\",\"battery_power\",\"battery_power\",\"battery_power\",\"battery_power\",\"battery_power\",\"battery_power\",\"battery_power\",\"battery_power\",\"battery_power\",\"battery_power\",\"battery_power\",\"battery_power\",\"battery_power\",\"battery_power\",\"battery_power\",\"battery_power\",\"battery_power\",\"battery_power\",\"battery_power\",\"battery_power\",\"battery_power\",\"battery_power\",\"battery_power\",\"battery_power\",\"battery_power\",\"battery_power\",\"battery_power\",\"battery_power\",\"battery_power\",\"battery_power\",\"battery_power\",\"battery_power\",\"battery_power\",\"battery_power\",\"battery_power\",\"battery_power\",\"battery_power\",\"battery_power\",\"battery_power\",\"battery_power\",\"battery_power\",\"battery_power\",\"battery_power\",\"battery_power\",\"battery_power\",\"battery_power\",\"battery_power\",\"battery_power\",\"battery_power\",\"battery_power\",\"battery_power\",\"battery_power\",\"battery_power\",\"battery_power\",\"battery_power\",\"battery_power\",\"battery_power\",\"battery_power\",\"battery_power\",\"battery_power\",\"battery_power\",\"battery_power\",\"battery_power\",\"battery_power\",\"battery_power\",\"battery_power\",\"battery_power\",\"battery_power\",\"battery_power\",\"battery_power\",\"battery_power\",\"battery_power\",\"battery_power\",\"battery_power\",\"battery_power\",\"battery_power\",\"battery_power\",\"battery_power\",\"battery_power\",\"battery_power\",\"battery_power\",\"battery_power\",\"battery_power\",\"battery_power\",\"battery_power\",\"battery_power\",\"battery_power\",\"battery_power\",\"battery_power\",\"battery_power\",\"battery_power\",\"battery_power\",\"battery_power\",\"battery_power\",\"battery_power\",\"battery_power\",\"battery_power\",\"battery_power\",\"battery_power\",\"battery_power\",\"battery_power\",\"battery_power\",\"battery_power\",\"battery_power\",\"battery_power\",\"battery_power\",\"battery_power\",\"battery_power\",\"battery_power\",\"battery_power\",\"battery_power\",\"battery_power\",\"battery_power\",\"battery_power\",\"battery_power\",\"battery_power\",\"battery_power\",\"battery_power\",\"battery_power\",\"battery_power\",\"battery_power\",\"battery_power\",\"battery_power\",\"battery_power\",\"battery_power\",\"battery_power\",\"battery_power\",\"battery_power\",\"battery_power\",\"battery_power\",\"battery_power\",\"battery_power\",\"battery_power\",\"battery_power\",\"battery_power\",\"battery_power\",\"battery_power\",\"battery_power\",\"battery_power\",\"battery_power\",\"battery_power\",\"battery_power\",\"battery_power\",\"battery_power\",\"battery_power\",\"battery_power\",\"battery_power\",\"battery_power\",\"battery_power\",\"battery_power\",\"battery_power\",\"battery_power\",\"battery_power\",\"battery_power\",\"battery_power\",\"battery_power\",\"battery_power\",\"battery_power\",\"battery_power\",\"battery_power\",\"battery_power\",\"battery_power\",\"battery_power\",\"battery_power\",\"battery_power\",\"battery_power\",\"battery_power\",\"battery_power\",\"battery_power\",\"battery_power\",\"battery_power\",\"battery_power\",\"battery_power\",\"battery_power\",\"battery_power\",\"battery_power\",\"battery_power\",\"battery_power\",\"battery_power\",\"battery_power\",\"battery_power\",\"battery_power\",\"battery_power\",\"battery_power\",\"battery_power\",\"battery_power\",\"battery_power\",\"battery_power\",\"battery_power\",\"battery_power\",\"battery_power\",\"battery_power\",\"battery_power\",\"battery_power\",\"battery_power\",\"battery_power\",\"battery_power\",\"battery_power\",\"battery_power\",\"battery_power\",\"battery_power\",\"battery_power\",\"battery_power\",\"battery_power\",\"battery_power\",\"battery_power\",\"battery_power\",\"battery_power\",\"battery_power\",\"battery_power\",\"battery_power\",\"battery_power\",\"battery_power\",\"battery_power\",\"battery_power\",\"battery_power\",\"battery_power\",\"battery_power\",\"battery_power\",\"battery_power\",\"battery_power\",\"battery_power\",\"battery_power\",\"battery_power\",\"battery_power\",\"battery_power\",\"battery_power\",\"battery_power\",\"battery_power\",\"battery_power\",\"battery_power\",\"battery_power\",\"battery_power\",\"battery_power\",\"battery_power\",\"battery_power\",\"battery_power\",\"battery_power\",\"battery_power\",\"battery_power\",\"battery_power\",\"battery_power\",\"battery_power\",\"battery_power\",\"battery_power\",\"battery_power\",\"battery_power\",\"battery_power\",\"battery_power\",\"battery_power\",\"battery_power\",\"battery_power\",\"battery_power\",\"battery_power\",\"battery_power\",\"battery_power\",\"battery_power\",\"battery_power\",\"battery_power\",\"battery_power\",\"battery_power\",\"battery_power\",\"battery_power\",\"battery_power\",\"battery_power\",\"battery_power\",\"battery_power\",\"battery_power\",\"battery_power\",\"battery_power\",\"battery_power\",\"battery_power\",\"battery_power\",\"battery_power\",\"battery_power\",\"battery_power\",\"battery_power\",\"battery_power\",\"battery_power\",\"battery_power\",\"battery_power\",\"battery_power\",\"battery_power\",\"battery_power\",\"battery_power\",\"battery_power\",\"battery_power\",\"battery_power\",\"battery_power\",\"battery_power\",\"battery_power\",\"battery_power\",\"battery_power\",\"battery_power\",\"battery_power\",\"battery_power\",\"battery_power\",\"battery_power\",\"battery_power\",\"battery_power\",\"battery_power\",\"battery_power\",\"battery_power\",\"battery_power\",\"battery_power\",\"battery_power\",\"battery_power\",\"battery_power\",\"battery_power\",\"battery_power\",\"battery_power\",\"battery_power\",\"battery_power\",\"battery_power\",\"battery_power\",\"battery_power\",\"battery_power\",\"battery_power\",\"battery_power\",\"battery_power\",\"battery_power\",\"battery_power\",\"battery_power\",\"battery_power\",\"battery_power\",\"battery_power\",\"battery_power\",\"battery_power\",\"battery_power\",\"battery_power\",\"battery_power\",\"battery_power\",\"battery_power\",\"battery_power\",\"battery_power\",\"battery_power\",\"battery_power\",\"battery_power\",\"battery_power\",\"battery_power\",\"battery_power\",\"battery_power\",\"battery_power\",\"battery_power\",\"battery_power\",\"battery_power\",\"battery_power\",\"battery_power\",\"battery_power\",\"battery_power\",\"battery_power\",\"battery_power\",\"battery_power\",\"battery_power\",\"battery_power\",\"battery_power\",\"battery_power\",\"battery_power\",\"battery_power\",\"battery_power\",\"battery_power\",\"battery_power\",\"battery_power\",\"battery_power\",\"battery_power\",\"battery_power\",\"battery_power\",\"battery_power\",\"battery_power\",\"battery_power\",\"battery_power\",\"battery_power\",\"battery_power\",\"battery_power\",\"battery_power\",\"battery_power\",\"battery_power\",\"battery_power\",\"battery_power\",\"battery_power\",\"battery_power\",\"battery_power\",\"battery_power\",\"battery_power\",\"battery_power\",\"battery_power\",\"battery_power\",\"battery_power\",\"battery_power\",\"battery_power\",\"battery_power\",\"battery_power\",\"battery_power\",\"battery_power\",\"battery_power\",\"battery_power\",\"battery_power\",\"battery_power\",\"battery_power\",\"battery_power\",\"battery_power\",\"battery_power\",\"battery_power\",\"battery_power\",\"battery_power\",\"battery_power\",\"battery_power\",\"battery_power\",\"battery_power\",\"battery_power\",\"battery_power\",\"battery_power\",\"battery_power\",\"battery_power\",\"battery_power\",\"battery_power\",\"battery_power\",\"battery_power\",\"battery_power\",\"battery_power\",\"battery_power\",\"battery_power\",\"battery_power\",\"battery_power\",\"battery_power\",\"battery_power\",\"battery_power\",\"battery_power\",\"battery_power\",\"battery_power\",\"battery_power\",\"battery_power\",\"battery_power\",\"battery_power\",\"battery_power\",\"battery_power\",\"battery_power\",\"battery_power\",\"battery_power\",\"battery_power\",\"battery_power\",\"battery_power\",\"battery_power\",\"battery_power\",\"battery_power\",\"battery_power\",\"battery_power\",\"battery_power\",\"battery_power\",\"battery_power\",\"battery_power\",\"battery_power\",\"battery_power\",\"battery_power\",\"battery_power\",\"battery_power\",\"battery_power\",\"battery_power\",\"battery_power\",\"battery_power\",\"battery_power\",\"battery_power\",\"battery_power\",\"battery_power\",\"battery_power\",\"battery_power\",\"battery_power\",\"battery_power\",\"battery_power\",\"battery_power\",\"battery_power\",\"battery_power\",\"battery_power\",\"battery_power\",\"battery_power\",\"battery_power\",\"battery_power\",\"battery_power\",\"battery_power\",\"battery_power\",\"battery_power\",\"battery_power\",\"battery_power\",\"battery_power\",\"battery_power\",\"battery_power\",\"battery_power\",\"battery_power\",\"battery_power\",\"battery_power\",\"battery_power\",\"battery_power\",\"battery_power\",\"battery_power\",\"battery_power\",\"battery_power\",\"battery_power\",\"battery_power\",\"battery_power\",\"battery_power\",\"battery_power\",\"battery_power\",\"battery_power\",\"battery_power\",\"battery_power\",\"battery_power\",\"battery_power\",\"battery_power\",\"battery_power\",\"battery_power\",\"battery_power\",\"battery_power\",\"battery_power\",\"battery_power\",\"battery_power\",\"battery_power\",\"battery_power\",\"battery_power\",\"battery_power\",\"battery_power\",\"battery_power\",\"battery_power\",\"battery_power\",\"battery_power\",\"battery_power\",\"battery_power\",\"battery_power\",\"battery_power\",\"battery_power\",\"battery_power\",\"battery_power\",\"battery_power\",\"battery_power\",\"battery_power\",\"battery_power\",\"battery_power\",\"battery_power\",\"battery_power\",\"battery_power\",\"battery_power\",\"battery_power\",\"battery_power\",\"battery_power\",\"battery_power\",\"battery_power\",\"battery_power\",\"battery_power\",\"battery_power\",\"battery_power\",\"battery_power\",\"battery_power\",\"battery_power\",\"battery_power\",\"battery_power\",\"battery_power\",\"battery_power\",\"battery_power\",\"battery_power\",\"battery_power\",\"battery_power\",\"battery_power\",\"battery_power\",\"battery_power\",\"battery_power\",\"battery_power\",\"battery_power\",\"battery_power\",\"battery_power\",\"battery_power\",\"battery_power\",\"battery_power\",\"battery_power\",\"battery_power\",\"battery_power\",\"battery_power\",\"battery_power\",\"battery_power\",\"battery_power\",\"battery_power\",\"battery_power\",\"battery_power\",\"battery_power\",\"battery_power\",\"battery_power\",\"battery_power\",\"battery_power\",\"battery_power\",\"battery_power\",\"battery_power\",\"battery_power\",\"battery_power\",\"battery_power\",\"battery_power\",\"battery_power\",\"battery_power\",\"battery_power\",\"battery_power\",\"battery_power\",\"battery_power\",\"battery_power\",\"battery_power\",\"battery_power\",\"battery_power\",\"battery_power\",\"battery_power\",\"battery_power\",\"battery_power\",\"battery_power\",\"battery_power\",\"battery_power\",\"battery_power\",\"battery_power\",\"battery_power\",\"battery_power\",\"battery_power\",\"battery_power\",\"battery_power\",\"battery_power\",\"battery_power\",\"battery_power\",\"battery_power\",\"battery_power\",\"battery_power\",\"battery_power\",\"battery_power\",\"battery_power\",\"battery_power\",\"battery_power\",\"battery_power\",\"battery_power\",\"battery_power\",\"battery_power\",\"battery_power\",\"battery_power\",\"battery_power\",\"battery_power\",\"battery_power\",\"battery_power\",\"battery_power\",\"battery_power\",\"battery_power\",\"battery_power\",\"battery_power\",\"battery_power\",\"battery_power\",\"battery_power\",\"battery_power\",\"battery_power\",\"battery_power\",\"battery_power\",\"battery_power\",\"battery_power\",\"battery_power\",\"battery_power\",\"battery_power\",\"battery_power\",\"battery_power\",\"battery_power\",\"battery_power\",\"battery_power\",\"battery_power\",\"battery_power\",\"battery_power\",\"battery_power\",\"battery_power\",\"battery_power\",\"battery_power\",\"battery_power\",\"battery_power\",\"battery_power\",\"battery_power\",\"battery_power\",\"battery_power\",\"battery_power\",\"battery_power\",\"battery_power\",\"battery_power\",\"battery_power\",\"battery_power\",\"battery_power\",\"battery_power\",\"battery_power\",\"battery_power\",\"battery_power\",\"battery_power\",\"battery_power\",\"battery_power\",\"battery_power\",\"battery_power\",\"battery_power\",\"battery_power\",\"battery_power\",\"battery_power\",\"battery_power\",\"battery_power\",\"battery_power\",\"battery_power\",\"battery_power\",\"battery_power\",\"battery_power\",\"battery_power\",\"battery_power\",\"battery_power\",\"battery_power\",\"battery_power\",\"battery_power\",\"battery_power\",\"battery_power\",\"battery_power\",\"battery_power\",\"battery_power\",\"battery_power\",\"battery_power\",\"battery_power\",\"battery_power\",\"battery_power\",\"battery_power\",\"battery_power\",\"battery_power\",\"battery_power\",\"battery_power\",\"battery_power\",\"battery_power\",\"battery_power\",\"battery_power\",\"battery_power\",\"battery_power\",\"battery_power\",\"battery_power\",\"battery_power\",\"battery_power\",\"battery_power\",\"battery_power\",\"battery_power\",\"battery_power\",\"battery_power\",\"battery_power\",\"battery_power\",\"battery_power\",\"battery_power\",\"battery_power\",\"battery_power\",\"battery_power\",\"battery_power\",\"battery_power\",\"battery_power\",\"battery_power\",\"battery_power\",\"battery_power\",\"battery_power\",\"battery_power\",\"battery_power\",\"battery_power\",\"battery_power\",\"battery_power\",\"battery_power\",\"battery_power\",\"battery_power\",\"battery_power\",\"battery_power\",\"battery_power\",\"battery_power\",\"battery_power\",\"battery_power\",\"battery_power\",\"battery_power\",\"battery_power\",\"battery_power\",\"battery_power\",\"battery_power\",\"battery_power\",\"battery_power\",\"battery_power\",\"battery_power\",\"battery_power\",\"battery_power\",\"battery_power\",\"battery_power\",\"battery_power\",\"battery_power\",\"battery_power\",\"battery_power\",\"battery_power\",\"battery_power\",\"battery_power\",\"battery_power\",\"battery_power\",\"battery_power\",\"battery_power\",\"battery_power\",\"battery_power\",\"battery_power\",\"battery_power\",\"battery_power\",\"battery_power\",\"battery_power\",\"battery_power\",\"battery_power\",\"battery_power\",\"battery_power\",\"battery_power\",\"battery_power\",\"battery_power\",\"battery_power\",\"battery_power\",\"battery_power\",\"battery_power\",\"battery_power\",\"battery_power\",\"battery_power\",\"battery_power\",\"battery_power\",\"battery_power\",\"battery_power\",\"battery_power\",\"battery_power\",\"battery_power\",\"battery_power\",\"battery_power\",\"battery_power\",\"battery_power\",\"battery_power\",\"battery_power\",\"battery_power\",\"battery_power\",\"battery_power\",\"battery_power\",\"battery_power\",\"battery_power\",\"battery_power\",\"battery_power\",\"battery_power\",\"battery_power\",\"battery_power\",\"battery_power\",\"battery_power\",\"battery_power\",\"battery_power\",\"battery_power\",\"battery_power\",\"battery_power\",\"battery_power\",\"battery_power\",\"battery_power\",\"battery_power\",\"battery_power\",\"battery_power\",\"battery_power\",\"battery_power\",\"battery_power\",\"battery_power\",\"battery_power\",\"battery_power\",\"battery_power\",\"battery_power\",\"battery_power\",\"battery_power\",\"battery_power\",\"battery_power\",\"battery_power\",\"battery_power\",\"battery_power\",\"battery_power\",\"battery_power\",\"battery_power\",\"battery_power\",\"battery_power\",\"battery_power\",\"battery_power\",\"battery_power\",\"battery_power\",\"battery_power\",\"battery_power\",\"battery_power\",\"battery_power\",\"battery_power\",\"battery_power\",\"battery_power\",\"battery_power\",\"battery_power\",\"battery_power\",\"battery_power\",\"battery_power\",\"battery_power\",\"battery_power\",\"battery_power\",\"battery_power\",\"battery_power\",\"battery_power\",\"battery_power\",\"battery_power\",\"battery_power\",\"battery_power\",\"battery_power\",\"battery_power\",\"battery_power\",\"battery_power\",\"battery_power\",\"battery_power\",\"battery_power\",\"battery_power\",\"battery_power\",\"battery_power\",\"battery_power\",\"battery_power\",\"battery_power\",\"battery_power\",\"battery_power\",\"battery_power\",\"battery_power\",\"battery_power\",\"battery_power\",\"battery_power\",\"battery_power\",\"battery_power\",\"battery_power\",\"battery_power\",\"battery_power\",\"battery_power\",\"battery_power\",\"battery_power\",\"battery_power\",\"battery_power\",\"battery_power\",\"battery_power\",\"battery_power\",\"battery_power\",\"battery_power\",\"battery_power\",\"battery_power\",\"battery_power\",\"battery_power\",\"battery_power\",\"battery_power\",\"battery_power\",\"battery_power\",\"battery_power\",\"battery_power\",\"battery_power\",\"battery_power\",\"battery_power\",\"battery_power\",\"battery_power\",\"battery_power\",\"battery_power\",\"battery_power\",\"battery_power\",\"battery_power\",\"battery_power\",\"battery_power\",\"battery_power\",\"battery_power\",\"battery_power\",\"battery_power\",\"battery_power\",\"battery_power\",\"battery_power\",\"battery_power\",\"battery_power\",\"battery_power\",\"battery_power\",\"battery_power\",\"battery_power\",\"battery_power\",\"battery_power\",\"battery_power\",\"battery_power\",\"battery_power\",\"battery_power\",\"battery_power\",\"battery_power\",\"battery_power\",\"battery_power\",\"battery_power\",\"battery_power\",\"battery_power\",\"battery_power\",\"battery_power\",\"battery_power\",\"battery_power\",\"battery_power\",\"battery_power\",\"battery_power\",\"battery_power\",\"battery_power\",\"battery_power\",\"battery_power\",\"battery_power\",\"battery_power\",\"battery_power\",\"battery_power\",\"battery_power\",\"battery_power\",\"battery_power\",\"battery_power\",\"battery_power\",\"battery_power\",\"battery_power\",\"battery_power\",\"battery_power\",\"battery_power\",\"battery_power\",\"battery_power\",\"battery_power\",\"battery_power\",\"battery_power\",\"battery_power\",\"battery_power\",\"battery_power\",\"battery_power\",\"battery_power\",\"battery_power\",\"battery_power\",\"battery_power\",\"battery_power\",\"battery_power\",\"battery_power\",\"battery_power\",\"battery_power\",\"battery_power\",\"battery_power\",\"battery_power\",\"battery_power\",\"battery_power\",\"battery_power\",\"battery_power\",\"battery_power\",\"battery_power\",\"battery_power\",\"battery_power\",\"battery_power\",\"battery_power\",\"battery_power\",\"battery_power\",\"battery_power\",\"battery_power\",\"battery_power\",\"battery_power\",\"battery_power\",\"battery_power\",\"battery_power\",\"battery_power\",\"battery_power\",\"battery_power\",\"battery_power\",\"battery_power\",\"battery_power\",\"battery_power\",\"battery_power\",\"battery_power\",\"battery_power\",\"battery_power\",\"battery_power\",\"battery_power\",\"battery_power\",\"battery_power\",\"battery_power\",\"battery_power\",\"battery_power\",\"battery_power\",\"battery_power\",\"battery_power\",\"battery_power\",\"battery_power\",\"battery_power\",\"battery_power\",\"battery_power\",\"battery_power\",\"battery_power\",\"battery_power\",\"battery_power\",\"battery_power\",\"battery_power\",\"battery_power\",\"battery_power\",\"battery_power\",\"battery_power\",\"battery_power\",\"battery_power\",\"battery_power\",\"battery_power\",\"battery_power\",\"battery_power\",\"battery_power\",\"battery_power\",\"battery_power\",\"battery_power\",\"battery_power\",\"battery_power\",\"battery_power\",\"battery_power\",\"battery_power\",\"battery_power\",\"battery_power\",\"battery_power\",\"battery_power\",\"battery_power\",\"battery_power\",\"battery_power\",\"battery_power\",\"battery_power\",\"battery_power\",\"battery_power\",\"battery_power\",\"battery_power\",\"battery_power\",\"battery_power\",\"battery_power\",\"battery_power\",\"battery_power\",\"battery_power\",\"battery_power\",\"battery_power\",\"battery_power\",\"battery_power\",\"battery_power\",\"battery_power\",\"battery_power\",\"battery_power\",\"battery_power\",\"battery_power\",\"battery_power\",\"battery_power\",\"battery_power\",\"battery_power\",\"battery_power\",\"battery_power\",\"battery_power\",\"battery_power\",\"battery_power\",\"battery_power\",\"battery_power\",\"battery_power\",\"battery_power\",\"battery_power\",\"battery_power\",\"battery_power\",\"battery_power\",\"battery_power\",\"battery_power\",\"battery_power\",\"battery_power\",\"battery_power\",\"battery_power\",\"battery_power\",\"battery_power\",\"battery_power\",\"battery_power\",\"battery_power\",\"battery_power\",\"battery_power\",\"battery_power\",\"battery_power\",\"battery_power\",\"battery_power\",\"battery_power\",\"battery_power\",\"battery_power\",\"battery_power\",\"battery_power\",\"battery_power\",\"battery_power\",\"battery_power\",\"battery_power\",\"battery_power\",\"battery_power\",\"battery_power\",\"battery_power\",\"battery_power\",\"battery_power\",\"battery_power\",\"battery_power\",\"battery_power\",\"battery_power\",\"battery_power\",\"battery_power\",\"battery_power\",\"battery_power\",\"battery_power\",\"battery_power\",\"battery_power\",\"battery_power\",\"battery_power\",\"battery_power\",\"battery_power\",\"battery_power\",\"battery_power\",\"battery_power\",\"battery_power\",\"battery_power\",\"battery_power\",\"battery_power\",\"battery_power\",\"battery_power\",\"battery_power\",\"battery_power\",\"battery_power\",\"battery_power\",\"battery_power\",\"battery_power\",\"battery_power\",\"battery_power\",\"battery_power\",\"battery_power\",\"battery_power\",\"battery_power\",\"battery_power\",\"battery_power\",\"battery_power\",\"battery_power\",\"battery_power\",\"battery_power\",\"battery_power\",\"battery_power\",\"battery_power\",\"battery_power\",\"battery_power\",\"battery_power\",\"battery_power\",\"battery_power\",\"battery_power\",\"battery_power\",\"battery_power\",\"battery_power\",\"battery_power\",\"battery_power\",\"battery_power\",\"battery_power\",\"battery_power\",\"battery_power\",\"battery_power\",\"battery_power\",\"battery_power\",\"battery_power\",\"battery_power\",\"battery_power\",\"battery_power\",\"battery_power\",\"battery_power\",\"battery_power\",\"battery_power\",\"battery_power\",\"battery_power\",\"battery_power\",\"battery_power\",\"battery_power\",\"battery_power\",\"battery_power\",\"battery_power\",\"battery_power\",\"battery_power\",\"battery_power\",\"battery_power\",\"battery_power\",\"battery_power\",\"battery_power\",\"battery_power\",\"battery_power\",\"battery_power\",\"battery_power\",\"battery_power\",\"battery_power\",\"battery_power\",\"battery_power\",\"battery_power\",\"battery_power\",\"battery_power\",\"battery_power\",\"battery_power\",\"battery_power\",\"battery_power\",\"battery_power\",\"battery_power\",\"battery_power\",\"battery_power\",\"battery_power\",\"battery_power\",\"battery_power\",\"battery_power\",\"battery_power\",\"battery_power\",\"battery_power\",\"battery_power\",\"battery_power\",\"battery_power\",\"battery_power\",\"battery_power\",\"battery_power\",\"battery_power\",\"battery_power\",\"battery_power\",\"battery_power\",\"battery_power\",\"battery_power\",\"battery_power\",\"battery_power\",\"battery_power\",\"battery_power\",\"battery_power\",\"battery_power\",\"battery_power\",\"battery_power\",\"battery_power\",\"battery_power\",\"battery_power\",\"battery_power\",\"battery_power\",\"battery_power\",\"battery_power\",\"battery_power\",\"battery_power\",\"battery_power\",\"battery_power\",\"battery_power\",\"battery_power\",\"battery_power\",\"battery_power\",\"battery_power\",\"battery_power\",\"battery_power\",\"battery_power\",\"battery_power\",\"battery_power\",\"battery_power\",\"battery_power\",\"battery_power\",\"battery_power\",\"battery_power\",\"battery_power\",\"battery_power\",\"battery_power\",\"battery_power\",\"battery_power\",\"battery_power\",\"battery_power\",\"battery_power\",\"battery_power\",\"battery_power\",\"battery_power\",\"battery_power\",\"battery_power\",\"battery_power\",\"battery_power\",\"battery_power\",\"battery_power\",\"battery_power\",\"battery_power\",\"battery_power\",\"battery_power\",\"battery_power\",\"battery_power\",\"battery_power\",\"battery_power\",\"battery_power\",\"battery_power\",\"battery_power\",\"battery_power\",\"battery_power\",\"battery_power\",\"battery_power\",\"battery_power\",\"battery_power\",\"battery_power\",\"battery_power\",\"battery_power\",\"battery_power\",\"battery_power\",\"battery_power\",\"battery_power\",\"battery_power\",\"battery_power\",\"battery_power\",\"battery_power\",\"battery_power\",\"battery_power\",\"battery_power\",\"battery_power\",\"battery_power\",\"battery_power\",\"battery_power\",\"battery_power\",\"battery_power\",\"battery_power\",\"battery_power\",\"battery_power\",\"battery_power\",\"battery_power\",\"battery_power\",\"battery_power\",\"battery_power\",\"battery_power\",\"battery_power\",\"battery_power\",\"battery_power\",\"battery_power\",\"battery_power\",\"battery_power\",\"battery_power\",\"battery_power\",\"battery_power\",\"battery_power\",\"battery_power\",\"battery_power\",\"battery_power\",\"battery_power\",\"battery_power\",\"battery_power\",\"battery_power\",\"battery_power\",\"battery_power\",\"battery_power\",\"battery_power\",\"battery_power\",\"battery_power\",\"battery_power\",\"battery_power\",\"battery_power\",\"battery_power\",\"battery_power\",\"battery_power\",\"battery_power\",\"battery_power\",\"battery_power\",\"battery_power\",\"battery_power\",\"battery_power\",\"battery_power\",\"battery_power\",\"battery_power\",\"battery_power\",\"battery_power\",\"battery_power\",\"battery_power\",\"battery_power\",\"battery_power\",\"battery_power\",\"battery_power\",\"battery_power\",\"battery_power\",\"battery_power\",\"battery_power\",\"battery_power\",\"battery_power\",\"battery_power\",\"battery_power\",\"battery_power\",\"battery_power\",\"battery_power\",\"battery_power\",\"battery_power\",\"battery_power\",\"battery_power\",\"battery_power\",\"battery_power\",\"battery_power\",\"battery_power\",\"battery_power\",\"battery_power\",\"battery_power\",\"battery_power\",\"battery_power\",\"battery_power\",\"battery_power\",\"battery_power\",\"battery_power\",\"battery_power\",\"battery_power\",\"battery_power\",\"battery_power\",\"battery_power\",\"battery_power\",\"battery_power\",\"battery_power\",\"battery_power\",\"battery_power\",\"battery_power\",\"battery_power\",\"battery_power\",\"battery_power\",\"battery_power\",\"battery_power\",\"battery_power\",\"battery_power\",\"battery_power\",\"battery_power\",\"battery_power\",\"battery_power\",\"battery_power\",\"battery_power\",\"battery_power\",\"battery_power\",\"battery_power\",\"battery_power\",\"battery_power\",\"battery_power\",\"battery_power\",\"battery_power\",\"battery_power\",\"battery_power\",\"battery_power\",\"battery_power\",\"battery_power\",\"battery_power\",\"battery_power\",\"battery_power\",\"battery_power\",\"battery_power\",\"battery_power\",\"battery_power\",\"battery_power\",\"battery_power\",\"battery_power\",\"battery_power\",\"battery_power\",\"battery_power\",\"battery_power\",\"battery_power\",\"battery_power\",\"battery_power\",\"battery_power\",\"battery_power\",\"battery_power\",\"battery_power\",\"battery_power\",\"battery_power\",\"battery_power\",\"battery_power\",\"battery_power\",\"battery_power\",\"battery_power\",\"battery_power\",\"battery_power\",\"battery_power\",\"battery_power\",\"battery_power\",\"battery_power\",\"battery_power\",\"battery_power\",\"battery_power\",\"battery_power\",\"battery_power\",\"battery_power\",\"battery_power\",\"battery_power\",\"battery_power\",\"battery_power\",\"battery_power\",\"battery_power\",\"battery_power\",\"battery_power\",\"battery_power\",\"battery_power\",\"battery_power\",\"battery_power\",\"battery_power\",\"battery_power\",\"battery_power\",\"battery_power\",\"battery_power\",\"battery_power\",\"battery_power\",\"battery_power\",\"battery_power\",\"battery_power\",\"battery_power\",\"battery_power\",\"battery_power\",\"battery_power\",\"battery_power\",\"battery_power\",\"battery_power\",\"battery_power\",\"battery_power\",\"battery_power\",\"battery_power\",\"battery_power\",\"battery_power\",\"battery_power\",\"battery_power\",\"battery_power\",\"battery_power\",\"battery_power\",\"battery_power\",\"battery_power\",\"battery_power\",\"battery_power\",\"battery_power\",\"battery_power\",\"battery_power\",\"battery_power\",\"battery_power\",\"battery_power\",\"battery_power\",\"battery_power\",\"battery_power\",\"battery_power\",\"battery_power\",\"battery_power\",\"battery_power\",\"battery_power\",\"battery_power\",\"battery_power\",\"battery_power\",\"battery_power\",\"battery_power\",\"battery_power\",\"battery_power\",\"battery_power\",\"battery_power\",\"battery_power\",\"battery_power\",\"battery_power\",\"battery_power\",\"battery_power\",\"battery_power\",\"battery_power\",\"battery_power\",\"battery_power\",\"battery_power\",\"battery_power\",\"battery_power\",\"battery_power\",\"battery_power\",\"battery_power\",\"battery_power\",\"battery_power\",\"battery_power\",\"battery_power\",\"battery_power\",\"battery_power\",\"battery_power\",\"battery_power\",\"battery_power\",\"battery_power\",\"battery_power\",\"battery_power\",\"battery_power\",\"battery_power\",\"battery_power\",\"battery_power\",\"battery_power\",\"battery_power\",\"battery_power\",\"battery_power\",\"battery_power\",\"battery_power\",\"battery_power\",\"battery_power\",\"battery_power\",\"battery_power\",\"battery_power\",\"battery_power\",\"battery_power\",\"battery_power\",\"battery_power\",\"battery_power\",\"battery_power\",\"battery_power\",\"battery_power\",\"battery_power\",\"battery_power\",\"battery_power\",\"battery_power\",\"battery_power\",\"battery_power\",\"battery_power\",\"battery_power\",\"battery_power\",\"battery_power\",\"battery_power\",\"battery_power\",\"battery_power\",\"battery_power\",\"battery_power\",\"battery_power\",\"battery_power\",\"battery_power\",\"battery_power\",\"battery_power\",\"battery_power\",\"battery_power\",\"battery_power\",\"battery_power\",\"battery_power\",\"battery_power\",\"battery_power\",\"battery_power\",\"battery_power\",\"battery_power\",\"battery_power\",\"battery_power\",\"battery_power\",\"battery_power\",\"battery_power\",\"battery_power\",\"battery_power\",\"battery_power\",\"battery_power\",\"battery_power\",\"battery_power\",\"battery_power\",\"battery_power\",\"battery_power\",\"battery_power\",\"battery_power\",\"battery_power\",\"battery_power\",\"battery_power\",\"battery_power\",\"battery_power\",\"battery_power\",\"battery_power\",\"battery_power\",\"battery_power\",\"battery_power\",\"battery_power\",\"battery_power\",\"battery_power\",\"battery_power\",\"battery_power\",\"battery_power\",\"battery_power\",\"battery_power\",\"battery_power\",\"battery_power\",\"battery_power\",\"battery_power\",\"battery_power\",\"battery_power\",\"battery_power\",\"battery_power\",\"battery_power\",\"battery_power\",\"battery_power\",\"battery_power\",\"battery_power\",\"battery_power\",\"battery_power\",\"battery_power\",\"battery_power\",\"battery_power\",\"battery_power\",\"battery_power\",\"battery_power\",\"battery_power\",\"battery_power\",\"battery_power\",\"battery_power\",\"battery_power\",\"battery_power\",\"battery_power\",\"battery_power\",\"battery_power\",\"battery_power\",\"battery_power\",\"battery_power\",\"battery_power\",\"battery_power\",\"battery_power\",\"battery_power\",\"battery_power\",\"battery_power\",\"battery_power\",\"battery_power\",\"battery_power\",\"battery_power\",\"battery_power\",\"battery_power\",\"battery_power\",\"battery_power\",\"battery_power\",\"battery_power\",\"battery_power\",\"battery_power\",\"battery_power\",\"battery_power\",\"battery_power\",\"battery_power\",\"battery_power\",\"battery_power\",\"battery_power\",\"battery_power\",\"battery_power\",\"battery_power\",\"battery_power\",\"battery_power\",\"battery_power\",\"battery_power\",\"battery_power\",\"battery_power\",\"battery_power\",\"battery_power\",\"battery_power\",\"battery_power\",\"battery_power\",\"battery_power\",\"battery_power\",\"battery_power\",\"battery_power\",\"battery_power\",\"battery_power\",\"battery_power\",\"battery_power\",\"battery_power\",\"battery_power\",\"battery_power\",\"battery_power\",\"battery_power\",\"battery_power\",\"battery_power\",\"battery_power\",\"battery_power\",\"battery_power\",\"battery_power\",\"battery_power\",\"battery_power\",\"battery_power\",\"battery_power\",\"battery_power\",\"battery_power\",\"battery_power\",\"battery_power\",\"battery_power\",\"battery_power\",\"battery_power\",\"battery_power\",\"battery_power\",\"battery_power\",\"battery_power\",\"battery_power\",\"battery_power\",\"battery_power\",\"battery_power\",\"battery_power\",\"battery_power\",\"battery_power\",\"battery_power\",\"battery_power\",\"battery_power\",\"battery_power\",\"battery_power\",\"battery_power\",\"battery_power\",\"battery_power\",\"battery_power\",\"battery_power\",\"battery_power\",\"battery_power\",\"battery_power\",\"battery_power\",\"battery_power\",\"battery_power\",\"battery_power\",\"battery_power\",\"battery_power\",\"battery_power\",\"battery_power\",\"battery_power\",\"battery_power\",\"battery_power\",\"battery_power\",\"battery_power\",\"battery_power\",\"battery_power\",\"battery_power\",\"battery_power\",\"battery_power\",\"battery_power\",\"battery_power\",\"battery_power\",\"battery_power\",\"battery_power\",\"battery_power\",\"battery_power\",\"battery_power\",\"battery_power\",\"battery_power\",\"battery_power\",\"battery_power\",\"battery_power\",\"battery_power\",\"battery_power\",\"battery_power\",\"battery_power\",\"battery_power\",\"battery_power\",\"battery_power\",\"battery_power\",\"battery_power\",\"battery_power\",\"battery_power\",\"battery_power\",\"battery_power\",\"battery_power\",\"battery_power\",\"battery_power\",\"battery_power\",\"battery_power\",\"battery_power\",\"battery_power\",\"battery_power\",\"battery_power\",\"battery_power\",\"battery_power\",\"battery_power\",\"battery_power\",\"battery_power\",\"battery_power\",\"battery_power\",\"battery_power\",\"battery_power\",\"battery_power\",\"battery_power\",\"battery_power\",\"battery_power\",\"battery_power\",\"battery_power\",\"battery_power\",\"battery_power\",\"battery_power\",\"battery_power\",\"battery_power\",\"battery_power\",\"battery_power\",\"battery_power\",\"battery_power\",\"battery_power\",\"battery_power\",\"battery_power\",\"battery_power\",\"battery_power\",\"battery_power\",\"battery_power\",\"battery_power\",\"battery_power\",\"battery_power\",\"battery_power\",\"battery_power\",\"battery_power\",\"battery_power\",\"battery_power\",\"battery_power\",\"battery_power\",\"battery_power\",\"battery_power\",\"battery_power\",\"battery_power\",\"battery_power\",\"battery_power\",\"battery_power\",\"battery_power\",\"battery_power\",\"battery_power\",\"battery_power\",\"battery_power\",\"battery_power\",\"battery_power\",\"battery_power\",\"battery_power\",\"battery_power\",\"battery_power\",\"battery_power\",\"battery_power\",\"battery_power\",\"battery_power\",\"battery_power\",\"battery_power\",\"battery_power\",\"battery_power\",\"battery_power\",\"battery_power\",\"battery_power\",\"battery_power\",\"battery_power\",\"battery_power\",\"battery_power\",\"battery_power\",\"battery_power\",\"battery_power\",\"battery_power\",\"battery_power\",\"battery_power\",\"battery_power\",\"battery_power\",\"battery_power\",\"battery_power\",\"battery_power\",\"battery_power\",\"battery_power\",\"battery_power\",\"battery_power\",\"battery_power\",\"clock_speed\",\"clock_speed\",\"clock_speed\",\"clock_speed\",\"clock_speed\",\"clock_speed\",\"clock_speed\",\"clock_speed\",\"clock_speed\",\"clock_speed\",\"clock_speed\",\"clock_speed\",\"clock_speed\",\"clock_speed\",\"clock_speed\",\"clock_speed\",\"clock_speed\",\"clock_speed\",\"clock_speed\",\"clock_speed\",\"clock_speed\",\"clock_speed\",\"clock_speed\",\"clock_speed\",\"clock_speed\",\"clock_speed\",\"clock_speed\",\"clock_speed\",\"clock_speed\",\"clock_speed\",\"clock_speed\",\"clock_speed\",\"clock_speed\",\"clock_speed\",\"clock_speed\",\"clock_speed\",\"clock_speed\",\"clock_speed\",\"clock_speed\",\"clock_speed\",\"clock_speed\",\"clock_speed\",\"clock_speed\",\"clock_speed\",\"clock_speed\",\"clock_speed\",\"clock_speed\",\"clock_speed\",\"clock_speed\",\"clock_speed\",\"clock_speed\",\"clock_speed\",\"clock_speed\",\"clock_speed\",\"clock_speed\",\"clock_speed\",\"clock_speed\",\"clock_speed\",\"clock_speed\",\"clock_speed\",\"clock_speed\",\"clock_speed\",\"clock_speed\",\"clock_speed\",\"clock_speed\",\"clock_speed\",\"clock_speed\",\"clock_speed\",\"clock_speed\",\"clock_speed\",\"clock_speed\",\"clock_speed\",\"clock_speed\",\"clock_speed\",\"clock_speed\",\"clock_speed\",\"clock_speed\",\"clock_speed\",\"clock_speed\",\"clock_speed\",\"clock_speed\",\"clock_speed\",\"clock_speed\",\"clock_speed\",\"clock_speed\",\"clock_speed\",\"clock_speed\",\"clock_speed\",\"clock_speed\",\"clock_speed\",\"clock_speed\",\"clock_speed\",\"clock_speed\",\"clock_speed\",\"clock_speed\",\"clock_speed\",\"clock_speed\",\"clock_speed\",\"clock_speed\",\"clock_speed\",\"clock_speed\",\"clock_speed\",\"clock_speed\",\"clock_speed\",\"clock_speed\",\"clock_speed\",\"clock_speed\",\"clock_speed\",\"clock_speed\",\"clock_speed\",\"clock_speed\",\"clock_speed\",\"clock_speed\",\"clock_speed\",\"clock_speed\",\"clock_speed\",\"clock_speed\",\"clock_speed\",\"clock_speed\",\"clock_speed\",\"clock_speed\",\"clock_speed\",\"clock_speed\",\"clock_speed\",\"clock_speed\",\"clock_speed\",\"clock_speed\",\"clock_speed\",\"clock_speed\",\"clock_speed\",\"clock_speed\",\"clock_speed\",\"clock_speed\",\"clock_speed\",\"clock_speed\",\"clock_speed\",\"clock_speed\",\"clock_speed\",\"clock_speed\",\"clock_speed\",\"clock_speed\",\"clock_speed\",\"clock_speed\",\"clock_speed\",\"clock_speed\",\"clock_speed\",\"clock_speed\",\"clock_speed\",\"clock_speed\",\"clock_speed\",\"clock_speed\",\"clock_speed\",\"clock_speed\",\"clock_speed\",\"clock_speed\",\"clock_speed\",\"clock_speed\",\"clock_speed\",\"clock_speed\",\"clock_speed\",\"clock_speed\",\"clock_speed\",\"clock_speed\",\"clock_speed\",\"clock_speed\",\"clock_speed\",\"clock_speed\",\"clock_speed\",\"clock_speed\",\"clock_speed\",\"clock_speed\",\"clock_speed\",\"clock_speed\",\"clock_speed\",\"clock_speed\",\"clock_speed\",\"clock_speed\",\"clock_speed\",\"clock_speed\",\"clock_speed\",\"clock_speed\",\"clock_speed\",\"clock_speed\",\"clock_speed\",\"clock_speed\",\"clock_speed\",\"clock_speed\",\"clock_speed\",\"clock_speed\",\"clock_speed\",\"clock_speed\",\"clock_speed\",\"clock_speed\",\"clock_speed\",\"clock_speed\",\"clock_speed\",\"clock_speed\",\"clock_speed\",\"clock_speed\",\"clock_speed\",\"clock_speed\",\"clock_speed\",\"clock_speed\",\"clock_speed\",\"clock_speed\",\"clock_speed\",\"clock_speed\",\"clock_speed\",\"clock_speed\",\"clock_speed\",\"clock_speed\",\"clock_speed\",\"clock_speed\",\"clock_speed\",\"clock_speed\",\"clock_speed\",\"clock_speed\",\"clock_speed\",\"clock_speed\",\"clock_speed\",\"clock_speed\",\"clock_speed\",\"clock_speed\",\"clock_speed\",\"clock_speed\",\"clock_speed\",\"clock_speed\",\"clock_speed\",\"clock_speed\",\"clock_speed\",\"clock_speed\",\"clock_speed\",\"clock_speed\",\"clock_speed\",\"clock_speed\",\"clock_speed\",\"clock_speed\",\"clock_speed\",\"clock_speed\",\"clock_speed\",\"clock_speed\",\"clock_speed\",\"clock_speed\",\"clock_speed\",\"clock_speed\",\"clock_speed\",\"clock_speed\",\"clock_speed\",\"clock_speed\",\"clock_speed\",\"clock_speed\",\"clock_speed\",\"clock_speed\",\"clock_speed\",\"clock_speed\",\"clock_speed\",\"clock_speed\",\"clock_speed\",\"clock_speed\",\"clock_speed\",\"clock_speed\",\"clock_speed\",\"clock_speed\",\"clock_speed\",\"clock_speed\",\"clock_speed\",\"clock_speed\",\"clock_speed\",\"clock_speed\",\"clock_speed\",\"clock_speed\",\"clock_speed\",\"clock_speed\",\"clock_speed\",\"clock_speed\",\"clock_speed\",\"clock_speed\",\"clock_speed\",\"clock_speed\",\"clock_speed\",\"clock_speed\",\"clock_speed\",\"clock_speed\",\"clock_speed\",\"clock_speed\",\"clock_speed\",\"clock_speed\",\"clock_speed\",\"clock_speed\",\"clock_speed\",\"clock_speed\",\"clock_speed\",\"clock_speed\",\"clock_speed\",\"clock_speed\",\"clock_speed\",\"clock_speed\",\"clock_speed\",\"clock_speed\",\"clock_speed\",\"clock_speed\",\"clock_speed\",\"clock_speed\",\"clock_speed\",\"clock_speed\",\"clock_speed\",\"clock_speed\",\"clock_speed\",\"clock_speed\",\"clock_speed\",\"clock_speed\",\"clock_speed\",\"clock_speed\",\"clock_speed\",\"clock_speed\",\"clock_speed\",\"clock_speed\",\"clock_speed\",\"clock_speed\",\"clock_speed\",\"clock_speed\",\"clock_speed\",\"clock_speed\",\"clock_speed\",\"clock_speed\",\"clock_speed\",\"clock_speed\",\"clock_speed\",\"clock_speed\",\"clock_speed\",\"clock_speed\",\"clock_speed\",\"clock_speed\",\"clock_speed\",\"clock_speed\",\"clock_speed\",\"clock_speed\",\"clock_speed\",\"clock_speed\",\"clock_speed\",\"clock_speed\",\"clock_speed\",\"clock_speed\",\"clock_speed\",\"clock_speed\",\"clock_speed\",\"clock_speed\",\"clock_speed\",\"clock_speed\",\"clock_speed\",\"clock_speed\",\"clock_speed\",\"clock_speed\",\"clock_speed\",\"clock_speed\",\"clock_speed\",\"clock_speed\",\"clock_speed\",\"clock_speed\",\"clock_speed\",\"clock_speed\",\"clock_speed\",\"clock_speed\",\"clock_speed\",\"clock_speed\",\"clock_speed\",\"clock_speed\",\"clock_speed\",\"clock_speed\",\"clock_speed\",\"clock_speed\",\"clock_speed\",\"clock_speed\",\"clock_speed\",\"clock_speed\",\"clock_speed\",\"clock_speed\",\"clock_speed\",\"clock_speed\",\"clock_speed\",\"clock_speed\",\"clock_speed\",\"clock_speed\",\"clock_speed\",\"clock_speed\",\"clock_speed\",\"clock_speed\",\"clock_speed\",\"clock_speed\",\"clock_speed\",\"clock_speed\",\"clock_speed\",\"clock_speed\",\"clock_speed\",\"clock_speed\",\"clock_speed\",\"clock_speed\",\"clock_speed\",\"clock_speed\",\"clock_speed\",\"clock_speed\",\"clock_speed\",\"clock_speed\",\"clock_speed\",\"clock_speed\",\"clock_speed\",\"clock_speed\",\"clock_speed\",\"clock_speed\",\"clock_speed\",\"clock_speed\",\"clock_speed\",\"clock_speed\",\"clock_speed\",\"clock_speed\",\"clock_speed\",\"clock_speed\",\"clock_speed\",\"clock_speed\",\"clock_speed\",\"clock_speed\",\"clock_speed\",\"clock_speed\",\"clock_speed\",\"clock_speed\",\"clock_speed\",\"clock_speed\",\"clock_speed\",\"clock_speed\",\"clock_speed\",\"clock_speed\",\"clock_speed\",\"clock_speed\",\"clock_speed\",\"clock_speed\",\"clock_speed\",\"clock_speed\",\"clock_speed\",\"clock_speed\",\"clock_speed\",\"clock_speed\",\"clock_speed\",\"clock_speed\",\"clock_speed\",\"clock_speed\",\"clock_speed\",\"clock_speed\",\"clock_speed\",\"clock_speed\",\"clock_speed\",\"clock_speed\",\"clock_speed\",\"clock_speed\",\"clock_speed\",\"clock_speed\",\"clock_speed\",\"clock_speed\",\"clock_speed\",\"clock_speed\",\"clock_speed\",\"clock_speed\",\"clock_speed\",\"clock_speed\",\"clock_speed\",\"clock_speed\",\"clock_speed\",\"clock_speed\",\"clock_speed\",\"clock_speed\",\"clock_speed\",\"clock_speed\",\"clock_speed\",\"clock_speed\",\"clock_speed\",\"clock_speed\",\"clock_speed\",\"clock_speed\",\"clock_speed\",\"clock_speed\",\"clock_speed\",\"clock_speed\",\"clock_speed\",\"clock_speed\",\"clock_speed\",\"clock_speed\",\"clock_speed\",\"clock_speed\",\"clock_speed\",\"clock_speed\",\"clock_speed\",\"clock_speed\",\"clock_speed\",\"clock_speed\",\"clock_speed\",\"clock_speed\",\"clock_speed\",\"clock_speed\",\"clock_speed\",\"clock_speed\",\"clock_speed\",\"clock_speed\",\"clock_speed\",\"clock_speed\",\"clock_speed\",\"clock_speed\",\"clock_speed\",\"clock_speed\",\"clock_speed\",\"clock_speed\",\"clock_speed\",\"clock_speed\",\"clock_speed\",\"clock_speed\",\"clock_speed\",\"clock_speed\",\"clock_speed\",\"clock_speed\",\"clock_speed\",\"clock_speed\",\"clock_speed\",\"clock_speed\",\"clock_speed\",\"clock_speed\",\"clock_speed\",\"clock_speed\",\"clock_speed\",\"clock_speed\",\"clock_speed\",\"clock_speed\",\"clock_speed\",\"clock_speed\",\"clock_speed\",\"clock_speed\",\"clock_speed\",\"clock_speed\",\"clock_speed\",\"clock_speed\",\"clock_speed\",\"clock_speed\",\"clock_speed\",\"clock_speed\",\"clock_speed\",\"clock_speed\",\"clock_speed\",\"clock_speed\",\"clock_speed\",\"clock_speed\",\"clock_speed\",\"clock_speed\",\"clock_speed\",\"clock_speed\",\"clock_speed\",\"clock_speed\",\"clock_speed\",\"clock_speed\",\"clock_speed\",\"clock_speed\",\"clock_speed\",\"clock_speed\",\"clock_speed\",\"clock_speed\",\"clock_speed\",\"clock_speed\",\"clock_speed\",\"clock_speed\",\"clock_speed\",\"clock_speed\",\"clock_speed\",\"clock_speed\",\"clock_speed\",\"clock_speed\",\"clock_speed\",\"clock_speed\",\"clock_speed\",\"clock_speed\",\"clock_speed\",\"clock_speed\",\"clock_speed\",\"clock_speed\",\"clock_speed\",\"clock_speed\",\"clock_speed\",\"clock_speed\",\"clock_speed\",\"clock_speed\",\"clock_speed\",\"clock_speed\",\"clock_speed\",\"clock_speed\",\"clock_speed\",\"clock_speed\",\"clock_speed\",\"clock_speed\",\"clock_speed\",\"clock_speed\",\"clock_speed\",\"clock_speed\",\"clock_speed\",\"clock_speed\",\"clock_speed\",\"clock_speed\",\"clock_speed\",\"clock_speed\",\"clock_speed\",\"clock_speed\",\"clock_speed\",\"clock_speed\",\"clock_speed\",\"clock_speed\",\"clock_speed\",\"clock_speed\",\"clock_speed\",\"clock_speed\",\"clock_speed\",\"clock_speed\",\"clock_speed\",\"clock_speed\",\"clock_speed\",\"clock_speed\",\"clock_speed\",\"clock_speed\",\"clock_speed\",\"clock_speed\",\"clock_speed\",\"clock_speed\",\"clock_speed\",\"clock_speed\",\"clock_speed\",\"clock_speed\",\"clock_speed\",\"clock_speed\",\"clock_speed\",\"clock_speed\",\"clock_speed\",\"clock_speed\",\"clock_speed\",\"clock_speed\",\"clock_speed\",\"clock_speed\",\"clock_speed\",\"clock_speed\",\"clock_speed\",\"clock_speed\",\"clock_speed\",\"clock_speed\",\"clock_speed\",\"clock_speed\",\"clock_speed\",\"clock_speed\",\"clock_speed\",\"clock_speed\",\"clock_speed\",\"clock_speed\",\"clock_speed\",\"clock_speed\",\"clock_speed\",\"clock_speed\",\"clock_speed\",\"clock_speed\",\"clock_speed\",\"clock_speed\",\"clock_speed\",\"clock_speed\",\"clock_speed\",\"clock_speed\",\"clock_speed\",\"clock_speed\",\"clock_speed\",\"clock_speed\",\"clock_speed\",\"clock_speed\",\"clock_speed\",\"clock_speed\",\"clock_speed\",\"clock_speed\",\"clock_speed\",\"clock_speed\",\"clock_speed\",\"clock_speed\",\"clock_speed\",\"clock_speed\",\"clock_speed\",\"clock_speed\",\"clock_speed\",\"clock_speed\",\"clock_speed\",\"clock_speed\",\"clock_speed\",\"clock_speed\",\"clock_speed\",\"clock_speed\",\"clock_speed\",\"clock_speed\",\"clock_speed\",\"clock_speed\",\"clock_speed\",\"clock_speed\",\"clock_speed\",\"clock_speed\",\"clock_speed\",\"clock_speed\",\"clock_speed\",\"clock_speed\",\"clock_speed\",\"clock_speed\",\"clock_speed\",\"clock_speed\",\"clock_speed\",\"clock_speed\",\"clock_speed\",\"clock_speed\",\"clock_speed\",\"clock_speed\",\"clock_speed\",\"clock_speed\",\"clock_speed\",\"clock_speed\",\"clock_speed\",\"clock_speed\",\"clock_speed\",\"clock_speed\",\"clock_speed\",\"clock_speed\",\"clock_speed\",\"clock_speed\",\"clock_speed\",\"clock_speed\",\"clock_speed\",\"clock_speed\",\"clock_speed\",\"clock_speed\",\"clock_speed\",\"clock_speed\",\"clock_speed\",\"clock_speed\",\"clock_speed\",\"clock_speed\",\"clock_speed\",\"clock_speed\",\"clock_speed\",\"clock_speed\",\"clock_speed\",\"clock_speed\",\"clock_speed\",\"clock_speed\",\"clock_speed\",\"clock_speed\",\"clock_speed\",\"clock_speed\",\"clock_speed\",\"clock_speed\",\"clock_speed\",\"clock_speed\",\"clock_speed\",\"clock_speed\",\"clock_speed\",\"clock_speed\",\"clock_speed\",\"clock_speed\",\"clock_speed\",\"clock_speed\",\"clock_speed\",\"clock_speed\",\"clock_speed\",\"clock_speed\",\"clock_speed\",\"clock_speed\",\"clock_speed\",\"clock_speed\",\"clock_speed\",\"clock_speed\",\"clock_speed\",\"clock_speed\",\"clock_speed\",\"clock_speed\",\"clock_speed\",\"clock_speed\",\"clock_speed\",\"clock_speed\",\"clock_speed\",\"clock_speed\",\"clock_speed\",\"clock_speed\",\"clock_speed\",\"clock_speed\",\"clock_speed\",\"clock_speed\",\"clock_speed\",\"clock_speed\",\"clock_speed\",\"clock_speed\",\"clock_speed\",\"clock_speed\",\"clock_speed\",\"clock_speed\",\"clock_speed\",\"clock_speed\",\"clock_speed\",\"clock_speed\",\"clock_speed\",\"clock_speed\",\"clock_speed\",\"clock_speed\",\"clock_speed\",\"clock_speed\",\"clock_speed\",\"clock_speed\",\"clock_speed\",\"clock_speed\",\"clock_speed\",\"clock_speed\",\"clock_speed\",\"clock_speed\",\"clock_speed\",\"clock_speed\",\"clock_speed\",\"clock_speed\",\"clock_speed\",\"clock_speed\",\"clock_speed\",\"clock_speed\",\"clock_speed\",\"clock_speed\",\"clock_speed\",\"clock_speed\",\"clock_speed\",\"clock_speed\",\"clock_speed\",\"clock_speed\",\"clock_speed\",\"clock_speed\",\"clock_speed\",\"clock_speed\",\"clock_speed\",\"clock_speed\",\"clock_speed\",\"clock_speed\",\"clock_speed\",\"clock_speed\",\"clock_speed\",\"clock_speed\",\"clock_speed\",\"clock_speed\",\"clock_speed\",\"clock_speed\",\"clock_speed\",\"clock_speed\",\"clock_speed\",\"clock_speed\",\"clock_speed\",\"clock_speed\",\"clock_speed\",\"clock_speed\",\"clock_speed\",\"clock_speed\",\"clock_speed\",\"clock_speed\",\"clock_speed\",\"clock_speed\",\"clock_speed\",\"clock_speed\",\"clock_speed\",\"clock_speed\",\"clock_speed\",\"clock_speed\",\"clock_speed\",\"clock_speed\",\"clock_speed\",\"clock_speed\",\"clock_speed\",\"clock_speed\",\"clock_speed\",\"clock_speed\",\"clock_speed\",\"clock_speed\",\"clock_speed\",\"clock_speed\",\"clock_speed\",\"clock_speed\",\"clock_speed\",\"clock_speed\",\"clock_speed\",\"clock_speed\",\"clock_speed\",\"clock_speed\",\"clock_speed\",\"clock_speed\",\"clock_speed\",\"clock_speed\",\"clock_speed\",\"clock_speed\",\"clock_speed\",\"clock_speed\",\"clock_speed\",\"clock_speed\",\"clock_speed\",\"clock_speed\",\"clock_speed\",\"clock_speed\",\"clock_speed\",\"clock_speed\",\"clock_speed\",\"clock_speed\",\"clock_speed\",\"clock_speed\",\"clock_speed\",\"clock_speed\",\"clock_speed\",\"clock_speed\",\"clock_speed\",\"clock_speed\",\"clock_speed\",\"clock_speed\",\"clock_speed\",\"clock_speed\",\"clock_speed\",\"clock_speed\",\"clock_speed\",\"clock_speed\",\"clock_speed\",\"clock_speed\",\"clock_speed\",\"clock_speed\",\"clock_speed\",\"clock_speed\",\"clock_speed\",\"clock_speed\",\"clock_speed\",\"clock_speed\",\"clock_speed\",\"clock_speed\",\"clock_speed\",\"clock_speed\",\"clock_speed\",\"clock_speed\",\"clock_speed\",\"clock_speed\",\"clock_speed\",\"clock_speed\",\"clock_speed\",\"clock_speed\",\"clock_speed\",\"clock_speed\",\"clock_speed\",\"clock_speed\",\"clock_speed\",\"clock_speed\",\"clock_speed\",\"clock_speed\",\"clock_speed\",\"clock_speed\",\"clock_speed\",\"clock_speed\",\"clock_speed\",\"clock_speed\",\"clock_speed\",\"clock_speed\",\"clock_speed\",\"clock_speed\",\"clock_speed\",\"clock_speed\",\"clock_speed\",\"clock_speed\",\"clock_speed\",\"clock_speed\",\"clock_speed\",\"clock_speed\",\"clock_speed\",\"clock_speed\",\"clock_speed\",\"clock_speed\",\"clock_speed\",\"clock_speed\",\"clock_speed\",\"clock_speed\",\"clock_speed\",\"clock_speed\",\"clock_speed\",\"clock_speed\",\"clock_speed\",\"clock_speed\",\"clock_speed\",\"clock_speed\",\"clock_speed\",\"clock_speed\",\"clock_speed\",\"clock_speed\",\"clock_speed\",\"clock_speed\",\"clock_speed\",\"clock_speed\",\"clock_speed\",\"clock_speed\",\"clock_speed\",\"clock_speed\",\"clock_speed\",\"clock_speed\",\"clock_speed\",\"clock_speed\",\"clock_speed\",\"clock_speed\",\"clock_speed\",\"clock_speed\",\"clock_speed\",\"clock_speed\",\"clock_speed\",\"clock_speed\",\"clock_speed\",\"clock_speed\",\"clock_speed\",\"clock_speed\",\"clock_speed\",\"clock_speed\",\"clock_speed\",\"clock_speed\",\"clock_speed\",\"clock_speed\",\"clock_speed\",\"clock_speed\",\"clock_speed\",\"clock_speed\",\"clock_speed\",\"clock_speed\",\"clock_speed\",\"clock_speed\",\"clock_speed\",\"clock_speed\",\"clock_speed\",\"clock_speed\",\"clock_speed\",\"clock_speed\",\"clock_speed\",\"clock_speed\",\"clock_speed\",\"clock_speed\",\"clock_speed\",\"clock_speed\",\"clock_speed\",\"clock_speed\",\"clock_speed\",\"clock_speed\",\"clock_speed\",\"clock_speed\",\"clock_speed\",\"clock_speed\",\"clock_speed\",\"clock_speed\",\"clock_speed\",\"clock_speed\",\"clock_speed\",\"clock_speed\",\"clock_speed\",\"clock_speed\",\"clock_speed\",\"clock_speed\",\"clock_speed\",\"clock_speed\",\"clock_speed\",\"clock_speed\",\"clock_speed\",\"clock_speed\",\"clock_speed\",\"clock_speed\",\"clock_speed\",\"clock_speed\",\"clock_speed\",\"clock_speed\",\"clock_speed\",\"clock_speed\",\"clock_speed\",\"clock_speed\",\"clock_speed\",\"clock_speed\",\"clock_speed\",\"clock_speed\",\"clock_speed\",\"clock_speed\",\"clock_speed\",\"clock_speed\",\"clock_speed\",\"clock_speed\",\"clock_speed\",\"clock_speed\",\"clock_speed\",\"clock_speed\",\"clock_speed\",\"clock_speed\",\"clock_speed\",\"clock_speed\",\"clock_speed\",\"clock_speed\",\"clock_speed\",\"clock_speed\",\"clock_speed\",\"clock_speed\",\"clock_speed\",\"clock_speed\",\"clock_speed\",\"clock_speed\",\"clock_speed\",\"clock_speed\",\"clock_speed\",\"clock_speed\",\"clock_speed\",\"clock_speed\",\"clock_speed\",\"clock_speed\",\"clock_speed\",\"clock_speed\",\"clock_speed\",\"clock_speed\",\"clock_speed\",\"clock_speed\",\"clock_speed\",\"clock_speed\",\"clock_speed\",\"clock_speed\",\"clock_speed\",\"clock_speed\",\"clock_speed\",\"clock_speed\",\"clock_speed\",\"clock_speed\",\"clock_speed\",\"clock_speed\",\"clock_speed\",\"clock_speed\",\"clock_speed\",\"clock_speed\",\"clock_speed\",\"clock_speed\",\"clock_speed\",\"clock_speed\",\"clock_speed\",\"clock_speed\",\"clock_speed\",\"clock_speed\",\"clock_speed\",\"clock_speed\",\"clock_speed\",\"clock_speed\",\"clock_speed\",\"clock_speed\",\"clock_speed\",\"clock_speed\",\"clock_speed\",\"clock_speed\",\"clock_speed\",\"clock_speed\",\"clock_speed\",\"clock_speed\",\"clock_speed\",\"clock_speed\",\"clock_speed\",\"clock_speed\",\"clock_speed\",\"clock_speed\",\"clock_speed\",\"clock_speed\",\"clock_speed\",\"clock_speed\",\"clock_speed\",\"clock_speed\",\"clock_speed\",\"clock_speed\",\"clock_speed\",\"clock_speed\",\"clock_speed\",\"clock_speed\",\"clock_speed\",\"clock_speed\",\"clock_speed\",\"clock_speed\",\"clock_speed\",\"clock_speed\",\"clock_speed\",\"clock_speed\",\"clock_speed\",\"clock_speed\",\"clock_speed\",\"clock_speed\",\"clock_speed\",\"clock_speed\",\"clock_speed\",\"clock_speed\",\"clock_speed\",\"clock_speed\",\"clock_speed\",\"clock_speed\",\"clock_speed\",\"clock_speed\",\"clock_speed\",\"clock_speed\",\"clock_speed\",\"clock_speed\",\"clock_speed\",\"clock_speed\",\"clock_speed\",\"clock_speed\",\"clock_speed\",\"clock_speed\",\"clock_speed\",\"clock_speed\",\"clock_speed\",\"clock_speed\",\"clock_speed\",\"clock_speed\",\"clock_speed\",\"clock_speed\",\"clock_speed\",\"clock_speed\",\"clock_speed\",\"clock_speed\",\"clock_speed\",\"clock_speed\",\"clock_speed\",\"clock_speed\",\"clock_speed\",\"clock_speed\",\"clock_speed\",\"clock_speed\",\"clock_speed\",\"clock_speed\",\"clock_speed\",\"clock_speed\",\"clock_speed\",\"clock_speed\",\"clock_speed\",\"clock_speed\",\"clock_speed\",\"clock_speed\",\"clock_speed\",\"clock_speed\",\"clock_speed\",\"clock_speed\",\"clock_speed\",\"clock_speed\",\"clock_speed\",\"clock_speed\",\"clock_speed\",\"clock_speed\",\"clock_speed\",\"clock_speed\",\"clock_speed\",\"clock_speed\",\"clock_speed\",\"clock_speed\",\"clock_speed\",\"clock_speed\",\"clock_speed\",\"clock_speed\",\"clock_speed\",\"clock_speed\",\"clock_speed\",\"clock_speed\",\"clock_speed\",\"clock_speed\",\"clock_speed\",\"clock_speed\",\"clock_speed\",\"clock_speed\",\"clock_speed\",\"clock_speed\",\"clock_speed\",\"clock_speed\",\"clock_speed\",\"clock_speed\",\"clock_speed\",\"clock_speed\",\"clock_speed\",\"clock_speed\",\"clock_speed\",\"clock_speed\",\"clock_speed\",\"clock_speed\",\"clock_speed\",\"clock_speed\",\"clock_speed\",\"clock_speed\",\"clock_speed\",\"clock_speed\",\"clock_speed\",\"clock_speed\",\"clock_speed\",\"clock_speed\",\"clock_speed\",\"clock_speed\",\"clock_speed\",\"clock_speed\",\"clock_speed\",\"clock_speed\",\"clock_speed\",\"clock_speed\",\"clock_speed\",\"clock_speed\",\"clock_speed\",\"clock_speed\",\"clock_speed\",\"clock_speed\",\"clock_speed\",\"clock_speed\",\"clock_speed\",\"clock_speed\",\"clock_speed\",\"clock_speed\",\"clock_speed\",\"clock_speed\",\"clock_speed\",\"clock_speed\",\"clock_speed\",\"clock_speed\",\"clock_speed\",\"clock_speed\",\"clock_speed\",\"clock_speed\",\"clock_speed\",\"clock_speed\",\"clock_speed\",\"clock_speed\",\"clock_speed\",\"clock_speed\",\"clock_speed\",\"clock_speed\",\"clock_speed\",\"clock_speed\",\"clock_speed\",\"clock_speed\",\"clock_speed\",\"clock_speed\",\"clock_speed\",\"clock_speed\",\"clock_speed\",\"clock_speed\",\"clock_speed\",\"clock_speed\",\"clock_speed\",\"clock_speed\",\"clock_speed\",\"clock_speed\",\"clock_speed\",\"clock_speed\",\"clock_speed\",\"clock_speed\",\"clock_speed\",\"clock_speed\",\"clock_speed\",\"clock_speed\",\"clock_speed\",\"clock_speed\",\"clock_speed\",\"clock_speed\",\"clock_speed\",\"clock_speed\",\"clock_speed\",\"clock_speed\",\"clock_speed\",\"clock_speed\",\"clock_speed\",\"clock_speed\",\"clock_speed\",\"clock_speed\",\"clock_speed\",\"clock_speed\",\"clock_speed\",\"clock_speed\",\"clock_speed\",\"clock_speed\",\"clock_speed\",\"clock_speed\",\"clock_speed\",\"clock_speed\",\"clock_speed\",\"clock_speed\",\"clock_speed\",\"clock_speed\",\"clock_speed\",\"clock_speed\",\"clock_speed\",\"clock_speed\",\"clock_speed\",\"clock_speed\",\"clock_speed\",\"clock_speed\",\"clock_speed\",\"clock_speed\",\"clock_speed\",\"clock_speed\",\"clock_speed\",\"clock_speed\",\"clock_speed\",\"clock_speed\",\"clock_speed\",\"clock_speed\",\"clock_speed\",\"clock_speed\",\"clock_speed\",\"clock_speed\",\"clock_speed\",\"clock_speed\",\"clock_speed\",\"clock_speed\",\"clock_speed\",\"clock_speed\",\"clock_speed\",\"clock_speed\",\"clock_speed\",\"clock_speed\",\"clock_speed\",\"clock_speed\",\"clock_speed\",\"clock_speed\",\"clock_speed\",\"clock_speed\",\"clock_speed\",\"clock_speed\",\"clock_speed\",\"clock_speed\",\"clock_speed\",\"clock_speed\",\"clock_speed\",\"clock_speed\",\"clock_speed\",\"clock_speed\",\"clock_speed\",\"clock_speed\",\"clock_speed\",\"clock_speed\",\"clock_speed\",\"clock_speed\",\"clock_speed\",\"clock_speed\",\"clock_speed\",\"clock_speed\",\"clock_speed\",\"clock_speed\",\"clock_speed\",\"clock_speed\",\"clock_speed\",\"clock_speed\",\"clock_speed\",\"clock_speed\",\"clock_speed\",\"clock_speed\",\"clock_speed\",\"clock_speed\",\"clock_speed\",\"clock_speed\",\"clock_speed\",\"clock_speed\",\"clock_speed\",\"clock_speed\",\"clock_speed\",\"clock_speed\",\"clock_speed\",\"clock_speed\",\"clock_speed\",\"clock_speed\",\"clock_speed\",\"clock_speed\",\"clock_speed\",\"clock_speed\",\"clock_speed\",\"clock_speed\",\"clock_speed\",\"clock_speed\",\"clock_speed\",\"clock_speed\",\"clock_speed\",\"clock_speed\",\"clock_speed\",\"clock_speed\",\"clock_speed\",\"clock_speed\",\"clock_speed\",\"clock_speed\",\"clock_speed\",\"clock_speed\",\"clock_speed\",\"clock_speed\",\"clock_speed\",\"clock_speed\",\"clock_speed\",\"clock_speed\",\"clock_speed\",\"clock_speed\",\"clock_speed\",\"clock_speed\",\"clock_speed\",\"clock_speed\",\"clock_speed\",\"clock_speed\",\"clock_speed\",\"clock_speed\",\"clock_speed\",\"clock_speed\",\"clock_speed\",\"clock_speed\",\"clock_speed\",\"clock_speed\",\"clock_speed\",\"clock_speed\",\"clock_speed\",\"clock_speed\",\"clock_speed\",\"clock_speed\",\"clock_speed\",\"clock_speed\",\"clock_speed\",\"clock_speed\",\"clock_speed\",\"clock_speed\",\"clock_speed\",\"clock_speed\",\"clock_speed\",\"clock_speed\",\"clock_speed\",\"clock_speed\",\"clock_speed\",\"clock_speed\",\"clock_speed\",\"clock_speed\",\"clock_speed\",\"clock_speed\",\"clock_speed\",\"clock_speed\",\"clock_speed\",\"clock_speed\",\"clock_speed\",\"clock_speed\",\"clock_speed\",\"clock_speed\",\"clock_speed\",\"clock_speed\",\"clock_speed\",\"clock_speed\",\"clock_speed\",\"clock_speed\",\"clock_speed\",\"clock_speed\",\"clock_speed\",\"clock_speed\",\"clock_speed\",\"clock_speed\",\"clock_speed\",\"clock_speed\",\"clock_speed\",\"clock_speed\",\"clock_speed\",\"clock_speed\",\"clock_speed\",\"clock_speed\",\"clock_speed\",\"clock_speed\",\"clock_speed\",\"clock_speed\",\"clock_speed\",\"clock_speed\",\"clock_speed\",\"clock_speed\",\"clock_speed\",\"clock_speed\",\"clock_speed\",\"clock_speed\",\"clock_speed\",\"clock_speed\",\"clock_speed\",\"clock_speed\",\"clock_speed\",\"clock_speed\",\"clock_speed\",\"clock_speed\",\"clock_speed\",\"clock_speed\",\"clock_speed\",\"clock_speed\",\"clock_speed\",\"clock_speed\",\"clock_speed\",\"clock_speed\",\"clock_speed\",\"clock_speed\",\"clock_speed\",\"clock_speed\",\"clock_speed\",\"clock_speed\",\"clock_speed\",\"clock_speed\",\"clock_speed\",\"clock_speed\",\"clock_speed\",\"clock_speed\",\"clock_speed\",\"clock_speed\",\"clock_speed\",\"clock_speed\",\"clock_speed\",\"clock_speed\",\"clock_speed\",\"clock_speed\",\"clock_speed\",\"clock_speed\",\"clock_speed\",\"clock_speed\",\"clock_speed\",\"clock_speed\",\"clock_speed\",\"clock_speed\",\"clock_speed\",\"clock_speed\",\"clock_speed\",\"clock_speed\",\"clock_speed\",\"clock_speed\",\"clock_speed\",\"clock_speed\",\"clock_speed\",\"clock_speed\",\"clock_speed\",\"clock_speed\",\"clock_speed\",\"clock_speed\",\"clock_speed\",\"clock_speed\",\"clock_speed\",\"clock_speed\",\"clock_speed\",\"clock_speed\",\"clock_speed\",\"clock_speed\",\"clock_speed\",\"clock_speed\",\"clock_speed\",\"clock_speed\",\"clock_speed\",\"clock_speed\",\"clock_speed\",\"clock_speed\",\"clock_speed\",\"clock_speed\",\"clock_speed\",\"clock_speed\",\"clock_speed\",\"clock_speed\",\"clock_speed\",\"clock_speed\",\"clock_speed\",\"clock_speed\",\"clock_speed\",\"clock_speed\",\"clock_speed\",\"clock_speed\",\"clock_speed\",\"clock_speed\",\"clock_speed\",\"clock_speed\",\"clock_speed\",\"clock_speed\",\"clock_speed\",\"clock_speed\",\"clock_speed\",\"clock_speed\",\"clock_speed\",\"clock_speed\",\"clock_speed\",\"clock_speed\",\"clock_speed\",\"clock_speed\",\"clock_speed\",\"clock_speed\",\"clock_speed\",\"clock_speed\",\"clock_speed\",\"clock_speed\",\"clock_speed\",\"clock_speed\",\"clock_speed\",\"clock_speed\",\"clock_speed\",\"clock_speed\",\"clock_speed\",\"clock_speed\",\"clock_speed\",\"clock_speed\",\"clock_speed\",\"clock_speed\",\"clock_speed\",\"clock_speed\",\"clock_speed\",\"clock_speed\",\"clock_speed\",\"clock_speed\",\"clock_speed\",\"clock_speed\",\"clock_speed\",\"clock_speed\",\"clock_speed\",\"clock_speed\",\"clock_speed\",\"clock_speed\",\"clock_speed\",\"clock_speed\",\"clock_speed\",\"clock_speed\",\"clock_speed\",\"clock_speed\",\"clock_speed\",\"clock_speed\",\"clock_speed\",\"clock_speed\",\"clock_speed\",\"clock_speed\",\"clock_speed\",\"clock_speed\",\"clock_speed\",\"clock_speed\",\"clock_speed\",\"clock_speed\",\"clock_speed\",\"clock_speed\",\"clock_speed\",\"clock_speed\",\"clock_speed\",\"clock_speed\",\"clock_speed\",\"clock_speed\",\"clock_speed\",\"clock_speed\",\"clock_speed\",\"clock_speed\",\"clock_speed\",\"clock_speed\",\"clock_speed\",\"clock_speed\",\"clock_speed\",\"clock_speed\",\"clock_speed\",\"clock_speed\",\"clock_speed\",\"clock_speed\",\"clock_speed\",\"clock_speed\",\"clock_speed\",\"clock_speed\",\"clock_speed\",\"clock_speed\",\"clock_speed\",\"clock_speed\",\"clock_speed\",\"clock_speed\",\"clock_speed\",\"clock_speed\",\"clock_speed\",\"clock_speed\",\"clock_speed\",\"clock_speed\",\"clock_speed\",\"clock_speed\",\"clock_speed\",\"clock_speed\",\"clock_speed\",\"clock_speed\",\"clock_speed\",\"clock_speed\",\"clock_speed\",\"clock_speed\",\"clock_speed\",\"clock_speed\",\"clock_speed\",\"clock_speed\",\"clock_speed\",\"clock_speed\",\"clock_speed\",\"clock_speed\",\"clock_speed\",\"clock_speed\",\"clock_speed\",\"clock_speed\",\"clock_speed\",\"clock_speed\",\"clock_speed\",\"clock_speed\",\"clock_speed\",\"clock_speed\",\"clock_speed\",\"clock_speed\",\"clock_speed\",\"clock_speed\",\"clock_speed\",\"clock_speed\",\"clock_speed\",\"clock_speed\",\"clock_speed\",\"clock_speed\",\"clock_speed\",\"clock_speed\",\"clock_speed\",\"clock_speed\",\"clock_speed\",\"clock_speed\",\"clock_speed\",\"clock_speed\",\"clock_speed\",\"clock_speed\",\"clock_speed\",\"clock_speed\",\"clock_speed\",\"clock_speed\",\"clock_speed\",\"clock_speed\",\"clock_speed\",\"clock_speed\",\"clock_speed\",\"clock_speed\",\"clock_speed\",\"clock_speed\",\"clock_speed\",\"clock_speed\",\"clock_speed\",\"clock_speed\",\"clock_speed\",\"clock_speed\",\"clock_speed\",\"clock_speed\",\"clock_speed\",\"clock_speed\",\"clock_speed\",\"clock_speed\",\"clock_speed\",\"clock_speed\",\"clock_speed\",\"clock_speed\",\"clock_speed\",\"clock_speed\",\"clock_speed\",\"clock_speed\",\"clock_speed\",\"clock_speed\",\"clock_speed\",\"clock_speed\",\"clock_speed\",\"clock_speed\",\"clock_speed\",\"clock_speed\",\"clock_speed\",\"clock_speed\",\"clock_speed\",\"clock_speed\",\"clock_speed\",\"clock_speed\",\"clock_speed\",\"clock_speed\",\"clock_speed\",\"clock_speed\",\"clock_speed\",\"clock_speed\",\"clock_speed\",\"clock_speed\",\"clock_speed\",\"clock_speed\",\"clock_speed\",\"clock_speed\",\"clock_speed\",\"clock_speed\",\"clock_speed\",\"clock_speed\",\"clock_speed\",\"clock_speed\",\"clock_speed\",\"clock_speed\",\"clock_speed\",\"clock_speed\",\"clock_speed\",\"clock_speed\",\"clock_speed\",\"clock_speed\",\"clock_speed\",\"clock_speed\",\"clock_speed\",\"clock_speed\",\"clock_speed\",\"clock_speed\",\"clock_speed\",\"clock_speed\",\"clock_speed\",\"clock_speed\",\"clock_speed\",\"clock_speed\",\"clock_speed\",\"clock_speed\",\"clock_speed\",\"clock_speed\",\"clock_speed\",\"clock_speed\",\"clock_speed\",\"clock_speed\",\"clock_speed\",\"clock_speed\",\"clock_speed\",\"clock_speed\",\"clock_speed\",\"clock_speed\",\"clock_speed\",\"clock_speed\",\"clock_speed\",\"clock_speed\",\"clock_speed\",\"clock_speed\",\"clock_speed\",\"clock_speed\",\"clock_speed\",\"clock_speed\",\"clock_speed\",\"clock_speed\",\"clock_speed\",\"clock_speed\",\"clock_speed\",\"clock_speed\",\"clock_speed\",\"clock_speed\",\"clock_speed\",\"clock_speed\",\"clock_speed\",\"clock_speed\",\"clock_speed\",\"clock_speed\",\"clock_speed\",\"clock_speed\",\"clock_speed\",\"clock_speed\",\"clock_speed\",\"clock_speed\",\"clock_speed\",\"clock_speed\",\"clock_speed\",\"clock_speed\",\"clock_speed\",\"clock_speed\",\"clock_speed\",\"clock_speed\",\"clock_speed\",\"clock_speed\",\"clock_speed\",\"clock_speed\",\"clock_speed\",\"clock_speed\",\"clock_speed\",\"clock_speed\",\"clock_speed\",\"clock_speed\",\"clock_speed\",\"clock_speed\",\"clock_speed\",\"clock_speed\",\"clock_speed\",\"clock_speed\",\"clock_speed\",\"clock_speed\",\"clock_speed\",\"clock_speed\",\"clock_speed\",\"clock_speed\",\"clock_speed\",\"clock_speed\",\"clock_speed\",\"clock_speed\",\"clock_speed\",\"clock_speed\",\"clock_speed\",\"clock_speed\",\"clock_speed\",\"clock_speed\",\"clock_speed\",\"clock_speed\",\"clock_speed\",\"clock_speed\",\"clock_speed\",\"clock_speed\",\"clock_speed\",\"clock_speed\",\"clock_speed\",\"clock_speed\",\"clock_speed\",\"clock_speed\",\"clock_speed\",\"clock_speed\",\"clock_speed\",\"clock_speed\",\"clock_speed\",\"clock_speed\",\"clock_speed\",\"clock_speed\",\"clock_speed\",\"clock_speed\",\"clock_speed\",\"clock_speed\",\"clock_speed\",\"clock_speed\",\"clock_speed\",\"clock_speed\",\"clock_speed\",\"fc\",\"fc\",\"fc\",\"fc\",\"fc\",\"fc\",\"fc\",\"fc\",\"fc\",\"fc\",\"fc\",\"fc\",\"fc\",\"fc\",\"fc\",\"fc\",\"fc\",\"fc\",\"fc\",\"fc\",\"fc\",\"fc\",\"fc\",\"fc\",\"fc\",\"fc\",\"fc\",\"fc\",\"fc\",\"fc\",\"fc\",\"fc\",\"fc\",\"fc\",\"fc\",\"fc\",\"fc\",\"fc\",\"fc\",\"fc\",\"fc\",\"fc\",\"fc\",\"fc\",\"fc\",\"fc\",\"fc\",\"fc\",\"fc\",\"fc\",\"fc\",\"fc\",\"fc\",\"fc\",\"fc\",\"fc\",\"fc\",\"fc\",\"fc\",\"fc\",\"fc\",\"fc\",\"fc\",\"fc\",\"fc\",\"fc\",\"fc\",\"fc\",\"fc\",\"fc\",\"fc\",\"fc\",\"fc\",\"fc\",\"fc\",\"fc\",\"fc\",\"fc\",\"fc\",\"fc\",\"fc\",\"fc\",\"fc\",\"fc\",\"fc\",\"fc\",\"fc\",\"fc\",\"fc\",\"fc\",\"fc\",\"fc\",\"fc\",\"fc\",\"fc\",\"fc\",\"fc\",\"fc\",\"fc\",\"fc\",\"fc\",\"fc\",\"fc\",\"fc\",\"fc\",\"fc\",\"fc\",\"fc\",\"fc\",\"fc\",\"fc\",\"fc\",\"fc\",\"fc\",\"fc\",\"fc\",\"fc\",\"fc\",\"fc\",\"fc\",\"fc\",\"fc\",\"fc\",\"fc\",\"fc\",\"fc\",\"fc\",\"fc\",\"fc\",\"fc\",\"fc\",\"fc\",\"fc\",\"fc\",\"fc\",\"fc\",\"fc\",\"fc\",\"fc\",\"fc\",\"fc\",\"fc\",\"fc\",\"fc\",\"fc\",\"fc\",\"fc\",\"fc\",\"fc\",\"fc\",\"fc\",\"fc\",\"fc\",\"fc\",\"fc\",\"fc\",\"fc\",\"fc\",\"fc\",\"fc\",\"fc\",\"fc\",\"fc\",\"fc\",\"fc\",\"fc\",\"fc\",\"fc\",\"fc\",\"fc\",\"fc\",\"fc\",\"fc\",\"fc\",\"fc\",\"fc\",\"fc\",\"fc\",\"fc\",\"fc\",\"fc\",\"fc\",\"fc\",\"fc\",\"fc\",\"fc\",\"fc\",\"fc\",\"fc\",\"fc\",\"fc\",\"fc\",\"fc\",\"fc\",\"fc\",\"fc\",\"fc\",\"fc\",\"fc\",\"fc\",\"fc\",\"fc\",\"fc\",\"fc\",\"fc\",\"fc\",\"fc\",\"fc\",\"fc\",\"fc\",\"fc\",\"fc\",\"fc\",\"fc\",\"fc\",\"fc\",\"fc\",\"fc\",\"fc\",\"fc\",\"fc\",\"fc\",\"fc\",\"fc\",\"fc\",\"fc\",\"fc\",\"fc\",\"fc\",\"fc\",\"fc\",\"fc\",\"fc\",\"fc\",\"fc\",\"fc\",\"fc\",\"fc\",\"fc\",\"fc\",\"fc\",\"fc\",\"fc\",\"fc\",\"fc\",\"fc\",\"fc\",\"fc\",\"fc\",\"fc\",\"fc\",\"fc\",\"fc\",\"fc\",\"fc\",\"fc\",\"fc\",\"fc\",\"fc\",\"fc\",\"fc\",\"fc\",\"fc\",\"fc\",\"fc\",\"fc\",\"fc\",\"fc\",\"fc\",\"fc\",\"fc\",\"fc\",\"fc\",\"fc\",\"fc\",\"fc\",\"fc\",\"fc\",\"fc\",\"fc\",\"fc\",\"fc\",\"fc\",\"fc\",\"fc\",\"fc\",\"fc\",\"fc\",\"fc\",\"fc\",\"fc\",\"fc\",\"fc\",\"fc\",\"fc\",\"fc\",\"fc\",\"fc\",\"fc\",\"fc\",\"fc\",\"fc\",\"fc\",\"fc\",\"fc\",\"fc\",\"fc\",\"fc\",\"fc\",\"fc\",\"fc\",\"fc\",\"fc\",\"fc\",\"fc\",\"fc\",\"fc\",\"fc\",\"fc\",\"fc\",\"fc\",\"fc\",\"fc\",\"fc\",\"fc\",\"fc\",\"fc\",\"fc\",\"fc\",\"fc\",\"fc\",\"fc\",\"fc\",\"fc\",\"fc\",\"fc\",\"fc\",\"fc\",\"fc\",\"fc\",\"fc\",\"fc\",\"fc\",\"fc\",\"fc\",\"fc\",\"fc\",\"fc\",\"fc\",\"fc\",\"fc\",\"fc\",\"fc\",\"fc\",\"fc\",\"fc\",\"fc\",\"fc\",\"fc\",\"fc\",\"fc\",\"fc\",\"fc\",\"fc\",\"fc\",\"fc\",\"fc\",\"fc\",\"fc\",\"fc\",\"fc\",\"fc\",\"fc\",\"fc\",\"fc\",\"fc\",\"fc\",\"fc\",\"fc\",\"fc\",\"fc\",\"fc\",\"fc\",\"fc\",\"fc\",\"fc\",\"fc\",\"fc\",\"fc\",\"fc\",\"fc\",\"fc\",\"fc\",\"fc\",\"fc\",\"fc\",\"fc\",\"fc\",\"fc\",\"fc\",\"fc\",\"fc\",\"fc\",\"fc\",\"fc\",\"fc\",\"fc\",\"fc\",\"fc\",\"fc\",\"fc\",\"fc\",\"fc\",\"fc\",\"fc\",\"fc\",\"fc\",\"fc\",\"fc\",\"fc\",\"fc\",\"fc\",\"fc\",\"fc\",\"fc\",\"fc\",\"fc\",\"fc\",\"fc\",\"fc\",\"fc\",\"fc\",\"fc\",\"fc\",\"fc\",\"fc\",\"fc\",\"fc\",\"fc\",\"fc\",\"fc\",\"fc\",\"fc\",\"fc\",\"fc\",\"fc\",\"fc\",\"fc\",\"fc\",\"fc\",\"fc\",\"fc\",\"fc\",\"fc\",\"fc\",\"fc\",\"fc\",\"fc\",\"fc\",\"fc\",\"fc\",\"fc\",\"fc\",\"fc\",\"fc\",\"fc\",\"fc\",\"fc\",\"fc\",\"fc\",\"fc\",\"fc\",\"fc\",\"fc\",\"fc\",\"fc\",\"fc\",\"fc\",\"fc\",\"fc\",\"fc\",\"fc\",\"fc\",\"fc\",\"fc\",\"fc\",\"fc\",\"fc\",\"fc\",\"fc\",\"fc\",\"fc\",\"fc\",\"fc\",\"fc\",\"fc\",\"fc\",\"fc\",\"fc\",\"fc\",\"fc\",\"fc\",\"fc\",\"fc\",\"fc\",\"fc\",\"fc\",\"fc\",\"fc\",\"fc\",\"fc\",\"fc\",\"fc\",\"fc\",\"fc\",\"fc\",\"fc\",\"fc\",\"fc\",\"fc\",\"fc\",\"fc\",\"fc\",\"fc\",\"fc\",\"fc\",\"fc\",\"fc\",\"fc\",\"fc\",\"fc\",\"fc\",\"fc\",\"fc\",\"fc\",\"fc\",\"fc\",\"fc\",\"fc\",\"fc\",\"fc\",\"fc\",\"fc\",\"fc\",\"fc\",\"fc\",\"fc\",\"fc\",\"fc\",\"fc\",\"fc\",\"fc\",\"fc\",\"fc\",\"fc\",\"fc\",\"fc\",\"fc\",\"fc\",\"fc\",\"fc\",\"fc\",\"fc\",\"fc\",\"fc\",\"fc\",\"fc\",\"fc\",\"fc\",\"fc\",\"fc\",\"fc\",\"fc\",\"fc\",\"fc\",\"fc\",\"fc\",\"fc\",\"fc\",\"fc\",\"fc\",\"fc\",\"fc\",\"fc\",\"fc\",\"fc\",\"fc\",\"fc\",\"fc\",\"fc\",\"fc\",\"fc\",\"fc\",\"fc\",\"fc\",\"fc\",\"fc\",\"fc\",\"fc\",\"fc\",\"fc\",\"fc\",\"fc\",\"fc\",\"fc\",\"fc\",\"fc\",\"fc\",\"fc\",\"fc\",\"fc\",\"fc\",\"fc\",\"fc\",\"fc\",\"fc\",\"fc\",\"fc\",\"fc\",\"fc\",\"fc\",\"fc\",\"fc\",\"fc\",\"fc\",\"fc\",\"fc\",\"fc\",\"fc\",\"fc\",\"fc\",\"fc\",\"fc\",\"fc\",\"fc\",\"fc\",\"fc\",\"fc\",\"fc\",\"fc\",\"fc\",\"fc\",\"fc\",\"fc\",\"fc\",\"fc\",\"fc\",\"fc\",\"fc\",\"fc\",\"fc\",\"fc\",\"fc\",\"fc\",\"fc\",\"fc\",\"fc\",\"fc\",\"fc\",\"fc\",\"fc\",\"fc\",\"fc\",\"fc\",\"fc\",\"fc\",\"fc\",\"fc\",\"fc\",\"fc\",\"fc\",\"fc\",\"fc\",\"fc\",\"fc\",\"fc\",\"fc\",\"fc\",\"fc\",\"fc\",\"fc\",\"fc\",\"fc\",\"fc\",\"fc\",\"fc\",\"fc\",\"fc\",\"fc\",\"fc\",\"fc\",\"fc\",\"fc\",\"fc\",\"fc\",\"fc\",\"fc\",\"fc\",\"fc\",\"fc\",\"fc\",\"fc\",\"fc\",\"fc\",\"fc\",\"fc\",\"fc\",\"fc\",\"fc\",\"fc\",\"fc\",\"fc\",\"fc\",\"fc\",\"fc\",\"fc\",\"fc\",\"fc\",\"fc\",\"fc\",\"fc\",\"fc\",\"fc\",\"fc\",\"fc\",\"fc\",\"fc\",\"fc\",\"fc\",\"fc\",\"fc\",\"fc\",\"fc\",\"fc\",\"fc\",\"fc\",\"fc\",\"fc\",\"fc\",\"fc\",\"fc\",\"fc\",\"fc\",\"fc\",\"fc\",\"fc\",\"fc\",\"fc\",\"fc\",\"fc\",\"fc\",\"fc\",\"fc\",\"fc\",\"fc\",\"fc\",\"fc\",\"fc\",\"fc\",\"fc\",\"fc\",\"fc\",\"fc\",\"fc\",\"fc\",\"fc\",\"fc\",\"fc\",\"fc\",\"fc\",\"fc\",\"fc\",\"fc\",\"fc\",\"fc\",\"fc\",\"fc\",\"fc\",\"fc\",\"fc\",\"fc\",\"fc\",\"fc\",\"fc\",\"fc\",\"fc\",\"fc\",\"fc\",\"fc\",\"fc\",\"fc\",\"fc\",\"fc\",\"fc\",\"fc\",\"fc\",\"fc\",\"fc\",\"fc\",\"fc\",\"fc\",\"fc\",\"fc\",\"fc\",\"fc\",\"fc\",\"fc\",\"fc\",\"fc\",\"fc\",\"fc\",\"fc\",\"fc\",\"fc\",\"fc\",\"fc\",\"fc\",\"fc\",\"fc\",\"fc\",\"fc\",\"fc\",\"fc\",\"fc\",\"fc\",\"fc\",\"fc\",\"fc\",\"fc\",\"fc\",\"fc\",\"fc\",\"fc\",\"fc\",\"fc\",\"fc\",\"fc\",\"fc\",\"fc\",\"fc\",\"fc\",\"fc\",\"fc\",\"fc\",\"fc\",\"fc\",\"fc\",\"fc\",\"fc\",\"fc\",\"fc\",\"fc\",\"fc\",\"fc\",\"fc\",\"fc\",\"fc\",\"fc\",\"fc\",\"fc\",\"fc\",\"fc\",\"fc\",\"fc\",\"fc\",\"fc\",\"fc\",\"fc\",\"fc\",\"fc\",\"fc\",\"fc\",\"fc\",\"fc\",\"fc\",\"fc\",\"fc\",\"fc\",\"fc\",\"fc\",\"fc\",\"fc\",\"fc\",\"fc\",\"fc\",\"fc\",\"fc\",\"fc\",\"fc\",\"fc\",\"fc\",\"fc\",\"fc\",\"fc\",\"fc\",\"fc\",\"fc\",\"fc\",\"fc\",\"fc\",\"fc\",\"fc\",\"fc\",\"fc\",\"fc\",\"fc\",\"fc\",\"fc\",\"fc\",\"fc\",\"fc\",\"fc\",\"fc\",\"fc\",\"fc\",\"fc\",\"fc\",\"fc\",\"fc\",\"fc\",\"fc\",\"fc\",\"fc\",\"fc\",\"fc\",\"fc\",\"fc\",\"fc\",\"fc\",\"fc\",\"fc\",\"fc\",\"fc\",\"fc\",\"fc\",\"fc\",\"fc\",\"fc\",\"fc\",\"fc\",\"fc\",\"fc\",\"fc\",\"fc\",\"fc\",\"fc\",\"fc\",\"fc\",\"fc\",\"fc\",\"fc\",\"fc\",\"fc\",\"fc\",\"fc\",\"fc\",\"fc\",\"fc\",\"fc\",\"fc\",\"fc\",\"fc\",\"fc\",\"fc\",\"fc\",\"fc\",\"fc\",\"fc\",\"fc\",\"fc\",\"fc\",\"fc\",\"fc\",\"fc\",\"fc\",\"fc\",\"fc\",\"fc\",\"fc\",\"fc\",\"fc\",\"fc\",\"fc\",\"fc\",\"fc\",\"fc\",\"fc\",\"fc\",\"fc\",\"fc\",\"fc\",\"fc\",\"fc\",\"fc\",\"fc\",\"fc\",\"fc\",\"fc\",\"fc\",\"fc\",\"fc\",\"fc\",\"fc\",\"fc\",\"fc\",\"fc\",\"fc\",\"fc\",\"fc\",\"fc\",\"fc\",\"fc\",\"fc\",\"fc\",\"fc\",\"fc\",\"fc\",\"fc\",\"fc\",\"fc\",\"fc\",\"fc\",\"fc\",\"fc\",\"fc\",\"fc\",\"fc\",\"fc\",\"fc\",\"fc\",\"fc\",\"fc\",\"fc\",\"fc\",\"fc\",\"fc\",\"fc\",\"fc\",\"fc\",\"fc\",\"fc\",\"fc\",\"fc\",\"fc\",\"fc\",\"fc\",\"fc\",\"fc\",\"fc\",\"fc\",\"fc\",\"fc\",\"fc\",\"fc\",\"fc\",\"fc\",\"fc\",\"fc\",\"fc\",\"fc\",\"fc\",\"fc\",\"fc\",\"fc\",\"fc\",\"fc\",\"fc\",\"fc\",\"fc\",\"fc\",\"fc\",\"fc\",\"fc\",\"fc\",\"fc\",\"fc\",\"fc\",\"fc\",\"fc\",\"fc\",\"fc\",\"fc\",\"fc\",\"fc\",\"fc\",\"fc\",\"fc\",\"fc\",\"fc\",\"fc\",\"fc\",\"fc\",\"fc\",\"fc\",\"fc\",\"fc\",\"fc\",\"fc\",\"fc\",\"fc\",\"fc\",\"fc\",\"fc\",\"fc\",\"fc\",\"fc\",\"fc\",\"fc\",\"fc\",\"fc\",\"fc\",\"fc\",\"fc\",\"fc\",\"fc\",\"fc\",\"fc\",\"fc\",\"fc\",\"fc\",\"fc\",\"fc\",\"fc\",\"fc\",\"fc\",\"fc\",\"fc\",\"fc\",\"fc\",\"fc\",\"fc\",\"fc\",\"fc\",\"fc\",\"fc\",\"fc\",\"fc\",\"fc\",\"fc\",\"fc\",\"fc\",\"fc\",\"fc\",\"fc\",\"fc\",\"fc\",\"fc\",\"fc\",\"fc\",\"fc\",\"fc\",\"fc\",\"fc\",\"fc\",\"fc\",\"fc\",\"fc\",\"fc\",\"fc\",\"fc\",\"fc\",\"fc\",\"fc\",\"fc\",\"fc\",\"fc\",\"fc\",\"fc\",\"fc\",\"fc\",\"fc\",\"fc\",\"fc\",\"fc\",\"fc\",\"fc\",\"fc\",\"fc\",\"fc\",\"fc\",\"fc\",\"fc\",\"fc\",\"fc\",\"fc\",\"fc\",\"fc\",\"fc\",\"fc\",\"fc\",\"fc\",\"fc\",\"fc\",\"fc\",\"fc\",\"fc\",\"fc\",\"fc\",\"fc\",\"fc\",\"fc\",\"fc\",\"fc\",\"fc\",\"fc\",\"fc\",\"fc\",\"fc\",\"fc\",\"fc\",\"fc\",\"fc\",\"fc\",\"fc\",\"fc\",\"fc\",\"fc\",\"fc\",\"fc\",\"fc\",\"fc\",\"fc\",\"fc\",\"fc\",\"fc\",\"fc\",\"fc\",\"fc\",\"fc\",\"fc\",\"fc\",\"fc\",\"fc\",\"fc\",\"fc\",\"fc\",\"fc\",\"fc\",\"fc\",\"fc\",\"fc\",\"fc\",\"fc\",\"fc\",\"fc\",\"fc\",\"fc\",\"fc\",\"fc\",\"fc\",\"fc\",\"fc\",\"fc\",\"fc\",\"fc\",\"fc\",\"fc\",\"fc\",\"fc\",\"fc\",\"fc\",\"fc\",\"fc\",\"fc\",\"fc\",\"fc\",\"fc\",\"fc\",\"fc\",\"fc\",\"fc\",\"fc\",\"fc\",\"fc\",\"fc\",\"fc\",\"fc\",\"fc\",\"fc\",\"fc\",\"fc\",\"fc\",\"fc\",\"fc\",\"fc\",\"fc\",\"fc\",\"fc\",\"fc\",\"fc\",\"fc\",\"fc\",\"fc\",\"fc\",\"fc\",\"fc\",\"fc\",\"fc\",\"fc\",\"fc\",\"fc\",\"fc\",\"fc\",\"fc\",\"fc\",\"fc\",\"fc\",\"fc\",\"fc\",\"fc\",\"fc\",\"fc\",\"fc\",\"fc\",\"fc\",\"fc\",\"fc\",\"fc\",\"fc\",\"fc\",\"fc\",\"fc\",\"fc\",\"fc\",\"fc\",\"fc\",\"fc\",\"fc\",\"fc\",\"fc\",\"fc\",\"fc\",\"fc\",\"fc\",\"fc\",\"fc\",\"fc\",\"fc\",\"fc\",\"fc\",\"fc\",\"fc\",\"fc\",\"fc\",\"fc\",\"fc\",\"fc\",\"fc\",\"fc\",\"fc\",\"fc\",\"fc\",\"fc\",\"fc\",\"fc\",\"fc\",\"fc\",\"fc\",\"fc\",\"fc\",\"fc\",\"fc\",\"fc\",\"fc\",\"fc\",\"fc\",\"fc\",\"fc\",\"fc\",\"fc\",\"fc\",\"fc\",\"fc\",\"fc\",\"fc\",\"fc\",\"fc\",\"fc\",\"fc\",\"fc\",\"fc\",\"fc\",\"fc\",\"fc\",\"fc\",\"fc\",\"fc\",\"fc\",\"fc\",\"fc\",\"fc\",\"fc\",\"fc\",\"fc\",\"fc\",\"fc\",\"fc\",\"fc\",\"fc\",\"fc\",\"fc\",\"fc\",\"fc\",\"fc\",\"fc\",\"fc\",\"fc\",\"fc\",\"fc\",\"fc\",\"fc\",\"fc\",\"fc\",\"fc\",\"fc\",\"fc\",\"fc\",\"fc\",\"fc\",\"fc\",\"fc\",\"fc\",\"fc\",\"fc\",\"fc\",\"fc\",\"fc\",\"fc\",\"fc\",\"fc\",\"fc\",\"fc\",\"fc\",\"fc\",\"fc\",\"fc\",\"fc\",\"fc\",\"fc\",\"fc\",\"fc\",\"fc\",\"fc\",\"fc\",\"fc\",\"fc\",\"fc\",\"fc\",\"fc\",\"fc\",\"fc\",\"fc\",\"fc\",\"fc\",\"fc\",\"fc\",\"fc\",\"fc\",\"fc\",\"fc\",\"fc\",\"fc\",\"fc\",\"fc\",\"fc\",\"fc\",\"fc\",\"fc\",\"fc\",\"fc\",\"fc\",\"fc\",\"fc\",\"fc\",\"fc\",\"fc\",\"fc\",\"fc\",\"fc\",\"fc\",\"fc\",\"fc\",\"fc\",\"fc\",\"fc\",\"fc\",\"fc\",\"fc\",\"fc\",\"fc\",\"fc\",\"fc\",\"fc\",\"fc\",\"fc\",\"fc\",\"fc\",\"fc\",\"fc\",\"fc\",\"fc\",\"fc\",\"fc\",\"fc\",\"fc\",\"fc\",\"fc\",\"fc\",\"fc\",\"fc\",\"fc\",\"fc\",\"fc\",\"fc\",\"fc\",\"fc\",\"fc\",\"fc\",\"fc\",\"fc\",\"fc\",\"fc\",\"fc\",\"fc\",\"fc\",\"fc\",\"fc\",\"fc\",\"fc\",\"fc\",\"fc\",\"fc\",\"fc\",\"fc\",\"fc\",\"fc\",\"fc\",\"fc\",\"fc\",\"fc\",\"fc\",\"fc\",\"fc\",\"fc\",\"fc\",\"fc\",\"fc\",\"fc\",\"fc\",\"fc\",\"fc\",\"fc\",\"fc\",\"fc\",\"fc\",\"fc\",\"fc\",\"fc\",\"fc\",\"fc\",\"fc\",\"fc\",\"fc\",\"fc\",\"fc\",\"fc\",\"fc\",\"fc\",\"fc\",\"fc\",\"fc\",\"fc\",\"fc\",\"fc\",\"fc\",\"fc\",\"fc\",\"fc\",\"fc\",\"fc\",\"fc\",\"fc\",\"fc\",\"fc\",\"fc\",\"fc\",\"fc\",\"fc\",\"fc\",\"fc\",\"fc\",\"fc\",\"fc\",\"fc\",\"fc\",\"fc\",\"fc\",\"fc\",\"fc\",\"fc\",\"fc\",\"fc\",\"fc\",\"fc\",\"fc\",\"fc\",\"fc\",\"fc\",\"fc\",\"fc\",\"fc\",\"fc\",\"fc\",\"fc\",\"fc\",\"fc\",\"fc\",\"fc\",\"fc\",\"fc\",\"fc\",\"fc\",\"fc\",\"fc\",\"fc\",\"fc\",\"fc\",\"fc\",\"fc\",\"fc\",\"fc\",\"fc\",\"fc\",\"fc\",\"fc\",\"fc\",\"fc\",\"fc\",\"fc\",\"fc\",\"fc\",\"fc\",\"fc\",\"fc\",\"fc\",\"fc\",\"fc\",\"fc\",\"fc\",\"fc\",\"fc\",\"fc\",\"fc\",\"fc\",\"fc\",\"fc\",\"fc\",\"fc\",\"fc\",\"fc\",\"fc\",\"fc\",\"fc\",\"fc\",\"fc\",\"fc\",\"fc\",\"fc\",\"fc\",\"fc\",\"fc\",\"fc\",\"fc\",\"fc\",\"fc\",\"fc\",\"fc\",\"fc\",\"fc\",\"fc\",\"fc\",\"fc\",\"fc\",\"fc\",\"fc\",\"fc\",\"fc\",\"fc\",\"fc\",\"fc\",\"fc\",\"fc\",\"fc\",\"fc\",\"fc\",\"fc\",\"fc\",\"fc\",\"fc\",\"fc\",\"fc\",\"fc\",\"fc\",\"fc\",\"fc\",\"fc\",\"fc\",\"fc\",\"fc\",\"fc\",\"fc\",\"fc\",\"fc\",\"fc\",\"fc\",\"fc\",\"fc\",\"fc\",\"fc\",\"fc\",\"fc\",\"fc\",\"fc\",\"fc\",\"fc\",\"fc\",\"fc\",\"fc\",\"fc\",\"fc\",\"fc\",\"fc\",\"fc\",\"fc\",\"fc\",\"fc\",\"fc\",\"fc\",\"fc\",\"fc\",\"fc\",\"fc\",\"fc\",\"fc\",\"fc\",\"fc\",\"fc\",\"fc\",\"fc\",\"fc\",\"fc\",\"fc\",\"fc\",\"fc\",\"fc\",\"fc\",\"fc\",\"fc\",\"fc\",\"fc\",\"fc\",\"fc\",\"fc\",\"fc\",\"fc\",\"fc\",\"fc\",\"fc\",\"fc\",\"fc\",\"fc\",\"fc\",\"fc\",\"fc\",\"fc\",\"fc\",\"fc\",\"fc\",\"fc\",\"fc\",\"fc\",\"fc\",\"fc\",\"fc\",\"fc\",\"fc\",\"fc\",\"fc\",\"fc\",\"fc\",\"fc\",\"fc\",\"fc\",\"fc\",\"fc\",\"fc\",\"fc\",\"fc\",\"fc\",\"fc\",\"fc\",\"fc\",\"fc\",\"fc\",\"fc\",\"fc\",\"fc\",\"fc\",\"fc\",\"fc\",\"fc\",\"fc\",\"fc\",\"fc\",\"fc\",\"fc\",\"fc\",\"fc\",\"fc\",\"fc\",\"fc\",\"fc\",\"fc\",\"fc\",\"fc\",\"fc\",\"fc\",\"fc\",\"fc\",\"fc\",\"fc\",\"fc\",\"fc\",\"fc\",\"fc\",\"fc\",\"fc\",\"fc\",\"fc\",\"fc\",\"fc\",\"fc\",\"fc\",\"fc\",\"fc\",\"fc\",\"fc\",\"fc\",\"fc\",\"fc\",\"fc\",\"fc\",\"fc\",\"fc\",\"fc\",\"fc\",\"fc\",\"fc\",\"fc\",\"fc\",\"fc\",\"fc\",\"fc\",\"fc\",\"fc\",\"fc\",\"fc\",\"fc\",\"fc\",\"fc\",\"fc\",\"fc\",\"fc\",\"fc\",\"fc\",\"fc\",\"fc\",\"fc\",\"fc\",\"fc\",\"fc\",\"fc\",\"fc\",\"fc\",\"fc\",\"fc\",\"fc\",\"fc\",\"fc\",\"fc\",\"fc\",\"fc\",\"fc\",\"fc\",\"fc\",\"fc\",\"fc\",\"fc\",\"fc\",\"fc\",\"fc\",\"fc\",\"fc\",\"fc\",\"fc\",\"fc\",\"fc\",\"fc\",\"fc\",\"fc\",\"fc\",\"fc\",\"fc\",\"fc\",\"fc\",\"fc\",\"fc\",\"fc\",\"fc\",\"fc\",\"fc\",\"fc\",\"fc\",\"fc\",\"fc\",\"fc\",\"fc\",\"fc\",\"fc\",\"fc\",\"fc\",\"fc\",\"fc\",\"fc\",\"fc\",\"fc\",\"fc\",\"fc\",\"fc\",\"fc\",\"fc\",\"fc\",\"fc\",\"fc\",\"fc\",\"fc\",\"fc\",\"fc\",\"fc\",\"fc\",\"fc\",\"fc\",\"fc\",\"fc\",\"fc\",\"fc\",\"fc\",\"fc\",\"fc\",\"fc\",\"fc\",\"fc\",\"fc\",\"fc\",\"fc\",\"fc\",\"fc\",\"fc\",\"fc\",\"fc\",\"fc\",\"fc\",\"fc\",\"fc\",\"fc\",\"fc\",\"fc\",\"fc\",\"fc\",\"fc\",\"fc\",\"fc\",\"fc\",\"fc\",\"fc\",\"fc\",\"fc\",\"fc\",\"fc\",\"fc\",\"fc\",\"fc\",\"fc\",\"fc\",\"fc\",\"fc\",\"fc\",\"fc\",\"fc\",\"fc\",\"int_memory\",\"int_memory\",\"int_memory\",\"int_memory\",\"int_memory\",\"int_memory\",\"int_memory\",\"int_memory\",\"int_memory\",\"int_memory\",\"int_memory\",\"int_memory\",\"int_memory\",\"int_memory\",\"int_memory\",\"int_memory\",\"int_memory\",\"int_memory\",\"int_memory\",\"int_memory\",\"int_memory\",\"int_memory\",\"int_memory\",\"int_memory\",\"int_memory\",\"int_memory\",\"int_memory\",\"int_memory\",\"int_memory\",\"int_memory\",\"int_memory\",\"int_memory\",\"int_memory\",\"int_memory\",\"int_memory\",\"int_memory\",\"int_memory\",\"int_memory\",\"int_memory\",\"int_memory\",\"int_memory\",\"int_memory\",\"int_memory\",\"int_memory\",\"int_memory\",\"int_memory\",\"int_memory\",\"int_memory\",\"int_memory\",\"int_memory\",\"int_memory\",\"int_memory\",\"int_memory\",\"int_memory\",\"int_memory\",\"int_memory\",\"int_memory\",\"int_memory\",\"int_memory\",\"int_memory\",\"int_memory\",\"int_memory\",\"int_memory\",\"int_memory\",\"int_memory\",\"int_memory\",\"int_memory\",\"int_memory\",\"int_memory\",\"int_memory\",\"int_memory\",\"int_memory\",\"int_memory\",\"int_memory\",\"int_memory\",\"int_memory\",\"int_memory\",\"int_memory\",\"int_memory\",\"int_memory\",\"int_memory\",\"int_memory\",\"int_memory\",\"int_memory\",\"int_memory\",\"int_memory\",\"int_memory\",\"int_memory\",\"int_memory\",\"int_memory\",\"int_memory\",\"int_memory\",\"int_memory\",\"int_memory\",\"int_memory\",\"int_memory\",\"int_memory\",\"int_memory\",\"int_memory\",\"int_memory\",\"int_memory\",\"int_memory\",\"int_memory\",\"int_memory\",\"int_memory\",\"int_memory\",\"int_memory\",\"int_memory\",\"int_memory\",\"int_memory\",\"int_memory\",\"int_memory\",\"int_memory\",\"int_memory\",\"int_memory\",\"int_memory\",\"int_memory\",\"int_memory\",\"int_memory\",\"int_memory\",\"int_memory\",\"int_memory\",\"int_memory\",\"int_memory\",\"int_memory\",\"int_memory\",\"int_memory\",\"int_memory\",\"int_memory\",\"int_memory\",\"int_memory\",\"int_memory\",\"int_memory\",\"int_memory\",\"int_memory\",\"int_memory\",\"int_memory\",\"int_memory\",\"int_memory\",\"int_memory\",\"int_memory\",\"int_memory\",\"int_memory\",\"int_memory\",\"int_memory\",\"int_memory\",\"int_memory\",\"int_memory\",\"int_memory\",\"int_memory\",\"int_memory\",\"int_memory\",\"int_memory\",\"int_memory\",\"int_memory\",\"int_memory\",\"int_memory\",\"int_memory\",\"int_memory\",\"int_memory\",\"int_memory\",\"int_memory\",\"int_memory\",\"int_memory\",\"int_memory\",\"int_memory\",\"int_memory\",\"int_memory\",\"int_memory\",\"int_memory\",\"int_memory\",\"int_memory\",\"int_memory\",\"int_memory\",\"int_memory\",\"int_memory\",\"int_memory\",\"int_memory\",\"int_memory\",\"int_memory\",\"int_memory\",\"int_memory\",\"int_memory\",\"int_memory\",\"int_memory\",\"int_memory\",\"int_memory\",\"int_memory\",\"int_memory\",\"int_memory\",\"int_memory\",\"int_memory\",\"int_memory\",\"int_memory\",\"int_memory\",\"int_memory\",\"int_memory\",\"int_memory\",\"int_memory\",\"int_memory\",\"int_memory\",\"int_memory\",\"int_memory\",\"int_memory\",\"int_memory\",\"int_memory\",\"int_memory\",\"int_memory\",\"int_memory\",\"int_memory\",\"int_memory\",\"int_memory\",\"int_memory\",\"int_memory\",\"int_memory\",\"int_memory\",\"int_memory\",\"int_memory\",\"int_memory\",\"int_memory\",\"int_memory\",\"int_memory\",\"int_memory\",\"int_memory\",\"int_memory\",\"int_memory\",\"int_memory\",\"int_memory\",\"int_memory\",\"int_memory\",\"int_memory\",\"int_memory\",\"int_memory\",\"int_memory\",\"int_memory\",\"int_memory\",\"int_memory\",\"int_memory\",\"int_memory\",\"int_memory\",\"int_memory\",\"int_memory\",\"int_memory\",\"int_memory\",\"int_memory\",\"int_memory\",\"int_memory\",\"int_memory\",\"int_memory\",\"int_memory\",\"int_memory\",\"int_memory\",\"int_memory\",\"int_memory\",\"int_memory\",\"int_memory\",\"int_memory\",\"int_memory\",\"int_memory\",\"int_memory\",\"int_memory\",\"int_memory\",\"int_memory\",\"int_memory\",\"int_memory\",\"int_memory\",\"int_memory\",\"int_memory\",\"int_memory\",\"int_memory\",\"int_memory\",\"int_memory\",\"int_memory\",\"int_memory\",\"int_memory\",\"int_memory\",\"int_memory\",\"int_memory\",\"int_memory\",\"int_memory\",\"int_memory\",\"int_memory\",\"int_memory\",\"int_memory\",\"int_memory\",\"int_memory\",\"int_memory\",\"int_memory\",\"int_memory\",\"int_memory\",\"int_memory\",\"int_memory\",\"int_memory\",\"int_memory\",\"int_memory\",\"int_memory\",\"int_memory\",\"int_memory\",\"int_memory\",\"int_memory\",\"int_memory\",\"int_memory\",\"int_memory\",\"int_memory\",\"int_memory\",\"int_memory\",\"int_memory\",\"int_memory\",\"int_memory\",\"int_memory\",\"int_memory\",\"int_memory\",\"int_memory\",\"int_memory\",\"int_memory\",\"int_memory\",\"int_memory\",\"int_memory\",\"int_memory\",\"int_memory\",\"int_memory\",\"int_memory\",\"int_memory\",\"int_memory\",\"int_memory\",\"int_memory\",\"int_memory\",\"int_memory\",\"int_memory\",\"int_memory\",\"int_memory\",\"int_memory\",\"int_memory\",\"int_memory\",\"int_memory\",\"int_memory\",\"int_memory\",\"int_memory\",\"int_memory\",\"int_memory\",\"int_memory\",\"int_memory\",\"int_memory\",\"int_memory\",\"int_memory\",\"int_memory\",\"int_memory\",\"int_memory\",\"int_memory\",\"int_memory\",\"int_memory\",\"int_memory\",\"int_memory\",\"int_memory\",\"int_memory\",\"int_memory\",\"int_memory\",\"int_memory\",\"int_memory\",\"int_memory\",\"int_memory\",\"int_memory\",\"int_memory\",\"int_memory\",\"int_memory\",\"int_memory\",\"int_memory\",\"int_memory\",\"int_memory\",\"int_memory\",\"int_memory\",\"int_memory\",\"int_memory\",\"int_memory\",\"int_memory\",\"int_memory\",\"int_memory\",\"int_memory\",\"int_memory\",\"int_memory\",\"int_memory\",\"int_memory\",\"int_memory\",\"int_memory\",\"int_memory\",\"int_memory\",\"int_memory\",\"int_memory\",\"int_memory\",\"int_memory\",\"int_memory\",\"int_memory\",\"int_memory\",\"int_memory\",\"int_memory\",\"int_memory\",\"int_memory\",\"int_memory\",\"int_memory\",\"int_memory\",\"int_memory\",\"int_memory\",\"int_memory\",\"int_memory\",\"int_memory\",\"int_memory\",\"int_memory\",\"int_memory\",\"int_memory\",\"int_memory\",\"int_memory\",\"int_memory\",\"int_memory\",\"int_memory\",\"int_memory\",\"int_memory\",\"int_memory\",\"int_memory\",\"int_memory\",\"int_memory\",\"int_memory\",\"int_memory\",\"int_memory\",\"int_memory\",\"int_memory\",\"int_memory\",\"int_memory\",\"int_memory\",\"int_memory\",\"int_memory\",\"int_memory\",\"int_memory\",\"int_memory\",\"int_memory\",\"int_memory\",\"int_memory\",\"int_memory\",\"int_memory\",\"int_memory\",\"int_memory\",\"int_memory\",\"int_memory\",\"int_memory\",\"int_memory\",\"int_memory\",\"int_memory\",\"int_memory\",\"int_memory\",\"int_memory\",\"int_memory\",\"int_memory\",\"int_memory\",\"int_memory\",\"int_memory\",\"int_memory\",\"int_memory\",\"int_memory\",\"int_memory\",\"int_memory\",\"int_memory\",\"int_memory\",\"int_memory\",\"int_memory\",\"int_memory\",\"int_memory\",\"int_memory\",\"int_memory\",\"int_memory\",\"int_memory\",\"int_memory\",\"int_memory\",\"int_memory\",\"int_memory\",\"int_memory\",\"int_memory\",\"int_memory\",\"int_memory\",\"int_memory\",\"int_memory\",\"int_memory\",\"int_memory\",\"int_memory\",\"int_memory\",\"int_memory\",\"int_memory\",\"int_memory\",\"int_memory\",\"int_memory\",\"int_memory\",\"int_memory\",\"int_memory\",\"int_memory\",\"int_memory\",\"int_memory\",\"int_memory\",\"int_memory\",\"int_memory\",\"int_memory\",\"int_memory\",\"int_memory\",\"int_memory\",\"int_memory\",\"int_memory\",\"int_memory\",\"int_memory\",\"int_memory\",\"int_memory\",\"int_memory\",\"int_memory\",\"int_memory\",\"int_memory\",\"int_memory\",\"int_memory\",\"int_memory\",\"int_memory\",\"int_memory\",\"int_memory\",\"int_memory\",\"int_memory\",\"int_memory\",\"int_memory\",\"int_memory\",\"int_memory\",\"int_memory\",\"int_memory\",\"int_memory\",\"int_memory\",\"int_memory\",\"int_memory\",\"int_memory\",\"int_memory\",\"int_memory\",\"int_memory\",\"int_memory\",\"int_memory\",\"int_memory\",\"int_memory\",\"int_memory\",\"int_memory\",\"int_memory\",\"int_memory\",\"int_memory\",\"int_memory\",\"int_memory\",\"int_memory\",\"int_memory\",\"int_memory\",\"int_memory\",\"int_memory\",\"int_memory\",\"int_memory\",\"int_memory\",\"int_memory\",\"int_memory\",\"int_memory\",\"int_memory\",\"int_memory\",\"int_memory\",\"int_memory\",\"int_memory\",\"int_memory\",\"int_memory\",\"int_memory\",\"int_memory\",\"int_memory\",\"int_memory\",\"int_memory\",\"int_memory\",\"int_memory\",\"int_memory\",\"int_memory\",\"int_memory\",\"int_memory\",\"int_memory\",\"int_memory\",\"int_memory\",\"int_memory\",\"int_memory\",\"int_memory\",\"int_memory\",\"int_memory\",\"int_memory\",\"int_memory\",\"int_memory\",\"int_memory\",\"int_memory\",\"int_memory\",\"int_memory\",\"int_memory\",\"int_memory\",\"int_memory\",\"int_memory\",\"int_memory\",\"int_memory\",\"int_memory\",\"int_memory\",\"int_memory\",\"int_memory\",\"int_memory\",\"int_memory\",\"int_memory\",\"int_memory\",\"int_memory\",\"int_memory\",\"int_memory\",\"int_memory\",\"int_memory\",\"int_memory\",\"int_memory\",\"int_memory\",\"int_memory\",\"int_memory\",\"int_memory\",\"int_memory\",\"int_memory\",\"int_memory\",\"int_memory\",\"int_memory\",\"int_memory\",\"int_memory\",\"int_memory\",\"int_memory\",\"int_memory\",\"int_memory\",\"int_memory\",\"int_memory\",\"int_memory\",\"int_memory\",\"int_memory\",\"int_memory\",\"int_memory\",\"int_memory\",\"int_memory\",\"int_memory\",\"int_memory\",\"int_memory\",\"int_memory\",\"int_memory\",\"int_memory\",\"int_memory\",\"int_memory\",\"int_memory\",\"int_memory\",\"int_memory\",\"int_memory\",\"int_memory\",\"int_memory\",\"int_memory\",\"int_memory\",\"int_memory\",\"int_memory\",\"int_memory\",\"int_memory\",\"int_memory\",\"int_memory\",\"int_memory\",\"int_memory\",\"int_memory\",\"int_memory\",\"int_memory\",\"int_memory\",\"int_memory\",\"int_memory\",\"int_memory\",\"int_memory\",\"int_memory\",\"int_memory\",\"int_memory\",\"int_memory\",\"int_memory\",\"int_memory\",\"int_memory\",\"int_memory\",\"int_memory\",\"int_memory\",\"int_memory\",\"int_memory\",\"int_memory\",\"int_memory\",\"int_memory\",\"int_memory\",\"int_memory\",\"int_memory\",\"int_memory\",\"int_memory\",\"int_memory\",\"int_memory\",\"int_memory\",\"int_memory\",\"int_memory\",\"int_memory\",\"int_memory\",\"int_memory\",\"int_memory\",\"int_memory\",\"int_memory\",\"int_memory\",\"int_memory\",\"int_memory\",\"int_memory\",\"int_memory\",\"int_memory\",\"int_memory\",\"int_memory\",\"int_memory\",\"int_memory\",\"int_memory\",\"int_memory\",\"int_memory\",\"int_memory\",\"int_memory\",\"int_memory\",\"int_memory\",\"int_memory\",\"int_memory\",\"int_memory\",\"int_memory\",\"int_memory\",\"int_memory\",\"int_memory\",\"int_memory\",\"int_memory\",\"int_memory\",\"int_memory\",\"int_memory\",\"int_memory\",\"int_memory\",\"int_memory\",\"int_memory\",\"int_memory\",\"int_memory\",\"int_memory\",\"int_memory\",\"int_memory\",\"int_memory\",\"int_memory\",\"int_memory\",\"int_memory\",\"int_memory\",\"int_memory\",\"int_memory\",\"int_memory\",\"int_memory\",\"int_memory\",\"int_memory\",\"int_memory\",\"int_memory\",\"int_memory\",\"int_memory\",\"int_memory\",\"int_memory\",\"int_memory\",\"int_memory\",\"int_memory\",\"int_memory\",\"int_memory\",\"int_memory\",\"int_memory\",\"int_memory\",\"int_memory\",\"int_memory\",\"int_memory\",\"int_memory\",\"int_memory\",\"int_memory\",\"int_memory\",\"int_memory\",\"int_memory\",\"int_memory\",\"int_memory\",\"int_memory\",\"int_memory\",\"int_memory\",\"int_memory\",\"int_memory\",\"int_memory\",\"int_memory\",\"int_memory\",\"int_memory\",\"int_memory\",\"int_memory\",\"int_memory\",\"int_memory\",\"int_memory\",\"int_memory\",\"int_memory\",\"int_memory\",\"int_memory\",\"int_memory\",\"int_memory\",\"int_memory\",\"int_memory\",\"int_memory\",\"int_memory\",\"int_memory\",\"int_memory\",\"int_memory\",\"int_memory\",\"int_memory\",\"int_memory\",\"int_memory\",\"int_memory\",\"int_memory\",\"int_memory\",\"int_memory\",\"int_memory\",\"int_memory\",\"int_memory\",\"int_memory\",\"int_memory\",\"int_memory\",\"int_memory\",\"int_memory\",\"int_memory\",\"int_memory\",\"int_memory\",\"int_memory\",\"int_memory\",\"int_memory\",\"int_memory\",\"int_memory\",\"int_memory\",\"int_memory\",\"int_memory\",\"int_memory\",\"int_memory\",\"int_memory\",\"int_memory\",\"int_memory\",\"int_memory\",\"int_memory\",\"int_memory\",\"int_memory\",\"int_memory\",\"int_memory\",\"int_memory\",\"int_memory\",\"int_memory\",\"int_memory\",\"int_memory\",\"int_memory\",\"int_memory\",\"int_memory\",\"int_memory\",\"int_memory\",\"int_memory\",\"int_memory\",\"int_memory\",\"int_memory\",\"int_memory\",\"int_memory\",\"int_memory\",\"int_memory\",\"int_memory\",\"int_memory\",\"int_memory\",\"int_memory\",\"int_memory\",\"int_memory\",\"int_memory\",\"int_memory\",\"int_memory\",\"int_memory\",\"int_memory\",\"int_memory\",\"int_memory\",\"int_memory\",\"int_memory\",\"int_memory\",\"int_memory\",\"int_memory\",\"int_memory\",\"int_memory\",\"int_memory\",\"int_memory\",\"int_memory\",\"int_memory\",\"int_memory\",\"int_memory\",\"int_memory\",\"int_memory\",\"int_memory\",\"int_memory\",\"int_memory\",\"int_memory\",\"int_memory\",\"int_memory\",\"int_memory\",\"int_memory\",\"int_memory\",\"int_memory\",\"int_memory\",\"int_memory\",\"int_memory\",\"int_memory\",\"int_memory\",\"int_memory\",\"int_memory\",\"int_memory\",\"int_memory\",\"int_memory\",\"int_memory\",\"int_memory\",\"int_memory\",\"int_memory\",\"int_memory\",\"int_memory\",\"int_memory\",\"int_memory\",\"int_memory\",\"int_memory\",\"int_memory\",\"int_memory\",\"int_memory\",\"int_memory\",\"int_memory\",\"int_memory\",\"int_memory\",\"int_memory\",\"int_memory\",\"int_memory\",\"int_memory\",\"int_memory\",\"int_memory\",\"int_memory\",\"int_memory\",\"int_memory\",\"int_memory\",\"int_memory\",\"int_memory\",\"int_memory\",\"int_memory\",\"int_memory\",\"int_memory\",\"int_memory\",\"int_memory\",\"int_memory\",\"int_memory\",\"int_memory\",\"int_memory\",\"int_memory\",\"int_memory\",\"int_memory\",\"int_memory\",\"int_memory\",\"int_memory\",\"int_memory\",\"int_memory\",\"int_memory\",\"int_memory\",\"int_memory\",\"int_memory\",\"int_memory\",\"int_memory\",\"int_memory\",\"int_memory\",\"int_memory\",\"int_memory\",\"int_memory\",\"int_memory\",\"int_memory\",\"int_memory\",\"int_memory\",\"int_memory\",\"int_memory\",\"int_memory\",\"int_memory\",\"int_memory\",\"int_memory\",\"int_memory\",\"int_memory\",\"int_memory\",\"int_memory\",\"int_memory\",\"int_memory\",\"int_memory\",\"int_memory\",\"int_memory\",\"int_memory\",\"int_memory\",\"int_memory\",\"int_memory\",\"int_memory\",\"int_memory\",\"int_memory\",\"int_memory\",\"int_memory\",\"int_memory\",\"int_memory\",\"int_memory\",\"int_memory\",\"int_memory\",\"int_memory\",\"int_memory\",\"int_memory\",\"int_memory\",\"int_memory\",\"int_memory\",\"int_memory\",\"int_memory\",\"int_memory\",\"int_memory\",\"int_memory\",\"int_memory\",\"int_memory\",\"int_memory\",\"int_memory\",\"int_memory\",\"int_memory\",\"int_memory\",\"int_memory\",\"int_memory\",\"int_memory\",\"int_memory\",\"int_memory\",\"int_memory\",\"int_memory\",\"int_memory\",\"int_memory\",\"int_memory\",\"int_memory\",\"int_memory\",\"int_memory\",\"int_memory\",\"int_memory\",\"int_memory\",\"int_memory\",\"int_memory\",\"int_memory\",\"int_memory\",\"int_memory\",\"int_memory\",\"int_memory\",\"int_memory\",\"int_memory\",\"int_memory\",\"int_memory\",\"int_memory\",\"int_memory\",\"int_memory\",\"int_memory\",\"int_memory\",\"int_memory\",\"int_memory\",\"int_memory\",\"int_memory\",\"int_memory\",\"int_memory\",\"int_memory\",\"int_memory\",\"int_memory\",\"int_memory\",\"int_memory\",\"int_memory\",\"int_memory\",\"int_memory\",\"int_memory\",\"int_memory\",\"int_memory\",\"int_memory\",\"int_memory\",\"int_memory\",\"int_memory\",\"int_memory\",\"int_memory\",\"int_memory\",\"int_memory\",\"int_memory\",\"int_memory\",\"int_memory\",\"int_memory\",\"int_memory\",\"int_memory\",\"int_memory\",\"int_memory\",\"int_memory\",\"int_memory\",\"int_memory\",\"int_memory\",\"int_memory\",\"int_memory\",\"int_memory\",\"int_memory\",\"int_memory\",\"int_memory\",\"int_memory\",\"int_memory\",\"int_memory\",\"int_memory\",\"int_memory\",\"int_memory\",\"int_memory\",\"int_memory\",\"int_memory\",\"int_memory\",\"int_memory\",\"int_memory\",\"int_memory\",\"int_memory\",\"int_memory\",\"int_memory\",\"int_memory\",\"int_memory\",\"int_memory\",\"int_memory\",\"int_memory\",\"int_memory\",\"int_memory\",\"int_memory\",\"int_memory\",\"int_memory\",\"int_memory\",\"int_memory\",\"int_memory\",\"int_memory\",\"int_memory\",\"int_memory\",\"int_memory\",\"int_memory\",\"int_memory\",\"int_memory\",\"int_memory\",\"int_memory\",\"int_memory\",\"int_memory\",\"int_memory\",\"int_memory\",\"int_memory\",\"int_memory\",\"int_memory\",\"int_memory\",\"int_memory\",\"int_memory\",\"int_memory\",\"int_memory\",\"int_memory\",\"int_memory\",\"int_memory\",\"int_memory\",\"int_memory\",\"int_memory\",\"int_memory\",\"int_memory\",\"int_memory\",\"int_memory\",\"int_memory\",\"int_memory\",\"int_memory\",\"int_memory\",\"int_memory\",\"int_memory\",\"int_memory\",\"int_memory\",\"int_memory\",\"int_memory\",\"int_memory\",\"int_memory\",\"int_memory\",\"int_memory\",\"int_memory\",\"int_memory\",\"int_memory\",\"int_memory\",\"int_memory\",\"int_memory\",\"int_memory\",\"int_memory\",\"int_memory\",\"int_memory\",\"int_memory\",\"int_memory\",\"int_memory\",\"int_memory\",\"int_memory\",\"int_memory\",\"int_memory\",\"int_memory\",\"int_memory\",\"int_memory\",\"int_memory\",\"int_memory\",\"int_memory\",\"int_memory\",\"int_memory\",\"int_memory\",\"int_memory\",\"int_memory\",\"int_memory\",\"int_memory\",\"int_memory\",\"int_memory\",\"int_memory\",\"int_memory\",\"int_memory\",\"int_memory\",\"int_memory\",\"int_memory\",\"int_memory\",\"int_memory\",\"int_memory\",\"int_memory\",\"int_memory\",\"int_memory\",\"int_memory\",\"int_memory\",\"int_memory\",\"int_memory\",\"int_memory\",\"int_memory\",\"int_memory\",\"int_memory\",\"int_memory\",\"int_memory\",\"int_memory\",\"int_memory\",\"int_memory\",\"int_memory\",\"int_memory\",\"int_memory\",\"int_memory\",\"int_memory\",\"int_memory\",\"int_memory\",\"int_memory\",\"int_memory\",\"int_memory\",\"int_memory\",\"int_memory\",\"int_memory\",\"int_memory\",\"int_memory\",\"int_memory\",\"int_memory\",\"int_memory\",\"int_memory\",\"int_memory\",\"int_memory\",\"int_memory\",\"int_memory\",\"int_memory\",\"int_memory\",\"int_memory\",\"int_memory\",\"int_memory\",\"int_memory\",\"int_memory\",\"int_memory\",\"int_memory\",\"int_memory\",\"int_memory\",\"int_memory\",\"int_memory\",\"int_memory\",\"int_memory\",\"int_memory\",\"int_memory\",\"int_memory\",\"int_memory\",\"int_memory\",\"int_memory\",\"int_memory\",\"int_memory\",\"int_memory\",\"int_memory\",\"int_memory\",\"int_memory\",\"int_memory\",\"int_memory\",\"int_memory\",\"int_memory\",\"int_memory\",\"int_memory\",\"int_memory\",\"int_memory\",\"int_memory\",\"int_memory\",\"int_memory\",\"int_memory\",\"int_memory\",\"int_memory\",\"int_memory\",\"int_memory\",\"int_memory\",\"int_memory\",\"int_memory\",\"int_memory\",\"int_memory\",\"int_memory\",\"int_memory\",\"int_memory\",\"int_memory\",\"int_memory\",\"int_memory\",\"int_memory\",\"int_memory\",\"int_memory\",\"int_memory\",\"int_memory\",\"int_memory\",\"int_memory\",\"int_memory\",\"int_memory\",\"int_memory\",\"int_memory\",\"int_memory\",\"int_memory\",\"int_memory\",\"int_memory\",\"int_memory\",\"int_memory\",\"int_memory\",\"int_memory\",\"int_memory\",\"int_memory\",\"int_memory\",\"int_memory\",\"int_memory\",\"int_memory\",\"int_memory\",\"int_memory\",\"int_memory\",\"int_memory\",\"int_memory\",\"int_memory\",\"int_memory\",\"int_memory\",\"int_memory\",\"int_memory\",\"int_memory\",\"int_memory\",\"int_memory\",\"int_memory\",\"int_memory\",\"int_memory\",\"int_memory\",\"int_memory\",\"int_memory\",\"int_memory\",\"int_memory\",\"int_memory\",\"int_memory\",\"int_memory\",\"int_memory\",\"int_memory\",\"int_memory\",\"int_memory\",\"int_memory\",\"int_memory\",\"int_memory\",\"int_memory\",\"int_memory\",\"int_memory\",\"int_memory\",\"int_memory\",\"int_memory\",\"int_memory\",\"int_memory\",\"int_memory\",\"int_memory\",\"int_memory\",\"int_memory\",\"int_memory\",\"int_memory\",\"int_memory\",\"int_memory\",\"int_memory\",\"int_memory\",\"int_memory\",\"int_memory\",\"int_memory\",\"int_memory\",\"int_memory\",\"int_memory\",\"int_memory\",\"int_memory\",\"int_memory\",\"int_memory\",\"int_memory\",\"int_memory\",\"int_memory\",\"int_memory\",\"int_memory\",\"int_memory\",\"int_memory\",\"int_memory\",\"int_memory\",\"int_memory\",\"int_memory\",\"int_memory\",\"int_memory\",\"int_memory\",\"int_memory\",\"int_memory\",\"int_memory\",\"int_memory\",\"int_memory\",\"int_memory\",\"int_memory\",\"int_memory\",\"int_memory\",\"int_memory\",\"int_memory\",\"int_memory\",\"int_memory\",\"int_memory\",\"int_memory\",\"int_memory\",\"int_memory\",\"int_memory\",\"int_memory\",\"int_memory\",\"int_memory\",\"int_memory\",\"int_memory\",\"int_memory\",\"int_memory\",\"int_memory\",\"int_memory\",\"int_memory\",\"int_memory\",\"int_memory\",\"int_memory\",\"int_memory\",\"int_memory\",\"int_memory\",\"int_memory\",\"int_memory\",\"int_memory\",\"int_memory\",\"int_memory\",\"int_memory\",\"int_memory\",\"int_memory\",\"int_memory\",\"int_memory\",\"int_memory\",\"int_memory\",\"int_memory\",\"int_memory\",\"int_memory\",\"int_memory\",\"int_memory\",\"int_memory\",\"int_memory\",\"int_memory\",\"int_memory\",\"int_memory\",\"int_memory\",\"int_memory\",\"int_memory\",\"int_memory\",\"int_memory\",\"int_memory\",\"int_memory\",\"int_memory\",\"int_memory\",\"int_memory\",\"int_memory\",\"int_memory\",\"int_memory\",\"int_memory\",\"int_memory\",\"int_memory\",\"int_memory\",\"int_memory\",\"int_memory\",\"int_memory\",\"int_memory\",\"int_memory\",\"int_memory\",\"int_memory\",\"int_memory\",\"int_memory\",\"int_memory\",\"int_memory\",\"int_memory\",\"int_memory\",\"int_memory\",\"int_memory\",\"int_memory\",\"int_memory\",\"int_memory\",\"int_memory\",\"int_memory\",\"int_memory\",\"int_memory\",\"int_memory\",\"int_memory\",\"int_memory\",\"int_memory\",\"int_memory\",\"int_memory\",\"int_memory\",\"int_memory\",\"int_memory\",\"int_memory\",\"int_memory\",\"int_memory\",\"int_memory\",\"int_memory\",\"int_memory\",\"int_memory\",\"int_memory\",\"int_memory\",\"int_memory\",\"int_memory\",\"int_memory\",\"int_memory\",\"int_memory\",\"int_memory\",\"int_memory\",\"int_memory\",\"int_memory\",\"int_memory\",\"int_memory\",\"int_memory\",\"int_memory\",\"int_memory\",\"int_memory\",\"int_memory\",\"int_memory\",\"int_memory\",\"int_memory\",\"int_memory\",\"int_memory\",\"int_memory\",\"int_memory\",\"int_memory\",\"int_memory\",\"int_memory\",\"int_memory\",\"int_memory\",\"int_memory\",\"int_memory\",\"int_memory\",\"int_memory\",\"int_memory\",\"int_memory\",\"int_memory\",\"int_memory\",\"int_memory\",\"int_memory\",\"int_memory\",\"int_memory\",\"int_memory\",\"int_memory\",\"int_memory\",\"int_memory\",\"int_memory\",\"int_memory\",\"int_memory\",\"int_memory\",\"int_memory\",\"int_memory\",\"int_memory\",\"int_memory\",\"int_memory\",\"int_memory\",\"int_memory\",\"int_memory\",\"int_memory\",\"int_memory\",\"int_memory\",\"int_memory\",\"int_memory\",\"int_memory\",\"int_memory\",\"int_memory\",\"int_memory\",\"int_memory\",\"int_memory\",\"int_memory\",\"int_memory\",\"int_memory\",\"int_memory\",\"int_memory\",\"int_memory\",\"int_memory\",\"int_memory\",\"int_memory\",\"int_memory\",\"int_memory\",\"int_memory\",\"int_memory\",\"int_memory\",\"int_memory\",\"int_memory\",\"int_memory\",\"int_memory\",\"int_memory\",\"int_memory\",\"int_memory\",\"int_memory\",\"int_memory\",\"int_memory\",\"int_memory\",\"int_memory\",\"int_memory\",\"int_memory\",\"int_memory\",\"int_memory\",\"int_memory\",\"int_memory\",\"int_memory\",\"int_memory\",\"int_memory\",\"int_memory\",\"int_memory\",\"int_memory\",\"int_memory\",\"int_memory\",\"int_memory\",\"int_memory\",\"int_memory\",\"int_memory\",\"int_memory\",\"int_memory\",\"int_memory\",\"int_memory\",\"int_memory\",\"int_memory\",\"int_memory\",\"int_memory\",\"int_memory\",\"int_memory\",\"int_memory\",\"int_memory\",\"int_memory\",\"int_memory\",\"int_memory\",\"int_memory\",\"int_memory\",\"int_memory\",\"int_memory\",\"int_memory\",\"int_memory\",\"int_memory\",\"int_memory\",\"int_memory\",\"int_memory\",\"int_memory\",\"int_memory\",\"int_memory\",\"int_memory\",\"int_memory\",\"int_memory\",\"int_memory\",\"int_memory\",\"int_memory\",\"int_memory\",\"int_memory\",\"int_memory\",\"int_memory\",\"int_memory\",\"int_memory\",\"int_memory\",\"int_memory\",\"int_memory\",\"int_memory\",\"int_memory\",\"int_memory\",\"int_memory\",\"int_memory\",\"int_memory\",\"int_memory\",\"int_memory\",\"int_memory\",\"int_memory\",\"int_memory\",\"int_memory\",\"int_memory\",\"int_memory\",\"int_memory\",\"int_memory\",\"int_memory\",\"int_memory\",\"int_memory\",\"int_memory\",\"int_memory\",\"int_memory\",\"int_memory\",\"int_memory\",\"int_memory\",\"int_memory\",\"int_memory\",\"int_memory\",\"int_memory\",\"int_memory\",\"int_memory\",\"int_memory\",\"int_memory\",\"int_memory\",\"int_memory\",\"int_memory\",\"int_memory\",\"int_memory\",\"int_memory\",\"int_memory\",\"int_memory\",\"int_memory\",\"int_memory\",\"int_memory\",\"int_memory\",\"int_memory\",\"int_memory\",\"int_memory\",\"int_memory\",\"int_memory\",\"int_memory\",\"int_memory\",\"int_memory\",\"int_memory\",\"int_memory\",\"int_memory\",\"int_memory\",\"int_memory\",\"int_memory\",\"int_memory\",\"int_memory\",\"int_memory\",\"int_memory\",\"int_memory\",\"int_memory\",\"int_memory\",\"int_memory\",\"int_memory\",\"int_memory\",\"int_memory\",\"int_memory\",\"int_memory\",\"int_memory\",\"int_memory\",\"int_memory\",\"int_memory\",\"int_memory\",\"int_memory\",\"int_memory\",\"int_memory\",\"int_memory\",\"int_memory\",\"int_memory\",\"int_memory\",\"int_memory\",\"int_memory\",\"int_memory\",\"int_memory\",\"int_memory\",\"int_memory\",\"int_memory\",\"int_memory\",\"int_memory\",\"int_memory\",\"int_memory\",\"int_memory\",\"int_memory\",\"int_memory\",\"int_memory\",\"int_memory\",\"int_memory\",\"int_memory\",\"int_memory\",\"int_memory\",\"int_memory\",\"int_memory\",\"int_memory\",\"int_memory\",\"int_memory\",\"int_memory\",\"int_memory\",\"int_memory\",\"int_memory\",\"int_memory\",\"int_memory\",\"int_memory\",\"int_memory\",\"int_memory\",\"int_memory\",\"int_memory\",\"int_memory\",\"int_memory\",\"int_memory\",\"int_memory\",\"int_memory\",\"int_memory\",\"int_memory\",\"int_memory\",\"int_memory\",\"int_memory\",\"int_memory\",\"int_memory\",\"int_memory\",\"int_memory\",\"int_memory\",\"int_memory\",\"int_memory\",\"int_memory\",\"int_memory\",\"int_memory\",\"int_memory\",\"int_memory\",\"int_memory\",\"int_memory\",\"int_memory\",\"int_memory\",\"int_memory\",\"int_memory\",\"int_memory\",\"int_memory\",\"int_memory\",\"int_memory\",\"int_memory\",\"int_memory\",\"int_memory\",\"int_memory\",\"int_memory\",\"int_memory\",\"int_memory\",\"int_memory\",\"int_memory\",\"int_memory\",\"int_memory\",\"int_memory\",\"int_memory\",\"int_memory\",\"int_memory\",\"int_memory\",\"int_memory\",\"int_memory\",\"int_memory\",\"int_memory\",\"int_memory\",\"int_memory\",\"int_memory\",\"int_memory\",\"int_memory\",\"int_memory\",\"int_memory\",\"int_memory\",\"int_memory\",\"int_memory\",\"int_memory\",\"int_memory\",\"int_memory\",\"int_memory\",\"int_memory\",\"int_memory\",\"int_memory\",\"int_memory\",\"int_memory\",\"int_memory\",\"int_memory\",\"int_memory\",\"int_memory\",\"int_memory\",\"int_memory\",\"int_memory\",\"int_memory\",\"int_memory\",\"int_memory\",\"int_memory\",\"int_memory\",\"int_memory\",\"int_memory\",\"int_memory\",\"int_memory\",\"int_memory\",\"int_memory\",\"int_memory\",\"int_memory\",\"int_memory\",\"int_memory\",\"int_memory\",\"int_memory\",\"int_memory\",\"int_memory\",\"int_memory\",\"int_memory\",\"int_memory\",\"int_memory\",\"int_memory\",\"int_memory\",\"int_memory\",\"int_memory\",\"int_memory\",\"int_memory\",\"int_memory\",\"int_memory\",\"int_memory\",\"int_memory\",\"int_memory\",\"int_memory\",\"int_memory\",\"int_memory\",\"int_memory\",\"int_memory\",\"int_memory\",\"int_memory\",\"int_memory\",\"int_memory\",\"int_memory\",\"int_memory\",\"int_memory\",\"int_memory\",\"int_memory\",\"int_memory\",\"int_memory\",\"int_memory\",\"int_memory\",\"int_memory\",\"int_memory\",\"int_memory\",\"int_memory\",\"int_memory\",\"int_memory\",\"int_memory\",\"int_memory\",\"int_memory\",\"int_memory\",\"int_memory\",\"int_memory\",\"int_memory\",\"int_memory\",\"int_memory\",\"int_memory\",\"int_memory\",\"int_memory\",\"int_memory\",\"int_memory\",\"int_memory\",\"int_memory\",\"int_memory\",\"int_memory\",\"int_memory\",\"int_memory\",\"int_memory\",\"int_memory\",\"int_memory\",\"int_memory\",\"int_memory\",\"int_memory\",\"int_memory\",\"int_memory\",\"int_memory\",\"int_memory\",\"int_memory\",\"int_memory\",\"int_memory\",\"int_memory\",\"int_memory\",\"int_memory\",\"int_memory\",\"int_memory\",\"int_memory\",\"int_memory\",\"int_memory\",\"int_memory\",\"int_memory\",\"int_memory\",\"int_memory\",\"int_memory\",\"int_memory\",\"int_memory\",\"int_memory\",\"int_memory\",\"int_memory\",\"int_memory\",\"int_memory\",\"int_memory\",\"int_memory\",\"int_memory\",\"int_memory\",\"int_memory\",\"int_memory\",\"int_memory\",\"int_memory\",\"int_memory\",\"int_memory\",\"int_memory\",\"int_memory\",\"int_memory\",\"int_memory\",\"int_memory\",\"int_memory\",\"int_memory\",\"int_memory\",\"int_memory\",\"int_memory\",\"int_memory\",\"int_memory\",\"int_memory\",\"int_memory\",\"int_memory\",\"int_memory\",\"int_memory\",\"int_memory\",\"int_memory\",\"int_memory\",\"int_memory\",\"int_memory\",\"int_memory\",\"m_dep\",\"m_dep\",\"m_dep\",\"m_dep\",\"m_dep\",\"m_dep\",\"m_dep\",\"m_dep\",\"m_dep\",\"m_dep\",\"m_dep\",\"m_dep\",\"m_dep\",\"m_dep\",\"m_dep\",\"m_dep\",\"m_dep\",\"m_dep\",\"m_dep\",\"m_dep\",\"m_dep\",\"m_dep\",\"m_dep\",\"m_dep\",\"m_dep\",\"m_dep\",\"m_dep\",\"m_dep\",\"m_dep\",\"m_dep\",\"m_dep\",\"m_dep\",\"m_dep\",\"m_dep\",\"m_dep\",\"m_dep\",\"m_dep\",\"m_dep\",\"m_dep\",\"m_dep\",\"m_dep\",\"m_dep\",\"m_dep\",\"m_dep\",\"m_dep\",\"m_dep\",\"m_dep\",\"m_dep\",\"m_dep\",\"m_dep\",\"m_dep\",\"m_dep\",\"m_dep\",\"m_dep\",\"m_dep\",\"m_dep\",\"m_dep\",\"m_dep\",\"m_dep\",\"m_dep\",\"m_dep\",\"m_dep\",\"m_dep\",\"m_dep\",\"m_dep\",\"m_dep\",\"m_dep\",\"m_dep\",\"m_dep\",\"m_dep\",\"m_dep\",\"m_dep\",\"m_dep\",\"m_dep\",\"m_dep\",\"m_dep\",\"m_dep\",\"m_dep\",\"m_dep\",\"m_dep\",\"m_dep\",\"m_dep\",\"m_dep\",\"m_dep\",\"m_dep\",\"m_dep\",\"m_dep\",\"m_dep\",\"m_dep\",\"m_dep\",\"m_dep\",\"m_dep\",\"m_dep\",\"m_dep\",\"m_dep\",\"m_dep\",\"m_dep\",\"m_dep\",\"m_dep\",\"m_dep\",\"m_dep\",\"m_dep\",\"m_dep\",\"m_dep\",\"m_dep\",\"m_dep\",\"m_dep\",\"m_dep\",\"m_dep\",\"m_dep\",\"m_dep\",\"m_dep\",\"m_dep\",\"m_dep\",\"m_dep\",\"m_dep\",\"m_dep\",\"m_dep\",\"m_dep\",\"m_dep\",\"m_dep\",\"m_dep\",\"m_dep\",\"m_dep\",\"m_dep\",\"m_dep\",\"m_dep\",\"m_dep\",\"m_dep\",\"m_dep\",\"m_dep\",\"m_dep\",\"m_dep\",\"m_dep\",\"m_dep\",\"m_dep\",\"m_dep\",\"m_dep\",\"m_dep\",\"m_dep\",\"m_dep\",\"m_dep\",\"m_dep\",\"m_dep\",\"m_dep\",\"m_dep\",\"m_dep\",\"m_dep\",\"m_dep\",\"m_dep\",\"m_dep\",\"m_dep\",\"m_dep\",\"m_dep\",\"m_dep\",\"m_dep\",\"m_dep\",\"m_dep\",\"m_dep\",\"m_dep\",\"m_dep\",\"m_dep\",\"m_dep\",\"m_dep\",\"m_dep\",\"m_dep\",\"m_dep\",\"m_dep\",\"m_dep\",\"m_dep\",\"m_dep\",\"m_dep\",\"m_dep\",\"m_dep\",\"m_dep\",\"m_dep\",\"m_dep\",\"m_dep\",\"m_dep\",\"m_dep\",\"m_dep\",\"m_dep\",\"m_dep\",\"m_dep\",\"m_dep\",\"m_dep\",\"m_dep\",\"m_dep\",\"m_dep\",\"m_dep\",\"m_dep\",\"m_dep\",\"m_dep\",\"m_dep\",\"m_dep\",\"m_dep\",\"m_dep\",\"m_dep\",\"m_dep\",\"m_dep\",\"m_dep\",\"m_dep\",\"m_dep\",\"m_dep\",\"m_dep\",\"m_dep\",\"m_dep\",\"m_dep\",\"m_dep\",\"m_dep\",\"m_dep\",\"m_dep\",\"m_dep\",\"m_dep\",\"m_dep\",\"m_dep\",\"m_dep\",\"m_dep\",\"m_dep\",\"m_dep\",\"m_dep\",\"m_dep\",\"m_dep\",\"m_dep\",\"m_dep\",\"m_dep\",\"m_dep\",\"m_dep\",\"m_dep\",\"m_dep\",\"m_dep\",\"m_dep\",\"m_dep\",\"m_dep\",\"m_dep\",\"m_dep\",\"m_dep\",\"m_dep\",\"m_dep\",\"m_dep\",\"m_dep\",\"m_dep\",\"m_dep\",\"m_dep\",\"m_dep\",\"m_dep\",\"m_dep\",\"m_dep\",\"m_dep\",\"m_dep\",\"m_dep\",\"m_dep\",\"m_dep\",\"m_dep\",\"m_dep\",\"m_dep\",\"m_dep\",\"m_dep\",\"m_dep\",\"m_dep\",\"m_dep\",\"m_dep\",\"m_dep\",\"m_dep\",\"m_dep\",\"m_dep\",\"m_dep\",\"m_dep\",\"m_dep\",\"m_dep\",\"m_dep\",\"m_dep\",\"m_dep\",\"m_dep\",\"m_dep\",\"m_dep\",\"m_dep\",\"m_dep\",\"m_dep\",\"m_dep\",\"m_dep\",\"m_dep\",\"m_dep\",\"m_dep\",\"m_dep\",\"m_dep\",\"m_dep\",\"m_dep\",\"m_dep\",\"m_dep\",\"m_dep\",\"m_dep\",\"m_dep\",\"m_dep\",\"m_dep\",\"m_dep\",\"m_dep\",\"m_dep\",\"m_dep\",\"m_dep\",\"m_dep\",\"m_dep\",\"m_dep\",\"m_dep\",\"m_dep\",\"m_dep\",\"m_dep\",\"m_dep\",\"m_dep\",\"m_dep\",\"m_dep\",\"m_dep\",\"m_dep\",\"m_dep\",\"m_dep\",\"m_dep\",\"m_dep\",\"m_dep\",\"m_dep\",\"m_dep\",\"m_dep\",\"m_dep\",\"m_dep\",\"m_dep\",\"m_dep\",\"m_dep\",\"m_dep\",\"m_dep\",\"m_dep\",\"m_dep\",\"m_dep\",\"m_dep\",\"m_dep\",\"m_dep\",\"m_dep\",\"m_dep\",\"m_dep\",\"m_dep\",\"m_dep\",\"m_dep\",\"m_dep\",\"m_dep\",\"m_dep\",\"m_dep\",\"m_dep\",\"m_dep\",\"m_dep\",\"m_dep\",\"m_dep\",\"m_dep\",\"m_dep\",\"m_dep\",\"m_dep\",\"m_dep\",\"m_dep\",\"m_dep\",\"m_dep\",\"m_dep\",\"m_dep\",\"m_dep\",\"m_dep\",\"m_dep\",\"m_dep\",\"m_dep\",\"m_dep\",\"m_dep\",\"m_dep\",\"m_dep\",\"m_dep\",\"m_dep\",\"m_dep\",\"m_dep\",\"m_dep\",\"m_dep\",\"m_dep\",\"m_dep\",\"m_dep\",\"m_dep\",\"m_dep\",\"m_dep\",\"m_dep\",\"m_dep\",\"m_dep\",\"m_dep\",\"m_dep\",\"m_dep\",\"m_dep\",\"m_dep\",\"m_dep\",\"m_dep\",\"m_dep\",\"m_dep\",\"m_dep\",\"m_dep\",\"m_dep\",\"m_dep\",\"m_dep\",\"m_dep\",\"m_dep\",\"m_dep\",\"m_dep\",\"m_dep\",\"m_dep\",\"m_dep\",\"m_dep\",\"m_dep\",\"m_dep\",\"m_dep\",\"m_dep\",\"m_dep\",\"m_dep\",\"m_dep\",\"m_dep\",\"m_dep\",\"m_dep\",\"m_dep\",\"m_dep\",\"m_dep\",\"m_dep\",\"m_dep\",\"m_dep\",\"m_dep\",\"m_dep\",\"m_dep\",\"m_dep\",\"m_dep\",\"m_dep\",\"m_dep\",\"m_dep\",\"m_dep\",\"m_dep\",\"m_dep\",\"m_dep\",\"m_dep\",\"m_dep\",\"m_dep\",\"m_dep\",\"m_dep\",\"m_dep\",\"m_dep\",\"m_dep\",\"m_dep\",\"m_dep\",\"m_dep\",\"m_dep\",\"m_dep\",\"m_dep\",\"m_dep\",\"m_dep\",\"m_dep\",\"m_dep\",\"m_dep\",\"m_dep\",\"m_dep\",\"m_dep\",\"m_dep\",\"m_dep\",\"m_dep\",\"m_dep\",\"m_dep\",\"m_dep\",\"m_dep\",\"m_dep\",\"m_dep\",\"m_dep\",\"m_dep\",\"m_dep\",\"m_dep\",\"m_dep\",\"m_dep\",\"m_dep\",\"m_dep\",\"m_dep\",\"m_dep\",\"m_dep\",\"m_dep\",\"m_dep\",\"m_dep\",\"m_dep\",\"m_dep\",\"m_dep\",\"m_dep\",\"m_dep\",\"m_dep\",\"m_dep\",\"m_dep\",\"m_dep\",\"m_dep\",\"m_dep\",\"m_dep\",\"m_dep\",\"m_dep\",\"m_dep\",\"m_dep\",\"m_dep\",\"m_dep\",\"m_dep\",\"m_dep\",\"m_dep\",\"m_dep\",\"m_dep\",\"m_dep\",\"m_dep\",\"m_dep\",\"m_dep\",\"m_dep\",\"m_dep\",\"m_dep\",\"m_dep\",\"m_dep\",\"m_dep\",\"m_dep\",\"m_dep\",\"m_dep\",\"m_dep\",\"m_dep\",\"m_dep\",\"m_dep\",\"m_dep\",\"m_dep\",\"m_dep\",\"m_dep\",\"m_dep\",\"m_dep\",\"m_dep\",\"m_dep\",\"m_dep\",\"m_dep\",\"m_dep\",\"m_dep\",\"m_dep\",\"m_dep\",\"m_dep\",\"m_dep\",\"m_dep\",\"m_dep\",\"m_dep\",\"m_dep\",\"m_dep\",\"m_dep\",\"m_dep\",\"m_dep\",\"m_dep\",\"m_dep\",\"m_dep\",\"m_dep\",\"m_dep\",\"m_dep\",\"m_dep\",\"m_dep\",\"m_dep\",\"m_dep\",\"m_dep\",\"m_dep\",\"m_dep\",\"m_dep\",\"m_dep\",\"m_dep\",\"m_dep\",\"m_dep\",\"m_dep\",\"m_dep\",\"m_dep\",\"m_dep\",\"m_dep\",\"m_dep\",\"m_dep\",\"m_dep\",\"m_dep\",\"m_dep\",\"m_dep\",\"m_dep\",\"m_dep\",\"m_dep\",\"m_dep\",\"m_dep\",\"m_dep\",\"m_dep\",\"m_dep\",\"m_dep\",\"m_dep\",\"m_dep\",\"m_dep\",\"m_dep\",\"m_dep\",\"m_dep\",\"m_dep\",\"m_dep\",\"m_dep\",\"m_dep\",\"m_dep\",\"m_dep\",\"m_dep\",\"m_dep\",\"m_dep\",\"m_dep\",\"m_dep\",\"m_dep\",\"m_dep\",\"m_dep\",\"m_dep\",\"m_dep\",\"m_dep\",\"m_dep\",\"m_dep\",\"m_dep\",\"m_dep\",\"m_dep\",\"m_dep\",\"m_dep\",\"m_dep\",\"m_dep\",\"m_dep\",\"m_dep\",\"m_dep\",\"m_dep\",\"m_dep\",\"m_dep\",\"m_dep\",\"m_dep\",\"m_dep\",\"m_dep\",\"m_dep\",\"m_dep\",\"m_dep\",\"m_dep\",\"m_dep\",\"m_dep\",\"m_dep\",\"m_dep\",\"m_dep\",\"m_dep\",\"m_dep\",\"m_dep\",\"m_dep\",\"m_dep\",\"m_dep\",\"m_dep\",\"m_dep\",\"m_dep\",\"m_dep\",\"m_dep\",\"m_dep\",\"m_dep\",\"m_dep\",\"m_dep\",\"m_dep\",\"m_dep\",\"m_dep\",\"m_dep\",\"m_dep\",\"m_dep\",\"m_dep\",\"m_dep\",\"m_dep\",\"m_dep\",\"m_dep\",\"m_dep\",\"m_dep\",\"m_dep\",\"m_dep\",\"m_dep\",\"m_dep\",\"m_dep\",\"m_dep\",\"m_dep\",\"m_dep\",\"m_dep\",\"m_dep\",\"m_dep\",\"m_dep\",\"m_dep\",\"m_dep\",\"m_dep\",\"m_dep\",\"m_dep\",\"m_dep\",\"m_dep\",\"m_dep\",\"m_dep\",\"m_dep\",\"m_dep\",\"m_dep\",\"m_dep\",\"m_dep\",\"m_dep\",\"m_dep\",\"m_dep\",\"m_dep\",\"m_dep\",\"m_dep\",\"m_dep\",\"m_dep\",\"m_dep\",\"m_dep\",\"m_dep\",\"m_dep\",\"m_dep\",\"m_dep\",\"m_dep\",\"m_dep\",\"m_dep\",\"m_dep\",\"m_dep\",\"m_dep\",\"m_dep\",\"m_dep\",\"m_dep\",\"m_dep\",\"m_dep\",\"m_dep\",\"m_dep\",\"m_dep\",\"m_dep\",\"m_dep\",\"m_dep\",\"m_dep\",\"m_dep\",\"m_dep\",\"m_dep\",\"m_dep\",\"m_dep\",\"m_dep\",\"m_dep\",\"m_dep\",\"m_dep\",\"m_dep\",\"m_dep\",\"m_dep\",\"m_dep\",\"m_dep\",\"m_dep\",\"m_dep\",\"m_dep\",\"m_dep\",\"m_dep\",\"m_dep\",\"m_dep\",\"m_dep\",\"m_dep\",\"m_dep\",\"m_dep\",\"m_dep\",\"m_dep\",\"m_dep\",\"m_dep\",\"m_dep\",\"m_dep\",\"m_dep\",\"m_dep\",\"m_dep\",\"m_dep\",\"m_dep\",\"m_dep\",\"m_dep\",\"m_dep\",\"m_dep\",\"m_dep\",\"m_dep\",\"m_dep\",\"m_dep\",\"m_dep\",\"m_dep\",\"m_dep\",\"m_dep\",\"m_dep\",\"m_dep\",\"m_dep\",\"m_dep\",\"m_dep\",\"m_dep\",\"m_dep\",\"m_dep\",\"m_dep\",\"m_dep\",\"m_dep\",\"m_dep\",\"m_dep\",\"m_dep\",\"m_dep\",\"m_dep\",\"m_dep\",\"m_dep\",\"m_dep\",\"m_dep\",\"m_dep\",\"m_dep\",\"m_dep\",\"m_dep\",\"m_dep\",\"m_dep\",\"m_dep\",\"m_dep\",\"m_dep\",\"m_dep\",\"m_dep\",\"m_dep\",\"m_dep\",\"m_dep\",\"m_dep\",\"m_dep\",\"m_dep\",\"m_dep\",\"m_dep\",\"m_dep\",\"m_dep\",\"m_dep\",\"m_dep\",\"m_dep\",\"m_dep\",\"m_dep\",\"m_dep\",\"m_dep\",\"m_dep\",\"m_dep\",\"m_dep\",\"m_dep\",\"m_dep\",\"m_dep\",\"m_dep\",\"m_dep\",\"m_dep\",\"m_dep\",\"m_dep\",\"m_dep\",\"m_dep\",\"m_dep\",\"m_dep\",\"m_dep\",\"m_dep\",\"m_dep\",\"m_dep\",\"m_dep\",\"m_dep\",\"m_dep\",\"m_dep\",\"m_dep\",\"m_dep\",\"m_dep\",\"m_dep\",\"m_dep\",\"m_dep\",\"m_dep\",\"m_dep\",\"m_dep\",\"m_dep\",\"m_dep\",\"m_dep\",\"m_dep\",\"m_dep\",\"m_dep\",\"m_dep\",\"m_dep\",\"m_dep\",\"m_dep\",\"m_dep\",\"m_dep\",\"m_dep\",\"m_dep\",\"m_dep\",\"m_dep\",\"m_dep\",\"m_dep\",\"m_dep\",\"m_dep\",\"m_dep\",\"m_dep\",\"m_dep\",\"m_dep\",\"m_dep\",\"m_dep\",\"m_dep\",\"m_dep\",\"m_dep\",\"m_dep\",\"m_dep\",\"m_dep\",\"m_dep\",\"m_dep\",\"m_dep\",\"m_dep\",\"m_dep\",\"m_dep\",\"m_dep\",\"m_dep\",\"m_dep\",\"m_dep\",\"m_dep\",\"m_dep\",\"m_dep\",\"m_dep\",\"m_dep\",\"m_dep\",\"m_dep\",\"m_dep\",\"m_dep\",\"m_dep\",\"m_dep\",\"m_dep\",\"m_dep\",\"m_dep\",\"m_dep\",\"m_dep\",\"m_dep\",\"m_dep\",\"m_dep\",\"m_dep\",\"m_dep\",\"m_dep\",\"m_dep\",\"m_dep\",\"m_dep\",\"m_dep\",\"m_dep\",\"m_dep\",\"m_dep\",\"m_dep\",\"m_dep\",\"m_dep\",\"m_dep\",\"m_dep\",\"m_dep\",\"m_dep\",\"m_dep\",\"m_dep\",\"m_dep\",\"m_dep\",\"m_dep\",\"m_dep\",\"m_dep\",\"m_dep\",\"m_dep\",\"m_dep\",\"m_dep\",\"m_dep\",\"m_dep\",\"m_dep\",\"m_dep\",\"m_dep\",\"m_dep\",\"m_dep\",\"m_dep\",\"m_dep\",\"m_dep\",\"m_dep\",\"m_dep\",\"m_dep\",\"m_dep\",\"m_dep\",\"m_dep\",\"m_dep\",\"m_dep\",\"m_dep\",\"m_dep\",\"m_dep\",\"m_dep\",\"m_dep\",\"m_dep\",\"m_dep\",\"m_dep\",\"m_dep\",\"m_dep\",\"m_dep\",\"m_dep\",\"m_dep\",\"m_dep\",\"m_dep\",\"m_dep\",\"m_dep\",\"m_dep\",\"m_dep\",\"m_dep\",\"m_dep\",\"m_dep\",\"m_dep\",\"m_dep\",\"m_dep\",\"m_dep\",\"m_dep\",\"m_dep\",\"m_dep\",\"m_dep\",\"m_dep\",\"m_dep\",\"m_dep\",\"m_dep\",\"m_dep\",\"m_dep\",\"m_dep\",\"m_dep\",\"m_dep\",\"m_dep\",\"m_dep\",\"m_dep\",\"m_dep\",\"m_dep\",\"m_dep\",\"m_dep\",\"m_dep\",\"m_dep\",\"m_dep\",\"m_dep\",\"m_dep\",\"m_dep\",\"m_dep\",\"m_dep\",\"m_dep\",\"m_dep\",\"m_dep\",\"m_dep\",\"m_dep\",\"m_dep\",\"m_dep\",\"m_dep\",\"m_dep\",\"m_dep\",\"m_dep\",\"m_dep\",\"m_dep\",\"m_dep\",\"m_dep\",\"m_dep\",\"m_dep\",\"m_dep\",\"m_dep\",\"m_dep\",\"m_dep\",\"m_dep\",\"m_dep\",\"m_dep\",\"m_dep\",\"m_dep\",\"m_dep\",\"m_dep\",\"m_dep\",\"m_dep\",\"m_dep\",\"m_dep\",\"m_dep\",\"m_dep\",\"m_dep\",\"m_dep\",\"m_dep\",\"m_dep\",\"m_dep\",\"m_dep\",\"m_dep\",\"m_dep\",\"m_dep\",\"m_dep\",\"m_dep\",\"m_dep\",\"m_dep\",\"m_dep\",\"m_dep\",\"m_dep\",\"m_dep\",\"m_dep\",\"m_dep\",\"m_dep\",\"m_dep\",\"m_dep\",\"m_dep\",\"m_dep\",\"m_dep\",\"m_dep\",\"m_dep\",\"m_dep\",\"m_dep\",\"m_dep\",\"m_dep\",\"m_dep\",\"m_dep\",\"m_dep\",\"m_dep\",\"m_dep\",\"m_dep\",\"m_dep\",\"m_dep\",\"m_dep\",\"m_dep\",\"m_dep\",\"m_dep\",\"m_dep\",\"m_dep\",\"m_dep\",\"m_dep\",\"m_dep\",\"m_dep\",\"m_dep\",\"m_dep\",\"m_dep\",\"m_dep\",\"m_dep\",\"m_dep\",\"m_dep\",\"m_dep\",\"m_dep\",\"m_dep\",\"m_dep\",\"m_dep\",\"m_dep\",\"m_dep\",\"m_dep\",\"m_dep\",\"m_dep\",\"m_dep\",\"m_dep\",\"m_dep\",\"m_dep\",\"m_dep\",\"m_dep\",\"m_dep\",\"m_dep\",\"m_dep\",\"m_dep\",\"m_dep\",\"m_dep\",\"m_dep\",\"m_dep\",\"m_dep\",\"m_dep\",\"m_dep\",\"m_dep\",\"m_dep\",\"m_dep\",\"m_dep\",\"m_dep\",\"m_dep\",\"m_dep\",\"m_dep\",\"m_dep\",\"m_dep\",\"m_dep\",\"m_dep\",\"m_dep\",\"m_dep\",\"m_dep\",\"m_dep\",\"m_dep\",\"m_dep\",\"m_dep\",\"m_dep\",\"m_dep\",\"m_dep\",\"m_dep\",\"m_dep\",\"m_dep\",\"m_dep\",\"m_dep\",\"m_dep\",\"m_dep\",\"m_dep\",\"m_dep\",\"m_dep\",\"m_dep\",\"m_dep\",\"m_dep\",\"m_dep\",\"m_dep\",\"m_dep\",\"m_dep\",\"m_dep\",\"m_dep\",\"m_dep\",\"m_dep\",\"m_dep\",\"m_dep\",\"m_dep\",\"m_dep\",\"m_dep\",\"m_dep\",\"m_dep\",\"m_dep\",\"m_dep\",\"m_dep\",\"m_dep\",\"m_dep\",\"m_dep\",\"m_dep\",\"m_dep\",\"m_dep\",\"m_dep\",\"m_dep\",\"m_dep\",\"m_dep\",\"m_dep\",\"m_dep\",\"m_dep\",\"m_dep\",\"m_dep\",\"m_dep\",\"m_dep\",\"m_dep\",\"m_dep\",\"m_dep\",\"m_dep\",\"m_dep\",\"m_dep\",\"m_dep\",\"m_dep\",\"m_dep\",\"m_dep\",\"m_dep\",\"m_dep\",\"m_dep\",\"m_dep\",\"m_dep\",\"m_dep\",\"m_dep\",\"m_dep\",\"m_dep\",\"m_dep\",\"m_dep\",\"m_dep\",\"m_dep\",\"m_dep\",\"m_dep\",\"m_dep\",\"m_dep\",\"m_dep\",\"m_dep\",\"m_dep\",\"m_dep\",\"m_dep\",\"m_dep\",\"m_dep\",\"m_dep\",\"m_dep\",\"m_dep\",\"m_dep\",\"m_dep\",\"m_dep\",\"m_dep\",\"m_dep\",\"m_dep\",\"m_dep\",\"m_dep\",\"m_dep\",\"m_dep\",\"m_dep\",\"m_dep\",\"m_dep\",\"m_dep\",\"m_dep\",\"m_dep\",\"m_dep\",\"m_dep\",\"m_dep\",\"m_dep\",\"m_dep\",\"m_dep\",\"m_dep\",\"m_dep\",\"m_dep\",\"m_dep\",\"m_dep\",\"m_dep\",\"m_dep\",\"m_dep\",\"m_dep\",\"m_dep\",\"m_dep\",\"m_dep\",\"m_dep\",\"m_dep\",\"m_dep\",\"m_dep\",\"m_dep\",\"m_dep\",\"m_dep\",\"m_dep\",\"m_dep\",\"m_dep\",\"m_dep\",\"m_dep\",\"m_dep\",\"m_dep\",\"m_dep\",\"m_dep\",\"m_dep\",\"m_dep\",\"m_dep\",\"m_dep\",\"m_dep\",\"m_dep\",\"m_dep\",\"m_dep\",\"m_dep\",\"m_dep\",\"m_dep\",\"m_dep\",\"m_dep\",\"m_dep\",\"m_dep\",\"m_dep\",\"m_dep\",\"m_dep\",\"m_dep\",\"m_dep\",\"m_dep\",\"m_dep\",\"m_dep\",\"m_dep\",\"m_dep\",\"m_dep\",\"m_dep\",\"m_dep\",\"m_dep\",\"m_dep\",\"m_dep\",\"m_dep\",\"m_dep\",\"m_dep\",\"m_dep\",\"m_dep\",\"m_dep\",\"m_dep\",\"m_dep\",\"m_dep\",\"m_dep\",\"m_dep\",\"m_dep\",\"m_dep\",\"m_dep\",\"m_dep\",\"m_dep\",\"m_dep\",\"m_dep\",\"m_dep\",\"m_dep\",\"m_dep\",\"m_dep\",\"m_dep\",\"m_dep\",\"m_dep\",\"m_dep\",\"m_dep\",\"m_dep\",\"m_dep\",\"m_dep\",\"m_dep\",\"m_dep\",\"m_dep\",\"m_dep\",\"m_dep\",\"m_dep\",\"m_dep\",\"m_dep\",\"m_dep\",\"m_dep\",\"m_dep\",\"m_dep\",\"m_dep\",\"m_dep\",\"m_dep\",\"m_dep\",\"m_dep\",\"m_dep\",\"m_dep\",\"m_dep\",\"m_dep\",\"m_dep\",\"m_dep\",\"m_dep\",\"m_dep\",\"m_dep\",\"m_dep\",\"m_dep\",\"m_dep\",\"m_dep\",\"m_dep\",\"m_dep\",\"m_dep\",\"m_dep\",\"m_dep\",\"m_dep\",\"m_dep\",\"m_dep\",\"m_dep\",\"m_dep\",\"m_dep\",\"m_dep\",\"m_dep\",\"m_dep\",\"m_dep\",\"m_dep\",\"m_dep\",\"m_dep\",\"m_dep\",\"m_dep\",\"m_dep\",\"m_dep\",\"m_dep\",\"m_dep\",\"m_dep\",\"m_dep\",\"m_dep\",\"m_dep\",\"m_dep\",\"m_dep\",\"m_dep\",\"m_dep\",\"m_dep\",\"m_dep\",\"m_dep\",\"m_dep\",\"m_dep\",\"m_dep\",\"m_dep\",\"m_dep\",\"m_dep\",\"m_dep\",\"m_dep\",\"m_dep\",\"m_dep\",\"m_dep\",\"m_dep\",\"m_dep\",\"m_dep\",\"m_dep\",\"m_dep\",\"m_dep\",\"m_dep\",\"m_dep\",\"m_dep\",\"m_dep\",\"m_dep\",\"m_dep\",\"m_dep\",\"m_dep\",\"m_dep\",\"m_dep\",\"m_dep\",\"m_dep\",\"m_dep\",\"m_dep\",\"m_dep\",\"m_dep\",\"m_dep\",\"m_dep\",\"m_dep\",\"m_dep\",\"m_dep\",\"m_dep\",\"m_dep\",\"m_dep\",\"m_dep\",\"m_dep\",\"m_dep\",\"m_dep\",\"m_dep\",\"m_dep\",\"m_dep\",\"m_dep\",\"m_dep\",\"m_dep\",\"m_dep\",\"m_dep\",\"m_dep\",\"m_dep\",\"m_dep\",\"m_dep\",\"m_dep\",\"m_dep\",\"m_dep\",\"m_dep\",\"m_dep\",\"m_dep\",\"m_dep\",\"m_dep\",\"m_dep\",\"m_dep\",\"m_dep\",\"m_dep\",\"m_dep\",\"m_dep\",\"m_dep\",\"m_dep\",\"m_dep\",\"m_dep\",\"m_dep\",\"m_dep\",\"m_dep\",\"m_dep\",\"m_dep\",\"m_dep\",\"m_dep\",\"m_dep\",\"m_dep\",\"m_dep\",\"m_dep\",\"m_dep\",\"m_dep\",\"m_dep\",\"m_dep\",\"m_dep\",\"m_dep\",\"m_dep\",\"m_dep\",\"m_dep\",\"m_dep\",\"m_dep\",\"m_dep\",\"m_dep\",\"m_dep\",\"m_dep\",\"m_dep\",\"m_dep\",\"m_dep\",\"m_dep\",\"m_dep\",\"m_dep\",\"m_dep\",\"m_dep\",\"m_dep\",\"m_dep\",\"m_dep\",\"m_dep\",\"m_dep\",\"m_dep\",\"m_dep\",\"m_dep\",\"m_dep\",\"m_dep\",\"m_dep\",\"m_dep\",\"m_dep\",\"m_dep\",\"m_dep\",\"m_dep\",\"m_dep\",\"m_dep\",\"m_dep\",\"m_dep\",\"m_dep\",\"m_dep\",\"m_dep\",\"m_dep\",\"m_dep\",\"m_dep\",\"m_dep\",\"m_dep\",\"m_dep\",\"m_dep\",\"m_dep\",\"m_dep\",\"m_dep\",\"m_dep\",\"m_dep\",\"m_dep\",\"m_dep\",\"m_dep\",\"m_dep\",\"m_dep\",\"m_dep\",\"m_dep\",\"m_dep\",\"m_dep\",\"m_dep\",\"m_dep\",\"m_dep\",\"m_dep\",\"m_dep\",\"m_dep\",\"m_dep\",\"m_dep\",\"m_dep\",\"m_dep\",\"m_dep\",\"m_dep\",\"m_dep\",\"m_dep\",\"m_dep\",\"m_dep\",\"m_dep\",\"m_dep\",\"m_dep\",\"m_dep\",\"m_dep\",\"m_dep\",\"m_dep\",\"m_dep\",\"m_dep\",\"m_dep\",\"m_dep\",\"m_dep\",\"m_dep\",\"m_dep\",\"m_dep\",\"m_dep\",\"m_dep\",\"m_dep\",\"m_dep\",\"m_dep\",\"m_dep\",\"m_dep\",\"m_dep\",\"m_dep\",\"m_dep\",\"m_dep\",\"m_dep\",\"m_dep\",\"m_dep\",\"m_dep\",\"m_dep\",\"m_dep\",\"m_dep\",\"m_dep\",\"m_dep\",\"m_dep\",\"m_dep\",\"m_dep\",\"m_dep\",\"m_dep\",\"m_dep\",\"m_dep\",\"m_dep\",\"m_dep\",\"m_dep\",\"m_dep\",\"m_dep\",\"m_dep\",\"m_dep\",\"m_dep\",\"m_dep\",\"m_dep\",\"m_dep\",\"m_dep\",\"m_dep\",\"m_dep\",\"m_dep\",\"m_dep\",\"m_dep\",\"m_dep\",\"m_dep\",\"m_dep\",\"m_dep\",\"m_dep\",\"m_dep\",\"m_dep\",\"m_dep\",\"m_dep\",\"m_dep\",\"m_dep\",\"m_dep\",\"m_dep\",\"m_dep\",\"m_dep\",\"m_dep\",\"m_dep\",\"m_dep\",\"m_dep\",\"m_dep\",\"m_dep\",\"m_dep\",\"m_dep\",\"m_dep\",\"m_dep\",\"m_dep\",\"m_dep\",\"m_dep\",\"m_dep\",\"m_dep\",\"m_dep\",\"m_dep\",\"m_dep\",\"m_dep\",\"m_dep\",\"m_dep\",\"m_dep\",\"m_dep\",\"m_dep\",\"m_dep\",\"m_dep\",\"m_dep\",\"m_dep\",\"m_dep\",\"m_dep\",\"m_dep\",\"m_dep\",\"m_dep\",\"m_dep\",\"m_dep\",\"m_dep\",\"m_dep\",\"m_dep\",\"m_dep\",\"m_dep\",\"m_dep\",\"m_dep\",\"m_dep\",\"m_dep\",\"m_dep\",\"m_dep\",\"m_dep\",\"m_dep\",\"m_dep\",\"m_dep\",\"m_dep\",\"m_dep\",\"m_dep\",\"m_dep\",\"m_dep\",\"m_dep\",\"m_dep\",\"m_dep\",\"m_dep\",\"m_dep\",\"m_dep\",\"m_dep\",\"m_dep\",\"m_dep\",\"m_dep\",\"m_dep\",\"m_dep\",\"m_dep\",\"m_dep\",\"m_dep\",\"m_dep\",\"m_dep\",\"m_dep\",\"m_dep\",\"m_dep\",\"m_dep\",\"m_dep\",\"m_dep\",\"m_dep\",\"m_dep\",\"m_dep\",\"m_dep\",\"m_dep\",\"m_dep\",\"m_dep\",\"m_dep\",\"m_dep\",\"m_dep\",\"m_dep\",\"m_dep\",\"m_dep\",\"m_dep\",\"m_dep\",\"m_dep\",\"m_dep\",\"m_dep\",\"m_dep\",\"m_dep\",\"m_dep\",\"m_dep\",\"m_dep\",\"m_dep\",\"m_dep\",\"m_dep\",\"m_dep\",\"m_dep\",\"m_dep\",\"m_dep\",\"m_dep\",\"m_dep\",\"m_dep\",\"m_dep\",\"m_dep\",\"m_dep\",\"m_dep\",\"m_dep\",\"m_dep\",\"m_dep\",\"m_dep\",\"m_dep\",\"m_dep\",\"m_dep\",\"m_dep\",\"m_dep\",\"m_dep\",\"m_dep\",\"m_dep\",\"m_dep\",\"m_dep\",\"m_dep\",\"m_dep\",\"m_dep\",\"m_dep\",\"m_dep\",\"m_dep\",\"m_dep\",\"m_dep\",\"m_dep\",\"m_dep\",\"m_dep\",\"m_dep\",\"m_dep\",\"m_dep\",\"m_dep\",\"m_dep\",\"m_dep\",\"m_dep\",\"m_dep\",\"m_dep\",\"m_dep\",\"m_dep\",\"m_dep\",\"m_dep\",\"m_dep\",\"m_dep\",\"m_dep\",\"m_dep\",\"m_dep\",\"m_dep\",\"m_dep\",\"m_dep\",\"m_dep\",\"m_dep\",\"m_dep\",\"m_dep\",\"m_dep\",\"m_dep\",\"m_dep\",\"m_dep\",\"m_dep\",\"m_dep\",\"m_dep\",\"m_dep\",\"m_dep\",\"m_dep\",\"m_dep\",\"m_dep\",\"m_dep\",\"m_dep\",\"m_dep\",\"m_dep\",\"m_dep\",\"m_dep\",\"m_dep\",\"m_dep\",\"m_dep\",\"m_dep\",\"m_dep\",\"m_dep\",\"m_dep\",\"m_dep\",\"m_dep\",\"m_dep\",\"m_dep\",\"m_dep\",\"m_dep\",\"m_dep\",\"m_dep\",\"m_dep\",\"m_dep\",\"m_dep\",\"m_dep\",\"m_dep\",\"m_dep\",\"m_dep\",\"m_dep\",\"m_dep\",\"m_dep\",\"m_dep\",\"m_dep\",\"m_dep\",\"m_dep\",\"m_dep\",\"m_dep\",\"m_dep\",\"m_dep\",\"m_dep\",\"m_dep\",\"m_dep\",\"m_dep\",\"m_dep\",\"m_dep\",\"m_dep\",\"m_dep\",\"m_dep\",\"m_dep\",\"m_dep\",\"m_dep\",\"m_dep\",\"m_dep\",\"m_dep\",\"m_dep\",\"m_dep\",\"m_dep\",\"m_dep\",\"m_dep\",\"m_dep\",\"m_dep\",\"m_dep\",\"m_dep\",\"m_dep\",\"m_dep\",\"m_dep\",\"m_dep\",\"m_dep\",\"m_dep\",\"m_dep\",\"m_dep\",\"m_dep\",\"m_dep\",\"m_dep\",\"m_dep\",\"m_dep\",\"m_dep\",\"m_dep\",\"m_dep\",\"m_dep\",\"m_dep\",\"m_dep\",\"m_dep\",\"m_dep\",\"m_dep\",\"m_dep\",\"m_dep\",\"m_dep\",\"m_dep\",\"m_dep\",\"m_dep\",\"m_dep\",\"m_dep\",\"m_dep\",\"m_dep\",\"m_dep\",\"m_dep\",\"m_dep\",\"m_dep\",\"m_dep\",\"m_dep\",\"m_dep\",\"m_dep\",\"m_dep\",\"m_dep\",\"m_dep\",\"m_dep\",\"m_dep\",\"m_dep\",\"m_dep\",\"m_dep\",\"m_dep\",\"m_dep\",\"m_dep\",\"m_dep\",\"m_dep\",\"m_dep\",\"m_dep\",\"m_dep\",\"m_dep\",\"m_dep\",\"m_dep\",\"m_dep\",\"m_dep\",\"m_dep\",\"m_dep\",\"m_dep\",\"m_dep\",\"m_dep\",\"m_dep\",\"m_dep\",\"m_dep\",\"m_dep\",\"m_dep\",\"m_dep\",\"m_dep\",\"m_dep\",\"m_dep\",\"m_dep\",\"m_dep\",\"m_dep\",\"m_dep\",\"m_dep\",\"m_dep\",\"m_dep\",\"m_dep\",\"m_dep\",\"m_dep\",\"m_dep\",\"m_dep\",\"m_dep\",\"m_dep\",\"m_dep\",\"m_dep\",\"m_dep\",\"m_dep\",\"m_dep\",\"m_dep\",\"m_dep\",\"m_dep\",\"m_dep\",\"m_dep\",\"m_dep\",\"m_dep\",\"m_dep\",\"m_dep\",\"m_dep\",\"m_dep\",\"m_dep\",\"m_dep\",\"m_dep\",\"m_dep\",\"m_dep\",\"m_dep\",\"n_cores\",\"n_cores\",\"n_cores\",\"n_cores\",\"n_cores\",\"n_cores\",\"n_cores\",\"n_cores\",\"n_cores\",\"n_cores\",\"n_cores\",\"n_cores\",\"n_cores\",\"n_cores\",\"n_cores\",\"n_cores\",\"n_cores\",\"n_cores\",\"n_cores\",\"n_cores\",\"n_cores\",\"n_cores\",\"n_cores\",\"n_cores\",\"n_cores\",\"n_cores\",\"n_cores\",\"n_cores\",\"n_cores\",\"n_cores\",\"n_cores\",\"n_cores\",\"n_cores\",\"n_cores\",\"n_cores\",\"n_cores\",\"n_cores\",\"n_cores\",\"n_cores\",\"n_cores\",\"n_cores\",\"n_cores\",\"n_cores\",\"n_cores\",\"n_cores\",\"n_cores\",\"n_cores\",\"n_cores\",\"n_cores\",\"n_cores\",\"n_cores\",\"n_cores\",\"n_cores\",\"n_cores\",\"n_cores\",\"n_cores\",\"n_cores\",\"n_cores\",\"n_cores\",\"n_cores\",\"n_cores\",\"n_cores\",\"n_cores\",\"n_cores\",\"n_cores\",\"n_cores\",\"n_cores\",\"n_cores\",\"n_cores\",\"n_cores\",\"n_cores\",\"n_cores\",\"n_cores\",\"n_cores\",\"n_cores\",\"n_cores\",\"n_cores\",\"n_cores\",\"n_cores\",\"n_cores\",\"n_cores\",\"n_cores\",\"n_cores\",\"n_cores\",\"n_cores\",\"n_cores\",\"n_cores\",\"n_cores\",\"n_cores\",\"n_cores\",\"n_cores\",\"n_cores\",\"n_cores\",\"n_cores\",\"n_cores\",\"n_cores\",\"n_cores\",\"n_cores\",\"n_cores\",\"n_cores\",\"n_cores\",\"n_cores\",\"n_cores\",\"n_cores\",\"n_cores\",\"n_cores\",\"n_cores\",\"n_cores\",\"n_cores\",\"n_cores\",\"n_cores\",\"n_cores\",\"n_cores\",\"n_cores\",\"n_cores\",\"n_cores\",\"n_cores\",\"n_cores\",\"n_cores\",\"n_cores\",\"n_cores\",\"n_cores\",\"n_cores\",\"n_cores\",\"n_cores\",\"n_cores\",\"n_cores\",\"n_cores\",\"n_cores\",\"n_cores\",\"n_cores\",\"n_cores\",\"n_cores\",\"n_cores\",\"n_cores\",\"n_cores\",\"n_cores\",\"n_cores\",\"n_cores\",\"n_cores\",\"n_cores\",\"n_cores\",\"n_cores\",\"n_cores\",\"n_cores\",\"n_cores\",\"n_cores\",\"n_cores\",\"n_cores\",\"n_cores\",\"n_cores\",\"n_cores\",\"n_cores\",\"n_cores\",\"n_cores\",\"n_cores\",\"n_cores\",\"n_cores\",\"n_cores\",\"n_cores\",\"n_cores\",\"n_cores\",\"n_cores\",\"n_cores\",\"n_cores\",\"n_cores\",\"n_cores\",\"n_cores\",\"n_cores\",\"n_cores\",\"n_cores\",\"n_cores\",\"n_cores\",\"n_cores\",\"n_cores\",\"n_cores\",\"n_cores\",\"n_cores\",\"n_cores\",\"n_cores\",\"n_cores\",\"n_cores\",\"n_cores\",\"n_cores\",\"n_cores\",\"n_cores\",\"n_cores\",\"n_cores\",\"n_cores\",\"n_cores\",\"n_cores\",\"n_cores\",\"n_cores\",\"n_cores\",\"n_cores\",\"n_cores\",\"n_cores\",\"n_cores\",\"n_cores\",\"n_cores\",\"n_cores\",\"n_cores\",\"n_cores\",\"n_cores\",\"n_cores\",\"n_cores\",\"n_cores\",\"n_cores\",\"n_cores\",\"n_cores\",\"n_cores\",\"n_cores\",\"n_cores\",\"n_cores\",\"n_cores\",\"n_cores\",\"n_cores\",\"n_cores\",\"n_cores\",\"n_cores\",\"n_cores\",\"n_cores\",\"n_cores\",\"n_cores\",\"n_cores\",\"n_cores\",\"n_cores\",\"n_cores\",\"n_cores\",\"n_cores\",\"n_cores\",\"n_cores\",\"n_cores\",\"n_cores\",\"n_cores\",\"n_cores\",\"n_cores\",\"n_cores\",\"n_cores\",\"n_cores\",\"n_cores\",\"n_cores\",\"n_cores\",\"n_cores\",\"n_cores\",\"n_cores\",\"n_cores\",\"n_cores\",\"n_cores\",\"n_cores\",\"n_cores\",\"n_cores\",\"n_cores\",\"n_cores\",\"n_cores\",\"n_cores\",\"n_cores\",\"n_cores\",\"n_cores\",\"n_cores\",\"n_cores\",\"n_cores\",\"n_cores\",\"n_cores\",\"n_cores\",\"n_cores\",\"n_cores\",\"n_cores\",\"n_cores\",\"n_cores\",\"n_cores\",\"n_cores\",\"n_cores\",\"n_cores\",\"n_cores\",\"n_cores\",\"n_cores\",\"n_cores\",\"n_cores\",\"n_cores\",\"n_cores\",\"n_cores\",\"n_cores\",\"n_cores\",\"n_cores\",\"n_cores\",\"n_cores\",\"n_cores\",\"n_cores\",\"n_cores\",\"n_cores\",\"n_cores\",\"n_cores\",\"n_cores\",\"n_cores\",\"n_cores\",\"n_cores\",\"n_cores\",\"n_cores\",\"n_cores\",\"n_cores\",\"n_cores\",\"n_cores\",\"n_cores\",\"n_cores\",\"n_cores\",\"n_cores\",\"n_cores\",\"n_cores\",\"n_cores\",\"n_cores\",\"n_cores\",\"n_cores\",\"n_cores\",\"n_cores\",\"n_cores\",\"n_cores\",\"n_cores\",\"n_cores\",\"n_cores\",\"n_cores\",\"n_cores\",\"n_cores\",\"n_cores\",\"n_cores\",\"n_cores\",\"n_cores\",\"n_cores\",\"n_cores\",\"n_cores\",\"n_cores\",\"n_cores\",\"n_cores\",\"n_cores\",\"n_cores\",\"n_cores\",\"n_cores\",\"n_cores\",\"n_cores\",\"n_cores\",\"n_cores\",\"n_cores\",\"n_cores\",\"n_cores\",\"n_cores\",\"n_cores\",\"n_cores\",\"n_cores\",\"n_cores\",\"n_cores\",\"n_cores\",\"n_cores\",\"n_cores\",\"n_cores\",\"n_cores\",\"n_cores\",\"n_cores\",\"n_cores\",\"n_cores\",\"n_cores\",\"n_cores\",\"n_cores\",\"n_cores\",\"n_cores\",\"n_cores\",\"n_cores\",\"n_cores\",\"n_cores\",\"n_cores\",\"n_cores\",\"n_cores\",\"n_cores\",\"n_cores\",\"n_cores\",\"n_cores\",\"n_cores\",\"n_cores\",\"n_cores\",\"n_cores\",\"n_cores\",\"n_cores\",\"n_cores\",\"n_cores\",\"n_cores\",\"n_cores\",\"n_cores\",\"n_cores\",\"n_cores\",\"n_cores\",\"n_cores\",\"n_cores\",\"n_cores\",\"n_cores\",\"n_cores\",\"n_cores\",\"n_cores\",\"n_cores\",\"n_cores\",\"n_cores\",\"n_cores\",\"n_cores\",\"n_cores\",\"n_cores\",\"n_cores\",\"n_cores\",\"n_cores\",\"n_cores\",\"n_cores\",\"n_cores\",\"n_cores\",\"n_cores\",\"n_cores\",\"n_cores\",\"n_cores\",\"n_cores\",\"n_cores\",\"n_cores\",\"n_cores\",\"n_cores\",\"n_cores\",\"n_cores\",\"n_cores\",\"n_cores\",\"n_cores\",\"n_cores\",\"n_cores\",\"n_cores\",\"n_cores\",\"n_cores\",\"n_cores\",\"n_cores\",\"n_cores\",\"n_cores\",\"n_cores\",\"n_cores\",\"n_cores\",\"n_cores\",\"n_cores\",\"n_cores\",\"n_cores\",\"n_cores\",\"n_cores\",\"n_cores\",\"n_cores\",\"n_cores\",\"n_cores\",\"n_cores\",\"n_cores\",\"n_cores\",\"n_cores\",\"n_cores\",\"n_cores\",\"n_cores\",\"n_cores\",\"n_cores\",\"n_cores\",\"n_cores\",\"n_cores\",\"n_cores\",\"n_cores\",\"n_cores\",\"n_cores\",\"n_cores\",\"n_cores\",\"n_cores\",\"n_cores\",\"n_cores\",\"n_cores\",\"n_cores\",\"n_cores\",\"n_cores\",\"n_cores\",\"n_cores\",\"n_cores\",\"n_cores\",\"n_cores\",\"n_cores\",\"n_cores\",\"n_cores\",\"n_cores\",\"n_cores\",\"n_cores\",\"n_cores\",\"n_cores\",\"n_cores\",\"n_cores\",\"n_cores\",\"n_cores\",\"n_cores\",\"n_cores\",\"n_cores\",\"n_cores\",\"n_cores\",\"n_cores\",\"n_cores\",\"n_cores\",\"n_cores\",\"n_cores\",\"n_cores\",\"n_cores\",\"n_cores\",\"n_cores\",\"n_cores\",\"n_cores\",\"n_cores\",\"n_cores\",\"n_cores\",\"n_cores\",\"n_cores\",\"n_cores\",\"n_cores\",\"n_cores\",\"n_cores\",\"n_cores\",\"n_cores\",\"n_cores\",\"n_cores\",\"n_cores\",\"n_cores\",\"n_cores\",\"n_cores\",\"n_cores\",\"n_cores\",\"n_cores\",\"n_cores\",\"n_cores\",\"n_cores\",\"n_cores\",\"n_cores\",\"n_cores\",\"n_cores\",\"n_cores\",\"n_cores\",\"n_cores\",\"n_cores\",\"n_cores\",\"n_cores\",\"n_cores\",\"n_cores\",\"n_cores\",\"n_cores\",\"n_cores\",\"n_cores\",\"n_cores\",\"n_cores\",\"n_cores\",\"n_cores\",\"n_cores\",\"n_cores\",\"n_cores\",\"n_cores\",\"n_cores\",\"n_cores\",\"n_cores\",\"n_cores\",\"n_cores\",\"n_cores\",\"n_cores\",\"n_cores\",\"n_cores\",\"n_cores\",\"n_cores\",\"n_cores\",\"n_cores\",\"n_cores\",\"n_cores\",\"n_cores\",\"n_cores\",\"n_cores\",\"n_cores\",\"n_cores\",\"n_cores\",\"n_cores\",\"n_cores\",\"n_cores\",\"n_cores\",\"n_cores\",\"n_cores\",\"n_cores\",\"n_cores\",\"n_cores\",\"n_cores\",\"n_cores\",\"n_cores\",\"n_cores\",\"n_cores\",\"n_cores\",\"n_cores\",\"n_cores\",\"n_cores\",\"n_cores\",\"n_cores\",\"n_cores\",\"n_cores\",\"n_cores\",\"n_cores\",\"n_cores\",\"n_cores\",\"n_cores\",\"n_cores\",\"n_cores\",\"n_cores\",\"n_cores\",\"n_cores\",\"n_cores\",\"n_cores\",\"n_cores\",\"n_cores\",\"n_cores\",\"n_cores\",\"n_cores\",\"n_cores\",\"n_cores\",\"n_cores\",\"n_cores\",\"n_cores\",\"n_cores\",\"n_cores\",\"n_cores\",\"n_cores\",\"n_cores\",\"n_cores\",\"n_cores\",\"n_cores\",\"n_cores\",\"n_cores\",\"n_cores\",\"n_cores\",\"n_cores\",\"n_cores\",\"n_cores\",\"n_cores\",\"n_cores\",\"n_cores\",\"n_cores\",\"n_cores\",\"n_cores\",\"n_cores\",\"n_cores\",\"n_cores\",\"n_cores\",\"n_cores\",\"n_cores\",\"n_cores\",\"n_cores\",\"n_cores\",\"n_cores\",\"n_cores\",\"n_cores\",\"n_cores\",\"n_cores\",\"n_cores\",\"n_cores\",\"n_cores\",\"n_cores\",\"n_cores\",\"n_cores\",\"n_cores\",\"n_cores\",\"n_cores\",\"n_cores\",\"n_cores\",\"n_cores\",\"n_cores\",\"n_cores\",\"n_cores\",\"n_cores\",\"n_cores\",\"n_cores\",\"n_cores\",\"n_cores\",\"n_cores\",\"n_cores\",\"n_cores\",\"n_cores\",\"n_cores\",\"n_cores\",\"n_cores\",\"n_cores\",\"n_cores\",\"n_cores\",\"n_cores\",\"n_cores\",\"n_cores\",\"n_cores\",\"n_cores\",\"n_cores\",\"n_cores\",\"n_cores\",\"n_cores\",\"n_cores\",\"n_cores\",\"n_cores\",\"n_cores\",\"n_cores\",\"n_cores\",\"n_cores\",\"n_cores\",\"n_cores\",\"n_cores\",\"n_cores\",\"n_cores\",\"n_cores\",\"n_cores\",\"n_cores\",\"n_cores\",\"n_cores\",\"n_cores\",\"n_cores\",\"n_cores\",\"n_cores\",\"n_cores\",\"n_cores\",\"n_cores\",\"n_cores\",\"n_cores\",\"n_cores\",\"n_cores\",\"n_cores\",\"n_cores\",\"n_cores\",\"n_cores\",\"n_cores\",\"n_cores\",\"n_cores\",\"n_cores\",\"n_cores\",\"n_cores\",\"n_cores\",\"n_cores\",\"n_cores\",\"n_cores\",\"n_cores\",\"n_cores\",\"n_cores\",\"n_cores\",\"n_cores\",\"n_cores\",\"n_cores\",\"n_cores\",\"n_cores\",\"n_cores\",\"n_cores\",\"n_cores\",\"n_cores\",\"n_cores\",\"n_cores\",\"n_cores\",\"n_cores\",\"n_cores\",\"n_cores\",\"n_cores\",\"n_cores\",\"n_cores\",\"n_cores\",\"n_cores\",\"n_cores\",\"n_cores\",\"n_cores\",\"n_cores\",\"n_cores\",\"n_cores\",\"n_cores\",\"n_cores\",\"n_cores\",\"n_cores\",\"n_cores\",\"n_cores\",\"n_cores\",\"n_cores\",\"n_cores\",\"n_cores\",\"n_cores\",\"n_cores\",\"n_cores\",\"n_cores\",\"n_cores\",\"n_cores\",\"n_cores\",\"n_cores\",\"n_cores\",\"n_cores\",\"n_cores\",\"n_cores\",\"n_cores\",\"n_cores\",\"n_cores\",\"n_cores\",\"n_cores\",\"n_cores\",\"n_cores\",\"n_cores\",\"n_cores\",\"n_cores\",\"n_cores\",\"n_cores\",\"n_cores\",\"n_cores\",\"n_cores\",\"n_cores\",\"n_cores\",\"n_cores\",\"n_cores\",\"n_cores\",\"n_cores\",\"n_cores\",\"n_cores\",\"n_cores\",\"n_cores\",\"n_cores\",\"n_cores\",\"n_cores\",\"n_cores\",\"n_cores\",\"n_cores\",\"n_cores\",\"n_cores\",\"n_cores\",\"n_cores\",\"n_cores\",\"n_cores\",\"n_cores\",\"n_cores\",\"n_cores\",\"n_cores\",\"n_cores\",\"n_cores\",\"n_cores\",\"n_cores\",\"n_cores\",\"n_cores\",\"n_cores\",\"n_cores\",\"n_cores\",\"n_cores\",\"n_cores\",\"n_cores\",\"n_cores\",\"n_cores\",\"n_cores\",\"n_cores\",\"n_cores\",\"n_cores\",\"n_cores\",\"n_cores\",\"n_cores\",\"n_cores\",\"n_cores\",\"n_cores\",\"n_cores\",\"n_cores\",\"n_cores\",\"n_cores\",\"n_cores\",\"n_cores\",\"n_cores\",\"n_cores\",\"n_cores\",\"n_cores\",\"n_cores\",\"n_cores\",\"n_cores\",\"n_cores\",\"n_cores\",\"n_cores\",\"n_cores\",\"n_cores\",\"n_cores\",\"n_cores\",\"n_cores\",\"n_cores\",\"n_cores\",\"n_cores\",\"n_cores\",\"n_cores\",\"n_cores\",\"n_cores\",\"n_cores\",\"n_cores\",\"n_cores\",\"n_cores\",\"n_cores\",\"n_cores\",\"n_cores\",\"n_cores\",\"n_cores\",\"n_cores\",\"n_cores\",\"n_cores\",\"n_cores\",\"n_cores\",\"n_cores\",\"n_cores\",\"n_cores\",\"n_cores\",\"n_cores\",\"n_cores\",\"n_cores\",\"n_cores\",\"n_cores\",\"n_cores\",\"n_cores\",\"n_cores\",\"n_cores\",\"n_cores\",\"n_cores\",\"n_cores\",\"n_cores\",\"n_cores\",\"n_cores\",\"n_cores\",\"n_cores\",\"n_cores\",\"n_cores\",\"n_cores\",\"n_cores\",\"n_cores\",\"n_cores\",\"n_cores\",\"n_cores\",\"n_cores\",\"n_cores\",\"n_cores\",\"n_cores\",\"n_cores\",\"n_cores\",\"n_cores\",\"n_cores\",\"n_cores\",\"n_cores\",\"n_cores\",\"n_cores\",\"n_cores\",\"n_cores\",\"n_cores\",\"n_cores\",\"n_cores\",\"n_cores\",\"n_cores\",\"n_cores\",\"n_cores\",\"n_cores\",\"n_cores\",\"n_cores\",\"n_cores\",\"n_cores\",\"n_cores\",\"n_cores\",\"n_cores\",\"n_cores\",\"n_cores\",\"n_cores\",\"n_cores\",\"n_cores\",\"n_cores\",\"n_cores\",\"n_cores\",\"n_cores\",\"n_cores\",\"n_cores\",\"n_cores\",\"n_cores\",\"n_cores\",\"n_cores\",\"n_cores\",\"n_cores\",\"n_cores\",\"n_cores\",\"n_cores\",\"n_cores\",\"n_cores\",\"n_cores\",\"n_cores\",\"n_cores\",\"n_cores\",\"n_cores\",\"n_cores\",\"n_cores\",\"n_cores\",\"n_cores\",\"n_cores\",\"n_cores\",\"n_cores\",\"n_cores\",\"n_cores\",\"n_cores\",\"n_cores\",\"n_cores\",\"n_cores\",\"n_cores\",\"n_cores\",\"n_cores\",\"n_cores\",\"n_cores\",\"n_cores\",\"n_cores\",\"n_cores\",\"n_cores\",\"n_cores\",\"n_cores\",\"n_cores\",\"n_cores\",\"n_cores\",\"n_cores\",\"n_cores\",\"n_cores\",\"n_cores\",\"n_cores\",\"n_cores\",\"n_cores\",\"n_cores\",\"n_cores\",\"n_cores\",\"n_cores\",\"n_cores\",\"n_cores\",\"n_cores\",\"n_cores\",\"n_cores\",\"n_cores\",\"n_cores\",\"n_cores\",\"n_cores\",\"n_cores\",\"n_cores\",\"n_cores\",\"n_cores\",\"n_cores\",\"n_cores\",\"n_cores\",\"n_cores\",\"n_cores\",\"n_cores\",\"n_cores\",\"n_cores\",\"n_cores\",\"n_cores\",\"n_cores\",\"n_cores\",\"n_cores\",\"n_cores\",\"n_cores\",\"n_cores\",\"n_cores\",\"n_cores\",\"n_cores\",\"n_cores\",\"n_cores\",\"n_cores\",\"n_cores\",\"n_cores\",\"n_cores\",\"n_cores\",\"n_cores\",\"n_cores\",\"n_cores\",\"n_cores\",\"n_cores\",\"n_cores\",\"n_cores\",\"n_cores\",\"n_cores\",\"n_cores\",\"n_cores\",\"n_cores\",\"n_cores\",\"n_cores\",\"n_cores\",\"n_cores\",\"n_cores\",\"n_cores\",\"n_cores\",\"n_cores\",\"n_cores\",\"n_cores\",\"n_cores\",\"n_cores\",\"n_cores\",\"n_cores\",\"n_cores\",\"n_cores\",\"n_cores\",\"n_cores\",\"n_cores\",\"n_cores\",\"n_cores\",\"n_cores\",\"n_cores\",\"n_cores\",\"n_cores\",\"n_cores\",\"n_cores\",\"n_cores\",\"n_cores\",\"n_cores\",\"n_cores\",\"n_cores\",\"n_cores\",\"n_cores\",\"n_cores\",\"n_cores\",\"n_cores\",\"n_cores\",\"n_cores\",\"n_cores\",\"n_cores\",\"n_cores\",\"n_cores\",\"n_cores\",\"n_cores\",\"n_cores\",\"n_cores\",\"n_cores\",\"n_cores\",\"n_cores\",\"n_cores\",\"n_cores\",\"n_cores\",\"n_cores\",\"n_cores\",\"n_cores\",\"n_cores\",\"n_cores\",\"n_cores\",\"n_cores\",\"n_cores\",\"n_cores\",\"n_cores\",\"n_cores\",\"n_cores\",\"n_cores\",\"n_cores\",\"n_cores\",\"n_cores\",\"n_cores\",\"n_cores\",\"n_cores\",\"n_cores\",\"n_cores\",\"n_cores\",\"n_cores\",\"n_cores\",\"n_cores\",\"n_cores\",\"n_cores\",\"n_cores\",\"n_cores\",\"n_cores\",\"n_cores\",\"n_cores\",\"n_cores\",\"n_cores\",\"n_cores\",\"n_cores\",\"n_cores\",\"n_cores\",\"n_cores\",\"n_cores\",\"n_cores\",\"n_cores\",\"n_cores\",\"n_cores\",\"n_cores\",\"n_cores\",\"n_cores\",\"n_cores\",\"n_cores\",\"n_cores\",\"n_cores\",\"n_cores\",\"n_cores\",\"n_cores\",\"n_cores\",\"n_cores\",\"n_cores\",\"n_cores\",\"n_cores\",\"n_cores\",\"n_cores\",\"n_cores\",\"n_cores\",\"n_cores\",\"n_cores\",\"n_cores\",\"n_cores\",\"n_cores\",\"n_cores\",\"n_cores\",\"n_cores\",\"n_cores\",\"n_cores\",\"n_cores\",\"n_cores\",\"n_cores\",\"n_cores\",\"n_cores\",\"n_cores\",\"n_cores\",\"n_cores\",\"n_cores\",\"n_cores\",\"n_cores\",\"n_cores\",\"n_cores\",\"n_cores\",\"n_cores\",\"n_cores\",\"n_cores\",\"n_cores\",\"n_cores\",\"n_cores\",\"n_cores\",\"n_cores\",\"n_cores\",\"n_cores\",\"n_cores\",\"n_cores\",\"n_cores\",\"n_cores\",\"n_cores\",\"n_cores\",\"n_cores\",\"n_cores\",\"n_cores\",\"n_cores\",\"n_cores\",\"n_cores\",\"n_cores\",\"n_cores\",\"n_cores\",\"n_cores\",\"n_cores\",\"n_cores\",\"n_cores\",\"n_cores\",\"n_cores\",\"n_cores\",\"n_cores\",\"n_cores\",\"n_cores\",\"n_cores\",\"n_cores\",\"n_cores\",\"n_cores\",\"n_cores\",\"n_cores\",\"n_cores\",\"n_cores\",\"n_cores\",\"n_cores\",\"n_cores\",\"n_cores\",\"n_cores\",\"n_cores\",\"n_cores\",\"n_cores\",\"n_cores\",\"n_cores\",\"n_cores\",\"n_cores\",\"n_cores\",\"n_cores\",\"n_cores\",\"n_cores\",\"n_cores\",\"n_cores\",\"n_cores\",\"n_cores\",\"n_cores\",\"n_cores\",\"n_cores\",\"n_cores\",\"n_cores\",\"n_cores\",\"n_cores\",\"n_cores\",\"n_cores\",\"n_cores\",\"n_cores\",\"n_cores\",\"n_cores\",\"n_cores\",\"n_cores\",\"n_cores\",\"n_cores\",\"n_cores\",\"n_cores\",\"n_cores\",\"n_cores\",\"n_cores\",\"n_cores\",\"n_cores\",\"n_cores\",\"n_cores\",\"n_cores\",\"n_cores\",\"n_cores\",\"n_cores\",\"n_cores\",\"n_cores\",\"n_cores\",\"n_cores\",\"n_cores\",\"n_cores\",\"n_cores\",\"n_cores\",\"n_cores\",\"n_cores\",\"n_cores\",\"n_cores\",\"n_cores\",\"n_cores\",\"n_cores\",\"n_cores\",\"n_cores\",\"n_cores\",\"n_cores\",\"n_cores\",\"n_cores\",\"n_cores\",\"n_cores\",\"n_cores\",\"n_cores\",\"n_cores\",\"n_cores\",\"n_cores\",\"n_cores\",\"n_cores\",\"n_cores\",\"n_cores\",\"n_cores\",\"n_cores\",\"n_cores\",\"n_cores\",\"n_cores\",\"n_cores\",\"n_cores\",\"n_cores\",\"n_cores\",\"n_cores\",\"n_cores\",\"n_cores\",\"n_cores\",\"n_cores\",\"n_cores\",\"n_cores\",\"n_cores\",\"n_cores\",\"n_cores\",\"n_cores\",\"n_cores\",\"n_cores\",\"n_cores\",\"n_cores\",\"n_cores\",\"n_cores\",\"n_cores\",\"n_cores\",\"n_cores\",\"n_cores\",\"n_cores\",\"n_cores\",\"n_cores\",\"n_cores\",\"n_cores\",\"n_cores\",\"n_cores\",\"n_cores\",\"n_cores\",\"n_cores\",\"n_cores\",\"n_cores\",\"n_cores\",\"n_cores\",\"n_cores\",\"n_cores\",\"n_cores\",\"n_cores\",\"n_cores\",\"n_cores\",\"n_cores\",\"n_cores\",\"n_cores\",\"n_cores\",\"n_cores\",\"n_cores\",\"n_cores\",\"n_cores\",\"n_cores\",\"n_cores\",\"n_cores\",\"n_cores\",\"n_cores\",\"n_cores\",\"n_cores\",\"n_cores\",\"n_cores\",\"n_cores\",\"n_cores\",\"n_cores\",\"n_cores\",\"n_cores\",\"n_cores\",\"n_cores\",\"n_cores\",\"n_cores\",\"n_cores\",\"n_cores\",\"n_cores\",\"n_cores\",\"n_cores\",\"n_cores\",\"n_cores\",\"n_cores\",\"n_cores\",\"n_cores\",\"n_cores\",\"n_cores\",\"n_cores\",\"n_cores\",\"n_cores\",\"n_cores\",\"n_cores\",\"n_cores\",\"n_cores\",\"n_cores\",\"n_cores\",\"n_cores\",\"n_cores\",\"n_cores\",\"n_cores\",\"n_cores\",\"n_cores\",\"n_cores\",\"n_cores\",\"n_cores\",\"n_cores\",\"n_cores\",\"n_cores\",\"n_cores\",\"n_cores\",\"n_cores\",\"n_cores\",\"n_cores\",\"n_cores\",\"n_cores\",\"n_cores\",\"n_cores\",\"n_cores\",\"n_cores\",\"n_cores\",\"n_cores\",\"n_cores\",\"n_cores\",\"n_cores\",\"n_cores\",\"n_cores\",\"n_cores\",\"n_cores\",\"n_cores\",\"n_cores\",\"n_cores\",\"n_cores\",\"n_cores\",\"n_cores\",\"n_cores\",\"n_cores\",\"n_cores\",\"n_cores\",\"n_cores\",\"n_cores\",\"n_cores\",\"n_cores\",\"n_cores\",\"n_cores\",\"n_cores\",\"n_cores\",\"n_cores\",\"n_cores\",\"n_cores\",\"n_cores\",\"n_cores\",\"n_cores\",\"n_cores\",\"n_cores\",\"n_cores\",\"n_cores\",\"n_cores\",\"n_cores\",\"n_cores\",\"n_cores\",\"n_cores\",\"n_cores\",\"n_cores\",\"n_cores\",\"n_cores\",\"n_cores\",\"n_cores\",\"n_cores\",\"n_cores\",\"n_cores\",\"n_cores\",\"n_cores\",\"n_cores\",\"n_cores\",\"n_cores\",\"n_cores\",\"n_cores\",\"n_cores\",\"n_cores\",\"n_cores\",\"n_cores\",\"n_cores\",\"n_cores\",\"n_cores\",\"n_cores\",\"n_cores\",\"n_cores\",\"n_cores\",\"n_cores\",\"n_cores\",\"n_cores\",\"n_cores\",\"n_cores\",\"n_cores\",\"n_cores\",\"n_cores\",\"n_cores\",\"n_cores\",\"n_cores\",\"n_cores\",\"n_cores\",\"n_cores\",\"n_cores\",\"n_cores\",\"n_cores\",\"n_cores\",\"n_cores\",\"n_cores\",\"n_cores\",\"n_cores\",\"n_cores\",\"n_cores\",\"n_cores\",\"n_cores\",\"n_cores\",\"n_cores\",\"n_cores\",\"n_cores\",\"n_cores\",\"n_cores\",\"n_cores\",\"n_cores\",\"n_cores\",\"n_cores\",\"n_cores\",\"n_cores\",\"n_cores\",\"n_cores\",\"n_cores\",\"n_cores\",\"n_cores\",\"n_cores\",\"n_cores\",\"n_cores\",\"n_cores\",\"n_cores\",\"n_cores\",\"n_cores\",\"n_cores\",\"n_cores\",\"n_cores\",\"n_cores\",\"n_cores\",\"n_cores\",\"n_cores\",\"n_cores\",\"n_cores\",\"n_cores\",\"n_cores\",\"n_cores\",\"n_cores\",\"n_cores\",\"n_cores\",\"n_cores\",\"n_cores\",\"n_cores\",\"n_cores\",\"n_cores\",\"n_cores\",\"n_cores\",\"n_cores\",\"n_cores\",\"n_cores\",\"n_cores\",\"n_cores\",\"n_cores\",\"n_cores\",\"n_cores\",\"n_cores\",\"n_cores\",\"n_cores\",\"n_cores\",\"n_cores\",\"n_cores\",\"n_cores\",\"n_cores\",\"n_cores\",\"n_cores\",\"n_cores\",\"n_cores\",\"n_cores\",\"n_cores\",\"n_cores\",\"n_cores\",\"n_cores\",\"n_cores\",\"n_cores\",\"n_cores\",\"n_cores\",\"n_cores\",\"n_cores\",\"n_cores\",\"n_cores\",\"n_cores\",\"n_cores\",\"n_cores\",\"n_cores\",\"n_cores\",\"n_cores\",\"n_cores\",\"n_cores\",\"n_cores\",\"n_cores\",\"n_cores\",\"n_cores\",\"n_cores\",\"n_cores\",\"n_cores\",\"n_cores\",\"n_cores\",\"n_cores\",\"n_cores\",\"n_cores\",\"n_cores\",\"n_cores\",\"n_cores\",\"n_cores\",\"n_cores\",\"n_cores\",\"n_cores\",\"n_cores\",\"n_cores\",\"n_cores\",\"n_cores\",\"n_cores\",\"n_cores\",\"n_cores\",\"n_cores\",\"n_cores\",\"n_cores\",\"n_cores\",\"n_cores\",\"n_cores\",\"n_cores\",\"n_cores\",\"n_cores\",\"n_cores\",\"n_cores\",\"n_cores\",\"n_cores\",\"n_cores\",\"n_cores\",\"n_cores\",\"n_cores\",\"n_cores\",\"n_cores\",\"n_cores\",\"n_cores\",\"n_cores\",\"n_cores\",\"n_cores\",\"n_cores\",\"n_cores\",\"n_cores\",\"n_cores\",\"n_cores\",\"n_cores\",\"n_cores\",\"n_cores\",\"n_cores\",\"n_cores\",\"n_cores\",\"n_cores\",\"n_cores\",\"n_cores\",\"n_cores\",\"n_cores\",\"n_cores\",\"n_cores\",\"n_cores\",\"n_cores\",\"n_cores\",\"n_cores\",\"n_cores\",\"n_cores\",\"n_cores\",\"n_cores\",\"n_cores\",\"n_cores\",\"n_cores\",\"n_cores\",\"n_cores\",\"n_cores\",\"n_cores\",\"n_cores\",\"n_cores\",\"n_cores\",\"n_cores\",\"n_cores\",\"n_cores\",\"n_cores\",\"n_cores\",\"n_cores\",\"n_cores\",\"n_cores\",\"n_cores\",\"n_cores\",\"n_cores\",\"n_cores\",\"n_cores\",\"n_cores\",\"n_cores\",\"n_cores\",\"n_cores\",\"n_cores\",\"n_cores\",\"n_cores\",\"n_cores\",\"n_cores\",\"n_cores\",\"n_cores\",\"n_cores\",\"n_cores\",\"n_cores\",\"n_cores\",\"n_cores\",\"n_cores\",\"n_cores\",\"n_cores\",\"n_cores\",\"n_cores\",\"n_cores\",\"n_cores\",\"n_cores\",\"n_cores\",\"n_cores\",\"n_cores\",\"n_cores\",\"n_cores\",\"n_cores\",\"n_cores\",\"n_cores\",\"n_cores\",\"n_cores\",\"n_cores\",\"n_cores\",\"n_cores\",\"n_cores\",\"n_cores\",\"n_cores\",\"n_cores\",\"n_cores\",\"n_cores\",\"n_cores\",\"n_cores\",\"n_cores\",\"n_cores\",\"n_cores\",\"n_cores\",\"n_cores\",\"n_cores\",\"n_cores\",\"n_cores\",\"n_cores\",\"n_cores\",\"n_cores\",\"n_cores\",\"n_cores\",\"n_cores\",\"n_cores\",\"n_cores\",\"n_cores\",\"n_cores\",\"n_cores\",\"n_cores\",\"n_cores\",\"n_cores\",\"n_cores\",\"n_cores\",\"n_cores\",\"n_cores\",\"n_cores\",\"n_cores\",\"n_cores\",\"n_cores\",\"n_cores\",\"n_cores\",\"n_cores\",\"n_cores\",\"n_cores\",\"n_cores\",\"n_cores\",\"n_cores\",\"n_cores\",\"n_cores\",\"n_cores\",\"n_cores\",\"n_cores\",\"n_cores\",\"n_cores\",\"n_cores\",\"n_cores\",\"n_cores\",\"n_cores\",\"n_cores\",\"n_cores\",\"n_cores\",\"n_cores\",\"n_cores\",\"n_cores\",\"n_cores\",\"n_cores\",\"n_cores\",\"n_cores\",\"n_cores\",\"n_cores\",\"n_cores\",\"n_cores\",\"n_cores\",\"n_cores\",\"n_cores\",\"n_cores\",\"n_cores\",\"n_cores\",\"n_cores\",\"n_cores\",\"n_cores\",\"n_cores\",\"n_cores\",\"n_cores\",\"n_cores\",\"n_cores\",\"n_cores\",\"n_cores\",\"n_cores\",\"n_cores\",\"n_cores\",\"n_cores\",\"n_cores\",\"n_cores\",\"n_cores\",\"n_cores\",\"n_cores\",\"n_cores\",\"n_cores\",\"n_cores\",\"n_cores\",\"n_cores\",\"n_cores\",\"n_cores\",\"n_cores\",\"n_cores\",\"n_cores\",\"n_cores\",\"n_cores\",\"n_cores\",\"n_cores\",\"n_cores\",\"n_cores\",\"n_cores\",\"n_cores\",\"n_cores\",\"n_cores\",\"n_cores\",\"n_cores\",\"n_cores\",\"n_cores\",\"n_cores\",\"n_cores\",\"n_cores\",\"n_cores\",\"n_cores\",\"n_cores\",\"n_cores\",\"n_cores\",\"n_cores\",\"n_cores\",\"n_cores\",\"n_cores\",\"n_cores\",\"n_cores\",\"n_cores\",\"n_cores\",\"n_cores\",\"n_cores\",\"n_cores\",\"n_cores\",\"n_cores\",\"n_cores\",\"n_cores\",\"n_cores\",\"n_cores\",\"n_cores\",\"n_cores\",\"n_cores\",\"n_cores\",\"n_cores\",\"n_cores\",\"n_cores\",\"n_cores\",\"n_cores\",\"n_cores\",\"n_cores\",\"n_cores\",\"n_cores\",\"n_cores\",\"n_cores\",\"n_cores\",\"n_cores\",\"n_cores\",\"n_cores\",\"n_cores\",\"n_cores\",\"n_cores\",\"n_cores\",\"n_cores\",\"n_cores\",\"n_cores\",\"n_cores\",\"n_cores\",\"n_cores\",\"n_cores\",\"n_cores\",\"n_cores\",\"n_cores\",\"n_cores\",\"n_cores\",\"n_cores\",\"n_cores\",\"n_cores\",\"n_cores\",\"n_cores\",\"n_cores\",\"n_cores\",\"n_cores\",\"n_cores\",\"n_cores\",\"n_cores\",\"n_cores\",\"n_cores\",\"n_cores\",\"n_cores\",\"n_cores\",\"n_cores\",\"n_cores\",\"n_cores\",\"n_cores\",\"n_cores\",\"n_cores\",\"n_cores\",\"n_cores\",\"n_cores\",\"n_cores\",\"n_cores\",\"n_cores\",\"n_cores\",\"n_cores\",\"n_cores\",\"n_cores\",\"n_cores\",\"n_cores\",\"n_cores\",\"n_cores\",\"n_cores\",\"n_cores\",\"n_cores\",\"n_cores\",\"n_cores\",\"n_cores\",\"n_cores\",\"n_cores\",\"n_cores\",\"n_cores\",\"n_cores\",\"n_cores\",\"n_cores\",\"n_cores\",\"n_cores\",\"n_cores\",\"pc\",\"pc\",\"pc\",\"pc\",\"pc\",\"pc\",\"pc\",\"pc\",\"pc\",\"pc\",\"pc\",\"pc\",\"pc\",\"pc\",\"pc\",\"pc\",\"pc\",\"pc\",\"pc\",\"pc\",\"pc\",\"pc\",\"pc\",\"pc\",\"pc\",\"pc\",\"pc\",\"pc\",\"pc\",\"pc\",\"pc\",\"pc\",\"pc\",\"pc\",\"pc\",\"pc\",\"pc\",\"pc\",\"pc\",\"pc\",\"pc\",\"pc\",\"pc\",\"pc\",\"pc\",\"pc\",\"pc\",\"pc\",\"pc\",\"pc\",\"pc\",\"pc\",\"pc\",\"pc\",\"pc\",\"pc\",\"pc\",\"pc\",\"pc\",\"pc\",\"pc\",\"pc\",\"pc\",\"pc\",\"pc\",\"pc\",\"pc\",\"pc\",\"pc\",\"pc\",\"pc\",\"pc\",\"pc\",\"pc\",\"pc\",\"pc\",\"pc\",\"pc\",\"pc\",\"pc\",\"pc\",\"pc\",\"pc\",\"pc\",\"pc\",\"pc\",\"pc\",\"pc\",\"pc\",\"pc\",\"pc\",\"pc\",\"pc\",\"pc\",\"pc\",\"pc\",\"pc\",\"pc\",\"pc\",\"pc\",\"pc\",\"pc\",\"pc\",\"pc\",\"pc\",\"pc\",\"pc\",\"pc\",\"pc\",\"pc\",\"pc\",\"pc\",\"pc\",\"pc\",\"pc\",\"pc\",\"pc\",\"pc\",\"pc\",\"pc\",\"pc\",\"pc\",\"pc\",\"pc\",\"pc\",\"pc\",\"pc\",\"pc\",\"pc\",\"pc\",\"pc\",\"pc\",\"pc\",\"pc\",\"pc\",\"pc\",\"pc\",\"pc\",\"pc\",\"pc\",\"pc\",\"pc\",\"pc\",\"pc\",\"pc\",\"pc\",\"pc\",\"pc\",\"pc\",\"pc\",\"pc\",\"pc\",\"pc\",\"pc\",\"pc\",\"pc\",\"pc\",\"pc\",\"pc\",\"pc\",\"pc\",\"pc\",\"pc\",\"pc\",\"pc\",\"pc\",\"pc\",\"pc\",\"pc\",\"pc\",\"pc\",\"pc\",\"pc\",\"pc\",\"pc\",\"pc\",\"pc\",\"pc\",\"pc\",\"pc\",\"pc\",\"pc\",\"pc\",\"pc\",\"pc\",\"pc\",\"pc\",\"pc\",\"pc\",\"pc\",\"pc\",\"pc\",\"pc\",\"pc\",\"pc\",\"pc\",\"pc\",\"pc\",\"pc\",\"pc\",\"pc\",\"pc\",\"pc\",\"pc\",\"pc\",\"pc\",\"pc\",\"pc\",\"pc\",\"pc\",\"pc\",\"pc\",\"pc\",\"pc\",\"pc\",\"pc\",\"pc\",\"pc\",\"pc\",\"pc\",\"pc\",\"pc\",\"pc\",\"pc\",\"pc\",\"pc\",\"pc\",\"pc\",\"pc\",\"pc\",\"pc\",\"pc\",\"pc\",\"pc\",\"pc\",\"pc\",\"pc\",\"pc\",\"pc\",\"pc\",\"pc\",\"pc\",\"pc\",\"pc\",\"pc\",\"pc\",\"pc\",\"pc\",\"pc\",\"pc\",\"pc\",\"pc\",\"pc\",\"pc\",\"pc\",\"pc\",\"pc\",\"pc\",\"pc\",\"pc\",\"pc\",\"pc\",\"pc\",\"pc\",\"pc\",\"pc\",\"pc\",\"pc\",\"pc\",\"pc\",\"pc\",\"pc\",\"pc\",\"pc\",\"pc\",\"pc\",\"pc\",\"pc\",\"pc\",\"pc\",\"pc\",\"pc\",\"pc\",\"pc\",\"pc\",\"pc\",\"pc\",\"pc\",\"pc\",\"pc\",\"pc\",\"pc\",\"pc\",\"pc\",\"pc\",\"pc\",\"pc\",\"pc\",\"pc\",\"pc\",\"pc\",\"pc\",\"pc\",\"pc\",\"pc\",\"pc\",\"pc\",\"pc\",\"pc\",\"pc\",\"pc\",\"pc\",\"pc\",\"pc\",\"pc\",\"pc\",\"pc\",\"pc\",\"pc\",\"pc\",\"pc\",\"pc\",\"pc\",\"pc\",\"pc\",\"pc\",\"pc\",\"pc\",\"pc\",\"pc\",\"pc\",\"pc\",\"pc\",\"pc\",\"pc\",\"pc\",\"pc\",\"pc\",\"pc\",\"pc\",\"pc\",\"pc\",\"pc\",\"pc\",\"pc\",\"pc\",\"pc\",\"pc\",\"pc\",\"pc\",\"pc\",\"pc\",\"pc\",\"pc\",\"pc\",\"pc\",\"pc\",\"pc\",\"pc\",\"pc\",\"pc\",\"pc\",\"pc\",\"pc\",\"pc\",\"pc\",\"pc\",\"pc\",\"pc\",\"pc\",\"pc\",\"pc\",\"pc\",\"pc\",\"pc\",\"pc\",\"pc\",\"pc\",\"pc\",\"pc\",\"pc\",\"pc\",\"pc\",\"pc\",\"pc\",\"pc\",\"pc\",\"pc\",\"pc\",\"pc\",\"pc\",\"pc\",\"pc\",\"pc\",\"pc\",\"pc\",\"pc\",\"pc\",\"pc\",\"pc\",\"pc\",\"pc\",\"pc\",\"pc\",\"pc\",\"pc\",\"pc\",\"pc\",\"pc\",\"pc\",\"pc\",\"pc\",\"pc\",\"pc\",\"pc\",\"pc\",\"pc\",\"pc\",\"pc\",\"pc\",\"pc\",\"pc\",\"pc\",\"pc\",\"pc\",\"pc\",\"pc\",\"pc\",\"pc\",\"pc\",\"pc\",\"pc\",\"pc\",\"pc\",\"pc\",\"pc\",\"pc\",\"pc\",\"pc\",\"pc\",\"pc\",\"pc\",\"pc\",\"pc\",\"pc\",\"pc\",\"pc\",\"pc\",\"pc\",\"pc\",\"pc\",\"pc\",\"pc\",\"pc\",\"pc\",\"pc\",\"pc\",\"pc\",\"pc\",\"pc\",\"pc\",\"pc\",\"pc\",\"pc\",\"pc\",\"pc\",\"pc\",\"pc\",\"pc\",\"pc\",\"pc\",\"pc\",\"pc\",\"pc\",\"pc\",\"pc\",\"pc\",\"pc\",\"pc\",\"pc\",\"pc\",\"pc\",\"pc\",\"pc\",\"pc\",\"pc\",\"pc\",\"pc\",\"pc\",\"pc\",\"pc\",\"pc\",\"pc\",\"pc\",\"pc\",\"pc\",\"pc\",\"pc\",\"pc\",\"pc\",\"pc\",\"pc\",\"pc\",\"pc\",\"pc\",\"pc\",\"pc\",\"pc\",\"pc\",\"pc\",\"pc\",\"pc\",\"pc\",\"pc\",\"pc\",\"pc\",\"pc\",\"pc\",\"pc\",\"pc\",\"pc\",\"pc\",\"pc\",\"pc\",\"pc\",\"pc\",\"pc\",\"pc\",\"pc\",\"pc\",\"pc\",\"pc\",\"pc\",\"pc\",\"pc\",\"pc\",\"pc\",\"pc\",\"pc\",\"pc\",\"pc\",\"pc\",\"pc\",\"pc\",\"pc\",\"pc\",\"pc\",\"pc\",\"pc\",\"pc\",\"pc\",\"pc\",\"pc\",\"pc\",\"pc\",\"pc\",\"pc\",\"pc\",\"pc\",\"pc\",\"pc\",\"pc\",\"pc\",\"pc\",\"pc\",\"pc\",\"pc\",\"pc\",\"pc\",\"pc\",\"pc\",\"pc\",\"pc\",\"pc\",\"pc\",\"pc\",\"pc\",\"pc\",\"pc\",\"pc\",\"pc\",\"pc\",\"pc\",\"pc\",\"pc\",\"pc\",\"pc\",\"pc\",\"pc\",\"pc\",\"pc\",\"pc\",\"pc\",\"pc\",\"pc\",\"pc\",\"pc\",\"pc\",\"pc\",\"pc\",\"pc\",\"pc\",\"pc\",\"pc\",\"pc\",\"pc\",\"pc\",\"pc\",\"pc\",\"pc\",\"pc\",\"pc\",\"pc\",\"pc\",\"pc\",\"pc\",\"pc\",\"pc\",\"pc\",\"pc\",\"pc\",\"pc\",\"pc\",\"pc\",\"pc\",\"pc\",\"pc\",\"pc\",\"pc\",\"pc\",\"pc\",\"pc\",\"pc\",\"pc\",\"pc\",\"pc\",\"pc\",\"pc\",\"pc\",\"pc\",\"pc\",\"pc\",\"pc\",\"pc\",\"pc\",\"pc\",\"pc\",\"pc\",\"pc\",\"pc\",\"pc\",\"pc\",\"pc\",\"pc\",\"pc\",\"pc\",\"pc\",\"pc\",\"pc\",\"pc\",\"pc\",\"pc\",\"pc\",\"pc\",\"pc\",\"pc\",\"pc\",\"pc\",\"pc\",\"pc\",\"pc\",\"pc\",\"pc\",\"pc\",\"pc\",\"pc\",\"pc\",\"pc\",\"pc\",\"pc\",\"pc\",\"pc\",\"pc\",\"pc\",\"pc\",\"pc\",\"pc\",\"pc\",\"pc\",\"pc\",\"pc\",\"pc\",\"pc\",\"pc\",\"pc\",\"pc\",\"pc\",\"pc\",\"pc\",\"pc\",\"pc\",\"pc\",\"pc\",\"pc\",\"pc\",\"pc\",\"pc\",\"pc\",\"pc\",\"pc\",\"pc\",\"pc\",\"pc\",\"pc\",\"pc\",\"pc\",\"pc\",\"pc\",\"pc\",\"pc\",\"pc\",\"pc\",\"pc\",\"pc\",\"pc\",\"pc\",\"pc\",\"pc\",\"pc\",\"pc\",\"pc\",\"pc\",\"pc\",\"pc\",\"pc\",\"pc\",\"pc\",\"pc\",\"pc\",\"pc\",\"pc\",\"pc\",\"pc\",\"pc\",\"pc\",\"pc\",\"pc\",\"pc\",\"pc\",\"pc\",\"pc\",\"pc\",\"pc\",\"pc\",\"pc\",\"pc\",\"pc\",\"pc\",\"pc\",\"pc\",\"pc\",\"pc\",\"pc\",\"pc\",\"pc\",\"pc\",\"pc\",\"pc\",\"pc\",\"pc\",\"pc\",\"pc\",\"pc\",\"pc\",\"pc\",\"pc\",\"pc\",\"pc\",\"pc\",\"pc\",\"pc\",\"pc\",\"pc\",\"pc\",\"pc\",\"pc\",\"pc\",\"pc\",\"pc\",\"pc\",\"pc\",\"pc\",\"pc\",\"pc\",\"pc\",\"pc\",\"pc\",\"pc\",\"pc\",\"pc\",\"pc\",\"pc\",\"pc\",\"pc\",\"pc\",\"pc\",\"pc\",\"pc\",\"pc\",\"pc\",\"pc\",\"pc\",\"pc\",\"pc\",\"pc\",\"pc\",\"pc\",\"pc\",\"pc\",\"pc\",\"pc\",\"pc\",\"pc\",\"pc\",\"pc\",\"pc\",\"pc\",\"pc\",\"pc\",\"pc\",\"pc\",\"pc\",\"pc\",\"pc\",\"pc\",\"pc\",\"pc\",\"pc\",\"pc\",\"pc\",\"pc\",\"pc\",\"pc\",\"pc\",\"pc\",\"pc\",\"pc\",\"pc\",\"pc\",\"pc\",\"pc\",\"pc\",\"pc\",\"pc\",\"pc\",\"pc\",\"pc\",\"pc\",\"pc\",\"pc\",\"pc\",\"pc\",\"pc\",\"pc\",\"pc\",\"pc\",\"pc\",\"pc\",\"pc\",\"pc\",\"pc\",\"pc\",\"pc\",\"pc\",\"pc\",\"pc\",\"pc\",\"pc\",\"pc\",\"pc\",\"pc\",\"pc\",\"pc\",\"pc\",\"pc\",\"pc\",\"pc\",\"pc\",\"pc\",\"pc\",\"pc\",\"pc\",\"pc\",\"pc\",\"pc\",\"pc\",\"pc\",\"pc\",\"pc\",\"pc\",\"pc\",\"pc\",\"pc\",\"pc\",\"pc\",\"pc\",\"pc\",\"pc\",\"pc\",\"pc\",\"pc\",\"pc\",\"pc\",\"pc\",\"pc\",\"pc\",\"pc\",\"pc\",\"pc\",\"pc\",\"pc\",\"pc\",\"pc\",\"pc\",\"pc\",\"pc\",\"pc\",\"pc\",\"pc\",\"pc\",\"pc\",\"pc\",\"pc\",\"pc\",\"pc\",\"pc\",\"pc\",\"pc\",\"pc\",\"pc\",\"pc\",\"pc\",\"pc\",\"pc\",\"pc\",\"pc\",\"pc\",\"pc\",\"pc\",\"pc\",\"pc\",\"pc\",\"pc\",\"pc\",\"pc\",\"pc\",\"pc\",\"pc\",\"pc\",\"pc\",\"pc\",\"pc\",\"pc\",\"pc\",\"pc\",\"pc\",\"pc\",\"pc\",\"pc\",\"pc\",\"pc\",\"pc\",\"pc\",\"pc\",\"pc\",\"pc\",\"pc\",\"pc\",\"pc\",\"pc\",\"pc\",\"pc\",\"pc\",\"pc\",\"pc\",\"pc\",\"pc\",\"pc\",\"pc\",\"pc\",\"pc\",\"pc\",\"pc\",\"pc\",\"pc\",\"pc\",\"pc\",\"pc\",\"pc\",\"pc\",\"pc\",\"pc\",\"pc\",\"pc\",\"pc\",\"pc\",\"pc\",\"pc\",\"pc\",\"pc\",\"pc\",\"pc\",\"pc\",\"pc\",\"pc\",\"pc\",\"pc\",\"pc\",\"pc\",\"pc\",\"pc\",\"pc\",\"pc\",\"pc\",\"pc\",\"pc\",\"pc\",\"pc\",\"pc\",\"pc\",\"pc\",\"pc\",\"pc\",\"pc\",\"pc\",\"pc\",\"pc\",\"pc\",\"pc\",\"pc\",\"pc\",\"pc\",\"pc\",\"pc\",\"pc\",\"pc\",\"pc\",\"pc\",\"pc\",\"pc\",\"pc\",\"pc\",\"pc\",\"pc\",\"pc\",\"pc\",\"pc\",\"pc\",\"pc\",\"pc\",\"pc\",\"pc\",\"pc\",\"pc\",\"pc\",\"pc\",\"pc\",\"pc\",\"pc\",\"pc\",\"pc\",\"pc\",\"pc\",\"pc\",\"pc\",\"pc\",\"pc\",\"pc\",\"pc\",\"pc\",\"pc\",\"pc\",\"pc\",\"pc\",\"pc\",\"pc\",\"pc\",\"pc\",\"pc\",\"pc\",\"pc\",\"pc\",\"pc\",\"pc\",\"pc\",\"pc\",\"pc\",\"pc\",\"pc\",\"pc\",\"pc\",\"pc\",\"pc\",\"pc\",\"pc\",\"pc\",\"pc\",\"pc\",\"pc\",\"pc\",\"pc\",\"pc\",\"pc\",\"pc\",\"pc\",\"pc\",\"pc\",\"pc\",\"pc\",\"pc\",\"pc\",\"pc\",\"pc\",\"pc\",\"pc\",\"pc\",\"pc\",\"pc\",\"pc\",\"pc\",\"pc\",\"pc\",\"pc\",\"pc\",\"pc\",\"pc\",\"pc\",\"pc\",\"pc\",\"pc\",\"pc\",\"pc\",\"pc\",\"pc\",\"pc\",\"pc\",\"pc\",\"pc\",\"pc\",\"pc\",\"pc\",\"pc\",\"pc\",\"pc\",\"pc\",\"pc\",\"pc\",\"pc\",\"pc\",\"pc\",\"pc\",\"pc\",\"pc\",\"pc\",\"pc\",\"pc\",\"pc\",\"pc\",\"pc\",\"pc\",\"pc\",\"pc\",\"pc\",\"pc\",\"pc\",\"pc\",\"pc\",\"pc\",\"pc\",\"pc\",\"pc\",\"pc\",\"pc\",\"pc\",\"pc\",\"pc\",\"pc\",\"pc\",\"pc\",\"pc\",\"pc\",\"pc\",\"pc\",\"pc\",\"pc\",\"pc\",\"pc\",\"pc\",\"pc\",\"pc\",\"pc\",\"pc\",\"pc\",\"pc\",\"pc\",\"pc\",\"pc\",\"pc\",\"pc\",\"pc\",\"pc\",\"pc\",\"pc\",\"pc\",\"pc\",\"pc\",\"pc\",\"pc\",\"pc\",\"pc\",\"pc\",\"pc\",\"pc\",\"pc\",\"pc\",\"pc\",\"pc\",\"pc\",\"pc\",\"pc\",\"pc\",\"pc\",\"pc\",\"pc\",\"pc\",\"pc\",\"pc\",\"pc\",\"pc\",\"pc\",\"pc\",\"pc\",\"pc\",\"pc\",\"pc\",\"pc\",\"pc\",\"pc\",\"pc\",\"pc\",\"pc\",\"pc\",\"pc\",\"pc\",\"pc\",\"pc\",\"pc\",\"pc\",\"pc\",\"pc\",\"pc\",\"pc\",\"pc\",\"pc\",\"pc\",\"pc\",\"pc\",\"pc\",\"pc\",\"pc\",\"pc\",\"pc\",\"pc\",\"pc\",\"pc\",\"pc\",\"pc\",\"pc\",\"pc\",\"pc\",\"pc\",\"pc\",\"pc\",\"pc\",\"pc\",\"pc\",\"pc\",\"pc\",\"pc\",\"pc\",\"pc\",\"pc\",\"pc\",\"pc\",\"pc\",\"pc\",\"pc\",\"pc\",\"pc\",\"pc\",\"pc\",\"pc\",\"pc\",\"pc\",\"pc\",\"pc\",\"pc\",\"pc\",\"pc\",\"pc\",\"pc\",\"pc\",\"pc\",\"pc\",\"pc\",\"pc\",\"pc\",\"pc\",\"pc\",\"pc\",\"pc\",\"pc\",\"pc\",\"pc\",\"pc\",\"pc\",\"pc\",\"pc\",\"pc\",\"pc\",\"pc\",\"pc\",\"pc\",\"pc\",\"pc\",\"pc\",\"pc\",\"pc\",\"pc\",\"pc\",\"pc\",\"pc\",\"pc\",\"pc\",\"pc\",\"pc\",\"pc\",\"pc\",\"pc\",\"pc\",\"pc\",\"pc\",\"pc\",\"pc\",\"pc\",\"pc\",\"pc\",\"pc\",\"pc\",\"pc\",\"pc\",\"pc\",\"pc\",\"pc\",\"pc\",\"pc\",\"pc\",\"pc\",\"pc\",\"pc\",\"pc\",\"pc\",\"pc\",\"pc\",\"pc\",\"pc\",\"pc\",\"pc\",\"pc\",\"pc\",\"pc\",\"pc\",\"pc\",\"pc\",\"pc\",\"pc\",\"pc\",\"pc\",\"pc\",\"pc\",\"pc\",\"pc\",\"pc\",\"pc\",\"pc\",\"pc\",\"pc\",\"pc\",\"pc\",\"pc\",\"pc\",\"pc\",\"pc\",\"pc\",\"pc\",\"pc\",\"pc\",\"pc\",\"pc\",\"pc\",\"pc\",\"pc\",\"pc\",\"pc\",\"pc\",\"pc\",\"pc\",\"pc\",\"pc\",\"pc\",\"pc\",\"pc\",\"pc\",\"pc\",\"pc\",\"pc\",\"pc\",\"pc\",\"pc\",\"pc\",\"pc\",\"pc\",\"pc\",\"pc\",\"pc\",\"pc\",\"pc\",\"pc\",\"pc\",\"pc\",\"pc\",\"pc\",\"pc\",\"pc\",\"pc\",\"pc\",\"pc\",\"pc\",\"pc\",\"pc\",\"pc\",\"pc\",\"pc\",\"pc\",\"pc\",\"pc\",\"pc\",\"pc\",\"pc\",\"pc\",\"pc\",\"pc\",\"pc\",\"pc\",\"pc\",\"pc\",\"pc\",\"pc\",\"pc\",\"pc\",\"pc\",\"pc\",\"pc\",\"pc\",\"pc\",\"pc\",\"pc\",\"pc\",\"pc\",\"pc\",\"pc\",\"pc\",\"pc\",\"pc\",\"pc\",\"pc\",\"pc\",\"pc\",\"pc\",\"pc\",\"pc\",\"pc\",\"pc\",\"pc\",\"pc\",\"pc\",\"pc\",\"pc\",\"pc\",\"pc\",\"pc\",\"pc\",\"pc\",\"pc\",\"pc\",\"pc\",\"pc\",\"pc\",\"pc\",\"pc\",\"pc\",\"pc\",\"pc\",\"pc\",\"pc\",\"pc\",\"pc\",\"pc\",\"pc\",\"pc\",\"pc\",\"pc\",\"pc\",\"pc\",\"pc\",\"pc\",\"pc\",\"pc\",\"pc\",\"pc\",\"pc\",\"pc\",\"pc\",\"pc\",\"pc\",\"pc\",\"pc\",\"pc\",\"pc\",\"pc\",\"pc\",\"pc\",\"pc\",\"pc\",\"pc\",\"pc\",\"pc\",\"pc\",\"pc\",\"pc\",\"pc\",\"pc\",\"pc\",\"pc\",\"pc\",\"pc\",\"pc\",\"pc\",\"pc\",\"pc\",\"pc\",\"pc\",\"pc\",\"pc\",\"pc\",\"pc\",\"pc\",\"pc\",\"pc\",\"pc\",\"pc\",\"pc\",\"pc\",\"pc\",\"pc\",\"pc\",\"pc\",\"pc\",\"pc\",\"pc\",\"pc\",\"pc\",\"pc\",\"pc\",\"pc\",\"pc\",\"pc\",\"pc\",\"pc\",\"pc\",\"pc\",\"pc\",\"pc\",\"pc\",\"pc\",\"pc\",\"pc\",\"pc\",\"pc\",\"pc\",\"pc\",\"pc\",\"pc\",\"pc\",\"pc\",\"pc\",\"pc\",\"pc\",\"pc\",\"pc\",\"pc\",\"pc\",\"pc\",\"pc\",\"pc\",\"pc\",\"pc\",\"pc\",\"pc\",\"pc\",\"pc\",\"pc\",\"pc\",\"pc\",\"pc\",\"pc\",\"pc\",\"pc\",\"pc\",\"pc\",\"pc\",\"pc\",\"pc\",\"pc\",\"pc\",\"pc\",\"pc\",\"pc\",\"pc\",\"pc\",\"pc\",\"pc\",\"pc\",\"pc\",\"pc\",\"pc\",\"pc\",\"pc\",\"pc\",\"pc\",\"pc\",\"pc\",\"pc\",\"pc\",\"pc\",\"pc\",\"pc\",\"pc\",\"pc\",\"pc\",\"pc\",\"pc\",\"pc\",\"pc\",\"pc\",\"pc\",\"pc\",\"pc\",\"pc\",\"pc\",\"pc\",\"pc\",\"pc\",\"pc\",\"pc\",\"pc\",\"pc\",\"pc\",\"pc\",\"pc\",\"pc\",\"pc\",\"pc\",\"pc\",\"pc\",\"pc\",\"pc\",\"pc\",\"pc\",\"pc\",\"pc\",\"pc\",\"pc\",\"pc\",\"pc\",\"pc\",\"pc\",\"pc\",\"pc\",\"pc\",\"pc\",\"pc\",\"pc\",\"pc\",\"pc\",\"pc\",\"pc\",\"pc\",\"pc\",\"pc\",\"pc\",\"pc\",\"pc\",\"pc\",\"pc\",\"pc\",\"pc\",\"pc\",\"pc\",\"pc\",\"pc\",\"pc\",\"pc\",\"pc\",\"pc\",\"pc\",\"pc\",\"pc\",\"pc\",\"pc\",\"pc\",\"pc\",\"pc\",\"pc\",\"pc\",\"pc\",\"pc\",\"pc\",\"pc\",\"pc\",\"pc\",\"pc\",\"pc\",\"pc\",\"pc\",\"pc\",\"pc\",\"pc\",\"pc\",\"pc\",\"pc\",\"pc\",\"pc\",\"pc\",\"pc\",\"pc\",\"pc\",\"pc\",\"pc\",\"pc\",\"pc\",\"pc\",\"pc\",\"pc\",\"pc\",\"pc\",\"pc\",\"pc\",\"pc\",\"pc\",\"pc\",\"pc\",\"pc\",\"pc\",\"pc\",\"pc\",\"pc\",\"pc\",\"pc\",\"pc\",\"pc\",\"pc\",\"pc\",\"pc\",\"pc\",\"pc\",\"pc\",\"pc\",\"pc\",\"pc\",\"pc\",\"pc\",\"pc\",\"pc\",\"pc\",\"pc\",\"pc\",\"pc\",\"pc\",\"pc\",\"pc\",\"pc\",\"pc\",\"pc\",\"pc\",\"pc\",\"pc\",\"pc\",\"pc\",\"pc\",\"pc\",\"pc\",\"pc\",\"pc\",\"pc\",\"pc\",\"pc\",\"pc\",\"pc\",\"pc\",\"pc\",\"pc\",\"pc\",\"pc\",\"pc\",\"pc\",\"pc\",\"pc\",\"pc\",\"pc\",\"pc\",\"pc\",\"pc\",\"pc\",\"pc\",\"pc\",\"pc\",\"pc\",\"pc\",\"pc\",\"pc\",\"pc\",\"pc\",\"pc\",\"pc\",\"pc\",\"pc\",\"pc\",\"pc\",\"pc\",\"pc\",\"pc\",\"pc\",\"pc\",\"pc\",\"pc\",\"pc\",\"pc\",\"pc\",\"pc\",\"pc\",\"pc\",\"pc\",\"pc\",\"pc\",\"pc\",\"pc\",\"pc\",\"pc\",\"pc\",\"pc\",\"pc\",\"pc\",\"pc\",\"pc\",\"pc\",\"pc\",\"pc\",\"pc\",\"pc\",\"pc\",\"pc\",\"pc\",\"pc\",\"pc\",\"pc\",\"pc\",\"pc\",\"pc\",\"pc\",\"pc\",\"pc\",\"pc\",\"pc\",\"pc\",\"pc\",\"pc\",\"pc\",\"pc\",\"pc\",\"pc\",\"pc\",\"pc\",\"pc\",\"pc\",\"pc\",\"pc\",\"pc\",\"pc\",\"pc\",\"pc\",\"pc\",\"pc\",\"pc\",\"pc\",\"pc\",\"pc\",\"pc\",\"pc\",\"pc\",\"pc\",\"pc\",\"pc\",\"pc\",\"pc\",\"pc\",\"pc\",\"pc\",\"pc\",\"pc\",\"pc\",\"pc\",\"pc\",\"pc\",\"pc\",\"pc\",\"pc\",\"pc\",\"pc\",\"pc\",\"pc\",\"pc\",\"pc\",\"pc\",\"pc\",\"pc\",\"pc\",\"pc\",\"pc\",\"pc\",\"pc\",\"pc\",\"pc\",\"pc\",\"pc\",\"pc\",\"pc\",\"pc\",\"pc\",\"pc\",\"pc\",\"pc\",\"pc\",\"pc\",\"pc\",\"pc\",\"pc\",\"pc\",\"pc\",\"pc\",\"pc\",\"pc\",\"pc\",\"pc\",\"pc\",\"pc\",\"pc\",\"pc\",\"pc\",\"pc\",\"pc\",\"pc\",\"pc\",\"pc\",\"pc\",\"pc\",\"pc\",\"pc\",\"pc\",\"pc\",\"pc\",\"pc\",\"pc\",\"pc\",\"pc\",\"pc\",\"pc\",\"pc\",\"pc\",\"pc\",\"pixel_area\",\"pixel_area\",\"pixel_area\",\"pixel_area\",\"pixel_area\",\"pixel_area\",\"pixel_area\",\"pixel_area\",\"pixel_area\",\"pixel_area\",\"pixel_area\",\"pixel_area\",\"pixel_area\",\"pixel_area\",\"pixel_area\",\"pixel_area\",\"pixel_area\",\"pixel_area\",\"pixel_area\",\"pixel_area\",\"pixel_area\",\"pixel_area\",\"pixel_area\",\"pixel_area\",\"pixel_area\",\"pixel_area\",\"pixel_area\",\"pixel_area\",\"pixel_area\",\"pixel_area\",\"pixel_area\",\"pixel_area\",\"pixel_area\",\"pixel_area\",\"pixel_area\",\"pixel_area\",\"pixel_area\",\"pixel_area\",\"pixel_area\",\"pixel_area\",\"pixel_area\",\"pixel_area\",\"pixel_area\",\"pixel_area\",\"pixel_area\",\"pixel_area\",\"pixel_area\",\"pixel_area\",\"pixel_area\",\"pixel_area\",\"pixel_area\",\"pixel_area\",\"pixel_area\",\"pixel_area\",\"pixel_area\",\"pixel_area\",\"pixel_area\",\"pixel_area\",\"pixel_area\",\"pixel_area\",\"pixel_area\",\"pixel_area\",\"pixel_area\",\"pixel_area\",\"pixel_area\",\"pixel_area\",\"pixel_area\",\"pixel_area\",\"pixel_area\",\"pixel_area\",\"pixel_area\",\"pixel_area\",\"pixel_area\",\"pixel_area\",\"pixel_area\",\"pixel_area\",\"pixel_area\",\"pixel_area\",\"pixel_area\",\"pixel_area\",\"pixel_area\",\"pixel_area\",\"pixel_area\",\"pixel_area\",\"pixel_area\",\"pixel_area\",\"pixel_area\",\"pixel_area\",\"pixel_area\",\"pixel_area\",\"pixel_area\",\"pixel_area\",\"pixel_area\",\"pixel_area\",\"pixel_area\",\"pixel_area\",\"pixel_area\",\"pixel_area\",\"pixel_area\",\"pixel_area\",\"pixel_area\",\"pixel_area\",\"pixel_area\",\"pixel_area\",\"pixel_area\",\"pixel_area\",\"pixel_area\",\"pixel_area\",\"pixel_area\",\"pixel_area\",\"pixel_area\",\"pixel_area\",\"pixel_area\",\"pixel_area\",\"pixel_area\",\"pixel_area\",\"pixel_area\",\"pixel_area\",\"pixel_area\",\"pixel_area\",\"pixel_area\",\"pixel_area\",\"pixel_area\",\"pixel_area\",\"pixel_area\",\"pixel_area\",\"pixel_area\",\"pixel_area\",\"pixel_area\",\"pixel_area\",\"pixel_area\",\"pixel_area\",\"pixel_area\",\"pixel_area\",\"pixel_area\",\"pixel_area\",\"pixel_area\",\"pixel_area\",\"pixel_area\",\"pixel_area\",\"pixel_area\",\"pixel_area\",\"pixel_area\",\"pixel_area\",\"pixel_area\",\"pixel_area\",\"pixel_area\",\"pixel_area\",\"pixel_area\",\"pixel_area\",\"pixel_area\",\"pixel_area\",\"pixel_area\",\"pixel_area\",\"pixel_area\",\"pixel_area\",\"pixel_area\",\"pixel_area\",\"pixel_area\",\"pixel_area\",\"pixel_area\",\"pixel_area\",\"pixel_area\",\"pixel_area\",\"pixel_area\",\"pixel_area\",\"pixel_area\",\"pixel_area\",\"pixel_area\",\"pixel_area\",\"pixel_area\",\"pixel_area\",\"pixel_area\",\"pixel_area\",\"pixel_area\",\"pixel_area\",\"pixel_area\",\"pixel_area\",\"pixel_area\",\"pixel_area\",\"pixel_area\",\"pixel_area\",\"pixel_area\",\"pixel_area\",\"pixel_area\",\"pixel_area\",\"pixel_area\",\"pixel_area\",\"pixel_area\",\"pixel_area\",\"pixel_area\",\"pixel_area\",\"pixel_area\",\"pixel_area\",\"pixel_area\",\"pixel_area\",\"pixel_area\",\"pixel_area\",\"pixel_area\",\"pixel_area\",\"pixel_area\",\"pixel_area\",\"pixel_area\",\"pixel_area\",\"pixel_area\",\"pixel_area\",\"pixel_area\",\"pixel_area\",\"pixel_area\",\"pixel_area\",\"pixel_area\",\"pixel_area\",\"pixel_area\",\"pixel_area\",\"pixel_area\",\"pixel_area\",\"pixel_area\",\"pixel_area\",\"pixel_area\",\"pixel_area\",\"pixel_area\",\"pixel_area\",\"pixel_area\",\"pixel_area\",\"pixel_area\",\"pixel_area\",\"pixel_area\",\"pixel_area\",\"pixel_area\",\"pixel_area\",\"pixel_area\",\"pixel_area\",\"pixel_area\",\"pixel_area\",\"pixel_area\",\"pixel_area\",\"pixel_area\",\"pixel_area\",\"pixel_area\",\"pixel_area\",\"pixel_area\",\"pixel_area\",\"pixel_area\",\"pixel_area\",\"pixel_area\",\"pixel_area\",\"pixel_area\",\"pixel_area\",\"pixel_area\",\"pixel_area\",\"pixel_area\",\"pixel_area\",\"pixel_area\",\"pixel_area\",\"pixel_area\",\"pixel_area\",\"pixel_area\",\"pixel_area\",\"pixel_area\",\"pixel_area\",\"pixel_area\",\"pixel_area\",\"pixel_area\",\"pixel_area\",\"pixel_area\",\"pixel_area\",\"pixel_area\",\"pixel_area\",\"pixel_area\",\"pixel_area\",\"pixel_area\",\"pixel_area\",\"pixel_area\",\"pixel_area\",\"pixel_area\",\"pixel_area\",\"pixel_area\",\"pixel_area\",\"pixel_area\",\"pixel_area\",\"pixel_area\",\"pixel_area\",\"pixel_area\",\"pixel_area\",\"pixel_area\",\"pixel_area\",\"pixel_area\",\"pixel_area\",\"pixel_area\",\"pixel_area\",\"pixel_area\",\"pixel_area\",\"pixel_area\",\"pixel_area\",\"pixel_area\",\"pixel_area\",\"pixel_area\",\"pixel_area\",\"pixel_area\",\"pixel_area\",\"pixel_area\",\"pixel_area\",\"pixel_area\",\"pixel_area\",\"pixel_area\",\"pixel_area\",\"pixel_area\",\"pixel_area\",\"pixel_area\",\"pixel_area\",\"pixel_area\",\"pixel_area\",\"pixel_area\",\"pixel_area\",\"pixel_area\",\"pixel_area\",\"pixel_area\",\"pixel_area\",\"pixel_area\",\"pixel_area\",\"pixel_area\",\"pixel_area\",\"pixel_area\",\"pixel_area\",\"pixel_area\",\"pixel_area\",\"pixel_area\",\"pixel_area\",\"pixel_area\",\"pixel_area\",\"pixel_area\",\"pixel_area\",\"pixel_area\",\"pixel_area\",\"pixel_area\",\"pixel_area\",\"pixel_area\",\"pixel_area\",\"pixel_area\",\"pixel_area\",\"pixel_area\",\"pixel_area\",\"pixel_area\",\"pixel_area\",\"pixel_area\",\"pixel_area\",\"pixel_area\",\"pixel_area\",\"pixel_area\",\"pixel_area\",\"pixel_area\",\"pixel_area\",\"pixel_area\",\"pixel_area\",\"pixel_area\",\"pixel_area\",\"pixel_area\",\"pixel_area\",\"pixel_area\",\"pixel_area\",\"pixel_area\",\"pixel_area\",\"pixel_area\",\"pixel_area\",\"pixel_area\",\"pixel_area\",\"pixel_area\",\"pixel_area\",\"pixel_area\",\"pixel_area\",\"pixel_area\",\"pixel_area\",\"pixel_area\",\"pixel_area\",\"pixel_area\",\"pixel_area\",\"pixel_area\",\"pixel_area\",\"pixel_area\",\"pixel_area\",\"pixel_area\",\"pixel_area\",\"pixel_area\",\"pixel_area\",\"pixel_area\",\"pixel_area\",\"pixel_area\",\"pixel_area\",\"pixel_area\",\"pixel_area\",\"pixel_area\",\"pixel_area\",\"pixel_area\",\"pixel_area\",\"pixel_area\",\"pixel_area\",\"pixel_area\",\"pixel_area\",\"pixel_area\",\"pixel_area\",\"pixel_area\",\"pixel_area\",\"pixel_area\",\"pixel_area\",\"pixel_area\",\"pixel_area\",\"pixel_area\",\"pixel_area\",\"pixel_area\",\"pixel_area\",\"pixel_area\",\"pixel_area\",\"pixel_area\",\"pixel_area\",\"pixel_area\",\"pixel_area\",\"pixel_area\",\"pixel_area\",\"pixel_area\",\"pixel_area\",\"pixel_area\",\"pixel_area\",\"pixel_area\",\"pixel_area\",\"pixel_area\",\"pixel_area\",\"pixel_area\",\"pixel_area\",\"pixel_area\",\"pixel_area\",\"pixel_area\",\"pixel_area\",\"pixel_area\",\"pixel_area\",\"pixel_area\",\"pixel_area\",\"pixel_area\",\"pixel_area\",\"pixel_area\",\"pixel_area\",\"pixel_area\",\"pixel_area\",\"pixel_area\",\"pixel_area\",\"pixel_area\",\"pixel_area\",\"pixel_area\",\"pixel_area\",\"pixel_area\",\"pixel_area\",\"pixel_area\",\"pixel_area\",\"pixel_area\",\"pixel_area\",\"pixel_area\",\"pixel_area\",\"pixel_area\",\"pixel_area\",\"pixel_area\",\"pixel_area\",\"pixel_area\",\"pixel_area\",\"pixel_area\",\"pixel_area\",\"pixel_area\",\"pixel_area\",\"pixel_area\",\"pixel_area\",\"pixel_area\",\"pixel_area\",\"pixel_area\",\"pixel_area\",\"pixel_area\",\"pixel_area\",\"pixel_area\",\"pixel_area\",\"pixel_area\",\"pixel_area\",\"pixel_area\",\"pixel_area\",\"pixel_area\",\"pixel_area\",\"pixel_area\",\"pixel_area\",\"pixel_area\",\"pixel_area\",\"pixel_area\",\"pixel_area\",\"pixel_area\",\"pixel_area\",\"pixel_area\",\"pixel_area\",\"pixel_area\",\"pixel_area\",\"pixel_area\",\"pixel_area\",\"pixel_area\",\"pixel_area\",\"pixel_area\",\"pixel_area\",\"pixel_area\",\"pixel_area\",\"pixel_area\",\"pixel_area\",\"pixel_area\",\"pixel_area\",\"pixel_area\",\"pixel_area\",\"pixel_area\",\"pixel_area\",\"pixel_area\",\"pixel_area\",\"pixel_area\",\"pixel_area\",\"pixel_area\",\"pixel_area\",\"pixel_area\",\"pixel_area\",\"pixel_area\",\"pixel_area\",\"pixel_area\",\"pixel_area\",\"pixel_area\",\"pixel_area\",\"pixel_area\",\"pixel_area\",\"pixel_area\",\"pixel_area\",\"pixel_area\",\"pixel_area\",\"pixel_area\",\"pixel_area\",\"pixel_area\",\"pixel_area\",\"pixel_area\",\"pixel_area\",\"pixel_area\",\"pixel_area\",\"pixel_area\",\"pixel_area\",\"pixel_area\",\"pixel_area\",\"pixel_area\",\"pixel_area\",\"pixel_area\",\"pixel_area\",\"pixel_area\",\"pixel_area\",\"pixel_area\",\"pixel_area\",\"pixel_area\",\"pixel_area\",\"pixel_area\",\"pixel_area\",\"pixel_area\",\"pixel_area\",\"pixel_area\",\"pixel_area\",\"pixel_area\",\"pixel_area\",\"pixel_area\",\"pixel_area\",\"pixel_area\",\"pixel_area\",\"pixel_area\",\"pixel_area\",\"pixel_area\",\"pixel_area\",\"pixel_area\",\"pixel_area\",\"pixel_area\",\"pixel_area\",\"pixel_area\",\"pixel_area\",\"pixel_area\",\"pixel_area\",\"pixel_area\",\"pixel_area\",\"pixel_area\",\"pixel_area\",\"pixel_area\",\"pixel_area\",\"pixel_area\",\"pixel_area\",\"pixel_area\",\"pixel_area\",\"pixel_area\",\"pixel_area\",\"pixel_area\",\"pixel_area\",\"pixel_area\",\"pixel_area\",\"pixel_area\",\"pixel_area\",\"pixel_area\",\"pixel_area\",\"pixel_area\",\"pixel_area\",\"pixel_area\",\"pixel_area\",\"pixel_area\",\"pixel_area\",\"pixel_area\",\"pixel_area\",\"pixel_area\",\"pixel_area\",\"pixel_area\",\"pixel_area\",\"pixel_area\",\"pixel_area\",\"pixel_area\",\"pixel_area\",\"pixel_area\",\"pixel_area\",\"pixel_area\",\"pixel_area\",\"pixel_area\",\"pixel_area\",\"pixel_area\",\"pixel_area\",\"pixel_area\",\"pixel_area\",\"pixel_area\",\"pixel_area\",\"pixel_area\",\"pixel_area\",\"pixel_area\",\"pixel_area\",\"pixel_area\",\"pixel_area\",\"pixel_area\",\"pixel_area\",\"pixel_area\",\"pixel_area\",\"pixel_area\",\"pixel_area\",\"pixel_area\",\"pixel_area\",\"pixel_area\",\"pixel_area\",\"pixel_area\",\"pixel_area\",\"pixel_area\",\"pixel_area\",\"pixel_area\",\"pixel_area\",\"pixel_area\",\"pixel_area\",\"pixel_area\",\"pixel_area\",\"pixel_area\",\"pixel_area\",\"pixel_area\",\"pixel_area\",\"pixel_area\",\"pixel_area\",\"pixel_area\",\"pixel_area\",\"pixel_area\",\"pixel_area\",\"pixel_area\",\"pixel_area\",\"pixel_area\",\"pixel_area\",\"pixel_area\",\"pixel_area\",\"pixel_area\",\"pixel_area\",\"pixel_area\",\"pixel_area\",\"pixel_area\",\"pixel_area\",\"pixel_area\",\"pixel_area\",\"pixel_area\",\"pixel_area\",\"pixel_area\",\"pixel_area\",\"pixel_area\",\"pixel_area\",\"pixel_area\",\"pixel_area\",\"pixel_area\",\"pixel_area\",\"pixel_area\",\"pixel_area\",\"pixel_area\",\"pixel_area\",\"pixel_area\",\"pixel_area\",\"pixel_area\",\"pixel_area\",\"pixel_area\",\"pixel_area\",\"pixel_area\",\"pixel_area\",\"pixel_area\",\"pixel_area\",\"pixel_area\",\"pixel_area\",\"pixel_area\",\"pixel_area\",\"pixel_area\",\"pixel_area\",\"pixel_area\",\"pixel_area\",\"pixel_area\",\"pixel_area\",\"pixel_area\",\"pixel_area\",\"pixel_area\",\"pixel_area\",\"pixel_area\",\"pixel_area\",\"pixel_area\",\"pixel_area\",\"pixel_area\",\"pixel_area\",\"pixel_area\",\"pixel_area\",\"pixel_area\",\"pixel_area\",\"pixel_area\",\"pixel_area\",\"pixel_area\",\"pixel_area\",\"pixel_area\",\"pixel_area\",\"pixel_area\",\"pixel_area\",\"pixel_area\",\"pixel_area\",\"pixel_area\",\"pixel_area\",\"pixel_area\",\"pixel_area\",\"pixel_area\",\"pixel_area\",\"pixel_area\",\"pixel_area\",\"pixel_area\",\"pixel_area\",\"pixel_area\",\"pixel_area\",\"pixel_area\",\"pixel_area\",\"pixel_area\",\"pixel_area\",\"pixel_area\",\"pixel_area\",\"pixel_area\",\"pixel_area\",\"pixel_area\",\"pixel_area\",\"pixel_area\",\"pixel_area\",\"pixel_area\",\"pixel_area\",\"pixel_area\",\"pixel_area\",\"pixel_area\",\"pixel_area\",\"pixel_area\",\"pixel_area\",\"pixel_area\",\"pixel_area\",\"pixel_area\",\"pixel_area\",\"pixel_area\",\"pixel_area\",\"pixel_area\",\"pixel_area\",\"pixel_area\",\"pixel_area\",\"pixel_area\",\"pixel_area\",\"pixel_area\",\"pixel_area\",\"pixel_area\",\"pixel_area\",\"pixel_area\",\"pixel_area\",\"pixel_area\",\"pixel_area\",\"pixel_area\",\"pixel_area\",\"pixel_area\",\"pixel_area\",\"pixel_area\",\"pixel_area\",\"pixel_area\",\"pixel_area\",\"pixel_area\",\"pixel_area\",\"pixel_area\",\"pixel_area\",\"pixel_area\",\"pixel_area\",\"pixel_area\",\"pixel_area\",\"pixel_area\",\"pixel_area\",\"pixel_area\",\"pixel_area\",\"pixel_area\",\"pixel_area\",\"pixel_area\",\"pixel_area\",\"pixel_area\",\"pixel_area\",\"pixel_area\",\"pixel_area\",\"pixel_area\",\"pixel_area\",\"pixel_area\",\"pixel_area\",\"pixel_area\",\"pixel_area\",\"pixel_area\",\"pixel_area\",\"pixel_area\",\"pixel_area\",\"pixel_area\",\"pixel_area\",\"pixel_area\",\"pixel_area\",\"pixel_area\",\"pixel_area\",\"pixel_area\",\"pixel_area\",\"pixel_area\",\"pixel_area\",\"pixel_area\",\"pixel_area\",\"pixel_area\",\"pixel_area\",\"pixel_area\",\"pixel_area\",\"pixel_area\",\"pixel_area\",\"pixel_area\",\"pixel_area\",\"pixel_area\",\"pixel_area\",\"pixel_area\",\"pixel_area\",\"pixel_area\",\"pixel_area\",\"pixel_area\",\"pixel_area\",\"pixel_area\",\"pixel_area\",\"pixel_area\",\"pixel_area\",\"pixel_area\",\"pixel_area\",\"pixel_area\",\"pixel_area\",\"pixel_area\",\"pixel_area\",\"pixel_area\",\"pixel_area\",\"pixel_area\",\"pixel_area\",\"pixel_area\",\"pixel_area\",\"pixel_area\",\"pixel_area\",\"pixel_area\",\"pixel_area\",\"pixel_area\",\"pixel_area\",\"pixel_area\",\"pixel_area\",\"pixel_area\",\"pixel_area\",\"pixel_area\",\"pixel_area\",\"pixel_area\",\"pixel_area\",\"pixel_area\",\"pixel_area\",\"pixel_area\",\"pixel_area\",\"pixel_area\",\"pixel_area\",\"pixel_area\",\"pixel_area\",\"pixel_area\",\"pixel_area\",\"pixel_area\",\"pixel_area\",\"pixel_area\",\"pixel_area\",\"pixel_area\",\"pixel_area\",\"pixel_area\",\"pixel_area\",\"pixel_area\",\"pixel_area\",\"pixel_area\",\"pixel_area\",\"pixel_area\",\"pixel_area\",\"pixel_area\",\"pixel_area\",\"pixel_area\",\"pixel_area\",\"pixel_area\",\"pixel_area\",\"pixel_area\",\"pixel_area\",\"pixel_area\",\"pixel_area\",\"pixel_area\",\"pixel_area\",\"pixel_area\",\"pixel_area\",\"pixel_area\",\"pixel_area\",\"pixel_area\",\"pixel_area\",\"pixel_area\",\"pixel_area\",\"pixel_area\",\"pixel_area\",\"pixel_area\",\"pixel_area\",\"pixel_area\",\"pixel_area\",\"pixel_area\",\"pixel_area\",\"pixel_area\",\"pixel_area\",\"pixel_area\",\"pixel_area\",\"pixel_area\",\"pixel_area\",\"pixel_area\",\"pixel_area\",\"pixel_area\",\"pixel_area\",\"pixel_area\",\"pixel_area\",\"pixel_area\",\"pixel_area\",\"pixel_area\",\"pixel_area\",\"pixel_area\",\"pixel_area\",\"pixel_area\",\"pixel_area\",\"pixel_area\",\"pixel_area\",\"pixel_area\",\"pixel_area\",\"pixel_area\",\"pixel_area\",\"pixel_area\",\"pixel_area\",\"pixel_area\",\"pixel_area\",\"pixel_area\",\"pixel_area\",\"pixel_area\",\"pixel_area\",\"pixel_area\",\"pixel_area\",\"pixel_area\",\"pixel_area\",\"pixel_area\",\"pixel_area\",\"pixel_area\",\"pixel_area\",\"pixel_area\",\"pixel_area\",\"pixel_area\",\"pixel_area\",\"pixel_area\",\"pixel_area\",\"pixel_area\",\"pixel_area\",\"pixel_area\",\"pixel_area\",\"pixel_area\",\"pixel_area\",\"pixel_area\",\"pixel_area\",\"pixel_area\",\"pixel_area\",\"pixel_area\",\"pixel_area\",\"pixel_area\",\"pixel_area\",\"pixel_area\",\"pixel_area\",\"pixel_area\",\"pixel_area\",\"pixel_area\",\"pixel_area\",\"pixel_area\",\"pixel_area\",\"pixel_area\",\"pixel_area\",\"pixel_area\",\"pixel_area\",\"pixel_area\",\"pixel_area\",\"pixel_area\",\"pixel_area\",\"pixel_area\",\"pixel_area\",\"pixel_area\",\"pixel_area\",\"pixel_area\",\"pixel_area\",\"pixel_area\",\"pixel_area\",\"pixel_area\",\"pixel_area\",\"pixel_area\",\"pixel_area\",\"pixel_area\",\"pixel_area\",\"pixel_area\",\"pixel_area\",\"pixel_area\",\"pixel_area\",\"pixel_area\",\"pixel_area\",\"pixel_area\",\"pixel_area\",\"pixel_area\",\"pixel_area\",\"pixel_area\",\"pixel_area\",\"pixel_area\",\"pixel_area\",\"pixel_area\",\"pixel_area\",\"pixel_area\",\"pixel_area\",\"pixel_area\",\"pixel_area\",\"pixel_area\",\"pixel_area\",\"pixel_area\",\"pixel_area\",\"pixel_area\",\"pixel_area\",\"pixel_area\",\"pixel_area\",\"pixel_area\",\"pixel_area\",\"pixel_area\",\"pixel_area\",\"pixel_area\",\"pixel_area\",\"pixel_area\",\"pixel_area\",\"pixel_area\",\"pixel_area\",\"pixel_area\",\"pixel_area\",\"pixel_area\",\"pixel_area\",\"pixel_area\",\"pixel_area\",\"pixel_area\",\"pixel_area\",\"pixel_area\",\"pixel_area\",\"pixel_area\",\"pixel_area\",\"pixel_area\",\"pixel_area\",\"pixel_area\",\"pixel_area\",\"pixel_area\",\"pixel_area\",\"pixel_area\",\"pixel_area\",\"pixel_area\",\"pixel_area\",\"pixel_area\",\"pixel_area\",\"pixel_area\",\"pixel_area\",\"pixel_area\",\"pixel_area\",\"pixel_area\",\"pixel_area\",\"pixel_area\",\"pixel_area\",\"pixel_area\",\"pixel_area\",\"pixel_area\",\"pixel_area\",\"pixel_area\",\"pixel_area\",\"pixel_area\",\"pixel_area\",\"pixel_area\",\"pixel_area\",\"pixel_area\",\"pixel_area\",\"pixel_area\",\"pixel_area\",\"pixel_area\",\"pixel_area\",\"pixel_area\",\"pixel_area\",\"pixel_area\",\"pixel_area\",\"pixel_area\",\"pixel_area\",\"pixel_area\",\"pixel_area\",\"pixel_area\",\"pixel_area\",\"pixel_area\",\"pixel_area\",\"pixel_area\",\"pixel_area\",\"pixel_area\",\"pixel_area\",\"pixel_area\",\"pixel_area\",\"pixel_area\",\"pixel_area\",\"pixel_area\",\"pixel_area\",\"pixel_area\",\"pixel_area\",\"pixel_area\",\"pixel_area\",\"pixel_area\",\"pixel_area\",\"pixel_area\",\"pixel_area\",\"pixel_area\",\"pixel_area\",\"pixel_area\",\"pixel_area\",\"pixel_area\",\"pixel_area\",\"pixel_area\",\"pixel_area\",\"pixel_area\",\"pixel_area\",\"pixel_area\",\"pixel_area\",\"pixel_area\",\"pixel_area\",\"pixel_area\",\"pixel_area\",\"pixel_area\",\"pixel_area\",\"pixel_area\",\"pixel_area\",\"pixel_area\",\"pixel_area\",\"pixel_area\",\"pixel_area\",\"pixel_area\",\"pixel_area\",\"pixel_area\",\"pixel_area\",\"pixel_area\",\"pixel_area\",\"pixel_area\",\"pixel_area\",\"pixel_area\",\"pixel_area\",\"pixel_area\",\"pixel_area\",\"pixel_area\",\"pixel_area\",\"pixel_area\",\"pixel_area\",\"pixel_area\",\"pixel_area\",\"pixel_area\",\"pixel_area\",\"pixel_area\",\"pixel_area\",\"pixel_area\",\"pixel_area\",\"pixel_area\",\"pixel_area\",\"pixel_area\",\"pixel_area\",\"pixel_area\",\"pixel_area\",\"pixel_area\",\"pixel_area\",\"pixel_area\",\"pixel_area\",\"pixel_area\",\"pixel_area\",\"pixel_area\",\"pixel_area\",\"pixel_area\",\"pixel_area\",\"pixel_area\",\"pixel_area\",\"pixel_area\",\"pixel_area\",\"pixel_area\",\"pixel_area\",\"pixel_area\",\"pixel_area\",\"pixel_area\",\"pixel_area\",\"pixel_area\",\"pixel_area\",\"pixel_area\",\"pixel_area\",\"pixel_area\",\"pixel_area\",\"pixel_area\",\"pixel_area\",\"pixel_area\",\"pixel_area\",\"pixel_area\",\"pixel_area\",\"pixel_area\",\"pixel_area\",\"pixel_area\",\"pixel_area\",\"pixel_area\",\"pixel_area\",\"pixel_area\",\"pixel_area\",\"pixel_area\",\"pixel_area\",\"pixel_area\",\"pixel_area\",\"pixel_area\",\"pixel_area\",\"pixel_area\",\"pixel_area\",\"pixel_area\",\"pixel_area\",\"pixel_area\",\"pixel_area\",\"pixel_area\",\"pixel_area\",\"pixel_area\",\"pixel_area\",\"pixel_area\",\"pixel_area\",\"pixel_area\",\"pixel_area\",\"pixel_area\",\"pixel_area\",\"pixel_area\",\"pixel_area\",\"pixel_area\",\"pixel_area\",\"pixel_area\",\"pixel_area\",\"pixel_area\",\"pixel_area\",\"pixel_area\",\"pixel_area\",\"pixel_area\",\"pixel_area\",\"pixel_area\",\"pixel_area\",\"pixel_area\",\"pixel_area\",\"pixel_area\",\"pixel_area\",\"pixel_area\",\"pixel_area\",\"pixel_area\",\"pixel_area\",\"pixel_area\",\"pixel_area\",\"pixel_area\",\"pixel_area\",\"pixel_area\",\"pixel_area\",\"pixel_area\",\"pixel_area\",\"pixel_area\",\"pixel_area\",\"pixel_area\",\"pixel_area\",\"pixel_area\",\"pixel_area\",\"pixel_area\",\"pixel_area\",\"pixel_area\",\"pixel_area\",\"pixel_area\",\"pixel_area\",\"pixel_area\",\"pixel_area\",\"pixel_area\",\"pixel_area\",\"pixel_area\",\"pixel_area\",\"pixel_area\",\"pixel_area\",\"pixel_area\",\"pixel_area\",\"pixel_area\",\"pixel_area\",\"pixel_area\",\"pixel_area\",\"pixel_area\",\"pixel_area\",\"pixel_area\",\"pixel_area\",\"pixel_area\",\"pixel_area\",\"pixel_area\",\"pixel_area\",\"pixel_area\",\"pixel_area\",\"pixel_area\",\"pixel_area\",\"pixel_area\",\"pixel_area\",\"pixel_area\",\"pixel_area\",\"pixel_area\",\"pixel_area\",\"pixel_area\",\"pixel_area\",\"pixel_area\",\"pixel_area\",\"pixel_area\",\"pixel_area\",\"pixel_area\",\"pixel_area\",\"pixel_area\",\"pixel_area\",\"pixel_area\",\"pixel_area\",\"pixel_area\",\"pixel_area\",\"pixel_area\",\"pixel_area\",\"pixel_area\",\"pixel_area\",\"pixel_area\",\"pixel_area\",\"pixel_area\",\"pixel_area\",\"pixel_area\",\"pixel_area\",\"pixel_area\",\"pixel_area\",\"pixel_area\",\"pixel_area\",\"pixel_area\",\"pixel_area\",\"pixel_area\",\"pixel_area\",\"pixel_area\",\"pixel_area\",\"pixel_area\",\"pixel_area\",\"pixel_area\",\"pixel_area\",\"pixel_area\",\"pixel_area\",\"pixel_area\",\"pixel_area\",\"pixel_area\",\"pixel_area\",\"pixel_area\",\"pixel_area\",\"pixel_area\",\"pixel_area\",\"pixel_area\",\"pixel_area\",\"pixel_area\",\"pixel_area\",\"pixel_area\",\"pixel_area\",\"pixel_area\",\"pixel_area\",\"pixel_area\",\"pixel_area\",\"pixel_area\",\"pixel_area\",\"pixel_area\",\"pixel_area\",\"pixel_area\",\"pixel_area\",\"pixel_area\",\"pixel_area\",\"pixel_area\",\"pixel_area\",\"pixel_area\",\"pixel_area\",\"pixel_area\",\"pixel_area\",\"pixel_area\",\"pixel_area\",\"pixel_area\",\"pixel_area\",\"pixel_area\",\"pixel_area\",\"pixel_area\",\"pixel_area\",\"pixel_area\",\"pixel_area\",\"pixel_area\",\"pixel_area\",\"pixel_area\",\"pixel_area\",\"pixel_area\",\"pixel_area\",\"pixel_area\",\"pixel_area\",\"pixel_area\",\"pixel_area\",\"pixel_area\",\"pixel_area\",\"pixel_area\",\"pixel_area\",\"pixel_area\",\"pixel_area\",\"pixel_area\",\"pixel_area\",\"pixel_area\",\"pixel_area\",\"pixel_area\",\"pixel_area\",\"pixel_area\",\"pixel_area\",\"pixel_area\",\"pixel_area\",\"pixel_area\",\"pixel_area\",\"pixel_area\",\"pixel_area\",\"pixel_area\",\"pixel_area\",\"pixel_area\",\"pixel_area\",\"pixel_area\",\"pixel_area\",\"pixel_area\",\"pixel_area\",\"pixel_area\",\"pixel_area\",\"pixel_area\",\"pixel_area\",\"pixel_area\",\"pixel_area\",\"pixel_area\",\"pixel_area\",\"pixel_area\",\"pixel_area\",\"pixel_area\",\"pixel_area\",\"pixel_area\",\"pixel_area\",\"pixel_area\",\"pixel_area\",\"pixel_area\",\"pixel_area\",\"pixel_area\",\"pixel_area\",\"pixel_area\",\"pixel_area\",\"pixel_area\",\"pixel_area\",\"pixel_area\",\"pixel_area\",\"pixel_area\",\"pixel_area\",\"pixel_area\",\"pixel_area\",\"pixel_area\",\"pixel_area\",\"pixel_area\",\"pixel_area\",\"pixel_area\",\"pixel_area\",\"pixel_area\",\"pixel_area\",\"pixel_area\",\"pixel_area\",\"pixel_area\",\"pixel_area\",\"pixel_area\",\"pixel_area\",\"pixel_area\",\"pixel_area\",\"pixel_area\",\"pixel_area\",\"pixel_area\",\"pixel_area\",\"pixel_area\",\"pixel_area\",\"pixel_area\",\"pixel_area\",\"pixel_area\",\"pixel_area\",\"pixel_area\",\"pixel_area\",\"pixel_area\",\"pixel_area\",\"pixel_area\",\"pixel_area\",\"pixel_area\",\"pixel_area\",\"pixel_area\",\"pixel_area\",\"pixel_area\",\"pixel_area\",\"pixel_area\",\"pixel_area\",\"pixel_area\",\"pixel_area\",\"pixel_area\",\"pixel_area\",\"pixel_area\",\"pixel_area\",\"pixel_area\",\"pixel_area\",\"pixel_area\",\"pixel_area\",\"pixel_area\",\"pixel_area\",\"pixel_area\",\"pixel_area\",\"pixel_area\",\"pixel_area\",\"pixel_area\",\"pixel_area\",\"pixel_area\",\"pixel_area\",\"pixel_area\",\"pixel_area\",\"pixel_area\",\"pixel_area\",\"pixel_area\",\"pixel_area\",\"pixel_area\",\"pixel_area\",\"pixel_area\",\"pixel_area\",\"pixel_area\",\"pixel_area\",\"pixel_area\",\"pixel_area\",\"pixel_area\",\"pixel_area\",\"pixel_area\",\"pixel_area\",\"pixel_area\",\"pixel_area\",\"pixel_area\",\"pixel_area\",\"pixel_area\",\"pixel_area\",\"pixel_area\",\"pixel_area\",\"pixel_area\",\"pixel_area\",\"pixel_area\",\"pixel_area\",\"pixel_area\",\"pixel_area\",\"pixel_area\",\"pixel_area\",\"pixel_area\",\"pixel_area\",\"pixel_area\",\"pixel_area\",\"pixel_area\",\"pixel_area\",\"pixel_area\",\"pixel_area\",\"pixel_area\",\"pixel_area\",\"pixel_area\",\"pixel_area\",\"pixel_area\",\"pixel_area\",\"pixel_area\",\"pixel_area\",\"pixel_area\",\"pixel_area\",\"pixel_area\",\"pixel_area\",\"pixel_area\",\"pixel_area\",\"pixel_area\",\"pixel_area\",\"pixel_area\",\"pixel_area\",\"pixel_area\",\"pixel_area\",\"pixel_area\",\"pixel_area\",\"pixel_area\",\"pixel_area\",\"pixel_area\",\"pixel_area\",\"pixel_area\",\"pixel_area\",\"pixel_area\",\"pixel_area\",\"pixel_area\",\"pixel_area\",\"pixel_area\",\"pixel_area\",\"pixel_area\",\"pixel_area\",\"pixel_area\",\"pixel_area\",\"pixel_area\",\"pixel_area\",\"pixel_area\",\"pixel_area\",\"pixel_area\",\"pixel_area\",\"pixel_area\",\"pixel_area\",\"pixel_area\",\"pixel_area\",\"pixel_area\",\"pixel_area\",\"pixel_area\",\"pixel_area\",\"pixel_area\",\"pixel_area\",\"pixel_area\",\"pixel_area\",\"pixel_area\",\"pixel_area\",\"pixel_area\",\"pixel_area\",\"pixel_area\",\"pixel_area\",\"pixel_area\",\"pixel_area\",\"pixel_area\",\"pixel_area\",\"pixel_area\",\"pixel_area\",\"pixel_area\",\"pixel_area\",\"pixel_area\",\"pixel_area\",\"pixel_area\",\"pixel_area\",\"pixel_area\",\"pixel_area\",\"pixel_area\",\"pixel_area\",\"pixel_area\",\"pixel_area\",\"pixel_area\",\"pixel_area\",\"pixel_area\",\"pixel_area\",\"pixel_area\",\"pixel_area\",\"pixel_area\",\"pixel_area\",\"pixel_area\",\"pixel_area\",\"pixel_area\",\"pixel_area\",\"pixel_area\",\"pixel_area\",\"pixel_area\",\"pixel_area\",\"pixel_area\",\"pixel_area\",\"pixel_area\",\"pixel_area\",\"pixel_area\",\"pixel_area\",\"pixel_area\",\"pixel_area\",\"pixel_area\",\"pixel_area\",\"pixel_area\",\"pixel_area\",\"pixel_area\",\"pixel_area\",\"pixel_area\",\"pixel_area\",\"pixel_area\",\"pixel_area\",\"pixel_area\",\"pixel_area\",\"pixel_area\",\"pixel_area\",\"pixel_area\",\"pixel_area\",\"pixel_area\",\"pixel_area\",\"pixel_area\",\"pixel_area\",\"pixel_area\",\"pixel_area\",\"pixel_area\",\"pixel_area\",\"pixel_area\",\"pixel_area\",\"pixel_area\",\"pixel_area\",\"pixel_area\",\"pixel_area\",\"pixel_area\",\"pixel_area\",\"pixel_area\",\"pixel_area\",\"pixel_area\",\"pixel_area\",\"pixel_area\",\"pixel_area\",\"pixel_area\",\"pixel_area\",\"pixel_area\",\"pixel_area\",\"pixel_area\",\"pixel_area\",\"pixel_area\",\"pixel_area\",\"pixel_area\",\"pixel_area\",\"pixel_area\",\"pixel_area\",\"pixel_area\",\"pixel_area\",\"pixel_area\",\"pixel_area\",\"pixel_area\",\"pixel_area\",\"pixel_area\",\"pixel_area\",\"pixel_area\",\"pixel_area\",\"pixel_area\",\"pixel_area\",\"pixel_area\",\"pixel_area\",\"pixel_area\",\"pixel_area\",\"pixel_area\",\"pixel_area\",\"pixel_area\",\"pixel_area\",\"pixel_area\",\"pixel_area\",\"pixel_area\",\"pixel_area\",\"pixel_area\",\"pixel_area\",\"pixel_area\",\"pixel_area\",\"pixel_area\",\"pixel_area\",\"pixel_area\",\"pixel_area\",\"pixel_area\",\"pixel_area\",\"pixel_area\",\"pixel_area\",\"pixel_area\",\"pixel_area\",\"pixel_area\",\"pixel_area\",\"pixel_area\",\"pixel_area\",\"pixel_area\",\"pixel_area\",\"pixel_area\",\"pixel_area\",\"pixel_area\",\"pixel_area\",\"pixel_area\",\"pixel_area\",\"pixel_area\",\"pixel_area\",\"pixel_area\",\"pixel_area\",\"pixel_area\",\"pixel_area\",\"pixel_area\",\"pixel_area\",\"pixel_area\",\"pixel_area\",\"pixel_area\",\"pixel_area\",\"pixel_area\",\"pixel_area\",\"pixel_area\",\"pixel_area\",\"pixel_area\",\"pixel_area\",\"pixel_area\",\"pixel_area\",\"pixel_area\",\"pixel_area\",\"pixel_area\",\"pixel_area\",\"pixel_area\",\"pixel_area\",\"pixel_area\",\"pixel_area\",\"pixel_area\",\"pixel_area\",\"pixel_area\",\"pixel_area\",\"pixel_area\",\"pixel_area\",\"pixel_area\",\"pixel_area\",\"pixel_area\",\"pixel_area\",\"pixel_area\",\"pixel_area\",\"pixel_area\",\"pixel_area\",\"pixel_area\",\"pixel_area\",\"pixel_area\",\"pixel_area\",\"pixel_area\",\"pixel_area\",\"pixel_area\",\"pixel_area\",\"pixel_area\",\"pixel_area\",\"pixel_area\",\"pixel_area\",\"pixel_area\",\"pixel_area\",\"pixel_area\",\"pixel_area\",\"pixel_area\",\"pixel_area\",\"pixel_area\",\"pixel_area\",\"pixel_area\",\"pixel_area\",\"pixel_area\",\"pixel_area\",\"pixel_area\",\"pixel_area\",\"pixel_area\",\"pixel_area\",\"pixel_area\",\"pixel_area\",\"pixel_area\",\"pixel_area\",\"pixel_area\",\"pixel_area\",\"pixel_area\",\"pixel_area\",\"pixel_area\",\"pixel_area\",\"pixel_area\",\"pixel_area\",\"pixel_area\",\"pixel_area\",\"pixel_area\",\"pixel_area\",\"pixel_area\",\"pixel_area\",\"pixel_area\",\"pixel_area\",\"pixel_area\",\"pixel_area\",\"pixel_area\",\"pixel_area\",\"pixel_area\",\"pixel_area\",\"pixel_area\",\"pixel_area\",\"pixel_area\",\"pixel_area\",\"pixel_area\",\"pixel_area\",\"pixel_area\",\"pixel_area\",\"pixel_area\",\"pixel_area\",\"pixel_area\",\"pixel_area\",\"pixel_area\",\"pixel_area\",\"pixel_area\",\"pixel_area\",\"pixel_area\",\"pixel_area\",\"pixel_area\",\"pixel_area\",\"pixel_area\",\"pixel_area\",\"pixel_area\",\"pixel_area\",\"pixel_area\",\"pixel_area\",\"pixel_area\",\"pixel_area\",\"pixel_area\",\"pixel_area\",\"pixel_area\",\"pixel_area\",\"pixel_area\",\"pixel_area\",\"pixel_area\",\"pixel_area\",\"pixel_area\",\"pixel_area\",\"pixel_area\",\"pixel_area\",\"pixel_area\",\"pixel_area\",\"pixel_area\",\"pixel_area\",\"pixel_area\",\"pixel_area\",\"pixel_area\",\"pixel_area\",\"pixel_area\",\"pixel_area\",\"pixel_area\",\"pixel_area\",\"pixel_area\",\"pixel_area\",\"pixel_area\",\"pixel_area\",\"pixel_area\",\"pixel_area\",\"pixel_area\",\"pixel_area\",\"pixel_area\",\"pixel_area\",\"pixel_area\",\"pixel_area\",\"pixel_area\",\"pixel_area\",\"pixel_area\",\"pixel_area\",\"pixel_area\",\"pixel_area\",\"pixel_area\",\"pixel_area\",\"pixel_area\",\"pixel_area\",\"pixel_area\",\"pixel_area\",\"pixel_area\",\"pixel_area\",\"pixel_area\",\"pixel_area\",\"pixel_area\",\"pixel_area\",\"pixel_area\",\"pixel_area\",\"pixel_area\",\"pixel_area\",\"pixel_area\",\"pixel_area\",\"pixel_area\",\"pixel_area\",\"pixel_area\",\"pixel_area\",\"pixel_area\",\"pixel_area\",\"pixel_area\",\"pixel_area\",\"pixel_area\",\"pixel_area\",\"pixel_area\",\"pixel_area\",\"pixel_area\",\"pixel_area\",\"pixel_area\",\"pixel_area\",\"pixel_area\",\"pixel_area\",\"pixel_area\",\"pixel_area\",\"pixel_area\",\"pixel_area\",\"pixel_area\",\"pixel_area\",\"pixel_area\",\"pixel_area\",\"pixel_area\",\"pixel_area\",\"pixel_area\",\"pixel_area\",\"screen_area\",\"screen_area\",\"screen_area\",\"screen_area\",\"screen_area\",\"screen_area\",\"screen_area\",\"screen_area\",\"screen_area\",\"screen_area\",\"screen_area\",\"screen_area\",\"screen_area\",\"screen_area\",\"screen_area\",\"screen_area\",\"screen_area\",\"screen_area\",\"screen_area\",\"screen_area\",\"screen_area\",\"screen_area\",\"screen_area\",\"screen_area\",\"screen_area\",\"screen_area\",\"screen_area\",\"screen_area\",\"screen_area\",\"screen_area\",\"screen_area\",\"screen_area\",\"screen_area\",\"screen_area\",\"screen_area\",\"screen_area\",\"screen_area\",\"screen_area\",\"screen_area\",\"screen_area\",\"screen_area\",\"screen_area\",\"screen_area\",\"screen_area\",\"screen_area\",\"screen_area\",\"screen_area\",\"screen_area\",\"screen_area\",\"screen_area\",\"screen_area\",\"screen_area\",\"screen_area\",\"screen_area\",\"screen_area\",\"screen_area\",\"screen_area\",\"screen_area\",\"screen_area\",\"screen_area\",\"screen_area\",\"screen_area\",\"screen_area\",\"screen_area\",\"screen_area\",\"screen_area\",\"screen_area\",\"screen_area\",\"screen_area\",\"screen_area\",\"screen_area\",\"screen_area\",\"screen_area\",\"screen_area\",\"screen_area\",\"screen_area\",\"screen_area\",\"screen_area\",\"screen_area\",\"screen_area\",\"screen_area\",\"screen_area\",\"screen_area\",\"screen_area\",\"screen_area\",\"screen_area\",\"screen_area\",\"screen_area\",\"screen_area\",\"screen_area\",\"screen_area\",\"screen_area\",\"screen_area\",\"screen_area\",\"screen_area\",\"screen_area\",\"screen_area\",\"screen_area\",\"screen_area\",\"screen_area\",\"screen_area\",\"screen_area\",\"screen_area\",\"screen_area\",\"screen_area\",\"screen_area\",\"screen_area\",\"screen_area\",\"screen_area\",\"screen_area\",\"screen_area\",\"screen_area\",\"screen_area\",\"screen_area\",\"screen_area\",\"screen_area\",\"screen_area\",\"screen_area\",\"screen_area\",\"screen_area\",\"screen_area\",\"screen_area\",\"screen_area\",\"screen_area\",\"screen_area\",\"screen_area\",\"screen_area\",\"screen_area\",\"screen_area\",\"screen_area\",\"screen_area\",\"screen_area\",\"screen_area\",\"screen_area\",\"screen_area\",\"screen_area\",\"screen_area\",\"screen_area\",\"screen_area\",\"screen_area\",\"screen_area\",\"screen_area\",\"screen_area\",\"screen_area\",\"screen_area\",\"screen_area\",\"screen_area\",\"screen_area\",\"screen_area\",\"screen_area\",\"screen_area\",\"screen_area\",\"screen_area\",\"screen_area\",\"screen_area\",\"screen_area\",\"screen_area\",\"screen_area\",\"screen_area\",\"screen_area\",\"screen_area\",\"screen_area\",\"screen_area\",\"screen_area\",\"screen_area\",\"screen_area\",\"screen_area\",\"screen_area\",\"screen_area\",\"screen_area\",\"screen_area\",\"screen_area\",\"screen_area\",\"screen_area\",\"screen_area\",\"screen_area\",\"screen_area\",\"screen_area\",\"screen_area\",\"screen_area\",\"screen_area\",\"screen_area\",\"screen_area\",\"screen_area\",\"screen_area\",\"screen_area\",\"screen_area\",\"screen_area\",\"screen_area\",\"screen_area\",\"screen_area\",\"screen_area\",\"screen_area\",\"screen_area\",\"screen_area\",\"screen_area\",\"screen_area\",\"screen_area\",\"screen_area\",\"screen_area\",\"screen_area\",\"screen_area\",\"screen_area\",\"screen_area\",\"screen_area\",\"screen_area\",\"screen_area\",\"screen_area\",\"screen_area\",\"screen_area\",\"screen_area\",\"screen_area\",\"screen_area\",\"screen_area\",\"screen_area\",\"screen_area\",\"screen_area\",\"screen_area\",\"screen_area\",\"screen_area\",\"screen_area\",\"screen_area\",\"screen_area\",\"screen_area\",\"screen_area\",\"screen_area\",\"screen_area\",\"screen_area\",\"screen_area\",\"screen_area\",\"screen_area\",\"screen_area\",\"screen_area\",\"screen_area\",\"screen_area\",\"screen_area\",\"screen_area\",\"screen_area\",\"screen_area\",\"screen_area\",\"screen_area\",\"screen_area\",\"screen_area\",\"screen_area\",\"screen_area\",\"screen_area\",\"screen_area\",\"screen_area\",\"screen_area\",\"screen_area\",\"screen_area\",\"screen_area\",\"screen_area\",\"screen_area\",\"screen_area\",\"screen_area\",\"screen_area\",\"screen_area\",\"screen_area\",\"screen_area\",\"screen_area\",\"screen_area\",\"screen_area\",\"screen_area\",\"screen_area\",\"screen_area\",\"screen_area\",\"screen_area\",\"screen_area\",\"screen_area\",\"screen_area\",\"screen_area\",\"screen_area\",\"screen_area\",\"screen_area\",\"screen_area\",\"screen_area\",\"screen_area\",\"screen_area\",\"screen_area\",\"screen_area\",\"screen_area\",\"screen_area\",\"screen_area\",\"screen_area\",\"screen_area\",\"screen_area\",\"screen_area\",\"screen_area\",\"screen_area\",\"screen_area\",\"screen_area\",\"screen_area\",\"screen_area\",\"screen_area\",\"screen_area\",\"screen_area\",\"screen_area\",\"screen_area\",\"screen_area\",\"screen_area\",\"screen_area\",\"screen_area\",\"screen_area\",\"screen_area\",\"screen_area\",\"screen_area\",\"screen_area\",\"screen_area\",\"screen_area\",\"screen_area\",\"screen_area\",\"screen_area\",\"screen_area\",\"screen_area\",\"screen_area\",\"screen_area\",\"screen_area\",\"screen_area\",\"screen_area\",\"screen_area\",\"screen_area\",\"screen_area\",\"screen_area\",\"screen_area\",\"screen_area\",\"screen_area\",\"screen_area\",\"screen_area\",\"screen_area\",\"screen_area\",\"screen_area\",\"screen_area\",\"screen_area\",\"screen_area\",\"screen_area\",\"screen_area\",\"screen_area\",\"screen_area\",\"screen_area\",\"screen_area\",\"screen_area\",\"screen_area\",\"screen_area\",\"screen_area\",\"screen_area\",\"screen_area\",\"screen_area\",\"screen_area\",\"screen_area\",\"screen_area\",\"screen_area\",\"screen_area\",\"screen_area\",\"screen_area\",\"screen_area\",\"screen_area\",\"screen_area\",\"screen_area\",\"screen_area\",\"screen_area\",\"screen_area\",\"screen_area\",\"screen_area\",\"screen_area\",\"screen_area\",\"screen_area\",\"screen_area\",\"screen_area\",\"screen_area\",\"screen_area\",\"screen_area\",\"screen_area\",\"screen_area\",\"screen_area\",\"screen_area\",\"screen_area\",\"screen_area\",\"screen_area\",\"screen_area\",\"screen_area\",\"screen_area\",\"screen_area\",\"screen_area\",\"screen_area\",\"screen_area\",\"screen_area\",\"screen_area\",\"screen_area\",\"screen_area\",\"screen_area\",\"screen_area\",\"screen_area\",\"screen_area\",\"screen_area\",\"screen_area\",\"screen_area\",\"screen_area\",\"screen_area\",\"screen_area\",\"screen_area\",\"screen_area\",\"screen_area\",\"screen_area\",\"screen_area\",\"screen_area\",\"screen_area\",\"screen_area\",\"screen_area\",\"screen_area\",\"screen_area\",\"screen_area\",\"screen_area\",\"screen_area\",\"screen_area\",\"screen_area\",\"screen_area\",\"screen_area\",\"screen_area\",\"screen_area\",\"screen_area\",\"screen_area\",\"screen_area\",\"screen_area\",\"screen_area\",\"screen_area\",\"screen_area\",\"screen_area\",\"screen_area\",\"screen_area\",\"screen_area\",\"screen_area\",\"screen_area\",\"screen_area\",\"screen_area\",\"screen_area\",\"screen_area\",\"screen_area\",\"screen_area\",\"screen_area\",\"screen_area\",\"screen_area\",\"screen_area\",\"screen_area\",\"screen_area\",\"screen_area\",\"screen_area\",\"screen_area\",\"screen_area\",\"screen_area\",\"screen_area\",\"screen_area\",\"screen_area\",\"screen_area\",\"screen_area\",\"screen_area\",\"screen_area\",\"screen_area\",\"screen_area\",\"screen_area\",\"screen_area\",\"screen_area\",\"screen_area\",\"screen_area\",\"screen_area\",\"screen_area\",\"screen_area\",\"screen_area\",\"screen_area\",\"screen_area\",\"screen_area\",\"screen_area\",\"screen_area\",\"screen_area\",\"screen_area\",\"screen_area\",\"screen_area\",\"screen_area\",\"screen_area\",\"screen_area\",\"screen_area\",\"screen_area\",\"screen_area\",\"screen_area\",\"screen_area\",\"screen_area\",\"screen_area\",\"screen_area\",\"screen_area\",\"screen_area\",\"screen_area\",\"screen_area\",\"screen_area\",\"screen_area\",\"screen_area\",\"screen_area\",\"screen_area\",\"screen_area\",\"screen_area\",\"screen_area\",\"screen_area\",\"screen_area\",\"screen_area\",\"screen_area\",\"screen_area\",\"screen_area\",\"screen_area\",\"screen_area\",\"screen_area\",\"screen_area\",\"screen_area\",\"screen_area\",\"screen_area\",\"screen_area\",\"screen_area\",\"screen_area\",\"screen_area\",\"screen_area\",\"screen_area\",\"screen_area\",\"screen_area\",\"screen_area\",\"screen_area\",\"screen_area\",\"screen_area\",\"screen_area\",\"screen_area\",\"screen_area\",\"screen_area\",\"screen_area\",\"screen_area\",\"screen_area\",\"screen_area\",\"screen_area\",\"screen_area\",\"screen_area\",\"screen_area\",\"screen_area\",\"screen_area\",\"screen_area\",\"screen_area\",\"screen_area\",\"screen_area\",\"screen_area\",\"screen_area\",\"screen_area\",\"screen_area\",\"screen_area\",\"screen_area\",\"screen_area\",\"screen_area\",\"screen_area\",\"screen_area\",\"screen_area\",\"screen_area\",\"screen_area\",\"screen_area\",\"screen_area\",\"screen_area\",\"screen_area\",\"screen_area\",\"screen_area\",\"screen_area\",\"screen_area\",\"screen_area\",\"screen_area\",\"screen_area\",\"screen_area\",\"screen_area\",\"screen_area\",\"screen_area\",\"screen_area\",\"screen_area\",\"screen_area\",\"screen_area\",\"screen_area\",\"screen_area\",\"screen_area\",\"screen_area\",\"screen_area\",\"screen_area\",\"screen_area\",\"screen_area\",\"screen_area\",\"screen_area\",\"screen_area\",\"screen_area\",\"screen_area\",\"screen_area\",\"screen_area\",\"screen_area\",\"screen_area\",\"screen_area\",\"screen_area\",\"screen_area\",\"screen_area\",\"screen_area\",\"screen_area\",\"screen_area\",\"screen_area\",\"screen_area\",\"screen_area\",\"screen_area\",\"screen_area\",\"screen_area\",\"screen_area\",\"screen_area\",\"screen_area\",\"screen_area\",\"screen_area\",\"screen_area\",\"screen_area\",\"screen_area\",\"screen_area\",\"screen_area\",\"screen_area\",\"screen_area\",\"screen_area\",\"screen_area\",\"screen_area\",\"screen_area\",\"screen_area\",\"screen_area\",\"screen_area\",\"screen_area\",\"screen_area\",\"screen_area\",\"screen_area\",\"screen_area\",\"screen_area\",\"screen_area\",\"screen_area\",\"screen_area\",\"screen_area\",\"screen_area\",\"screen_area\",\"screen_area\",\"screen_area\",\"screen_area\",\"screen_area\",\"screen_area\",\"screen_area\",\"screen_area\",\"screen_area\",\"screen_area\",\"screen_area\",\"screen_area\",\"screen_area\",\"screen_area\",\"screen_area\",\"screen_area\",\"screen_area\",\"screen_area\",\"screen_area\",\"screen_area\",\"screen_area\",\"screen_area\",\"screen_area\",\"screen_area\",\"screen_area\",\"screen_area\",\"screen_area\",\"screen_area\",\"screen_area\",\"screen_area\",\"screen_area\",\"screen_area\",\"screen_area\",\"screen_area\",\"screen_area\",\"screen_area\",\"screen_area\",\"screen_area\",\"screen_area\",\"screen_area\",\"screen_area\",\"screen_area\",\"screen_area\",\"screen_area\",\"screen_area\",\"screen_area\",\"screen_area\",\"screen_area\",\"screen_area\",\"screen_area\",\"screen_area\",\"screen_area\",\"screen_area\",\"screen_area\",\"screen_area\",\"screen_area\",\"screen_area\",\"screen_area\",\"screen_area\",\"screen_area\",\"screen_area\",\"screen_area\",\"screen_area\",\"screen_area\",\"screen_area\",\"screen_area\",\"screen_area\",\"screen_area\",\"screen_area\",\"screen_area\",\"screen_area\",\"screen_area\",\"screen_area\",\"screen_area\",\"screen_area\",\"screen_area\",\"screen_area\",\"screen_area\",\"screen_area\",\"screen_area\",\"screen_area\",\"screen_area\",\"screen_area\",\"screen_area\",\"screen_area\",\"screen_area\",\"screen_area\",\"screen_area\",\"screen_area\",\"screen_area\",\"screen_area\",\"screen_area\",\"screen_area\",\"screen_area\",\"screen_area\",\"screen_area\",\"screen_area\",\"screen_area\",\"screen_area\",\"screen_area\",\"screen_area\",\"screen_area\",\"screen_area\",\"screen_area\",\"screen_area\",\"screen_area\",\"screen_area\",\"screen_area\",\"screen_area\",\"screen_area\",\"screen_area\",\"screen_area\",\"screen_area\",\"screen_area\",\"screen_area\",\"screen_area\",\"screen_area\",\"screen_area\",\"screen_area\",\"screen_area\",\"screen_area\",\"screen_area\",\"screen_area\",\"screen_area\",\"screen_area\",\"screen_area\",\"screen_area\",\"screen_area\",\"screen_area\",\"screen_area\",\"screen_area\",\"screen_area\",\"screen_area\",\"screen_area\",\"screen_area\",\"screen_area\",\"screen_area\",\"screen_area\",\"screen_area\",\"screen_area\",\"screen_area\",\"screen_area\",\"screen_area\",\"screen_area\",\"screen_area\",\"screen_area\",\"screen_area\",\"screen_area\",\"screen_area\",\"screen_area\",\"screen_area\",\"screen_area\",\"screen_area\",\"screen_area\",\"screen_area\",\"screen_area\",\"screen_area\",\"screen_area\",\"screen_area\",\"screen_area\",\"screen_area\",\"screen_area\",\"screen_area\",\"screen_area\",\"screen_area\",\"screen_area\",\"screen_area\",\"screen_area\",\"screen_area\",\"screen_area\",\"screen_area\",\"screen_area\",\"screen_area\",\"screen_area\",\"screen_area\",\"screen_area\",\"screen_area\",\"screen_area\",\"screen_area\",\"screen_area\",\"screen_area\",\"screen_area\",\"screen_area\",\"screen_area\",\"screen_area\",\"screen_area\",\"screen_area\",\"screen_area\",\"screen_area\",\"screen_area\",\"screen_area\",\"screen_area\",\"screen_area\",\"screen_area\",\"screen_area\",\"screen_area\",\"screen_area\",\"screen_area\",\"screen_area\",\"screen_area\",\"screen_area\",\"screen_area\",\"screen_area\",\"screen_area\",\"screen_area\",\"screen_area\",\"screen_area\",\"screen_area\",\"screen_area\",\"screen_area\",\"screen_area\",\"screen_area\",\"screen_area\",\"screen_area\",\"screen_area\",\"screen_area\",\"screen_area\",\"screen_area\",\"screen_area\",\"screen_area\",\"screen_area\",\"screen_area\",\"screen_area\",\"screen_area\",\"screen_area\",\"screen_area\",\"screen_area\",\"screen_area\",\"screen_area\",\"screen_area\",\"screen_area\",\"screen_area\",\"screen_area\",\"screen_area\",\"screen_area\",\"screen_area\",\"screen_area\",\"screen_area\",\"screen_area\",\"screen_area\",\"screen_area\",\"screen_area\",\"screen_area\",\"screen_area\",\"screen_area\",\"screen_area\",\"screen_area\",\"screen_area\",\"screen_area\",\"screen_area\",\"screen_area\",\"screen_area\",\"screen_area\",\"screen_area\",\"screen_area\",\"screen_area\",\"screen_area\",\"screen_area\",\"screen_area\",\"screen_area\",\"screen_area\",\"screen_area\",\"screen_area\",\"screen_area\",\"screen_area\",\"screen_area\",\"screen_area\",\"screen_area\",\"screen_area\",\"screen_area\",\"screen_area\",\"screen_area\",\"screen_area\",\"screen_area\",\"screen_area\",\"screen_area\",\"screen_area\",\"screen_area\",\"screen_area\",\"screen_area\",\"screen_area\",\"screen_area\",\"screen_area\",\"screen_area\",\"screen_area\",\"screen_area\",\"screen_area\",\"screen_area\",\"screen_area\",\"screen_area\",\"screen_area\",\"screen_area\",\"screen_area\",\"screen_area\",\"screen_area\",\"screen_area\",\"screen_area\",\"screen_area\",\"screen_area\",\"screen_area\",\"screen_area\",\"screen_area\",\"screen_area\",\"screen_area\",\"screen_area\",\"screen_area\",\"screen_area\",\"screen_area\",\"screen_area\",\"screen_area\",\"screen_area\",\"screen_area\",\"screen_area\",\"screen_area\",\"screen_area\",\"screen_area\",\"screen_area\",\"screen_area\",\"screen_area\",\"screen_area\",\"screen_area\",\"screen_area\",\"screen_area\",\"screen_area\",\"screen_area\",\"screen_area\",\"screen_area\",\"screen_area\",\"screen_area\",\"screen_area\",\"screen_area\",\"screen_area\",\"screen_area\",\"screen_area\",\"screen_area\",\"screen_area\",\"screen_area\",\"screen_area\",\"screen_area\",\"screen_area\",\"screen_area\",\"screen_area\",\"screen_area\",\"screen_area\",\"screen_area\",\"screen_area\",\"screen_area\",\"screen_area\",\"screen_area\",\"screen_area\",\"screen_area\",\"screen_area\",\"screen_area\",\"screen_area\",\"screen_area\",\"screen_area\",\"screen_area\",\"screen_area\",\"screen_area\",\"screen_area\",\"screen_area\",\"screen_area\",\"screen_area\",\"screen_area\",\"screen_area\",\"screen_area\",\"screen_area\",\"screen_area\",\"screen_area\",\"screen_area\",\"screen_area\",\"screen_area\",\"screen_area\",\"screen_area\",\"screen_area\",\"screen_area\",\"screen_area\",\"screen_area\",\"screen_area\",\"screen_area\",\"screen_area\",\"screen_area\",\"screen_area\",\"screen_area\",\"screen_area\",\"screen_area\",\"screen_area\",\"screen_area\",\"screen_area\",\"screen_area\",\"screen_area\",\"screen_area\",\"screen_area\",\"screen_area\",\"screen_area\",\"screen_area\",\"screen_area\",\"screen_area\",\"screen_area\",\"screen_area\",\"screen_area\",\"screen_area\",\"screen_area\",\"screen_area\",\"screen_area\",\"screen_area\",\"screen_area\",\"screen_area\",\"screen_area\",\"screen_area\",\"screen_area\",\"screen_area\",\"screen_area\",\"screen_area\",\"screen_area\",\"screen_area\",\"screen_area\",\"screen_area\",\"screen_area\",\"screen_area\",\"screen_area\",\"screen_area\",\"screen_area\",\"screen_area\",\"screen_area\",\"screen_area\",\"screen_area\",\"screen_area\",\"screen_area\",\"screen_area\",\"screen_area\",\"screen_area\",\"screen_area\",\"screen_area\",\"screen_area\",\"screen_area\",\"screen_area\",\"screen_area\",\"screen_area\",\"screen_area\",\"screen_area\",\"screen_area\",\"screen_area\",\"screen_area\",\"screen_area\",\"screen_area\",\"screen_area\",\"screen_area\",\"screen_area\",\"screen_area\",\"screen_area\",\"screen_area\",\"screen_area\",\"screen_area\",\"screen_area\",\"screen_area\",\"screen_area\",\"screen_area\",\"screen_area\",\"screen_area\",\"screen_area\",\"screen_area\",\"screen_area\",\"screen_area\",\"screen_area\",\"screen_area\",\"screen_area\",\"screen_area\",\"screen_area\",\"screen_area\",\"screen_area\",\"screen_area\",\"screen_area\",\"screen_area\",\"screen_area\",\"screen_area\",\"screen_area\",\"screen_area\",\"screen_area\",\"screen_area\",\"screen_area\",\"screen_area\",\"screen_area\",\"screen_area\",\"screen_area\",\"screen_area\",\"screen_area\",\"screen_area\",\"screen_area\",\"screen_area\",\"screen_area\",\"screen_area\",\"screen_area\",\"screen_area\",\"screen_area\",\"screen_area\",\"screen_area\",\"screen_area\",\"screen_area\",\"screen_area\",\"screen_area\",\"screen_area\",\"screen_area\",\"screen_area\",\"screen_area\",\"screen_area\",\"screen_area\",\"screen_area\",\"screen_area\",\"screen_area\",\"screen_area\",\"screen_area\",\"screen_area\",\"screen_area\",\"screen_area\",\"screen_area\",\"screen_area\",\"screen_area\",\"screen_area\",\"screen_area\",\"screen_area\",\"screen_area\",\"screen_area\",\"screen_area\",\"screen_area\",\"screen_area\",\"screen_area\",\"screen_area\",\"screen_area\",\"screen_area\",\"screen_area\",\"screen_area\",\"screen_area\",\"screen_area\",\"screen_area\",\"screen_area\",\"screen_area\",\"screen_area\",\"screen_area\",\"screen_area\",\"screen_area\",\"screen_area\",\"screen_area\",\"screen_area\",\"screen_area\",\"screen_area\",\"screen_area\",\"screen_area\",\"screen_area\",\"screen_area\",\"screen_area\",\"screen_area\",\"screen_area\",\"screen_area\",\"screen_area\",\"screen_area\",\"screen_area\",\"screen_area\",\"screen_area\",\"screen_area\",\"screen_area\",\"screen_area\",\"screen_area\",\"screen_area\",\"screen_area\",\"screen_area\",\"screen_area\",\"screen_area\",\"screen_area\",\"screen_area\",\"screen_area\",\"screen_area\",\"screen_area\",\"screen_area\",\"screen_area\",\"screen_area\",\"screen_area\",\"screen_area\",\"screen_area\",\"screen_area\",\"screen_area\",\"screen_area\",\"screen_area\",\"screen_area\",\"screen_area\",\"screen_area\",\"screen_area\",\"screen_area\",\"screen_area\",\"screen_area\",\"screen_area\",\"screen_area\",\"screen_area\",\"screen_area\",\"screen_area\",\"screen_area\",\"screen_area\",\"screen_area\",\"screen_area\",\"screen_area\",\"screen_area\",\"screen_area\",\"screen_area\",\"screen_area\",\"screen_area\",\"screen_area\",\"screen_area\",\"screen_area\",\"screen_area\",\"screen_area\",\"screen_area\",\"screen_area\",\"screen_area\",\"screen_area\",\"screen_area\",\"screen_area\",\"screen_area\",\"screen_area\",\"screen_area\",\"screen_area\",\"screen_area\",\"screen_area\",\"screen_area\",\"screen_area\",\"screen_area\",\"screen_area\",\"screen_area\",\"screen_area\",\"screen_area\",\"screen_area\",\"screen_area\",\"screen_area\",\"screen_area\",\"screen_area\",\"screen_area\",\"screen_area\",\"screen_area\",\"screen_area\",\"screen_area\",\"screen_area\",\"screen_area\",\"screen_area\",\"screen_area\",\"screen_area\",\"screen_area\",\"screen_area\",\"screen_area\",\"screen_area\",\"screen_area\",\"screen_area\",\"screen_area\",\"screen_area\",\"screen_area\",\"screen_area\",\"screen_area\",\"screen_area\",\"screen_area\",\"screen_area\",\"screen_area\",\"screen_area\",\"screen_area\",\"screen_area\",\"screen_area\",\"screen_area\",\"screen_area\",\"screen_area\",\"screen_area\",\"screen_area\",\"screen_area\",\"screen_area\",\"screen_area\",\"screen_area\",\"screen_area\",\"screen_area\",\"screen_area\",\"screen_area\",\"screen_area\",\"screen_area\",\"screen_area\",\"screen_area\",\"screen_area\",\"screen_area\",\"screen_area\",\"screen_area\",\"screen_area\",\"screen_area\",\"screen_area\",\"screen_area\",\"screen_area\",\"screen_area\",\"screen_area\",\"screen_area\",\"screen_area\",\"screen_area\",\"screen_area\",\"screen_area\",\"screen_area\",\"screen_area\",\"screen_area\",\"screen_area\",\"screen_area\",\"screen_area\",\"screen_area\",\"screen_area\",\"screen_area\",\"screen_area\",\"screen_area\",\"screen_area\",\"screen_area\",\"screen_area\",\"screen_area\",\"screen_area\",\"screen_area\",\"screen_area\",\"screen_area\",\"screen_area\",\"screen_area\",\"screen_area\",\"screen_area\",\"screen_area\",\"screen_area\",\"screen_area\",\"screen_area\",\"screen_area\",\"screen_area\",\"screen_area\",\"screen_area\",\"screen_area\",\"screen_area\",\"screen_area\",\"screen_area\",\"screen_area\",\"screen_area\",\"screen_area\",\"screen_area\",\"screen_area\",\"screen_area\",\"screen_area\",\"screen_area\",\"screen_area\",\"screen_area\",\"screen_area\",\"screen_area\",\"screen_area\",\"screen_area\",\"screen_area\",\"screen_area\",\"screen_area\",\"screen_area\",\"screen_area\",\"screen_area\",\"screen_area\",\"screen_area\",\"screen_area\",\"screen_area\",\"screen_area\",\"screen_area\",\"screen_area\",\"screen_area\",\"screen_area\",\"screen_area\",\"screen_area\",\"screen_area\",\"screen_area\",\"screen_area\",\"screen_area\",\"screen_area\",\"screen_area\",\"screen_area\",\"screen_area\",\"screen_area\",\"screen_area\",\"screen_area\",\"screen_area\",\"screen_area\",\"screen_area\",\"screen_area\",\"screen_area\",\"screen_area\",\"screen_area\",\"screen_area\",\"screen_area\",\"screen_area\",\"screen_area\",\"screen_area\",\"screen_area\",\"screen_area\",\"screen_area\",\"screen_area\",\"screen_area\",\"screen_area\",\"screen_area\",\"screen_area\",\"screen_area\",\"screen_area\",\"screen_area\",\"screen_area\",\"screen_area\",\"screen_area\",\"screen_area\",\"screen_area\",\"screen_area\",\"screen_area\",\"screen_area\",\"screen_area\",\"screen_area\",\"screen_area\",\"screen_area\",\"screen_area\",\"screen_area\",\"screen_area\",\"screen_area\",\"screen_area\",\"screen_area\",\"screen_area\",\"screen_area\",\"screen_area\",\"screen_area\",\"screen_area\",\"screen_area\",\"screen_area\",\"screen_area\",\"screen_area\",\"screen_area\",\"screen_area\",\"screen_area\",\"screen_area\",\"screen_area\",\"screen_area\",\"screen_area\",\"screen_area\",\"screen_area\",\"screen_area\",\"screen_area\",\"screen_area\",\"screen_area\",\"screen_area\",\"screen_area\",\"screen_area\",\"screen_area\",\"screen_area\",\"screen_area\",\"screen_area\",\"screen_area\",\"screen_area\",\"screen_area\",\"screen_area\",\"screen_area\",\"screen_area\",\"screen_area\",\"screen_area\",\"screen_area\",\"screen_area\",\"screen_area\",\"screen_area\",\"screen_area\",\"screen_area\",\"screen_area\",\"screen_area\",\"screen_area\",\"screen_area\",\"screen_area\",\"screen_area\",\"screen_area\",\"screen_area\",\"screen_area\",\"screen_area\",\"screen_area\",\"screen_area\",\"screen_area\",\"screen_area\",\"screen_area\",\"screen_area\",\"screen_area\",\"screen_area\",\"screen_area\",\"screen_area\",\"screen_area\",\"screen_area\",\"screen_area\",\"screen_area\",\"screen_area\",\"screen_area\",\"screen_area\",\"screen_area\",\"screen_area\",\"screen_area\",\"screen_area\",\"screen_area\",\"screen_area\",\"screen_area\",\"screen_area\",\"screen_area\",\"screen_area\",\"screen_area\",\"screen_area\",\"screen_area\",\"screen_area\",\"screen_area\",\"screen_area\",\"screen_area\",\"screen_area\",\"screen_area\",\"screen_area\",\"screen_area\",\"screen_area\",\"screen_area\",\"screen_area\",\"screen_area\",\"screen_area\",\"screen_area\",\"screen_area\",\"screen_area\",\"screen_area\",\"screen_area\",\"screen_area\",\"screen_area\",\"screen_area\",\"screen_area\",\"screen_area\",\"screen_area\",\"screen_area\",\"screen_area\",\"screen_area\",\"screen_area\",\"screen_area\",\"screen_area\",\"screen_area\",\"screen_area\",\"screen_area\",\"screen_area\",\"screen_area\",\"screen_area\",\"screen_area\",\"screen_area\",\"screen_area\",\"screen_area\",\"screen_area\",\"screen_area\",\"screen_area\",\"screen_area\",\"screen_area\",\"screen_area\",\"screen_area\",\"screen_area\",\"screen_area\",\"screen_area\",\"screen_area\",\"screen_area\",\"screen_area\",\"screen_area\",\"screen_area\",\"screen_area\",\"screen_area\",\"screen_area\",\"screen_area\",\"screen_area\",\"screen_area\",\"screen_area\",\"screen_area\",\"screen_area\",\"screen_area\",\"screen_area\",\"screen_area\",\"screen_area\",\"screen_area\",\"screen_area\",\"screen_area\",\"screen_area\",\"screen_area\",\"screen_area\",\"screen_area\",\"screen_area\",\"screen_area\",\"screen_area\",\"screen_area\",\"screen_area\",\"screen_area\",\"screen_area\",\"screen_area\",\"screen_area\",\"screen_area\",\"screen_area\",\"screen_area\",\"screen_area\",\"screen_area\",\"screen_area\",\"screen_area\",\"screen_area\",\"screen_area\",\"screen_area\",\"screen_area\",\"screen_area\",\"screen_area\",\"screen_area\",\"screen_area\",\"screen_area\",\"screen_area\",\"screen_area\",\"screen_area\",\"screen_area\",\"screen_area\",\"screen_area\",\"screen_area\",\"screen_area\",\"screen_area\",\"screen_area\",\"screen_area\",\"screen_area\",\"screen_area\",\"screen_area\",\"screen_area\",\"screen_area\",\"screen_area\",\"screen_area\",\"screen_area\",\"screen_area\",\"screen_area\",\"screen_area\",\"screen_area\",\"screen_area\",\"screen_area\",\"screen_area\",\"screen_area\",\"screen_area\",\"screen_area\",\"screen_area\",\"screen_area\",\"screen_area\",\"screen_area\",\"screen_area\",\"screen_area\",\"screen_area\",\"screen_area\",\"screen_area\",\"screen_area\",\"screen_area\",\"screen_area\",\"screen_area\",\"screen_area\",\"screen_area\",\"screen_area\",\"screen_area\",\"screen_area\",\"screen_area\",\"screen_area\",\"screen_area\",\"screen_area\",\"screen_area\",\"screen_area\",\"screen_area\",\"screen_area\",\"screen_area\",\"screen_area\",\"screen_area\",\"screen_area\",\"screen_area\",\"screen_area\",\"screen_area\",\"screen_area\",\"screen_area\",\"screen_area\",\"screen_area\",\"screen_area\",\"screen_area\",\"screen_area\",\"screen_area\",\"screen_area\",\"screen_area\",\"screen_area\",\"screen_area\",\"screen_area\",\"screen_area\",\"screen_area\",\"screen_area\",\"screen_area\",\"screen_area\",\"screen_area\",\"screen_area\",\"screen_area\",\"screen_area\",\"screen_area\",\"screen_area\",\"screen_area\",\"screen_area\",\"screen_area\",\"screen_area\",\"screen_area\",\"screen_area\",\"screen_area\",\"screen_area\",\"screen_area\",\"screen_area\",\"screen_area\",\"screen_area\",\"screen_area\",\"screen_area\",\"screen_area\",\"screen_area\",\"screen_area\",\"screen_area\",\"screen_area\",\"screen_area\",\"screen_area\",\"screen_area\",\"screen_area\",\"screen_area\",\"screen_area\",\"screen_area\",\"screen_area\",\"screen_area\",\"screen_area\",\"screen_area\",\"screen_area\",\"screen_area\",\"screen_area\",\"screen_area\",\"screen_area\",\"screen_area\",\"screen_area\",\"screen_area\",\"screen_area\",\"screen_area\",\"screen_area\",\"screen_area\",\"screen_area\",\"screen_area\",\"screen_area\",\"screen_area\",\"screen_area\",\"screen_area\",\"screen_area\",\"screen_area\",\"screen_area\",\"screen_area\",\"screen_area\",\"screen_area\",\"screen_area\",\"screen_area\",\"screen_area\",\"screen_area\",\"screen_area\",\"screen_area\",\"screen_area\",\"screen_area\",\"screen_area\",\"screen_area\",\"screen_area\",\"screen_area\",\"screen_area\",\"screen_area\",\"screen_area\",\"screen_area\",\"screen_area\",\"screen_area\",\"screen_area\",\"screen_area\",\"screen_area\",\"screen_area\",\"screen_area\",\"screen_area\",\"screen_area\",\"screen_area\",\"screen_area\",\"screen_area\",\"screen_area\",\"screen_area\",\"screen_area\",\"screen_area\",\"screen_area\",\"screen_area\",\"screen_area\",\"screen_area\",\"screen_area\",\"screen_area\",\"screen_area\",\"screen_area\",\"screen_area\",\"screen_area\",\"screen_area\",\"screen_area\",\"screen_area\",\"screen_area\",\"screen_area\",\"screen_area\",\"screen_area\",\"screen_area\",\"screen_area\",\"screen_area\",\"screen_area\",\"screen_area\",\"screen_area\",\"screen_area\",\"screen_area\",\"screen_area\",\"screen_area\",\"screen_area\",\"screen_area\",\"screen_area\",\"screen_area\",\"screen_area\",\"screen_area\",\"screen_area\",\"screen_area\",\"screen_area\",\"screen_area\",\"screen_area\",\"screen_area\",\"screen_area\",\"screen_area\",\"screen_area\",\"screen_area\",\"screen_area\",\"screen_area\",\"screen_area\",\"screen_area\",\"screen_area\",\"screen_area\",\"screen_area\",\"screen_area\",\"screen_area\",\"screen_area\",\"screen_area\",\"screen_area\",\"screen_area\",\"screen_area\",\"screen_area\",\"screen_area\",\"screen_area\",\"screen_area\",\"screen_area\",\"screen_area\",\"screen_area\",\"screen_area\",\"screen_area\",\"screen_area\",\"screen_area\",\"screen_area\",\"screen_area\",\"screen_area\",\"screen_area\",\"screen_area\",\"screen_area\",\"screen_area\",\"screen_area\",\"screen_area\",\"screen_area\",\"screen_area\",\"screen_area\",\"screen_area\",\"screen_area\",\"screen_area\",\"screen_area\",\"screen_area\",\"screen_area\",\"screen_area\",\"screen_area\",\"screen_area\",\"screen_area\",\"screen_area\",\"screen_area\",\"screen_area\",\"screen_area\",\"screen_area\",\"screen_area\",\"screen_area\",\"screen_area\",\"screen_area\",\"screen_area\",\"screen_area\",\"screen_area\",\"screen_area\",\"screen_area\",\"screen_area\",\"screen_area\",\"screen_area\",\"screen_area\",\"screen_area\",\"screen_area\",\"screen_area\",\"screen_area\",\"screen_area\",\"screen_area\",\"screen_area\",\"screen_area\",\"screen_area\",\"screen_area\",\"screen_area\",\"screen_area\",\"screen_area\",\"screen_area\",\"screen_area\",\"screen_area\",\"screen_area\",\"screen_area\",\"screen_area\",\"screen_area\",\"screen_area\",\"screen_area\",\"screen_area\",\"screen_area\",\"screen_area\",\"screen_area\",\"screen_area\",\"screen_area\",\"screen_area\",\"screen_area\",\"screen_area\",\"screen_area\",\"screen_area\",\"screen_area\",\"screen_area\",\"screen_area\",\"screen_area\",\"screen_area\",\"screen_area\",\"screen_area\",\"screen_area\",\"screen_area\",\"screen_area\",\"screen_area\",\"screen_area\",\"screen_area\",\"screen_area\",\"screen_area\",\"screen_area\",\"screen_area\",\"screen_area\",\"screen_area\",\"screen_area\",\"screen_area\",\"screen_area\",\"screen_area\",\"screen_area\",\"screen_area\",\"screen_area\",\"screen_area\",\"screen_area\",\"screen_area\",\"screen_area\",\"screen_area\",\"screen_area\",\"screen_area\",\"screen_area\",\"screen_area\",\"screen_area\",\"screen_area\",\"screen_area\",\"screen_area\",\"screen_area\",\"screen_area\",\"screen_area\",\"screen_area\",\"screen_area\",\"screen_area\",\"screen_area\",\"screen_area\",\"screen_area\",\"screen_area\",\"screen_area\",\"screen_area\",\"screen_area\",\"screen_area\",\"screen_area\",\"screen_area\",\"ram\",\"ram\",\"ram\",\"ram\",\"ram\",\"ram\",\"ram\",\"ram\",\"ram\",\"ram\",\"ram\",\"ram\",\"ram\",\"ram\",\"ram\",\"ram\",\"ram\",\"ram\",\"ram\",\"ram\",\"ram\",\"ram\",\"ram\",\"ram\",\"ram\",\"ram\",\"ram\",\"ram\",\"ram\",\"ram\",\"ram\",\"ram\",\"ram\",\"ram\",\"ram\",\"ram\",\"ram\",\"ram\",\"ram\",\"ram\",\"ram\",\"ram\",\"ram\",\"ram\",\"ram\",\"ram\",\"ram\",\"ram\",\"ram\",\"ram\",\"ram\",\"ram\",\"ram\",\"ram\",\"ram\",\"ram\",\"ram\",\"ram\",\"ram\",\"ram\",\"ram\",\"ram\",\"ram\",\"ram\",\"ram\",\"ram\",\"ram\",\"ram\",\"ram\",\"ram\",\"ram\",\"ram\",\"ram\",\"ram\",\"ram\",\"ram\",\"ram\",\"ram\",\"ram\",\"ram\",\"ram\",\"ram\",\"ram\",\"ram\",\"ram\",\"ram\",\"ram\",\"ram\",\"ram\",\"ram\",\"ram\",\"ram\",\"ram\",\"ram\",\"ram\",\"ram\",\"ram\",\"ram\",\"ram\",\"ram\",\"ram\",\"ram\",\"ram\",\"ram\",\"ram\",\"ram\",\"ram\",\"ram\",\"ram\",\"ram\",\"ram\",\"ram\",\"ram\",\"ram\",\"ram\",\"ram\",\"ram\",\"ram\",\"ram\",\"ram\",\"ram\",\"ram\",\"ram\",\"ram\",\"ram\",\"ram\",\"ram\",\"ram\",\"ram\",\"ram\",\"ram\",\"ram\",\"ram\",\"ram\",\"ram\",\"ram\",\"ram\",\"ram\",\"ram\",\"ram\",\"ram\",\"ram\",\"ram\",\"ram\",\"ram\",\"ram\",\"ram\",\"ram\",\"ram\",\"ram\",\"ram\",\"ram\",\"ram\",\"ram\",\"ram\",\"ram\",\"ram\",\"ram\",\"ram\",\"ram\",\"ram\",\"ram\",\"ram\",\"ram\",\"ram\",\"ram\",\"ram\",\"ram\",\"ram\",\"ram\",\"ram\",\"ram\",\"ram\",\"ram\",\"ram\",\"ram\",\"ram\",\"ram\",\"ram\",\"ram\",\"ram\",\"ram\",\"ram\",\"ram\",\"ram\",\"ram\",\"ram\",\"ram\",\"ram\",\"ram\",\"ram\",\"ram\",\"ram\",\"ram\",\"ram\",\"ram\",\"ram\",\"ram\",\"ram\",\"ram\",\"ram\",\"ram\",\"ram\",\"ram\",\"ram\",\"ram\",\"ram\",\"ram\",\"ram\",\"ram\",\"ram\",\"ram\",\"ram\",\"ram\",\"ram\",\"ram\",\"ram\",\"ram\",\"ram\",\"ram\",\"ram\",\"ram\",\"ram\",\"ram\",\"ram\",\"ram\",\"ram\",\"ram\",\"ram\",\"ram\",\"ram\",\"ram\",\"ram\",\"ram\",\"ram\",\"ram\",\"ram\",\"ram\",\"ram\",\"ram\",\"ram\",\"ram\",\"ram\",\"ram\",\"ram\",\"ram\",\"ram\",\"ram\",\"ram\",\"ram\",\"ram\",\"ram\",\"ram\",\"ram\",\"ram\",\"ram\",\"ram\",\"ram\",\"ram\",\"ram\",\"ram\",\"ram\",\"ram\",\"ram\",\"ram\",\"ram\",\"ram\",\"ram\",\"ram\",\"ram\",\"ram\",\"ram\",\"ram\",\"ram\",\"ram\",\"ram\",\"ram\",\"ram\",\"ram\",\"ram\",\"ram\",\"ram\",\"ram\",\"ram\",\"ram\",\"ram\",\"ram\",\"ram\",\"ram\",\"ram\",\"ram\",\"ram\",\"ram\",\"ram\",\"ram\",\"ram\",\"ram\",\"ram\",\"ram\",\"ram\",\"ram\",\"ram\",\"ram\",\"ram\",\"ram\",\"ram\",\"ram\",\"ram\",\"ram\",\"ram\",\"ram\",\"ram\",\"ram\",\"ram\",\"ram\",\"ram\",\"ram\",\"ram\",\"ram\",\"ram\",\"ram\",\"ram\",\"ram\",\"ram\",\"ram\",\"ram\",\"ram\",\"ram\",\"ram\",\"ram\",\"ram\",\"ram\",\"ram\",\"ram\",\"ram\",\"ram\",\"ram\",\"ram\",\"ram\",\"ram\",\"ram\",\"ram\",\"ram\",\"ram\",\"ram\",\"ram\",\"ram\",\"ram\",\"ram\",\"ram\",\"ram\",\"ram\",\"ram\",\"ram\",\"ram\",\"ram\",\"ram\",\"ram\",\"ram\",\"ram\",\"ram\",\"ram\",\"ram\",\"ram\",\"ram\",\"ram\",\"ram\",\"ram\",\"ram\",\"ram\",\"ram\",\"ram\",\"ram\",\"ram\",\"ram\",\"ram\",\"ram\",\"ram\",\"ram\",\"ram\",\"ram\",\"ram\",\"ram\",\"ram\",\"ram\",\"ram\",\"ram\",\"ram\",\"ram\",\"ram\",\"ram\",\"ram\",\"ram\",\"ram\",\"ram\",\"ram\",\"ram\",\"ram\",\"ram\",\"ram\",\"ram\",\"ram\",\"ram\",\"ram\",\"ram\",\"ram\",\"ram\",\"ram\",\"ram\",\"ram\",\"ram\",\"ram\",\"ram\",\"ram\",\"ram\",\"ram\",\"ram\",\"ram\",\"ram\",\"ram\",\"ram\",\"ram\",\"ram\",\"ram\",\"ram\",\"ram\",\"ram\",\"ram\",\"ram\",\"ram\",\"ram\",\"ram\",\"ram\",\"ram\",\"ram\",\"ram\",\"ram\",\"ram\",\"ram\",\"ram\",\"ram\",\"ram\",\"ram\",\"ram\",\"ram\",\"ram\",\"ram\",\"ram\",\"ram\",\"ram\",\"ram\",\"ram\",\"ram\",\"ram\",\"ram\",\"ram\",\"ram\",\"ram\",\"ram\",\"ram\",\"ram\",\"ram\",\"ram\",\"ram\",\"ram\",\"ram\",\"ram\",\"ram\",\"ram\",\"ram\",\"ram\",\"ram\",\"ram\",\"ram\",\"ram\",\"ram\",\"ram\",\"ram\",\"ram\",\"ram\",\"ram\",\"ram\",\"ram\",\"ram\",\"ram\",\"ram\",\"ram\",\"ram\",\"ram\",\"ram\",\"ram\",\"ram\",\"ram\",\"ram\",\"ram\",\"ram\",\"ram\",\"ram\",\"ram\",\"ram\",\"ram\",\"ram\",\"ram\",\"ram\",\"ram\",\"ram\",\"ram\",\"ram\",\"ram\",\"ram\",\"ram\",\"ram\",\"ram\",\"ram\",\"ram\",\"ram\",\"ram\",\"ram\",\"ram\",\"ram\",\"ram\",\"ram\",\"ram\",\"ram\",\"ram\",\"ram\",\"ram\",\"ram\",\"ram\",\"ram\",\"ram\",\"ram\",\"ram\",\"ram\",\"ram\",\"ram\",\"ram\",\"ram\",\"ram\",\"ram\",\"ram\",\"ram\",\"ram\",\"ram\",\"ram\",\"ram\",\"ram\",\"ram\",\"ram\",\"ram\",\"ram\",\"ram\",\"ram\",\"ram\",\"ram\",\"ram\",\"ram\",\"ram\",\"ram\",\"ram\",\"ram\",\"ram\",\"ram\",\"ram\",\"ram\",\"ram\",\"ram\",\"ram\",\"ram\",\"ram\",\"ram\",\"ram\",\"ram\",\"ram\",\"ram\",\"ram\",\"ram\",\"ram\",\"ram\",\"ram\",\"ram\",\"ram\",\"ram\",\"ram\",\"ram\",\"ram\",\"ram\",\"ram\",\"ram\",\"ram\",\"ram\",\"ram\",\"ram\",\"ram\",\"ram\",\"ram\",\"ram\",\"ram\",\"ram\",\"ram\",\"ram\",\"ram\",\"ram\",\"ram\",\"ram\",\"ram\",\"ram\",\"ram\",\"ram\",\"ram\",\"ram\",\"ram\",\"ram\",\"ram\",\"ram\",\"ram\",\"ram\",\"ram\",\"ram\",\"ram\",\"ram\",\"ram\",\"ram\",\"ram\",\"ram\",\"ram\",\"ram\",\"ram\",\"ram\",\"ram\",\"ram\",\"ram\",\"ram\",\"ram\",\"ram\",\"ram\",\"ram\",\"ram\",\"ram\",\"ram\",\"ram\",\"ram\",\"ram\",\"ram\",\"ram\",\"ram\",\"ram\",\"ram\",\"ram\",\"ram\",\"ram\",\"ram\",\"ram\",\"ram\",\"ram\",\"ram\",\"ram\",\"ram\",\"ram\",\"ram\",\"ram\",\"ram\",\"ram\",\"ram\",\"ram\",\"ram\",\"ram\",\"ram\",\"ram\",\"ram\",\"ram\",\"ram\",\"ram\",\"ram\",\"ram\",\"ram\",\"ram\",\"ram\",\"ram\",\"ram\",\"ram\",\"ram\",\"ram\",\"ram\",\"ram\",\"ram\",\"ram\",\"ram\",\"ram\",\"ram\",\"ram\",\"ram\",\"ram\",\"ram\",\"ram\",\"ram\",\"ram\",\"ram\",\"ram\",\"ram\",\"ram\",\"ram\",\"ram\",\"ram\",\"ram\",\"ram\",\"ram\",\"ram\",\"ram\",\"ram\",\"ram\",\"ram\",\"ram\",\"ram\",\"ram\",\"ram\",\"ram\",\"ram\",\"ram\",\"ram\",\"ram\",\"ram\",\"ram\",\"ram\",\"ram\",\"ram\",\"ram\",\"ram\",\"ram\",\"ram\",\"ram\",\"ram\",\"ram\",\"ram\",\"ram\",\"ram\",\"ram\",\"ram\",\"ram\",\"ram\",\"ram\",\"ram\",\"ram\",\"ram\",\"ram\",\"ram\",\"ram\",\"ram\",\"ram\",\"ram\",\"ram\",\"ram\",\"ram\",\"ram\",\"ram\",\"ram\",\"ram\",\"ram\",\"ram\",\"ram\",\"ram\",\"ram\",\"ram\",\"ram\",\"ram\",\"ram\",\"ram\",\"ram\",\"ram\",\"ram\",\"ram\",\"ram\",\"ram\",\"ram\",\"ram\",\"ram\",\"ram\",\"ram\",\"ram\",\"ram\",\"ram\",\"ram\",\"ram\",\"ram\",\"ram\",\"ram\",\"ram\",\"ram\",\"ram\",\"ram\",\"ram\",\"ram\",\"ram\",\"ram\",\"ram\",\"ram\",\"ram\",\"ram\",\"ram\",\"ram\",\"ram\",\"ram\",\"ram\",\"ram\",\"ram\",\"ram\",\"ram\",\"ram\",\"ram\",\"ram\",\"ram\",\"ram\",\"ram\",\"ram\",\"ram\",\"ram\",\"ram\",\"ram\",\"ram\",\"ram\",\"ram\",\"ram\",\"ram\",\"ram\",\"ram\",\"ram\",\"ram\",\"ram\",\"ram\",\"ram\",\"ram\",\"ram\",\"ram\",\"ram\",\"ram\",\"ram\",\"ram\",\"ram\",\"ram\",\"ram\",\"ram\",\"ram\",\"ram\",\"ram\",\"ram\",\"ram\",\"ram\",\"ram\",\"ram\",\"ram\",\"ram\",\"ram\",\"ram\",\"ram\",\"ram\",\"ram\",\"ram\",\"ram\",\"ram\",\"ram\",\"ram\",\"ram\",\"ram\",\"ram\",\"ram\",\"ram\",\"ram\",\"ram\",\"ram\",\"ram\",\"ram\",\"ram\",\"ram\",\"ram\",\"ram\",\"ram\",\"ram\",\"ram\",\"ram\",\"ram\",\"ram\",\"ram\",\"ram\",\"ram\",\"ram\",\"ram\",\"ram\",\"ram\",\"ram\",\"ram\",\"ram\",\"ram\",\"ram\",\"ram\",\"ram\",\"ram\",\"ram\",\"ram\",\"ram\",\"ram\",\"ram\",\"ram\",\"ram\",\"ram\",\"ram\",\"ram\",\"ram\",\"ram\",\"ram\",\"ram\",\"ram\",\"ram\",\"ram\",\"ram\",\"ram\",\"ram\",\"ram\",\"ram\",\"ram\",\"ram\",\"ram\",\"ram\",\"ram\",\"ram\",\"ram\",\"ram\",\"ram\",\"ram\",\"ram\",\"ram\",\"ram\",\"ram\",\"ram\",\"ram\",\"ram\",\"ram\",\"ram\",\"ram\",\"ram\",\"ram\",\"ram\",\"ram\",\"ram\",\"ram\",\"ram\",\"ram\",\"ram\",\"ram\",\"ram\",\"ram\",\"ram\",\"ram\",\"ram\",\"ram\",\"ram\",\"ram\",\"ram\",\"ram\",\"ram\",\"ram\",\"ram\",\"ram\",\"ram\",\"ram\",\"ram\",\"ram\",\"ram\",\"ram\",\"ram\",\"ram\",\"ram\",\"ram\",\"ram\",\"ram\",\"ram\",\"ram\",\"ram\",\"ram\",\"ram\",\"ram\",\"ram\",\"ram\",\"ram\",\"ram\",\"ram\",\"ram\",\"ram\",\"ram\",\"ram\",\"ram\",\"ram\",\"ram\",\"ram\",\"ram\",\"ram\",\"ram\",\"ram\",\"ram\",\"ram\",\"ram\",\"ram\",\"ram\",\"ram\",\"ram\",\"ram\",\"ram\",\"ram\",\"ram\",\"ram\",\"ram\",\"ram\",\"ram\",\"ram\",\"ram\",\"ram\",\"ram\",\"ram\",\"ram\",\"ram\",\"ram\",\"ram\",\"ram\",\"ram\",\"ram\",\"ram\",\"ram\",\"ram\",\"ram\",\"ram\",\"ram\",\"ram\",\"ram\",\"ram\",\"ram\",\"ram\",\"ram\",\"ram\",\"ram\",\"ram\",\"ram\",\"ram\",\"ram\",\"ram\",\"ram\",\"ram\",\"ram\",\"ram\",\"ram\",\"ram\",\"ram\",\"ram\",\"ram\",\"ram\",\"ram\",\"ram\",\"ram\",\"ram\",\"ram\",\"ram\",\"ram\",\"ram\",\"ram\",\"ram\",\"ram\",\"ram\",\"ram\",\"ram\",\"ram\",\"ram\",\"ram\",\"ram\",\"ram\",\"ram\",\"ram\",\"ram\",\"ram\",\"ram\",\"ram\",\"ram\",\"ram\",\"ram\",\"ram\",\"ram\",\"ram\",\"ram\",\"ram\",\"ram\",\"ram\",\"ram\",\"ram\",\"ram\",\"ram\",\"ram\",\"ram\",\"ram\",\"ram\",\"ram\",\"ram\",\"ram\",\"ram\",\"ram\",\"ram\",\"ram\",\"ram\",\"ram\",\"ram\",\"ram\",\"ram\",\"ram\",\"ram\",\"ram\",\"ram\",\"ram\",\"ram\",\"ram\",\"ram\",\"ram\",\"ram\",\"ram\",\"ram\",\"ram\",\"ram\",\"ram\",\"ram\",\"ram\",\"ram\",\"ram\",\"ram\",\"ram\",\"ram\",\"ram\",\"ram\",\"ram\",\"ram\",\"ram\",\"ram\",\"ram\",\"ram\",\"ram\",\"ram\",\"ram\",\"ram\",\"ram\",\"ram\",\"ram\",\"ram\",\"ram\",\"ram\",\"ram\",\"ram\",\"ram\",\"ram\",\"ram\",\"ram\",\"ram\",\"ram\",\"ram\",\"ram\",\"ram\",\"ram\",\"ram\",\"ram\",\"ram\",\"ram\",\"ram\",\"ram\",\"ram\",\"ram\",\"ram\",\"ram\",\"ram\",\"ram\",\"ram\",\"ram\",\"ram\",\"ram\",\"ram\",\"ram\",\"ram\",\"ram\",\"ram\",\"ram\",\"ram\",\"ram\",\"ram\",\"ram\",\"ram\",\"ram\",\"ram\",\"ram\",\"ram\",\"ram\",\"ram\",\"ram\",\"ram\",\"ram\",\"ram\",\"ram\",\"ram\",\"ram\",\"ram\",\"ram\",\"ram\",\"ram\",\"ram\",\"ram\",\"ram\",\"ram\",\"ram\",\"ram\",\"ram\",\"ram\",\"ram\",\"ram\",\"ram\",\"ram\",\"ram\",\"ram\",\"ram\",\"ram\",\"ram\",\"ram\",\"ram\",\"ram\",\"ram\",\"ram\",\"ram\",\"ram\",\"ram\",\"ram\",\"ram\",\"ram\",\"ram\",\"ram\",\"ram\",\"ram\",\"ram\",\"ram\",\"ram\",\"ram\",\"ram\",\"ram\",\"ram\",\"ram\",\"ram\",\"ram\",\"ram\",\"ram\",\"ram\",\"ram\",\"ram\",\"ram\",\"ram\",\"ram\",\"ram\",\"ram\",\"ram\",\"ram\",\"ram\",\"ram\",\"ram\",\"ram\",\"ram\",\"ram\",\"ram\",\"ram\",\"ram\",\"ram\",\"ram\",\"ram\",\"ram\",\"ram\",\"ram\",\"ram\",\"ram\",\"ram\",\"ram\",\"ram\",\"ram\",\"ram\",\"ram\",\"ram\",\"ram\",\"ram\",\"ram\",\"ram\",\"ram\",\"ram\",\"ram\",\"ram\",\"ram\",\"ram\",\"ram\",\"ram\",\"ram\",\"ram\",\"ram\",\"ram\",\"ram\",\"ram\",\"ram\",\"ram\",\"ram\",\"ram\",\"ram\",\"ram\",\"ram\",\"ram\",\"ram\",\"ram\",\"ram\",\"ram\",\"ram\",\"ram\",\"ram\",\"ram\",\"ram\",\"ram\",\"ram\",\"ram\",\"ram\",\"ram\",\"ram\",\"ram\",\"ram\",\"ram\",\"ram\",\"ram\",\"ram\",\"ram\",\"ram\",\"ram\",\"ram\",\"ram\",\"ram\",\"ram\",\"ram\",\"ram\",\"ram\",\"ram\",\"ram\",\"ram\",\"ram\",\"ram\",\"ram\",\"ram\",\"ram\",\"ram\",\"ram\",\"ram\",\"ram\",\"ram\",\"ram\",\"ram\",\"ram\",\"ram\",\"ram\",\"ram\",\"ram\",\"ram\",\"ram\",\"ram\",\"ram\",\"ram\",\"ram\",\"ram\",\"ram\",\"ram\",\"ram\",\"ram\",\"ram\",\"ram\",\"ram\",\"ram\",\"ram\",\"ram\",\"ram\",\"ram\",\"ram\",\"ram\",\"ram\",\"ram\",\"ram\",\"ram\",\"ram\",\"ram\",\"ram\",\"ram\",\"ram\",\"ram\",\"ram\",\"ram\",\"ram\",\"ram\",\"ram\",\"ram\",\"ram\",\"ram\",\"ram\",\"ram\",\"ram\",\"ram\",\"ram\",\"ram\",\"ram\",\"ram\",\"ram\",\"ram\",\"ram\",\"ram\",\"ram\",\"ram\",\"ram\",\"ram\",\"ram\",\"ram\",\"ram\",\"ram\",\"ram\",\"ram\",\"ram\",\"ram\",\"ram\",\"ram\",\"ram\",\"ram\",\"ram\",\"ram\",\"ram\",\"ram\",\"ram\",\"ram\",\"ram\",\"ram\",\"ram\",\"ram\",\"ram\",\"ram\",\"ram\",\"ram\",\"ram\",\"ram\",\"ram\",\"ram\",\"ram\",\"ram\",\"ram\",\"ram\",\"ram\",\"ram\",\"ram\",\"ram\",\"ram\",\"ram\",\"ram\",\"ram\",\"ram\",\"ram\",\"ram\",\"ram\",\"ram\",\"ram\",\"ram\",\"ram\",\"ram\",\"ram\",\"ram\",\"ram\",\"ram\",\"ram\",\"ram\",\"ram\",\"ram\",\"ram\",\"ram\",\"ram\",\"ram\",\"ram\",\"ram\",\"ram\",\"ram\",\"ram\",\"ram\",\"ram\",\"ram\",\"ram\",\"ram\",\"ram\",\"ram\",\"ram\",\"ram\",\"ram\",\"ram\",\"ram\",\"ram\",\"ram\",\"ram\",\"ram\",\"ram\",\"ram\",\"ram\",\"ram\",\"ram\",\"ram\",\"ram\",\"ram\",\"ram\",\"ram\",\"ram\",\"ram\",\"ram\",\"ram\",\"ram\",\"ram\",\"ram\",\"ram\",\"ram\",\"ram\",\"ram\",\"ram\",\"ram\",\"ram\",\"ram\",\"ram\",\"ram\",\"ram\",\"ram\",\"ram\",\"ram\",\"ram\",\"ram\",\"ram\",\"ram\",\"ram\",\"ram\",\"ram\",\"ram\",\"ram\",\"ram\",\"ram\",\"ram\",\"ram\",\"ram\",\"ram\",\"ram\",\"ram\",\"ram\",\"ram\",\"ram\",\"ram\",\"ram\",\"ram\",\"ram\",\"ram\",\"ram\",\"ram\",\"ram\",\"ram\",\"ram\",\"ram\",\"ram\",\"ram\",\"ram\",\"ram\",\"ram\",\"ram\",\"ram\",\"ram\",\"ram\",\"ram\",\"ram\",\"ram\",\"ram\",\"ram\",\"ram\",\"ram\",\"ram\",\"ram\",\"ram\",\"ram\",\"ram\",\"ram\",\"ram\",\"ram\",\"ram\",\"ram\",\"ram\",\"ram\",\"ram\",\"ram\",\"ram\",\"ram\",\"ram\",\"ram\",\"ram\",\"ram\",\"ram\",\"ram\",\"ram\",\"ram\",\"ram\",\"ram\",\"ram\",\"ram\",\"ram\",\"ram\",\"ram\",\"ram\",\"ram\",\"ram\",\"ram\",\"ram\",\"ram\",\"ram\",\"ram\",\"ram\",\"ram\",\"ram\",\"ram\",\"ram\",\"ram\",\"ram\",\"ram\",\"ram\",\"ram\",\"ram\",\"ram\",\"ram\",\"ram\",\"ram\",\"ram\",\"ram\",\"ram\",\"ram\",\"ram\",\"ram\",\"ram\",\"ram\",\"ram\",\"ram\",\"ram\",\"ram\",\"ram\",\"ram\",\"ram\",\"ram\",\"ram\",\"ram\",\"ram\",\"ram\",\"ram\",\"ram\",\"ram\",\"ram\",\"ram\",\"ram\",\"ram\",\"ram\",\"ram\",\"ram\",\"ram\",\"ram\",\"ram\",\"ram\",\"ram\",\"ram\",\"ram\",\"ram\",\"ram\",\"ram\",\"ram\",\"ram\",\"ram\",\"ram\",\"ram\",\"ram\",\"ram\",\"ram\",\"ram\",\"ram\",\"ram\",\"ram\",\"ram\",\"ram\",\"ram\",\"ram\",\"ram\",\"ram\",\"ram\",\"ram\",\"ram\",\"ram\",\"ram\",\"ram\",\"ram\",\"ram\",\"ram\",\"ram\",\"ram\",\"ram\",\"ram\",\"ram\",\"ram\",\"ram\",\"ram\",\"ram\",\"ram\",\"ram\",\"ram\",\"ram\",\"ram\",\"ram\",\"ram\",\"ram\",\"ram\",\"ram\",\"ram\",\"ram\",\"ram\",\"ram\",\"ram\",\"ram\",\"ram\",\"ram\",\"ram\",\"ram\",\"ram\",\"ram\",\"ram\",\"ram\",\"ram\",\"ram\",\"ram\",\"ram\",\"ram\",\"ram\",\"ram\",\"ram\",\"ram\",\"ram\",\"ram\",\"ram\",\"ram\",\"ram\",\"ram\",\"ram\",\"ram\",\"ram\",\"ram\",\"ram\",\"ram\",\"ram\",\"ram\",\"ram\",\"ram\",\"ram\",\"ram\",\"ram\",\"ram\",\"ram\",\"ram\",\"ram\",\"ram\",\"ram\",\"ram\",\"ram\",\"ram\",\"ram\",\"ram\",\"ram\",\"ram\",\"ram\",\"ram\",\"ram\",\"ram\",\"ram\",\"ram\",\"ram\",\"ram\",\"ram\",\"ram\",\"ram\",\"ram\",\"ram\",\"ram\",\"ram\",\"ram\",\"ram\",\"ram\",\"ram\",\"ram\",\"ram\",\"ram\",\"ram\",\"ram\",\"ram\",\"ram\",\"ram\",\"ram\",\"ram\",\"ram\",\"ram\",\"ram\",\"ram\",\"ram\",\"ram\",\"ram\",\"ram\",\"ram\",\"ram\",\"ram\",\"ram\",\"ram\",\"ram\",\"ram\",\"ram\",\"ram\",\"ram\",\"ram\",\"ram\",\"ram\",\"ram\",\"ram\",\"ram\",\"ram\",\"ram\",\"ram\",\"ram\",\"ram\",\"ram\",\"ram\",\"ram\",\"ram\",\"ram\",\"ram\",\"ram\",\"ram\",\"ram\",\"ram\",\"ram\",\"ram\",\"ram\",\"ram\",\"ram\",\"ram\",\"ram\",\"ram\",\"ram\",\"ram\",\"ram\",\"ram\",\"ram\",\"ram\",\"ram\",\"ram\",\"ram\",\"ram\",\"ram\",\"ram\",\"ram\",\"ram\",\"ram\",\"ram\",\"ram\",\"ram\",\"ram\",\"ram\",\"ram\",\"ram\",\"ram\",\"ram\",\"ram\",\"ram\",\"ram\",\"ram\",\"ram\",\"ram\",\"ram\",\"ram\",\"ram\",\"ram\",\"ram\",\"ram\",\"ram\",\"ram\",\"ram\",\"ram\",\"ram\",\"ram\",\"ram\",\"ram\",\"ram\",\"ram\",\"ram\",\"ram\",\"ram\",\"ram\",\"ram\",\"ram\",\"ram\",\"ram\",\"ram\",\"ram\",\"ram\",\"ram\",\"ram\",\"ram\",\"ram\",\"ram\",\"ram\",\"ram\",\"ram\",\"ram\",\"ram\",\"ram\",\"ram\",\"ram\",\"ram\",\"ram\",\"ram\",\"ram\",\"ram\",\"ram\",\"ram\",\"ram\",\"ram\",\"ram\",\"ram\",\"ram\",\"ram\",\"ram\",\"ram\",\"ram\",\"ram\",\"ram\",\"ram\",\"ram\",\"ram\",\"ram\",\"ram\",\"ram\",\"ram\",\"ram\",\"ram\",\"ram\",\"ram\",\"ram\",\"ram\",\"ram\",\"ram\",\"ram\",\"ram\",\"ram\",\"ram\",\"ram\",\"ram\",\"ram\",\"ram\",\"ram\",\"ram\",\"ram\",\"ram\",\"ram\",\"ram\",\"ram\",\"ram\",\"ram\",\"ram\",\"ram\",\"ram\",\"ram\",\"ram\",\"ram\",\"ram\",\"ram\",\"ram\",\"ram\",\"ram\",\"ram\",\"ram\",\"ram\",\"ram\",\"ram\",\"ram\",\"ram\",\"ram\",\"ram\",\"ram\",\"ram\",\"ram\",\"ram\",\"ram\",\"ram\",\"ram\",\"ram\",\"ram\",\"ram\",\"ram\",\"ram\",\"ram\",\"talk_time\",\"talk_time\",\"talk_time\",\"talk_time\",\"talk_time\",\"talk_time\",\"talk_time\",\"talk_time\",\"talk_time\",\"talk_time\",\"talk_time\",\"talk_time\",\"talk_time\",\"talk_time\",\"talk_time\",\"talk_time\",\"talk_time\",\"talk_time\",\"talk_time\",\"talk_time\",\"talk_time\",\"talk_time\",\"talk_time\",\"talk_time\",\"talk_time\",\"talk_time\",\"talk_time\",\"talk_time\",\"talk_time\",\"talk_time\",\"talk_time\",\"talk_time\",\"talk_time\",\"talk_time\",\"talk_time\",\"talk_time\",\"talk_time\",\"talk_time\",\"talk_time\",\"talk_time\",\"talk_time\",\"talk_time\",\"talk_time\",\"talk_time\",\"talk_time\",\"talk_time\",\"talk_time\",\"talk_time\",\"talk_time\",\"talk_time\",\"talk_time\",\"talk_time\",\"talk_time\",\"talk_time\",\"talk_time\",\"talk_time\",\"talk_time\",\"talk_time\",\"talk_time\",\"talk_time\",\"talk_time\",\"talk_time\",\"talk_time\",\"talk_time\",\"talk_time\",\"talk_time\",\"talk_time\",\"talk_time\",\"talk_time\",\"talk_time\",\"talk_time\",\"talk_time\",\"talk_time\",\"talk_time\",\"talk_time\",\"talk_time\",\"talk_time\",\"talk_time\",\"talk_time\",\"talk_time\",\"talk_time\",\"talk_time\",\"talk_time\",\"talk_time\",\"talk_time\",\"talk_time\",\"talk_time\",\"talk_time\",\"talk_time\",\"talk_time\",\"talk_time\",\"talk_time\",\"talk_time\",\"talk_time\",\"talk_time\",\"talk_time\",\"talk_time\",\"talk_time\",\"talk_time\",\"talk_time\",\"talk_time\",\"talk_time\",\"talk_time\",\"talk_time\",\"talk_time\",\"talk_time\",\"talk_time\",\"talk_time\",\"talk_time\",\"talk_time\",\"talk_time\",\"talk_time\",\"talk_time\",\"talk_time\",\"talk_time\",\"talk_time\",\"talk_time\",\"talk_time\",\"talk_time\",\"talk_time\",\"talk_time\",\"talk_time\",\"talk_time\",\"talk_time\",\"talk_time\",\"talk_time\",\"talk_time\",\"talk_time\",\"talk_time\",\"talk_time\",\"talk_time\",\"talk_time\",\"talk_time\",\"talk_time\",\"talk_time\",\"talk_time\",\"talk_time\",\"talk_time\",\"talk_time\",\"talk_time\",\"talk_time\",\"talk_time\",\"talk_time\",\"talk_time\",\"talk_time\",\"talk_time\",\"talk_time\",\"talk_time\",\"talk_time\",\"talk_time\",\"talk_time\",\"talk_time\",\"talk_time\",\"talk_time\",\"talk_time\",\"talk_time\",\"talk_time\",\"talk_time\",\"talk_time\",\"talk_time\",\"talk_time\",\"talk_time\",\"talk_time\",\"talk_time\",\"talk_time\",\"talk_time\",\"talk_time\",\"talk_time\",\"talk_time\",\"talk_time\",\"talk_time\",\"talk_time\",\"talk_time\",\"talk_time\",\"talk_time\",\"talk_time\",\"talk_time\",\"talk_time\",\"talk_time\",\"talk_time\",\"talk_time\",\"talk_time\",\"talk_time\",\"talk_time\",\"talk_time\",\"talk_time\",\"talk_time\",\"talk_time\",\"talk_time\",\"talk_time\",\"talk_time\",\"talk_time\",\"talk_time\",\"talk_time\",\"talk_time\",\"talk_time\",\"talk_time\",\"talk_time\",\"talk_time\",\"talk_time\",\"talk_time\",\"talk_time\",\"talk_time\",\"talk_time\",\"talk_time\",\"talk_time\",\"talk_time\",\"talk_time\",\"talk_time\",\"talk_time\",\"talk_time\",\"talk_time\",\"talk_time\",\"talk_time\",\"talk_time\",\"talk_time\",\"talk_time\",\"talk_time\",\"talk_time\",\"talk_time\",\"talk_time\",\"talk_time\",\"talk_time\",\"talk_time\",\"talk_time\",\"talk_time\",\"talk_time\",\"talk_time\",\"talk_time\",\"talk_time\",\"talk_time\",\"talk_time\",\"talk_time\",\"talk_time\",\"talk_time\",\"talk_time\",\"talk_time\",\"talk_time\",\"talk_time\",\"talk_time\",\"talk_time\",\"talk_time\",\"talk_time\",\"talk_time\",\"talk_time\",\"talk_time\",\"talk_time\",\"talk_time\",\"talk_time\",\"talk_time\",\"talk_time\",\"talk_time\",\"talk_time\",\"talk_time\",\"talk_time\",\"talk_time\",\"talk_time\",\"talk_time\",\"talk_time\",\"talk_time\",\"talk_time\",\"talk_time\",\"talk_time\",\"talk_time\",\"talk_time\",\"talk_time\",\"talk_time\",\"talk_time\",\"talk_time\",\"talk_time\",\"talk_time\",\"talk_time\",\"talk_time\",\"talk_time\",\"talk_time\",\"talk_time\",\"talk_time\",\"talk_time\",\"talk_time\",\"talk_time\",\"talk_time\",\"talk_time\",\"talk_time\",\"talk_time\",\"talk_time\",\"talk_time\",\"talk_time\",\"talk_time\",\"talk_time\",\"talk_time\",\"talk_time\",\"talk_time\",\"talk_time\",\"talk_time\",\"talk_time\",\"talk_time\",\"talk_time\",\"talk_time\",\"talk_time\",\"talk_time\",\"talk_time\",\"talk_time\",\"talk_time\",\"talk_time\",\"talk_time\",\"talk_time\",\"talk_time\",\"talk_time\",\"talk_time\",\"talk_time\",\"talk_time\",\"talk_time\",\"talk_time\",\"talk_time\",\"talk_time\",\"talk_time\",\"talk_time\",\"talk_time\",\"talk_time\",\"talk_time\",\"talk_time\",\"talk_time\",\"talk_time\",\"talk_time\",\"talk_time\",\"talk_time\",\"talk_time\",\"talk_time\",\"talk_time\",\"talk_time\",\"talk_time\",\"talk_time\",\"talk_time\",\"talk_time\",\"talk_time\",\"talk_time\",\"talk_time\",\"talk_time\",\"talk_time\",\"talk_time\",\"talk_time\",\"talk_time\",\"talk_time\",\"talk_time\",\"talk_time\",\"talk_time\",\"talk_time\",\"talk_time\",\"talk_time\",\"talk_time\",\"talk_time\",\"talk_time\",\"talk_time\",\"talk_time\",\"talk_time\",\"talk_time\",\"talk_time\",\"talk_time\",\"talk_time\",\"talk_time\",\"talk_time\",\"talk_time\",\"talk_time\",\"talk_time\",\"talk_time\",\"talk_time\",\"talk_time\",\"talk_time\",\"talk_time\",\"talk_time\",\"talk_time\",\"talk_time\",\"talk_time\",\"talk_time\",\"talk_time\",\"talk_time\",\"talk_time\",\"talk_time\",\"talk_time\",\"talk_time\",\"talk_time\",\"talk_time\",\"talk_time\",\"talk_time\",\"talk_time\",\"talk_time\",\"talk_time\",\"talk_time\",\"talk_time\",\"talk_time\",\"talk_time\",\"talk_time\",\"talk_time\",\"talk_time\",\"talk_time\",\"talk_time\",\"talk_time\",\"talk_time\",\"talk_time\",\"talk_time\",\"talk_time\",\"talk_time\",\"talk_time\",\"talk_time\",\"talk_time\",\"talk_time\",\"talk_time\",\"talk_time\",\"talk_time\",\"talk_time\",\"talk_time\",\"talk_time\",\"talk_time\",\"talk_time\",\"talk_time\",\"talk_time\",\"talk_time\",\"talk_time\",\"talk_time\",\"talk_time\",\"talk_time\",\"talk_time\",\"talk_time\",\"talk_time\",\"talk_time\",\"talk_time\",\"talk_time\",\"talk_time\",\"talk_time\",\"talk_time\",\"talk_time\",\"talk_time\",\"talk_time\",\"talk_time\",\"talk_time\",\"talk_time\",\"talk_time\",\"talk_time\",\"talk_time\",\"talk_time\",\"talk_time\",\"talk_time\",\"talk_time\",\"talk_time\",\"talk_time\",\"talk_time\",\"talk_time\",\"talk_time\",\"talk_time\",\"talk_time\",\"talk_time\",\"talk_time\",\"talk_time\",\"talk_time\",\"talk_time\",\"talk_time\",\"talk_time\",\"talk_time\",\"talk_time\",\"talk_time\",\"talk_time\",\"talk_time\",\"talk_time\",\"talk_time\",\"talk_time\",\"talk_time\",\"talk_time\",\"talk_time\",\"talk_time\",\"talk_time\",\"talk_time\",\"talk_time\",\"talk_time\",\"talk_time\",\"talk_time\",\"talk_time\",\"talk_time\",\"talk_time\",\"talk_time\",\"talk_time\",\"talk_time\",\"talk_time\",\"talk_time\",\"talk_time\",\"talk_time\",\"talk_time\",\"talk_time\",\"talk_time\",\"talk_time\",\"talk_time\",\"talk_time\",\"talk_time\",\"talk_time\",\"talk_time\",\"talk_time\",\"talk_time\",\"talk_time\",\"talk_time\",\"talk_time\",\"talk_time\",\"talk_time\",\"talk_time\",\"talk_time\",\"talk_time\",\"talk_time\",\"talk_time\",\"talk_time\",\"talk_time\",\"talk_time\",\"talk_time\",\"talk_time\",\"talk_time\",\"talk_time\",\"talk_time\",\"talk_time\",\"talk_time\",\"talk_time\",\"talk_time\",\"talk_time\",\"talk_time\",\"talk_time\",\"talk_time\",\"talk_time\",\"talk_time\",\"talk_time\",\"talk_time\",\"talk_time\",\"talk_time\",\"talk_time\",\"talk_time\",\"talk_time\",\"talk_time\",\"talk_time\",\"talk_time\",\"talk_time\",\"talk_time\",\"talk_time\",\"talk_time\",\"talk_time\",\"talk_time\",\"talk_time\",\"talk_time\",\"talk_time\",\"talk_time\",\"talk_time\",\"talk_time\",\"talk_time\",\"talk_time\",\"talk_time\",\"talk_time\",\"talk_time\",\"talk_time\",\"talk_time\",\"talk_time\",\"talk_time\",\"talk_time\",\"talk_time\",\"talk_time\",\"talk_time\",\"talk_time\",\"talk_time\",\"talk_time\",\"talk_time\",\"talk_time\",\"talk_time\",\"talk_time\",\"talk_time\",\"talk_time\",\"talk_time\",\"talk_time\",\"talk_time\",\"talk_time\",\"talk_time\",\"talk_time\",\"talk_time\",\"talk_time\",\"talk_time\",\"talk_time\",\"talk_time\",\"talk_time\",\"talk_time\",\"talk_time\",\"talk_time\",\"talk_time\",\"talk_time\",\"talk_time\",\"talk_time\",\"talk_time\",\"talk_time\",\"talk_time\",\"talk_time\",\"talk_time\",\"talk_time\",\"talk_time\",\"talk_time\",\"talk_time\",\"talk_time\",\"talk_time\",\"talk_time\",\"talk_time\",\"talk_time\",\"talk_time\",\"talk_time\",\"talk_time\",\"talk_time\",\"talk_time\",\"talk_time\",\"talk_time\",\"talk_time\",\"talk_time\",\"talk_time\",\"talk_time\",\"talk_time\",\"talk_time\",\"talk_time\",\"talk_time\",\"talk_time\",\"talk_time\",\"talk_time\",\"talk_time\",\"talk_time\",\"talk_time\",\"talk_time\",\"talk_time\",\"talk_time\",\"talk_time\",\"talk_time\",\"talk_time\",\"talk_time\",\"talk_time\",\"talk_time\",\"talk_time\",\"talk_time\",\"talk_time\",\"talk_time\",\"talk_time\",\"talk_time\",\"talk_time\",\"talk_time\",\"talk_time\",\"talk_time\",\"talk_time\",\"talk_time\",\"talk_time\",\"talk_time\",\"talk_time\",\"talk_time\",\"talk_time\",\"talk_time\",\"talk_time\",\"talk_time\",\"talk_time\",\"talk_time\",\"talk_time\",\"talk_time\",\"talk_time\",\"talk_time\",\"talk_time\",\"talk_time\",\"talk_time\",\"talk_time\",\"talk_time\",\"talk_time\",\"talk_time\",\"talk_time\",\"talk_time\",\"talk_time\",\"talk_time\",\"talk_time\",\"talk_time\",\"talk_time\",\"talk_time\",\"talk_time\",\"talk_time\",\"talk_time\",\"talk_time\",\"talk_time\",\"talk_time\",\"talk_time\",\"talk_time\",\"talk_time\",\"talk_time\",\"talk_time\",\"talk_time\",\"talk_time\",\"talk_time\",\"talk_time\",\"talk_time\",\"talk_time\",\"talk_time\",\"talk_time\",\"talk_time\",\"talk_time\",\"talk_time\",\"talk_time\",\"talk_time\",\"talk_time\",\"talk_time\",\"talk_time\",\"talk_time\",\"talk_time\",\"talk_time\",\"talk_time\",\"talk_time\",\"talk_time\",\"talk_time\",\"talk_time\",\"talk_time\",\"talk_time\",\"talk_time\",\"talk_time\",\"talk_time\",\"talk_time\",\"talk_time\",\"talk_time\",\"talk_time\",\"talk_time\",\"talk_time\",\"talk_time\",\"talk_time\",\"talk_time\",\"talk_time\",\"talk_time\",\"talk_time\",\"talk_time\",\"talk_time\",\"talk_time\",\"talk_time\",\"talk_time\",\"talk_time\",\"talk_time\",\"talk_time\",\"talk_time\",\"talk_time\",\"talk_time\",\"talk_time\",\"talk_time\",\"talk_time\",\"talk_time\",\"talk_time\",\"talk_time\",\"talk_time\",\"talk_time\",\"talk_time\",\"talk_time\",\"talk_time\",\"talk_time\",\"talk_time\",\"talk_time\",\"talk_time\",\"talk_time\",\"talk_time\",\"talk_time\",\"talk_time\",\"talk_time\",\"talk_time\",\"talk_time\",\"talk_time\",\"talk_time\",\"talk_time\",\"talk_time\",\"talk_time\",\"talk_time\",\"talk_time\",\"talk_time\",\"talk_time\",\"talk_time\",\"talk_time\",\"talk_time\",\"talk_time\",\"talk_time\",\"talk_time\",\"talk_time\",\"talk_time\",\"talk_time\",\"talk_time\",\"talk_time\",\"talk_time\",\"talk_time\",\"talk_time\",\"talk_time\",\"talk_time\",\"talk_time\",\"talk_time\",\"talk_time\",\"talk_time\",\"talk_time\",\"talk_time\",\"talk_time\",\"talk_time\",\"talk_time\",\"talk_time\",\"talk_time\",\"talk_time\",\"talk_time\",\"talk_time\",\"talk_time\",\"talk_time\",\"talk_time\",\"talk_time\",\"talk_time\",\"talk_time\",\"talk_time\",\"talk_time\",\"talk_time\",\"talk_time\",\"talk_time\",\"talk_time\",\"talk_time\",\"talk_time\",\"talk_time\",\"talk_time\",\"talk_time\",\"talk_time\",\"talk_time\",\"talk_time\",\"talk_time\",\"talk_time\",\"talk_time\",\"talk_time\",\"talk_time\",\"talk_time\",\"talk_time\",\"talk_time\",\"talk_time\",\"talk_time\",\"talk_time\",\"talk_time\",\"talk_time\",\"talk_time\",\"talk_time\",\"talk_time\",\"talk_time\",\"talk_time\",\"talk_time\",\"talk_time\",\"talk_time\",\"talk_time\",\"talk_time\",\"talk_time\",\"talk_time\",\"talk_time\",\"talk_time\",\"talk_time\",\"talk_time\",\"talk_time\",\"talk_time\",\"talk_time\",\"talk_time\",\"talk_time\",\"talk_time\",\"talk_time\",\"talk_time\",\"talk_time\",\"talk_time\",\"talk_time\",\"talk_time\",\"talk_time\",\"talk_time\",\"talk_time\",\"talk_time\",\"talk_time\",\"talk_time\",\"talk_time\",\"talk_time\",\"talk_time\",\"talk_time\",\"talk_time\",\"talk_time\",\"talk_time\",\"talk_time\",\"talk_time\",\"talk_time\",\"talk_time\",\"talk_time\",\"talk_time\",\"talk_time\",\"talk_time\",\"talk_time\",\"talk_time\",\"talk_time\",\"talk_time\",\"talk_time\",\"talk_time\",\"talk_time\",\"talk_time\",\"talk_time\",\"talk_time\",\"talk_time\",\"talk_time\",\"talk_time\",\"talk_time\",\"talk_time\",\"talk_time\",\"talk_time\",\"talk_time\",\"talk_time\",\"talk_time\",\"talk_time\",\"talk_time\",\"talk_time\",\"talk_time\",\"talk_time\",\"talk_time\",\"talk_time\",\"talk_time\",\"talk_time\",\"talk_time\",\"talk_time\",\"talk_time\",\"talk_time\",\"talk_time\",\"talk_time\",\"talk_time\",\"talk_time\",\"talk_time\",\"talk_time\",\"talk_time\",\"talk_time\",\"talk_time\",\"talk_time\",\"talk_time\",\"talk_time\",\"talk_time\",\"talk_time\",\"talk_time\",\"talk_time\",\"talk_time\",\"talk_time\",\"talk_time\",\"talk_time\",\"talk_time\",\"talk_time\",\"talk_time\",\"talk_time\",\"talk_time\",\"talk_time\",\"talk_time\",\"talk_time\",\"talk_time\",\"talk_time\",\"talk_time\",\"talk_time\",\"talk_time\",\"talk_time\",\"talk_time\",\"talk_time\",\"talk_time\",\"talk_time\",\"talk_time\",\"talk_time\",\"talk_time\",\"talk_time\",\"talk_time\",\"talk_time\",\"talk_time\",\"talk_time\",\"talk_time\",\"talk_time\",\"talk_time\",\"talk_time\",\"talk_time\",\"talk_time\",\"talk_time\",\"talk_time\",\"talk_time\",\"talk_time\",\"talk_time\",\"talk_time\",\"talk_time\",\"talk_time\",\"talk_time\",\"talk_time\",\"talk_time\",\"talk_time\",\"talk_time\",\"talk_time\",\"talk_time\",\"talk_time\",\"talk_time\",\"talk_time\",\"talk_time\",\"talk_time\",\"talk_time\",\"talk_time\",\"talk_time\",\"talk_time\",\"talk_time\",\"talk_time\",\"talk_time\",\"talk_time\",\"talk_time\",\"talk_time\",\"talk_time\",\"talk_time\",\"talk_time\",\"talk_time\",\"talk_time\",\"talk_time\",\"talk_time\",\"talk_time\",\"talk_time\",\"talk_time\",\"talk_time\",\"talk_time\",\"talk_time\",\"talk_time\",\"talk_time\",\"talk_time\",\"talk_time\",\"talk_time\",\"talk_time\",\"talk_time\",\"talk_time\",\"talk_time\",\"talk_time\",\"talk_time\",\"talk_time\",\"talk_time\",\"talk_time\",\"talk_time\",\"talk_time\",\"talk_time\",\"talk_time\",\"talk_time\",\"talk_time\",\"talk_time\",\"talk_time\",\"talk_time\",\"talk_time\",\"talk_time\",\"talk_time\",\"talk_time\",\"talk_time\",\"talk_time\",\"talk_time\",\"talk_time\",\"talk_time\",\"talk_time\",\"talk_time\",\"talk_time\",\"talk_time\",\"talk_time\",\"talk_time\",\"talk_time\",\"talk_time\",\"talk_time\",\"talk_time\",\"talk_time\",\"talk_time\",\"talk_time\",\"talk_time\",\"talk_time\",\"talk_time\",\"talk_time\",\"talk_time\",\"talk_time\",\"talk_time\",\"talk_time\",\"talk_time\",\"talk_time\",\"talk_time\",\"talk_time\",\"talk_time\",\"talk_time\",\"talk_time\",\"talk_time\",\"talk_time\",\"talk_time\",\"talk_time\",\"talk_time\",\"talk_time\",\"talk_time\",\"talk_time\",\"talk_time\",\"talk_time\",\"talk_time\",\"talk_time\",\"talk_time\",\"talk_time\",\"talk_time\",\"talk_time\",\"talk_time\",\"talk_time\",\"talk_time\",\"talk_time\",\"talk_time\",\"talk_time\",\"talk_time\",\"talk_time\",\"talk_time\",\"talk_time\",\"talk_time\",\"talk_time\",\"talk_time\",\"talk_time\",\"talk_time\",\"talk_time\",\"talk_time\",\"talk_time\",\"talk_time\",\"talk_time\",\"talk_time\",\"talk_time\",\"talk_time\",\"talk_time\",\"talk_time\",\"talk_time\",\"talk_time\",\"talk_time\",\"talk_time\",\"talk_time\",\"talk_time\",\"talk_time\",\"talk_time\",\"talk_time\",\"talk_time\",\"talk_time\",\"talk_time\",\"talk_time\",\"talk_time\",\"talk_time\",\"talk_time\",\"talk_time\",\"talk_time\",\"talk_time\",\"talk_time\",\"talk_time\",\"talk_time\",\"talk_time\",\"talk_time\",\"talk_time\",\"talk_time\",\"talk_time\",\"talk_time\",\"talk_time\",\"talk_time\",\"talk_time\",\"talk_time\",\"talk_time\",\"talk_time\",\"talk_time\",\"talk_time\",\"talk_time\",\"talk_time\",\"talk_time\",\"talk_time\",\"talk_time\",\"talk_time\",\"talk_time\",\"talk_time\",\"talk_time\",\"talk_time\",\"talk_time\",\"talk_time\",\"talk_time\",\"talk_time\",\"talk_time\",\"talk_time\",\"talk_time\",\"talk_time\",\"talk_time\",\"talk_time\",\"talk_time\",\"talk_time\",\"talk_time\",\"talk_time\",\"talk_time\",\"talk_time\",\"talk_time\",\"talk_time\",\"talk_time\",\"talk_time\",\"talk_time\",\"talk_time\",\"talk_time\",\"talk_time\",\"talk_time\",\"talk_time\",\"talk_time\",\"talk_time\",\"talk_time\",\"talk_time\",\"talk_time\",\"talk_time\",\"talk_time\",\"talk_time\",\"talk_time\",\"talk_time\",\"talk_time\",\"talk_time\",\"talk_time\",\"talk_time\",\"talk_time\",\"talk_time\",\"talk_time\",\"talk_time\",\"talk_time\",\"talk_time\",\"talk_time\",\"talk_time\",\"talk_time\",\"talk_time\",\"talk_time\",\"talk_time\",\"talk_time\",\"talk_time\",\"talk_time\",\"talk_time\",\"talk_time\",\"talk_time\",\"talk_time\",\"talk_time\",\"talk_time\",\"talk_time\",\"talk_time\",\"talk_time\",\"talk_time\",\"talk_time\",\"talk_time\",\"talk_time\",\"talk_time\",\"talk_time\",\"talk_time\",\"talk_time\",\"talk_time\",\"talk_time\",\"talk_time\",\"talk_time\",\"talk_time\",\"talk_time\",\"talk_time\",\"talk_time\",\"talk_time\",\"talk_time\",\"talk_time\",\"talk_time\",\"talk_time\",\"talk_time\",\"talk_time\",\"talk_time\",\"talk_time\",\"talk_time\",\"talk_time\",\"talk_time\",\"talk_time\",\"talk_time\",\"talk_time\",\"talk_time\",\"talk_time\",\"talk_time\",\"talk_time\",\"talk_time\",\"talk_time\",\"talk_time\",\"talk_time\",\"talk_time\",\"talk_time\",\"talk_time\",\"talk_time\",\"talk_time\",\"talk_time\",\"talk_time\",\"talk_time\",\"talk_time\",\"talk_time\",\"talk_time\",\"talk_time\",\"talk_time\",\"talk_time\",\"talk_time\",\"talk_time\",\"talk_time\",\"talk_time\",\"talk_time\",\"talk_time\",\"talk_time\",\"talk_time\",\"talk_time\",\"talk_time\",\"talk_time\",\"talk_time\",\"talk_time\",\"talk_time\",\"talk_time\",\"talk_time\",\"talk_time\",\"talk_time\",\"talk_time\",\"talk_time\",\"talk_time\",\"talk_time\",\"talk_time\",\"talk_time\",\"talk_time\",\"talk_time\",\"talk_time\",\"talk_time\",\"talk_time\",\"talk_time\",\"talk_time\",\"talk_time\",\"talk_time\",\"talk_time\",\"talk_time\",\"talk_time\",\"talk_time\",\"talk_time\",\"talk_time\",\"talk_time\",\"talk_time\",\"talk_time\",\"talk_time\",\"talk_time\",\"talk_time\",\"talk_time\",\"talk_time\",\"talk_time\",\"talk_time\",\"talk_time\",\"talk_time\",\"talk_time\",\"talk_time\",\"talk_time\",\"talk_time\",\"talk_time\",\"talk_time\",\"talk_time\",\"talk_time\",\"talk_time\",\"talk_time\",\"talk_time\",\"talk_time\",\"talk_time\",\"talk_time\",\"talk_time\",\"talk_time\",\"talk_time\",\"talk_time\",\"talk_time\",\"talk_time\",\"talk_time\",\"talk_time\",\"talk_time\",\"talk_time\",\"talk_time\",\"talk_time\",\"talk_time\",\"talk_time\",\"talk_time\",\"talk_time\",\"talk_time\",\"talk_time\",\"talk_time\",\"talk_time\",\"talk_time\",\"talk_time\",\"talk_time\",\"talk_time\",\"talk_time\",\"talk_time\",\"talk_time\",\"talk_time\",\"talk_time\",\"talk_time\",\"talk_time\",\"talk_time\",\"talk_time\",\"talk_time\",\"talk_time\",\"talk_time\",\"talk_time\",\"talk_time\",\"talk_time\",\"talk_time\",\"talk_time\",\"talk_time\",\"talk_time\",\"talk_time\",\"talk_time\",\"talk_time\",\"talk_time\",\"talk_time\",\"talk_time\",\"talk_time\",\"talk_time\",\"talk_time\",\"talk_time\",\"talk_time\",\"talk_time\",\"talk_time\",\"talk_time\",\"talk_time\",\"talk_time\",\"talk_time\",\"talk_time\",\"talk_time\",\"talk_time\",\"talk_time\",\"talk_time\",\"talk_time\",\"talk_time\",\"talk_time\",\"talk_time\",\"talk_time\",\"talk_time\",\"talk_time\",\"talk_time\",\"talk_time\",\"talk_time\",\"talk_time\",\"talk_time\",\"talk_time\",\"talk_time\",\"talk_time\",\"talk_time\",\"talk_time\",\"talk_time\",\"talk_time\",\"talk_time\",\"talk_time\",\"talk_time\",\"talk_time\",\"talk_time\",\"talk_time\",\"talk_time\",\"talk_time\",\"talk_time\",\"talk_time\",\"talk_time\",\"talk_time\",\"talk_time\",\"talk_time\",\"talk_time\",\"talk_time\",\"talk_time\",\"talk_time\",\"talk_time\",\"talk_time\",\"talk_time\",\"talk_time\",\"talk_time\",\"talk_time\",\"talk_time\",\"talk_time\",\"talk_time\",\"talk_time\",\"talk_time\",\"talk_time\",\"talk_time\",\"talk_time\",\"talk_time\",\"talk_time\",\"talk_time\",\"talk_time\",\"talk_time\",\"talk_time\",\"talk_time\",\"talk_time\",\"talk_time\",\"talk_time\",\"talk_time\",\"talk_time\",\"talk_time\",\"talk_time\",\"talk_time\",\"talk_time\",\"talk_time\",\"talk_time\",\"talk_time\",\"talk_time\",\"talk_time\",\"talk_time\",\"talk_time\",\"talk_time\",\"talk_time\",\"talk_time\",\"talk_time\",\"talk_time\",\"talk_time\",\"talk_time\",\"talk_time\",\"talk_time\",\"talk_time\",\"talk_time\",\"talk_time\",\"talk_time\",\"talk_time\",\"talk_time\",\"talk_time\",\"talk_time\",\"talk_time\",\"talk_time\",\"talk_time\",\"talk_time\",\"talk_time\",\"talk_time\",\"talk_time\",\"talk_time\",\"talk_time\",\"talk_time\",\"talk_time\",\"talk_time\",\"talk_time\",\"talk_time\",\"talk_time\",\"talk_time\",\"talk_time\",\"talk_time\",\"talk_time\",\"talk_time\",\"talk_time\",\"talk_time\",\"talk_time\",\"talk_time\",\"talk_time\",\"talk_time\",\"talk_time\",\"talk_time\",\"talk_time\",\"talk_time\",\"talk_time\",\"talk_time\",\"talk_time\",\"talk_time\",\"talk_time\",\"talk_time\",\"talk_time\",\"talk_time\",\"talk_time\",\"talk_time\",\"talk_time\",\"talk_time\",\"talk_time\",\"talk_time\",\"talk_time\",\"talk_time\",\"talk_time\",\"talk_time\",\"talk_time\",\"talk_time\",\"talk_time\",\"talk_time\",\"talk_time\",\"talk_time\",\"talk_time\",\"talk_time\",\"talk_time\",\"talk_time\",\"talk_time\",\"talk_time\",\"talk_time\",\"talk_time\",\"talk_time\",\"talk_time\",\"talk_time\",\"talk_time\",\"talk_time\",\"talk_time\",\"talk_time\",\"talk_time\",\"talk_time\",\"talk_time\",\"talk_time\",\"talk_time\",\"talk_time\",\"talk_time\",\"talk_time\",\"talk_time\",\"talk_time\",\"talk_time\",\"talk_time\",\"talk_time\",\"talk_time\",\"talk_time\",\"talk_time\",\"talk_time\",\"talk_time\",\"talk_time\",\"talk_time\",\"talk_time\",\"talk_time\",\"talk_time\",\"talk_time\",\"talk_time\",\"talk_time\",\"talk_time\",\"talk_time\",\"talk_time\",\"talk_time\",\"talk_time\",\"talk_time\",\"talk_time\",\"talk_time\",\"talk_time\",\"talk_time\",\"talk_time\",\"talk_time\",\"talk_time\",\"talk_time\",\"talk_time\",\"talk_time\",\"talk_time\",\"talk_time\",\"talk_time\",\"talk_time\",\"talk_time\",\"talk_time\",\"talk_time\",\"talk_time\",\"talk_time\",\"talk_time\",\"talk_time\",\"talk_time\",\"talk_time\",\"talk_time\",\"talk_time\",\"talk_time\",\"talk_time\",\"talk_time\",\"talk_time\",\"talk_time\",\"talk_time\",\"talk_time\",\"talk_time\",\"talk_time\",\"talk_time\",\"talk_time\",\"talk_time\",\"talk_time\",\"talk_time\",\"talk_time\",\"talk_time\",\"talk_time\",\"talk_time\",\"talk_time\",\"talk_time\",\"talk_time\",\"talk_time\",\"talk_time\",\"talk_time\",\"talk_time\",\"talk_time\",\"talk_time\",\"talk_time\",\"talk_time\",\"talk_time\",\"talk_time\",\"talk_time\",\"talk_time\",\"talk_time\",\"talk_time\",\"talk_time\",\"talk_time\",\"talk_time\",\"talk_time\",\"talk_time\",\"talk_time\",\"talk_time\",\"talk_time\",\"talk_time\",\"talk_time\",\"talk_time\",\"talk_time\",\"talk_time\",\"talk_time\",\"talk_time\",\"talk_time\",\"talk_time\",\"talk_time\",\"talk_time\",\"talk_time\",\"talk_time\",\"talk_time\",\"talk_time\",\"talk_time\",\"talk_time\",\"talk_time\",\"talk_time\",\"talk_time\",\"talk_time\",\"talk_time\",\"talk_time\",\"talk_time\",\"talk_time\",\"talk_time\",\"talk_time\",\"talk_time\",\"talk_time\",\"talk_time\",\"talk_time\",\"talk_time\",\"talk_time\",\"talk_time\",\"talk_time\",\"talk_time\",\"talk_time\",\"talk_time\",\"talk_time\",\"talk_time\",\"talk_time\",\"talk_time\",\"talk_time\",\"talk_time\",\"talk_time\",\"talk_time\",\"talk_time\",\"talk_time\",\"talk_time\",\"talk_time\",\"talk_time\",\"talk_time\",\"talk_time\",\"talk_time\",\"talk_time\",\"talk_time\",\"talk_time\",\"talk_time\",\"talk_time\",\"talk_time\",\"talk_time\",\"talk_time\",\"talk_time\",\"talk_time\",\"talk_time\",\"talk_time\",\"talk_time\",\"talk_time\",\"talk_time\",\"talk_time\",\"talk_time\",\"talk_time\",\"talk_time\",\"talk_time\",\"talk_time\",\"talk_time\",\"talk_time\",\"talk_time\",\"talk_time\",\"talk_time\",\"talk_time\",\"talk_time\",\"talk_time\",\"talk_time\",\"talk_time\",\"talk_time\",\"talk_time\",\"talk_time\",\"talk_time\",\"talk_time\",\"talk_time\",\"talk_time\",\"talk_time\",\"talk_time\",\"talk_time\",\"talk_time\",\"talk_time\",\"talk_time\",\"talk_time\",\"talk_time\",\"talk_time\",\"talk_time\",\"talk_time\",\"talk_time\",\"talk_time\",\"talk_time\",\"talk_time\",\"talk_time\",\"talk_time\",\"talk_time\",\"talk_time\",\"talk_time\",\"talk_time\",\"talk_time\",\"talk_time\",\"talk_time\",\"talk_time\",\"talk_time\",\"talk_time\",\"talk_time\",\"talk_time\",\"talk_time\",\"talk_time\",\"talk_time\",\"talk_time\",\"talk_time\",\"talk_time\",\"talk_time\",\"talk_time\",\"talk_time\",\"talk_time\",\"talk_time\",\"talk_time\",\"talk_time\",\"talk_time\",\"talk_time\",\"talk_time\",\"talk_time\",\"talk_time\",\"talk_time\",\"talk_time\",\"talk_time\",\"talk_time\",\"talk_time\",\"talk_time\",\"talk_time\",\"talk_time\",\"talk_time\",\"talk_time\",\"talk_time\",\"talk_time\",\"talk_time\",\"talk_time\",\"talk_time\",\"talk_time\",\"talk_time\",\"talk_time\",\"talk_time\",\"talk_time\",\"talk_time\",\"talk_time\",\"talk_time\",\"talk_time\",\"talk_time\",\"talk_time\",\"talk_time\",\"talk_time\",\"talk_time\",\"talk_time\",\"talk_time\",\"talk_time\",\"talk_time\",\"talk_time\",\"talk_time\",\"talk_time\",\"talk_time\",\"talk_time\",\"talk_time\",\"talk_time\",\"talk_time\",\"talk_time\",\"talk_time\",\"talk_time\",\"talk_time\",\"talk_time\",\"talk_time\",\"talk_time\",\"talk_time\",\"talk_time\",\"talk_time\",\"talk_time\",\"talk_time\",\"talk_time\",\"talk_time\",\"talk_time\",\"talk_time\",\"talk_time\",\"talk_time\",\"talk_time\",\"talk_time\",\"talk_time\",\"talk_time\",\"talk_time\",\"talk_time\",\"talk_time\",\"talk_time\",\"talk_time\",\"talk_time\",\"talk_time\",\"talk_time\",\"talk_time\",\"talk_time\",\"talk_time\",\"talk_time\",\"talk_time\",\"talk_time\",\"talk_time\",\"talk_time\",\"talk_time\",\"talk_time\",\"talk_time\",\"talk_time\",\"talk_time\",\"talk_time\",\"talk_time\",\"talk_time\",\"talk_time\",\"talk_time\",\"talk_time\",\"talk_time\",\"talk_time\",\"talk_time\",\"talk_time\",\"talk_time\",\"talk_time\",\"talk_time\",\"talk_time\",\"talk_time\",\"talk_time\",\"talk_time\",\"talk_time\",\"talk_time\",\"talk_time\",\"talk_time\",\"talk_time\",\"talk_time\",\"talk_time\",\"talk_time\",\"talk_time\",\"talk_time\",\"talk_time\",\"talk_time\",\"talk_time\",\"talk_time\",\"talk_time\",\"talk_time\",\"talk_time\",\"talk_time\",\"talk_time\",\"talk_time\",\"talk_time\",\"talk_time\",\"talk_time\",\"talk_time\",\"talk_time\",\"talk_time\",\"talk_time\",\"talk_time\",\"talk_time\",\"talk_time\",\"talk_time\",\"talk_time\",\"talk_time\",\"talk_time\",\"talk_time\",\"talk_time\",\"talk_time\",\"talk_time\",\"talk_time\",\"talk_time\",\"talk_time\",\"talk_time\",\"talk_time\",\"talk_time\",\"talk_time\",\"talk_time\",\"talk_time\",\"talk_time\",\"talk_time\",\"talk_time\",\"talk_time\",\"talk_time\",\"talk_time\",\"talk_time\",\"talk_time\",\"talk_time\",\"talk_time\",\"talk_time\",\"talk_time\",\"talk_time\",\"talk_time\",\"talk_time\",\"talk_time\",\"talk_time\",\"talk_time\",\"talk_time\",\"talk_time\",\"talk_time\",\"talk_time\",\"talk_time\",\"talk_time\",\"talk_time\",\"talk_time\",\"talk_time\",\"talk_time\",\"talk_time\",\"talk_time\",\"talk_time\",\"talk_time\",\"talk_time\",\"talk_time\",\"talk_time\",\"talk_time\",\"talk_time\",\"talk_time\",\"talk_time\",\"talk_time\",\"talk_time\",\"talk_time\",\"talk_time\",\"talk_time\",\"talk_time\",\"talk_time\",\"talk_time\",\"talk_time\",\"talk_time\",\"talk_time\",\"talk_time\",\"talk_time\",\"talk_time\"],\"x0\":\" \",\"xaxis\":\"x\",\"y\":[842.0,1021.0,563.0,615.0,1821.0,1859.0,1821.0,1954.0,1445.0,509.0,769.0,1520.0,1815.0,803.0,1866.0,775.0,838.0,595.0,1131.0,682.0,772.0,1709.0,1949.0,1602.0,503.0,961.0,519.0,956.0,1453.0,851.0,1579.0,1568.0,1319.0,1310.0,644.0,725.0,589.0,1725.0,790.0,560.0,1347.0,1646.0,1253.0,1656.0,1195.0,1514.0,1723.0,1054.0,578.0,596.0,1547.0,1760.0,1654.0,1457.0,1073.0,1936.0,823.0,987.0,1757.0,1063.0,1484.0,799.0,1156.0,1720.0,702.0,616.0,1358.0,1866.0,1242.0,1166.0,1448.0,1407.0,605.0,1038.0,797.0,819.0,1114.0,1234.0,1199.0,1103.0,1589.0,999.0,1510.0,1008.0,1127.0,1412.0,1496.0,1083.0,668.0,1309.0,1724.0,1977.0,885.0,879.0,1322.0,1137.0,1355.0,1665.0,657.0,593.0,1883.0,1732.0,543.0,1939.0,553.0,832.0,1661.0,1657.0,1135.0,1775.0,783.0,617.0,867.0,1310.0,1804.0,1900.0,909.0,1084.0,1308.0,1778.0,1701.0,772.0,825.0,1379.0,1166.0,1659.0,826.0,1564.0,1957.0,1571.0,1414.0,1790.0,645.0,668.0,1652.0,1213.0,1272.0,866.0,536.0,523.0,1753.0,1218.0,1537.0,786.0,1678.0,1814.0,1101.0,1461.0,1216.0,506.0,843.0,742.0,1692.0,1485.0,1547.0,1692.0,637.0,1224.0,1356.0,1840.0,1481.0,961.0,1296.0,1193.0,1441.0,517.0,748.0,1126.0,1572.0,1569.0,1270.0,1854.0,625.0,1577.0,534.0,946.0,685.0,1949.0,947.0,801.0,703.0,1165.0,1082.0,959.0,1502.0,1380.0,1266.0,1934.0,1905.0,1831.0,596.0,1562.0,1490.0,1523.0,640.0,1526.0,1989.0,1308.0,609.0,1905.0,1703.0,1445.0,1087.0,671.0,1472.0,765.0,1642.0,1265.0,664.0,1277.0,1395.0,1539.0,1049.0,1827.0,903.0,1987.0,1154.0,1336.0,1886.0,1551.0,850.0,660.0,1225.0,1452.0,1686.0,1634.0,1708.0,1151.0,1578.0,1689.0,1488.0,1313.0,1715.0,1442.0,528.0,1523.0,1133.0,1718.0,1330.0,1799.0,633.0,724.0,822.0,1918.0,1891.0,1373.0,862.0,1273.0,957.0,1617.0,893.0,1210.0,708.0,835.0,1450.0,973.0,601.0,507.0,564.0,1559.0,754.0,728.0,1431.0,767.0,1722.0,1992.0,1876.0,1054.0,1283.0,1281.0,1066.0,730.0,1053.0,1611.0,793.0,1220.0,1662.0,1281.0,538.0,823.0,1733.0,1429.0,1839.0,659.0,1953.0,1172.0,612.0,1563.0,1191.0,615.0,1893.0,1563.0,1995.0,1517.0,832.0,1162.0,1595.0,1329.0,928.0,1656.0,1937.0,977.0,768.0,1464.0,1177.0,1348.0,1956.0,1751.0,1530.0,1997.0,1414.0,1707.0,894.0,645.0,1163.0,1126.0,1648.0,1170.0,508.0,1097.0,728.0,1980.0,1504.0,1379.0,1698.0,920.0,1144.0,1995.0,1430.0,972.0,662.0,1867.0,1730.0,1723.0,1882.0,803.0,580.0,668.0,1391.0,1560.0,821.0,811.0,1989.0,1034.0,618.0,654.0,576.0,667.0,869.0,635.0,609.0,1557.0,1604.0,1182.0,848.0,1610.0,1828.0,880.0,1394.0,1960.0,809.0,899.0,1976.0,879.0,916.0,763.0,508.0,825.0,1864.0,1725.0,1108.0,1011.0,1703.0,1067.0,1334.0,775.0,1899.0,930.0,1058.0,1187.0,1874.0,1482.0,1809.0,864.0,625.0,1880.0,1138.0,560.0,1117.0,1712.0,1836.0,1036.0,1860.0,1375.0,1945.0,1896.0,788.0,880.0,1323.0,1868.0,1266.0,1042.0,1479.0,1476.0,1552.0,1454.0,1007.0,652.0,1504.0,1726.0,1029.0,1582.0,1478.0,1178.0,707.0,755.0,912.0,651.0,1483.0,914.0,1456.0,1178.0,1503.0,1681.0,715.0,1876.0,1190.0,1755.0,1197.0,1048.0,1887.0,1772.0,1421.0,1464.0,728.0,954.0,685.0,1472.0,853.0,1469.0,1310.0,1654.0,902.0,1448.0,1631.0,1608.0,1991.0,1349.0,1589.0,1844.0,712.0,972.0,1406.0,1289.0,932.0,1747.0,1172.0,1128.0,664.0,513.0,1742.0,1512.0,1986.0,965.0,1067.0,1583.0,1653.0,1433.0,765.0,1845.0,752.0,1948.0,1077.0,932.0,1968.0,1122.0,1588.0,601.0,1615.0,1589.0,1417.0,1697.0,1330.0,1476.0,1579.0,1277.0,1089.0,1663.0,1949.0,1138.0,685.0,1889.0,857.0,1902.0,1225.0,1066.0,1554.0,1337.0,1926.0,869.0,1278.0,1773.0,1661.0,1438.0,1661.0,1846.0,1260.0,512.0,581.0,1872.0,687.0,1062.0,1678.0,1417.0,1074.0,1832.0,1039.0,1059.0,1606.0,1928.0,1875.0,1128.0,1748.0,1413.0,825.0,1589.0,535.0,1780.0,1671.0,1821.0,1076.0,532.0,777.0,1217.0,1656.0,1185.0,577.0,737.0,704.0,525.0,504.0,793.0,569.0,1590.0,707.0,767.0,1350.0,1117.0,641.0,1002.0,1408.0,1900.0,726.0,1544.0,1454.0,1230.0,1552.0,1519.0,723.0,1191.0,1168.0,1229.0,1758.0,1290.0,574.0,1271.0,1170.0,1269.0,1288.0,1366.0,1572.0,1627.0,1701.0,1900.0,1974.0,1197.0,587.0,934.0,1195.0,1853.0,1164.0,1512.0,1232.0,1813.0,946.0,739.0,704.0,1663.0,1966.0,1219.0,612.0,1658.0,1263.0,1395.0,621.0,652.0,1175.0,561.0,1137.0,1835.0,1170.0,1595.0,1719.0,1770.0,1312.0,1878.0,1871.0,922.0,1975.0,1212.0,1430.0,1958.0,1836.0,557.0,539.0,880.0,1369.0,1109.0,843.0,598.0,972.0,1944.0,1225.0,644.0,1919.0,501.0,1620.0,1227.0,1359.0,1914.0,1645.0,1063.0,946.0,1231.0,1397.0,701.0,570.0,1993.0,955.0,924.0,600.0,518.0,1063.0,920.0,1715.0,1841.0,543.0,1762.0,1112.0,709.0,1315.0,1762.0,1462.0,571.0,666.0,1994.0,1583.0,1778.0,1926.0,966.0,568.0,1897.0,1695.0,1623.0,914.0,1721.0,890.0,600.0,1677.0,723.0,638.0,852.0,1979.0,710.0,1034.0,600.0,1027.0,1260.0,1793.0,675.0,658.0,1694.0,804.0,1713.0,706.0,1362.0,1527.0,768.0,1314.0,705.0,1403.0,1486.0,781.0,986.0,1310.0,560.0,1348.0,1567.0,1940.0,1979.0,561.0,1717.0,535.0,1413.0,1358.0,1519.0,1254.0,1591.0,977.0,1640.0,663.0,1744.0,1624.0,1108.0,1188.0,817.0,863.0,1397.0,1108.0,1068.0,1702.0,808.0,1156.0,1271.0,696.0,1981.0,614.0,1590.0,1945.0,1135.0,1049.0,1807.0,984.0,720.0,1536.0,771.0,503.0,675.0,1936.0,1303.0,1004.0,1972.0,1822.0,1159.0,1782.0,894.0,1884.0,1648.0,798.0,802.0,1276.0,1331.0,1620.0,1996.0,1092.0,1018.0,545.0,554.0,1264.0,1030.0,1432.0,558.0,829.0,1741.0,1849.0,733.0,1872.0,1853.0,1149.0,891.0,1911.0,550.0,576.0,1760.0,969.0,1160.0,827.0,1786.0,774.0,819.0,1042.0,1368.0,1592.0,1067.0,1892.0,915.0,774.0,1848.0,1501.0,1614.0,911.0,1520.0,1647.0,1347.0,967.0,1442.0,1204.0,1320.0,1800.0,1567.0,1439.0,1422.0,1591.0,880.0,1929.0,1642.0,1511.0,1312.0,1852.0,972.0,691.0,807.0,1113.0,721.0,1188.0,1512.0,805.0,918.0,1320.0,1236.0,1387.0,1883.0,839.0,1593.0,1722.0,1954.0,1788.0,1628.0,1965.0,833.0,571.0,1808.0,1860.0,1368.0,1161.0,1224.0,902.0,787.0,854.0,1184.0,1973.0,510.0,966.0,1438.0,1986.0,1907.0,1489.0,1843.0,825.0,1286.0,840.0,757.0,814.0,1195.0,767.0,1068.0,994.0,1550.0,1878.0,623.0,1829.0,525.0,1065.0,1425.0,1296.0,642.0,1664.0,1498.0,981.0,1236.0,1673.0,712.0,569.0,603.0,1332.0,1413.0,1064.0,1444.0,1366.0,906.0,1554.0,1187.0,1156.0,1918.0,841.0,730.0,878.0,1059.0,1578.0,1829.0,1132.0,1652.0,912.0,1181.0,1497.0,1790.0,1742.0,1549.0,1372.0,1112.0,1005.0,783.0,1698.0,899.0,1062.0,989.0,1983.0,1800.0,1254.0,868.0,1205.0,1284.0,626.0,1763.0,694.0,1265.0,816.0,904.0,979.0,1531.0,934.0,1624.0,874.0,1027.0,1966.0,1048.0,1496.0,959.0,1349.0,1689.0,1558.0,582.0,1485.0,1991.0,553.0,1231.0,805.0,764.0,894.0,1589.0,1456.0,743.0,1061.0,1428.0,674.0,832.0,1625.0,907.0,1631.0,1584.0,1382.0,633.0,1444.0,852.0,922.0,1745.0,862.0,1754.0,1008.0,1569.0,1596.0,1807.0,1660.0,1861.0,648.0,1379.0,1910.0,1807.0,1923.0,1345.0,904.0,1239.0,1330.0,516.0,672.0,892.0,1778.0,1130.0,1359.0,1866.0,1597.0,1046.0,1035.0,1175.0,1261.0,1068.0,1713.0,1688.0,1413.0,559.0,1483.0,860.0,1090.0,686.0,818.0,1456.0,774.0,1068.0,1373.0,1777.0,594.0,1524.0,511.0,1402.0,965.0,1270.0,919.0,1963.0,1977.0,1881.0,683.0,772.0,536.0,1694.0,1633.0,1371.0,551.0,1221.0,1000.0,1986.0,1119.0,1699.0,1099.0,1576.0,950.0,1081.0,606.0,502.0,957.0,1658.0,1681.0,1983.0,1753.0,1632.0,1949.0,1696.0,688.0,1104.0,1122.0,504.0,1154.0,1727.0,1674.0,1948.0,1218.0,531.0,1057.0,576.0,1960.0,673.0,718.0,864.0,547.0,623.0,1793.0,1720.0,812.0,980.0,643.0,1925.0,1408.0,1522.0,587.0,1959.0,1872.0,1043.0,1809.0,1703.0,1095.0,1414.0,1659.0,1540.0,1342.0,1189.0,518.0,1449.0,516.0,1569.0,1312.0,1893.0,1076.0,530.0,1044.0,1330.0,1836.0,1741.0,1869.0,1331.0,1655.0,605.0,1245.0,1709.0,846.0,1403.0,688.0,775.0,1154.0,1375.0,1827.0,1697.0,741.0,1672.0,514.0,1375.0,989.0,1510.0,1266.0,1396.0,808.0,1542.0,745.0,1735.0,586.0,1341.0,781.0,501.0,1224.0,1970.0,618.0,1537.0,1018.0,1545.0,1871.0,1729.0,680.0,1106.0,635.0,618.0,1671.0,1562.0,1975.0,831.0,1524.0,1528.0,1447.0,1344.0,564.0,921.0,1413.0,831.0,802.0,1923.0,1193.0,904.0,1285.0,1635.0,1923.0,1851.0,727.0,1396.0,877.0,696.0,1009.0,1526.0,987.0,1414.0,1732.0,1587.0,1097.0,504.0,1159.0,1910.0,865.0,1930.0,860.0,1268.0,999.0,622.0,1250.0,763.0,1100.0,815.0,618.0,553.0,673.0,563.0,1590.0,1031.0,909.0,1880.0,1479.0,1271.0,709.0,1744.0,1314.0,1136.0,1039.0,1300.0,732.0,511.0,1092.0,921.0,1030.0,1130.0,1299.0,1009.0,1735.0,1129.0,708.0,894.0,530.0,1481.0,1068.0,1487.0,1524.0,1093.0,1816.0,627.0,989.0,1895.0,805.0,713.0,864.0,1177.0,582.0,1898.0,1158.0,1451.0,1820.0,984.0,580.0,1263.0,1237.0,514.0,1515.0,721.0,603.0,1426.0,1820.0,1215.0,697.0,717.0,1348.0,1164.0,578.0,1971.0,1794.0,1558.0,1597.0,1240.0,1994.0,1221.0,989.0,1180.0,718.0,1670.0,534.0,1566.0,1935.0,504.0,913.0,1317.0,917.0,712.0,1083.0,1039.0,1747.0,1449.0,1872.0,1796.0,1097.0,1562.0,1433.0,740.0,676.0,503.0,1020.0,896.0,1824.0,1512.0,1053.0,1944.0,1174.0,627.0,1602.0,1733.0,586.0,1528.0,875.0,1602.0,1426.0,1370.0,609.0,840.0,991.0,1724.0,584.0,860.0,1541.0,615.0,912.0,1278.0,1365.0,1702.0,589.0,1347.0,1644.0,956.0,1089.0,871.0,664.0,1874.0,1928.0,888.0,1077.0,1023.0,1426.0,831.0,1496.0,1433.0,1095.0,643.0,1142.0,730.0,1901.0,1510.0,1924.0,1825.0,1275.0,987.0,1538.0,1965.0,808.0,712.0,1507.0,912.0,769.0,948.0,507.0,1384.0,1766.0,1407.0,614.0,1972.0,1039.0,511.0,1811.0,1159.0,1848.0,1988.0,1469.0,1423.0,1974.0,835.0,1429.0,947.0,1446.0,1332.0,1498.0,1576.0,1398.0,1885.0,798.0,1436.0,1998.0,1321.0,1021.0,1339.0,1210.0,1949.0,882.0,1549.0,1991.0,796.0,1012.0,1318.0,1708.0,598.0,541.0,818.0,1414.0,601.0,561.0,1616.0,1263.0,1604.0,539.0,1071.0,826.0,771.0,1811.0,1842.0,1420.0,1763.0,1163.0,1805.0,610.0,1533.0,1924.0,1801.0,1726.0,794.0,1686.0,1444.0,1004.0,1242.0,539.0,717.0,1540.0,672.0,1325.0,950.0,948.0,1328.0,1447.0,1973.0,1731.0,1617.0,1791.0,851.0,856.0,714.0,951.0,1303.0,1550.0,1759.0,1448.0,1987.0,908.0,820.0,904.0,667.0,1109.0,1333.0,1352.0,1600.0,1454.0,1489.0,1823.0,1581.0,1672.0,1283.0,630.0,659.0,1811.0,688.0,514.0,1933.0,915.0,1006.0,1134.0,599.0,973.0,1180.0,1237.0,659.0,1142.0,1002.0,1392.0,602.0,1249.0,531.0,1450.0,1342.0,832.0,867.0,1404.0,840.0,1368.0,1927.0,1714.0,1201.0,1796.0,1147.0,776.0,510.0,1045.0,1497.0,1425.0,726.0,1576.0,714.0,1595.0,541.0,1617.0,1154.0,1638.0,1150.0,1254.0,1806.0,603.0,1834.0,520.0,565.0,1689.0,742.0,1143.0,761.0,959.0,772.0,1015.0,1824.0,1130.0,1183.0,574.0,1472.0,1868.0,1375.0,881.0,1742.0,1225.0,1970.0,1186.0,1762.0,1731.0,852.0,848.0,1575.0,1554.0,1972.0,827.0,1063.0,1695.0,1343.0,834.0,595.0,1081.0,911.0,844.0,1335.0,1883.0,1128.0,826.0,1650.0,1162.0,1517.0,963.0,1837.0,1028.0,1831.0,571.0,1770.0,970.0,642.0,622.0,600.0,1412.0,733.0,1070.0,875.0,1994.0,823.0,1908.0,790.0,1330.0,1660.0,1776.0,1611.0,1410.0,1772.0,1280.0,1712.0,1562.0,891.0,1957.0,1110.0,875.0,1211.0,769.0,671.0,1872.0,1076.0,1325.0,911.0,1273.0,1062.0,1317.0,940.0,729.0,1494.0,1546.0,1253.0,895.0,793.0,1628.0,625.0,1110.0,999.0,1856.0,1715.0,1897.0,1202.0,1171.0,964.0,1973.0,1992.0,546.0,1093.0,1880.0,1765.0,1640.0,1830.0,826.0,1864.0,586.0,1206.0,832.0,848.0,1851.0,1166.0,1776.0,1254.0,1494.0,984.0,1179.0,513.0,557.0,744.0,1129.0,1148.0,1793.0,1310.0,1604.0,1676.0,1001.0,1086.0,1986.0,634.0,502.0,1641.0,623.0,962.0,1057.0,1862.0,555.0,1000.0,841.0,865.0,999.0,1232.0,1194.0,612.0,1362.0,1469.0,986.0,1843.0,1561.0,1695.0,667.0,1768.0,1269.0,1109.0,936.0,1713.0,1175.0,1940.0,855.0,771.0,645.0,1307.0,1948.0,1509.0,626.0,1190.0,1727.0,1670.0,1150.0,1208.0,1812.0,770.0,1559.0,1902.0,1751.0,1416.0,1288.0,1003.0,1715.0,1967.0,962.0,1487.0,1569.0,1146.0,1379.0,1504.0,1945.0,1630.0,1125.0,614.0,854.0,1470.0,1826.0,807.0,1996.0,1083.0,1035.0,1521.0,1314.0,535.0,673.0,1219.0,1606.0,1603.0,1958.0,695.0,1441.0,1470.0,1890.0,1152.0,1619.0,1002.0,742.0,1306.0,1424.0,942.0,1934.0,1290.0,930.0,1699.0,1849.0,1922.0,548.0,916.0,1783.0,1083.0,1698.0,1969.0,869.0,1337.0,637.0,833.0,1248.0,1174.0,1831.0,1002.0,1010.0,1117.0,990.0,1564.0,1065.0,1982.0,1607.0,1066.0,681.0,1163.0,1285.0,753.0,1779.0,987.0,511.0,1044.0,1855.0,946.0,657.0,1673.0,731.0,926.0,1261.0,618.0,936.0,1485.0,1339.0,508.0,1938.0,995.0,1086.0,1322.0,1864.0,1944.0,581.0,1020.0,1936.0,1329.0,808.0,994.0,1811.0,765.0,993.0,1136.0,719.0,733.0,1946.0,1230.0,1577.0,1514.0,579.0,574.0,1072.0,843.0,1492.0,1807.0,909.0,1876.0,1436.0,1251.0,636.0,1354.0,930.0,1830.0,1424.0,583.0,648.0,1203.0,1777.0,1299.0,1494.0,527.0,793.0,873.0,722.0,1250.0,1358.0,1035.0,1289.0,1445.0,1702.0,534.0,628.0,713.0,1207.0,683.0,594.0,537.0,1565.0,1052.0,713.0,1766.0,584.0,1541.0,837.0,935.0,665.0,680.0,877.0,1493.0,1762.0,842.0,925.0,1692.0,1576.0,1065.0,958.0,623.0,897.0,1110.0,616.0,1680.0,1715.0,983.0,720.0,1660.0,1564.0,592.0,969.0,1356.0,504.0,1546.0,689.0,1685.0,1792.0,1786.0,1944.0,1077.0,648.0,1702.0,1571.0,856.0,1786.0,914.0,1615.0,649.0,1646.0,1189.0,1043.0,1920.0,1220.0,1748.0,907.0,1193.0,1766.0,1278.0,1234.0,1961.0,1745.0,1442.0,1083.0,868.0,864.0,1142.0,608.0,983.0,1720.0,1802.0,591.0,1205.0,1369.0,713.0,1082.0,1719.0,1544.0,1090.0,1991.0,1367.0,1179.0,721.0,1549.0,1349.0,1799.0,1075.0,684.0,1837.0,1619.0,965.0,730.0,1361.0,1494.0,1027.0,1807.0,709.0,689.0,955.0,1872.0,1259.0,695.0,1969.0,759.0,936.0,1176.0,1802.0,772.0,1318.0,591.0,569.0,764.0,1056.0,1982.0,1830.0,1122.0,1023.0,1283.0,1602.0,732.0,1854.0,718.0,897.0,1405.0,798.0,1035.0,1396.0,1749.0,1588.0,1600.0,1522.0,1279.0,719.0,544.0,1007.0,590.0,1788.0,748.0,757.0,1561.0,1327.0,797.0,727.0,686.0,1515.0,555.0,1589.0,1976.0,1884.0,1063.0,672.0,635.0,1906.0,1753.0,659.0,1583.0,1783.0,1667.0,640.0,1913.0,538.0,1191.0,816.0,915.0,1157.0,1201.0,1379.0,1483.0,1614.0,930.0,1454.0,1784.0,1262.0,797.0,1829.0,1139.0,618.0,1547.0,586.0,1617.0,1882.0,674.0,1467.0,858.0,794.0,1965.0,1911.0,1512.0,510.0,2.2,0.5,0.5,2.5,1.2,0.5,1.7,0.5,0.5,0.6,2.9,2.2,2.8,2.1,0.5,1.0,0.5,0.9,0.5,0.5,1.1,2.1,2.6,2.8,1.2,1.4,1.6,0.5,1.6,0.5,0.5,0.5,0.9,2.2,2.7,1.3,2.3,1.6,2.0,0.5,2.9,2.3,0.5,1.0,2.8,2.9,1.1,1.8,2.6,2.1,3.0,1.4,1.5,1.9,0.5,2.1,2.7,1.3,0.5,1.4,3.0,2.3,1.2,2.0,2.6,1.9,0.5,1.4,1.1,1.5,0.5,2.4,1.0,1.2,2.9,0.6,2.8,1.6,2.5,1.0,0.6,2.9,0.9,0.8,2.9,2.4,2.0,2.9,0.5,1.1,2.0,2.0,2.3,2.5,1.7,1.0,2.3,0.5,2.5,0.5,0.5,1.1,0.5,2.8,2.4,0.7,1.9,2.4,2.0,1.5,1.8,2.3,1.4,1.1,0.5,2.3,1.4,2.6,1.3,0.5,1.6,2.4,0.5,1.1,2.0,2.8,2.4,2.3,0.9,1.4,2.0,2.5,0.5,2.9,1.1,0.5,2.5,0.5,2.4,2.6,0.5,1.8,2.5,2.2,2.1,1.4,1.8,2.4,3.0,1.6,0.5,2.2,2.1,1.0,2.9,2.3,2.3,0.5,2.8,0.5,0.7,1.5,0.9,0.9,2.1,1.4,1.7,2.4,0.6,2.8,0.6,3.0,1.2,0.5,0.5,1.7,0.5,1.3,0.8,2.2,2.7,2.4,0.8,2.6,1.2,2.1,0.5,2.6,0.5,1.4,1.4,1.3,0.5,2.4,0.6,2.1,2.5,1.9,0.5,0.6,0.5,2.4,1.3,0.9,2.3,0.5,0.5,1.5,1.1,0.5,1.8,2.6,2.2,1.7,1.0,0.5,1.2,0.9,0.5,1.1,1.6,0.5,2.1,0.5,2.8,1.4,2.4,2.9,1.9,1.8,0.5,1.8,1.0,1.0,1.7,1.8,1.4,2.5,0.5,0.5,2.2,2.7,0.5,1.9,2.8,1.0,0.8,1.0,2.5,1.3,2.5,0.5,2.7,1.1,2.7,1.5,1.4,0.5,1.8,1.6,0.5,2.7,0.5,1.5,2.6,1.6,0.5,1.1,1.6,2.3,0.6,2.1,0.8,0.5,1.0,2.9,0.5,2.8,0.8,0.5,2.8,1.5,1.2,2.7,2.1,1.9,1.9,2.4,1.3,0.5,2.1,1.7,1.9,0.5,1.6,2.0,2.6,1.0,0.5,0.5,1.7,1.1,0.9,0.5,0.9,2.0,2.2,0.5,2.0,1.8,1.5,1.4,0.5,1.2,2.8,0.7,0.7,0.9,0.8,2.1,1.7,0.5,2.3,2.1,2.1,2.1,1.5,0.5,0.5,0.5,0.5,2.3,2.0,1.0,1.3,0.8,1.2,2.3,1.4,2.3,1.8,2.4,2.9,2.7,2.1,1.3,2.8,0.6,1.0,0.5,3.0,2.8,1.7,0.5,2.1,2.9,2.1,2.0,0.9,2.3,0.8,0.5,0.7,1.5,2.6,1.7,1.6,2.9,1.4,0.5,2.9,1.1,1.5,1.7,2.4,2.6,0.6,1.3,1.5,2.2,2.7,0.5,1.7,3.0,1.9,1.8,1.4,0.5,0.5,1.4,1.7,2.4,2.3,1.1,1.6,0.5,2.5,1.7,2.5,2.0,1.9,2.7,0.5,1.2,2.2,0.5,2.0,2.4,1.5,0.9,1.9,2.8,0.8,1.3,2.1,2.8,2.0,0.8,2.1,0.9,0.5,2.2,0.7,2.5,2.3,2.8,2.2,1.3,1.3,0.9,3.0,0.5,2.8,0.5,2.3,0.5,0.5,2.8,2.0,2.1,2.3,1.8,0.7,1.4,0.9,1.8,2.7,2.0,2.5,2.3,0.5,1.7,0.5,0.9,1.3,0.9,2.1,1.4,1.2,0.5,2.3,1.7,0.5,1.5,2.4,1.6,0.5,1.6,2.9,0.5,0.5,2.8,2.5,0.5,0.9,1.2,0.5,2.1,0.5,2.2,2.7,0.7,1.3,0.5,1.5,3.0,0.9,2.5,1.8,1.1,2.7,2.8,2.0,2.8,2.4,1.6,0.5,0.5,1.7,1.3,0.5,2.5,0.8,2.2,1.4,0.6,2.0,0.5,2.2,2.3,1.3,2.5,2.3,0.5,2.4,0.7,1.3,2.4,1.4,1.8,0.5,1.1,1.7,0.5,0.5,1.4,0.5,0.5,0.6,0.9,2.6,0.8,2.6,0.5,1.6,1.9,2.4,2.4,2.2,0.5,0.5,1.2,0.6,1.9,0.5,1.9,0.5,0.6,1.1,0.8,2.1,2.0,2.9,2.3,1.6,2.2,1.2,2.1,1.9,2.4,1.3,0.5,0.5,0.5,2.8,0.5,1.2,1.3,2.8,0.7,0.8,0.9,0.5,0.5,1.0,0.5,2.3,1.1,2.0,1.0,1.0,0.5,2.9,0.6,2.6,2.3,2.7,0.5,1.4,1.0,0.7,1.4,0.5,2.8,2.7,0.5,0.6,1.0,2.2,2.3,2.9,0.8,2.0,2.3,0.5,1.5,2.0,1.5,1.5,2.6,0.9,1.9,2.1,1.6,0.6,0.5,1.8,2.7,1.8,2.3,2.7,0.5,0.7,1.3,1.5,2.3,2.2,1.1,0.5,0.7,1.8,1.1,2.1,1.2,2.9,0.7,0.5,0.5,0.5,0.5,0.5,0.8,2.5,0.5,1.9,1.3,0.5,2.7,0.5,2.0,2.6,2.5,1.7,1.6,0.5,1.5,2.1,1.4,1.1,0.6,2.0,3.0,0.5,1.2,0.5,0.5,2.2,0.5,1.8,0.5,1.7,1.0,1.6,0.5,2.6,2.5,0.5,0.6,1.8,2.3,2.7,0.6,0.8,2.5,0.5,0.5,2.7,0.5,2.9,0.5,2.7,2.6,1.1,1.5,1.4,2.0,1.3,0.5,0.9,2.9,2.1,1.3,1.5,0.5,2.5,2.9,1.2,2.2,2.8,0.7,0.8,1.0,1.6,1.3,1.4,1.3,1.6,2.4,1.0,2.0,2.3,0.5,0.5,0.5,0.5,1.9,1.7,0.6,1.6,2.8,0.6,2.1,0.5,1.4,0.8,0.5,2.5,2.4,1.9,1.0,2.9,1.2,1.2,2.8,2.8,2.1,2.1,0.5,2.4,2.4,2.9,1.6,2.6,2.5,2.7,0.7,0.5,1.3,2.9,1.6,1.7,2.8,0.5,1.8,2.3,2.1,0.9,0.5,2.2,0.5,2.0,0.5,0.8,1.9,2.4,1.1,1.1,0.5,0.6,2.5,2.2,3.0,2.1,1.8,0.7,1.1,2.8,1.4,1.1,1.9,2.9,0.5,1.4,0.9,1.6,2.2,2.6,2.1,0.7,2.1,0.9,1.0,2.2,1.7,0.5,1.6,2.5,1.3,1.4,1.3,2.7,0.5,0.6,1.3,1.5,0.5,0.7,0.9,0.5,0.9,0.5,2.7,2.0,1.0,1.0,0.6,0.5,0.5,0.5,2.2,0.6,0.5,0.5,1.6,1.3,1.6,0.6,0.5,0.5,1.5,1.6,1.7,2.0,1.8,0.5,2.0,2.4,1.8,1.5,2.3,0.6,2.3,1.1,1.1,0.8,1.3,2.8,2.5,0.5,2.0,0.5,2.4,0.5,1.2,1.4,2.8,2.9,0.7,1.9,2.8,2.8,1.6,0.5,0.7,0.8,0.6,2.9,0.6,1.7,2.1,2.7,2.3,2.7,2.8,0.5,1.3,1.3,0.5,2.9,1.7,1.0,0.6,0.5,2.3,0.7,2.3,1.6,0.5,2.7,0.5,0.5,1.7,2.5,2.7,1.5,2.0,1.2,3.0,1.7,1.7,0.5,2.8,0.7,2.9,1.8,0.6,0.5,1.8,0.5,2.0,2.0,2.6,1.3,2.2,0.8,1.5,1.9,1.7,2.2,2.4,2.4,0.5,2.8,1.8,0.5,0.7,0.8,1.2,0.9,2.6,1.6,0.5,2.1,1.6,2.8,1.1,0.5,1.4,0.5,1.3,0.5,1.4,2.1,1.6,0.7,1.5,2.3,2.1,2.5,0.5,2.9,0.5,2.8,0.9,1.9,0.5,1.7,2.0,0.5,3.0,1.6,1.2,0.9,0.7,0.5,0.5,0.5,2.5,0.6,2.5,2.3,2.8,0.6,1.3,0.5,0.7,3.0,2.5,0.5,0.5,2.6,1.6,1.3,0.5,1.3,1.6,0.5,0.5,1.9,3.0,0.8,2.6,0.6,0.6,0.5,2.3,0.5,1.0,1.3,2.2,0.7,2.6,1.4,1.8,1.7,0.5,2.8,0.5,0.5,2.7,0.5,0.5,0.5,2.6,0.5,2.5,2.5,1.5,0.7,1.4,2.5,0.5,1.2,1.4,1.4,1.7,2.5,1.7,2.8,0.5,0.5,2.1,2.8,2.8,2.8,1.1,2.1,1.2,2.1,1.7,0.7,1.7,1.9,0.9,0.7,0.7,0.5,0.5,1.0,3.0,2.5,0.7,2.5,0.5,0.5,0.5,0.5,0.5,0.5,2.6,2.5,0.7,1.0,2.3,2.4,0.8,1.1,0.8,0.8,0.5,2.5,2.6,2.8,1.1,1.1,0.5,2.6,0.5,0.5,1.5,0.6,0.8,2.6,2.5,1.5,2.5,2.0,0.5,0.8,0.5,1.5,0.5,0.7,1.3,1.8,2.5,2.6,2.4,2.3,2.3,0.6,1.9,0.5,2.1,1.3,0.5,1.8,1.6,2.2,2.9,2.2,1.3,2.1,2.1,2.1,1.9,0.6,0.6,0.5,1.2,1.9,0.7,1.8,1.8,2.5,1.5,3.0,0.6,1.7,2.4,0.5,1.3,3.0,1.2,2.4,2.6,1.0,1.9,1.5,1.5,1.3,2.4,1.0,1.1,2.0,2.2,0.8,0.5,0.8,2.8,2.7,1.4,1.2,2.0,1.3,2.9,1.8,0.7,1.4,0.5,1.6,2.0,0.5,2.2,2.2,2.0,1.5,2.1,0.5,0.5,1.8,1.5,1.9,2.8,2.2,0.5,2.7,0.5,2.3,0.7,0.5,2.2,0.5,1.8,2.8,2.8,1.8,2.8,1.9,0.7,2.4,2.0,2.7,0.5,2.5,1.9,1.6,1.8,0.7,0.5,1.7,1.6,2.5,0.9,0.5,1.8,0.7,0.5,1.4,0.5,2.1,2.0,0.5,1.6,2.6,0.5,2.5,2.5,1.7,1.0,2.7,0.5,2.0,2.6,0.5,0.5,0.5,2.5,0.9,1.6,0.8,2.3,1.6,1.2,2.8,1.6,2.5,0.5,0.5,2.8,1.7,1.8,0.5,2.5,1.0,0.6,0.5,0.5,0.5,1.6,1.4,0.5,2.3,1.8,2.2,1.8,1.5,1.0,0.8,0.6,2.9,1.8,0.7,1.6,2.7,1.5,1.4,2.4,0.7,0.6,1.6,1.4,0.5,1.2,2.0,1.8,1.8,1.3,2.8,0.5,2.8,1.2,0.6,1.0,0.5,1.5,2.8,1.9,1.4,0.6,1.5,0.6,2.6,2.6,1.7,2.3,0.8,1.7,1.3,2.3,2.6,0.7,1.1,0.5,0.5,0.6,2.6,1.1,0.5,2.3,2.3,0.5,1.9,0.5,0.9,0.7,1.2,2.3,1.9,2.8,1.3,1.8,2.9,2.9,0.5,3.0,2.5,1.5,1.3,0.5,0.5,0.6,0.5,0.8,0.6,0.5,2.8,1.3,1.2,0.9,1.6,2.4,0.5,2.5,1.2,1.3,1.3,2.3,1.6,0.5,0.7,1.5,2.2,0.5,0.5,1.9,0.8,0.8,2.3,0.5,0.5,1.7,2.8,2.3,1.4,1.9,2.0,2.6,0.5,2.9,2.9,2.2,2.8,0.5,1.9,0.5,1.6,1.1,0.5,0.5,1.9,2.5,0.5,2.1,1.6,2.4,1.5,1.1,0.7,0.5,0.5,0.5,1.5,0.5,0.5,0.5,2.3,1.5,0.5,2.3,1.9,0.5,0.5,2.1,2.7,1.4,0.5,1.9,2.1,0.5,2.7,1.3,2.1,1.4,2.4,2.5,1.4,2.1,2.8,1.0,1.7,0.7,2.0,2.2,0.5,2.5,2.9,2.8,2.0,2.2,0.9,2.9,0.5,2.5,2.5,0.5,1.4,2.7,2.5,0.9,0.5,0.5,2.1,2.8,0.5,1.5,2.1,0.9,0.5,0.9,0.5,0.5,2.3,0.8,1.7,2.6,1.2,0.9,0.6,2.2,2.0,2.1,1.9,1.0,2.6,1.1,1.0,2.7,2.3,2.0,1.5,2.1,2.3,0.6,0.5,2.3,1.2,0.5,1.3,1.2,0.8,1.9,0.5,0.5,2.0,3.0,0.5,2.9,1.0,0.5,0.7,0.5,0.5,0.7,1.4,1.8,1.5,2.5,2.8,1.6,0.6,1.5,2.3,2.4,0.5,2.6,1.9,1.4,2.2,3.0,1.6,0.5,2.4,2.3,1.0,2.5,0.5,1.0,2.8,2.2,2.0,2.3,1.3,0.5,1.9,1.8,0.6,0.8,3.0,0.7,0.7,1.0,0.5,0.5,1.8,0.5,2.2,0.5,0.5,1.6,1.3,0.9,0.7,1.9,1.2,0.6,1.4,1.2,0.5,2.9,0.5,2.3,1.9,2.2,0.7,0.5,1.5,2.9,2.0,2.4,1.6,0.7,0.5,1.9,1.8,2.7,1.5,1.7,0.5,2.6,1.9,2.4,1.7,2.0,2.4,0.6,2.6,0.5,2.0,1.1,0.5,0.5,0.6,2.2,0.6,3.0,0.5,2.8,2.9,0.5,2.1,1.2,1.6,2.2,0.8,1.9,0.5,1.7,0.8,2.3,2.7,2.3,1.2,1.6,2.8,2.7,0.5,0.8,0.8,1.1,1.4,1.1,2.7,1.5,3.0,2.7,0.5,2.9,2.6,1.2,2.3,0.5,2.9,1.7,0.8,2.8,0.5,0.5,2.6,2.0,2.8,2.8,0.5,2.0,1.7,1.0,0.5,0.5,2.5,1.8,2.9,0.6,2.8,2.0,2.1,3.0,0.5,2.9,1.3,1.5,1.3,0.5,2.5,1.8,0.5,2.9,0.5,0.5,1.0,1.5,1.6,3.0,1.5,1.9,1.2,2.8,2.7,0.7,1.0,1.7,0.5,0.5,2.8,2.0,0.5,1.6,2.8,1.9,1.9,1.6,0.5,0.5,0.5,0.5,0.6,2.2,1.1,2.1,0.9,1.8,0.5,2.1,2.9,1.4,2.7,1.4,2.1,0.5,0.5,0.5,1.0,0.5,0.5,1.4,2.8,0.8,1.9,2.7,0.8,0.6,2.4,0.9,2.3,2.6,2.0,0.5,2.7,1.4,2.8,1.1,1.1,3.0,0.5,2.1,0.8,0.5,2.6,1.9,0.9,1.8,0.5,1.4,1.9,1.6,0.5,0.8,0.5,1.1,2.3,0.9,0.5,1.3,0.5,1.3,1.7,2.3,1.9,0.5,0.6,0.7,1.3,1.7,0.5,1.2,2.0,2.5,2.3,1.6,0.5,0.6,2.7,1.6,1.0,1.4,2.5,3.0,2.2,1.3,1.5,2.9,0.7,1.3,2.4,0.5,0.5,0.7,0.5,1.0,0.5,0.9,0.5,0.5,2.2,2.8,1.9,0.7,2.8,0.5,1.1,1.5,1.7,1.9,0.8,2.2,2.3,0.5,1.8,1.4,0.5,2.1,2.6,2.0,0.5,0.9,1.6,0.5,1.7,1.5,2.4,0.5,0.7,2.4,1.5,1.5,0.6,1.8,2.1,2.1,2.2,1.7,1.6,0.8,1.4,1.5,2.2,1.2,1.3,0.6,0.9,0.6,1.5,0.8,1.8,0.5,1.0,0.5,2.9,0.6,1.0,1.2,0.6,2.5,1.8,0.5,2.9,1.1,2.6,0.7,2.8,1.4,2.5,1.9,2.7,0.6,2.8,0.5,2.6,2.3,0.5,1.0,1.7,1.5,2.9,0.6,2.9,0.9,1.6,1.2,0.5,1.8,1.6,1.2,2.1,2.7,1.7,0.9,2.3,2.1,2.4,2.3,2.8,2.9,0.5,2.7,1.8,2.1,1.0,0.5,0.9,0.5,1.9,1.4,1.5,1.4,1.6,0.8,0.8,2.4,1.4,0.5,1.9,1.2,1.2,1.2,2.5,1.0,2.1,2.7,1.0,2.4,0.5,2.5,1.0,2.1,1.6,0.5,0.5,0.7,2.4,1.6,1.3,0.9,1.6,2.0,1.7,0.6,2.7,0.6,0.5,2.5,0.5,2.2,2.5,2.9,0.5,2.9,1.2,0.5,1.4,0.9,1.6,2.8,1.5,2.5,2.7,2.1,0.5,0.6,2.6,1.0,2.0,0.6,0.5,1.9,0.7,1.4,1.2,2.9,1.0,1.3,1.8,1.1,0.8,3.0,0.5,0.8,0.5,1.1,2.2,1.2,1.0,2.6,1.6,1.8,2.2,2.1,0.9,1.0,2.9,2.8,2.4,2.0,2.9,0.5,2.2,0.5,2.6,0.9,0.9,2.0,1.0,0.0,2.0,0.0,13.0,3.0,4.0,0.0,0.0,2.0,0.0,5.0,2.0,7.0,13.0,3.0,1.0,7.0,11.0,4.0,12.0,1.0,4.0,4.0,5.0,0.0,7.0,1.0,12.0,3.0,0.0,16.0,3.0,0.0,0.0,16.0,1.0,6.0,16.0,15.0,5.0,8.0,5.0,5.0,1.0,0.0,1.0,3.0,2.0,9.0,2.0,5.0,0.0,1.0,0.0,10.0,13.0,0.0,8.0,2.0,3.0,1.0,0.0,15.0,2.0,13.0,11.0,0.0,0.0,0.0,6.0,1.0,8.0,3.0,4.0,8.0,4.0,1.0,15.0,6.0,0.0,11.0,2.0,11.0,5.0,5.0,4.0,1.0,0.0,0.0,2.0,7.0,0.0,11.0,6.0,18.0,10.0,3.0,0.0,6.0,3.0,4.0,0.0,0.0,1.0,2.0,5.0,3.0,0.0,3.0,0.0,0.0,0.0,13.0,9.0,1.0,0.0,3.0,8.0,0.0,3.0,1.0,7.0,5.0,3.0,5.0,0.0,4.0,11.0,0.0,2.0,9.0,1.0,7.0,1.0,0.0,0.0,5.0,12.0,1.0,0.0,1.0,4.0,0.0,3.0,1.0,0.0,3.0,4.0,6.0,1.0,4.0,3.0,2.0,6.0,4.0,3.0,16.0,0.0,12.0,4.0,10.0,0.0,11.0,11.0,3.0,0.0,2.0,0.0,17.0,2.0,2.0,5.0,0.0,0.0,8.0,2.0,0.0,0.0,2.0,12.0,11.0,0.0,15.0,0.0,1.0,0.0,0.0,3.0,2.0,8.0,1.0,4.0,5.0,0.0,1.0,0.0,0.0,3.0,9.0,0.0,7.0,0.0,10.0,6.0,0.0,16.0,7.0,1.0,0.0,0.0,0.0,9.0,4.0,0.0,3.0,0.0,5.0,0.0,4.0,6.0,5.0,8.0,1.0,3.0,1.0,18.0,0.0,2.0,17.0,1.0,4.0,4.0,0.0,12.0,6.0,3.0,14.0,0.0,0.0,0.0,0.0,0.0,2.0,7.0,2.0,3.0,3.0,4.0,3.0,0.0,0.0,0.0,2.0,9.0,5.0,4.0,1.0,0.0,6.0,7.0,0.0,0.0,4.0,8.0,5.0,10.0,10.0,4.0,0.0,2.0,0.0,7.0,11.0,5.0,3.0,0.0,3.0,12.0,0.0,3.0,0.0,9.0,6.0,7.0,0.0,6.0,0.0,16.0,0.0,8.0,10.0,6.0,6.0,1.0,0.0,7.0,1.0,11.0,8.0,17.0,2.0,16.0,11.0,1.0,18.0,0.0,6.0,11.0,1.0,5.0,0.0,1.0,6.0,0.0,3.0,6.0,6.0,7.0,6.0,0.0,2.0,1.0,14.0,5.0,5.0,0.0,6.0,1.0,5.0,5.0,0.0,0.0,1.0,8.0,0.0,0.0,2.0,2.0,0.0,5.0,5.0,8.0,6.0,2.0,0.0,2.0,6.0,7.0,2.0,15.0,16.0,2.0,7.0,10.0,7.0,0.0,1.0,10.0,1.0,10.0,13.0,4.0,0.0,0.0,8.0,0.0,0.0,8.0,8.0,10.0,4.0,17.0,0.0,5.0,0.0,0.0,1.0,2.0,0.0,10.0,2.0,3.0,0.0,12.0,4.0,12.0,14.0,1.0,1.0,3.0,0.0,15.0,3.0,0.0,8.0,4.0,0.0,10.0,0.0,0.0,16.0,8.0,0.0,6.0,1.0,0.0,9.0,12.0,2.0,5.0,2.0,12.0,0.0,2.0,5.0,1.0,2.0,1.0,2.0,7.0,6.0,10.0,2.0,4.0,3.0,9.0,0.0,3.0,10.0,6.0,3.0,0.0,0.0,4.0,0.0,8.0,1.0,10.0,0.0,6.0,1.0,3.0,13.0,2.0,7.0,5.0,15.0,5.0,1.0,3.0,0.0,2.0,10.0,1.0,6.0,4.0,12.0,0.0,6.0,9.0,12.0,3.0,5.0,3.0,5.0,2.0,7.0,0.0,10.0,1.0,8.0,0.0,1.0,0.0,9.0,0.0,4.0,14.0,2.0,2.0,1.0,14.0,0.0,0.0,0.0,12.0,13.0,0.0,5.0,7.0,5.0,3.0,6.0,0.0,5.0,11.0,13.0,1.0,3.0,1.0,16.0,1.0,0.0,0.0,1.0,2.0,7.0,0.0,6.0,9.0,6.0,11.0,10.0,2.0,2.0,0.0,8.0,3.0,9.0,11.0,9.0,6.0,5.0,0.0,3.0,8.0,6.0,7.0,9.0,3.0,3.0,3.0,3.0,0.0,0.0,8.0,7.0,4.0,5.0,5.0,1.0,2.0,3.0,0.0,16.0,0.0,0.0,0.0,0.0,10.0,1.0,0.0,12.0,6.0,6.0,10.0,0.0,4.0,2.0,9.0,15.0,11.0,0.0,16.0,12.0,4.0,14.0,15.0,0.0,7.0,9.0,13.0,0.0,4.0,9.0,4.0,7.0,1.0,2.0,4.0,8.0,1.0,0.0,17.0,2.0,8.0,0.0,2.0,0.0,6.0,0.0,12.0,0.0,0.0,1.0,10.0,0.0,6.0,4.0,2.0,0.0,0.0,0.0,0.0,5.0,7.0,1.0,6.0,1.0,3.0,0.0,0.0,0.0,9.0,1.0,6.0,1.0,0.0,7.0,1.0,5.0,0.0,7.0,5.0,12.0,0.0,0.0,1.0,1.0,1.0,0.0,0.0,5.0,13.0,7.0,2.0,10.0,4.0,0.0,0.0,0.0,0.0,2.0,4.0,6.0,4.0,13.0,1.0,0.0,7.0,10.0,1.0,8.0,7.0,2.0,11.0,3.0,13.0,9.0,1.0,1.0,6.0,6.0,0.0,4.0,4.0,1.0,4.0,0.0,11.0,4.0,0.0,6.0,2.0,8.0,2.0,5.0,10.0,10.0,0.0,0.0,12.0,1.0,13.0,3.0,10.0,0.0,8.0,5.0,2.0,7.0,2.0,1.0,0.0,6.0,0.0,3.0,4.0,0.0,7.0,1.0,1.0,4.0,0.0,2.0,2.0,3.0,2.0,10.0,0.0,1.0,8.0,14.0,0.0,0.0,5.0,5.0,3.0,1.0,12.0,0.0,6.0,2.0,6.0,13.0,0.0,0.0,4.0,9.0,8.0,2.0,13.0,0.0,12.0,3.0,3.0,1.0,13.0,0.0,0.0,0.0,0.0,5.0,6.0,16.0,7.0,1.0,5.0,1.0,2.0,0.0,6.0,5.0,8.0,7.0,0.0,0.0,2.0,3.0,6.0,1.0,0.0,0.0,7.0,5.0,0.0,1.0,4.0,9.0,7.0,16.0,0.0,1.0,0.0,1.0,2.0,9.0,2.0,0.0,15.0,10.0,6.0,11.0,5.0,6.0,7.0,2.0,12.0,8.0,0.0,1.0,3.0,8.0,4.0,0.0,0.0,0.0,2.0,3.0,12.0,15.0,4.0,2.0,0.0,0.0,3.0,5.0,4.0,8.0,4.0,9.0,0.0,10.0,0.0,1.0,0.0,1.0,7.0,2.0,0.0,6.0,0.0,0.0,7.0,8.0,15.0,5.0,6.0,4.0,1.0,1.0,2.0,4.0,0.0,9.0,0.0,15.0,2.0,1.0,5.0,3.0,8.0,3.0,7.0,13.0,8.0,13.0,11.0,10.0,0.0,5.0,2.0,2.0,7.0,6.0,0.0,6.0,9.0,2.0,0.0,11.0,0.0,9.0,3.0,3.0,9.0,3.0,0.0,6.0,7.0,6.0,10.0,0.0,2.0,0.0,1.0,2.0,5.0,7.0,3.0,0.0,1.0,1.0,8.0,6.0,13.0,0.0,8.0,0.0,0.0,4.0,0.0,12.0,5.0,3.0,3.0,4.0,7.0,0.0,0.0,9.0,10.0,3.0,3.0,4.0,6.0,5.0,0.0,0.0,3.0,0.0,2.0,1.0,15.0,4.0,4.0,3.0,0.0,0.0,2.0,0.0,5.0,0.0,15.0,2.0,13.0,15.0,5.0,0.0,0.0,3.0,3.0,11.0,2.0,2.0,1.0,1.0,5.0,9.0,9.0,0.0,3.0,0.0,0.0,0.0,2.0,3.0,2.0,6.0,7.0,0.0,9.0,6.0,0.0,4.0,9.0,1.0,3.0,3.0,7.0,2.0,4.0,4.0,4.0,1.0,0.0,0.0,7.0,7.0,5.0,5.0,6.0,1.0,0.0,0.0,0.0,4.0,4.0,3.0,11.0,0.0,2.0,2.0,0.0,9.0,5.0,0.0,4.0,10.0,13.0,13.0,5.0,11.0,14.0,5.0,2.0,0.0,1.0,3.0,2.0,5.0,12.0,3.0,15.0,0.0,11.0,16.0,2.0,4.0,5.0,7.0,0.0,0.0,3.0,4.0,0.0,1.0,12.0,3.0,0.0,1.0,13.0,7.0,9.0,13.0,1.0,7.0,0.0,0.0,6.0,3.0,8.0,0.0,7.0,1.0,0.0,1.0,0.0,2.0,12.0,2.0,0.0,5.0,3.0,10.0,4.0,1.0,1.0,3.0,0.0,3.0,1.0,1.0,11.0,0.0,1.0,0.0,9.0,0.0,3.0,4.0,16.0,5.0,3.0,7.0,6.0,5.0,4.0,1.0,2.0,1.0,0.0,13.0,0.0,3.0,0.0,8.0,0.0,1.0,3.0,1.0,7.0,11.0,0.0,1.0,0.0,8.0,6.0,9.0,2.0,8.0,0.0,3.0,0.0,1.0,6.0,2.0,4.0,0.0,1.0,13.0,4.0,2.0,4.0,11.0,1.0,0.0,3.0,1.0,5.0,0.0,1.0,0.0,1.0,14.0,2.0,11.0,0.0,11.0,8.0,15.0,4.0,1.0,9.0,4.0,1.0,8.0,13.0,0.0,2.0,2.0,0.0,3.0,2.0,1.0,1.0,1.0,2.0,10.0,3.0,3.0,10.0,10.0,1.0,0.0,5.0,3.0,0.0,0.0,9.0,11.0,2.0,2.0,1.0,0.0,2.0,0.0,10.0,0.0,13.0,0.0,8.0,11.0,8.0,9.0,0.0,0.0,8.0,9.0,12.0,4.0,2.0,0.0,2.0,3.0,12.0,2.0,9.0,0.0,0.0,0.0,11.0,0.0,0.0,0.0,11.0,5.0,7.0,1.0,10.0,12.0,4.0,0.0,2.0,7.0,16.0,0.0,0.0,2.0,1.0,0.0,0.0,6.0,11.0,2.0,0.0,2.0,13.0,2.0,0.0,7.0,10.0,1.0,8.0,3.0,1.0,5.0,5.0,3.0,0.0,0.0,2.0,7.0,0.0,6.0,3.0,2.0,0.0,4.0,5.0,4.0,5.0,0.0,9.0,0.0,5.0,2.0,4.0,0.0,2.0,7.0,11.0,5.0,10.0,0.0,1.0,0.0,0.0,2.0,1.0,2.0,1.0,1.0,6.0,5.0,4.0,0.0,14.0,5.0,0.0,1.0,8.0,1.0,1.0,1.0,13.0,3.0,4.0,1.0,7.0,0.0,1.0,3.0,4.0,4.0,10.0,2.0,2.0,12.0,4.0,5.0,4.0,5.0,2.0,0.0,0.0,1.0,10.0,7.0,6.0,10.0,0.0,7.0,1.0,10.0,0.0,1.0,10.0,2.0,5.0,1.0,5.0,2.0,1.0,5.0,2.0,7.0,0.0,2.0,0.0,3.0,0.0,3.0,5.0,1.0,0.0,13.0,3.0,9.0,6.0,4.0,7.0,6.0,0.0,3.0,2.0,14.0,0.0,15.0,1.0,5.0,3.0,9.0,8.0,5.0,4.0,3.0,7.0,0.0,3.0,12.0,9.0,2.0,8.0,1.0,0.0,5.0,0.0,0.0,8.0,12.0,7.0,0.0,8.0,0.0,7.0,0.0,9.0,2.0,9.0,0.0,1.0,2.0,4.0,0.0,8.0,8.0,4.0,2.0,0.0,3.0,2.0,3.0,1.0,0.0,1.0,0.0,0.0,2.0,0.0,7.0,1.0,12.0,6.0,0.0,9.0,18.0,3.0,6.0,1.0,15.0,4.0,0.0,0.0,8.0,6.0,2.0,0.0,7.0,0.0,6.0,6.0,5.0,3.0,3.0,18.0,1.0,1.0,7.0,0.0,1.0,6.0,6.0,2.0,10.0,18.0,0.0,1.0,2.0,4.0,4.0,1.0,3.0,5.0,1.0,8.0,0.0,11.0,9.0,1.0,0.0,9.0,0.0,0.0,9.0,5.0,1.0,8.0,4.0,2.0,0.0,5.0,0.0,7.0,7.0,6.0,16.0,0.0,9.0,3.0,0.0,1.0,1.0,5.0,0.0,16.0,6.0,10.0,3.0,7.0,1.0,4.0,11.0,0.0,0.0,3.0,4.0,0.0,0.0,0.0,5.0,1.0,0.0,14.0,2.0,6.0,0.0,0.0,2.0,8.0,7.0,0.0,1.0,11.0,0.0,1.0,9.0,0.0,7.0,5.0,9.0,1.0,3.0,0.0,4.0,2.0,2.0,1.0,5.0,6.0,0.0,2.0,7.0,4.0,5.0,4.0,0.0,7.0,0.0,9.0,7.0,1.0,5.0,2.0,0.0,13.0,3.0,1.0,3.0,9.0,6.0,14.0,0.0,0.0,2.0,1.0,5.0,1.0,4.0,5.0,0.0,5.0,0.0,12.0,9.0,9.0,7.0,9.0,1.0,5.0,9.0,9.0,7.0,1.0,2.0,2.0,4.0,0.0,17.0,0.0,2.0,0.0,1.0,18.0,1.0,1.0,0.0,12.0,7.0,5.0,0.0,2.0,1.0,1.0,3.0,6.0,0.0,0.0,6.0,2.0,0.0,6.0,0.0,11.0,2.0,2.0,6.0,0.0,9.0,2.0,0.0,2.0,0.0,6.0,11.0,5.0,1.0,11.0,3.0,1.0,0.0,3.0,0.0,16.0,10.0,1.0,1.0,0.0,7.0,10.0,2.0,4.0,0.0,1.0,8.0,3.0,0.0,9.0,0.0,12.0,3.0,1.0,2.0,1.0,0.0,7.0,5.0,7.0,6.0,0.0,3.0,3.0,1.0,5.0,1.0,6.0,5.0,11.0,12.0,6.0,1.0,0.0,11.0,13.0,1.0,10.0,2.0,3.0,0.0,16.0,6.0,14.0,9.0,1.0,0.0,2.0,0.0,10.0,2.0,4.0,5.0,3.0,0.0,10.0,14.0,4.0,5.0,4.0,6.0,10.0,10.0,1.0,0.0,3.0,16.0,1.0,0.0,14.0,5.0,4.0,5.0,6.0,7.0,3.0,0.0,10.0,4.0,5.0,6.0,5.0,0.0,0.0,3.0,14.0,5.0,13.0,5.0,13.0,5.0,0.0,1.0,6.0,18.0,0.0,4.0,4.0,0.0,3.0,1.0,0.0,2.0,0.0,8.0,8.0,19.0,0.0,16.0,1.0,15.0,0.0,0.0,8.0,2.0,10.0,5.0,0.0,0.0,2.0,0.0,6.0,7.0,3.0,7.0,2.0,2.0,3.0,5.0,0.0,12.0,6.0,6.0,12.0,0.0,4.0,11.0,2.0,4.0,15.0,4.0,5.0,9.0,2.0,2.0,0.0,6.0,3.0,11.0,5.0,0.0,10.0,1.0,5.0,1.0,0.0,1.0,2.0,1.0,5.0,3.0,2.0,5.0,3.0,4.0,3.0,3.0,0.0,15.0,0.0,0.0,8.0,0.0,0.0,3.0,3.0,1.0,6.0,1.0,5.0,0.0,7.0,9.0,3.0,10.0,8.0,3.0,3.0,7.0,16.0,1.0,9.0,0.0,0.0,0.0,2.0,4.0,1.0,6.0,12.0,14.0,0.0,8.0,3.0,2.0,12.0,4.0,5.0,4.0,0.0,7.0,1.0,1.0,0.0,1.0,4.0,1.0,1.0,6.0,1.0,3.0,0.0,13.0,0.0,13.0,3.0,4.0,9.0,4.0,8.0,4.0,9.0,6.0,1.0,4.0,3.0,6.0,0.0,0.0,12.0,2.0,1.0,1.0,2.0,0.0,8.0,3.0,3.0,14.0,3.0,11.0,9.0,13.0,1.0,8.0,1.0,14.0,6.0,1.0,3.0,4.0,3.0,5.0,3.0,3.0,1.0,11.0,7.0,7.0,1.0,7.0,8.0,10.0,0.0,1.0,1.0,5.0,0.0,0.0,0.0,0.0,18.0,8.0,18.0,5.0,3.0,0.0,11.0,0.0,18.0,1.0,3.0,4.0,7.0,1.0,0.0,3.0,1.0,2.0,3.0,9.0,2.0,1.0,9.0,1.0,3.0,7.0,0.0,1.0,2.0,2.0,5.0,0.0,1.0,9.0,3.0,1.0,2.0,0.0,0.0,1.0,1.0,0.0,9.0,8.0,2.0,5.0,0.0,2.0,8.0,0.0,5.0,0.0,1.0,3.0,0.0,6.0,1.0,0.0,7.0,12.0,1.0,4.0,5.0,7.0,2.0,5.0,0.0,0.0,0.0,4.0,1.0,10.0,4.0,0.0,0.0,4.0,2.0,0.0,6.0,3.0,0.0,13.0,9.0,3.0,4.0,2.0,0.0,2.0,0.0,5.0,0.0,0.0,6.0,2.0,9.0,7.0,2.0,1.0,3.0,1.0,4.0,8.0,4.0,12.0,0.0,8.0,6.0,9.0,2.0,2.0,8.0,11.0,1.0,0.0,1.0,0.0,0.0,1.0,4.0,5.0,7.0,53.0,41.0,10.0,44.0,22.0,10.0,24.0,53.0,9.0,9.0,33.0,33.0,17.0,52.0,46.0,13.0,23.0,49.0,19.0,39.0,13.0,47.0,38.0,8.0,57.0,51.0,41.0,52.0,21.0,5.0,33.0,41.0,51.0,22.0,60.0,61.0,6.0,11.0,50.0,44.0,41.0,5.0,34.0,20.0,27.0,42.0,40.0,57.0,64.0,14.0,63.0,43.0,16.0,51.0,46.0,60.0,61.0,49.0,48.0,12.0,63.0,50.0,55.0,9.0,44.0,36.0,30.0,10.0,43.0,45.0,22.0,9.0,43.0,38.0,42.0,9.0,33.0,16.0,29.0,58.0,64.0,45.0,61.0,57.0,25.0,42.0,64.0,3.0,33.0,57.0,54.0,15.0,14.0,7.0,7.0,23.0,60.0,37.0,31.0,10.0,12.0,57.0,55.0,8.0,39.0,23.0,42.0,46.0,41.0,43.0,32.0,4.0,7.0,22.0,18.0,53.0,40.0,46.0,15.0,10.0,10.0,52.0,36.0,25.0,16.0,58.0,25.0,31.0,19.0,54.0,2.0,41.0,30.0,36.0,16.0,22.0,46.0,3.0,14.0,31.0,14.0,43.0,33.0,64.0,9.0,31.0,40.0,47.0,41.0,56.0,56.0,61.0,32.0,45.0,46.0,60.0,6.0,29.0,34.0,37.0,51.0,14.0,26.0,3.0,33.0,27.0,10.0,58.0,44.0,32.0,8.0,10.0,42.0,16.0,25.0,29.0,23.0,22.0,63.0,30.0,41.0,38.0,20.0,54.0,4.0,5.0,46.0,6.0,43.0,46.0,7.0,64.0,57.0,20.0,23.0,41.0,61.0,26.0,36.0,22.0,20.0,16.0,30.0,61.0,47.0,8.0,49.0,51.0,35.0,23.0,41.0,63.0,39.0,50.0,53.0,49.0,17.0,24.0,51.0,29.0,40.0,13.0,25.0,38.0,17.0,49.0,31.0,37.0,24.0,39.0,9.0,31.0,27.0,6.0,11.0,42.0,6.0,38.0,49.0,49.0,44.0,51.0,10.0,37.0,50.0,23.0,48.0,7.0,30.0,55.0,63.0,63.0,7.0,19.0,57.0,4.0,32.0,51.0,6.0,59.0,25.0,56.0,28.0,18.0,57.0,40.0,38.0,47.0,28.0,7.0,4.0,45.0,3.0,30.0,62.0,61.0,8.0,2.0,39.0,36.0,40.0,54.0,6.0,56.0,27.0,16.0,24.0,26.0,42.0,63.0,16.0,9.0,48.0,34.0,56.0,12.0,52.0,56.0,38.0,58.0,57.0,56.0,12.0,29.0,52.0,37.0,8.0,42.0,40.0,44.0,41.0,50.0,41.0,49.0,49.0,64.0,14.0,42.0,64.0,5.0,29.0,64.0,63.0,18.0,25.0,21.0,26.0,27.0,13.0,20.0,9.0,20.0,7.0,47.0,18.0,47.0,48.0,36.0,22.0,54.0,2.0,17.0,37.0,6.0,52.0,10.0,3.0,57.0,42.0,44.0,2.0,33.0,8.0,19.0,64.0,17.0,50.0,62.0,61.0,21.0,57.0,32.0,21.0,36.0,2.0,9.0,34.0,46.0,52.0,52.0,36.0,55.0,58.0,42.0,30.0,26.0,14.0,19.0,46.0,8.0,48.0,59.0,54.0,33.0,18.0,44.0,23.0,12.0,63.0,26.0,39.0,23.0,9.0,57.0,7.0,57.0,33.0,28.0,42.0,7.0,50.0,19.0,55.0,13.0,34.0,45.0,17.0,34.0,51.0,5.0,44.0,48.0,49.0,25.0,51.0,54.0,63.0,54.0,4.0,7.0,57.0,43.0,11.0,48.0,56.0,47.0,24.0,20.0,28.0,17.0,64.0,57.0,17.0,23.0,50.0,13.0,36.0,3.0,8.0,57.0,11.0,3.0,26.0,3.0,28.0,64.0,62.0,51.0,51.0,35.0,54.0,34.0,25.0,64.0,48.0,41.0,53.0,28.0,44.0,43.0,6.0,51.0,13.0,40.0,42.0,37.0,4.0,18.0,61.0,48.0,16.0,45.0,60.0,22.0,2.0,61.0,26.0,15.0,58.0,56.0,34.0,3.0,43.0,27.0,41.0,2.0,27.0,20.0,48.0,17.0,31.0,17.0,50.0,15.0,39.0,5.0,31.0,33.0,34.0,54.0,32.0,6.0,32.0,29.0,19.0,23.0,15.0,59.0,44.0,50.0,10.0,7.0,45.0,9.0,2.0,12.0,61.0,57.0,19.0,55.0,46.0,14.0,51.0,23.0,26.0,54.0,27.0,61.0,12.0,38.0,8.0,30.0,17.0,16.0,31.0,37.0,49.0,53.0,51.0,16.0,38.0,39.0,21.0,16.0,19.0,50.0,31.0,7.0,35.0,45.0,41.0,43.0,45.0,21.0,26.0,53.0,32.0,30.0,13.0,61.0,14.0,13.0,3.0,38.0,32.0,30.0,52.0,50.0,34.0,8.0,32.0,46.0,55.0,24.0,20.0,6.0,24.0,23.0,23.0,19.0,18.0,24.0,5.0,5.0,58.0,29.0,40.0,40.0,17.0,35.0,39.0,64.0,55.0,54.0,58.0,25.0,11.0,3.0,11.0,40.0,44.0,12.0,7.0,28.0,56.0,20.0,35.0,16.0,46.0,56.0,4.0,30.0,24.0,21.0,44.0,34.0,39.0,16.0,21.0,5.0,36.0,2.0,30.0,48.0,54.0,30.0,34.0,58.0,35.0,21.0,26.0,19.0,54.0,9.0,15.0,9.0,27.0,43.0,47.0,14.0,3.0,31.0,46.0,3.0,14.0,60.0,25.0,53.0,35.0,64.0,15.0,25.0,35.0,54.0,7.0,14.0,45.0,50.0,50.0,36.0,21.0,46.0,61.0,26.0,33.0,44.0,48.0,11.0,3.0,27.0,62.0,32.0,32.0,45.0,22.0,64.0,13.0,12.0,60.0,12.0,34.0,41.0,27.0,31.0,25.0,60.0,19.0,41.0,57.0,26.0,52.0,38.0,23.0,33.0,57.0,43.0,22.0,17.0,19.0,2.0,62.0,48.0,39.0,20.0,30.0,50.0,49.0,35.0,21.0,25.0,20.0,28.0,2.0,9.0,11.0,6.0,3.0,49.0,37.0,52.0,8.0,61.0,54.0,51.0,45.0,58.0,7.0,21.0,43.0,2.0,49.0,42.0,61.0,13.0,25.0,57.0,42.0,34.0,15.0,35.0,37.0,8.0,18.0,58.0,16.0,43.0,17.0,4.0,45.0,53.0,16.0,5.0,51.0,45.0,63.0,11.0,12.0,34.0,58.0,39.0,49.0,56.0,14.0,15.0,7.0,16.0,27.0,30.0,25.0,64.0,23.0,27.0,50.0,45.0,63.0,18.0,58.0,8.0,11.0,11.0,50.0,50.0,14.0,47.0,56.0,55.0,42.0,2.0,55.0,46.0,24.0,38.0,53.0,25.0,56.0,10.0,41.0,8.0,22.0,20.0,3.0,52.0,6.0,19.0,5.0,21.0,10.0,10.0,44.0,33.0,8.0,25.0,16.0,54.0,52.0,64.0,8.0,48.0,57.0,61.0,30.0,14.0,52.0,25.0,7.0,2.0,33.0,4.0,27.0,43.0,31.0,55.0,9.0,21.0,33.0,63.0,11.0,30.0,48.0,39.0,35.0,34.0,16.0,51.0,55.0,32.0,16.0,38.0,16.0,63.0,58.0,41.0,8.0,10.0,52.0,56.0,21.0,29.0,6.0,15.0,35.0,14.0,35.0,11.0,34.0,15.0,8.0,2.0,32.0,9.0,9.0,4.0,64.0,11.0,13.0,34.0,48.0,53.0,18.0,47.0,21.0,30.0,22.0,39.0,6.0,31.0,50.0,3.0,36.0,8.0,40.0,58.0,61.0,32.0,49.0,49.0,8.0,34.0,12.0,46.0,27.0,26.0,53.0,45.0,17.0,27.0,53.0,45.0,30.0,12.0,10.0,23.0,53.0,36.0,49.0,14.0,35.0,5.0,60.0,30.0,58.0,8.0,63.0,48.0,29.0,38.0,13.0,55.0,13.0,27.0,27.0,44.0,9.0,23.0,7.0,34.0,13.0,54.0,46.0,39.0,33.0,52.0,7.0,8.0,46.0,50.0,42.0,13.0,41.0,13.0,46.0,38.0,54.0,47.0,57.0,6.0,52.0,36.0,33.0,7.0,61.0,7.0,55.0,8.0,19.0,34.0,13.0,46.0,38.0,14.0,52.0,52.0,30.0,54.0,47.0,23.0,58.0,59.0,47.0,34.0,58.0,44.0,19.0,11.0,51.0,20.0,21.0,45.0,11.0,19.0,48.0,27.0,3.0,43.0,49.0,10.0,19.0,29.0,20.0,28.0,57.0,50.0,46.0,53.0,58.0,13.0,34.0,31.0,51.0,19.0,6.0,53.0,53.0,33.0,52.0,54.0,28.0,63.0,64.0,23.0,59.0,61.0,58.0,55.0,49.0,53.0,37.0,4.0,38.0,18.0,43.0,12.0,41.0,57.0,13.0,57.0,60.0,28.0,46.0,14.0,63.0,52.0,18.0,39.0,63.0,5.0,30.0,7.0,22.0,21.0,35.0,37.0,3.0,27.0,19.0,64.0,33.0,18.0,16.0,32.0,28.0,51.0,18.0,17.0,42.0,23.0,23.0,45.0,27.0,41.0,60.0,31.0,8.0,62.0,10.0,39.0,59.0,24.0,23.0,14.0,40.0,33.0,37.0,14.0,55.0,30.0,55.0,4.0,18.0,30.0,58.0,58.0,62.0,2.0,10.0,35.0,35.0,61.0,60.0,14.0,32.0,57.0,12.0,55.0,47.0,18.0,46.0,45.0,43.0,35.0,59.0,57.0,36.0,64.0,22.0,44.0,58.0,63.0,46.0,16.0,35.0,41.0,12.0,9.0,54.0,50.0,16.0,5.0,52.0,31.0,62.0,10.0,55.0,9.0,14.0,8.0,60.0,10.0,55.0,43.0,24.0,56.0,31.0,51.0,2.0,14.0,12.0,32.0,44.0,46.0,35.0,2.0,38.0,20.0,49.0,61.0,50.0,21.0,40.0,28.0,29.0,59.0,16.0,40.0,42.0,27.0,9.0,44.0,51.0,15.0,51.0,57.0,18.0,3.0,47.0,14.0,11.0,30.0,7.0,24.0,2.0,13.0,62.0,40.0,9.0,56.0,62.0,39.0,52.0,11.0,10.0,37.0,27.0,60.0,2.0,34.0,49.0,26.0,58.0,32.0,35.0,45.0,57.0,41.0,22.0,50.0,20.0,51.0,5.0,58.0,2.0,24.0,11.0,32.0,56.0,29.0,57.0,51.0,9.0,24.0,5.0,27.0,37.0,56.0,6.0,35.0,55.0,64.0,16.0,20.0,10.0,36.0,61.0,62.0,40.0,55.0,32.0,4.0,39.0,7.0,35.0,24.0,50.0,59.0,47.0,21.0,20.0,29.0,54.0,41.0,43.0,31.0,49.0,52.0,6.0,13.0,52.0,49.0,7.0,60.0,20.0,27.0,12.0,39.0,13.0,7.0,4.0,19.0,54.0,42.0,31.0,25.0,12.0,46.0,6.0,8.0,37.0,23.0,58.0,12.0,6.0,10.0,15.0,12.0,9.0,19.0,49.0,28.0,58.0,46.0,60.0,31.0,36.0,59.0,56.0,44.0,42.0,2.0,52.0,6.0,19.0,5.0,33.0,58.0,30.0,42.0,26.0,6.0,5.0,44.0,23.0,6.0,27.0,41.0,32.0,59.0,17.0,5.0,17.0,13.0,29.0,20.0,27.0,42.0,47.0,17.0,22.0,39.0,60.0,29.0,16.0,24.0,14.0,47.0,34.0,5.0,36.0,12.0,16.0,58.0,44.0,10.0,42.0,42.0,51.0,18.0,7.0,14.0,14.0,26.0,14.0,2.0,42.0,31.0,63.0,9.0,40.0,57.0,31.0,28.0,27.0,42.0,12.0,39.0,11.0,14.0,62.0,51.0,23.0,15.0,6.0,40.0,52.0,32.0,63.0,24.0,49.0,57.0,62.0,33.0,56.0,50.0,10.0,2.0,29.0,52.0,17.0,63.0,52.0,42.0,14.0,28.0,6.0,30.0,28.0,26.0,14.0,29.0,35.0,13.0,55.0,18.0,27.0,40.0,21.0,60.0,63.0,33.0,54.0,14.0,30.0,15.0,10.0,32.0,15.0,2.0,50.0,44.0,58.0,19.0,6.0,34.0,59.0,6.0,19.0,37.0,9.0,10.0,41.0,44.0,27.0,14.0,24.0,32.0,40.0,18.0,16.0,31.0,22.0,13.0,64.0,53.0,27.0,13.0,5.0,6.0,11.0,44.0,50.0,55.0,12.0,31.0,50.0,22.0,57.0,44.0,33.0,42.0,11.0,31.0,10.0,44.0,28.0,20.0,33.0,40.0,10.0,33.0,40.0,20.0,11.0,63.0,10.0,29.0,5.0,2.0,39.0,44.0,54.0,12.0,40.0,31.0,50.0,9.0,21.0,22.0,3.0,36.0,8.0,12.0,2.0,29.0,48.0,26.0,20.0,40.0,20.0,64.0,43.0,60.0,15.0,21.0,60.0,4.0,8.0,36.0,11.0,23.0,48.0,35.0,3.0,34.0,14.0,27.0,20.0,42.0,14.0,22.0,60.0,24.0,33.0,57.0,38.0,50.0,8.0,60.0,12.0,30.0,55.0,58.0,9.0,59.0,38.0,11.0,6.0,57.0,16.0,19.0,30.0,5.0,18.0,30.0,44.0,40.0,15.0,20.0,27.0,15.0,45.0,39.0,23.0,55.0,18.0,36.0,42.0,43.0,28.0,54.0,2.0,26.0,14.0,50.0,28.0,23.0,39.0,12.0,16.0,14.0,3.0,27.0,34.0,16.0,43.0,56.0,42.0,12.0,49.0,24.0,15.0,54.0,19.0,19.0,22.0,46.0,2.0,26.0,31.0,35.0,11.0,36.0,7.0,62.0,7.0,42.0,30.0,5.0,8.0,53.0,59.0,35.0,27.0,24.0,39.0,5.0,27.0,17.0,33.0,21.0,58.0,44.0,15.0,6.0,37.0,40.0,24.0,39.0,41.0,52.0,48.0,15.0,17.0,41.0,62.0,38.0,58.0,11.0,16.0,56.0,30.0,34.0,20.0,47.0,44.0,28.0,62.0,4.0,47.0,8.0,2.0,41.0,57.0,14.0,5.0,45.0,5.0,59.0,33.0,63.0,7.0,5.0,50.0,11.0,40.0,57.0,62.0,27.0,16.0,42.0,61.0,10.0,13.0,4.0,20.0,61.0,16.0,18.0,46.0,2.0,42.0,54.0,57.0,9.0,25.0,26.0,32.0,23.0,51.0,17.0,45.0,49.0,37.0,7.0,41.0,49.0,62.0,5.0,24.0,35.0,4.0,33.0,17.0,52.0,12.0,53.0,33.0,48.0,26.0,20.0,45.0,36.0,33.0,20.0,27.0,2.0,35.0,54.0,21.0,29.0,42.0,56.0,47.0,14.0,49.0,7.0,7.0,2.0,5.0,28.0,27.0,9.0,30.0,44.0,27.0,8.0,21.0,15.0,26.0,21.0,24.0,20.0,5.0,17.0,19.0,11.0,48.0,5.0,52.0,24.0,12.0,32.0,26.0,21.0,42.0,28.0,59.0,52.0,45.0,57.0,28.0,21.0,50.0,44.0,10.0,43.0,35.0,57.0,26.0,56.0,27.0,44.0,23.0,46.0,40.0,22.0,44.0,16.0,32.0,23.0,63.0,8.0,48.0,64.0,12.0,7.0,30.0,19.0,16.0,11.0,16.0,47.0,64.0,23.0,29.0,28.0,26.0,34.0,47.0,23.0,51.0,54.0,11.0,15.0,64.0,47.0,53.0,64.0,8.0,12.0,20.0,60.0,11.0,16.0,37.0,47.0,2.0,60.0,53.0,58.0,30.0,27.0,55.0,38.0,6.0,63.0,16.0,19.0,5.0,51.0,58.0,31.0,34.0,17.0,53.0,26.0,57.0,56.0,2.0,5.0,48.0,60.0,26.0,17.0,41.0,21.0,37.0,12.0,45.0,14.0,24.0,42.0,52.0,44.0,35.0,14.0,6.0,7.0,16.0,62.0,61.0,59.0,49.0,60.0,2.0,30.0,19.0,14.0,60.0,9.0,19.0,25.0,7.0,29.0,19.0,54.0,53.0,44.0,20.0,22.0,24.0,17.0,55.0,3.0,27.0,39.0,5.0,53.0,2.0,64.0,53.0,2.0,27.0,16.0,10.0,28.0,42.0,2.0,52.0,12.0,8.0,15.0,56.0,32.0,15.0,62.0,46.0,30.0,11.0,63.0,36.0,21.0,13.0,9.0,47.0,45.0,18.0,38.0,11.0,45.0,2.0,35.0,13.0,41.0,63.0,39.0,18.0,62.0,10.0,23.0,45.0,16.0,41.0,45.0,37.0,12.0,14.0,40.0,63.0,33.0,35.0,32.0,33.0,30.0,2.0,8.0,21.0,40.0,37.0,49.0,4.0,16.0,21.0,7.0,6.0,7.0,21.0,32.0,6.0,25.0,64.0,27.0,23.0,18.0,64.0,36.0,24.0,17.0,5.0,45.0,24.0,27.0,61.0,16.0,55.0,40.0,3.0,14.0,42.0,21.0,6.0,29.0,25.0,46.0,9.0,33.0,27.0,10.0,18.0,53.0,9.0,4.0,6.0,41.0,34.0,37.0,59.0,58.0,13.0,57.0,15.0,36.0,44.0,21.0,18.0,50.0,2.0,39.0,36.0,46.0,45.0,0.6,0.7,0.9,0.8,0.6,0.7,0.8,0.8,0.7,0.1,0.1,0.5,0.6,1.0,0.7,0.7,0.1,0.1,0.6,1.0,0.8,1.0,0.3,0.7,0.4,0.6,0.3,1.0,0.3,0.4,0.2,1.0,0.9,0.6,0.7,0.4,0.6,0.5,0.3,0.3,0.6,0.2,0.2,0.1,0.8,0.2,1.0,0.8,0.2,0.8,0.7,0.8,0.3,0.3,0.5,0.6,0.5,0.4,0.5,1.0,0.6,0.8,0.8,0.5,0.7,0.8,0.3,0.5,0.6,0.8,0.8,0.7,0.1,0.7,0.5,0.9,0.4,0.6,0.2,0.7,0.9,0.2,0.9,1.0,0.8,0.8,0.5,0.8,0.1,0.5,0.5,1.0,0.4,0.7,0.8,1.0,0.2,0.2,0.7,0.4,0.3,0.8,0.7,0.6,0.5,0.7,1.0,0.1,0.3,0.1,1.0,0.5,0.7,1.0,0.6,0.2,0.3,0.9,0.9,0.5,0.3,0.5,0.9,0.8,0.8,0.6,0.3,0.5,0.6,0.1,0.8,0.1,1.0,0.2,0.7,0.5,0.9,0.5,0.3,0.1,0.1,0.5,0.3,0.5,0.9,0.4,0.2,0.5,0.4,0.8,0.1,0.2,0.9,0.7,0.7,0.9,0.8,0.4,0.5,0.7,0.6,0.3,0.5,0.5,0.1,0.8,0.9,0.4,0.2,0.3,0.5,0.1,0.2,0.3,1.0,0.8,0.8,0.1,0.1,0.4,0.3,0.2,0.1,1.0,0.2,0.8,0.1,0.1,0.5,0.9,0.6,0.2,0.3,0.2,0.1,0.2,0.8,0.7,0.3,0.4,0.6,0.4,0.3,0.7,0.1,0.3,0.3,0.7,0.1,0.4,0.1,0.1,0.5,0.5,0.4,1.0,0.2,0.2,0.4,0.1,0.5,0.5,0.5,0.9,0.1,0.2,0.1,0.6,0.1,0.3,0.8,0.4,0.5,0.1,0.8,0.1,0.1,0.1,1.0,0.4,0.1,0.5,0.3,0.6,0.4,0.2,0.4,0.4,0.8,0.7,0.6,0.1,1.0,0.2,0.6,0.2,0.1,0.5,0.5,0.5,0.7,0.2,0.6,0.7,0.8,1.0,0.3,0.4,0.9,0.3,0.9,0.1,0.3,0.6,0.9,0.5,0.8,0.3,0.8,0.4,1.0,0.9,0.5,0.5,0.1,0.7,0.3,0.2,0.8,0.6,0.2,0.1,0.8,0.6,0.3,0.7,0.3,0.9,0.7,0.1,0.6,0.6,0.1,0.9,0.4,0.3,0.5,0.6,0.8,0.5,0.5,0.8,0.5,0.7,0.6,0.9,0.8,0.4,0.3,0.2,0.6,0.8,0.9,1.0,0.9,0.4,0.4,0.2,0.5,0.4,0.8,0.1,0.1,0.6,0.2,0.3,0.9,0.3,0.8,0.8,0.1,0.3,0.1,0.7,0.3,0.7,0.2,0.7,0.6,0.4,0.3,0.1,1.0,0.5,0.8,0.9,0.9,0.5,0.3,0.3,0.9,0.9,0.8,0.8,0.3,0.5,0.4,0.8,0.7,1.0,0.1,0.2,0.7,0.5,0.6,0.4,0.1,0.4,0.4,0.4,0.9,0.2,0.1,0.7,0.2,0.7,0.2,1.0,0.6,0.5,0.1,0.2,0.6,0.9,0.3,0.4,0.9,0.7,0.2,0.2,0.2,0.8,0.6,0.1,0.2,0.7,0.1,0.7,0.7,0.6,0.2,0.5,0.7,0.6,0.8,0.3,0.3,0.2,0.2,0.8,0.4,0.3,0.2,0.4,0.1,0.4,0.3,0.1,0.5,0.8,0.2,0.7,0.4,0.7,0.8,0.3,0.8,0.5,0.6,0.7,0.9,0.3,0.3,1.0,0.1,0.4,0.9,0.3,0.8,0.7,0.2,0.7,0.8,1.0,0.7,0.7,0.1,0.4,0.9,0.1,0.4,0.7,0.1,1.0,0.6,0.8,0.9,0.7,0.1,0.3,0.7,0.1,1.0,0.7,0.8,0.6,0.8,0.3,0.1,0.1,0.9,0.1,0.3,0.7,0.2,0.3,0.7,0.3,0.8,0.6,0.3,1.0,0.2,0.8,0.1,0.6,1.0,0.8,0.4,0.1,0.1,0.6,1.0,0.6,0.3,0.7,0.2,0.9,0.7,0.7,0.6,0.9,0.5,0.9,0.9,0.6,0.8,0.1,0.1,1.0,0.7,0.9,0.5,0.3,0.1,0.1,0.5,0.1,0.1,0.3,0.7,0.1,0.9,0.5,1.0,0.4,0.9,0.6,0.2,0.5,0.1,0.6,0.1,1.0,0.1,0.2,0.8,0.2,0.9,0.5,0.9,0.5,0.1,0.1,0.2,0.8,0.3,0.7,0.3,0.9,0.1,0.8,0.6,0.1,0.1,0.1,0.4,0.8,0.1,0.1,0.8,0.1,0.9,0.9,0.3,0.1,0.7,0.8,0.1,0.4,0.9,0.1,0.3,0.2,0.1,0.1,0.2,0.6,0.9,0.7,0.6,0.7,0.3,0.6,0.1,0.6,0.1,0.1,0.9,0.1,0.4,0.7,0.3,0.8,0.8,0.3,0.1,0.9,0.9,0.3,0.1,0.2,0.2,0.5,0.1,0.5,0.5,0.4,0.1,0.7,1.0,0.1,0.6,0.5,0.8,0.3,0.2,0.2,0.5,0.6,0.7,0.8,0.2,0.8,0.5,0.5,0.3,0.3,0.9,0.3,0.8,0.1,0.9,0.8,0.1,0.6,0.7,0.9,0.6,0.1,0.8,0.3,0.2,0.2,0.4,0.5,0.7,1.0,0.2,0.2,0.3,0.5,0.7,0.9,0.7,0.5,0.5,0.8,0.7,0.2,0.5,0.7,0.2,0.8,0.3,0.1,0.9,1.0,0.5,0.9,0.9,0.3,0.9,0.9,0.1,0.8,0.1,0.9,0.1,0.9,0.1,0.1,0.4,0.8,0.4,0.3,0.4,0.5,0.7,1.0,0.1,0.7,0.7,0.1,0.6,0.7,0.7,0.4,0.6,0.8,0.6,0.5,0.4,0.3,0.6,0.5,0.7,0.2,0.7,0.9,0.5,0.1,0.1,0.1,0.3,0.3,0.2,0.3,0.7,0.4,0.3,0.8,0.8,0.6,0.3,1.0,0.6,0.6,0.2,0.1,0.2,0.7,0.2,0.5,0.8,0.7,0.8,0.9,0.2,0.8,0.3,0.5,0.9,0.4,0.8,0.1,0.3,0.1,0.2,0.2,0.3,0.8,0.6,0.7,0.4,0.2,0.5,0.3,0.2,0.3,0.6,0.1,0.1,0.8,0.3,0.7,0.9,0.7,0.4,0.2,0.6,0.2,0.1,0.2,0.4,0.6,0.9,0.7,0.2,0.3,0.1,0.7,0.3,0.8,0.6,0.7,0.3,0.6,0.4,0.8,0.8,0.1,1.0,0.6,1.0,0.4,0.2,0.6,0.7,0.7,0.9,0.3,0.3,0.9,0.3,0.1,0.1,0.1,0.2,0.1,0.5,0.5,0.4,0.7,0.8,0.9,0.3,0.9,1.0,0.9,0.5,0.5,0.7,0.1,0.6,1.0,0.7,0.6,0.5,0.6,0.8,0.8,0.5,0.6,0.4,0.9,0.6,0.7,0.4,0.1,0.8,0.2,0.8,0.9,0.5,0.1,0.5,0.8,0.6,0.1,0.4,0.8,0.7,0.7,0.2,0.8,0.5,0.1,0.1,0.3,0.1,0.8,0.8,0.2,0.5,0.1,0.2,0.5,0.2,0.1,0.7,0.2,0.9,0.3,0.1,0.9,0.5,0.7,0.9,0.8,0.1,1.0,0.3,0.6,0.7,0.5,0.8,0.4,0.4,0.9,0.4,0.3,0.4,0.3,0.2,0.2,0.6,0.3,0.4,0.8,0.6,0.9,0.5,0.2,0.4,0.5,0.9,0.4,0.5,0.4,0.7,1.0,0.5,0.8,0.2,1.0,0.1,0.4,0.1,0.9,0.1,0.2,0.1,0.7,0.5,0.9,0.6,1.0,0.2,0.4,0.1,0.3,0.1,0.1,0.2,0.3,0.1,0.2,0.5,0.6,0.3,0.7,0.4,0.4,1.0,0.1,0.1,1.0,1.0,0.2,0.7,0.1,0.8,0.5,1.0,0.3,0.6,0.5,0.5,0.1,0.2,0.9,0.8,0.9,0.9,0.4,0.5,0.1,0.3,0.8,0.4,0.2,0.5,0.3,0.2,0.5,0.9,0.2,0.4,0.4,0.6,0.5,0.1,0.3,0.9,0.2,0.5,0.9,0.9,0.6,0.1,0.5,0.1,0.3,1.0,0.5,0.3,0.1,0.4,0.3,0.9,0.1,0.7,1.0,0.9,0.5,0.1,0.5,0.7,0.2,0.4,0.5,0.3,0.2,0.1,1.0,0.2,0.2,0.1,0.3,0.3,1.0,0.9,0.1,0.3,0.9,0.8,0.4,0.6,0.9,0.7,0.6,0.2,0.2,0.8,0.7,0.5,0.8,0.2,0.1,0.8,0.3,0.4,0.1,0.4,0.1,1.0,0.9,0.2,0.8,0.1,0.2,0.6,0.7,0.7,0.1,0.7,0.2,0.5,0.6,0.1,0.8,0.6,0.5,0.6,0.2,0.4,0.9,0.9,0.1,0.2,0.9,0.6,0.7,0.7,0.1,0.4,0.9,0.1,0.9,0.7,0.8,0.1,0.9,1.0,0.1,0.8,0.1,0.9,0.1,0.3,0.7,0.1,0.1,0.7,0.7,0.4,0.1,0.8,0.8,0.8,0.7,0.3,0.4,0.2,0.5,0.2,0.3,0.9,0.8,0.6,0.1,0.4,0.9,0.1,0.7,0.3,0.2,0.9,0.1,0.9,0.7,0.6,0.8,0.2,0.5,0.7,0.1,0.2,0.5,0.6,1.0,0.4,0.8,1.0,0.6,0.9,0.9,1.0,0.1,0.8,0.2,0.6,0.3,0.8,0.5,0.3,0.9,0.1,0.5,0.2,0.6,0.1,0.8,0.7,0.9,0.1,0.3,0.2,0.3,0.1,0.3,0.2,0.7,0.4,0.3,0.5,0.1,0.4,0.6,0.1,0.9,0.1,0.7,0.8,0.9,0.3,0.1,0.6,0.7,0.5,0.1,0.7,0.9,0.8,0.6,0.1,0.5,0.3,0.1,0.3,0.5,0.6,0.7,1.0,0.3,0.1,0.8,0.4,0.7,0.9,0.4,0.7,1.0,0.7,0.2,0.7,0.6,0.9,0.8,0.4,0.4,0.1,0.1,0.9,0.4,0.7,0.4,0.6,0.1,0.4,0.6,0.3,0.3,0.3,0.3,0.5,0.1,0.5,0.1,0.6,0.4,0.6,1.0,0.8,0.8,0.3,0.5,0.6,0.4,0.3,0.5,0.5,0.6,0.9,0.1,0.7,0.6,0.2,0.1,0.8,0.8,0.9,0.2,0.2,0.7,0.7,0.3,0.9,0.4,0.9,0.8,0.8,0.2,0.6,0.9,0.5,0.2,0.1,0.4,0.7,0.2,0.1,0.3,0.3,0.8,0.3,0.7,0.2,0.5,0.4,0.6,0.3,0.1,0.7,0.3,1.0,0.1,0.1,0.1,0.9,0.8,0.8,0.4,0.8,0.2,0.6,0.7,0.5,0.1,0.7,0.8,0.5,0.1,0.6,0.7,0.9,0.1,0.2,0.8,0.2,0.5,0.8,0.5,0.4,0.9,0.1,0.1,0.7,0.1,0.5,0.2,0.2,0.4,0.2,0.9,0.6,0.4,0.1,0.1,0.5,0.8,0.8,0.8,0.9,0.1,0.3,0.8,0.1,0.4,0.8,0.6,0.8,0.9,0.6,0.4,0.7,0.1,0.5,0.1,0.2,0.4,0.7,0.5,0.1,0.8,0.9,0.1,0.4,0.2,0.8,0.8,0.1,0.1,0.4,0.6,0.5,0.3,0.5,0.7,0.2,0.4,0.1,0.2,0.9,0.2,0.4,0.3,0.3,0.9,0.6,0.6,0.8,0.9,1.0,0.2,0.2,0.1,0.1,0.1,1.0,0.1,0.3,0.3,0.7,0.8,0.5,0.7,0.5,1.0,0.6,0.3,0.6,0.4,0.1,0.4,0.2,0.7,0.6,0.3,0.6,0.1,0.1,0.7,0.9,0.6,0.8,0.4,0.6,0.4,0.5,0.2,0.5,0.7,1.0,0.2,0.7,0.5,0.3,0.8,0.4,0.3,0.5,0.1,0.8,0.3,0.7,0.4,0.7,0.9,0.8,0.5,0.6,0.1,0.6,0.1,0.9,0.7,0.2,0.4,0.4,0.4,0.9,0.7,1.0,0.1,0.1,0.1,0.5,0.8,0.6,0.1,0.9,0.4,0.9,0.2,0.2,0.4,0.2,0.1,0.7,0.1,0.8,0.1,0.5,0.7,1.0,0.8,0.4,0.6,0.5,0.7,0.7,0.1,0.5,0.3,0.9,0.4,0.5,0.9,0.1,1.0,0.4,0.1,0.5,0.8,0.3,0.2,0.1,0.5,0.2,0.9,0.4,0.9,0.2,0.4,0.1,0.7,0.9,0.8,0.1,0.6,0.6,0.7,0.5,0.8,0.8,0.9,0.1,1.0,0.6,0.6,0.2,0.8,0.8,0.8,0.2,0.4,0.8,0.7,0.4,0.2,1.0,0.1,0.5,0.7,0.9,0.9,0.3,0.5,1.0,1.0,0.1,0.1,0.8,0.9,0.6,0.3,0.2,0.1,0.5,0.7,0.1,0.5,0.6,0.9,0.1,0.7,0.6,0.9,0.7,0.9,0.3,0.3,0.1,0.8,0.3,0.6,0.1,0.6,0.3,0.1,0.3,0.7,0.1,0.1,1.0,0.6,0.1,0.7,0.9,0.9,0.7,0.1,0.3,0.6,0.1,0.1,0.7,0.5,0.1,0.2,0.2,0.5,0.9,0.4,0.2,0.5,0.6,0.3,0.7,0.2,0.5,0.2,0.2,0.1,0.1,0.2,1.0,0.7,0.2,0.1,0.1,1.0,0.8,1.0,0.3,0.1,1.0,0.9,0.2,0.8,0.5,0.5,0.8,0.8,0.5,0.5,0.8,0.8,1.0,0.9,0.1,0.7,0.6,0.2,0.5,0.1,1.0,0.6,0.2,0.3,0.8,0.2,0.3,0.5,1.0,1.0,1.0,0.2,0.3,0.2,0.6,0.1,0.2,0.6,0.1,0.6,0.9,0.8,0.9,0.4,0.8,0.3,0.7,0.9,0.4,0.1,0.9,0.1,0.6,0.2,0.1,0.7,0.3,0.3,1.0,0.2,0.4,0.3,0.9,0.5,0.4,0.6,0.5,0.4,0.5,0.3,0.9,0.7,0.7,0.4,0.6,0.5,0.1,0.3,0.9,0.1,0.5,0.6,0.4,0.2,0.6,0.8,0.8,0.2,0.6,0.7,0.6,0.3,0.4,1.0,0.2,0.1,0.9,0.1,0.9,0.1,0.1,0.1,1.0,0.5,0.9,0.9,0.8,0.1,0.8,0.5,0.6,0.7,0.6,0.1,0.1,0.5,0.5,0.8,0.3,0.2,0.2,0.8,0.5,0.7,0.5,0.1,0.2,0.1,0.1,0.5,0.2,0.7,0.1,0.6,0.5,0.9,0.2,0.3,0.4,0.5,0.4,0.3,0.3,0.7,0.1,0.6,1.0,0.9,0.4,0.9,0.9,0.2,0.1,1.0,0.3,0.7,0.9,0.5,0.5,0.3,0.6,0.9,0.4,0.9,0.2,0.5,0.4,0.9,0.4,0.6,1.0,0.4,0.6,1.0,0.9,0.4,0.6,0.2,0.2,0.8,0.3,0.1,0.1,0.3,0.1,0.8,0.7,0.6,0.4,0.5,0.2,0.1,0.1,0.4,0.1,0.5,0.1,1.0,0.2,0.9,0.7,0.3,0.4,0.3,0.4,0.1,0.8,0.7,0.3,0.1,0.8,0.8,0.7,0.9,0.6,0.8,0.5,0.2,0.8,0.6,0.3,0.1,0.2,0.6,0.1,0.6,0.9,0.7,1.0,0.9,0.9,0.8,0.6,0.5,0.2,0.5,0.7,0.5,0.2,1.0,0.8,0.8,0.9,0.5,0.9,0.4,1.0,0.4,0.3,0.6,0.9,0.9,0.8,0.5,0.5,0.1,0.6,0.1,1.0,0.1,0.1,0.6,0.1,0.8,0.3,0.2,0.7,0.9,0.6,0.2,1.0,0.9,0.4,0.9,0.7,1.0,0.8,1.0,0.2,0.1,0.5,0.6,0.6,0.5,0.4,0.2,0.3,0.2,0.5,0.6,0.6,0.1,0.9,0.3,0.5,0.7,0.2,0.8,0.3,0.7,1.0,0.1,0.4,0.4,0.4,0.6,0.3,0.5,0.2,0.7,0.8,0.3,0.3,0.7,0.5,0.7,0.2,0.8,0.4,0.2,1.0,0.5,0.8,0.5,0.6,0.2,0.1,0.9,0.2,0.8,1.0,0.5,0.2,0.1,1.0,0.2,0.6,0.1,0.2,0.7,0.9,0.6,0.6,0.3,0.8,0.1,0.3,0.1,1.0,0.2,0.7,0.1,0.9,0.4,0.4,0.1,0.9,0.1,0.5,0.1,0.4,0.2,0.8,0.8,0.2,0.6,0.1,0.8,0.2,0.7,0.1,0.9,2.0,3.0,5.0,6.0,2.0,1.0,8.0,4.0,7.0,5.0,5.0,8.0,4.0,4.0,1.0,2.0,8.0,3.0,5.0,4.0,7.0,2.0,4.0,3.0,3.0,8.0,4.0,7.0,2.0,5.0,7.0,8.0,1.0,4.0,8.0,8.0,4.0,2.0,6.0,2.0,1.0,2.0,2.0,3.0,2.0,3.0,8.0,7.0,8.0,8.0,3.0,8.0,2.0,3.0,7.0,3.0,8.0,3.0,6.0,5.0,3.0,8.0,2.0,2.0,3.0,3.0,4.0,3.0,2.0,4.0,7.0,4.0,3.0,1.0,4.0,6.0,3.0,1.0,4.0,6.0,7.0,4.0,5.0,3.0,1.0,8.0,5.0,3.0,5.0,4.0,3.0,7.0,7.0,6.0,3.0,3.0,5.0,6.0,2.0,7.0,6.0,8.0,5.0,4.0,7.0,4.0,5.0,5.0,1.0,1.0,3.0,7.0,6.0,5.0,7.0,7.0,8.0,3.0,1.0,3.0,8.0,4.0,3.0,2.0,5.0,1.0,4.0,6.0,3.0,6.0,7.0,1.0,7.0,8.0,4.0,5.0,6.0,8.0,7.0,8.0,1.0,3.0,1.0,7.0,3.0,2.0,2.0,7.0,3.0,1.0,5.0,7.0,6.0,2.0,2.0,1.0,4.0,6.0,6.0,1.0,5.0,6.0,5.0,1.0,8.0,4.0,8.0,6.0,7.0,4.0,7.0,5.0,4.0,5.0,5.0,6.0,7.0,5.0,2.0,7.0,1.0,6.0,8.0,4.0,5.0,3.0,6.0,1.0,1.0,5.0,1.0,5.0,8.0,2.0,4.0,7.0,3.0,3.0,4.0,3.0,1.0,7.0,3.0,7.0,6.0,8.0,6.0,5.0,7.0,6.0,3.0,8.0,5.0,5.0,1.0,3.0,8.0,5.0,3.0,5.0,5.0,2.0,4.0,6.0,4.0,2.0,1.0,8.0,4.0,3.0,5.0,1.0,8.0,3.0,2.0,1.0,5.0,5.0,7.0,4.0,8.0,7.0,6.0,5.0,7.0,7.0,2.0,4.0,5.0,2.0,2.0,5.0,8.0,4.0,1.0,7.0,4.0,7.0,3.0,6.0,7.0,4.0,1.0,4.0,2.0,2.0,6.0,6.0,5.0,1.0,7.0,8.0,1.0,3.0,2.0,4.0,4.0,4.0,7.0,8.0,6.0,3.0,7.0,3.0,8.0,1.0,7.0,8.0,1.0,6.0,2.0,7.0,6.0,5.0,5.0,7.0,8.0,6.0,8.0,7.0,1.0,6.0,1.0,2.0,2.0,3.0,3.0,6.0,6.0,4.0,2.0,7.0,3.0,8.0,2.0,8.0,4.0,2.0,1.0,3.0,2.0,1.0,1.0,1.0,6.0,7.0,1.0,1.0,1.0,5.0,1.0,6.0,4.0,3.0,2.0,4.0,3.0,1.0,1.0,7.0,3.0,6.0,8.0,7.0,1.0,4.0,5.0,6.0,1.0,3.0,1.0,5.0,8.0,8.0,7.0,4.0,1.0,7.0,5.0,7.0,7.0,2.0,2.0,4.0,4.0,8.0,6.0,8.0,1.0,6.0,2.0,7.0,5.0,7.0,5.0,7.0,2.0,6.0,4.0,2.0,7.0,7.0,3.0,2.0,1.0,3.0,8.0,8.0,7.0,7.0,6.0,7.0,4.0,7.0,4.0,2.0,8.0,2.0,4.0,1.0,3.0,7.0,3.0,4.0,6.0,4.0,5.0,5.0,8.0,4.0,5.0,6.0,5.0,5.0,3.0,4.0,8.0,5.0,7.0,2.0,5.0,3.0,4.0,2.0,4.0,3.0,6.0,7.0,6.0,2.0,8.0,8.0,1.0,6.0,4.0,2.0,7.0,6.0,2.0,7.0,8.0,7.0,7.0,3.0,7.0,2.0,2.0,5.0,1.0,8.0,2.0,3.0,3.0,6.0,7.0,3.0,3.0,5.0,5.0,4.0,7.0,7.0,8.0,2.0,8.0,3.0,4.0,8.0,7.0,1.0,7.0,5.0,3.0,4.0,3.0,4.0,1.0,4.0,4.0,4.0,6.0,1.0,5.0,2.0,6.0,4.0,5.0,4.0,5.0,3.0,6.0,1.0,7.0,8.0,5.0,5.0,3.0,2.0,3.0,2.0,8.0,6.0,7.0,7.0,2.0,1.0,7.0,3.0,5.0,3.0,4.0,1.0,1.0,4.0,6.0,7.0,8.0,3.0,4.0,3.0,1.0,8.0,3.0,5.0,2.0,8.0,8.0,4.0,2.0,1.0,6.0,5.0,5.0,4.0,7.0,8.0,6.0,4.0,6.0,8.0,1.0,4.0,8.0,5.0,2.0,6.0,8.0,2.0,1.0,2.0,5.0,8.0,8.0,8.0,4.0,5.0,8.0,1.0,1.0,1.0,8.0,2.0,8.0,6.0,6.0,7.0,8.0,2.0,2.0,2.0,5.0,6.0,2.0,1.0,7.0,5.0,1.0,5.0,4.0,1.0,8.0,3.0,5.0,3.0,3.0,3.0,1.0,4.0,8.0,5.0,5.0,1.0,5.0,3.0,4.0,3.0,2.0,8.0,5.0,7.0,6.0,4.0,8.0,7.0,2.0,5.0,7.0,7.0,8.0,4.0,3.0,2.0,7.0,3.0,7.0,8.0,1.0,1.0,5.0,2.0,4.0,6.0,7.0,1.0,4.0,4.0,3.0,3.0,6.0,8.0,7.0,5.0,8.0,3.0,6.0,3.0,7.0,8.0,5.0,8.0,5.0,7.0,6.0,3.0,5.0,8.0,5.0,1.0,4.0,1.0,7.0,8.0,7.0,7.0,3.0,8.0,7.0,4.0,6.0,4.0,3.0,8.0,3.0,7.0,4.0,4.0,8.0,3.0,6.0,4.0,4.0,7.0,7.0,5.0,3.0,1.0,2.0,6.0,6.0,5.0,7.0,7.0,1.0,7.0,3.0,7.0,5.0,2.0,4.0,6.0,5.0,4.0,5.0,8.0,1.0,3.0,5.0,6.0,5.0,3.0,3.0,1.0,1.0,5.0,7.0,7.0,5.0,6.0,2.0,7.0,2.0,8.0,2.0,7.0,2.0,3.0,4.0,3.0,5.0,7.0,2.0,4.0,7.0,8.0,3.0,6.0,7.0,3.0,3.0,1.0,6.0,1.0,7.0,7.0,7.0,4.0,6.0,7.0,7.0,3.0,6.0,2.0,6.0,1.0,1.0,8.0,1.0,2.0,3.0,3.0,2.0,2.0,6.0,4.0,1.0,5.0,3.0,6.0,3.0,6.0,4.0,5.0,7.0,8.0,5.0,7.0,2.0,6.0,6.0,2.0,8.0,2.0,2.0,1.0,7.0,3.0,2.0,7.0,1.0,8.0,5.0,7.0,2.0,1.0,4.0,8.0,3.0,2.0,1.0,3.0,5.0,5.0,6.0,6.0,8.0,5.0,7.0,7.0,7.0,3.0,1.0,1.0,3.0,4.0,6.0,5.0,3.0,2.0,1.0,7.0,4.0,5.0,1.0,1.0,6.0,1.0,4.0,7.0,5.0,1.0,3.0,2.0,7.0,8.0,6.0,3.0,6.0,6.0,7.0,1.0,3.0,2.0,6.0,7.0,8.0,1.0,5.0,1.0,8.0,1.0,4.0,3.0,2.0,8.0,3.0,7.0,1.0,6.0,3.0,2.0,7.0,4.0,2.0,6.0,4.0,8.0,3.0,2.0,8.0,3.0,5.0,7.0,2.0,8.0,7.0,2.0,7.0,7.0,3.0,4.0,3.0,2.0,3.0,6.0,2.0,1.0,6.0,5.0,5.0,2.0,5.0,6.0,3.0,1.0,6.0,7.0,4.0,8.0,1.0,5.0,1.0,7.0,5.0,2.0,3.0,3.0,1.0,5.0,4.0,4.0,8.0,6.0,2.0,4.0,3.0,3.0,1.0,1.0,3.0,4.0,4.0,2.0,2.0,4.0,4.0,1.0,3.0,3.0,7.0,6.0,8.0,3.0,1.0,5.0,1.0,1.0,4.0,4.0,7.0,2.0,1.0,3.0,4.0,3.0,3.0,1.0,6.0,8.0,3.0,3.0,8.0,2.0,7.0,4.0,3.0,6.0,8.0,1.0,2.0,4.0,2.0,6.0,7.0,5.0,8.0,3.0,8.0,4.0,1.0,1.0,2.0,6.0,1.0,7.0,5.0,8.0,2.0,8.0,1.0,3.0,8.0,2.0,4.0,1.0,4.0,1.0,6.0,5.0,2.0,5.0,1.0,8.0,3.0,7.0,4.0,4.0,7.0,7.0,5.0,5.0,7.0,7.0,4.0,6.0,6.0,3.0,2.0,8.0,6.0,6.0,5.0,2.0,3.0,7.0,8.0,5.0,1.0,2.0,8.0,5.0,4.0,2.0,3.0,6.0,2.0,4.0,7.0,1.0,8.0,4.0,4.0,4.0,3.0,3.0,5.0,3.0,4.0,2.0,2.0,5.0,1.0,6.0,7.0,4.0,7.0,3.0,7.0,2.0,3.0,5.0,7.0,7.0,3.0,2.0,7.0,7.0,5.0,8.0,7.0,1.0,1.0,3.0,5.0,8.0,5.0,2.0,4.0,6.0,8.0,8.0,4.0,1.0,1.0,6.0,6.0,3.0,6.0,6.0,1.0,4.0,7.0,7.0,7.0,3.0,6.0,1.0,5.0,3.0,6.0,8.0,5.0,6.0,4.0,7.0,5.0,5.0,1.0,3.0,3.0,2.0,5.0,2.0,4.0,4.0,3.0,7.0,5.0,2.0,7.0,4.0,5.0,1.0,3.0,1.0,1.0,2.0,7.0,7.0,1.0,2.0,8.0,6.0,2.0,8.0,2.0,6.0,2.0,8.0,2.0,4.0,8.0,5.0,8.0,1.0,3.0,3.0,5.0,1.0,8.0,7.0,1.0,8.0,4.0,5.0,8.0,1.0,2.0,2.0,6.0,6.0,5.0,4.0,3.0,3.0,7.0,4.0,4.0,6.0,7.0,6.0,1.0,3.0,8.0,5.0,7.0,4.0,5.0,8.0,7.0,3.0,8.0,7.0,3.0,8.0,3.0,6.0,4.0,2.0,7.0,5.0,8.0,6.0,3.0,2.0,2.0,7.0,4.0,2.0,3.0,4.0,6.0,1.0,8.0,1.0,7.0,6.0,8.0,6.0,7.0,2.0,3.0,7.0,1.0,1.0,8.0,7.0,2.0,2.0,7.0,2.0,6.0,3.0,5.0,3.0,4.0,8.0,5.0,3.0,3.0,1.0,3.0,8.0,4.0,4.0,3.0,7.0,2.0,8.0,7.0,3.0,4.0,6.0,8.0,1.0,3.0,4.0,3.0,1.0,1.0,4.0,2.0,1.0,6.0,1.0,5.0,7.0,7.0,5.0,1.0,2.0,8.0,7.0,8.0,4.0,6.0,8.0,7.0,2.0,5.0,2.0,1.0,5.0,6.0,6.0,2.0,6.0,6.0,6.0,7.0,4.0,1.0,8.0,7.0,1.0,1.0,1.0,3.0,1.0,2.0,3.0,6.0,4.0,2.0,7.0,1.0,1.0,8.0,8.0,7.0,1.0,5.0,6.0,6.0,6.0,5.0,2.0,3.0,6.0,5.0,5.0,4.0,7.0,4.0,5.0,8.0,1.0,8.0,7.0,7.0,3.0,2.0,2.0,5.0,2.0,7.0,8.0,3.0,5.0,3.0,5.0,4.0,1.0,4.0,5.0,2.0,3.0,6.0,4.0,1.0,7.0,7.0,5.0,6.0,2.0,5.0,3.0,8.0,5.0,1.0,3.0,8.0,4.0,4.0,7.0,8.0,8.0,4.0,4.0,2.0,8.0,7.0,5.0,6.0,5.0,5.0,2.0,8.0,7.0,4.0,2.0,1.0,4.0,2.0,8.0,8.0,8.0,2.0,2.0,4.0,5.0,6.0,5.0,1.0,1.0,4.0,2.0,4.0,8.0,8.0,5.0,2.0,4.0,7.0,5.0,2.0,5.0,4.0,4.0,2.0,1.0,8.0,4.0,8.0,3.0,5.0,4.0,4.0,4.0,2.0,6.0,5.0,3.0,5.0,1.0,8.0,4.0,6.0,8.0,7.0,8.0,4.0,8.0,4.0,3.0,2.0,8.0,4.0,2.0,5.0,2.0,1.0,4.0,2.0,8.0,7.0,4.0,5.0,8.0,5.0,4.0,6.0,6.0,1.0,7.0,6.0,6.0,8.0,3.0,8.0,4.0,8.0,4.0,8.0,8.0,6.0,5.0,2.0,3.0,3.0,4.0,4.0,8.0,5.0,6.0,4.0,8.0,8.0,6.0,4.0,8.0,3.0,4.0,5.0,1.0,1.0,4.0,1.0,6.0,1.0,8.0,2.0,6.0,2.0,6.0,4.0,6.0,6.0,8.0,3.0,4.0,3.0,3.0,1.0,4.0,6.0,1.0,1.0,8.0,1.0,1.0,6.0,4.0,6.0,2.0,5.0,8.0,3.0,7.0,5.0,7.0,3.0,1.0,1.0,8.0,6.0,2.0,8.0,6.0,3.0,3.0,2.0,2.0,8.0,4.0,6.0,5.0,4.0,7.0,6.0,8.0,6.0,4.0,5.0,8.0,1.0,2.0,7.0,4.0,7.0,2.0,1.0,8.0,2.0,1.0,4.0,4.0,3.0,8.0,1.0,8.0,6.0,6.0,7.0,5.0,8.0,2.0,3.0,4.0,7.0,8.0,2.0,5.0,2.0,8.0,1.0,8.0,6.0,1.0,3.0,2.0,7.0,7.0,8.0,6.0,2.0,5.0,8.0,2.0,4.0,6.0,4.0,5.0,1.0,2.0,6.0,4.0,2.0,4.0,6.0,7.0,2.0,4.0,8.0,8.0,2.0,8.0,8.0,1.0,5.0,6.0,2.0,2.0,7.0,8.0,4.0,1.0,5.0,2.0,4.0,2.0,8.0,6.0,4.0,1.0,7.0,3.0,5.0,7.0,6.0,1.0,4.0,2.0,1.0,8.0,5.0,8.0,6.0,4.0,2.0,5.0,5.0,5.0,6.0,1.0,3.0,8.0,7.0,1.0,6.0,8.0,3.0,8.0,4.0,1.0,2.0,5.0,5.0,4.0,4.0,6.0,2.0,8.0,6.0,2.0,4.0,3.0,2.0,5.0,1.0,7.0,8.0,1.0,3.0,6.0,2.0,4.0,2.0,3.0,4.0,7.0,1.0,4.0,2.0,5.0,6.0,8.0,1.0,1.0,7.0,4.0,8.0,4.0,8.0,4.0,6.0,8.0,6.0,1.0,1.0,2.0,4.0,5.0,8.0,4.0,6.0,6.0,1.0,7.0,4.0,1.0,8.0,4.0,5.0,5.0,2.0,1.0,4.0,8.0,6.0,6.0,5.0,2.0,1.0,2.0,1.0,7.0,4.0,2.0,6.0,7.0,3.0,3.0,5.0,4.0,4.0,4.0,1.0,4.0,7.0,8.0,4.0,4.0,8.0,5.0,8.0,8.0,7.0,4.0,4.0,4.0,3.0,4.0,7.0,1.0,5.0,2.0,2.0,6.0,5.0,7.0,2.0,5.0,5.0,2.0,5.0,8.0,1.0,3.0,3.0,6.0,8.0,6.0,8.0,5.0,8.0,7.0,2.0,3.0,2.0,5.0,4.0,5.0,2.0,4.0,6.0,1.0,6.0,4.0,2.0,4.0,3.0,8.0,8.0,2.0,2.0,8.0,7.0,6.0,6.0,7.0,8.0,7.0,3.0,3.0,8.0,2.0,8.0,7.0,3.0,3.0,3.0,3.0,5.0,6.0,2.0,4.0,4.0,1.0,4.0,8.0,5.0,2.0,4.0,6.0,2.0,1.0,4.0,7.0,6.0,5.0,3.0,6.0,6.0,2.0,2.0,5.0,6.0,1.0,8.0,7.0,5.0,7.0,5.0,4.0,2.0,5.0,4.0,4.0,5.0,5.0,5.0,2.0,7.0,5.0,6.0,3.0,1.0,1.0,3.0,6.0,1.0,7.0,1.0,3.0,7.0,4.0,8.0,4.0,4.0,2.0,2.0,7.0,3.0,1.0,7.0,1.0,2.0,7.0,7.0,3.0,7.0,4.0,4.0,6.0,7.0,6.0,4.0,5.0,1.0,7.0,2.0,2.0,8.0,3.0,7.0,4.0,3.0,7.0,8.0,3.0,6.0,7.0,3.0,5.0,8.0,4.0,6.0,6.0,4.0,1.0,5.0,5.0,7.0,6.0,1.0,1.0,4.0,3.0,7.0,8.0,1.0,2.0,2.0,5.0,4.0,6.0,3.0,1.0,5.0,4.0,1.0,8.0,4.0,5.0,5.0,7.0,8.0,5.0,5.0,4.0,3.0,2.0,8.0,4.0,2.0,3.0,2.0,7.0,7.0,2.0,6.0,1.0,8.0,3.0,5.0,6.0,7.0,7.0,3.0,7.0,8.0,1.0,3.0,8.0,4.0,2.0,5.0,4.0,1.0,5.0,4.0,6.0,6.0,6.0,5.0,8.0,6.0,6.0,7.0,7.0,3.0,7.0,8.0,1.0,4.0,5.0,5.0,5.0,4.0,6.0,6.0,5.0,7.0,3.0,4.0,8.0,2.0,6.0,2.0,8.0,5.0,7.0,6.0,1.0,2.0,8.0,7.0,2.0,5.0,3.0,8.0,3.0,6.0,5.0,7.0,5.0,2.0,4.0,1.0,3.0,1.0,8.0,3.0,5.0,1.0,6.0,4.0,8.0,5.0,6.0,2.0,6.0,6.0,9.0,14.0,7.0,10.0,0.0,14.0,15.0,1.0,18.0,17.0,11.0,17.0,16.0,4.0,17.0,18.0,11.0,14.0,2.0,7.0,20.0,13.0,3.0,19.0,6.0,18.0,7.0,9.0,20.0,18.0,0.0,3.0,17.0,10.0,18.0,17.0,20.0,14.0,10.0,19.0,7.0,14.0,1.0,14.0,10.0,8.0,15.0,19.0,19.0,0.0,10.0,0.0,20.0,19.0,9.0,14.0,4.0,5.0,6.0,0.0,18.0,3.0,17.0,14.0,0.0,1.0,1.0,11.0,4.0,16.0,5.0,6.0,20.0,15.0,3.0,20.0,8.0,7.0,19.0,3.0,15.0,13.0,17.0,5.0,11.0,13.0,14.0,5.0,18.0,0.0,15.0,9.0,19.0,16.0,18.0,1.0,7.0,13.0,9.0,4.0,10.0,3.0,3.0,10.0,16.0,4.0,7.0,4.0,20.0,1.0,14.0,19.0,9.0,0.0,11.0,12.0,0.0,7.0,2.0,10.0,7.0,4.0,20.0,1.0,17.0,16.0,1.0,3.0,14.0,10.0,12.0,5.0,0.0,8.0,7.0,14.0,2.0,18.0,4.0,5.0,6.0,11.0,2.0,7.0,4.0,7.0,7.0,17.0,14.0,12.0,9.0,8.0,6.0,4.0,18.0,0.0,16.0,13.0,16.0,3.0,20.0,17.0,8.0,4.0,3.0,8.0,20.0,6.0,5.0,8.0,4.0,1.0,15.0,10.0,1.0,13.0,4.0,20.0,12.0,5.0,19.0,12.0,13.0,9.0,17.0,5.0,5.0,18.0,15.0,8.0,6.0,15.0,8.0,13.0,7.0,4.0,20.0,0.0,15.0,9.0,17.0,19.0,1.0,17.0,16.0,4.0,6.0,1.0,0.0,17.0,16.0,0.0,7.0,2.0,9.0,1.0,6.0,19.0,10.0,12.0,11.0,4.0,5.0,19.0,1.0,19.0,18.0,6.0,6.0,17.0,19.0,15.0,8.0,12.0,16.0,1.0,2.0,1.0,0.0,20.0,10.0,14.0,12.0,15.0,15.0,10.0,4.0,1.0,0.0,7.0,7.0,17.0,16.0,13.0,11.0,1.0,17.0,10.0,1.0,1.0,10.0,16.0,15.0,14.0,12.0,5.0,6.0,18.0,2.0,12.0,14.0,15.0,8.0,13.0,19.0,13.0,4.0,20.0,14.0,11.0,7.0,9.0,3.0,7.0,0.0,20.0,4.0,11.0,13.0,18.0,14.0,5.0,1.0,19.0,2.0,13.0,17.0,19.0,7.0,20.0,14.0,8.0,20.0,2.0,20.0,13.0,8.0,6.0,2.0,14.0,17.0,0.0,17.0,9.0,13.0,8.0,8.0,20.0,13.0,2.0,17.0,20.0,14.0,11.0,15.0,16.0,8.0,10.0,3.0,10.0,17.0,13.0,1.0,1.0,19.0,6.0,1.0,9.0,13.0,15.0,20.0,4.0,4.0,7.0,13.0,15.0,4.0,16.0,20.0,5.0,16.0,18.0,12.0,1.0,3.0,13.0,3.0,19.0,18.0,7.0,2.0,12.0,14.0,2.0,17.0,12.0,12.0,12.0,18.0,19.0,0.0,14.0,10.0,0.0,10.0,14.0,9.0,13.0,10.0,4.0,1.0,20.0,5.0,17.0,15.0,8.0,12.0,16.0,3.0,16.0,19.0,1.0,13.0,12.0,2.0,12.0,4.0,12.0,18.0,10.0,5.0,9.0,3.0,2.0,11.0,15.0,3.0,8.0,13.0,17.0,0.0,17.0,12.0,5.0,4.0,2.0,12.0,12.0,17.0,14.0,13.0,6.0,4.0,10.0,2.0,7.0,19.0,7.0,15.0,2.0,8.0,5.0,11.0,15.0,10.0,16.0,0.0,9.0,2.0,9.0,16.0,12.0,13.0,13.0,16.0,18.0,3.0,10.0,4.0,5.0,12.0,2.0,19.0,7.0,14.0,5.0,12.0,12.0,17.0,20.0,14.0,15.0,10.0,6.0,11.0,0.0,12.0,13.0,10.0,4.0,2.0,7.0,14.0,13.0,18.0,16.0,4.0,4.0,3.0,17.0,2.0,18.0,3.0,15.0,14.0,4.0,14.0,20.0,10.0,9.0,9.0,0.0,17.0,12.0,20.0,2.0,4.0,16.0,18.0,2.0,6.0,0.0,2.0,10.0,15.0,6.0,15.0,20.0,13.0,14.0,19.0,14.0,6.0,0.0,18.0,4.0,20.0,17.0,10.0,7.0,11.0,0.0,16.0,15.0,11.0,11.0,18.0,8.0,10.0,17.0,13.0,2.0,7.0,20.0,16.0,6.0,11.0,9.0,7.0,9.0,18.0,0.0,17.0,4.0,7.0,3.0,4.0,14.0,6.0,0.0,20.0,10.0,7.0,18.0,10.0,7.0,7.0,10.0,16.0,14.0,4.0,17.0,15.0,15.0,15.0,20.0,9.0,8.0,16.0,15.0,1.0,13.0,10.0,16.0,12.0,9.0,15.0,18.0,17.0,17.0,8.0,20.0,4.0,10.0,15.0,18.0,4.0,12.0,5.0,18.0,1.0,20.0,2.0,12.0,10.0,7.0,13.0,5.0,20.0,7.0,6.0,0.0,13.0,14.0,15.0,11.0,8.0,5.0,3.0,15.0,0.0,14.0,15.0,7.0,9.0,6.0,10.0,2.0,18.0,1.0,16.0,6.0,19.0,3.0,3.0,3.0,2.0,2.0,2.0,0.0,10.0,18.0,11.0,5.0,11.0,8.0,6.0,2.0,1.0,10.0,3.0,6.0,8.0,7.0,14.0,16.0,0.0,16.0,11.0,18.0,20.0,13.0,7.0,16.0,17.0,17.0,10.0,4.0,2.0,9.0,12.0,0.0,5.0,13.0,7.0,8.0,3.0,17.0,13.0,1.0,9.0,4.0,11.0,7.0,6.0,17.0,15.0,3.0,7.0,13.0,3.0,19.0,9.0,14.0,1.0,12.0,9.0,3.0,15.0,7.0,3.0,14.0,12.0,6.0,6.0,7.0,9.0,13.0,3.0,4.0,12.0,0.0,8.0,6.0,7.0,15.0,14.0,1.0,3.0,10.0,20.0,0.0,11.0,13.0,15.0,12.0,13.0,15.0,1.0,9.0,3.0,8.0,18.0,2.0,17.0,10.0,11.0,10.0,10.0,17.0,8.0,20.0,6.0,11.0,2.0,14.0,10.0,9.0,1.0,0.0,7.0,13.0,20.0,18.0,3.0,9.0,9.0,3.0,7.0,18.0,9.0,10.0,18.0,1.0,10.0,3.0,20.0,18.0,4.0,1.0,0.0,19.0,10.0,2.0,13.0,5.0,19.0,8.0,17.0,4.0,2.0,0.0,2.0,16.0,10.0,4.0,1.0,16.0,18.0,17.0,15.0,10.0,17.0,18.0,10.0,15.0,17.0,1.0,8.0,15.0,15.0,9.0,3.0,3.0,2.0,6.0,19.0,17.0,17.0,16.0,19.0,2.0,2.0,18.0,9.0,18.0,10.0,8.0,20.0,10.0,18.0,2.0,14.0,14.0,5.0,16.0,14.0,0.0,10.0,3.0,0.0,19.0,9.0,20.0,8.0,9.0,6.0,8.0,16.0,3.0,7.0,12.0,18.0,14.0,16.0,5.0,6.0,6.0,6.0,10.0,7.0,9.0,15.0,16.0,18.0,18.0,18.0,19.0,7.0,10.0,6.0,12.0,7.0,3.0,11.0,19.0,4.0,7.0,20.0,2.0,14.0,4.0,15.0,19.0,4.0,7.0,18.0,10.0,14.0,19.0,0.0,4.0,0.0,13.0,17.0,9.0,11.0,12.0,6.0,16.0,5.0,13.0,10.0,18.0,1.0,20.0,1.0,4.0,6.0,1.0,16.0,9.0,11.0,9.0,7.0,17.0,6.0,17.0,11.0,18.0,11.0,4.0,19.0,11.0,12.0,3.0,0.0,6.0,14.0,9.0,20.0,20.0,5.0,13.0,4.0,2.0,1.0,15.0,11.0,20.0,4.0,16.0,4.0,14.0,16.0,7.0,9.0,1.0,10.0,14.0,12.0,3.0,7.0,2.0,2.0,15.0,16.0,10.0,1.0,4.0,2.0,0.0,0.0,17.0,16.0,16.0,15.0,18.0,10.0,16.0,7.0,14.0,16.0,14.0,3.0,14.0,13.0,9.0,6.0,6.0,8.0,19.0,17.0,0.0,0.0,10.0,11.0,9.0,10.0,12.0,12.0,11.0,18.0,11.0,14.0,6.0,9.0,14.0,0.0,3.0,9.0,0.0,15.0,17.0,0.0,6.0,14.0,19.0,18.0,16.0,15.0,15.0,20.0,9.0,9.0,12.0,5.0,3.0,12.0,16.0,12.0,19.0,1.0,15.0,17.0,6.0,7.0,17.0,10.0,0.0,0.0,19.0,19.0,15.0,7.0,18.0,20.0,1.0,3.0,20.0,16.0,10.0,17.0,2.0,12.0,0.0,0.0,7.0,10.0,17.0,1.0,11.0,2.0,3.0,13.0,4.0,14.0,14.0,8.0,7.0,14.0,14.0,14.0,13.0,5.0,9.0,5.0,7.0,7.0,4.0,7.0,13.0,3.0,7.0,0.0,12.0,11.0,6.0,5.0,17.0,20.0,6.0,8.0,19.0,7.0,5.0,20.0,18.0,12.0,1.0,14.0,0.0,12.0,7.0,16.0,0.0,3.0,4.0,2.0,13.0,20.0,1.0,3.0,13.0,15.0,12.0,14.0,3.0,10.0,15.0,13.0,2.0,14.0,16.0,3.0,9.0,0.0,13.0,20.0,7.0,13.0,12.0,13.0,2.0,1.0,9.0,11.0,10.0,0.0,5.0,1.0,7.0,20.0,9.0,19.0,1.0,17.0,10.0,20.0,5.0,6.0,11.0,9.0,13.0,14.0,18.0,9.0,17.0,9.0,1.0,6.0,16.0,3.0,3.0,3.0,6.0,12.0,6.0,4.0,17.0,11.0,2.0,0.0,6.0,11.0,1.0,1.0,14.0,13.0,14.0,6.0,3.0,1.0,3.0,15.0,15.0,0.0,18.0,2.0,9.0,12.0,13.0,17.0,1.0,0.0,20.0,12.0,14.0,12.0,7.0,1.0,9.0,12.0,15.0,9.0,10.0,1.0,0.0,1.0,15.0,0.0,1.0,2.0,13.0,7.0,11.0,10.0,14.0,18.0,8.0,8.0,6.0,15.0,17.0,2.0,1.0,3.0,20.0,0.0,1.0,12.0,20.0,14.0,2.0,8.0,15.0,11.0,10.0,9.0,15.0,7.0,11.0,4.0,20.0,12.0,10.0,20.0,5.0,3.0,5.0,9.0,1.0,9.0,16.0,7.0,3.0,8.0,6.0,5.0,6.0,6.0,13.0,19.0,7.0,3.0,19.0,9.0,4.0,19.0,17.0,20.0,13.0,15.0,9.0,0.0,9.0,10.0,14.0,3.0,2.0,3.0,20.0,8.0,12.0,0.0,18.0,6.0,17.0,10.0,12.0,11.0,5.0,4.0,18.0,4.0,5.0,2.0,17.0,10.0,8.0,17.0,5.0,15.0,14.0,3.0,7.0,13.0,16.0,8.0,6.0,8.0,6.0,1.0,0.0,13.0,15.0,8.0,11.0,14.0,0.0,9.0,4.0,19.0,0.0,11.0,20.0,3.0,19.0,9.0,16.0,17.0,13.0,7.0,10.0,11.0,9.0,11.0,5.0,9.0,0.0,10.0,17.0,8.0,0.0,18.0,9.0,17.0,7.0,13.0,14.0,11.0,0.0,6.0,4.0,20.0,0.0,18.0,20.0,6.0,7.0,18.0,9.0,13.0,16.0,8.0,19.0,1.0,8.0,13.0,12.0,18.0,9.0,15.0,1.0,19.0,1.0,4.0,12.0,15.0,15.0,1.0,19.0,9.0,12.0,1.0,20.0,9.0,16.0,7.0,13.0,8.0,6.0,15.0,16.0,9.0,17.0,17.0,0.0,11.0,6.0,8.0,2.0,2.0,2.0,5.0,0.0,8.0,2.0,10.0,8.0,19.0,20.0,2.0,19.0,20.0,10.0,10.0,3.0,19.0,8.0,1.0,1.0,9.0,8.0,6.0,1.0,17.0,8.0,7.0,7.0,18.0,5.0,7.0,20.0,10.0,4.0,9.0,7.0,2.0,17.0,15.0,5.0,13.0,19.0,18.0,2.0,4.0,7.0,10.0,4.0,5.0,9.0,9.0,20.0,1.0,19.0,19.0,4.0,6.0,13.0,2.0,0.0,20.0,8.0,9.0,20.0,8.0,19.0,1.0,7.0,1.0,12.0,10.0,8.0,18.0,2.0,18.0,8.0,3.0,4.0,8.0,8.0,0.0,20.0,7.0,20.0,12.0,10.0,5.0,11.0,13.0,9.0,10.0,7.0,20.0,2.0,20.0,0.0,6.0,20.0,0.0,20.0,13.0,11.0,1.0,10.0,11.0,20.0,11.0,14.0,8.0,15.0,1.0,6.0,15.0,14.0,8.0,14.0,14.0,14.0,12.0,2.0,6.0,17.0,7.0,6.0,7.0,15.0,0.0,4.0,10.0,18.0,9.0,16.0,20.0,18.0,2.0,17.0,10.0,10.0,10.0,16.0,18.0,17.0,4.0,2.0,4.0,16.0,7.0,17.0,1.0,10.0,18.0,3.0,6.0,10.0,9.0,11.0,5.0,19.0,10.0,14.0,15.0,10.0,12.0,16.0,8.0,7.0,16.0,19.0,8.0,5.0,8.0,16.0,10.0,1.0,18.0,1.0,19.0,1.0,3.0,19.0,2.0,3.0,3.0,19.0,19.0,10.0,0.0,10.0,2.0,14.0,4.0,9.0,1.0,2.0,17.0,6.0,10.0,14.0,2.0,13.0,3.0,5.0,17.0,1.0,20.0,7.0,1.0,19.0,0.0,10.0,14.0,15.0,12.0,14.0,7.0,11.0,12.0,19.0,2.0,17.0,13.0,2.0,3.0,2.0,11.0,16.0,10.0,17.0,18.0,17.0,13.0,4.0,2.0,10.0,20.0,17.0,11.0,15.0,3.0,7.0,19.0,19.0,12.0,8.0,7.0,1.0,20.0,10.0,2.0,10.0,12.0,14.0,12.0,13.0,14.0,12.0,6.0,4.0,14.0,20.0,7.0,13.0,13.0,7.0,2.0,17.0,12.0,17.0,16.0,7.0,1.0,3.0,17.0,14.0,3.0,13.0,8.0,9.0,1.0,18.0,20.0,17.0,19.0,15.0,9.0,17.0,11.0,9.0,0.0,6.0,19.0,3.0,7.0,20.0,7.0,6.0,10.0,13.0,9.0,5.0,1.0,14.0,7.0,9.0,9.0,6.0,0.0,4.0,5.0,15.0,9.0,18.0,19.0,14.0,7.0,0.0,8.0,14.0,19.0,12.0,10.0,5.0,0.0,9.0,7.0,1.0,9.0,0.0,9.0,16.0,20.0,13.0,20.0,12.0,16.0,14.0,1.0,11.0,9.0,12.0,20.0,3.0,1.0,6.0,2.0,8.0,20.0,14.0,10.0,3.0,19.0,7.0,16.0,3.0,16.0,8.0,7.0,19.0,1.0,7.0,20.0,3.0,8.0,18.0,5.0,18.0,10.0,8.0,6.0,0.0,14.0,9.0,20.0,6.0,1.0,11.0,9.0,9.0,3.0,1.0,3.0,6.0,9.0,10.0,4.0,3.0,6.0,15.0,17.0,8.0,11.0,13.0,19.0,9.0,10.0,19.0,2.0,7.0,4.0,10.0,3.0,16.0,4.0,7.0,0.0,9.0,19.0,4.0,16.0,15.0,6.0,16.0,11.0,18.0,2.0,20.0,12.0,7.0,6.0,9.0,11.0,2.0,9.0,20.0,18.0,1.0,10.0,17.0,6.0,19.0,16.0,6.0,17.0,0.0,8.0,2.0,2.0,1.0,16.0,8.0,7.0,4.0,10.0,15.0,12.0,2.0,17.0,0.0,16.0,14.0,10.0,14.0,17.0,17.0,8.0,12.0,12.0,2.0,16.0,4.0,7.0,6.0,11.0,14.0,3.0,2.0,10.0,7.0,19.0,9.0,4.0,6.0,15.0,8.0,14.0,10.0,14.0,4.0,19.0,3.0,19.0,15.0,4.0,13.0,12.0,5.0,20.0,17.0,8.0,20.0,20.0,12.0,13.0,4.0,16.0,15.0,20.0,0.0,8.0,2.0,7.0,1.0,0.0,0.0,4.0,20.0,16.0,20.0,10.0,18.0,14.0,20.0,1.0,20.0,8.0,13.0,6.0,12.0,18.0,4.0,12.0,9.0,16.0,9.0,20.0,9.0,2.0,15.0,2.0,4.0,11.0,0.0,11.0,11.0,10.0,14.0,0.0,8.0,11.0,8.0,18.0,10.0,9.0,11.0,7.0,17.0,1.0,11.0,11.0,20.0,6.0,14.0,8.0,15.0,7.0,7.0,0.0,12.0,10.0,7.0,12.0,15.0,15.0,8.0,20.0,16.0,11.0,6.0,8.0,15.0,12.0,1.0,16.0,14.0,5.0,10.0,16.0,20.0,9.0,1.0,6.0,12.0,2.0,19.0,4.0,7.0,20.0,17.0,4.0,11.0,6.0,4.0,8.0,0.0,20.0,4.0,7.0,9.0,3.0,16.0,8.0,7.0,16.0,11.0,2.0,10.0,20.0,20.0,16.0,2.0,15.0,11.0,15.0,3.0,11.0,9.0,19.0,4.0,0.0,2.0,14.0,3.0,3.0,5.0,16.0,15120.0,1799140.0,2167308.0,2171776.0,1464096.0,1660616.0,387858.0,588288.0,322696.0,1391688.0,216752.0,151755.0,454036.0,495360.0,200428.0,1606768.0,1820400.0,357210.0,577724.0,959728.0,2436156.0,1348990.0,334554.0,367208.0,250245.0,417294.0,354750.0,549325.0,245157.0,1478973.0,2361562.0,270102.0,97920.0,341582.0,273991.0,1416366.0,349635.0,795963.0,253310.0,2335624.0,419678.0,3332700.0,489090.0,1281280.0,2610160.0,336660.0,361782.0,20898.0,1468825.0,1640790.0,1908944.0,1911306.0,343434.0,1303731.0,554760.0,691012.0,1191078.0,476420.0,188945.0,86741.0,887604.0,351975.0,176134.0,1018809.0,791280.0,1053318.0,2907770.0,192348.0,562275.0,123615.0,982680.0,1426324.0,164160.0,2552.0,1078119.0,421038.0,1113840.0,129148.0,1812736.0,1471140.0,384714.0,2257552.0,1240416.0,1208394.0,973472.0,977304.0,71136.0,1145950.0,801198.0,780914.0,3088020.0,1522692.0,616738.0,445315.0,352230.0,1110618.0,580041.0,2647248.0,457436.0,1623861.0,1453804.0,725944.0,384744.0,166400.0,293150.0,188000.0,1382364.0,3178920.0,540878.0,3052077.0,1762258.0,671232.0,138180.0,60021.0,1440552.0,1752355.0,617855.0,248262.0,271975.0,2823530.0,735900.0,2126304.0,515211.0,740288.0,70977.0,738738.0,140694.0,2473935.0,685872.0,996774.0,217198.0,492624.0,189660.0,551232.0,395632.0,282048.0,404745.0,1166712.0,2133054.0,316768.0,3062340.0,141064.0,948909.0,860379.0,233696.0,594216.0,491103.0,1641970.0,3642884.0,896875.0,112000.0,784143.0,1946100.0,516630.0,343970.0,1297450.0,2237625.0,617022.0,3196596.0,480495.0,177828.0,344034.0,1031592.0,1262170.0,617967.0,642840.0,699300.0,1970253.0,2148133.0,87390.0,252655.0,317262.0,534670.0,1815165.0,471207.0,1131000.0,280584.0,953104.0,1434720.0,571350.0,232170.0,468684.0,1174326.0,914991.0,38220.0,210000.0,2317770.0,804081.0,762402.0,843791.0,937752.0,984186.0,2074488.0,133133.0,837090.0,539218.0,1646700.0,71685.0,1827224.0,1272150.0,353210.0,1712185.0,173755.0,1007064.0,746920.0,1824833.0,112617.0,576840.0,1036078.0,451140.0,150165.0,1852592.0,214323.0,56100.0,1519050.0,1594832.0,810959.0,32065.0,1584022.0,3467310.0,259368.0,308636.0,1065636.0,43680.0,576841.0,1616628.0,120461.0,1594320.0,503886.0,1144800.0,2516616.0,544128.0,1030370.0,158697.0,365638.0,237688.0,1126390.0,552720.0,1858890.0,874056.0,533761.0,2232842.0,573620.0,1805310.0,187252.0,70665.0,1394094.0,434140.0,1783485.0,255348.0,394482.0,1720774.0,51012.0,518092.0,1330574.0,829912.0,272340.0,1308528.0,1805760.0,279061.0,3690192.0,804254.0,148512.0,521848.0,1505965.0,2476992.0,853944.0,1340534.0,257424.0,2077845.0,1951182.0,376594.0,1049598.0,216342.0,3595230.0,778999.0,48288.0,562860.0,155570.0,559440.0,188139.0,201720.0,709175.0,2033166.0,424020.0,662844.0,2571760.0,241258.0,465123.0,173056.0,486031.0,234520.0,3592290.0,1194178.0,402434.0,55832.0,225320.0,1535274.0,274703.0,262614.0,3053376.0,35658.0,215270.0,997472.0,156996.0,3629598.0,143560.0,95880.0,896650.0,1049592.0,49192.0,1847428.0,1878670.0,837330.0,392080.0,196764.0,2163028.0,336066.0,21723.0,801966.0,452600.0,595920.0,36537.0,283590.0,360822.0,225302.0,115116.0,716496.0,1338024.0,2498640.0,1225224.0,1026704.0,427614.0,522624.0,77588.0,586245.0,1460670.0,251940.0,17584.0,1016180.0,451858.0,475857.0,428978.0,847693.0,2218032.0,3255070.0,737694.0,19019.0,1968912.0,317700.0,72674.0,1596294.0,125826.0,271150.0,181104.0,1582080.0,301728.0,1541196.0,1580650.0,266295.0,2507878.0,1048828.0,2500522.0,480594.0,186496.0,1219208.0,2724480.0,2744886.0,164808.0,1344375.0,221780.0,360269.0,2414221.0,53799.0,2343138.0,847110.0,78144.0,78925.0,614771.0,2127822.0,1188612.0,407028.0,460719.0,212090.0,237050.0,49629.0,126318.0,677468.0,651966.0,841122.0,464712.0,345398.0,2051172.0,344850.0,1302479.0,354918.0,48762.0,40500.0,100278.0,229020.0,507928.0,1239535.0,265680.0,2733906.0,275994.0,258250.0,1813394.0,43043.0,493311.0,463517.0,252384.0,2670342.0,612108.0,345084.0,284130.0,311850.0,346437.0,470184.0,402498.0,285545.0,908592.0,129792.0,1096664.0,234975.0,11802.0,137475.0,2041897.0,307450.0,1057221.0,1907850.0,2107256.0,147150.0,1294117.0,560538.0,102942.0,241224.0,1312473.0,2532288.0,498760.0,450934.0,399161.0,2035296.0,867375.0,3315200.0,337185.0,1173054.0,1401850.0,457024.0,1411830.0,470106.0,674064.0,715050.0,1389222.0,687735.0,1439424.0,1071057.0,2475576.0,834330.0,1128738.0,536673.0,308493.0,181220.0,382956.0,129740.0,982566.0,237050.0,797895.0,224519.0,4758.0,202940.0,119392.0,1224140.0,1169688.0,288904.0,1083999.0,261490.0,1696016.0,278932.0,781232.0,1828827.0,814606.0,298304.0,1236760.0,3527908.0,1233204.0,983180.0,800724.0,1195809.0,306656.0,414041.0,630750.0,188020.0,148836.0,1590806.0,824880.0,635986.0,623705.0,30912.0,1136174.0,257642.0,435750.0,1788480.0,794178.0,1135829.0,461496.0,64159.0,1188265.0,460401.0,1295239.0,577881.0,672184.0,2883972.0,736934.0,374556.0,900592.0,121644.0,2608956.0,3090508.0,2168348.0,1091780.0,3499484.0,1188082.0,1060006.0,96679.0,394902.0,2942807.0,666690.0,1947253.0,223024.0,174891.0,118035.0,1642402.0,216027.0,396896.0,287680.0,1374354.0,1576150.0,1142603.0,254263.0,415794.0,1277055.0,2225190.0,287471.0,885960.0,1548716.0,271000.0,200736.0,2046766.0,316503.0,1904520.0,666944.0,1455552.0,506160.0,202252.0,204600.0,281216.0,282940.0,208152.0,2788767.0,324527.0,250902.0,225360.0,1420368.0,665400.0,334906.0,2631150.0,46494.0,3066240.0,2129193.0,387528.0,713749.0,56264.0,301392.0,1159094.0,136250.0,365940.0,1097316.0,1625393.0,179300.0,394102.0,1242216.0,2046863.0,292049.0,441428.0,3007158.0,1615872.0,1671972.0,1469295.0,2378439.0,483406.0,1730078.0,214020.0,335174.0,1397434.0,394940.0,362384.0,205637.0,578592.0,1606250.0,224455.0,292068.0,1882112.0,216960.0,1375072.0,2285982.0,102297.0,148016.0,1405128.0,52400.0,1047865.0,515514.0,193648.0,339480.0,1487265.0,330049.0,567672.0,402031.0,2485717.0,1075176.0,797640.0,560592.0,2088200.0,238917.0,1885560.0,362064.0,548856.0,859456.0,1665235.0,401846.0,1602342.0,1173276.0,1488256.0,100170.0,748288.0,2604228.0,1258512.0,2551527.0,76500.0,1885728.0,195804.0,239040.0,850839.0,275825.0,1503418.0,130508.0,398496.0,714483.0,158100.0,172926.0,2465820.0,33925.0,1504492.0,134498.0,226914.0,78474.0,641445.0,1555242.0,45408.0,371000.0,2536284.0,308243.0,2536785.0,3399318.0,2872576.0,509026.0,912808.0,2011602.0,733965.0,400267.0,1608160.0,1619493.0,339587.0,1357790.0,415645.0,235326.0,240534.0,2966406.0,121440.0,1539948.0,145344.0,2023000.0,206973.0,579962.0,710046.0,509334.0,832265.0,587016.0,631267.0,65201.0,1530636.0,576711.0,2498210.0,508896.0,376800.0,818896.0,106160.0,102204.0,883445.0,96096.0,2039092.0,1365170.0,493290.0,235190.0,1369402.0,2457675.0,1909644.0,468006.0,2606072.0,2796724.0,766289.0,131610.0,48824.0,481611.0,362336.0,2086162.0,553052.0,1289883.0,717914.0,2162468.0,371628.0,2082927.0,1168638.0,1532068.0,398450.0,588643.0,238162.0,11418.0,2335080.0,250600.0,1096410.0,60996.0,466408.0,1668996.0,2334351.0,35948.0,301494.0,1004398.0,421268.0,643599.0,367316.0,1046962.0,1178320.0,156520.0,492363.0,866133.0,371800.0,369369.0,1385322.0,338218.0,2121267.0,159495.0,1359634.0,581126.0,969595.0,1999296.0,755848.0,553212.0,68510.0,477138.0,2013132.0,197923.0,1600185.0,174356.0,1383350.0,680538.0,627005.0,424424.0,989925.0,2708475.0,646500.0,3514610.0,937980.0,1149126.0,465192.0,289199.0,654558.0,367808.0,386001.0,3194745.0,360036.0,69224.0,578642.0,266220.0,973685.0,2188036.0,770336.0,7168.0,93170.0,209088.0,1143800.0,308870.0,208081.0,228705.0,968688.0,399006.0,2712168.0,711360.0,151167.0,329200.0,251940.0,583432.0,926.0,899268.0,417120.0,366799.0,3184854.0,2883810.0,84835.0,674540.0,174933.0,914862.0,464899.0,1373664.0,759696.0,1689350.0,317016.0,451264.0,438163.0,163049.0,418253.0,903535.0,420021.0,784524.0,1016696.0,1931202.0,464370.0,506456.0,264916.0,1621820.0,500805.0,175392.0,862512.0,155805.0,965235.0,360052.0,293886.0,495040.0,1146938.0,596736.0,818463.0,935352.0,469096.0,325922.0,744753.0,264708.0,1078769.0,139664.0,68440.0,422820.0,11916.0,1066947.0,372895.0,1535352.0,327327.0,1031415.0,1491000.0,260230.0,222976.0,215460.0,96768.0,923643.0,54940.0,174464.0,284550.0,1688804.0,334641.0,2272362.0,373372.0,51600.0,690276.0,47710.0,1087154.0,406809.0,3625056.0,883070.0,1959363.0,1843575.0,1696968.0,1213772.0,1975886.0,436073.0,241875.0,1807785.0,458343.0,452088.0,1265880.0,355350.0,801855.0,229140.0,163833.0,1410663.0,381568.0,284295.0,319935.0,3711360.0,784080.0,1665846.0,1091594.0,643719.0,869463.0,273856.0,578454.0,882215.0,1049958.0,1145130.0,356864.0,442890.0,211628.0,3072876.0,283176.0,351822.0,82560.0,120060.0,111228.0,1209090.0,188925.0,83142.0,21294.0,1324310.0,478125.0,619990.0,2668320.0,551616.0,108528.0,2450466.0,48430.0,253506.0,64032.0,660312.0,351154.0,169080.0,1398700.0,263934.0,1034127.0,1506381.0,71509.0,1940956.0,184471.0,56264.0,580920.0,1357790.0,2632833.0,183540.0,574072.0,579000.0,1120120.0,9752.0,86697.0,1665600.0,206560.0,440028.0,1357735.0,572208.0,392740.0,2341360.0,2220912.0,1638933.0,288948.0,1626900.0,482670.0,201110.0,3412512.0,88540.0,3187146.0,1635543.0,259677.0,1264740.0,944780.0,1349153.0,750080.0,42560.0,389990.0,602448.0,87948.0,660654.0,1167210.0,1485460.0,110968.0,3218184.0,637956.0,106688.0,269360.0,462560.0,1216962.0,1365078.0,2683550.0,210930.0,561600.0,3886306.0,445243.0,560272.0,490105.0,3128580.0,1543728.0,56610.0,1833695.0,2561880.0,281750.0,1644560.0,314776.0,1276893.0,399415.0,87080.0,1910127.0,193941.0,2594592.0,156750.0,2059568.0,1552620.0,740781.0,1893690.0,1090011.0,385635.0,1442352.0,132276.0,312273.0,323804.0,3744520.0,2706657.0,358720.0,751215.0,823888.0,430728.0,252400.0,652482.0,147396.0,535680.0,1276050.0,63916.0,37689.0,854250.0,235924.0,617265.0,1145838.0,1120278.0,138188.0,836664.0,922689.0,3097614.0,502600.0,452051.0,2914296.0,2361368.0,272367.0,1959012.0,275935.0,438880.0,756371.0,761236.0,646272.0,429940.0,1196715.0,200711.0,3114969.0,423092.0,264214.0,45815.0,1772064.0,476918.0,1068521.0,859250.0,1133832.0,332084.0,68575.0,3090483.0,1164216.0,719213.0,69814.0,223213.0,1257456.0,1192305.0,578688.0,1623258.0,353228.0,347190.0,2858394.0,1197855.0,1743963.0,205965.0,1722696.0,708500.0,891620.0,53004.0,1805611.0,179424.0,542845.0,142462.0,1779022.0,843848.0,215824.0,473220.0,1235152.0,2260620.0,352191.0,235499.0,690420.0,1832481.0,175244.0,446292.0,92048.0,198396.0,2428776.0,221760.0,1514926.0,49174.0,138060.0,1893265.0,1604277.0,696424.0,334236.0,136882.0,115902.0,1702914.0,271502.0,223376.0,391004.0,440998.0,576828.0,1519193.0,895230.0,1421536.0,155480.0,540650.0,543058.0,2142000.0,744168.0,190877.0,1770210.0,502674.0,349440.0,1245425.0,2208180.0,84700.0,799948.0,1072335.0,232964.0,1481661.0,1488319.0,504284.0,213108.0,386818.0,1104736.0,582336.0,666198.0,237500.0,1705899.0,7875.0,576331.0,1119501.0,318839.0,297964.0,424801.0,951216.0,1131564.0,232780.0,115310.0,131856.0,261326.0,1726504.0,748070.0,283878.0,212787.0,1452220.0,3649920.0,2486913.0,328320.0,14900.0,50078.0,710733.0,348894.0,1235136.0,1267762.0,787584.0,2435004.0,1382923.0,144324.0,1173322.0,663404.0,224170.0,906910.0,210915.0,2252880.0,810540.0,967518.0,609424.0,2309469.0,307146.0,227103.0,1807302.0,18216.0,267228.0,1868568.0,277153.0,2360605.0,2450054.0,491547.0,130524.0,1154530.0,127720.0,118026.0,48576.0,129978.0,1401565.0,107520.0,136160.0,192066.0,871200.0,106977.0,538680.0,967875.0,125064.0,1668758.0,1876836.0,1817235.0,1775186.0,328116.0,558556.0,1182272.0,380568.0,375417.0,362792.0,1534986.0,165222.0,1647188.0,2290734.0,2874648.0,731444.0,801864.0,2257307.0,668742.0,706006.0,240002.0,346788.0,1833192.0,709884.0,447170.0,26961.0,445970.0,1007600.0,2653316.0,474237.0,1452735.0,416906.0,1158100.0,1643595.0,3217516.0,512519.0,3093790.0,693160.0,1857573.0,493064.0,109727.0,384507.0,1971333.0,1358825.0,33728.0,698400.0,199817.0,112509.0,532266.0,210195.0,1136328.0,2672969.0,1072445.0,873504.0,2523560.0,1403310.0,2025751.0,1833590.0,404360.0,528359.0,1513182.0,1602717.0,366093.0,289926.0,588230.0,69368.0,172584.0,394800.0,2198214.0,2664662.0,2481936.0,172212.0,908928.0,2028702.0,542340.0,1821506.0,677468.0,837392.0,1999118.0,1303450.0,1870976.0,284210.0,2394440.0,1410222.0,608144.0,283178.0,650442.0,297299.0,278778.0,1583872.0,1755484.0,229916.0,550341.0,255420.0,8720.0,831545.0,317331.0,759267.0,329280.0,893308.0,439600.0,1305074.0,52452.0,4986.0,1463760.0,2765274.0,2874033.0,9519.0,1130038.0,559062.0,394784.0,483104.0,1629705.0,605616.0,574856.0,2012336.0,425078.0,18428.0,1189430.0,573334.0,1115550.0,246627.0,278936.0,721152.0,191465.0,253896.0,864702.0,103935.0,106488.0,3143150.0,320640.0,792880.0,545688.0,1039840.0,171191.0,620919.0,723330.0,129537.0,1681218.0,969420.0,2132902.0,311619.0,3352536.0,67800.0,768797.0,1615493.0,269028.0,341831.0,989334.0,219232.0,734384.0,224358.0,90132.0,1053990.0,1094608.0,353735.0,90152.0,1240712.0,909472.0,362502.0,1494486.0,368490.0,171083.0,263396.0,740996.0,926386.0,2616160.0,187620.0,3043729.0,1706747.0,960741.0,270242.0,450534.0,988844.0,675378.0,1322647.0,1468222.0,83692.0,170800.0,2202684.0,429312.0,642727.0,1707160.0,36022.0,565740.0,1919207.0,3720318.0,264258.0,727258.0,2590995.0,144566.0,587520.0,695912.0,1022706.0,64389.0,147538.0,295646.0,253022.0,793516.0,405665.0,981861.0,798490.0,2500455.0,2494879.0,444266.0,967824.0,1848000.0,144914.0,324792.0,1636624.0,236640.0,181995.0,512594.0,817071.0,1423503.0,821730.0,1623557.0,452500.0,589050.0,1793750.0,2182605.0,95568.0,1734348.0,230928.0,735832.0,1615836.0,337317.0,1151500.0,34685.0,16254.0,66538.0,61740.0,90720.0,18072.0,481070.0,456570.0,145920.0,529236.0,2697407.0,721765.0,261806.0,2578147.0,78740.0,490833.0,209236.0,3201640.0,2357862.0,838975.0,739446.0,179949.0,1983173.0,1395712.0,1230390.0,1786773.0,1995644.0,1685992.0,95746.0,652608.0,315894.0,635910.0,3249750.0,2932300.0,3438828.0,191308.0,668360.0,247720.0,317600.0,208284.0,252269.0,1287852.0,0.0,137016.0,381729.0,315225.0,809375.0,1923984.0,2577125.0,1747603.0,994704.0,227465.0,55250.0,786911.0,270680.0,521048.0,395156.0,509184.0,404684.0,73140.0,500892.0,15670.0,2355916.0,39712.0,507970.0,1608292.0,921367.0,29512.0,402456.0,1042908.0,233160.0,18998.0,334506.0,1242046.0,1280915.0,2078923.0,508368.0,67728.0,2644596.0,1550115.0,46397.0,185745.0,1149988.0,1274091.0,681013.0,287512.0,937650.0,609182.0,2185380.0,3463323.0,3030470.0,47616.0,1507554.0,3152290.0,1574425.0,1492640.0,501552.0,1320.0,360974.0,145260.0,400057.0,132956.0,1593000.0,146440.0,1580700.0,173048.0,250360.0,2818089.0,164793.0,251712.0,1175985.0,209328.0,102765.0,1832832.0,57400.0,2062038.0,1487898.0,874038.0,55854.0,2465300.0,992838.0,731136.0,1869184.0,346805.0,119791.0,678515.0,466507.0,233602.0,543910.0,593965.0,946832.0,1696758.0,104167.0,198450.0,17940.0,856500.0,359513.0,1873950.0,1197760.0,319935.0,210786.0,464940.0,703768.0,187240.0,277650.0,594849.0,580855.0,689728.0,1860200.0,1844190.0,981125.0,1199184.0,728180.0,1256470.0,347625.0,877630.0,2708253.0,17496.0,9058.0,204450.0,278806.0,173194.0,1767136.0,1165010.0,108136.0,1304677.0,200220.0,228620.0,2457676.0,1919856.0,416928.0,955645.0,925380.0,70856.0,160398.0,1692792.0,3703024.0,150349.0,2523786.0,325679.0,446656.0,656632.0,777504.0,353727.0,403756.0,421580.0,384013.0,84375.0,338015.0,561222.0,475625.0,251446.0,1702615.0,625200.0,344124.0,135121.0,17472.0,1602735.0,372064.0,1976205.0,2363642.0,420616.0,103292.0,251550.0,212004.0,50130.0,1063692.0,1229488.0,967672.0,162352.0,989391.0,455700.0,1700840.0,1296383.0,2302754.0,484288.0,1485610.0,455598.0,710348.0,589000.0,894249.0,79677.0,671782.0,2926048.0,1854150.0,1484964.0,361950.0,926750.0,711732.0,3100088.0,847573.0,246715.0,42559.0,73990.0,731935.0,1638560.0,1228912.0,726786.0,1052480.0,838040.0,846930.0,1588909.0,203105.0,1014771.0,1090668.0,672154.0,1105140.0,41984.0,706450.0,1720720.0,2409462.0,120890.0,519010.0,2816352.0,3016021.0,242316.0,3558520.0,2634416.0,2181592.0,959340.0,954636.0,1495368.0,1090686.0,217019.0,1155128.0,272734.0,300510.0,2766147.0,115395.0,1942308.0,1364450.0,1088649.0,1597771.0,1425060.0,148385.0,13208.0,253648.0,276627.0,165669.0,1392120.0,837210.0,119706.0,925536.0,486381.0,127765.0,523479.0,512325.0,2517122.0,130455.0,1308720.0,1430972.0,779880.0,79712.0,631442.0,595504.0,3395736.0,797496.0,2103325.0,308384.0,463888.0,1553490.0,309987.0,243243.0,1343025.0,145306.0,437568.0,66612.0,864545.0,1863550.0,616266.0,379533.0,1200353.0,121890.0,2513565.0,487362.0,64400.0,313644.0,2293247.0,222856.0,295495.0,1361958.0,581970.0,259160.0,62951.0,248344.0,219812.0,2524764.0,694936.0,989830.0,744337.0,1652050.0,1196303.0,3847480.0,166112.0,164628.0,1225736.0,125396.0,333260.0,434076.0,2940264.0,1727715.0,673630.0,726600.0,266679.0,182028.0,109816.0,272646.0,1812300.0,2241462.0,2326537.0,2974452.0,2095001.0,17850.0,483322.0,41768.0,243639.0,128908.0,822908.0,1773627.0,189198.0,11220.0,1453515.0,1420179.0,1321902.0,734111.0,2109612.0,1111420.0,1606098.0,181671.0,276486.0,1052145.0,214896.0,1488630.0,1065284.0,2190249.0,181280.0,153375.0,1234217.0,887616.0,1168178.0,694593.0,894784.0,972748.0,2112040.0,339360.0,369600.0,254040.0,1918240.0,3615696.0,203562.0,2314224.0,548230.0,599192.0,1013044.0,1164000.0,178011.0,835849.0,2051424.0,1142340.0,451644.0,396271.0,3176478.0,322040.0,151803.0,743682.0,994649.0,119847.0,351614.0,171480.0,3110538.0,64010.0,684086.0,360386.0,1686041.0,1244271.0,769580.0,2041067.0,561792.0,621600.0,367476.0,533544.0,339288.0,48585.0,792091.0,771840.0,478367.0,796262.0,129024.0,2745568.0,383538.0,2399800.0,151525.0,1625568.0,693954.0,170772.0,283466.0,52440.0,376232.0,479087.0,5404.0,1177176.0,299264.0,436239.0,1643152.0,600270.0,2131519.0,1176904.0,288152.0,216840.0,396680.0,2032390.0,309026.0,23112.0,123335.0,822025.0,165330.0,132076.0,855162.0,479399.0,276342.0,685392.0,25852.0,822375.0,2299167.0,1217542.0,354710.0,180492.0,2416248.0,182189.0,210688.0,536712.0,2904934.0,2406690.0,955479.0,294840.0,144870.0,2242380.0,980670.0,149270.0,572185.0,120963.0,1429876.0,234740.0,28028.0,894806.0,170191.0,1045869.0,785025.0,728495.0,499800.0,2385000.0,3049596.0,477470.0,660014.0,0.0,294224.0,1289611.0,1447384.0,659120.0,364250.0,120012.0,2248650.0,903968.0,914480.0,462105.0,138470.0,398049.0,115543.0,152278.0,62392.0,93366.0,578588.0,758961.0,1301808.0,472104.0,47680.0,931509.0,965560.0,1084072.0,1260316.0,1377072.0,116982.0,815948.0,778101.0,1887.0,3275916.0,124830.0,1959083.0,2139299.0,1690556.0,1320528.0,500850.0,244335.0,33894.0,1974596.0,495958.0,3045812.0,170748.0,741630.0,189441.0,210887.0,1310913.0,710564.0,876570.0,164351.0,240402.0,2795983.0,741258.0,427884.0,332079.0,205814.0,1059518.0,2972.0,1041984.0,975912.0,747648.0,2309580.0,1797975.0,1416576.0,225120.0,364182.0,63.0,51.0,22.0,128.0,16.0,17.0,104.0,48.0,17.0,190.0,10.0,126.0,0.0,7.0,126.0,255.0,90.0,20.0,247.0,11.0,255.0,17.0,55.0,56.0,0.0,162.0,16.0,136.0,10.0,84.0,187.0,5.0,90.0,0.0,12.0,40.0,91.0,30.0,6.0,216.0,36.0,180.0,0.0,180.0,27.0,24.0,50.0,192.0,45.0,208.0,0.0,228.0,60.0,136.0,0.0,98.0,154.0,36.0,35.0,195.0,56.0,90.0,0.0,28.0,40.0,144.0,36.0,176.0,11.0,7.0,143.0,63.0,90.0,0.0,18.0,20.0,70.0,77.0,221.0,56.0,190.0,154.0,54.0,30.0,55.0,135.0,0.0,39.0,45.0,10.0,57.0,126.0,160.0,160.0,323.0,65.0,76.0,306.0,42.0,12.0,128.0,112.0,238.0,140.0,44.0,10.0,72.0,18.0,323.0,247.0,64.0,234.0,78.0,32.0,9.0,12.0,108.0,60.0,15.0,0.0,108.0,198.0,40.0,20.0,65.0,266.0,27.0,24.0,0.0,120.0,119.0,0.0,108.0,50.0,96.0,36.0,76.0,132.0,108.0,9.0,0.0,0.0,306.0,132.0,0.0,216.0,72.0,16.0,65.0,130.0,10.0,176.0,112.0,19.0,24.0,160.0,72.0,0.0,0.0,0.0,50.0,90.0,7.0,238.0,64.0,272.0,162.0,42.0,96.0,18.0,15.0,68.0,9.0,114.0,192.0,35.0,112.0,112.0,192.0,68.0,98.0,228.0,6.0,16.0,238.0,26.0,0.0,117.0,45.0,119.0,60.0,120.0,153.0,216.0,35.0,180.0,153.0,30.0,110.0,52.0,20.0,28.0,84.0,24.0,285.0,77.0,52.0,0.0,285.0,306.0,0.0,135.0,33.0,126.0,45.0,90.0,15.0,13.0,112.0,88.0,323.0,30.0,132.0,120.0,154.0,66.0,24.0,144.0,304.0,14.0,140.0,110.0,102.0,30.0,72.0,152.0,216.0,7.0,0.0,24.0,11.0,42.0,10.0,7.0,48.0,24.0,48.0,270.0,60.0,0.0,7.0,153.0,30.0,65.0,135.0,24.0,96.0,0.0,112.0,9.0,18.0,5.0,21.0,0.0,0.0,27.0,80.0,72.0,54.0,12.0,247.0,285.0,102.0,32.0,221.0,209.0,45.0,16.0,32.0,117.0,272.0,77.0,190.0,75.0,55.0,0.0,32.0,35.0,42.0,28.0,42.0,11.0,168.0,75.0,195.0,0.0,15.0,48.0,190.0,96.0,20.0,7.0,57.0,15.0,90.0,198.0,13.0,48.0,110.0,42.0,192.0,0.0,0.0,36.0,38.0,14.0,8.0,90.0,156.0,70.0,0.0,120.0,30.0,54.0,39.0,70.0,0.0,165.0,7.0,66.0,255.0,6.0,0.0,0.0,17.0,270.0,15.0,168.0,98.0,165.0,32.0,126.0,0.0,17.0,130.0,68.0,0.0,0.0,39.0,60.0,165.0,288.0,130.0,323.0,0.0,32.0,238.0,135.0,11.0,70.0,126.0,11.0,187.0,182.0,0.0,24.0,144.0,16.0,77.0,342.0,16.0,42.0,5.0,108.0,10.0,272.0,143.0,77.0,63.0,143.0,8.0,96.0,60.0,36.0,60.0,255.0,57.0,272.0,42.0,16.0,0.0,70.0,18.0,342.0,14.0,63.0,96.0,12.0,0.0,24.0,50.0,0.0,156.0,104.0,18.0,35.0,0.0,120.0,14.0,117.0,105.0,170.0,10.0,18.0,18.0,10.0,95.0,126.0,195.0,77.0,30.0,224.0,15.0,72.0,28.0,24.0,27.0,8.0,95.0,5.0,288.0,10.0,104.0,78.0,170.0,0.0,105.0,132.0,120.0,8.0,0.0,8.0,132.0,108.0,65.0,165.0,15.0,33.0,16.0,5.0,192.0,128.0,72.0,12.0,56.0,34.0,21.0,126.0,255.0,5.0,36.0,105.0,204.0,72.0,224.0,140.0,76.0,99.0,11.0,45.0,35.0,63.0,12.0,6.0,72.0,22.0,0.0,9.0,32.0,224.0,33.0,135.0,84.0,150.0,64.0,36.0,156.0,7.0,170.0,0.0,0.0,5.0,85.0,88.0,128.0,0.0,28.0,28.0,6.0,39.0,7.0,102.0,72.0,247.0,18.0,90.0,132.0,252.0,323.0,36.0,84.0,21.0,15.0,117.0,13.0,126.0,7.0,195.0,104.0,14.0,14.0,0.0,192.0,80.0,48.0,128.0,112.0,323.0,40.0,28.0,54.0,65.0,140.0,21.0,42.0,32.0,77.0,0.0,7.0,54.0,255.0,6.0,42.0,44.0,238.0,6.0,15.0,56.0,35.0,80.0,48.0,5.0,34.0,56.0,140.0,55.0,78.0,110.0,171.0,84.0,36.0,102.0,12.0,72.0,56.0,210.0,24.0,90.0,102.0,143.0,18.0,72.0,0.0,75.0,28.0,133.0,18.0,84.0,117.0,56.0,45.0,120.0,160.0,27.0,105.0,42.0,27.0,40.0,22.0,33.0,126.0,10.0,42.0,22.0,6.0,216.0,36.0,32.0,210.0,306.0,128.0,140.0,18.0,6.0,272.0,16.0,156.0,114.0,20.0,42.0,136.0,80.0,21.0,96.0,70.0,56.0,72.0,150.0,12.0,32.0,84.0,238.0,132.0,0.0,247.0,156.0,0.0,21.0,128.0,17.0,80.0,272.0,28.0,15.0,12.0,18.0,140.0,0.0,108.0,255.0,0.0,0.0,96.0,0.0,28.0,7.0,0.0,140.0,21.0,108.0,18.0,24.0,75.0,65.0,135.0,0.0,221.0,195.0,204.0,10.0,153.0,102.0,208.0,120.0,108.0,38.0,21.0,84.0,90.0,45.0,14.0,68.0,78.0,132.0,15.0,19.0,204.0,13.0,224.0,0.0,154.0,85.0,55.0,130.0,56.0,42.0,15.0,19.0,40.0,165.0,117.0,13.0,104.0,144.0,156.0,110.0,30.0,9.0,84.0,16.0,0.0,24.0,110.0,304.0,5.0,45.0,40.0,102.0,57.0,48.0,12.0,126.0,176.0,15.0,132.0,66.0,20.0,270.0,0.0,20.0,192.0,135.0,96.0,154.0,144.0,10.0,90.0,36.0,6.0,234.0,70.0,221.0,128.0,15.0,0.0,12.0,88.0,45.0,6.0,48.0,136.0,0.0,45.0,8.0,0.0,5.0,112.0,12.0,105.0,24.0,190.0,65.0,252.0,56.0,36.0,30.0,90.0,70.0,28.0,12.0,56.0,50.0,72.0,33.0,154.0,120.0,165.0,20.0,238.0,7.0,72.0,90.0,108.0,80.0,90.0,72.0,0.0,27.0,0.0,50.0,0.0,78.0,152.0,0.0,238.0,190.0,8.0,99.0,156.0,221.0,45.0,39.0,224.0,45.0,28.0,88.0,22.0,11.0,80.0,30.0,228.0,19.0,90.0,24.0,84.0,0.0,0.0,12.0,13.0,42.0,15.0,221.0,22.0,30.0,84.0,30.0,66.0,68.0,40.0,168.0,15.0,240.0,120.0,195.0,5.0,204.0,24.0,160.0,0.0,45.0,35.0,9.0,0.0,156.0,24.0,50.0,144.0,48.0,10.0,119.0,0.0,34.0,306.0,154.0,0.0,56.0,42.0,210.0,44.0,50.0,96.0,228.0,96.0,28.0,0.0,16.0,10.0,16.0,126.0,51.0,176.0,176.0,10.0,26.0,152.0,60.0,84.0,21.0,228.0,192.0,9.0,65.0,56.0,40.0,0.0,0.0,208.0,34.0,85.0,104.0,36.0,30.0,240.0,54.0,55.0,10.0,63.0,15.0,68.0,44.0,22.0,42.0,51.0,0.0,6.0,12.0,20.0,84.0,33.0,0.0,0.0,60.0,15.0,304.0,28.0,126.0,120.0,140.0,14.0,77.0,14.0,32.0,35.0,108.0,96.0,176.0,170.0,180.0,10.0,143.0,80.0,52.0,24.0,40.0,24.0,110.0,68.0,90.0,105.0,132.0,18.0,38.0,168.0,136.0,21.0,36.0,198.0,126.0,55.0,99.0,18.0,190.0,192.0,96.0,108.0,0.0,48.0,99.0,36.0,50.0,112.0,266.0,126.0,91.0,68.0,143.0,36.0,66.0,24.0,18.0,168.0,40.0,0.0,35.0,56.0,22.0,32.0,27.0,90.0,18.0,0.0,0.0,114.0,221.0,136.0,36.0,114.0,17.0,57.0,28.0,160.0,204.0,70.0,36.0,126.0,96.0,110.0,238.0,136.0,40.0,36.0,34.0,5.0,42.0,72.0,132.0,48.0,228.0,30.0,5.0,64.0,44.0,63.0,0.0,72.0,52.0,32.0,36.0,16.0,0.0,48.0,78.0,150.0,35.0,0.0,78.0,6.0,143.0,11.0,15.0,28.0,170.0,170.0,112.0,168.0,9.0,228.0,6.0,48.0,132.0,15.0,36.0,272.0,20.0,15.0,0.0,17.0,0.0,140.0,65.0,24.0,247.0,0.0,32.0,0.0,17.0,24.0,66.0,99.0,14.0,187.0,96.0,51.0,208.0,48.0,26.0,0.0,35.0,35.0,21.0,342.0,70.0,40.0,28.0,51.0,144.0,72.0,21.0,9.0,10.0,0.0,0.0,75.0,54.0,192.0,0.0,0.0,30.0,182.0,105.0,35.0,176.0,272.0,10.0,108.0,130.0,45.0,12.0,30.0,135.0,136.0,54.0,128.0,182.0,10.0,57.0,240.0,195.0,24.0,15.0,209.0,68.0,0.0,17.0,40.0,108.0,128.0,21.0,90.0,56.0,14.0,6.0,60.0,252.0,170.0,51.0,44.0,168.0,42.0,238.0,204.0,126.0,120.0,36.0,28.0,27.0,156.0,240.0,96.0,130.0,65.0,192.0,80.0,99.0,132.0,8.0,18.0,0.0,20.0,132.0,221.0,18.0,209.0,39.0,0.0,10.0,0.0,42.0,247.0,7.0,168.0,154.0,35.0,7.0,33.0,0.0,187.0,68.0,90.0,0.0,0.0,56.0,176.0,51.0,91.0,55.0,170.0,13.0,14.0,66.0,24.0,20.0,270.0,120.0,38.0,56.0,30.0,77.0,0.0,0.0,120.0,195.0,187.0,60.0,72.0,45.0,112.0,45.0,57.0,24.0,56.0,16.0,48.0,70.0,13.0,152.0,255.0,32.0,60.0,84.0,119.0,272.0,119.0,72.0,0.0,40.0,77.0,102.0,10.0,60.0,42.0,60.0,104.0,40.0,6.0,50.0,153.0,105.0,99.0,270.0,132.0,54.0,0.0,96.0,56.0,32.0,13.0,5.0,20.0,7.0,72.0,70.0,19.0,110.0,180.0,56.0,98.0,80.0,24.0,13.0,88.0,304.0,208.0,21.0,99.0,0.0,35.0,126.0,18.0,187.0,45.0,208.0,38.0,0.0,342.0,105.0,7.0,5.0,240.0,36.0,180.0,176.0,288.0,42.0,91.0,114.0,117.0,120.0,14.0,21.0,0.0,21.0,133.0,17.0,144.0,24.0,63.0,0.0,70.0,34.0,126.0,130.0,48.0,24.0,99.0,288.0,96.0,224.0,12.0,70.0,32.0,44.0,98.0,48.0,160.0,0.0,28.0,0.0,35.0,98.0,55.0,150.0,168.0,12.0,27.0,0.0,135.0,30.0,16.0,270.0,143.0,78.0,0.0,36.0,5.0,16.0,90.0,48.0,52.0,0.0,180.0,11.0,52.0,110.0,45.0,14.0,36.0,77.0,0.0,216.0,38.0,0.0,156.0,8.0,216.0,98.0,91.0,56.0,63.0,32.0,272.0,80.0,6.0,30.0,6.0,17.0,0.0,209.0,168.0,34.0,42.0,54.0,126.0,60.0,153.0,42.0,6.0,24.0,0.0,21.0,209.0,80.0,30.0,21.0,0.0,120.0,304.0,22.0,22.0,228.0,108.0,112.0,180.0,21.0,234.0,135.0,28.0,30.0,51.0,27.0,24.0,176.0,17.0,204.0,0.0,76.0,40.0,16.0,39.0,112.0,112.0,152.0,110.0,85.0,28.0,110.0,198.0,240.0,88.0,112.0,57.0,30.0,221.0,14.0,32.0,120.0,27.0,190.0,136.0,24.0,18.0,120.0,176.0,27.0,36.0,90.0,36.0,48.0,192.0,119.0,342.0,45.0,65.0,288.0,12.0,30.0,0.0,27.0,0.0,171.0,66.0,255.0,96.0,8.0,187.0,84.0,91.0,28.0,66.0,72.0,136.0,15.0,130.0,35.0,88.0,160.0,48.0,70.0,8.0,35.0,180.0,216.0,55.0,14.0,60.0,48.0,60.0,80.0,0.0,176.0,5.0,44.0,119.0,54.0,165.0,12.0,88.0,0.0,30.0,176.0,17.0,180.0,234.0,171.0,13.0,0.0,171.0,12.0,28.0,0.0,35.0,0.0,91.0,78.0,32.0,88.0,60.0,57.0,19.0,42.0,5.0,24.0,6.0,24.0,32.0,6.0,16.0,0.0,162.0,18.0,187.0,135.0,136.0,70.0,5.0,42.0,20.0,21.0,117.0,14.0,15.0,120.0,102.0,126.0,99.0,209.0,28.0,48.0,154.0,10.0,170.0,255.0,210.0,140.0,30.0,288.0,72.0,56.0,72.0,42.0,190.0,130.0,0.0,18.0,0.0,68.0,150.0,0.0,182.0,285.0,132.0,130.0,323.0,143.0,36.0,60.0,150.0,30.0,72.0,6.0,24.0,0.0,45.0,272.0,32.0,96.0,28.0,6.0,120.0,52.0,32.0,272.0,170.0,32.0,40.0,0.0,0.0,195.0,285.0,182.0,120.0,21.0,0.0,99.0,187.0,40.0,63.0,0.0,102.0,32.0,187.0,0.0,30.0,272.0,0.0,90.0,14.0,0.0,119.0,30.0,6.0,56.0,68.0,10.0,24.0,7.0,60.0,60.0,0.0,48.0,208.0,14.0,180.0,77.0,56.0,96.0,272.0,27.0,0.0,70.0,171.0,306.0,14.0,112.0,117.0,17.0,88.0,198.0,20.0,78.0,56.0,42.0,144.0,33.0,8.0,0.0,30.0,39.0,32.0,32.0,15.0,32.0,323.0,75.0,56.0,20.0,156.0,48.0,88.0,54.0,90.0,150.0,13.0,90.0,60.0,342.0,128.0,32.0,144.0,144.0,6.0,96.0,6.0,91.0,10.0,0.0,0.0,272.0,234.0,21.0,35.0,140.0,266.0,20.0,96.0,112.0,34.0,30.0,32.0,48.0,12.0,171.0,44.0,143.0,126.0,120.0,112.0,70.0,0.0,10.0,153.0,20.0,238.0,54.0,48.0,10.0,272.0,27.0,306.0,18.0,11.0,51.0,42.0,208.0,36.0,72.0,40.0,30.0,35.0,247.0,0.0,30.0,0.0,18.0,18.0,32.0,7.0,0.0,56.0,12.0,238.0,110.0,84.0,128.0,45.0,112.0,0.0,10.0,150.0,152.0,72.0,238.0,50.0,270.0,165.0,135.0,88.0,39.0,208.0,224.0,11.0,56.0,6.0,0.0,255.0,110.0,24.0,204.0,54.0,126.0,0.0,21.0,6.0,48.0,96.0,126.0,27.0,38.0,96.0,154.0,24.0,56.0,180.0,33.0,55.0,120.0,171.0,152.0,40.0,18.0,119.0,110.0,75.0,119.0,18.0,6.0,14.0,30.0,126.0,68.0,0.0,306.0,21.0,45.0,48.0,15.0,135.0,136.0,168.0,40.0,140.0,0.0,32.0,99.0,90.0,5.0,14.0,130.0,154.0,144.0,0.0,221.0,80.0,152.0,13.0,91.0,0.0,120.0,78.0,30.0,140.0,136.0,112.0,272.0,0.0,15.0,84.0,342.0,21.0,0.0,85.0,50.0,323.0,6.0,150.0,63.0,108.0,21.0,96.0,40.0,10.0,15.0,88.0,285.0,63.0,32.0,0.0,27.0,5.0,0.0,40.0,10.0,36.0,80.0,153.0,45.0,150.0,15.0,98.0,120.0,0.0,0.0,9.0,10.0,0.0,165.0,0.0,18.0,252.0,154.0,247.0,187.0,30.0,108.0,90.0,0.0,0.0,112.0,24.0,18.0,48.0,130.0,15.0,0.0,24.0,0.0,78.0,35.0,35.0,12.0,108.0,98.0,0.0,112.0,48.0,0.0,162.0,0.0,128.0,136.0,50.0,90.0,70.0,198.0,240.0,120.0,24.0,10.0,36.0,51.0,40.0,12.0,80.0,0.0,21.0,77.0,80.0,24.0,85.0,14.0,14.0,204.0,80.0,56.0,99.0,28.0,42.0,224.0,10.0,14.0,75.0,221.0,10.0,10.0,12.0,72.0,12.0,98.0,0.0,54.0,0.0,119.0,19.0,75.0,39.0,48.0,27.0,110.0,119.0,306.0,24.0,168.0,90.0,35.0,114.0,24.0,56.0,54.0,20.0,15.0,45.0,135.0,14.0,9.0,52.0,48.0,0.0,35.0,85.0,30.0,84.0,35.0,27.0,9.0,0.0,30.0,266.0,35.0,11.0,120.0,60.0,140.0,323.0,65.0,16.0,10.0,78.0,70.0,119.0,105.0,221.0,27.0,342.0,30.0,21.0,32.0,90.0,50.0,18.0,120.0,130.0,0.0,14.0,39.0,45.0,96.0,36.0,180.0,18.0,96.0,15.0,152.0,18.0,165.0,272.0,52.0,110.0,9.0,180.0,76.0,2549.0,2631.0,2603.0,2769.0,1411.0,1067.0,3220.0,700.0,1099.0,513.0,3946.0,3826.0,1482.0,2680.0,373.0,568.0,3554.0,3752.0,1835.0,2337.0,2819.0,3283.0,1433.0,1037.0,2583.0,2782.0,3763.0,3286.0,2373.0,478.0,3532.0,508.0,2227.0,3845.0,1262.0,1326.0,2113.0,3429.0,3169.0,2150.0,2484.0,3339.0,1878.0,1629.0,504.0,1152.0,3587.0,2296.0,1270.0,3238.0,2059.0,2053.0,3112.0,1440.0,2908.0,2552.0,905.0,3963.0,2056.0,2910.0,1457.0,431.0,470.0,2148.0,2955.0,3366.0,3068.0,3834.0,1050.0,3993.0,3378.0,2192.0,392.0,3709.0,590.0,1814.0,907.0,1449.0,3448.0,1837.0,3464.0,2593.0,3484.0,2009.0,2048.0,837.0,854.0,3210.0,2746.0,2334.0,2822.0,1971.0,1410.0,349.0,1418.0,3616.0,880.0,1601.0,1412.0,1692.0,2600.0,1308.0,2413.0,1047.0,1204.0,1799.0,2676.0,2597.0,3029.0,2343.0,2016.0,2213.0,790.0,3182.0,3472.0,2871.0,3187.0,1945.0,488.0,1214.0,2598.0,3242.0,3534.0,3426.0,2488.0,3255.0,2863.0,1496.0,3801.0,666.0,3799.0,1366.0,2962.0,2399.0,2338.0,2700.0,2235.0,3825.0,284.0,1427.0,1324.0,398.0,3685.0,2390.0,278.0,3556.0,2196.0,3799.0,2268.0,2965.0,2341.0,3557.0,1354.0,2147.0,505.0,1394.0,374.0,506.0,3702.0,1078.0,2945.0,2981.0,490.0,536.0,2317.0,3704.0,2126.0,2050.0,2462.0,1260.0,3770.0,1886.0,3323.0,2060.0,3926.0,2177.0,728.0,2478.0,2842.0,1617.0,1472.0,764.0,2337.0,3965.0,3693.0,797.0,1687.0,2940.0,1545.0,3834.0,2505.0,2243.0,3600.0,3971.0,2844.0,2227.0,1665.0,3355.0,1866.0,1287.0,1046.0,1441.0,690.0,2504.0,2677.0,2243.0,2984.0,1362.0,3629.0,3559.0,2571.0,2107.0,1022.0,2844.0,711.0,3117.0,978.0,1869.0,1179.0,3844.0,593.0,588.0,3836.0,2669.0,2958.0,3031.0,3388.0,2377.0,2458.0,2766.0,3054.0,3791.0,625.0,2227.0,3256.0,707.0,1457.0,3755.0,1733.0,720.0,3560.0,2311.0,3846.0,1717.0,3704.0,3800.0,278.0,1767.0,1846.0,829.0,2986.0,2394.0,2169.0,1181.0,575.0,2977.0,532.0,1702.0,1074.0,3352.0,1027.0,2039.0,461.0,527.0,3271.0,606.0,2513.0,1675.0,2698.0,1129.0,468.0,1210.0,3086.0,1595.0,2332.0,2589.0,3760.0,1851.0,417.0,294.0,3576.0,3945.0,927.0,2044.0,2334.0,1477.0,3161.0,3660.0,1604.0,2211.0,3822.0,3922.0,1203.0,2822.0,447.0,1652.0,3608.0,1228.0,666.0,1499.0,3321.0,1206.0,952.0,3927.0,311.0,955.0,1109.0,2969.0,725.0,1655.0,3490.0,1774.0,3615.0,714.0,2768.0,3739.0,610.0,715.0,663.0,1725.0,834.0,3865.0,3059.0,651.0,796.0,785.0,3252.0,1322.0,2832.0,1615.0,2125.0,990.0,1595.0,1213.0,2500.0,2801.0,3451.0,1201.0,3139.0,1938.0,3185.0,2111.0,2369.0,3625.0,1051.0,1036.0,2938.0,2855.0,2727.0,2973.0,2581.0,2690.0,916.0,2563.0,3359.0,941.0,2280.0,827.0,473.0,3865.0,1274.0,364.0,3699.0,2927.0,1470.0,1050.0,2616.0,2915.0,2686.0,1243.0,3264.0,2261.0,2993.0,706.0,2542.0,2523.0,336.0,2457.0,418.0,3917.0,1246.0,2971.0,2324.0,3121.0,3801.0,3333.0,3475.0,2360.0,2895.0,3652.0,3097.0,2101.0,3918.0,3869.0,732.0,3684.0,3969.0,1414.0,1892.0,3131.0,2532.0,3215.0,3323.0,1529.0,2403.0,3419.0,3648.0,1974.0,2806.0,2239.0,582.0,3890.0,1141.0,2511.0,3838.0,2734.0,2330.0,2244.0,1851.0,808.0,1587.0,2492.0,2122.0,1122.0,3709.0,3021.0,624.0,3937.0,1797.0,1458.0,3348.0,1834.0,2775.0,1277.0,457.0,438.0,3210.0,985.0,3701.0,1052.0,1175.0,1070.0,3411.0,1175.0,301.0,489.0,1733.0,2756.0,2612.0,1724.0,2190.0,1900.0,3915.0,1043.0,3817.0,2362.0,1107.0,2982.0,2042.0,1343.0,2610.0,2335.0,1614.0,1138.0,604.0,3652.0,3955.0,258.0,1066.0,1731.0,3860.0,3630.0,1965.0,1459.0,2323.0,3291.0,3272.0,918.0,3488.0,3961.0,590.0,3701.0,463.0,3644.0,1713.0,429.0,2765.0,2084.0,1125.0,2048.0,1223.0,3672.0,3100.0,343.0,1970.0,2728.0,3635.0,2180.0,2488.0,3864.0,1155.0,3566.0,864.0,869.0,591.0,1333.0,2208.0,2610.0,2819.0,1955.0,3416.0,3803.0,574.0,2129.0,1948.0,2978.0,1619.0,3716.0,3454.0,3777.0,2712.0,1434.0,3968.0,3383.0,3278.0,3970.0,2674.0,2776.0,2336.0,2430.0,891.0,728.0,3886.0,1711.0,2856.0,2447.0,814.0,2951.0,3653.0,1891.0,701.0,3139.0,2811.0,1701.0,1853.0,2445.0,2287.0,2003.0,3595.0,1726.0,3952.0,850.0,1446.0,1300.0,719.0,988.0,2606.0,2912.0,2339.0,1028.0,3173.0,1667.0,1897.0,1214.0,3269.0,445.0,1073.0,665.0,3129.0,3501.0,3461.0,3206.0,3717.0,3917.0,861.0,2885.0,2777.0,1017.0,980.0,2775.0,3309.0,3607.0,1257.0,759.0,3720.0,475.0,1122.0,1336.0,1185.0,705.0,3169.0,3483.0,1183.0,3373.0,2801.0,565.0,3153.0,3421.0,316.0,448.0,2366.0,3881.0,462.0,1480.0,1087.0,2711.0,2144.0,1165.0,2998.0,2249.0,752.0,1409.0,3072.0,1305.0,3597.0,3132.0,3856.0,1524.0,3673.0,3293.0,3035.0,584.0,2675.0,2382.0,1391.0,2346.0,606.0,1324.0,1076.0,643.0,783.0,3809.0,2104.0,1762.0,3137.0,1756.0,3663.0,2437.0,1432.0,1620.0,1655.0,2832.0,961.0,2608.0,514.0,2304.0,933.0,1896.0,3655.0,1973.0,3278.0,2183.0,824.0,2598.0,1254.0,3622.0,1704.0,1624.0,3809.0,2574.0,950.0,273.0,446.0,1510.0,1122.0,707.0,751.0,3393.0,3771.0,1851.0,2735.0,2253.0,452.0,1419.0,969.0,3441.0,3786.0,2710.0,3533.0,1735.0,3587.0,2298.0,2027.0,2406.0,2419.0,995.0,2078.0,1145.0,626.0,1509.0,3371.0,297.0,3508.0,2385.0,1301.0,2167.0,3914.0,2312.0,2297.0,411.0,665.0,3226.0,740.0,3878.0,3406.0,2440.0,3959.0,3703.0,3714.0,337.0,3176.0,1205.0,2473.0,1229.0,2896.0,2039.0,520.0,1378.0,3254.0,1803.0,2501.0,3762.0,1796.0,990.0,2630.0,1380.0,3487.0,1201.0,3015.0,3204.0,433.0,1906.0,898.0,2799.0,2020.0,770.0,305.0,2953.0,1671.0,2574.0,3772.0,2870.0,2577.0,2246.0,2405.0,3377.0,3619.0,1184.0,2965.0,3713.0,3798.0,1026.0,1086.0,2236.0,1303.0,3048.0,616.0,3764.0,419.0,2858.0,504.0,392.0,820.0,3387.0,3447.0,1403.0,2295.0,1973.0,3755.0,2073.0,3872.0,302.0,1519.0,2549.0,404.0,595.0,1663.0,2764.0,2614.0,1094.0,2826.0,2496.0,2103.0,966.0,2172.0,905.0,3916.0,3902.0,2487.0,3914.0,363.0,3233.0,2532.0,3836.0,3076.0,1513.0,1724.0,542.0,3481.0,3991.0,1790.0,509.0,282.0,3006.0,1913.0,1333.0,3746.0,3941.0,3970.0,3925.0,424.0,1284.0,277.0,1713.0,485.0,3002.0,418.0,1652.0,2893.0,1406.0,629.0,3724.0,3835.0,1354.0,2376.0,3438.0,2655.0,3361.0,3535.0,2150.0,2587.0,2736.0,676.0,2941.0,3336.0,3796.0,3654.0,2934.0,2889.0,3315.0,1993.0,2509.0,3534.0,2246.0,3165.0,286.0,776.0,3213.0,716.0,424.0,3486.0,3237.0,1944.0,643.0,2317.0,1436.0,3190.0,2338.0,1334.0,3657.0,2080.0,1609.0,3078.0,590.0,2552.0,3355.0,1968.0,3358.0,1539.0,942.0,3669.0,3612.0,2351.0,604.0,1285.0,515.0,654.0,2540.0,3869.0,3412.0,509.0,2547.0,2735.0,1369.0,2942.0,2812.0,3497.0,619.0,3483.0,1475.0,1950.0,3592.0,3573.0,2020.0,1329.0,3568.0,1947.0,1998.0,725.0,3302.0,3884.0,1185.0,1656.0,2870.0,911.0,3892.0,3897.0,656.0,606.0,1653.0,860.0,2197.0,3458.0,2066.0,3676.0,1518.0,1018.0,1360.0,3449.0,2524.0,703.0,1251.0,582.0,1732.0,1252.0,2146.0,1927.0,3328.0,2462.0,1172.0,3598.0,2437.0,3271.0,1511.0,2981.0,3119.0,3647.0,3148.0,2829.0,2373.0,3998.0,316.0,999.0,1808.0,589.0,3317.0,670.0,584.0,2173.0,1561.0,2073.0,1401.0,3764.0,1275.0,1464.0,2885.0,3458.0,3019.0,1083.0,3538.0,2493.0,3726.0,1531.0,601.0,2991.0,3912.0,309.0,323.0,1489.0,1322.0,1846.0,417.0,3269.0,3731.0,667.0,1241.0,3941.0,1018.0,3142.0,1444.0,934.0,3863.0,3506.0,1944.0,348.0,550.0,971.0,3984.0,2973.0,2019.0,1587.0,1870.0,1352.0,570.0,546.0,3624.0,2944.0,1209.0,2752.0,3868.0,3087.0,947.0,1484.0,347.0,3227.0,3299.0,1028.0,714.0,2641.0,1229.0,2622.0,929.0,1211.0,1653.0,511.0,3034.0,1414.0,2438.0,3744.0,1377.0,3520.0,3796.0,1699.0,336.0,1095.0,325.0,1223.0,1649.0,1898.0,2609.0,2265.0,2775.0,1445.0,2614.0,356.0,523.0,3745.0,1229.0,1402.0,2085.0,587.0,2457.0,2030.0,816.0,1667.0,2958.0,3705.0,2800.0,3773.0,2050.0,1754.0,1904.0,2705.0,3537.0,1370.0,1222.0,3102.0,2268.0,2648.0,2173.0,3162.0,1368.0,2746.0,619.0,724.0,912.0,2784.0,793.0,560.0,312.0,545.0,1591.0,2746.0,893.0,2514.0,1032.0,819.0,3672.0,3833.0,1482.0,2043.0,1229.0,1816.0,2166.0,2469.0,2575.0,1375.0,1732.0,673.0,2301.0,2676.0,1781.0,2248.0,921.0,391.0,1719.0,3262.0,1947.0,2693.0,441.0,1886.0,1267.0,687.0,2890.0,1737.0,887.0,398.0,2389.0,3431.0,3601.0,2459.0,3230.0,3646.0,2200.0,3862.0,3077.0,621.0,2372.0,2574.0,2857.0,3143.0,3197.0,2727.0,1519.0,2438.0,2674.0,2107.0,2262.0,815.0,2829.0,3022.0,2573.0,2678.0,1282.0,568.0,2074.0,2227.0,1080.0,2867.0,1075.0,3063.0,2479.0,2394.0,2814.0,2094.0,2315.0,2519.0,735.0,1891.0,1386.0,3260.0,2022.0,1716.0,3317.0,1454.0,2290.0,3940.0,461.0,2219.0,470.0,2495.0,2944.0,2361.0,1783.0,2832.0,931.0,1344.0,3916.0,1882.0,2865.0,757.0,3469.0,2399.0,3300.0,2719.0,3012.0,2836.0,2385.0,594.0,2968.0,3762.0,892.0,467.0,345.0,3033.0,2110.0,3105.0,874.0,3681.0,3865.0,737.0,3153.0,2800.0,315.0,1412.0,2286.0,2392.0,1857.0,1419.0,3305.0,959.0,2635.0,1754.0,2563.0,1936.0,1869.0,3637.0,896.0,2349.0,774.0,3397.0,485.0,3964.0,1887.0,2977.0,2114.0,1542.0,3038.0,2481.0,841.0,3565.0,1958.0,2454.0,3392.0,262.0,530.0,3703.0,2562.0,574.0,2632.0,259.0,688.0,2554.0,3859.0,2977.0,571.0,402.0,878.0,2130.0,3260.0,454.0,2638.0,2819.0,1464.0,1824.0,876.0,2706.0,659.0,455.0,2378.0,2278.0,3436.0,3424.0,401.0,681.0,3212.0,3105.0,2036.0,3153.0,1642.0,509.0,3465.0,3900.0,1105.0,2064.0,3117.0,1142.0,1060.0,2381.0,3366.0,1339.0,2560.0,285.0,2476.0,1862.0,3488.0,3178.0,733.0,756.0,3622.0,1277.0,3703.0,1905.0,2636.0,2014.0,3056.0,465.0,3869.0,1108.0,1906.0,851.0,3142.0,1300.0,1430.0,362.0,2456.0,2360.0,3700.0,2620.0,437.0,3774.0,1218.0,696.0,3407.0,3902.0,2086.0,1356.0,1704.0,3571.0,2132.0,3209.0,2096.0,1273.0,3623.0,368.0,854.0,3646.0,3130.0,3784.0,3885.0,1494.0,2973.0,1471.0,2001.0,1486.0,1321.0,1877.0,3499.0,2124.0,1221.0,2316.0,1068.0,1930.0,1316.0,1742.0,3265.0,2700.0,2115.0,3915.0,3144.0,1571.0,2253.0,1433.0,2583.0,1817.0,2915.0,3340.0,2790.0,577.0,3220.0,3488.0,1277.0,3593.0,2736.0,2311.0,1464.0,1355.0,2382.0,1886.0,832.0,751.0,436.0,722.0,1075.0,2802.0,1780.0,1247.0,3066.0,403.0,2518.0,1069.0,2651.0,2974.0,657.0,3372.0,1464.0,1326.0,3393.0,323.0,1628.0,2610.0,3721.0,763.0,792.0,1568.0,1276.0,3472.0,2520.0,3423.0,258.0,1868.0,2171.0,780.0,712.0,1012.0,318.0,3948.0,629.0,1161.0,1403.0,3707.0,1305.0,2926.0,2674.0,471.0,1724.0,1220.0,2754.0,594.0,1005.0,2439.0,2302.0,1083.0,2219.0,1571.0,2107.0,593.0,857.0,3518.0,1284.0,545.0,3566.0,2821.0,3442.0,1309.0,1179.0,1713.0,1663.0,1812.0,1384.0,1348.0,3957.0,1212.0,3925.0,348.0,1382.0,980.0,838.0,378.0,909.0,3632.0,3396.0,1861.0,348.0,2528.0,2190.0,663.0,961.0,1280.0,2189.0,531.0,2331.0,794.0,2644.0,1666.0,2157.0,1196.0,2072.0,1590.0,2916.0,3707.0,726.0,3577.0,2627.0,685.0,1693.0,2137.0,3696.0,3771.0,1342.0,1379.0,1164.0,908.0,1019.0,3685.0,1470.0,2299.0,999.0,3011.0,3142.0,1543.0,3692.0,2753.0,2156.0,2637.0,331.0,1214.0,2248.0,3073.0,422.0,2293.0,3958.0,432.0,1152.0,1303.0,797.0,298.0,3847.0,2110.0,1921.0,2423.0,1658.0,2361.0,1380.0,3892.0,315.0,2289.0,2182.0,2184.0,2872.0,2367.0,1919.0,3296.0,462.0,1591.0,1593.0,2456.0,2933.0,3154.0,3615.0,3563.0,1440.0,1907.0,324.0,1404.0,2738.0,2722.0,2294.0,1424.0,1133.0,555.0,3785.0,3675.0,435.0,3183.0,3495.0,1853.0,2648.0,2647.0,702.0,1836.0,3894.0,2944.0,3424.0,2678.0,2424.0,2671.0,3078.0,2304.0,1146.0,2335.0,1422.0,2096.0,1303.0,1115.0,456.0,3396.0,2750.0,941.0,2278.0,2273.0,2355.0,2328.0,2638.0,558.0,1345.0,425.0,2192.0,3397.0,1208.0,267.0,3518.0,3122.0,1050.0,3358.0,2929.0,624.0,1598.0,2052.0,1249.0,412.0,595.0,263.0,2577.0,639.0,3206.0,1550.0,1646.0,1930.0,3695.0,3235.0,2334.0,1998.0,2258.0,1869.0,1825.0,3946.0,436.0,2678.0,3887.0,1813.0,817.0,3614.0,2013.0,543.0,3400.0,2623.0,2700.0,1400.0,3127.0,2803.0,2518.0,3564.0,2515.0,3654.0,3930.0,3476.0,3242.0,2666.0,1695.0,3510.0,3438.0,2033.0,1017.0,1686.0,862.0,957.0,3494.0,3083.0,1656.0,313.0,3282.0,3629.0,1687.0,1149.0,3899.0,1783.0,1629.0,2528.0,3256.0,2341.0,2785.0,3761.0,1513.0,2240.0,820.0,1875.0,920.0,3615.0,1412.0,361.0,1540.0,1077.0,3610.0,512.0,3024.0,1610.0,2201.0,3338.0,3473.0,2203.0,940.0,1155.0,3872.0,1882.0,1798.0,2598.0,1567.0,1491.0,2003.0,3905.0,291.0,1693.0,1788.0,3322.0,1751.0,1641.0,2854.0,3115.0,3259.0,1612.0,2319.0,1258.0,1543.0,3991.0,3555.0,3411.0,524.0,3541.0,1998.0,3437.0,1637.0,3064.0,2855.0,1393.0,1633.0,2392.0,3284.0,464.0,1234.0,292.0,2521.0,2658.0,587.0,2190.0,879.0,1743.0,1181.0,3330.0,3564.0,562.0,1659.0,1816.0,1338.0,2992.0,315.0,3249.0,3242.0,2725.0,586.0,2454.0,804.0,2460.0,1295.0,2625.0,1999.0,2698.0,3742.0,1193.0,3511.0,885.0,1044.0,2548.0,2940.0,3966.0,3484.0,1246.0,2757.0,2378.0,1794.0,3933.0,1637.0,783.0,3094.0,1774.0,256.0,1365.0,2339.0,2049.0,3241.0,867.0,2175.0,3497.0,609.0,3285.0,3684.0,3586.0,2322.0,354.0,3204.0,1400.0,2308.0,1082.0,3104.0,2847.0,2256.0,1113.0,3210.0,3990.0,984.0,3117.0,1622.0,2967.0,1037.0,2908.0,1167.0,2715.0,1734.0,2259.0,2921.0,1244.0,3132.0,2488.0,1052.0,2927.0,2090.0,2131.0,3362.0,1053.0,1799.0,3124.0,1672.0,1552.0,1938.0,3202.0,1302.0,2296.0,575.0,2359.0,3314.0,440.0,2002.0,3167.0,3480.0,595.0,2466.0,1337.0,1462.0,503.0,2066.0,708.0,2029.0,308.0,552.0,2082.0,3314.0,3996.0,1795.0,594.0,2473.0,690.0,3845.0,2004.0,2083.0,2661.0,1903.0,2466.0,3779.0,3904.0,265.0,1417.0,1769.0,2948.0,2572.0,3267.0,1459.0,1633.0,2052.0,1086.0,2402.0,3376.0,1507.0,641.0,3451.0,1607.0,3521.0,1241.0,881.0,2563.0,3033.0,769.0,3454.0,819.0,435.0,586.0,650.0,3038.0,3736.0,2948.0,739.0,686.0,841.0,1183.0,3943.0,1037.0,2633.0,3911.0,1958.0,3297.0,3141.0,3351.0,2355.0,1308.0,991.0,3248.0,1519.0,493.0,1747.0,2517.0,1389.0,2522.0,1885.0,704.0,953.0,3206.0,928.0,2177.0,2610.0,489.0,3839.0,1861.0,299.0,340.0,3606.0,799.0,2367.0,445.0,3927.0,3756.0,770.0,1641.0,2343.0,2787.0,2495.0,3208.0,1234.0,1069.0,3568.0,3585.0,1974.0,2419.0,340.0,2282.0,298.0,968.0,2391.0,1534.0,696.0,2782.0,755.0,3746.0,2651.0,1341.0,2651.0,1824.0,1905.0,1456.0,3155.0,773.0,1829.0,3883.0,1675.0,1601.0,1958.0,2376.0,1647.0,3548.0,2694.0,2195.0,2506.0,2073.0,3767.0,1150.0,841.0,1675.0,1301.0,1817.0,2321.0,1974.0,3433.0,1205.0,872.0,2052.0,3654.0,1503.0,3104.0,343.0,3430.0,2470.0,1396.0,2668.0,1457.0,2452.0,1871.0,1112.0,967.0,2498.0,387.0,635.0,2711.0,2023.0,2215.0,824.0,3851.0,2156.0,2885.0,495.0,2358.0,1744.0,1832.0,2016.0,1300.0,2313.0,3248.0,2216.0,3142.0,1850.0,1424.0,1620.0,2592.0,296.0,3579.0,1180.0,3962.0,3978.0,668.0,2032.0,3057.0,869.0,3919.0,19.0,7.0,9.0,11.0,15.0,10.0,18.0,5.0,20.0,12.0,7.0,13.0,2.0,4.0,3.0,11.0,19.0,18.0,16.0,18.0,3.0,15.0,20.0,20.0,12.0,7.0,4.0,12.0,10.0,10.0,12.0,6.0,3.0,12.0,15.0,15.0,2.0,4.0,2.0,11.0,11.0,19.0,4.0,14.0,12.0,20.0,3.0,12.0,5.0,10.0,15.0,16.0,10.0,12.0,18.0,13.0,17.0,20.0,4.0,9.0,20.0,6.0,15.0,5.0,19.0,13.0,4.0,8.0,4.0,7.0,2.0,13.0,4.0,12.0,6.0,13.0,17.0,6.0,10.0,16.0,6.0,16.0,11.0,11.0,17.0,4.0,7.0,4.0,8.0,11.0,16.0,14.0,5.0,2.0,12.0,12.0,8.0,14.0,18.0,7.0,20.0,11.0,15.0,18.0,8.0,11.0,11.0,14.0,9.0,14.0,18.0,7.0,3.0,5.0,20.0,13.0,4.0,10.0,9.0,14.0,6.0,4.0,6.0,17.0,15.0,9.0,18.0,7.0,7.0,13.0,7.0,20.0,4.0,7.0,20.0,9.0,4.0,2.0,4.0,9.0,17.0,5.0,17.0,5.0,10.0,16.0,19.0,4.0,4.0,15.0,20.0,12.0,19.0,11.0,3.0,6.0,8.0,11.0,19.0,10.0,16.0,7.0,4.0,4.0,7.0,11.0,7.0,12.0,10.0,17.0,13.0,20.0,7.0,12.0,20.0,13.0,4.0,20.0,2.0,19.0,7.0,15.0,17.0,6.0,16.0,15.0,18.0,2.0,10.0,13.0,15.0,6.0,7.0,10.0,18.0,3.0,12.0,4.0,14.0,16.0,13.0,13.0,6.0,15.0,8.0,4.0,17.0,12.0,6.0,6.0,13.0,10.0,13.0,10.0,10.0,8.0,7.0,16.0,20.0,4.0,10.0,18.0,11.0,13.0,2.0,6.0,16.0,13.0,3.0,7.0,19.0,6.0,13.0,20.0,6.0,19.0,20.0,8.0,11.0,11.0,16.0,7.0,3.0,16.0,11.0,14.0,11.0,11.0,7.0,10.0,6.0,7.0,7.0,15.0,12.0,2.0,10.0,5.0,15.0,3.0,5.0,12.0,8.0,15.0,15.0,4.0,16.0,14.0,17.0,6.0,6.0,4.0,5.0,9.0,14.0,15.0,13.0,9.0,9.0,11.0,9.0,18.0,18.0,2.0,4.0,6.0,3.0,5.0,9.0,18.0,18.0,8.0,18.0,11.0,12.0,20.0,16.0,6.0,5.0,19.0,14.0,8.0,16.0,15.0,19.0,7.0,19.0,17.0,19.0,15.0,13.0,10.0,6.0,13.0,12.0,13.0,6.0,20.0,7.0,9.0,5.0,18.0,10.0,7.0,14.0,5.0,8.0,7.0,15.0,13.0,15.0,2.0,12.0,16.0,11.0,12.0,11.0,4.0,14.0,16.0,15.0,2.0,18.0,12.0,15.0,13.0,5.0,19.0,8.0,18.0,15.0,9.0,12.0,19.0,14.0,9.0,4.0,6.0,20.0,11.0,3.0,7.0,13.0,11.0,14.0,8.0,10.0,10.0,18.0,5.0,13.0,16.0,20.0,16.0,8.0,9.0,4.0,17.0,16.0,8.0,2.0,12.0,16.0,16.0,2.0,7.0,3.0,18.0,16.0,19.0,18.0,2.0,8.0,10.0,14.0,18.0,6.0,7.0,15.0,7.0,4.0,20.0,6.0,3.0,9.0,5.0,16.0,12.0,7.0,13.0,4.0,10.0,6.0,17.0,7.0,16.0,20.0,19.0,2.0,5.0,20.0,10.0,2.0,16.0,10.0,18.0,19.0,7.0,4.0,15.0,16.0,20.0,14.0,19.0,16.0,2.0,2.0,7.0,8.0,3.0,8.0,14.0,15.0,6.0,13.0,8.0,8.0,4.0,16.0,14.0,4.0,19.0,2.0,11.0,9.0,19.0,5.0,12.0,19.0,9.0,10.0,7.0,3.0,10.0,11.0,9.0,18.0,4.0,16.0,6.0,16.0,17.0,6.0,19.0,7.0,13.0,17.0,12.0,3.0,14.0,6.0,8.0,11.0,6.0,10.0,14.0,10.0,18.0,9.0,18.0,18.0,3.0,13.0,18.0,15.0,17.0,18.0,16.0,14.0,11.0,20.0,13.0,2.0,9.0,9.0,11.0,10.0,15.0,9.0,15.0,8.0,16.0,19.0,12.0,18.0,18.0,10.0,11.0,20.0,13.0,6.0,11.0,3.0,2.0,2.0,18.0,10.0,14.0,7.0,6.0,9.0,8.0,7.0,9.0,20.0,3.0,19.0,10.0,15.0,12.0,15.0,12.0,7.0,4.0,12.0,6.0,8.0,14.0,19.0,19.0,3.0,4.0,8.0,18.0,10.0,9.0,12.0,15.0,17.0,8.0,17.0,17.0,15.0,15.0,10.0,14.0,8.0,5.0,2.0,3.0,10.0,16.0,10.0,18.0,6.0,14.0,14.0,9.0,17.0,17.0,3.0,6.0,16.0,14.0,4.0,6.0,10.0,15.0,20.0,6.0,6.0,15.0,17.0,16.0,5.0,9.0,12.0,5.0,17.0,14.0,2.0,9.0,5.0,17.0,14.0,3.0,12.0,4.0,13.0,4.0,17.0,3.0,5.0,3.0,9.0,6.0,18.0,7.0,20.0,7.0,19.0,13.0,15.0,19.0,12.0,2.0,18.0,12.0,4.0,8.0,20.0,5.0,16.0,6.0,11.0,17.0,14.0,9.0,9.0,12.0,9.0,8.0,5.0,2.0,13.0,18.0,5.0,20.0,20.0,16.0,13.0,11.0,13.0,8.0,9.0,20.0,2.0,9.0,17.0,5.0,9.0,3.0,15.0,17.0,2.0,5.0,3.0,8.0,12.0,16.0,9.0,7.0,14.0,18.0,7.0,5.0,12.0,8.0,15.0,13.0,20.0,2.0,11.0,20.0,4.0,18.0,11.0,7.0,4.0,18.0,9.0,15.0,5.0,19.0,19.0,7.0,8.0,18.0,8.0,2.0,4.0,5.0,18.0,4.0,11.0,10.0,17.0,20.0,10.0,5.0,2.0,14.0,2.0,4.0,16.0,19.0,18.0,4.0,16.0,7.0,4.0,12.0,13.0,6.0,9.0,13.0,11.0,18.0,15.0,6.0,6.0,13.0,13.0,15.0,16.0,20.0,16.0,13.0,9.0,14.0,18.0,17.0,8.0,3.0,16.0,6.0,7.0,2.0,14.0,8.0,8.0,20.0,13.0,12.0,20.0,2.0,19.0,4.0,3.0,18.0,10.0,8.0,11.0,3.0,19.0,2.0,16.0,8.0,8.0,10.0,11.0,8.0,8.0,4.0,19.0,15.0,17.0,7.0,14.0,15.0,2.0,5.0,7.0,13.0,3.0,12.0,12.0,3.0,16.0,13.0,17.0,4.0,15.0,14.0,18.0,7.0,19.0,14.0,8.0,10.0,15.0,3.0,14.0,3.0,6.0,2.0,5.0,13.0,11.0,7.0,15.0,2.0,12.0,4.0,7.0,7.0,17.0,14.0,9.0,20.0,11.0,20.0,11.0,13.0,19.0,13.0,4.0,13.0,16.0,7.0,18.0,8.0,4.0,17.0,14.0,13.0,15.0,14.0,11.0,14.0,5.0,11.0,11.0,15.0,13.0,17.0,8.0,15.0,14.0,4.0,18.0,9.0,12.0,19.0,12.0,15.0,20.0,15.0,2.0,19.0,12.0,3.0,18.0,6.0,10.0,13.0,9.0,19.0,19.0,14.0,10.0,4.0,10.0,8.0,9.0,18.0,6.0,15.0,14.0,16.0,19.0,5.0,13.0,6.0,16.0,17.0,11.0,18.0,16.0,7.0,6.0,6.0,20.0,18.0,7.0,18.0,6.0,15.0,20.0,20.0,20.0,6.0,17.0,10.0,9.0,19.0,10.0,18.0,2.0,17.0,14.0,9.0,11.0,17.0,5.0,8.0,15.0,11.0,14.0,7.0,7.0,18.0,15.0,13.0,19.0,2.0,6.0,10.0,17.0,17.0,12.0,2.0,8.0,9.0,14.0,15.0,9.0,6.0,13.0,20.0,13.0,4.0,9.0,13.0,4.0,19.0,8.0,6.0,8.0,17.0,9.0,11.0,10.0,12.0,12.0,5.0,9.0,19.0,6.0,15.0,13.0,15.0,7.0,4.0,4.0,19.0,10.0,3.0,3.0,15.0,3.0,6.0,8.0,15.0,14.0,9.0,13.0,16.0,17.0,20.0,9.0,9.0,12.0,9.0,14.0,6.0,10.0,8.0,15.0,16.0,19.0,18.0,11.0,19.0,7.0,16.0,2.0,12.0,7.0,7.0,4.0,16.0,8.0,12.0,8.0,16.0,17.0,2.0,7.0,14.0,5.0,18.0,7.0,6.0,7.0,8.0,19.0,10.0,7.0,15.0,7.0,12.0,3.0,13.0,13.0,6.0,7.0,14.0,3.0,19.0,20.0,3.0,12.0,15.0,19.0,4.0,4.0,3.0,3.0,8.0,4.0,7.0,6.0,3.0,12.0,19.0,13.0,16.0,6.0,17.0,9.0,13.0,10.0,3.0,19.0,7.0,2.0,4.0,18.0,19.0,3.0,17.0,7.0,8.0,9.0,6.0,20.0,17.0,10.0,8.0,9.0,2.0,10.0,13.0,7.0,8.0,10.0,15.0,17.0,17.0,14.0,2.0,15.0,4.0,7.0,7.0,19.0,11.0,12.0,8.0,7.0,17.0,13.0,18.0,8.0,18.0,16.0,15.0,7.0,11.0,9.0,20.0,20.0,12.0,10.0,5.0,3.0,15.0,13.0,16.0,16.0,9.0,11.0,15.0,9.0,17.0,14.0,2.0,5.0,2.0,20.0,6.0,11.0,5.0,17.0,9.0,12.0,4.0,10.0,3.0,19.0,18.0,13.0,11.0,8.0,5.0,14.0,6.0,15.0,3.0,4.0,15.0,14.0,19.0,10.0,2.0,16.0,14.0,7.0,8.0,6.0,4.0,15.0,8.0,8.0,12.0,20.0,4.0,12.0,16.0,9.0,2.0,19.0,13.0,20.0,20.0,5.0,5.0,14.0,9.0,16.0,6.0,17.0,20.0,9.0,15.0,4.0,16.0,4.0,3.0,5.0,20.0,5.0,14.0,17.0,16.0,5.0,10.0,15.0,7.0,11.0,11.0,12.0,11.0,20.0,13.0,19.0,5.0,16.0,2.0,6.0,4.0,9.0,14.0,9.0,4.0,16.0,14.0,20.0,6.0,2.0,4.0,12.0,11.0,20.0,19.0,15.0,18.0,11.0,16.0,8.0,4.0,8.0,5.0,20.0,8.0,9.0,3.0,18.0,15.0,4.0,15.0,12.0,17.0,5.0,17.0,14.0,17.0,15.0,17.0,6.0,14.0,5.0,20.0,3.0,5.0,18.0,13.0,6.0,2.0,18.0,5.0,13.0,10.0,19.0,7.0,10.0,10.0,5.0,3.0,12.0,6.0,2.0,19.0,6.0,9.0,8.0,4.0,5.0,11.0,14.0,8.0,3.0,10.0,2.0,10.0,10.0,14.0,6.0,17.0,5.0,11.0,18.0,6.0,10.0,6.0,4.0,20.0,7.0,5.0,4.0,19.0,13.0,10.0,6.0,13.0,19.0,7.0,13.0,17.0,18.0,17.0,15.0,20.0,3.0,19.0,16.0,20.0,11.0,19.0,8.0,2.0,6.0,15.0,12.0,10.0,16.0,2.0,4.0,14.0,12.0,20.0,11.0,12.0,19.0,6.0,11.0,19.0,12.0,15.0,6.0,8.0,4.0,8.0,15.0,14.0,8.0,18.0,8.0,14.0,2.0,9.0,17.0,13.0,16.0,6.0,16.0,10.0,12.0,6.0,11.0,16.0,3.0,19.0,18.0,16.0,14.0,7.0,17.0,19.0,8.0,11.0,10.0,2.0,10.0,2.0,16.0,19.0,12.0,3.0,14.0,9.0,19.0,2.0,10.0,20.0,3.0,7.0,7.0,6.0,13.0,4.0,17.0,13.0,19.0,17.0,12.0,11.0,19.0,9.0,6.0,18.0,5.0,10.0,13.0,19.0,15.0,20.0,5.0,6.0,18.0,4.0,9.0,5.0,20.0,8.0,20.0,8.0,16.0,14.0,12.0,10.0,16.0,15.0,14.0,16.0,18.0,6.0,7.0,17.0,16.0,12.0,17.0,5.0,14.0,18.0,19.0,14.0,19.0,2.0,7.0,6.0,12.0,10.0,18.0,8.0,16.0,18.0,9.0,7.0,19.0,7.0,16.0,19.0,16.0,16.0,5.0,19.0,16.0,16.0,13.0,20.0,9.0,11.0,20.0,18.0,5.0,19.0,14.0,18.0,19.0,3.0,4.0,15.0,7.0,5.0,12.0,3.0,9.0,4.0,16.0,19.0,6.0,15.0,18.0,12.0,9.0,11.0,12.0,6.0,19.0,16.0,17.0,6.0,3.0,7.0,16.0,15.0,8.0,15.0,2.0,19.0,10.0,3.0,2.0,11.0,17.0,12.0,6.0,3.0,6.0,20.0,7.0,14.0,4.0,20.0,19.0,17.0,20.0,11.0,15.0,20.0,14.0,11.0,20.0,2.0,7.0,11.0,7.0,9.0,3.0,19.0,5.0,2.0,15.0,12.0,16.0,20.0,13.0,10.0,11.0,14.0,12.0,2.0,4.0,7.0,18.0,19.0,20.0,15.0,18.0,9.0,17.0,9.0,14.0,9.0,12.0,6.0,18.0,17.0,2.0,15.0,3.0,4.0,18.0,18.0,18.0,14.0,20.0,2.0,8.0,2.0,2.0,13.0,13.0,11.0,11.0,9.0,17.0,17.0,16.0,8.0,4.0,3.0,12.0,17.0,15.0,8.0,10.0,4.0,2.0,3.0,8.0,5.0,3.0,10.0,3.0,6.0,15.0,18.0,10.0,14.0,17.0,10.0,7.0,4.0,14.0,15.0,8.0,7.0,20.0,16.0,9.0,16.0,18.0,13.0,16.0,19.0,13.0,11.0,6.0,5.0,2.0,4.0,10.0,18.0,17.0,4.0,20.0,17.0,18.0,20.0,2.0,9.0,8.0,20.0,11.0,14.0,11.0,15.0,19.0,18.0,5.0,5.0,18.0,6.0,10.0,11.0,8.0,5.0,16.0,16.0,12.0,2.0,5.0,3.0,8.0,10.0,13.0,5.0,10.0,3.0,4.0,9.0,6.0,20.0,16.0,12.0,11.0,4.0,15.0,15.0,12.0,7.0,10.0,10.0,3.0,7.0,14.0,3.0,4.0,11.0,18.0,13.0,20.0,20.0,12.0,12.0,2.0,14.0,17.0,4.0,16.0,10.0,19.0,19.0,18.0,4.0,4.0,4.0,2.0,11.0,3.0,7.0,4.0,4.0,15.0,8.0,16.0,18.0,6.0,16.0,19.0,13.0,9.0,8.0,9.0,18.0,15.0,17.0,8.0,11.0,7.0,5.0,17.0,7.0,12.0,20.0,7.0,19.0,13.0,16.0,18.0,17.0,12.0,2.0,6.0,13.0,20.0,15.0,14.0,11.0,5.0,15.0,2.0,16.0,20.0,15.0,4.0,19.0,7.0,6.0,11.0,20.0,10.0,2.0,16.0,10.0,5.0,11.0,3.0,14.0,18.0,5.0,17.0,6.0,8.0,7.0,13.0,9.0,3.0,9.0,10.0,11.0,4.0,19.0,6.0,8.0,12.0,9.0,2.0,16.0,7.0,15.0,11.0,19.0,16.0,14.0,19.0,17.0,16.0,2.0,8.0,11.0,3.0,13.0,6.0,11.0,16.0,7.0,13.0,19.0,10.0,5.0,14.0,13.0,5.0,7.0,3.0,6.0,13.0,5.0,20.0,17.0,19.0,18.0,14.0,13.0,5.0,15.0,17.0,12.0,7.0,11.0,12.0,17.0,17.0,4.0,20.0,9.0,15.0,4.0,9.0,20.0,4.0,14.0,5.0,7.0,7.0,12.0,19.0,16.0,5.0,16.0,19.0,2.0,5.0,6.0,3.0,14.0,7.0,4.0,8.0,17.0,10.0,9.0,16.0,17.0,15.0,17.0,3.0,2.0,4.0,3.0,4.0,10.0,14.0,5.0,3.0,2.0,11.0,11.0,8.0,4.0,15.0,9.0,8.0,2.0,16.0,11.0,19.0,6.0,2.0,7.0,6.0,2.0,10.0,14.0,7.0,8.0,2.0,7.0,4.0,20.0,4.0,9.0,17.0,11.0,2.0,11.0,17.0,10.0,16.0,5.0,9.0,10.0,10.0,7.0,12.0,15.0,13.0,15.0,7.0,16.0,4.0,14.0,7.0,3.0,10.0,18.0,19.0,4.0,17.0,10.0,2.0,3.0,17.0,3.0,17.0,9.0,5.0,4.0,12.0,3.0,14.0,19.0,20.0,7.0,2.0,13.0,5.0,9.0,12.0,7.0,11.0,3.0,5.0,19.0,4.0,11.0,4.0,16.0,7.0,2.0,17.0,12.0,6.0,20.0,13.0,10.0,3.0,4.0,14.0,16.0,13.0,20.0,3.0,19.0,3.0,9.0,19.0,20.0,8.0,4.0,15.0,14.0,8.0,3.0,15.0,8.0,8.0,17.0,7.0,14.0,13.0,2.0,14.0,15.0,10.0,11.0,16.0,2.0,11.0,4.0,6.0,5.0,8.0,7.0,19.0,3.0,7.0,20.0,4.0,5.0,3.0,19.0,16.0,5.0,19.0,2.0],\"y0\":\" \",\"yaxis\":\"y\",\"type\":\"box\"}],                        {\"template\":{\"data\":{\"histogram2dcontour\":[{\"type\":\"histogram2dcontour\",\"colorbar\":{\"outlinewidth\":0,\"ticks\":\"\"},\"colorscale\":[[0.0,\"#0d0887\"],[0.1111111111111111,\"#46039f\"],[0.2222222222222222,\"#7201a8\"],[0.3333333333333333,\"#9c179e\"],[0.4444444444444444,\"#bd3786\"],[0.5555555555555556,\"#d8576b\"],[0.6666666666666666,\"#ed7953\"],[0.7777777777777778,\"#fb9f3a\"],[0.8888888888888888,\"#fdca26\"],[1.0,\"#f0f921\"]]}],\"choropleth\":[{\"type\":\"choropleth\",\"colorbar\":{\"outlinewidth\":0,\"ticks\":\"\"}}],\"histogram2d\":[{\"type\":\"histogram2d\",\"colorbar\":{\"outlinewidth\":0,\"ticks\":\"\"},\"colorscale\":[[0.0,\"#0d0887\"],[0.1111111111111111,\"#46039f\"],[0.2222222222222222,\"#7201a8\"],[0.3333333333333333,\"#9c179e\"],[0.4444444444444444,\"#bd3786\"],[0.5555555555555556,\"#d8576b\"],[0.6666666666666666,\"#ed7953\"],[0.7777777777777778,\"#fb9f3a\"],[0.8888888888888888,\"#fdca26\"],[1.0,\"#f0f921\"]]}],\"heatmap\":[{\"type\":\"heatmap\",\"colorbar\":{\"outlinewidth\":0,\"ticks\":\"\"},\"colorscale\":[[0.0,\"#0d0887\"],[0.1111111111111111,\"#46039f\"],[0.2222222222222222,\"#7201a8\"],[0.3333333333333333,\"#9c179e\"],[0.4444444444444444,\"#bd3786\"],[0.5555555555555556,\"#d8576b\"],[0.6666666666666666,\"#ed7953\"],[0.7777777777777778,\"#fb9f3a\"],[0.8888888888888888,\"#fdca26\"],[1.0,\"#f0f921\"]]}],\"heatmapgl\":[{\"type\":\"heatmapgl\",\"colorbar\":{\"outlinewidth\":0,\"ticks\":\"\"},\"colorscale\":[[0.0,\"#0d0887\"],[0.1111111111111111,\"#46039f\"],[0.2222222222222222,\"#7201a8\"],[0.3333333333333333,\"#9c179e\"],[0.4444444444444444,\"#bd3786\"],[0.5555555555555556,\"#d8576b\"],[0.6666666666666666,\"#ed7953\"],[0.7777777777777778,\"#fb9f3a\"],[0.8888888888888888,\"#fdca26\"],[1.0,\"#f0f921\"]]}],\"contourcarpet\":[{\"type\":\"contourcarpet\",\"colorbar\":{\"outlinewidth\":0,\"ticks\":\"\"}}],\"contour\":[{\"type\":\"contour\",\"colorbar\":{\"outlinewidth\":0,\"ticks\":\"\"},\"colorscale\":[[0.0,\"#0d0887\"],[0.1111111111111111,\"#46039f\"],[0.2222222222222222,\"#7201a8\"],[0.3333333333333333,\"#9c179e\"],[0.4444444444444444,\"#bd3786\"],[0.5555555555555556,\"#d8576b\"],[0.6666666666666666,\"#ed7953\"],[0.7777777777777778,\"#fb9f3a\"],[0.8888888888888888,\"#fdca26\"],[1.0,\"#f0f921\"]]}],\"surface\":[{\"type\":\"surface\",\"colorbar\":{\"outlinewidth\":0,\"ticks\":\"\"},\"colorscale\":[[0.0,\"#0d0887\"],[0.1111111111111111,\"#46039f\"],[0.2222222222222222,\"#7201a8\"],[0.3333333333333333,\"#9c179e\"],[0.4444444444444444,\"#bd3786\"],[0.5555555555555556,\"#d8576b\"],[0.6666666666666666,\"#ed7953\"],[0.7777777777777778,\"#fb9f3a\"],[0.8888888888888888,\"#fdca26\"],[1.0,\"#f0f921\"]]}],\"mesh3d\":[{\"type\":\"mesh3d\",\"colorbar\":{\"outlinewidth\":0,\"ticks\":\"\"}}],\"scatter\":[{\"fillpattern\":{\"fillmode\":\"overlay\",\"size\":10,\"solidity\":0.2},\"type\":\"scatter\"}],\"parcoords\":[{\"type\":\"parcoords\",\"line\":{\"colorbar\":{\"outlinewidth\":0,\"ticks\":\"\"}}}],\"scatterpolargl\":[{\"type\":\"scatterpolargl\",\"marker\":{\"colorbar\":{\"outlinewidth\":0,\"ticks\":\"\"}}}],\"bar\":[{\"error_x\":{\"color\":\"#2a3f5f\"},\"error_y\":{\"color\":\"#2a3f5f\"},\"marker\":{\"line\":{\"color\":\"#E5ECF6\",\"width\":0.5},\"pattern\":{\"fillmode\":\"overlay\",\"size\":10,\"solidity\":0.2}},\"type\":\"bar\"}],\"scattergeo\":[{\"type\":\"scattergeo\",\"marker\":{\"colorbar\":{\"outlinewidth\":0,\"ticks\":\"\"}}}],\"scatterpolar\":[{\"type\":\"scatterpolar\",\"marker\":{\"colorbar\":{\"outlinewidth\":0,\"ticks\":\"\"}}}],\"histogram\":[{\"marker\":{\"pattern\":{\"fillmode\":\"overlay\",\"size\":10,\"solidity\":0.2}},\"type\":\"histogram\"}],\"scattergl\":[{\"type\":\"scattergl\",\"marker\":{\"colorbar\":{\"outlinewidth\":0,\"ticks\":\"\"}}}],\"scatter3d\":[{\"type\":\"scatter3d\",\"line\":{\"colorbar\":{\"outlinewidth\":0,\"ticks\":\"\"}},\"marker\":{\"colorbar\":{\"outlinewidth\":0,\"ticks\":\"\"}}}],\"scattermapbox\":[{\"type\":\"scattermapbox\",\"marker\":{\"colorbar\":{\"outlinewidth\":0,\"ticks\":\"\"}}}],\"scatterternary\":[{\"type\":\"scatterternary\",\"marker\":{\"colorbar\":{\"outlinewidth\":0,\"ticks\":\"\"}}}],\"scattercarpet\":[{\"type\":\"scattercarpet\",\"marker\":{\"colorbar\":{\"outlinewidth\":0,\"ticks\":\"\"}}}],\"carpet\":[{\"aaxis\":{\"endlinecolor\":\"#2a3f5f\",\"gridcolor\":\"white\",\"linecolor\":\"white\",\"minorgridcolor\":\"white\",\"startlinecolor\":\"#2a3f5f\"},\"baxis\":{\"endlinecolor\":\"#2a3f5f\",\"gridcolor\":\"white\",\"linecolor\":\"white\",\"minorgridcolor\":\"white\",\"startlinecolor\":\"#2a3f5f\"},\"type\":\"carpet\"}],\"table\":[{\"cells\":{\"fill\":{\"color\":\"#EBF0F8\"},\"line\":{\"color\":\"white\"}},\"header\":{\"fill\":{\"color\":\"#C8D4E3\"},\"line\":{\"color\":\"white\"}},\"type\":\"table\"}],\"barpolar\":[{\"marker\":{\"line\":{\"color\":\"#E5ECF6\",\"width\":0.5},\"pattern\":{\"fillmode\":\"overlay\",\"size\":10,\"solidity\":0.2}},\"type\":\"barpolar\"}],\"pie\":[{\"automargin\":true,\"type\":\"pie\"}]},\"layout\":{\"autotypenumbers\":\"strict\",\"colorway\":[\"#636efa\",\"#EF553B\",\"#00cc96\",\"#ab63fa\",\"#FFA15A\",\"#19d3f3\",\"#FF6692\",\"#B6E880\",\"#FF97FF\",\"#FECB52\"],\"font\":{\"color\":\"#2a3f5f\"},\"hovermode\":\"closest\",\"hoverlabel\":{\"align\":\"left\"},\"paper_bgcolor\":\"white\",\"plot_bgcolor\":\"#E5ECF6\",\"polar\":{\"bgcolor\":\"#E5ECF6\",\"angularaxis\":{\"gridcolor\":\"white\",\"linecolor\":\"white\",\"ticks\":\"\"},\"radialaxis\":{\"gridcolor\":\"white\",\"linecolor\":\"white\",\"ticks\":\"\"}},\"ternary\":{\"bgcolor\":\"#E5ECF6\",\"aaxis\":{\"gridcolor\":\"white\",\"linecolor\":\"white\",\"ticks\":\"\"},\"baxis\":{\"gridcolor\":\"white\",\"linecolor\":\"white\",\"ticks\":\"\"},\"caxis\":{\"gridcolor\":\"white\",\"linecolor\":\"white\",\"ticks\":\"\"}},\"coloraxis\":{\"colorbar\":{\"outlinewidth\":0,\"ticks\":\"\"}},\"colorscale\":{\"sequential\":[[0.0,\"#0d0887\"],[0.1111111111111111,\"#46039f\"],[0.2222222222222222,\"#7201a8\"],[0.3333333333333333,\"#9c179e\"],[0.4444444444444444,\"#bd3786\"],[0.5555555555555556,\"#d8576b\"],[0.6666666666666666,\"#ed7953\"],[0.7777777777777778,\"#fb9f3a\"],[0.8888888888888888,\"#fdca26\"],[1.0,\"#f0f921\"]],\"sequentialminus\":[[0.0,\"#0d0887\"],[0.1111111111111111,\"#46039f\"],[0.2222222222222222,\"#7201a8\"],[0.3333333333333333,\"#9c179e\"],[0.4444444444444444,\"#bd3786\"],[0.5555555555555556,\"#d8576b\"],[0.6666666666666666,\"#ed7953\"],[0.7777777777777778,\"#fb9f3a\"],[0.8888888888888888,\"#fdca26\"],[1.0,\"#f0f921\"]],\"diverging\":[[0,\"#8e0152\"],[0.1,\"#c51b7d\"],[0.2,\"#de77ae\"],[0.3,\"#f1b6da\"],[0.4,\"#fde0ef\"],[0.5,\"#f7f7f7\"],[0.6,\"#e6f5d0\"],[0.7,\"#b8e186\"],[0.8,\"#7fbc41\"],[0.9,\"#4d9221\"],[1,\"#276419\"]]},\"xaxis\":{\"gridcolor\":\"white\",\"linecolor\":\"white\",\"ticks\":\"\",\"title\":{\"standoff\":15},\"zerolinecolor\":\"white\",\"automargin\":true,\"zerolinewidth\":2},\"yaxis\":{\"gridcolor\":\"white\",\"linecolor\":\"white\",\"ticks\":\"\",\"title\":{\"standoff\":15},\"zerolinecolor\":\"white\",\"automargin\":true,\"zerolinewidth\":2},\"scene\":{\"xaxis\":{\"backgroundcolor\":\"#E5ECF6\",\"gridcolor\":\"white\",\"linecolor\":\"white\",\"showbackground\":true,\"ticks\":\"\",\"zerolinecolor\":\"white\",\"gridwidth\":2},\"yaxis\":{\"backgroundcolor\":\"#E5ECF6\",\"gridcolor\":\"white\",\"linecolor\":\"white\",\"showbackground\":true,\"ticks\":\"\",\"zerolinecolor\":\"white\",\"gridwidth\":2},\"zaxis\":{\"backgroundcolor\":\"#E5ECF6\",\"gridcolor\":\"white\",\"linecolor\":\"white\",\"showbackground\":true,\"ticks\":\"\",\"zerolinecolor\":\"white\",\"gridwidth\":2}},\"shapedefaults\":{\"line\":{\"color\":\"#2a3f5f\"}},\"annotationdefaults\":{\"arrowcolor\":\"#2a3f5f\",\"arrowhead\":0,\"arrowwidth\":1},\"geo\":{\"bgcolor\":\"white\",\"landcolor\":\"#E5ECF6\",\"subunitcolor\":\"white\",\"showland\":true,\"showlakes\":true,\"lakecolor\":\"white\"},\"title\":{\"x\":0.05},\"mapbox\":{\"style\":\"light\"}}},\"xaxis\":{\"anchor\":\"y\",\"domain\":[0.0,1.0],\"title\":{\"text\":\"variable\"}},\"yaxis\":{\"anchor\":\"x\",\"domain\":[0.0,1.0],\"title\":{\"text\":\"value\"}},\"legend\":{\"tracegroupgap\":0},\"margin\":{\"t\":60},\"boxmode\":\"group\"},                        {\"responsive\": true}                    ).then(function(){\n",
              "                            \n",
              "var gd = document.getElementById('bec50b07-f770-4048-9e27-866661ab61a7');\n",
              "var x = new MutationObserver(function (mutations, observer) {{\n",
              "        var display = window.getComputedStyle(gd).display;\n",
              "        if (!display || display === 'none') {{\n",
              "            console.log([gd, 'removed!']);\n",
              "            Plotly.purge(gd);\n",
              "            observer.disconnect();\n",
              "        }}\n",
              "}});\n",
              "\n",
              "// Listen for the removal of the full notebook cells\n",
              "var notebookContainer = gd.closest('#notebook-container');\n",
              "if (notebookContainer) {{\n",
              "    x.observe(notebookContainer, {childList: true});\n",
              "}}\n",
              "\n",
              "// Listen for the clearing of the current output cell\n",
              "var outputEl = gd.closest('.output');\n",
              "if (outputEl) {{\n",
              "    x.observe(outputEl, {childList: true});\n",
              "}}\n",
              "\n",
              "                        })                };                            </script>        </div>\n",
              "</body>\n",
              "</html>"
            ]
          },
          "metadata": {}
        }
      ]
    },
    {
      "cell_type": "code",
      "source": [
        "# Handling Outliers & Outlier treatments\n",
        "def outliers_removal(cols_to_check):\n",
        "  Q1 = df[cols_to_check].quantile(0.25)\n",
        "  Q3 = df[cols_to_check].quantile(0.75)\n",
        "  IQR = Q3 - Q1\n",
        "\n",
        "  # Identify outliers in only these columns\n",
        "  outlier_mask = (df[cols_to_check] < (Q1 - 1.5 * IQR)) | (df[cols_to_check] > (Q3 + 1.5 * IQR))\n",
        "\n",
        "   # Filter out rows with outliers in either of the two columns\n",
        "  df_cleaned = df[~outlier_mask.any(axis=1)]\n",
        "\n",
        "  # Boxplot before outlier removal\n",
        "  df_before = df[cols_to_check].melt(var_name='variable', value_name='value')\n",
        "  plt.figure(figsize=(8, 5))\n",
        "  sns.boxplot(x='variable', y='value', data=df_before)\n",
        "  plt.title(\"Before Outlier Removal (C Variables Only)\")\n",
        "  plt.tight_layout()\n",
        "  plt.show()\n",
        "\n",
        "  # Boxplot after outlier removal\n",
        "  df_after = df_cleaned[cols_to_check].melt(var_name='variable', value_name='value')\n",
        "  plt.figure(figsize=(8, 5))\n",
        "  sns.boxplot(x='variable', y='value', data=df_after)\n",
        "  plt.title(\"After Outlier Removal (C Variables Only)\")\n",
        "  plt.tight_layout()\n",
        "  plt.show()"
      ],
      "metadata": {
        "id": "NWFWhio_lnOV"
      },
      "execution_count": null,
      "outputs": []
    },
    {
      "cell_type": "code",
      "source": [
        "# Handling Outliers & Outlier treatments\n",
        "cols_to_check = ['pixel_area',\t'screen_area', 'fc']\n",
        "outliers_removal(cols_to_check)"
      ],
      "metadata": {
        "colab": {
          "base_uri": "https://localhost:8080/",
          "height": 997
        },
        "id": "nwtUxydVlnZW",
        "outputId": "ed49091f-112a-49a0-8f58-f628b8dd4c43"
      },
      "execution_count": null,
      "outputs": [
        {
          "output_type": "display_data",
          "data": {
            "text/plain": [
              "<Figure size 800x500 with 1 Axes>"
            ],
            "image/png": "[encoded data removed]"
          },
          "metadata": {}
        },
        {
          "output_type": "display_data",
          "data": {
            "text/plain": [
              "<Figure size 800x500 with 1 Axes>"
            ],
            "image/png": "[encoded data removed]"
          },
          "metadata": {}
        }
      ]
    },
    {
      "cell_type": "code",
      "source": [],
      "metadata": {
        "id": "S8PcSwl0W8fa"
      },
      "execution_count": null,
      "outputs": []
    },
    {
      "cell_type": "markdown",
      "source": [
        "##### What all outlier treatment techniques have you used and why did you use those techniques?"
      ],
      "metadata": {
        "id": "578E2V7j08f6"
      }
    },
    {
      "cell_type": "markdown",
      "source": [
        "Answer Here."
      ],
      "metadata": {
        "id": "uGZz5OrT1HH-"
      }
    },
    {
      "cell_type": "markdown",
      "source": [
        "### 3. Categorical Encoding"
      ],
      "metadata": {
        "id": "89xtkJwZ18nB"
      }
    },
    {
      "cell_type": "code",
      "source": [
        "# Encode your categorical columns\n",
        "\n",
        "def category_in_column(columns,data):\n",
        "\n",
        "  # use plotly for better plot\n",
        "  for i in columns:\n",
        "    df[i + \"_category\"] = pd.qcut(df[i], q=4, labels=False, duplicates='drop')\n",
        "\n"
      ],
      "metadata": {
        "id": "21JmIYMG2hEo"
      },
      "execution_count": null,
      "outputs": []
    },
    {
      "cell_type": "code",
      "source": [
        "columns2 = ['battery_power', 'clock_speed', 'fc', 'int_memory', 'm_dep', 'n_cores', 'pc', 'pixel_area',\t'screen_area', 'ram', 'talk_time']\n",
        "category_in_column(columns2, df)"
      ],
      "metadata": {
        "id": "QVGWEsGphofS"
      },
      "execution_count": null,
      "outputs": []
    },
    {
      "cell_type": "code",
      "source": [
        "df2 = df.iloc[:, 23:]\n",
        "df2.head(10)"
      ],
      "metadata": {
        "colab": {
          "base_uri": "https://localhost:8080/",
          "height": 383
        },
        "id": "KU-yKztmkfIp",
        "outputId": "962fb275-f5fa-42a1-9070-343c49f4557a"
      },
      "execution_count": null,
      "outputs": [
        {
          "output_type": "execute_result",
          "data": {
            "text/plain": [
              "   ram_category  battery_power_category  clock_speed_category  fc_category  \\\n",
              "0             2                       0                     2            0   \n",
              "1             2                       1                     0            0   \n",
              "2             2                       0                     0            1   \n",
              "3             2                       0                     3            0   \n",
              "4             1                       3                     1            3   \n",
              "5             0                       3                     0            1   \n",
              "6             3                       3                     2            2   \n",
              "7             0                       3                     0            0   \n",
              "8             0                       2                     0            0   \n",
              "9             0                       0                     0            1   \n",
              "\n",
              "   int_memory_category  m_dep_category  n_cores_category  pc_category  \\\n",
              "0                    0               2                 0            0   \n",
              "1                    3               2                 0            1   \n",
              "2                    2               3                 2            1   \n",
              "3                    0               2                 2            1   \n",
              "4                    2               2                 0            2   \n",
              "5                    1               2                 0            1   \n",
              "6                    0               2                 3            1   \n",
              "7                    1               2                 1            0   \n",
              "8                    3               2                 2            2   \n",
              "9                    0               0                 2            2   \n",
              "\n",
              "   px_height_category  px_width_category  sc_h_category  sc_w_category  \\\n",
              "0                   0                  0              0              2   \n",
              "1                   2                  3              3              1   \n",
              "2                   3                  3              1              0   \n",
              "3                   3                  3              2              2   \n",
              "4                   3                  1              0              0   \n",
              "5                   3                  3              3              0   \n",
              "6                   1                  1              2              2   \n",
              "7                   1                  1              2              1   \n",
              "8                   1                  0              3              0   \n",
              "9                   3                  1              3              3   \n",
              "\n",
              "   talk_time_category  pixel_area_category  screen_area_category  \n",
              "0                   3                    0                     2  \n",
              "1                   1                    3                     1  \n",
              "2                   1                    3                     1  \n",
              "3                   1                    3                     3  \n",
              "4                   2                    3                     0  \n",
              "5                   1                    3                     0  \n",
              "6                   3                    1                     2  \n",
              "7                   0                    1                     1  \n",
              "8                   3                    1                     0  \n",
              "9                   2                    3                     3  "
            ],
            "text/html": [
              "\n",
              "  <div id=\"df-84679452-26a6-4842-8874-b8951bc7fc49\" class=\"colab-df-container\">\n",
              "    <div>\n",
              "<style scoped>\n",
              "    .dataframe tbody tr th:only-of-type {\n",
              "        vertical-align: middle;\n",
              "    }\n",
              "\n",
              "    .dataframe tbody tr th {\n",
              "        vertical-align: top;\n",
              "    }\n",
              "\n",
              "    .dataframe thead th {\n",
              "        text-align: right;\n",
              "    }\n",
              "</style>\n",
              "<table border=\"1\" class=\"dataframe\">\n",
              "  <thead>\n",
              "    <tr style=\"text-align: right;\">\n",
              "      <th></th>\n",
              "      <th>ram_category</th>\n",
              "      <th>battery_power_category</th>\n",
              "      <th>clock_speed_category</th>\n",
              "      <th>fc_category</th>\n",
              "      <th>int_memory_category</th>\n",
              "      <th>m_dep_category</th>\n",
              "      <th>n_cores_category</th>\n",
              "      <th>pc_category</th>\n",
              "      <th>px_height_category</th>\n",
              "      <th>px_width_category</th>\n",
              "      <th>sc_h_category</th>\n",
              "      <th>sc_w_category</th>\n",
              "      <th>talk_time_category</th>\n",
              "      <th>pixel_area_category</th>\n",
              "      <th>screen_area_category</th>\n",
              "    </tr>\n",
              "  </thead>\n",
              "  <tbody>\n",
              "    <tr>\n",
              "      <th>0</th>\n",
              "      <td>2</td>\n",
              "      <td>0</td>\n",
              "      <td>2</td>\n",
              "      <td>0</td>\n",
              "      <td>0</td>\n",
              "      <td>2</td>\n",
              "      <td>0</td>\n",
              "      <td>0</td>\n",
              "      <td>0</td>\n",
              "      <td>0</td>\n",
              "      <td>0</td>\n",
              "      <td>2</td>\n",
              "      <td>3</td>\n",
              "      <td>0</td>\n",
              "      <td>2</td>\n",
              "    </tr>\n",
              "    <tr>\n",
              "      <th>1</th>\n",
              "      <td>2</td>\n",
              "      <td>1</td>\n",
              "      <td>0</td>\n",
              "      <td>0</td>\n",
              "      <td>3</td>\n",
              "      <td>2</td>\n",
              "      <td>0</td>\n",
              "      <td>1</td>\n",
              "      <td>2</td>\n",
              "      <td>3</td>\n",
              "      <td>3</td>\n",
              "      <td>1</td>\n",
              "      <td>1</td>\n",
              "      <td>3</td>\n",
              "      <td>1</td>\n",
              "    </tr>\n",
              "    <tr>\n",
              "      <th>2</th>\n",
              "      <td>2</td>\n",
              "      <td>0</td>\n",
              "      <td>0</td>\n",
              "      <td>1</td>\n",
              "      <td>2</td>\n",
              "      <td>3</td>\n",
              "      <td>2</td>\n",
              "      <td>1</td>\n",
              "      <td>3</td>\n",
              "      <td>3</td>\n",
              "      <td>1</td>\n",
              "      <td>0</td>\n",
              "      <td>1</td>\n",
              "      <td>3</td>\n",
              "      <td>1</td>\n",
              "    </tr>\n",
              "    <tr>\n",
              "      <th>3</th>\n",
              "      <td>2</td>\n",
              "      <td>0</td>\n",
              "      <td>3</td>\n",
              "      <td>0</td>\n",
              "      <td>0</td>\n",
              "      <td>2</td>\n",
              "      <td>2</td>\n",
              "      <td>1</td>\n",
              "      <td>3</td>\n",
              "      <td>3</td>\n",
              "      <td>2</td>\n",
              "      <td>2</td>\n",
              "      <td>1</td>\n",
              "      <td>3</td>\n",
              "      <td>3</td>\n",
              "    </tr>\n",
              "    <tr>\n",
              "      <th>4</th>\n",
              "      <td>1</td>\n",
              "      <td>3</td>\n",
              "      <td>1</td>\n",
              "      <td>3</td>\n",
              "      <td>2</td>\n",
              "      <td>2</td>\n",
              "      <td>0</td>\n",
              "      <td>2</td>\n",
              "      <td>3</td>\n",
              "      <td>1</td>\n",
              "      <td>0</td>\n",
              "      <td>0</td>\n",
              "      <td>2</td>\n",
              "      <td>3</td>\n",
              "      <td>0</td>\n",
              "    </tr>\n",
              "    <tr>\n",
              "      <th>5</th>\n",
              "      <td>0</td>\n",
              "      <td>3</td>\n",
              "      <td>0</td>\n",
              "      <td>1</td>\n",
              "      <td>1</td>\n",
              "      <td>2</td>\n",
              "      <td>0</td>\n",
              "      <td>1</td>\n",
              "      <td>3</td>\n",
              "      <td>3</td>\n",
              "      <td>3</td>\n",
              "      <td>0</td>\n",
              "      <td>1</td>\n",
              "      <td>3</td>\n",
              "      <td>0</td>\n",
              "    </tr>\n",
              "    <tr>\n",
              "      <th>6</th>\n",
              "      <td>3</td>\n",
              "      <td>3</td>\n",
              "      <td>2</td>\n",
              "      <td>2</td>\n",
              "      <td>0</td>\n",
              "      <td>2</td>\n",
              "      <td>3</td>\n",
              "      <td>1</td>\n",
              "      <td>1</td>\n",
              "      <td>1</td>\n",
              "      <td>2</td>\n",
              "      <td>2</td>\n",
              "      <td>3</td>\n",
              "      <td>1</td>\n",
              "      <td>2</td>\n",
              "    </tr>\n",
              "    <tr>\n",
              "      <th>7</th>\n",
              "      <td>0</td>\n",
              "      <td>3</td>\n",
              "      <td>0</td>\n",
              "      <td>0</td>\n",
              "      <td>1</td>\n",
              "      <td>2</td>\n",
              "      <td>1</td>\n",
              "      <td>0</td>\n",
              "      <td>1</td>\n",
              "      <td>1</td>\n",
              "      <td>2</td>\n",
              "      <td>1</td>\n",
              "      <td>0</td>\n",
              "      <td>1</td>\n",
              "      <td>1</td>\n",
              "    </tr>\n",
              "    <tr>\n",
              "      <th>8</th>\n",
              "      <td>0</td>\n",
              "      <td>2</td>\n",
              "      <td>0</td>\n",
              "      <td>0</td>\n",
              "      <td>3</td>\n",
              "      <td>2</td>\n",
              "      <td>2</td>\n",
              "      <td>2</td>\n",
              "      <td>1</td>\n",
              "      <td>0</td>\n",
              "      <td>3</td>\n",
              "      <td>0</td>\n",
              "      <td>3</td>\n",
              "      <td>1</td>\n",
              "      <td>0</td>\n",
              "    </tr>\n",
              "    <tr>\n",
              "      <th>9</th>\n",
              "      <td>0</td>\n",
              "      <td>0</td>\n",
              "      <td>0</td>\n",
              "      <td>1</td>\n",
              "      <td>0</td>\n",
              "      <td>0</td>\n",
              "      <td>2</td>\n",
              "      <td>2</td>\n",
              "      <td>3</td>\n",
              "      <td>1</td>\n",
              "      <td>3</td>\n",
              "      <td>3</td>\n",
              "      <td>2</td>\n",
              "      <td>3</td>\n",
              "      <td>3</td>\n",
              "    </tr>\n",
              "  </tbody>\n",
              "</table>\n",
              "</div>\n",
              "    <div class=\"colab-df-buttons\">\n",
              "\n",
              "  <div class=\"colab-df-container\">\n",
              "    <button class=\"colab-df-convert\" onclick=\"convertToInteractive('df-84679452-26a6-4842-8874-b8951bc7fc49')\"\n",
              "            title=\"Convert this dataframe to an interactive table.\"\n",
              "            style=\"display:none;\">\n",
              "\n",
              "  <svg xmlns=\"http://www.w3.org/2000/svg\" height=\"24px\" viewBox=\"0 -960 960 960\">\n",
              "    <path d=\"M120-120v-720h720v720H120Zm60-500h600v-160H180v160Zm220 220h160v-160H400v160Zm0 220h160v-160H400v160ZM180-400h160v-160H180v160Zm440 0h160v-160H620v160ZM180-180h160v-160H180v160Zm440 0h160v-160H620v160Z\"/>\n",
              "  </svg>\n",
              "    </button>\n",
              "\n",
              "  <style>\n",
              "    .colab-df-container {\n",
              "      display:flex;\n",
              "      gap: 12px;\n",
              "    }\n",
              "\n",
              "    .colab-df-convert {\n",
              "      background-color: #E8F0FE;\n",
              "      border: none;\n",
              "      border-radius: 50%;\n",
              "      cursor: pointer;\n",
              "      display: none;\n",
              "      fill: #1967D2;\n",
              "      height: 32px;\n",
              "      padding: 0 0 0 0;\n",
              "      width: 32px;\n",
              "    }\n",
              "\n",
              "    .colab-df-convert:hover {\n",
              "      background-color: #E2EBFA;\n",
              "      box-shadow: 0px 1px 2px rgba(60, 64, 67, 0.3), 0px 1px 3px 1px rgba(60, 64, 67, 0.15);\n",
              "      fill: #174EA6;\n",
              "    }\n",
              "\n",
              "    .colab-df-buttons div {\n",
              "      margin-bottom: 4px;\n",
              "    }\n",
              "\n",
              "    [theme=dark] .colab-df-convert {\n",
              "      background-color: #3B4455;\n",
              "      fill: #D2E3FC;\n",
              "    }\n",
              "\n",
              "    [theme=dark] .colab-df-convert:hover {\n",
              "      background-color: #434B5C;\n",
              "      box-shadow: 0px 1px 3px 1px rgba(0, 0, 0, 0.15);\n",
              "      filter: drop-shadow(0px 1px 2px rgba(0, 0, 0, 0.3));\n",
              "      fill: #FFFFFF;\n",
              "    }\n",
              "  </style>\n",
              "\n",
              "    <script>\n",
              "      const buttonEl =\n",
              "        document.querySelector('#df-84679452-26a6-4842-8874-b8951bc7fc49 button.colab-df-convert');\n",
              "      buttonEl.style.display =\n",
              "        google.colab.kernel.accessAllowed ? 'block' : 'none';\n",
              "\n",
              "      async function convertToInteractive(key) {\n",
              "        const element = document.querySelector('#df-84679452-26a6-4842-8874-b8951bc7fc49');\n",
              "        const dataTable =\n",
              "          await google.colab.kernel.invokeFunction('convertToInteractive',\n",
              "                                                    [key], {});\n",
              "        if (!dataTable) return;\n",
              "\n",
              "        const docLinkHtml = 'Like what you see? Visit the ' +\n",
              "          '<a target=\"_blank\" href=https://colab.research.google.com/notebooks/data_table.ipynb>data table notebook</a>'\n",
              "          + ' to learn more about interactive tables.';\n",
              "        element.innerHTML = '';\n",
              "        dataTable['output_type'] = 'display_data';\n",
              "        await google.colab.output.renderOutput(dataTable, element);\n",
              "        const docLink = document.createElement('div');\n",
              "        docLink.innerHTML = docLinkHtml;\n",
              "        element.appendChild(docLink);\n",
              "      }\n",
              "    </script>\n",
              "  </div>\n",
              "\n",
              "\n",
              "    <div id=\"df-1beb7028-4b2e-45fd-9d07-134272663037\">\n",
              "      <button class=\"colab-df-quickchart\" onclick=\"quickchart('df-1beb7028-4b2e-45fd-9d07-134272663037')\"\n",
              "                title=\"Suggest charts\"\n",
              "                style=\"display:none;\">\n",
              "\n",
              "<svg xmlns=\"http://www.w3.org/2000/svg\" height=\"24px\"viewBox=\"0 0 24 24\"\n",
              "     width=\"24px\">\n",
              "    <g>\n",
              "        <path d=\"M19 3H5c-1.1 0-2 .9-2 2v14c0 1.1.9 2 2 2h14c1.1 0 2-.9 2-2V5c0-1.1-.9-2-2-2zM9 17H7v-7h2v7zm4 0h-2V7h2v10zm4 0h-2v-4h2v4z\"/>\n",
              "    </g>\n",
              "</svg>\n",
              "      </button>\n",
              "\n",
              "<style>\n",
              "  .colab-df-quickchart {\n",
              "      --bg-color: #E8F0FE;\n",
              "      --fill-color: #1967D2;\n",
              "      --hover-bg-color: #E2EBFA;\n",
              "      --hover-fill-color: #174EA6;\n",
              "      --disabled-fill-color: #AAA;\n",
              "      --disabled-bg-color: #DDD;\n",
              "  }\n",
              "\n",
              "  [theme=dark] .colab-df-quickchart {\n",
              "      --bg-color: #3B4455;\n",
              "      --fill-color: #D2E3FC;\n",
              "      --hover-bg-color: #434B5C;\n",
              "      --hover-fill-color: #FFFFFF;\n",
              "      --disabled-bg-color: #3B4455;\n",
              "      --disabled-fill-color: #666;\n",
              "  }\n",
              "\n",
              "  .colab-df-quickchart {\n",
              "    background-color: var(--bg-color);\n",
              "    border: none;\n",
              "    border-radius: 50%;\n",
              "    cursor: pointer;\n",
              "    display: none;\n",
              "    fill: var(--fill-color);\n",
              "    height: 32px;\n",
              "    padding: 0;\n",
              "    width: 32px;\n",
              "  }\n",
              "\n",
              "  .colab-df-quickchart:hover {\n",
              "    background-color: var(--hover-bg-color);\n",
              "    box-shadow: 0 1px 2px rgba(60, 64, 67, 0.3), 0 1px 3px 1px rgba(60, 64, 67, 0.15);\n",
              "    fill: var(--button-hover-fill-color);\n",
              "  }\n",
              "\n",
              "  .colab-df-quickchart-complete:disabled,\n",
              "  .colab-df-quickchart-complete:disabled:hover {\n",
              "    background-color: var(--disabled-bg-color);\n",
              "    fill: var(--disabled-fill-color);\n",
              "    box-shadow: none;\n",
              "  }\n",
              "\n",
              "  .colab-df-spinner {\n",
              "    border: 2px solid var(--fill-color);\n",
              "    border-color: transparent;\n",
              "    border-bottom-color: var(--fill-color);\n",
              "    animation:\n",
              "      spin 1s steps(1) infinite;\n",
              "  }\n",
              "\n",
              "  @keyframes spin {\n",
              "    0% {\n",
              "      border-color: transparent;\n",
              "      border-bottom-color: var(--fill-color);\n",
              "      border-left-color: var(--fill-color);\n",
              "    }\n",
              "    20% {\n",
              "      border-color: transparent;\n",
              "      border-left-color: var(--fill-color);\n",
              "      border-top-color: var(--fill-color);\n",
              "    }\n",
              "    30% {\n",
              "      border-color: transparent;\n",
              "      border-left-color: var(--fill-color);\n",
              "      border-top-color: var(--fill-color);\n",
              "      border-right-color: var(--fill-color);\n",
              "    }\n",
              "    40% {\n",
              "      border-color: transparent;\n",
              "      border-right-color: var(--fill-color);\n",
              "      border-top-color: var(--fill-color);\n",
              "    }\n",
              "    60% {\n",
              "      border-color: transparent;\n",
              "      border-right-color: var(--fill-color);\n",
              "    }\n",
              "    80% {\n",
              "      border-color: transparent;\n",
              "      border-right-color: var(--fill-color);\n",
              "      border-bottom-color: var(--fill-color);\n",
              "    }\n",
              "    90% {\n",
              "      border-color: transparent;\n",
              "      border-bottom-color: var(--fill-color);\n",
              "    }\n",
              "  }\n",
              "</style>\n",
              "\n",
              "      <script>\n",
              "        async function quickchart(key) {\n",
              "          const quickchartButtonEl =\n",
              "            document.querySelector('#' + key + ' button');\n",
              "          quickchartButtonEl.disabled = true;  // To prevent multiple clicks.\n",
              "          quickchartButtonEl.classList.add('colab-df-spinner');\n",
              "          try {\n",
              "            const charts = await google.colab.kernel.invokeFunction(\n",
              "                'suggestCharts', [key], {});\n",
              "          } catch (error) {\n",
              "            console.error('Error during call to suggestCharts:', error);\n",
              "          }\n",
              "          quickchartButtonEl.classList.remove('colab-df-spinner');\n",
              "          quickchartButtonEl.classList.add('colab-df-quickchart-complete');\n",
              "        }\n",
              "        (() => {\n",
              "          let quickchartButtonEl =\n",
              "            document.querySelector('#df-1beb7028-4b2e-45fd-9d07-134272663037 button');\n",
              "          quickchartButtonEl.style.display =\n",
              "            google.colab.kernel.accessAllowed ? 'block' : 'none';\n",
              "        })();\n",
              "      </script>\n",
              "    </div>\n",
              "\n",
              "    </div>\n",
              "  </div>\n"
            ],
            "application/vnd.google.colaboratory.intrinsic+json": {
              "type": "dataframe",
              "variable_name": "df2",
              "summary": "{\n  \"name\": \"df2\",\n  \"rows\": 2000,\n  \"fields\": [\n    {\n      \"column\": \"ram_category\",\n      \"properties\": {\n        \"dtype\": \"number\",\n        \"std\": 1,\n        \"min\": 0,\n        \"max\": 3,\n        \"num_unique_values\": 4,\n        \"samples\": [\n          1,\n          3,\n          2\n        ],\n        \"semantic_type\": \"\",\n        \"description\": \"\"\n      }\n    },\n    {\n      \"column\": \"battery_power_category\",\n      \"properties\": {\n        \"dtype\": \"number\",\n        \"std\": 1,\n        \"min\": 0,\n        \"max\": 3,\n        \"num_unique_values\": 4,\n        \"samples\": [\n          1,\n          2,\n          0\n        ],\n        \"semantic_type\": \"\",\n        \"description\": \"\"\n      }\n    },\n    {\n      \"column\": \"clock_speed_category\",\n      \"properties\": {\n        \"dtype\": \"number\",\n        \"std\": 1,\n        \"min\": 0,\n        \"max\": 3,\n        \"num_unique_values\": 4,\n        \"samples\": [\n          0,\n          1,\n          2\n        ],\n        \"semantic_type\": \"\",\n        \"description\": \"\"\n      }\n    },\n    {\n      \"column\": \"fc_category\",\n      \"properties\": {\n        \"dtype\": \"number\",\n        \"std\": 1,\n        \"min\": 0,\n        \"max\": 3,\n        \"num_unique_values\": 4,\n        \"samples\": [\n          1,\n          2,\n          0\n        ],\n        \"semantic_type\": \"\",\n        \"description\": \"\"\n      }\n    },\n    {\n      \"column\": \"int_memory_category\",\n      \"properties\": {\n        \"dtype\": \"number\",\n        \"std\": 1,\n        \"min\": 0,\n        \"max\": 3,\n        \"num_unique_values\": 4,\n        \"samples\": [\n          3,\n          1,\n          0\n        ],\n        \"semantic_type\": \"\",\n        \"description\": \"\"\n      }\n    },\n    {\n      \"column\": \"m_dep_category\",\n      \"properties\": {\n        \"dtype\": \"number\",\n        \"std\": 1,\n        \"min\": 0,\n        \"max\": 3,\n        \"num_unique_values\": 4,\n        \"samples\": [\n          3,\n          1,\n          2\n        ],\n        \"semantic_type\": \"\",\n        \"description\": \"\"\n      }\n    },\n    {\n      \"column\": \"n_cores_category\",\n      \"properties\": {\n        \"dtype\": \"number\",\n        \"std\": 1,\n        \"min\": 0,\n        \"max\": 3,\n        \"num_unique_values\": 4,\n        \"samples\": [\n          2,\n          1,\n          0\n        ],\n        \"semantic_type\": \"\",\n        \"description\": \"\"\n      }\n    },\n    {\n      \"column\": \"pc_category\",\n      \"properties\": {\n        \"dtype\": \"number\",\n        \"std\": 1,\n        \"min\": 0,\n        \"max\": 3,\n        \"num_unique_values\": 4,\n        \"samples\": [\n          1,\n          3,\n          0\n        ],\n        \"semantic_type\": \"\",\n        \"description\": \"\"\n      }\n    },\n    {\n      \"column\": \"px_height_category\",\n      \"properties\": {\n        \"dtype\": \"number\",\n        \"std\": 1,\n        \"min\": 0,\n        \"max\": 3,\n        \"num_unique_values\": 4,\n        \"samples\": [\n          2,\n          1,\n          0\n        ],\n        \"semantic_type\": \"\",\n        \"description\": \"\"\n      }\n    },\n    {\n      \"column\": \"px_width_category\",\n      \"properties\": {\n        \"dtype\": \"number\",\n        \"std\": 1,\n        \"min\": 0,\n        \"max\": 3,\n        \"num_unique_values\": 4,\n        \"samples\": [\n          3,\n          2,\n          0\n        ],\n        \"semantic_type\": \"\",\n        \"description\": \"\"\n      }\n    },\n    {\n      \"column\": \"sc_h_category\",\n      \"properties\": {\n        \"dtype\": \"number\",\n        \"std\": 1,\n        \"min\": 0,\n        \"max\": 3,\n        \"num_unique_values\": 4,\n        \"samples\": [\n          3,\n          2,\n          0\n        ],\n        \"semantic_type\": \"\",\n        \"description\": \"\"\n      }\n    },\n    {\n      \"column\": \"sc_w_category\",\n      \"properties\": {\n        \"dtype\": \"number\",\n        \"std\": 1,\n        \"min\": 0,\n        \"max\": 3,\n        \"num_unique_values\": 4,\n        \"samples\": [\n          1,\n          3,\n          2\n        ],\n        \"semantic_type\": \"\",\n        \"description\": \"\"\n      }\n    },\n    {\n      \"column\": \"talk_time_category\",\n      \"properties\": {\n        \"dtype\": \"number\",\n        \"std\": 1,\n        \"min\": 0,\n        \"max\": 3,\n        \"num_unique_values\": 4,\n        \"samples\": [\n          1,\n          0,\n          3\n        ],\n        \"semantic_type\": \"\",\n        \"description\": \"\"\n      }\n    },\n    {\n      \"column\": \"pixel_area_category\",\n      \"properties\": {\n        \"dtype\": \"number\",\n        \"std\": 1,\n        \"min\": 0,\n        \"max\": 3,\n        \"num_unique_values\": 4,\n        \"samples\": [\n          3,\n          2,\n          0\n        ],\n        \"semantic_type\": \"\",\n        \"description\": \"\"\n      }\n    },\n    {\n      \"column\": \"screen_area_category\",\n      \"properties\": {\n        \"dtype\": \"number\",\n        \"std\": 1,\n        \"min\": 0,\n        \"max\": 3,\n        \"num_unique_values\": 4,\n        \"samples\": [\n          1,\n          0,\n          2\n        ],\n        \"semantic_type\": \"\",\n        \"description\": \"\"\n      }\n    }\n  ]\n}"
            }
          },
          "metadata": {},
          "execution_count": 135
        }
      ]
    },
    {
      "cell_type": "code",
      "source": [],
      "metadata": {
        "id": "P-Yy9Vo7kfS_"
      },
      "execution_count": null,
      "outputs": []
    },
    {
      "cell_type": "code",
      "source": [],
      "metadata": {
        "id": "vPJfULNAkfeM"
      },
      "execution_count": null,
      "outputs": []
    },
    {
      "cell_type": "markdown",
      "source": [
        "#### What all categorical encoding techniques have you used & why did you use those techniques?"
      ],
      "metadata": {
        "id": "67NQN5KX2AMe"
      }
    },
    {
      "cell_type": "markdown",
      "source": [
        "Answer Here."
      ],
      "metadata": {
        "id": "UDaue5h32n_G"
      }
    },
    {
      "cell_type": "markdown",
      "source": [
        "### 4. Textual Data Preprocessing\n",
        "(It's mandatory for textual dataset i.e., NLP, Sentiment Analysis, Text Clustering etc.)"
      ],
      "metadata": {
        "id": "Iwf50b-R2tYG"
      }
    },
    {
      "cell_type": "markdown",
      "source": [
        "#### 1. Expand Contraction"
      ],
      "metadata": {
        "id": "GMQiZwjn3iu7"
      }
    },
    {
      "cell_type": "code",
      "source": [
        "# Expand Contraction"
      ],
      "metadata": {
        "id": "PTouz10C3oNN"
      },
      "execution_count": null,
      "outputs": []
    },
    {
      "cell_type": "markdown",
      "source": [
        "#### 2. Lower Casing"
      ],
      "metadata": {
        "id": "WVIkgGqN3qsr"
      }
    },
    {
      "cell_type": "code",
      "source": [
        "# Lower Casing"
      ],
      "metadata": {
        "id": "88JnJ1jN3w7j"
      },
      "execution_count": null,
      "outputs": []
    },
    {
      "cell_type": "markdown",
      "source": [
        "#### 3. Removing Punctuations"
      ],
      "metadata": {
        "id": "XkPnILGE3zoT"
      }
    },
    {
      "cell_type": "code",
      "source": [
        "# Remove Punctuations"
      ],
      "metadata": {
        "id": "vqbBqNaA33c0"
      },
      "execution_count": null,
      "outputs": []
    },
    {
      "cell_type": "markdown",
      "source": [
        "#### 4. Removing URLs & Removing words and digits contain digits."
      ],
      "metadata": {
        "id": "Hlsf0x5436Go"
      }
    },
    {
      "cell_type": "code",
      "source": [
        "# Remove URLs & Remove words and digits contain digits"
      ],
      "metadata": {
        "id": "2sxKgKxu4Ip3"
      },
      "execution_count": null,
      "outputs": []
    },
    {
      "cell_type": "markdown",
      "source": [
        "#### 5. Removing Stopwords & Removing White spaces"
      ],
      "metadata": {
        "id": "mT9DMSJo4nBL"
      }
    },
    {
      "cell_type": "code",
      "source": [
        "# Remove Stopwords"
      ],
      "metadata": {
        "id": "T2LSJh154s8W"
      },
      "execution_count": null,
      "outputs": []
    },
    {
      "cell_type": "code",
      "source": [
        "# Remove White spaces"
      ],
      "metadata": {
        "id": "EgLJGffy4vm0"
      },
      "execution_count": null,
      "outputs": []
    },
    {
      "cell_type": "markdown",
      "source": [
        "#### 6. Rephrase Text"
      ],
      "metadata": {
        "id": "c49ITxTc407N"
      }
    },
    {
      "cell_type": "code",
      "source": [
        "# Rephrase Text"
      ],
      "metadata": {
        "id": "foqY80Qu48N2"
      },
      "execution_count": null,
      "outputs": []
    },
    {
      "cell_type": "markdown",
      "source": [
        "#### 7. Tokenization"
      ],
      "metadata": {
        "id": "OeJFEK0N496M"
      }
    },
    {
      "cell_type": "code",
      "source": [
        "# Tokenization"
      ],
      "metadata": {
        "id": "ijx1rUOS5CUU"
      },
      "execution_count": null,
      "outputs": []
    },
    {
      "cell_type": "markdown",
      "source": [
        "#### 8. Text Normalization"
      ],
      "metadata": {
        "id": "9ExmJH0g5HBk"
      }
    },
    {
      "cell_type": "code",
      "source": [
        "# Normalizing Text (i.e., Stemming, Lemmatization etc.)"
      ],
      "metadata": {
        "id": "AIJ1a-Zc5PY8"
      },
      "execution_count": null,
      "outputs": []
    },
    {
      "cell_type": "markdown",
      "source": [
        "##### Which text normalization technique have you used and why?"
      ],
      "metadata": {
        "id": "cJNqERVU536h"
      }
    },
    {
      "cell_type": "markdown",
      "source": [
        "Answer Here."
      ],
      "metadata": {
        "id": "Z9jKVxE06BC1"
      }
    },
    {
      "cell_type": "markdown",
      "source": [
        "#### 9. Part of speech tagging"
      ],
      "metadata": {
        "id": "k5UmGsbsOxih"
      }
    },
    {
      "cell_type": "code",
      "source": [
        "# POS Taging"
      ],
      "metadata": {
        "id": "btT3ZJBAO6Ik"
      },
      "execution_count": null,
      "outputs": []
    },
    {
      "cell_type": "markdown",
      "source": [
        "#### 10. Text Vectorization"
      ],
      "metadata": {
        "id": "T0VqWOYE6DLQ"
      }
    },
    {
      "cell_type": "code",
      "source": [
        "# Vectorizing Text"
      ],
      "metadata": {
        "id": "yBRtdhth6JDE"
      },
      "execution_count": null,
      "outputs": []
    },
    {
      "cell_type": "markdown",
      "source": [
        "##### Which text vectorization technique have you used and why?"
      ],
      "metadata": {
        "id": "qBMux9mC6MCf"
      }
    },
    {
      "cell_type": "markdown",
      "source": [
        "Answer Here."
      ],
      "metadata": {
        "id": "su2EnbCh6UKQ"
      }
    },
    {
      "cell_type": "markdown",
      "source": [
        "### 4. Feature Manipulation & Selection"
      ],
      "metadata": {
        "id": "-oLEiFgy-5Pf"
      }
    },
    {
      "cell_type": "markdown",
      "source": [
        "#### 1. Feature Manipulation"
      ],
      "metadata": {
        "id": "C74aWNz2AliB"
      }
    },
    {
      "cell_type": "code",
      "source": [
        "# Manipulate Features to minimize feature correlation and create new features\n",
        "\n",
        "df[\"pixel_area\"] = df[\"px_height\"] * df[\"px_width\"]\n",
        "df[\"screen_area\"] = df[\"sc_h\"] * df[\"sc_w\"]"
      ],
      "metadata": {
        "id": "h1qC4yhBApWC"
      },
      "execution_count": null,
      "outputs": []
    },
    {
      "cell_type": "code",
      "source": [
        "df[[\"pixel_area\", \"screen_area\"]]"
      ],
      "metadata": {
        "colab": {
          "base_uri": "https://localhost:8080/",
          "height": 424
        },
        "id": "p596GdkuzhKg",
        "outputId": "91949ebf-d009-46cd-eb12-2bbff5106354"
      },
      "execution_count": null,
      "outputs": [
        {
          "output_type": "execute_result",
          "data": {
            "text/plain": [
              "      pixel_area  screen_area\n",
              "0          15120           63\n",
              "1        1799140           51\n",
              "2        2167308           22\n",
              "3        2171776          128\n",
              "4        1464096           16\n",
              "...          ...          ...\n",
              "1995     2309580           52\n",
              "1996     1797975          110\n",
              "1997     1416576            9\n",
              "1998      225120          180\n",
              "1999      364182           76\n",
              "\n",
              "[2000 rows x 2 columns]"
            ],
            "text/html": [
              "\n",
              "  <div id=\"df-5c1b77f4-12a5-4208-b4ef-443fc08090c5\" class=\"colab-df-container\">\n",
              "    <div>\n",
              "<style scoped>\n",
              "    .dataframe tbody tr th:only-of-type {\n",
              "        vertical-align: middle;\n",
              "    }\n",
              "\n",
              "    .dataframe tbody tr th {\n",
              "        vertical-align: top;\n",
              "    }\n",
              "\n",
              "    .dataframe thead th {\n",
              "        text-align: right;\n",
              "    }\n",
              "</style>\n",
              "<table border=\"1\" class=\"dataframe\">\n",
              "  <thead>\n",
              "    <tr style=\"text-align: right;\">\n",
              "      <th></th>\n",
              "      <th>pixel_area</th>\n",
              "      <th>screen_area</th>\n",
              "    </tr>\n",
              "  </thead>\n",
              "  <tbody>\n",
              "    <tr>\n",
              "      <th>0</th>\n",
              "      <td>15120</td>\n",
              "      <td>63</td>\n",
              "    </tr>\n",
              "    <tr>\n",
              "      <th>1</th>\n",
              "      <td>1799140</td>\n",
              "      <td>51</td>\n",
              "    </tr>\n",
              "    <tr>\n",
              "      <th>2</th>\n",
              "      <td>2167308</td>\n",
              "      <td>22</td>\n",
              "    </tr>\n",
              "    <tr>\n",
              "      <th>3</th>\n",
              "      <td>2171776</td>\n",
              "      <td>128</td>\n",
              "    </tr>\n",
              "    <tr>\n",
              "      <th>4</th>\n",
              "      <td>1464096</td>\n",
              "      <td>16</td>\n",
              "    </tr>\n",
              "    <tr>\n",
              "      <th>...</th>\n",
              "      <td>...</td>\n",
              "      <td>...</td>\n",
              "    </tr>\n",
              "    <tr>\n",
              "      <th>1995</th>\n",
              "      <td>2309580</td>\n",
              "      <td>52</td>\n",
              "    </tr>\n",
              "    <tr>\n",
              "      <th>1996</th>\n",
              "      <td>1797975</td>\n",
              "      <td>110</td>\n",
              "    </tr>\n",
              "    <tr>\n",
              "      <th>1997</th>\n",
              "      <td>1416576</td>\n",
              "      <td>9</td>\n",
              "    </tr>\n",
              "    <tr>\n",
              "      <th>1998</th>\n",
              "      <td>225120</td>\n",
              "      <td>180</td>\n",
              "    </tr>\n",
              "    <tr>\n",
              "      <th>1999</th>\n",
              "      <td>364182</td>\n",
              "      <td>76</td>\n",
              "    </tr>\n",
              "  </tbody>\n",
              "</table>\n",
              "<p>2000 rows × 2 columns</p>\n",
              "</div>\n",
              "    <div class=\"colab-df-buttons\">\n",
              "\n",
              "  <div class=\"colab-df-container\">\n",
              "    <button class=\"colab-df-convert\" onclick=\"convertToInteractive('df-5c1b77f4-12a5-4208-b4ef-443fc08090c5')\"\n",
              "            title=\"Convert this dataframe to an interactive table.\"\n",
              "            style=\"display:none;\">\n",
              "\n",
              "  <svg xmlns=\"http://www.w3.org/2000/svg\" height=\"24px\" viewBox=\"0 -960 960 960\">\n",
              "    <path d=\"M120-120v-720h720v720H120Zm60-500h600v-160H180v160Zm220 220h160v-160H400v160Zm0 220h160v-160H400v160ZM180-400h160v-160H180v160Zm440 0h160v-160H620v160ZM180-180h160v-160H180v160Zm440 0h160v-160H620v160Z\"/>\n",
              "  </svg>\n",
              "    </button>\n",
              "\n",
              "  <style>\n",
              "    .colab-df-container {\n",
              "      display:flex;\n",
              "      gap: 12px;\n",
              "    }\n",
              "\n",
              "    .colab-df-convert {\n",
              "      background-color: #E8F0FE;\n",
              "      border: none;\n",
              "      border-radius: 50%;\n",
              "      cursor: pointer;\n",
              "      display: none;\n",
              "      fill: #1967D2;\n",
              "      height: 32px;\n",
              "      padding: 0 0 0 0;\n",
              "      width: 32px;\n",
              "    }\n",
              "\n",
              "    .colab-df-convert:hover {\n",
              "      background-color: #E2EBFA;\n",
              "      box-shadow: 0px 1px 2px rgba(60, 64, 67, 0.3), 0px 1px 3px 1px rgba(60, 64, 67, 0.15);\n",
              "      fill: #174EA6;\n",
              "    }\n",
              "\n",
              "    .colab-df-buttons div {\n",
              "      margin-bottom: 4px;\n",
              "    }\n",
              "\n",
              "    [theme=dark] .colab-df-convert {\n",
              "      background-color: #3B4455;\n",
              "      fill: #D2E3FC;\n",
              "    }\n",
              "\n",
              "    [theme=dark] .colab-df-convert:hover {\n",
              "      background-color: #434B5C;\n",
              "      box-shadow: 0px 1px 3px 1px rgba(0, 0, 0, 0.15);\n",
              "      filter: drop-shadow(0px 1px 2px rgba(0, 0, 0, 0.3));\n",
              "      fill: #FFFFFF;\n",
              "    }\n",
              "  </style>\n",
              "\n",
              "    <script>\n",
              "      const buttonEl =\n",
              "        document.querySelector('#df-5c1b77f4-12a5-4208-b4ef-443fc08090c5 button.colab-df-convert');\n",
              "      buttonEl.style.display =\n",
              "        google.colab.kernel.accessAllowed ? 'block' : 'none';\n",
              "\n",
              "      async function convertToInteractive(key) {\n",
              "        const element = document.querySelector('#df-5c1b77f4-12a5-4208-b4ef-443fc08090c5');\n",
              "        const dataTable =\n",
              "          await google.colab.kernel.invokeFunction('convertToInteractive',\n",
              "                                                    [key], {});\n",
              "        if (!dataTable) return;\n",
              "\n",
              "        const docLinkHtml = 'Like what you see? Visit the ' +\n",
              "          '<a target=\"_blank\" href=https://colab.research.google.com/notebooks/data_table.ipynb>data table notebook</a>'\n",
              "          + ' to learn more about interactive tables.';\n",
              "        element.innerHTML = '';\n",
              "        dataTable['output_type'] = 'display_data';\n",
              "        await google.colab.output.renderOutput(dataTable, element);\n",
              "        const docLink = document.createElement('div');\n",
              "        docLink.innerHTML = docLinkHtml;\n",
              "        element.appendChild(docLink);\n",
              "      }\n",
              "    </script>\n",
              "  </div>\n",
              "\n",
              "\n",
              "    <div id=\"df-907b542e-f8c7-4b2d-8c86-ffa51b2df4c0\">\n",
              "      <button class=\"colab-df-quickchart\" onclick=\"quickchart('df-907b542e-f8c7-4b2d-8c86-ffa51b2df4c0')\"\n",
              "                title=\"Suggest charts\"\n",
              "                style=\"display:none;\">\n",
              "\n",
              "<svg xmlns=\"http://www.w3.org/2000/svg\" height=\"24px\"viewBox=\"0 0 24 24\"\n",
              "     width=\"24px\">\n",
              "    <g>\n",
              "        <path d=\"M19 3H5c-1.1 0-2 .9-2 2v14c0 1.1.9 2 2 2h14c1.1 0 2-.9 2-2V5c0-1.1-.9-2-2-2zM9 17H7v-7h2v7zm4 0h-2V7h2v10zm4 0h-2v-4h2v4z\"/>\n",
              "    </g>\n",
              "</svg>\n",
              "      </button>\n",
              "\n",
              "<style>\n",
              "  .colab-df-quickchart {\n",
              "      --bg-color: #E8F0FE;\n",
              "      --fill-color: #1967D2;\n",
              "      --hover-bg-color: #E2EBFA;\n",
              "      --hover-fill-color: #174EA6;\n",
              "      --disabled-fill-color: #AAA;\n",
              "      --disabled-bg-color: #DDD;\n",
              "  }\n",
              "\n",
              "  [theme=dark] .colab-df-quickchart {\n",
              "      --bg-color: #3B4455;\n",
              "      --fill-color: #D2E3FC;\n",
              "      --hover-bg-color: #434B5C;\n",
              "      --hover-fill-color: #FFFFFF;\n",
              "      --disabled-bg-color: #3B4455;\n",
              "      --disabled-fill-color: #666;\n",
              "  }\n",
              "\n",
              "  .colab-df-quickchart {\n",
              "    background-color: var(--bg-color);\n",
              "    border: none;\n",
              "    border-radius: 50%;\n",
              "    cursor: pointer;\n",
              "    display: none;\n",
              "    fill: var(--fill-color);\n",
              "    height: 32px;\n",
              "    padding: 0;\n",
              "    width: 32px;\n",
              "  }\n",
              "\n",
              "  .colab-df-quickchart:hover {\n",
              "    background-color: var(--hover-bg-color);\n",
              "    box-shadow: 0 1px 2px rgba(60, 64, 67, 0.3), 0 1px 3px 1px rgba(60, 64, 67, 0.15);\n",
              "    fill: var(--button-hover-fill-color);\n",
              "  }\n",
              "\n",
              "  .colab-df-quickchart-complete:disabled,\n",
              "  .colab-df-quickchart-complete:disabled:hover {\n",
              "    background-color: var(--disabled-bg-color);\n",
              "    fill: var(--disabled-fill-color);\n",
              "    box-shadow: none;\n",
              "  }\n",
              "\n",
              "  .colab-df-spinner {\n",
              "    border: 2px solid var(--fill-color);\n",
              "    border-color: transparent;\n",
              "    border-bottom-color: var(--fill-color);\n",
              "    animation:\n",
              "      spin 1s steps(1) infinite;\n",
              "  }\n",
              "\n",
              "  @keyframes spin {\n",
              "    0% {\n",
              "      border-color: transparent;\n",
              "      border-bottom-color: var(--fill-color);\n",
              "      border-left-color: var(--fill-color);\n",
              "    }\n",
              "    20% {\n",
              "      border-color: transparent;\n",
              "      border-left-color: var(--fill-color);\n",
              "      border-top-color: var(--fill-color);\n",
              "    }\n",
              "    30% {\n",
              "      border-color: transparent;\n",
              "      border-left-color: var(--fill-color);\n",
              "      border-top-color: var(--fill-color);\n",
              "      border-right-color: var(--fill-color);\n",
              "    }\n",
              "    40% {\n",
              "      border-color: transparent;\n",
              "      border-right-color: var(--fill-color);\n",
              "      border-top-color: var(--fill-color);\n",
              "    }\n",
              "    60% {\n",
              "      border-color: transparent;\n",
              "      border-right-color: var(--fill-color);\n",
              "    }\n",
              "    80% {\n",
              "      border-color: transparent;\n",
              "      border-right-color: var(--fill-color);\n",
              "      border-bottom-color: var(--fill-color);\n",
              "    }\n",
              "    90% {\n",
              "      border-color: transparent;\n",
              "      border-bottom-color: var(--fill-color);\n",
              "    }\n",
              "  }\n",
              "</style>\n",
              "\n",
              "      <script>\n",
              "        async function quickchart(key) {\n",
              "          const quickchartButtonEl =\n",
              "            document.querySelector('#' + key + ' button');\n",
              "          quickchartButtonEl.disabled = true;  // To prevent multiple clicks.\n",
              "          quickchartButtonEl.classList.add('colab-df-spinner');\n",
              "          try {\n",
              "            const charts = await google.colab.kernel.invokeFunction(\n",
              "                'suggestCharts', [key], {});\n",
              "          } catch (error) {\n",
              "            console.error('Error during call to suggestCharts:', error);\n",
              "          }\n",
              "          quickchartButtonEl.classList.remove('colab-df-spinner');\n",
              "          quickchartButtonEl.classList.add('colab-df-quickchart-complete');\n",
              "        }\n",
              "        (() => {\n",
              "          let quickchartButtonEl =\n",
              "            document.querySelector('#df-907b542e-f8c7-4b2d-8c86-ffa51b2df4c0 button');\n",
              "          quickchartButtonEl.style.display =\n",
              "            google.colab.kernel.accessAllowed ? 'block' : 'none';\n",
              "        })();\n",
              "      </script>\n",
              "    </div>\n",
              "\n",
              "    </div>\n",
              "  </div>\n"
            ],
            "application/vnd.google.colaboratory.intrinsic+json": {
              "type": "dataframe",
              "summary": "{\n  \"name\": \"df[[\\\"pixel_area\\\", \\\"screen_area\\\"]]\",\n  \"rows\": 2000,\n  \"fields\": [\n    {\n      \"column\": \"pixel_area\",\n      \"properties\": {\n        \"dtype\": \"number\",\n        \"std\": 829762,\n        \"min\": 0,\n        \"max\": 3886306,\n        \"num_unique_values\": 1993,\n        \"samples\": [\n          381568,\n          838040,\n          284130\n        ],\n        \"semantic_type\": \"\",\n        \"description\": \"\"\n      }\n    },\n    {\n      \"column\": \"screen_area\",\n      \"properties\": {\n        \"dtype\": \"number\",\n        \"std\": 76,\n        \"min\": 0,\n        \"max\": 342,\n        \"num_unique_values\": 127,\n        \"samples\": [\n          40,\n          182,\n          130\n        ],\n        \"semantic_type\": \"\",\n        \"description\": \"\"\n      }\n    }\n  ]\n}"
            }
          },
          "metadata": {},
          "execution_count": 129
        }
      ]
    },
    {
      "cell_type": "markdown",
      "source": [
        "#### 2. Feature Selection"
      ],
      "metadata": {
        "id": "2DejudWSA-a0"
      }
    },
    {
      "cell_type": "code",
      "source": [
        "# Select your features wisely to avoid overfitting\n",
        "df[[\"pixel_area\", \"screen_area\"]]"
      ],
      "metadata": {
        "id": "YLhe8UmaBCEE",
        "colab": {
          "base_uri": "https://localhost:8080/",
          "height": 424
        },
        "outputId": "2cf32e2d-9837-4d15-f288-48546c5c8282"
      },
      "execution_count": null,
      "outputs": [
        {
          "output_type": "execute_result",
          "data": {
            "text/plain": [
              "      pixel_area  screen_area\n",
              "0          15120           63\n",
              "1        1799140           51\n",
              "2        2167308           22\n",
              "3        2171776          128\n",
              "4        1464096           16\n",
              "...          ...          ...\n",
              "1995     2309580           52\n",
              "1996     1797975          110\n",
              "1997     1416576            9\n",
              "1998      225120          180\n",
              "1999      364182           76\n",
              "\n",
              "[2000 rows x 2 columns]"
            ],
            "text/html": [
              "\n",
              "  <div id=\"df-15c2f333-c0c5-4183-90b6-07d21e0aad28\" class=\"colab-df-container\">\n",
              "    <div>\n",
              "<style scoped>\n",
              "    .dataframe tbody tr th:only-of-type {\n",
              "        vertical-align: middle;\n",
              "    }\n",
              "\n",
              "    .dataframe tbody tr th {\n",
              "        vertical-align: top;\n",
              "    }\n",
              "\n",
              "    .dataframe thead th {\n",
              "        text-align: right;\n",
              "    }\n",
              "</style>\n",
              "<table border=\"1\" class=\"dataframe\">\n",
              "  <thead>\n",
              "    <tr style=\"text-align: right;\">\n",
              "      <th></th>\n",
              "      <th>pixel_area</th>\n",
              "      <th>screen_area</th>\n",
              "    </tr>\n",
              "  </thead>\n",
              "  <tbody>\n",
              "    <tr>\n",
              "      <th>0</th>\n",
              "      <td>15120</td>\n",
              "      <td>63</td>\n",
              "    </tr>\n",
              "    <tr>\n",
              "      <th>1</th>\n",
              "      <td>1799140</td>\n",
              "      <td>51</td>\n",
              "    </tr>\n",
              "    <tr>\n",
              "      <th>2</th>\n",
              "      <td>2167308</td>\n",
              "      <td>22</td>\n",
              "    </tr>\n",
              "    <tr>\n",
              "      <th>3</th>\n",
              "      <td>2171776</td>\n",
              "      <td>128</td>\n",
              "    </tr>\n",
              "    <tr>\n",
              "      <th>4</th>\n",
              "      <td>1464096</td>\n",
              "      <td>16</td>\n",
              "    </tr>\n",
              "    <tr>\n",
              "      <th>...</th>\n",
              "      <td>...</td>\n",
              "      <td>...</td>\n",
              "    </tr>\n",
              "    <tr>\n",
              "      <th>1995</th>\n",
              "      <td>2309580</td>\n",
              "      <td>52</td>\n",
              "    </tr>\n",
              "    <tr>\n",
              "      <th>1996</th>\n",
              "      <td>1797975</td>\n",
              "      <td>110</td>\n",
              "    </tr>\n",
              "    <tr>\n",
              "      <th>1997</th>\n",
              "      <td>1416576</td>\n",
              "      <td>9</td>\n",
              "    </tr>\n",
              "    <tr>\n",
              "      <th>1998</th>\n",
              "      <td>225120</td>\n",
              "      <td>180</td>\n",
              "    </tr>\n",
              "    <tr>\n",
              "      <th>1999</th>\n",
              "      <td>364182</td>\n",
              "      <td>76</td>\n",
              "    </tr>\n",
              "  </tbody>\n",
              "</table>\n",
              "<p>2000 rows × 2 columns</p>\n",
              "</div>\n",
              "    <div class=\"colab-df-buttons\">\n",
              "\n",
              "  <div class=\"colab-df-container\">\n",
              "    <button class=\"colab-df-convert\" onclick=\"convertToInteractive('df-15c2f333-c0c5-4183-90b6-07d21e0aad28')\"\n",
              "            title=\"Convert this dataframe to an interactive table.\"\n",
              "            style=\"display:none;\">\n",
              "\n",
              "  <svg xmlns=\"http://www.w3.org/2000/svg\" height=\"24px\" viewBox=\"0 -960 960 960\">\n",
              "    <path d=\"M120-120v-720h720v720H120Zm60-500h600v-160H180v160Zm220 220h160v-160H400v160Zm0 220h160v-160H400v160ZM180-400h160v-160H180v160Zm440 0h160v-160H620v160ZM180-180h160v-160H180v160Zm440 0h160v-160H620v160Z\"/>\n",
              "  </svg>\n",
              "    </button>\n",
              "\n",
              "  <style>\n",
              "    .colab-df-container {\n",
              "      display:flex;\n",
              "      gap: 12px;\n",
              "    }\n",
              "\n",
              "    .colab-df-convert {\n",
              "      background-color: #E8F0FE;\n",
              "      border: none;\n",
              "      border-radius: 50%;\n",
              "      cursor: pointer;\n",
              "      display: none;\n",
              "      fill: #1967D2;\n",
              "      height: 32px;\n",
              "      padding: 0 0 0 0;\n",
              "      width: 32px;\n",
              "    }\n",
              "\n",
              "    .colab-df-convert:hover {\n",
              "      background-color: #E2EBFA;\n",
              "      box-shadow: 0px 1px 2px rgba(60, 64, 67, 0.3), 0px 1px 3px 1px rgba(60, 64, 67, 0.15);\n",
              "      fill: #174EA6;\n",
              "    }\n",
              "\n",
              "    .colab-df-buttons div {\n",
              "      margin-bottom: 4px;\n",
              "    }\n",
              "\n",
              "    [theme=dark] .colab-df-convert {\n",
              "      background-color: #3B4455;\n",
              "      fill: #D2E3FC;\n",
              "    }\n",
              "\n",
              "    [theme=dark] .colab-df-convert:hover {\n",
              "      background-color: #434B5C;\n",
              "      box-shadow: 0px 1px 3px 1px rgba(0, 0, 0, 0.15);\n",
              "      filter: drop-shadow(0px 1px 2px rgba(0, 0, 0, 0.3));\n",
              "      fill: #FFFFFF;\n",
              "    }\n",
              "  </style>\n",
              "\n",
              "    <script>\n",
              "      const buttonEl =\n",
              "        document.querySelector('#df-15c2f333-c0c5-4183-90b6-07d21e0aad28 button.colab-df-convert');\n",
              "      buttonEl.style.display =\n",
              "        google.colab.kernel.accessAllowed ? 'block' : 'none';\n",
              "\n",
              "      async function convertToInteractive(key) {\n",
              "        const element = document.querySelector('#df-15c2f333-c0c5-4183-90b6-07d21e0aad28');\n",
              "        const dataTable =\n",
              "          await google.colab.kernel.invokeFunction('convertToInteractive',\n",
              "                                                    [key], {});\n",
              "        if (!dataTable) return;\n",
              "\n",
              "        const docLinkHtml = 'Like what you see? Visit the ' +\n",
              "          '<a target=\"_blank\" href=https://colab.research.google.com/notebooks/data_table.ipynb>data table notebook</a>'\n",
              "          + ' to learn more about interactive tables.';\n",
              "        element.innerHTML = '';\n",
              "        dataTable['output_type'] = 'display_data';\n",
              "        await google.colab.output.renderOutput(dataTable, element);\n",
              "        const docLink = document.createElement('div');\n",
              "        docLink.innerHTML = docLinkHtml;\n",
              "        element.appendChild(docLink);\n",
              "      }\n",
              "    </script>\n",
              "  </div>\n",
              "\n",
              "\n",
              "    <div id=\"df-15fb0cca-afac-45cb-aeaf-6a2ea8de535a\">\n",
              "      <button class=\"colab-df-quickchart\" onclick=\"quickchart('df-15fb0cca-afac-45cb-aeaf-6a2ea8de535a')\"\n",
              "                title=\"Suggest charts\"\n",
              "                style=\"display:none;\">\n",
              "\n",
              "<svg xmlns=\"http://www.w3.org/2000/svg\" height=\"24px\"viewBox=\"0 0 24 24\"\n",
              "     width=\"24px\">\n",
              "    <g>\n",
              "        <path d=\"M19 3H5c-1.1 0-2 .9-2 2v14c0 1.1.9 2 2 2h14c1.1 0 2-.9 2-2V5c0-1.1-.9-2-2-2zM9 17H7v-7h2v7zm4 0h-2V7h2v10zm4 0h-2v-4h2v4z\"/>\n",
              "    </g>\n",
              "</svg>\n",
              "      </button>\n",
              "\n",
              "<style>\n",
              "  .colab-df-quickchart {\n",
              "      --bg-color: #E8F0FE;\n",
              "      --fill-color: #1967D2;\n",
              "      --hover-bg-color: #E2EBFA;\n",
              "      --hover-fill-color: #174EA6;\n",
              "      --disabled-fill-color: #AAA;\n",
              "      --disabled-bg-color: #DDD;\n",
              "  }\n",
              "\n",
              "  [theme=dark] .colab-df-quickchart {\n",
              "      --bg-color: #3B4455;\n",
              "      --fill-color: #D2E3FC;\n",
              "      --hover-bg-color: #434B5C;\n",
              "      --hover-fill-color: #FFFFFF;\n",
              "      --disabled-bg-color: #3B4455;\n",
              "      --disabled-fill-color: #666;\n",
              "  }\n",
              "\n",
              "  .colab-df-quickchart {\n",
              "    background-color: var(--bg-color);\n",
              "    border: none;\n",
              "    border-radius: 50%;\n",
              "    cursor: pointer;\n",
              "    display: none;\n",
              "    fill: var(--fill-color);\n",
              "    height: 32px;\n",
              "    padding: 0;\n",
              "    width: 32px;\n",
              "  }\n",
              "\n",
              "  .colab-df-quickchart:hover {\n",
              "    background-color: var(--hover-bg-color);\n",
              "    box-shadow: 0 1px 2px rgba(60, 64, 67, 0.3), 0 1px 3px 1px rgba(60, 64, 67, 0.15);\n",
              "    fill: var(--button-hover-fill-color);\n",
              "  }\n",
              "\n",
              "  .colab-df-quickchart-complete:disabled,\n",
              "  .colab-df-quickchart-complete:disabled:hover {\n",
              "    background-color: var(--disabled-bg-color);\n",
              "    fill: var(--disabled-fill-color);\n",
              "    box-shadow: none;\n",
              "  }\n",
              "\n",
              "  .colab-df-spinner {\n",
              "    border: 2px solid var(--fill-color);\n",
              "    border-color: transparent;\n",
              "    border-bottom-color: var(--fill-color);\n",
              "    animation:\n",
              "      spin 1s steps(1) infinite;\n",
              "  }\n",
              "\n",
              "  @keyframes spin {\n",
              "    0% {\n",
              "      border-color: transparent;\n",
              "      border-bottom-color: var(--fill-color);\n",
              "      border-left-color: var(--fill-color);\n",
              "    }\n",
              "    20% {\n",
              "      border-color: transparent;\n",
              "      border-left-color: var(--fill-color);\n",
              "      border-top-color: var(--fill-color);\n",
              "    }\n",
              "    30% {\n",
              "      border-color: transparent;\n",
              "      border-left-color: var(--fill-color);\n",
              "      border-top-color: var(--fill-color);\n",
              "      border-right-color: var(--fill-color);\n",
              "    }\n",
              "    40% {\n",
              "      border-color: transparent;\n",
              "      border-right-color: var(--fill-color);\n",
              "      border-top-color: var(--fill-color);\n",
              "    }\n",
              "    60% {\n",
              "      border-color: transparent;\n",
              "      border-right-color: var(--fill-color);\n",
              "    }\n",
              "    80% {\n",
              "      border-color: transparent;\n",
              "      border-right-color: var(--fill-color);\n",
              "      border-bottom-color: var(--fill-color);\n",
              "    }\n",
              "    90% {\n",
              "      border-color: transparent;\n",
              "      border-bottom-color: var(--fill-color);\n",
              "    }\n",
              "  }\n",
              "</style>\n",
              "\n",
              "      <script>\n",
              "        async function quickchart(key) {\n",
              "          const quickchartButtonEl =\n",
              "            document.querySelector('#' + key + ' button');\n",
              "          quickchartButtonEl.disabled = true;  // To prevent multiple clicks.\n",
              "          quickchartButtonEl.classList.add('colab-df-spinner');\n",
              "          try {\n",
              "            const charts = await google.colab.kernel.invokeFunction(\n",
              "                'suggestCharts', [key], {});\n",
              "          } catch (error) {\n",
              "            console.error('Error during call to suggestCharts:', error);\n",
              "          }\n",
              "          quickchartButtonEl.classList.remove('colab-df-spinner');\n",
              "          quickchartButtonEl.classList.add('colab-df-quickchart-complete');\n",
              "        }\n",
              "        (() => {\n",
              "          let quickchartButtonEl =\n",
              "            document.querySelector('#df-15fb0cca-afac-45cb-aeaf-6a2ea8de535a button');\n",
              "          quickchartButtonEl.style.display =\n",
              "            google.colab.kernel.accessAllowed ? 'block' : 'none';\n",
              "        })();\n",
              "      </script>\n",
              "    </div>\n",
              "\n",
              "    </div>\n",
              "  </div>\n"
            ],
            "application/vnd.google.colaboratory.intrinsic+json": {
              "type": "dataframe",
              "summary": "{\n  \"name\": \"df[[\\\"pixel_area\\\", \\\"screen_area\\\"]]\",\n  \"rows\": 2000,\n  \"fields\": [\n    {\n      \"column\": \"pixel_area\",\n      \"properties\": {\n        \"dtype\": \"number\",\n        \"std\": 829762,\n        \"min\": 0,\n        \"max\": 3886306,\n        \"num_unique_values\": 1993,\n        \"samples\": [\n          381568,\n          838040,\n          284130\n        ],\n        \"semantic_type\": \"\",\n        \"description\": \"\"\n      }\n    },\n    {\n      \"column\": \"screen_area\",\n      \"properties\": {\n        \"dtype\": \"number\",\n        \"std\": 76,\n        \"min\": 0,\n        \"max\": 342,\n        \"num_unique_values\": 127,\n        \"samples\": [\n          40,\n          182,\n          130\n        ],\n        \"semantic_type\": \"\",\n        \"description\": \"\"\n      }\n    }\n  ]\n}"
            }
          },
          "metadata": {},
          "execution_count": 88
        }
      ]
    },
    {
      "cell_type": "markdown",
      "source": [
        "##### What all feature selection methods have you used  and why?"
      ],
      "metadata": {
        "id": "pEMng2IbBLp7"
      }
    },
    {
      "cell_type": "markdown",
      "source": [
        "Answer Here."
      ],
      "metadata": {
        "id": "rb2Lh6Z8BgGs"
      }
    },
    {
      "cell_type": "markdown",
      "source": [
        "##### Which all features you found important and why?"
      ],
      "metadata": {
        "id": "rAdphbQ9Bhjc"
      }
    },
    {
      "cell_type": "markdown",
      "source": [
        "Answer Here."
      ],
      "metadata": {
        "id": "fGgaEstsBnaf"
      }
    },
    {
      "cell_type": "markdown",
      "source": [
        "### 5. Data Transformation"
      ],
      "metadata": {
        "id": "TNVZ9zx19K6k"
      }
    },
    {
      "cell_type": "markdown",
      "source": [
        "#### Do you think that your data needs to be transformed? If yes, which transformation have you used. Explain Why?"
      ],
      "metadata": {
        "id": "nqoHp30x9hH9"
      }
    },
    {
      "cell_type": "code",
      "source": [
        "# Transform Your data\\\n",
        "df.head(15)"
      ],
      "metadata": {
        "id": "I6quWQ1T9rtH",
        "colab": {
          "base_uri": "https://localhost:8080/",
          "height": 569
        },
        "outputId": "0c02ced1-2dd5-4290-c0c1-e29693b11e4a"
      },
      "execution_count": null,
      "outputs": [
        {
          "output_type": "execute_result",
          "data": {
            "text/plain": [
              "    battery_power  blue  clock_speed  dual_sim  fc  four_g  int_memory  m_dep  \\\n",
              "0             842     0          2.2         0   1       0           7    0.6   \n",
              "1            1021     1          0.5         1   0       1          53    0.7   \n",
              "2             563     1          0.5         1   2       1          41    0.9   \n",
              "3             615     1          2.5         0   0       0          10    0.8   \n",
              "4            1821     1          1.2         0  13       1          44    0.6   \n",
              "5            1859     0          0.5         1   3       0          22    0.7   \n",
              "6            1821     0          1.7         0   4       1          10    0.8   \n",
              "7            1954     0          0.5         1   0       0          24    0.8   \n",
              "8            1445     1          0.5         0   0       0          53    0.7   \n",
              "9             509     1          0.6         1   2       1           9    0.1   \n",
              "10            769     1          2.9         1   0       0           9    0.1   \n",
              "11           1520     1          2.2         0   5       1          33    0.5   \n",
              "12           1815     0          2.8         0   2       0          33    0.6   \n",
              "13            803     1          2.1         0   7       0          17    1.0   \n",
              "14           1866     0          0.5         0  13       1          52    0.7   \n",
              "\n",
              "    mobile_wt  n_cores  ...  m_dep_category  n_cores_category  pc_category  \\\n",
              "0         188        2  ...               2                 0            0   \n",
              "1         136        3  ...               2                 0            1   \n",
              "2         145        5  ...               3                 2            1   \n",
              "3         131        6  ...               2                 2            1   \n",
              "4         141        2  ...               2                 0            2   \n",
              "5         164        1  ...               2                 0            1   \n",
              "6         139        8  ...               2                 3            1   \n",
              "7         187        4  ...               2                 1            0   \n",
              "8         174        7  ...               2                 2            2   \n",
              "9          93        5  ...               0                 2            2   \n",
              "10        182        5  ...               0                 2            0   \n",
              "11        177        8  ...               1                 3            3   \n",
              "12        159        4  ...               2                 1            3   \n",
              "13        198        4  ...               3                 1            2   \n",
              "14        185        1  ...               2                 0            3   \n",
              "\n",
              "    px_height_category  px_width_category  sc_h_category  sc_w_category  \\\n",
              "0                    0                  0              0              2   \n",
              "1                    2                  3              3              1   \n",
              "2                    3                  3              1              0   \n",
              "3                    3                  3              2              2   \n",
              "4                    3                  1              0              0   \n",
              "5                    3                  3              3              0   \n",
              "6                    1                  1              2              2   \n",
              "7                    1                  1              2              1   \n",
              "8                    1                  0              3              0   \n",
              "9                    3                  1              3              3   \n",
              "10                   0                  0              0              0   \n",
              "11                   0                  1              2              2   \n",
              "12                   2                  0              3              0   \n",
              "13                   1                  2              0              0   \n",
              "14                   1                  0              2              2   \n",
              "\n",
              "    talk_time_category  pixel_area_category  screen_area_category  \n",
              "0                    3                    0                     2  \n",
              "1                    1                    3                     1  \n",
              "2                    1                    3                     1  \n",
              "3                    1                    3                     3  \n",
              "4                    2                    3                     0  \n",
              "5                    1                    3                     0  \n",
              "6                    3                    1                     2  \n",
              "7                    0                    1                     1  \n",
              "8                    3                    1                     0  \n",
              "9                    2                    3                     3  \n",
              "10                   1                    0                     0  \n",
              "11                   2                    0                     3  \n",
              "12                   0                    1                     0  \n",
              "13                   0                    1                     0  \n",
              "14                   0                    0                     3  \n",
              "\n",
              "[15 rows x 38 columns]"
            ],
            "text/html": [
              "\n",
              "  <div id=\"df-5f15538e-5f47-464f-80bc-2df652a4ea35\" class=\"colab-df-container\">\n",
              "    <div>\n",
              "<style scoped>\n",
              "    .dataframe tbody tr th:only-of-type {\n",
              "        vertical-align: middle;\n",
              "    }\n",
              "\n",
              "    .dataframe tbody tr th {\n",
              "        vertical-align: top;\n",
              "    }\n",
              "\n",
              "    .dataframe thead th {\n",
              "        text-align: right;\n",
              "    }\n",
              "</style>\n",
              "<table border=\"1\" class=\"dataframe\">\n",
              "  <thead>\n",
              "    <tr style=\"text-align: right;\">\n",
              "      <th></th>\n",
              "      <th>battery_power</th>\n",
              "      <th>blue</th>\n",
              "      <th>clock_speed</th>\n",
              "      <th>dual_sim</th>\n",
              "      <th>fc</th>\n",
              "      <th>four_g</th>\n",
              "      <th>int_memory</th>\n",
              "      <th>m_dep</th>\n",
              "      <th>mobile_wt</th>\n",
              "      <th>n_cores</th>\n",
              "      <th>...</th>\n",
              "      <th>m_dep_category</th>\n",
              "      <th>n_cores_category</th>\n",
              "      <th>pc_category</th>\n",
              "      <th>px_height_category</th>\n",
              "      <th>px_width_category</th>\n",
              "      <th>sc_h_category</th>\n",
              "      <th>sc_w_category</th>\n",
              "      <th>talk_time_category</th>\n",
              "      <th>pixel_area_category</th>\n",
              "      <th>screen_area_category</th>\n",
              "    </tr>\n",
              "  </thead>\n",
              "  <tbody>\n",
              "    <tr>\n",
              "      <th>0</th>\n",
              "      <td>842</td>\n",
              "      <td>0</td>\n",
              "      <td>2.2</td>\n",
              "      <td>0</td>\n",
              "      <td>1</td>\n",
              "      <td>0</td>\n",
              "      <td>7</td>\n",
              "      <td>0.6</td>\n",
              "      <td>188</td>\n",
              "      <td>2</td>\n",
              "      <td>...</td>\n",
              "      <td>2</td>\n",
              "      <td>0</td>\n",
              "      <td>0</td>\n",
              "      <td>0</td>\n",
              "      <td>0</td>\n",
              "      <td>0</td>\n",
              "      <td>2</td>\n",
              "      <td>3</td>\n",
              "      <td>0</td>\n",
              "      <td>2</td>\n",
              "    </tr>\n",
              "    <tr>\n",
              "      <th>1</th>\n",
              "      <td>1021</td>\n",
              "      <td>1</td>\n",
              "      <td>0.5</td>\n",
              "      <td>1</td>\n",
              "      <td>0</td>\n",
              "      <td>1</td>\n",
              "      <td>53</td>\n",
              "      <td>0.7</td>\n",
              "      <td>136</td>\n",
              "      <td>3</td>\n",
              "      <td>...</td>\n",
              "      <td>2</td>\n",
              "      <td>0</td>\n",
              "      <td>1</td>\n",
              "      <td>2</td>\n",
              "      <td>3</td>\n",
              "      <td>3</td>\n",
              "      <td>1</td>\n",
              "      <td>1</td>\n",
              "      <td>3</td>\n",
              "      <td>1</td>\n",
              "    </tr>\n",
              "    <tr>\n",
              "      <th>2</th>\n",
              "      <td>563</td>\n",
              "      <td>1</td>\n",
              "      <td>0.5</td>\n",
              "      <td>1</td>\n",
              "      <td>2</td>\n",
              "      <td>1</td>\n",
              "      <td>41</td>\n",
              "      <td>0.9</td>\n",
              "      <td>145</td>\n",
              "      <td>5</td>\n",
              "      <td>...</td>\n",
              "      <td>3</td>\n",
              "      <td>2</td>\n",
              "      <td>1</td>\n",
              "      <td>3</td>\n",
              "      <td>3</td>\n",
              "      <td>1</td>\n",
              "      <td>0</td>\n",
              "      <td>1</td>\n",
              "      <td>3</td>\n",
              "      <td>1</td>\n",
              "    </tr>\n",
              "    <tr>\n",
              "      <th>3</th>\n",
              "      <td>615</td>\n",
              "      <td>1</td>\n",
              "      <td>2.5</td>\n",
              "      <td>0</td>\n",
              "      <td>0</td>\n",
              "      <td>0</td>\n",
              "      <td>10</td>\n",
              "      <td>0.8</td>\n",
              "      <td>131</td>\n",
              "      <td>6</td>\n",
              "      <td>...</td>\n",
              "      <td>2</td>\n",
              "      <td>2</td>\n",
              "      <td>1</td>\n",
              "      <td>3</td>\n",
              "      <td>3</td>\n",
              "      <td>2</td>\n",
              "      <td>2</td>\n",
              "      <td>1</td>\n",
              "      <td>3</td>\n",
              "      <td>3</td>\n",
              "    </tr>\n",
              "    <tr>\n",
              "      <th>4</th>\n",
              "      <td>1821</td>\n",
              "      <td>1</td>\n",
              "      <td>1.2</td>\n",
              "      <td>0</td>\n",
              "      <td>13</td>\n",
              "      <td>1</td>\n",
              "      <td>44</td>\n",
              "      <td>0.6</td>\n",
              "      <td>141</td>\n",
              "      <td>2</td>\n",
              "      <td>...</td>\n",
              "      <td>2</td>\n",
              "      <td>0</td>\n",
              "      <td>2</td>\n",
              "      <td>3</td>\n",
              "      <td>1</td>\n",
              "      <td>0</td>\n",
              "      <td>0</td>\n",
              "      <td>2</td>\n",
              "      <td>3</td>\n",
              "      <td>0</td>\n",
              "    </tr>\n",
              "    <tr>\n",
              "      <th>5</th>\n",
              "      <td>1859</td>\n",
              "      <td>0</td>\n",
              "      <td>0.5</td>\n",
              "      <td>1</td>\n",
              "      <td>3</td>\n",
              "      <td>0</td>\n",
              "      <td>22</td>\n",
              "      <td>0.7</td>\n",
              "      <td>164</td>\n",
              "      <td>1</td>\n",
              "      <td>...</td>\n",
              "      <td>2</td>\n",
              "      <td>0</td>\n",
              "      <td>1</td>\n",
              "      <td>3</td>\n",
              "      <td>3</td>\n",
              "      <td>3</td>\n",
              "      <td>0</td>\n",
              "      <td>1</td>\n",
              "      <td>3</td>\n",
              "      <td>0</td>\n",
              "    </tr>\n",
              "    <tr>\n",
              "      <th>6</th>\n",
              "      <td>1821</td>\n",
              "      <td>0</td>\n",
              "      <td>1.7</td>\n",
              "      <td>0</td>\n",
              "      <td>4</td>\n",
              "      <td>1</td>\n",
              "      <td>10</td>\n",
              "      <td>0.8</td>\n",
              "      <td>139</td>\n",
              "      <td>8</td>\n",
              "      <td>...</td>\n",
              "      <td>2</td>\n",
              "      <td>3</td>\n",
              "      <td>1</td>\n",
              "      <td>1</td>\n",
              "      <td>1</td>\n",
              "      <td>2</td>\n",
              "      <td>2</td>\n",
              "      <td>3</td>\n",
              "      <td>1</td>\n",
              "      <td>2</td>\n",
              "    </tr>\n",
              "    <tr>\n",
              "      <th>7</th>\n",
              "      <td>1954</td>\n",
              "      <td>0</td>\n",
              "      <td>0.5</td>\n",
              "      <td>1</td>\n",
              "      <td>0</td>\n",
              "      <td>0</td>\n",
              "      <td>24</td>\n",
              "      <td>0.8</td>\n",
              "      <td>187</td>\n",
              "      <td>4</td>\n",
              "      <td>...</td>\n",
              "      <td>2</td>\n",
              "      <td>1</td>\n",
              "      <td>0</td>\n",
              "      <td>1</td>\n",
              "      <td>1</td>\n",
              "      <td>2</td>\n",
              "      <td>1</td>\n",
              "      <td>0</td>\n",
              "      <td>1</td>\n",
              "      <td>1</td>\n",
              "    </tr>\n",
              "    <tr>\n",
              "      <th>8</th>\n",
              "      <td>1445</td>\n",
              "      <td>1</td>\n",
              "      <td>0.5</td>\n",
              "      <td>0</td>\n",
              "      <td>0</td>\n",
              "      <td>0</td>\n",
              "      <td>53</td>\n",
              "      <td>0.7</td>\n",
              "      <td>174</td>\n",
              "      <td>7</td>\n",
              "      <td>...</td>\n",
              "      <td>2</td>\n",
              "      <td>2</td>\n",
              "      <td>2</td>\n",
              "      <td>1</td>\n",
              "      <td>0</td>\n",
              "      <td>3</td>\n",
              "      <td>0</td>\n",
              "      <td>3</td>\n",
              "      <td>1</td>\n",
              "      <td>0</td>\n",
              "    </tr>\n",
              "    <tr>\n",
              "      <th>9</th>\n",
              "      <td>509</td>\n",
              "      <td>1</td>\n",
              "      <td>0.6</td>\n",
              "      <td>1</td>\n",
              "      <td>2</td>\n",
              "      <td>1</td>\n",
              "      <td>9</td>\n",
              "      <td>0.1</td>\n",
              "      <td>93</td>\n",
              "      <td>5</td>\n",
              "      <td>...</td>\n",
              "      <td>0</td>\n",
              "      <td>2</td>\n",
              "      <td>2</td>\n",
              "      <td>3</td>\n",
              "      <td>1</td>\n",
              "      <td>3</td>\n",
              "      <td>3</td>\n",
              "      <td>2</td>\n",
              "      <td>3</td>\n",
              "      <td>3</td>\n",
              "    </tr>\n",
              "    <tr>\n",
              "      <th>10</th>\n",
              "      <td>769</td>\n",
              "      <td>1</td>\n",
              "      <td>2.9</td>\n",
              "      <td>1</td>\n",
              "      <td>0</td>\n",
              "      <td>0</td>\n",
              "      <td>9</td>\n",
              "      <td>0.1</td>\n",
              "      <td>182</td>\n",
              "      <td>5</td>\n",
              "      <td>...</td>\n",
              "      <td>0</td>\n",
              "      <td>2</td>\n",
              "      <td>0</td>\n",
              "      <td>0</td>\n",
              "      <td>0</td>\n",
              "      <td>0</td>\n",
              "      <td>0</td>\n",
              "      <td>1</td>\n",
              "      <td>0</td>\n",
              "      <td>0</td>\n",
              "    </tr>\n",
              "    <tr>\n",
              "      <th>11</th>\n",
              "      <td>1520</td>\n",
              "      <td>1</td>\n",
              "      <td>2.2</td>\n",
              "      <td>0</td>\n",
              "      <td>5</td>\n",
              "      <td>1</td>\n",
              "      <td>33</td>\n",
              "      <td>0.5</td>\n",
              "      <td>177</td>\n",
              "      <td>8</td>\n",
              "      <td>...</td>\n",
              "      <td>1</td>\n",
              "      <td>3</td>\n",
              "      <td>3</td>\n",
              "      <td>0</td>\n",
              "      <td>1</td>\n",
              "      <td>2</td>\n",
              "      <td>2</td>\n",
              "      <td>2</td>\n",
              "      <td>0</td>\n",
              "      <td>3</td>\n",
              "    </tr>\n",
              "    <tr>\n",
              "      <th>12</th>\n",
              "      <td>1815</td>\n",
              "      <td>0</td>\n",
              "      <td>2.8</td>\n",
              "      <td>0</td>\n",
              "      <td>2</td>\n",
              "      <td>0</td>\n",
              "      <td>33</td>\n",
              "      <td>0.6</td>\n",
              "      <td>159</td>\n",
              "      <td>4</td>\n",
              "      <td>...</td>\n",
              "      <td>2</td>\n",
              "      <td>1</td>\n",
              "      <td>3</td>\n",
              "      <td>2</td>\n",
              "      <td>0</td>\n",
              "      <td>3</td>\n",
              "      <td>0</td>\n",
              "      <td>0</td>\n",
              "      <td>1</td>\n",
              "      <td>0</td>\n",
              "    </tr>\n",
              "    <tr>\n",
              "      <th>13</th>\n",
              "      <td>803</td>\n",
              "      <td>1</td>\n",
              "      <td>2.1</td>\n",
              "      <td>0</td>\n",
              "      <td>7</td>\n",
              "      <td>0</td>\n",
              "      <td>17</td>\n",
              "      <td>1.0</td>\n",
              "      <td>198</td>\n",
              "      <td>4</td>\n",
              "      <td>...</td>\n",
              "      <td>3</td>\n",
              "      <td>1</td>\n",
              "      <td>2</td>\n",
              "      <td>1</td>\n",
              "      <td>2</td>\n",
              "      <td>0</td>\n",
              "      <td>0</td>\n",
              "      <td>0</td>\n",
              "      <td>1</td>\n",
              "      <td>0</td>\n",
              "    </tr>\n",
              "    <tr>\n",
              "      <th>14</th>\n",
              "      <td>1866</td>\n",
              "      <td>0</td>\n",
              "      <td>0.5</td>\n",
              "      <td>0</td>\n",
              "      <td>13</td>\n",
              "      <td>1</td>\n",
              "      <td>52</td>\n",
              "      <td>0.7</td>\n",
              "      <td>185</td>\n",
              "      <td>1</td>\n",
              "      <td>...</td>\n",
              "      <td>2</td>\n",
              "      <td>0</td>\n",
              "      <td>3</td>\n",
              "      <td>1</td>\n",
              "      <td>0</td>\n",
              "      <td>2</td>\n",
              "      <td>2</td>\n",
              "      <td>0</td>\n",
              "      <td>0</td>\n",
              "      <td>3</td>\n",
              "    </tr>\n",
              "  </tbody>\n",
              "</table>\n",
              "<p>15 rows × 38 columns</p>\n",
              "</div>\n",
              "    <div class=\"colab-df-buttons\">\n",
              "\n",
              "  <div class=\"colab-df-container\">\n",
              "    <button class=\"colab-df-convert\" onclick=\"convertToInteractive('df-5f15538e-5f47-464f-80bc-2df652a4ea35')\"\n",
              "            title=\"Convert this dataframe to an interactive table.\"\n",
              "            style=\"display:none;\">\n",
              "\n",
              "  <svg xmlns=\"http://www.w3.org/2000/svg\" height=\"24px\" viewBox=\"0 -960 960 960\">\n",
              "    <path d=\"M120-120v-720h720v720H120Zm60-500h600v-160H180v160Zm220 220h160v-160H400v160Zm0 220h160v-160H400v160ZM180-400h160v-160H180v160Zm440 0h160v-160H620v160ZM180-180h160v-160H180v160Zm440 0h160v-160H620v160Z\"/>\n",
              "  </svg>\n",
              "    </button>\n",
              "\n",
              "  <style>\n",
              "    .colab-df-container {\n",
              "      display:flex;\n",
              "      gap: 12px;\n",
              "    }\n",
              "\n",
              "    .colab-df-convert {\n",
              "      background-color: #E8F0FE;\n",
              "      border: none;\n",
              "      border-radius: 50%;\n",
              "      cursor: pointer;\n",
              "      display: none;\n",
              "      fill: #1967D2;\n",
              "      height: 32px;\n",
              "      padding: 0 0 0 0;\n",
              "      width: 32px;\n",
              "    }\n",
              "\n",
              "    .colab-df-convert:hover {\n",
              "      background-color: #E2EBFA;\n",
              "      box-shadow: 0px 1px 2px rgba(60, 64, 67, 0.3), 0px 1px 3px 1px rgba(60, 64, 67, 0.15);\n",
              "      fill: #174EA6;\n",
              "    }\n",
              "\n",
              "    .colab-df-buttons div {\n",
              "      margin-bottom: 4px;\n",
              "    }\n",
              "\n",
              "    [theme=dark] .colab-df-convert {\n",
              "      background-color: #3B4455;\n",
              "      fill: #D2E3FC;\n",
              "    }\n",
              "\n",
              "    [theme=dark] .colab-df-convert:hover {\n",
              "      background-color: #434B5C;\n",
              "      box-shadow: 0px 1px 3px 1px rgba(0, 0, 0, 0.15);\n",
              "      filter: drop-shadow(0px 1px 2px rgba(0, 0, 0, 0.3));\n",
              "      fill: #FFFFFF;\n",
              "    }\n",
              "  </style>\n",
              "\n",
              "    <script>\n",
              "      const buttonEl =\n",
              "        document.querySelector('#df-5f15538e-5f47-464f-80bc-2df652a4ea35 button.colab-df-convert');\n",
              "      buttonEl.style.display =\n",
              "        google.colab.kernel.accessAllowed ? 'block' : 'none';\n",
              "\n",
              "      async function convertToInteractive(key) {\n",
              "        const element = document.querySelector('#df-5f15538e-5f47-464f-80bc-2df652a4ea35');\n",
              "        const dataTable =\n",
              "          await google.colab.kernel.invokeFunction('convertToInteractive',\n",
              "                                                    [key], {});\n",
              "        if (!dataTable) return;\n",
              "\n",
              "        const docLinkHtml = 'Like what you see? Visit the ' +\n",
              "          '<a target=\"_blank\" href=https://colab.research.google.com/notebooks/data_table.ipynb>data table notebook</a>'\n",
              "          + ' to learn more about interactive tables.';\n",
              "        element.innerHTML = '';\n",
              "        dataTable['output_type'] = 'display_data';\n",
              "        await google.colab.output.renderOutput(dataTable, element);\n",
              "        const docLink = document.createElement('div');\n",
              "        docLink.innerHTML = docLinkHtml;\n",
              "        element.appendChild(docLink);\n",
              "      }\n",
              "    </script>\n",
              "  </div>\n",
              "\n",
              "\n",
              "    <div id=\"df-6ab57871-cb0a-4bb5-9fdc-1bed8a42def0\">\n",
              "      <button class=\"colab-df-quickchart\" onclick=\"quickchart('df-6ab57871-cb0a-4bb5-9fdc-1bed8a42def0')\"\n",
              "                title=\"Suggest charts\"\n",
              "                style=\"display:none;\">\n",
              "\n",
              "<svg xmlns=\"http://www.w3.org/2000/svg\" height=\"24px\"viewBox=\"0 0 24 24\"\n",
              "     width=\"24px\">\n",
              "    <g>\n",
              "        <path d=\"M19 3H5c-1.1 0-2 .9-2 2v14c0 1.1.9 2 2 2h14c1.1 0 2-.9 2-2V5c0-1.1-.9-2-2-2zM9 17H7v-7h2v7zm4 0h-2V7h2v10zm4 0h-2v-4h2v4z\"/>\n",
              "    </g>\n",
              "</svg>\n",
              "      </button>\n",
              "\n",
              "<style>\n",
              "  .colab-df-quickchart {\n",
              "      --bg-color: #E8F0FE;\n",
              "      --fill-color: #1967D2;\n",
              "      --hover-bg-color: #E2EBFA;\n",
              "      --hover-fill-color: #174EA6;\n",
              "      --disabled-fill-color: #AAA;\n",
              "      --disabled-bg-color: #DDD;\n",
              "  }\n",
              "\n",
              "  [theme=dark] .colab-df-quickchart {\n",
              "      --bg-color: #3B4455;\n",
              "      --fill-color: #D2E3FC;\n",
              "      --hover-bg-color: #434B5C;\n",
              "      --hover-fill-color: #FFFFFF;\n",
              "      --disabled-bg-color: #3B4455;\n",
              "      --disabled-fill-color: #666;\n",
              "  }\n",
              "\n",
              "  .colab-df-quickchart {\n",
              "    background-color: var(--bg-color);\n",
              "    border: none;\n",
              "    border-radius: 50%;\n",
              "    cursor: pointer;\n",
              "    display: none;\n",
              "    fill: var(--fill-color);\n",
              "    height: 32px;\n",
              "    padding: 0;\n",
              "    width: 32px;\n",
              "  }\n",
              "\n",
              "  .colab-df-quickchart:hover {\n",
              "    background-color: var(--hover-bg-color);\n",
              "    box-shadow: 0 1px 2px rgba(60, 64, 67, 0.3), 0 1px 3px 1px rgba(60, 64, 67, 0.15);\n",
              "    fill: var(--button-hover-fill-color);\n",
              "  }\n",
              "\n",
              "  .colab-df-quickchart-complete:disabled,\n",
              "  .colab-df-quickchart-complete:disabled:hover {\n",
              "    background-color: var(--disabled-bg-color);\n",
              "    fill: var(--disabled-fill-color);\n",
              "    box-shadow: none;\n",
              "  }\n",
              "\n",
              "  .colab-df-spinner {\n",
              "    border: 2px solid var(--fill-color);\n",
              "    border-color: transparent;\n",
              "    border-bottom-color: var(--fill-color);\n",
              "    animation:\n",
              "      spin 1s steps(1) infinite;\n",
              "  }\n",
              "\n",
              "  @keyframes spin {\n",
              "    0% {\n",
              "      border-color: transparent;\n",
              "      border-bottom-color: var(--fill-color);\n",
              "      border-left-color: var(--fill-color);\n",
              "    }\n",
              "    20% {\n",
              "      border-color: transparent;\n",
              "      border-left-color: var(--fill-color);\n",
              "      border-top-color: var(--fill-color);\n",
              "    }\n",
              "    30% {\n",
              "      border-color: transparent;\n",
              "      border-left-color: var(--fill-color);\n",
              "      border-top-color: var(--fill-color);\n",
              "      border-right-color: var(--fill-color);\n",
              "    }\n",
              "    40% {\n",
              "      border-color: transparent;\n",
              "      border-right-color: var(--fill-color);\n",
              "      border-top-color: var(--fill-color);\n",
              "    }\n",
              "    60% {\n",
              "      border-color: transparent;\n",
              "      border-right-color: var(--fill-color);\n",
              "    }\n",
              "    80% {\n",
              "      border-color: transparent;\n",
              "      border-right-color: var(--fill-color);\n",
              "      border-bottom-color: var(--fill-color);\n",
              "    }\n",
              "    90% {\n",
              "      border-color: transparent;\n",
              "      border-bottom-color: var(--fill-color);\n",
              "    }\n",
              "  }\n",
              "</style>\n",
              "\n",
              "      <script>\n",
              "        async function quickchart(key) {\n",
              "          const quickchartButtonEl =\n",
              "            document.querySelector('#' + key + ' button');\n",
              "          quickchartButtonEl.disabled = true;  // To prevent multiple clicks.\n",
              "          quickchartButtonEl.classList.add('colab-df-spinner');\n",
              "          try {\n",
              "            const charts = await google.colab.kernel.invokeFunction(\n",
              "                'suggestCharts', [key], {});\n",
              "          } catch (error) {\n",
              "            console.error('Error during call to suggestCharts:', error);\n",
              "          }\n",
              "          quickchartButtonEl.classList.remove('colab-df-spinner');\n",
              "          quickchartButtonEl.classList.add('colab-df-quickchart-complete');\n",
              "        }\n",
              "        (() => {\n",
              "          let quickchartButtonEl =\n",
              "            document.querySelector('#df-6ab57871-cb0a-4bb5-9fdc-1bed8a42def0 button');\n",
              "          quickchartButtonEl.style.display =\n",
              "            google.colab.kernel.accessAllowed ? 'block' : 'none';\n",
              "        })();\n",
              "      </script>\n",
              "    </div>\n",
              "\n",
              "    </div>\n",
              "  </div>\n"
            ],
            "application/vnd.google.colaboratory.intrinsic+json": {
              "type": "dataframe",
              "variable_name": "df"
            }
          },
          "metadata": {},
          "execution_count": 136
        }
      ]
    },
    {
      "cell_type": "markdown",
      "source": [
        "### 6. Data Scaling"
      ],
      "metadata": {
        "id": "rMDnDkt2B6du"
      }
    },
    {
      "cell_type": "code",
      "source": [
        "# Scaling your data"
      ],
      "metadata": {
        "id": "dL9LWpySC6x_"
      },
      "execution_count": null,
      "outputs": []
    },
    {
      "cell_type": "markdown",
      "source": [
        "##### Which method have you used to scale you data and why?"
      ],
      "metadata": {
        "id": "yiiVWRdJDDil"
      }
    },
    {
      "cell_type": "markdown",
      "source": [
        "### 7. Dimesionality Reduction"
      ],
      "metadata": {
        "id": "1UUpS68QDMuG"
      }
    },
    {
      "cell_type": "markdown",
      "source": [
        "##### Do you think that dimensionality reduction is needed? Explain Why?"
      ],
      "metadata": {
        "id": "kexQrXU-DjzY"
      }
    },
    {
      "cell_type": "markdown",
      "source": [
        "Answer Here."
      ],
      "metadata": {
        "id": "GGRlBsSGDtTQ"
      }
    },
    {
      "cell_type": "code",
      "source": [
        "# DImensionality Reduction (If needed)"
      ],
      "metadata": {
        "id": "kQfvxBBHDvCa"
      },
      "execution_count": null,
      "outputs": []
    },
    {
      "cell_type": "markdown",
      "source": [
        "##### Which dimensionality reduction technique have you used and why? (If dimensionality reduction done on dataset.)"
      ],
      "metadata": {
        "id": "T5CmagL3EC8N"
      }
    },
    {
      "cell_type": "markdown",
      "source": [
        "Answer Here."
      ],
      "metadata": {
        "id": "ZKr75IDuEM7t"
      }
    },
    {
      "cell_type": "markdown",
      "source": [
        "### 8. Data Splitting"
      ],
      "metadata": {
        "id": "BhH2vgX9EjGr"
      }
    },
    {
      "cell_type": "code",
      "source": [
        "# Split your data to train and test. Choose Splitting ratio wisely."
      ],
      "metadata": {
        "id": "0CTyd2UwEyNM"
      },
      "execution_count": null,
      "outputs": []
    },
    {
      "cell_type": "markdown",
      "source": [
        "##### What data splitting ratio have you used and why?"
      ],
      "metadata": {
        "id": "qjKvONjwE8ra"
      }
    },
    {
      "cell_type": "markdown",
      "source": [
        "Answer Here."
      ],
      "metadata": {
        "id": "Y2lJ8cobFDb_"
      }
    },
    {
      "cell_type": "markdown",
      "source": [
        "### 9. Handling Imbalanced Dataset"
      ],
      "metadata": {
        "id": "P1XJ9OREExlT"
      }
    },
    {
      "cell_type": "markdown",
      "source": [
        "##### Do you think the dataset is imbalanced? Explain Why."
      ],
      "metadata": {
        "id": "VFOzZv6IFROw"
      }
    },
    {
      "cell_type": "markdown",
      "source": [
        "Answer Here."
      ],
      "metadata": {
        "id": "GeKDIv7pFgcC"
      }
    },
    {
      "cell_type": "code",
      "source": [
        "# Handling Imbalanced Dataset (If needed)"
      ],
      "metadata": {
        "id": "nQsRhhZLFiDs"
      },
      "execution_count": null,
      "outputs": []
    },
    {
      "cell_type": "markdown",
      "source": [
        "##### What technique did you use to handle the imbalance dataset and why? (If needed to be balanced)"
      ],
      "metadata": {
        "id": "TIqpNgepFxVj"
      }
    },
    {
      "cell_type": "markdown",
      "source": [
        "Answer Here."
      ],
      "metadata": {
        "id": "qbet1HwdGDTz"
      }
    },
    {
      "cell_type": "markdown",
      "source": [
        "## ***7. ML Model Implementation***"
      ],
      "metadata": {
        "id": "VfCC591jGiD4"
      }
    },
    {
      "cell_type": "markdown",
      "source": [
        "### ML Model - 1"
      ],
      "metadata": {
        "id": "OB4l2ZhMeS1U"
      }
    },
    {
      "cell_type": "code",
      "source": [
        "# ML Model - 1 Implementation\n",
        "\n",
        "# Fit the Algorithm\n",
        "\n",
        "# Predict on the model"
      ],
      "metadata": {
        "id": "7ebyywQieS1U"
      },
      "execution_count": null,
      "outputs": []
    },
    {
      "cell_type": "markdown",
      "source": [
        "#### 1. Explain the ML Model used and it's performance using Evaluation metric Score Chart."
      ],
      "metadata": {
        "id": "ArJBuiUVfxKd"
      }
    },
    {
      "cell_type": "code",
      "source": [
        "# Visualizing evaluation Metric Score chart"
      ],
      "metadata": {
        "id": "rqD5ZohzfxKe"
      },
      "execution_count": null,
      "outputs": []
    },
    {
      "cell_type": "markdown",
      "source": [
        "#### 2. Cross- Validation & Hyperparameter Tuning"
      ],
      "metadata": {
        "id": "4qY1EAkEfxKe"
      }
    },
    {
      "cell_type": "code",
      "source": [
        "# ML Model - 1 Implementation with hyperparameter optimization techniques (i.e., GridSearch CV, RandomSearch CV, Bayesian Optimization etc.)\n",
        "\n",
        "# Fit the Algorithm\n",
        "\n",
        "# Predict on the model"
      ],
      "metadata": {
        "id": "Dy61ujd6fxKe"
      },
      "execution_count": null,
      "outputs": []
    },
    {
      "cell_type": "markdown",
      "source": [
        "##### Which hyperparameter optimization technique have you used and why?"
      ],
      "metadata": {
        "id": "PiV4Ypx8fxKe"
      }
    },
    {
      "cell_type": "markdown",
      "source": [
        "Answer Here."
      ],
      "metadata": {
        "id": "negyGRa7fxKf"
      }
    },
    {
      "cell_type": "markdown",
      "source": [
        "##### Have you seen any improvement? Note down the improvement with updates Evaluation metric Score Chart."
      ],
      "metadata": {
        "id": "TfvqoZmBfxKf"
      }
    },
    {
      "cell_type": "markdown",
      "source": [
        "Answer Here."
      ],
      "metadata": {
        "id": "OaLui8CcfxKf"
      }
    },
    {
      "cell_type": "markdown",
      "source": [
        "### ML Model - 2"
      ],
      "metadata": {
        "id": "dJ2tPlVmpsJ0"
      }
    },
    {
      "cell_type": "markdown",
      "source": [
        "#### 1. Explain the ML Model used and it's performance using Evaluation metric Score Chart."
      ],
      "metadata": {
        "id": "JWYfwnehpsJ1"
      }
    },
    {
      "cell_type": "code",
      "source": [
        "# Visualizing evaluation Metric Score chart"
      ],
      "metadata": {
        "id": "yEl-hgQWpsJ1"
      },
      "execution_count": null,
      "outputs": []
    },
    {
      "cell_type": "markdown",
      "source": [
        "#### 2. Cross- Validation & Hyperparameter Tuning"
      ],
      "metadata": {
        "id": "-jK_YjpMpsJ2"
      }
    },
    {
      "cell_type": "code",
      "source": [
        "# ML Model - 1 Implementation with hyperparameter optimization techniques (i.e., GridSearch CV, RandomSearch CV, Bayesian Optimization etc.)\n",
        "\n",
        "# Fit the Algorithm\n",
        "\n",
        "# Predict on the model"
      ],
      "metadata": {
        "id": "Dn0EOfS6psJ2"
      },
      "execution_count": null,
      "outputs": []
    },
    {
      "cell_type": "markdown",
      "source": [
        "##### Which hyperparameter optimization technique have you used and why?"
      ],
      "metadata": {
        "id": "HAih1iBOpsJ2"
      }
    },
    {
      "cell_type": "markdown",
      "source": [
        "Answer Here."
      ],
      "metadata": {
        "id": "9kBgjYcdpsJ2"
      }
    },
    {
      "cell_type": "markdown",
      "source": [
        "##### Have you seen any improvement? Note down the improvement with updates Evaluation metric Score Chart."
      ],
      "metadata": {
        "id": "zVGeBEFhpsJ2"
      }
    },
    {
      "cell_type": "markdown",
      "source": [
        "Answer Here."
      ],
      "metadata": {
        "id": "74yRdG6UpsJ3"
      }
    },
    {
      "cell_type": "markdown",
      "source": [
        "#### 3. Explain each evaluation metric's indication towards business and the business impact pf the ML model used."
      ],
      "metadata": {
        "id": "bmKjuQ-FpsJ3"
      }
    },
    {
      "cell_type": "markdown",
      "source": [
        "Answer Here."
      ],
      "metadata": {
        "id": "BDKtOrBQpsJ3"
      }
    },
    {
      "cell_type": "markdown",
      "source": [
        "### ML Model - 3"
      ],
      "metadata": {
        "id": "Fze-IPXLpx6K"
      }
    },
    {
      "cell_type": "code",
      "source": [
        "# ML Model - 3 Implementation\n",
        "\n",
        "# Fit the Algorithm\n",
        "\n",
        "# Predict on the model"
      ],
      "metadata": {
        "id": "FFrSXAtrpx6M"
      },
      "execution_count": null,
      "outputs": []
    },
    {
      "cell_type": "markdown",
      "source": [
        "#### 1. Explain the ML Model used and it's performance using Evaluation metric Score Chart."
      ],
      "metadata": {
        "id": "7AN1z2sKpx6M"
      }
    },
    {
      "cell_type": "code",
      "source": [
        "# Visualizing evaluation Metric Score chart"
      ],
      "metadata": {
        "id": "xIY4lxxGpx6M"
      },
      "execution_count": null,
      "outputs": []
    },
    {
      "cell_type": "markdown",
      "source": [
        "#### 2. Cross- Validation & Hyperparameter Tuning"
      ],
      "metadata": {
        "id": "9PIHJqyupx6M"
      }
    },
    {
      "cell_type": "code",
      "source": [
        "# ML Model - 3 Implementation with hyperparameter optimization techniques (i.e., GridSearch CV, RandomSearch CV, Bayesian Optimization etc.)\n",
        "\n",
        "# Fit the Algorithm\n",
        "\n",
        "# Predict on the model"
      ],
      "metadata": {
        "id": "eSVXuaSKpx6M"
      },
      "execution_count": null,
      "outputs": []
    },
    {
      "cell_type": "markdown",
      "source": [
        "##### Which hyperparameter optimization technique have you used and why?"
      ],
      "metadata": {
        "id": "_-qAgymDpx6N"
      }
    },
    {
      "cell_type": "markdown",
      "source": [
        "Answer Here."
      ],
      "metadata": {
        "id": "lQMffxkwpx6N"
      }
    },
    {
      "cell_type": "markdown",
      "source": [
        "##### Have you seen any improvement? Note down the improvement with updates Evaluation metric Score Chart."
      ],
      "metadata": {
        "id": "Z-hykwinpx6N"
      }
    },
    {
      "cell_type": "markdown",
      "source": [
        "Answer Here."
      ],
      "metadata": {
        "id": "MzVzZC6opx6N"
      }
    },
    {
      "cell_type": "markdown",
      "source": [
        "### 1. Which Evaluation metrics did you consider for a positive business impact and why?"
      ],
      "metadata": {
        "id": "h_CCil-SKHpo"
      }
    },
    {
      "cell_type": "markdown",
      "source": [
        "Answer Here."
      ],
      "metadata": {
        "id": "jHVz9hHDKFms"
      }
    },
    {
      "cell_type": "markdown",
      "source": [
        "### 2. Which ML model did you choose from the above created models as your final prediction model and why?"
      ],
      "metadata": {
        "id": "cBFFvTBNJzUa"
      }
    },
    {
      "cell_type": "markdown",
      "source": [
        "Answer Here."
      ],
      "metadata": {
        "id": "6ksF5Q1LKTVm"
      }
    },
    {
      "cell_type": "markdown",
      "source": [
        "### 3. Explain the model which you have used and the feature importance using any model explainability tool?"
      ],
      "metadata": {
        "id": "HvGl1hHyA_VK"
      }
    },
    {
      "cell_type": "markdown",
      "source": [
        "Answer Here."
      ],
      "metadata": {
        "id": "YnvVTiIxBL-C"
      }
    },
    {
      "cell_type": "markdown",
      "source": [
        "# **Conclusion**"
      ],
      "metadata": {
        "id": "gCX9965dhzqZ"
      }
    },
    {
      "cell_type": "markdown",
      "source": [
        "Write the conclusion here."
      ],
      "metadata": {
        "id": "Fjb1IsQkh3yE"
      }
    },
    {
      "cell_type": "markdown",
      "source": [
        "### ***Hurrah! You have successfully completed your Machine Learning Capstone Project !!!***"
      ],
      "metadata": {
        "id": "gIfDvo9L0UH2"
      }
    }
  ]
}